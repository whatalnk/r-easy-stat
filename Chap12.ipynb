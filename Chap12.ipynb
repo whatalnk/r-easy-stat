{
 "cells": [
  {
   "cell_type": "markdown",
   "metadata": {},
   "source": [
    "# 第II部\n",
    "# 第12章 二項検定"
   ]
  },
  {
   "cell_type": "code",
   "execution_count": 1,
   "metadata": {
    "collapsed": false
   },
   "outputs": [
    {
     "name": "stderr",
     "output_type": "stream",
     "text": [
      "Loading required package: pipeR\n",
      "Loading required package: dplyr\n",
      "Warning message:\n",
      ": package 'dplyr' was built under R version 3.3.1\n",
      "Attaching package: 'dplyr'\n",
      "\n",
      "The following objects are masked from 'package:stats':\n",
      "\n",
      "    filter, lag\n",
      "\n",
      "The following objects are masked from 'package:base':\n",
      "\n",
      "    intersect, setdiff, setequal, union\n",
      "\n",
      "Loading required package: tidyr\n",
      "Loading required package: ggplot2\n",
      "Loading required package: readr\n",
      "Loading required package: readxl\n",
      "Loading required package: Cairo\n",
      "Loading required package: grid\n",
      "Loading required package: gridExtra\n",
      "Warning message:\n",
      ": package 'gridExtra' was built under R version 3.3.1\n",
      "Attaching package: 'gridExtra'\n",
      "\n",
      "The following object is masked from 'package:dplyr':\n",
      "\n",
      "    combine\n",
      "\n"
     ]
    },
    {
     "data": {
      "text/html": [
       "<dl class=dl-horizontal>\n",
       "\t<dt>pipeR</dt>\n",
       "\t\t<dd>TRUE</dd>\n",
       "\t<dt>dplyr</dt>\n",
       "\t\t<dd>TRUE</dd>\n",
       "\t<dt>tidyr</dt>\n",
       "\t\t<dd>TRUE</dd>\n",
       "\t<dt>ggplot2</dt>\n",
       "\t\t<dd>TRUE</dd>\n",
       "\t<dt>readr</dt>\n",
       "\t\t<dd>TRUE</dd>\n",
       "\t<dt>readxl</dt>\n",
       "\t\t<dd>TRUE</dd>\n",
       "\t<dt>Cairo</dt>\n",
       "\t\t<dd>TRUE</dd>\n",
       "\t<dt>grid</dt>\n",
       "\t\t<dd>TRUE</dd>\n",
       "\t<dt>gridExtra</dt>\n",
       "\t\t<dd>TRUE</dd>\n",
       "</dl>\n"
      ],
      "text/latex": [
       "\\begin{description*}\n",
       "\\item[pipeR] TRUE\n",
       "\\item[dplyr] TRUE\n",
       "\\item[tidyr] TRUE\n",
       "\\item[ggplot2] TRUE\n",
       "\\item[readr] TRUE\n",
       "\\item[readxl] TRUE\n",
       "\\item[Cairo] TRUE\n",
       "\\item[grid] TRUE\n",
       "\\item[gridExtra] TRUE\n",
       "\\end{description*}\n"
      ],
      "text/markdown": [
       "pipeR\n",
       ":   TRUEdplyr\n",
       ":   TRUEtidyr\n",
       ":   TRUEggplot2\n",
       ":   TRUEreadr\n",
       ":   TRUEreadxl\n",
       ":   TRUECairo\n",
       ":   TRUEgrid\n",
       ":   TRUEgridExtra\n",
       ":   TRUE\n",
       "\n"
      ],
      "text/plain": [
       "    pipeR     dplyr     tidyr   ggplot2     readr    readxl     Cairo      grid \n",
       "     TRUE      TRUE      TRUE      TRUE      TRUE      TRUE      TRUE      TRUE \n",
       "gridExtra \n",
       "     TRUE "
      ]
     },
     "metadata": {},
     "output_type": "display_data"
    }
   ],
   "source": [
    "sapply(c(\"pipeR\", \"dplyr\", \"tidyr\", \"ggplot2\", \"readr\", \"readxl\", \"Cairo\", \"grid\", \"gridExtra\"), \n",
    "       require, character.only = TRUE)"
   ]
  },
  {
   "cell_type": "markdown",
   "metadata": {},
   "source": [
    "* 日ハム : 楽天 = 17:3\n",
    "* 日ハムの方が強いか => 勝つ確率が0.5より大きいかどうか => 帰無仮説: 勝つ確率は0.5（片側検定）"
   ]
  },
  {
   "cell_type": "markdown",
   "metadata": {},
   "source": [
    "勝つ確率が0.5の時に17勝する確率は"
   ]
  },
  {
   "cell_type": "code",
   "execution_count": 2,
   "metadata": {
    "collapsed": false,
    "scrolled": true
   },
   "outputs": [
    {
     "data": {
      "text/html": [
       "0.00108718872070313"
      ],
      "text/latex": [
       "0.00108718872070313"
      ],
      "text/markdown": [
       "0.00108718872070313"
      ],
      "text/plain": [
       "[1] 0.001087189"
      ]
     },
     "metadata": {},
     "output_type": "display_data"
    }
   ],
   "source": [
    "dbinom(17, 20, 0.5)"
   ]
  },
  {
   "cell_type": "code",
   "execution_count": 3,
   "metadata": {
    "collapsed": true
   },
   "outputs": [],
   "source": [
    "options(repr.plot.width = 4, repr.plot.height = 4)"
   ]
  },
  {
   "cell_type": "code",
   "execution_count": 4,
   "metadata": {
    "collapsed": false
   },
   "outputs": [
    {
     "data": {
      "text/plain": []
     },
     "metadata": {},
     "output_type": "display_data"
    },
    {
     "data": {
      "image/png": "[encoded data removed]",
      "image/svg+xml": [
       "<?xml version=\"1.0\" encoding=\"UTF-8\"?>\n",
       "<svg xmlns=\"http://www.w3.org/2000/svg\" xmlns:xlink=\"http://www.w3.org/1999/xlink\" width=\"288pt\" height=\"288pt\" viewBox=\"0 0 288 288\" version=\"1.1\">\n",
       "<defs>\n",
       "<g>\n",
       "<symbol overflow=\"visible\" id=\"glyph0-0\">\n",
       "<path style=\"stroke:none;\" d=\"M 0.386719 -3.28125 C 0.386719 -4.070313 0.464844 -4.703125 0.628906 -5.183594 C 0.785156 -5.660156 1.027344 -6.03125 1.347656 -6.292969 C 1.667969 -6.550781 2.070313 -6.679688 2.554688 -6.683594 C 2.914063 -6.679688 3.226563 -6.609375 3.496094 -6.46875 C 3.765625 -6.324219 3.988281 -6.117188 4.164063 -5.847656 C 4.335938 -5.574219 4.472656 -5.242188 4.574219 -4.855469 C 4.671875 -4.464844 4.722656 -3.941406 4.726563 -3.28125 C 4.722656 -2.5 4.640625 -1.867188 4.484375 -1.390625 C 4.320313 -0.90625 4.082031 -0.535156 3.765625 -0.277344 C 3.445313 -0.015625 3.042969 0.109375 2.554688 0.113281 C 1.914063 0.109375 1.410156 -0.117188 1.042969 -0.578125 C 0.605469 -1.128906 0.386719 -2.03125 0.386719 -3.28125 Z M 1.226563 -3.28125 C 1.222656 -2.1875 1.351563 -1.460938 1.609375 -1.101563 C 1.863281 -0.738281 2.179688 -0.554688 2.554688 -0.558594 C 2.929688 -0.554688 3.246094 -0.738281 3.503906 -1.101563 C 3.757813 -1.464844 3.882813 -2.191406 3.886719 -3.28125 C 3.882813 -4.375 3.757813 -5.101563 3.503906 -5.464844 C 3.246094 -5.824219 2.925781 -6.003906 2.546875 -6.007813 C 2.167969 -6.003906 1.867188 -5.847656 1.648438 -5.53125 C 1.363281 -5.125 1.222656 -4.375 1.226563 -3.28125 Z M 1.226563 -3.28125 \"/>\n",
       "</symbol>\n",
       "<symbol overflow=\"visible\" id=\"glyph0-1\">\n",
       "<path style=\"stroke:none;\" d=\"M 0.84375 0 L 0.84375 -0.929688 L 1.777344 -0.929688 L 1.777344 0 Z M 0.84375 0 \"/>\n",
       "</symbol>\n",
       "<symbol overflow=\"visible\" id=\"glyph0-2\">\n",
       "<path style=\"stroke:none;\" d=\"M 0.386719 -1.742188 L 1.246094 -1.816406 C 1.304688 -1.398438 1.453125 -1.082031 1.6875 -0.875 C 1.917969 -0.660156 2.195313 -0.554688 2.523438 -0.558594 C 2.914063 -0.554688 3.246094 -0.703125 3.523438 -1.003906 C 3.792969 -1.296875 3.929688 -1.691406 3.933594 -2.183594 C 3.929688 -2.648438 3.800781 -3.015625 3.539063 -3.285156 C 3.277344 -3.554688 2.933594 -3.691406 2.511719 -3.691406 C 2.246094 -3.691406 2.007813 -3.628906 1.796875 -3.511719 C 1.582031 -3.386719 1.414063 -3.234375 1.296875 -3.046875 L 0.53125 -3.148438 L 1.175781 -6.566406 L 4.488281 -6.566406 L 4.488281 -5.785156 L 1.828125 -5.785156 L 1.472656 -3.996094 C 1.867188 -4.273438 2.289063 -4.410156 2.730469 -4.414063 C 3.308594 -4.410156 3.796875 -4.210938 4.199219 -3.808594 C 4.597656 -3.40625 4.796875 -2.886719 4.800781 -2.257813 C 4.796875 -1.648438 4.621094 -1.128906 4.273438 -0.695313 C 3.84375 -0.15625 3.261719 0.109375 2.523438 0.113281 C 1.917969 0.109375 1.425781 -0.0546875 1.042969 -0.394531 C 0.660156 -0.730469 0.441406 -1.179688 0.386719 -1.742188 Z M 0.386719 -1.742188 \"/>\n",
       "</symbol>\n",
       "<symbol overflow=\"visible\" id=\"glyph0-3\">\n",
       "<path style=\"stroke:none;\" d=\"M 3.464844 0 L 2.648438 0 L 2.648438 -5.207031 C 2.449219 -5.015625 2.1875 -4.828125 1.871094 -4.644531 C 1.550781 -4.453125 1.265625 -4.3125 1.011719 -4.222656 L 1.011719 -5.011719 C 1.46875 -5.222656 1.867188 -5.484375 2.210938 -5.792969 C 2.550781 -6.097656 2.792969 -6.394531 2.9375 -6.683594 L 3.464844 -6.683594 Z M 3.464844 0 \"/>\n",
       "</symbol>\n",
       "<symbol overflow=\"visible\" id=\"glyph0-4\">\n",
       "<path style=\"stroke:none;\" d=\"M 4.683594 -0.785156 L 4.683594 0 L 0.28125 0 C 0.273438 -0.195313 0.304688 -0.382813 0.375 -0.566406 C 0.488281 -0.863281 0.667969 -1.160156 0.914063 -1.453125 C 1.160156 -1.742188 1.515625 -2.078125 1.984375 -2.460938 C 2.707031 -3.054688 3.195313 -3.523438 3.449219 -3.871094 C 3.703125 -4.214844 3.832031 -4.542969 3.832031 -4.855469 C 3.832031 -5.175781 3.714844 -5.449219 3.484375 -5.671875 C 3.25 -5.894531 2.949219 -6.003906 2.578125 -6.007813 C 2.183594 -6.003906 1.867188 -5.886719 1.632813 -5.652344 C 1.394531 -5.414063 1.277344 -5.085938 1.277344 -4.671875 L 0.4375 -4.757813 C 0.492188 -5.382813 0.707031 -5.859375 1.085938 -6.191406 C 1.457031 -6.515625 1.960938 -6.679688 2.597656 -6.683594 C 3.230469 -6.679688 3.738281 -6.503906 4.113281 -6.152344 C 4.484375 -5.796875 4.667969 -5.355469 4.671875 -4.835938 C 4.667969 -4.566406 4.613281 -4.304688 4.507813 -4.050781 C 4.398438 -3.789063 4.21875 -3.519531 3.964844 -3.238281 C 3.710938 -2.953125 3.292969 -2.5625 2.707031 -2.066406 C 2.214844 -1.652344 1.898438 -1.371094 1.761719 -1.226563 C 1.621094 -1.078125 1.507813 -0.933594 1.417969 -0.785156 Z M 4.683594 -0.785156 \"/>\n",
       "</symbol>\n",
       "<symbol overflow=\"visible\" id=\"glyph1-0\">\n",
       "<path style=\"stroke:none;\" d=\"M 0.0859375 0 L 2.261719 -3.101563 L 0.246094 -5.964844 L 1.511719 -5.964844 L 2.425781 -4.566406 C 2.597656 -4.296875 2.734375 -4.074219 2.839844 -3.898438 C 3.003906 -4.140625 3.15625 -4.359375 3.296875 -4.554688 L 4.300781 -5.964844 L 5.507813 -5.964844 L 3.449219 -3.15625 L 5.664063 0 L 4.425781 0 L 3.199219 -1.851563 L 2.875 -2.351563 L 1.308594 0 Z M 0.0859375 0 \"/>\n",
       "</symbol>\n",
       "<symbol overflow=\"visible\" id=\"glyph2-0\">\n",
       "<path style=\"stroke:none;\" d=\"M 2.296875 -0.714844 L 1.347656 -0.601563 C 1.40625 -0.820313 1.433594 -1.011719 1.4375 -1.179688 C 1.433594 -1.398438 1.398438 -1.578125 1.324219 -1.71875 C 1.25 -1.851563 1.144531 -1.964844 1.011719 -2.050781 C 0.90625 -2.113281 0.65625 -2.214844 0.257813 -2.359375 C 0.203125 -2.375 0.121094 -2.40625 0.0117188 -2.449219 L -5.964844 -0.183594 L -5.964844 -1.273438 L -2.511719 -2.515625 C -2.070313 -2.671875 -1.609375 -2.816406 -1.128906 -2.949219 C -1.589844 -3.058594 -2.042969 -3.199219 -2.488281 -3.363281 L -5.964844 -4.636719 L -5.964844 -5.648438 L 0.101563 -3.378906 C 0.75 -3.132813 1.203125 -2.945313 1.453125 -2.8125 C 1.785156 -2.632813 2.027344 -2.425781 2.1875 -2.195313 C 2.339844 -1.960938 2.417969 -1.683594 2.421875 -1.363281 C 2.417969 -1.167969 2.378906 -0.953125 2.296875 -0.714844 Z M 2.296875 -0.714844 \"/>\n",
       "</symbol>\n",
       "</g>\n",
       "<clipPath id=\"clip1\">\n",
       "  <path d=\"M 43.320313 5.480469 L 283.523438 5.480469 L 283.523438 257.125 L 43.320313 257.125 Z M 43.320313 5.480469 \"/>\n",
       "</clipPath>\n",
       "</defs>\n",
       "<g id=\"surface23\">\n",
       "<rect x=\"0\" y=\"0\" width=\"288\" height=\"288\" style=\"fill:rgb(100%,100%,100%);fill-opacity:1;stroke:none;\"/>\n",
       "<rect x=\"0\" y=\"0\" width=\"288\" height=\"288\" style=\"fill:rgb(100%,100%,100%);fill-opacity:1;stroke:none;\"/>\n",
       "<path style=\"fill:none;stroke-width:1.422638;stroke-linecap:round;stroke-linejoin:round;stroke:rgb(100%,100%,100%);stroke-opacity:1;stroke-miterlimit:10;\" d=\"M 0 0 L 288 0 L 288 288 L 0 288 Z M 0 0 \"/>\n",
       "<g clip-path=\"url(#clip1)\" clip-rule=\"nonzero\">\n",
       "<path style=\" stroke:none;fill-rule:nonzero;fill:rgb(92.156863%,92.156863%,92.156863%);fill-opacity:1;\" d=\"M 43.320313 5.480469 L 282.523438 5.480469 L 282.523438 256.125 L 43.320313 256.125 Z M 43.320313 5.480469 \"/>\n",
       "<path style=\"fill:none;stroke-width:0.711319;stroke-linecap:butt;stroke-linejoin:round;stroke:rgb(100%,100%,100%);stroke-opacity:1;stroke-miterlimit:10;\" d=\"M 43.320313 212.402344 L 282.519531 212.402344 \"/>\n",
       "<path style=\"fill:none;stroke-width:0.711319;stroke-linecap:butt;stroke-linejoin:round;stroke:rgb(100%,100%,100%);stroke-opacity:1;stroke-miterlimit:10;\" d=\"M 43.320313 147.742188 L 282.519531 147.742188 \"/>\n",
       "<path style=\"fill:none;stroke-width:0.711319;stroke-linecap:butt;stroke-linejoin:round;stroke:rgb(100%,100%,100%);stroke-opacity:1;stroke-miterlimit:10;\" d=\"M 43.320313 83.082031 L 282.519531 83.082031 \"/>\n",
       "<path style=\"fill:none;stroke-width:0.711319;stroke-linecap:butt;stroke-linejoin:round;stroke:rgb(100%,100%,100%);stroke-opacity:1;stroke-miterlimit:10;\" d=\"M 43.320313 18.421875 L 282.519531 18.421875 \"/>\n",
       "<path style=\"fill:none;stroke-width:0.711319;stroke-linecap:butt;stroke-linejoin:round;stroke:rgb(100%,100%,100%);stroke-opacity:1;stroke-miterlimit:10;\" d=\"M 81.375 256.125 L 81.375 5.480469 \"/>\n",
       "<path style=\"fill:none;stroke-width:0.711319;stroke-linecap:butt;stroke-linejoin:round;stroke:rgb(100%,100%,100%);stroke-opacity:1;stroke-miterlimit:10;\" d=\"M 135.738281 256.125 L 135.738281 5.480469 \"/>\n",
       "<path style=\"fill:none;stroke-width:0.711319;stroke-linecap:butt;stroke-linejoin:round;stroke:rgb(100%,100%,100%);stroke-opacity:1;stroke-miterlimit:10;\" d=\"M 190.101563 256.125 L 190.101563 5.480469 \"/>\n",
       "<path style=\"fill:none;stroke-width:0.711319;stroke-linecap:butt;stroke-linejoin:round;stroke:rgb(100%,100%,100%);stroke-opacity:1;stroke-miterlimit:10;\" d=\"M 244.464844 256.125 L 244.464844 5.480469 \"/>\n",
       "<path style=\"fill:none;stroke-width:1.422638;stroke-linecap:butt;stroke-linejoin:round;stroke:rgb(100%,100%,100%);stroke-opacity:1;stroke-miterlimit:10;\" d=\"M 43.320313 244.734375 L 282.519531 244.734375 \"/>\n",
       "<path style=\"fill:none;stroke-width:1.422638;stroke-linecap:butt;stroke-linejoin:round;stroke:rgb(100%,100%,100%);stroke-opacity:1;stroke-miterlimit:10;\" d=\"M 43.320313 180.070313 L 282.519531 180.070313 \"/>\n",
       "<path style=\"fill:none;stroke-width:1.422638;stroke-linecap:butt;stroke-linejoin:round;stroke:rgb(100%,100%,100%);stroke-opacity:1;stroke-miterlimit:10;\" d=\"M 43.320313 115.410156 L 282.519531 115.410156 \"/>\n",
       "<path style=\"fill:none;stroke-width:1.422638;stroke-linecap:butt;stroke-linejoin:round;stroke:rgb(100%,100%,100%);stroke-opacity:1;stroke-miterlimit:10;\" d=\"M 43.320313 50.75 L 282.519531 50.75 \"/>\n",
       "<path style=\"fill:none;stroke-width:1.422638;stroke-linecap:butt;stroke-linejoin:round;stroke:rgb(100%,100%,100%);stroke-opacity:1;stroke-miterlimit:10;\" d=\"M 54.191406 256.125 L 54.191406 5.480469 \"/>\n",
       "<path style=\"fill:none;stroke-width:1.422638;stroke-linecap:butt;stroke-linejoin:round;stroke:rgb(100%,100%,100%);stroke-opacity:1;stroke-miterlimit:10;\" d=\"M 108.554688 256.125 L 108.554688 5.480469 \"/>\n",
       "<path style=\"fill:none;stroke-width:1.422638;stroke-linecap:butt;stroke-linejoin:round;stroke:rgb(100%,100%,100%);stroke-opacity:1;stroke-miterlimit:10;\" d=\"M 162.917969 256.125 L 162.917969 5.480469 \"/>\n",
       "<path style=\"fill:none;stroke-width:1.422638;stroke-linecap:butt;stroke-linejoin:round;stroke:rgb(100%,100%,100%);stroke-opacity:1;stroke-miterlimit:10;\" d=\"M 217.285156 256.125 L 217.285156 5.480469 \"/>\n",
       "<path style=\"fill:none;stroke-width:1.422638;stroke-linecap:butt;stroke-linejoin:round;stroke:rgb(100%,100%,100%);stroke-opacity:1;stroke-miterlimit:10;\" d=\"M 271.648438 256.125 L 271.648438 5.480469 \"/>\n",
       "<path style=\"fill-rule:nonzero;fill:rgb(0%,0%,0%);fill-opacity:1;stroke-width:0.944882;stroke-linecap:round;stroke-linejoin:round;stroke:rgb(0%,0%,0%);stroke-opacity:1;stroke-miterlimit:10;\" d=\"M 56.644531 244.730469 C 56.644531 248.003906 51.738281 248.003906 51.738281 244.730469 C 51.738281 241.457031 56.644531 241.457031 56.644531 244.730469 \"/>\n",
       "<path style=\"fill-rule:nonzero;fill:rgb(0%,0%,0%);fill-opacity:1;stroke-width:0.944882;stroke-linecap:round;stroke-linejoin:round;stroke:rgb(0%,0%,0%);stroke-opacity:1;stroke-miterlimit:10;\" d=\"M 67.519531 244.707031 C 67.519531 247.980469 62.609375 247.980469 62.609375 244.707031 C 62.609375 241.433594 67.519531 241.433594 67.519531 244.707031 \"/>\n",
       "<path style=\"fill-rule:nonzero;fill:rgb(0%,0%,0%);fill-opacity:1;stroke-width:0.944882;stroke-linecap:round;stroke-linejoin:round;stroke:rgb(0%,0%,0%);stroke-opacity:1;stroke-miterlimit:10;\" d=\"M 78.390625 244.5 C 78.390625 247.773438 73.480469 247.773438 73.480469 244.5 C 73.480469 241.226563 78.390625 241.226563 78.390625 244.5 \"/>\n",
       "<path style=\"fill-rule:nonzero;fill:rgb(0%,0%,0%);fill-opacity:1;stroke-width:0.944882;stroke-linecap:round;stroke-linejoin:round;stroke:rgb(0%,0%,0%);stroke-opacity:1;stroke-miterlimit:10;\" d=\"M 89.265625 243.328125 C 89.265625 246.601563 84.355469 246.601563 84.355469 243.328125 C 84.355469 240.054688 89.265625 240.054688 89.265625 243.328125 \"/>\n",
       "<path style=\"fill-rule:nonzero;fill:rgb(0%,0%,0%);fill-opacity:1;stroke-width:0.944882;stroke-linecap:round;stroke-linejoin:round;stroke:rgb(0%,0%,0%);stroke-opacity:1;stroke-miterlimit:10;\" d=\"M 100.136719 238.757813 C 100.136719 242.03125 95.226563 242.03125 95.226563 238.757813 C 95.226563 235.484375 100.136719 235.484375 100.136719 238.757813 \"/>\n",
       "<path style=\"fill-rule:nonzero;fill:rgb(0%,0%,0%);fill-opacity:1;stroke-width:0.944882;stroke-linecap:round;stroke-linejoin:round;stroke:rgb(0%,0%,0%);stroke-opacity:1;stroke-miterlimit:10;\" d=\"M 111.011719 225.613281 C 111.011719 228.886719 106.101563 228.886719 106.101563 225.613281 C 106.101563 222.339844 111.011719 222.339844 111.011719 225.613281 \"/>\n",
       "<path style=\"fill-rule:nonzero;fill:rgb(0%,0%,0%);fill-opacity:1;stroke-width:0.944882;stroke-linecap:round;stroke-linejoin:round;stroke:rgb(0%,0%,0%);stroke-opacity:1;stroke-miterlimit:10;\" d=\"M 121.882813 196.929688 C 121.882813 200.203125 116.972656 200.203125 116.972656 196.929688 C 116.972656 193.65625 121.882813 193.65625 121.882813 196.929688 \"/>\n",
       "<path style=\"fill-rule:nonzero;fill:rgb(0%,0%,0%);fill-opacity:1;stroke-width:0.944882;stroke-linecap:round;stroke-linejoin:round;stroke:rgb(0%,0%,0%);stroke-opacity:1;stroke-miterlimit:10;\" d=\"M 132.757813 149.128906 C 132.757813 152.398438 127.847656 152.398438 127.847656 149.128906 C 127.847656 145.855469 132.757813 145.855469 132.757813 149.128906 \"/>\n",
       "<path style=\"fill-rule:nonzero;fill:rgb(0%,0%,0%);fill-opacity:1;stroke-width:0.944882;stroke-linecap:round;stroke-linejoin:round;stroke:rgb(0%,0%,0%);stroke-opacity:1;stroke-miterlimit:10;\" d=\"M 143.628906 89.375 C 143.628906 92.648438 138.71875 92.648438 138.71875 89.375 C 138.71875 86.101563 143.628906 86.101563 143.628906 89.375 \"/>\n",
       "<path style=\"fill-rule:nonzero;fill:rgb(0%,0%,0%);fill-opacity:1;stroke-width:0.944882;stroke-linecap:round;stroke-linejoin:round;stroke:rgb(0%,0%,0%);stroke-opacity:1;stroke-miterlimit:10;\" d=\"M 154.5 37.585938 C 154.5 40.859375 149.59375 40.859375 149.59375 37.585938 C 149.59375 34.3125 154.5 34.3125 154.5 37.585938 \"/>\n",
       "<path style=\"fill-rule:nonzero;fill:rgb(0%,0%,0%);fill-opacity:1;stroke-width:0.944882;stroke-linecap:round;stroke-linejoin:round;stroke:rgb(0%,0%,0%);stroke-opacity:1;stroke-miterlimit:10;\" d=\"M 165.375 16.871094 C 165.375 20.144531 160.464844 20.144531 160.464844 16.871094 C 160.464844 13.597656 165.375 13.597656 165.375 16.871094 \"/>\n",
       "<path style=\"fill-rule:nonzero;fill:rgb(0%,0%,0%);fill-opacity:1;stroke-width:0.944882;stroke-linecap:round;stroke-linejoin:round;stroke:rgb(0%,0%,0%);stroke-opacity:1;stroke-miterlimit:10;\" d=\"M 176.246094 37.585938 C 176.246094 40.859375 171.335938 40.859375 171.335938 37.585938 C 171.335938 34.3125 176.246094 34.3125 176.246094 37.585938 \"/>\n",
       "<path style=\"fill-rule:nonzero;fill:rgb(0%,0%,0%);fill-opacity:1;stroke-width:0.944882;stroke-linecap:round;stroke-linejoin:round;stroke:rgb(0%,0%,0%);stroke-opacity:1;stroke-miterlimit:10;\" d=\"M 187.121094 89.375 C 187.121094 92.648438 182.210938 92.648438 182.210938 89.375 C 182.210938 86.101563 187.121094 86.101563 187.121094 89.375 \"/>\n",
       "<path style=\"fill-rule:nonzero;fill:rgb(0%,0%,0%);fill-opacity:1;stroke-width:0.944882;stroke-linecap:round;stroke-linejoin:round;stroke:rgb(0%,0%,0%);stroke-opacity:1;stroke-miterlimit:10;\" d=\"M 197.992188 149.128906 C 197.992188 152.398438 193.082031 152.398438 193.082031 149.128906 C 193.082031 145.855469 197.992188 145.855469 197.992188 149.128906 \"/>\n",
       "<path style=\"fill-rule:nonzero;fill:rgb(0%,0%,0%);fill-opacity:1;stroke-width:0.944882;stroke-linecap:round;stroke-linejoin:round;stroke:rgb(0%,0%,0%);stroke-opacity:1;stroke-miterlimit:10;\" d=\"M 208.867188 196.929688 C 208.867188 200.203125 203.957031 200.203125 203.957031 196.929688 C 203.957031 193.65625 208.867188 193.65625 208.867188 196.929688 \"/>\n",
       "<path style=\"fill-rule:nonzero;fill:rgb(0%,0%,0%);fill-opacity:1;stroke-width:0.944882;stroke-linecap:round;stroke-linejoin:round;stroke:rgb(0%,0%,0%);stroke-opacity:1;stroke-miterlimit:10;\" d=\"M 219.738281 225.613281 C 219.738281 228.886719 214.828125 228.886719 214.828125 225.613281 C 214.828125 222.339844 219.738281 222.339844 219.738281 225.613281 \"/>\n",
       "<path style=\"fill-rule:nonzero;fill:rgb(0%,0%,0%);fill-opacity:1;stroke-width:0.944882;stroke-linecap:round;stroke-linejoin:round;stroke:rgb(0%,0%,0%);stroke-opacity:1;stroke-miterlimit:10;\" d=\"M 230.609375 238.757813 C 230.609375 242.03125 225.703125 242.03125 225.703125 238.757813 C 225.703125 235.484375 230.609375 235.484375 230.609375 238.757813 \"/>\n",
       "<path style=\"fill-rule:nonzero;fill:rgb(0%,0%,0%);fill-opacity:1;stroke-width:0.944882;stroke-linecap:round;stroke-linejoin:round;stroke:rgb(0%,0%,0%);stroke-opacity:1;stroke-miterlimit:10;\" d=\"M 241.484375 243.328125 C 241.484375 246.601563 236.574219 246.601563 236.574219 243.328125 C 236.574219 240.054688 241.484375 240.054688 241.484375 243.328125 \"/>\n",
       "<path style=\"fill-rule:nonzero;fill:rgb(0%,0%,0%);fill-opacity:1;stroke-width:0.944882;stroke-linecap:round;stroke-linejoin:round;stroke:rgb(0%,0%,0%);stroke-opacity:1;stroke-miterlimit:10;\" d=\"M 252.355469 244.5 C 252.355469 247.773438 247.449219 247.773438 247.449219 244.5 C 247.449219 241.226563 252.355469 241.226563 252.355469 244.5 \"/>\n",
       "<path style=\"fill-rule:nonzero;fill:rgb(0%,0%,0%);fill-opacity:1;stroke-width:0.944882;stroke-linecap:round;stroke-linejoin:round;stroke:rgb(0%,0%,0%);stroke-opacity:1;stroke-miterlimit:10;\" d=\"M 263.230469 244.707031 C 263.230469 247.980469 258.320313 247.980469 258.320313 244.707031 C 258.320313 241.433594 263.230469 241.433594 263.230469 244.707031 \"/>\n",
       "<path style=\"fill-rule:nonzero;fill:rgb(0%,0%,0%);fill-opacity:1;stroke-width:0.944882;stroke-linecap:round;stroke-linejoin:round;stroke:rgb(0%,0%,0%);stroke-opacity:1;stroke-miterlimit:10;\" d=\"M 274.101563 244.730469 C 274.101563 248.003906 269.191406 248.003906 269.191406 244.730469 C 269.191406 241.457031 274.101563 241.457031 274.101563 244.730469 \"/>\n",
       "</g>\n",
       "<g style=\"fill:rgb(30.196078%,30.196078%,30.196078%);fill-opacity:1;\">\n",
       "  <use xlink:href=\"#glyph0-0\" x=\"20.285156\" y=\"248.0625\"/>\n",
       "  <use xlink:href=\"#glyph0-1\" x=\"25.457373\" y=\"248.0625\"/>\n",
       "  <use xlink:href=\"#glyph0-0\" x=\"28.041211\" y=\"248.0625\"/>\n",
       "  <use xlink:href=\"#glyph0-0\" x=\"33.213428\" y=\"248.0625\"/>\n",
       "</g>\n",
       "<g style=\"fill:rgb(30.196078%,30.196078%,30.196078%);fill-opacity:1;\">\n",
       "  <use xlink:href=\"#glyph0-0\" x=\"20.285156\" y=\"183.402344\"/>\n",
       "  <use xlink:href=\"#glyph0-1\" x=\"25.457373\" y=\"183.402344\"/>\n",
       "  <use xlink:href=\"#glyph0-0\" x=\"28.041211\" y=\"183.402344\"/>\n",
       "  <use xlink:href=\"#glyph0-2\" x=\"33.213428\" y=\"183.402344\"/>\n",
       "</g>\n",
       "<g style=\"fill:rgb(30.196078%,30.196078%,30.196078%);fill-opacity:1;\">\n",
       "  <use xlink:href=\"#glyph0-0\" x=\"20.285156\" y=\"118.738281\"/>\n",
       "  <use xlink:href=\"#glyph0-1\" x=\"25.457373\" y=\"118.738281\"/>\n",
       "  <use xlink:href=\"#glyph0-3\" x=\"28.041211\" y=\"118.738281\"/>\n",
       "  <use xlink:href=\"#glyph0-0\" x=\"33.213428\" y=\"118.738281\"/>\n",
       "</g>\n",
       "<g style=\"fill:rgb(30.196078%,30.196078%,30.196078%);fill-opacity:1;\">\n",
       "  <use xlink:href=\"#glyph0-0\" x=\"20.285156\" y=\"54.078125\"/>\n",
       "  <use xlink:href=\"#glyph0-1\" x=\"25.457373\" y=\"54.078125\"/>\n",
       "  <use xlink:href=\"#glyph0-3\" x=\"28.041211\" y=\"54.078125\"/>\n",
       "  <use xlink:href=\"#glyph0-2\" x=\"33.213428\" y=\"54.078125\"/>\n",
       "</g>\n",
       "<path style=\"fill:none;stroke-width:1.422638;stroke-linecap:butt;stroke-linejoin:round;stroke:rgb(20%,20%,20%);stroke-opacity:1;stroke-miterlimit:10;\" d=\"M 40.578125 244.734375 L 43.320313 244.734375 \"/>\n",
       "<path style=\"fill:none;stroke-width:1.422638;stroke-linecap:butt;stroke-linejoin:round;stroke:rgb(20%,20%,20%);stroke-opacity:1;stroke-miterlimit:10;\" d=\"M 40.578125 180.070313 L 43.320313 180.070313 \"/>\n",
       "<path style=\"fill:none;stroke-width:1.422638;stroke-linecap:butt;stroke-linejoin:round;stroke:rgb(20%,20%,20%);stroke-opacity:1;stroke-miterlimit:10;\" d=\"M 40.578125 115.410156 L 43.320313 115.410156 \"/>\n",
       "<path style=\"fill:none;stroke-width:1.422638;stroke-linecap:butt;stroke-linejoin:round;stroke:rgb(20%,20%,20%);stroke-opacity:1;stroke-miterlimit:10;\" d=\"M 40.578125 50.75 L 43.320313 50.75 \"/>\n",
       "<path style=\"fill:none;stroke-width:1.422638;stroke-linecap:butt;stroke-linejoin:round;stroke:rgb(20%,20%,20%);stroke-opacity:1;stroke-miterlimit:10;\" d=\"M 54.191406 258.863281 L 54.191406 256.125 \"/>\n",
       "<path style=\"fill:none;stroke-width:1.422638;stroke-linecap:butt;stroke-linejoin:round;stroke:rgb(20%,20%,20%);stroke-opacity:1;stroke-miterlimit:10;\" d=\"M 108.554688 258.863281 L 108.554688 256.125 \"/>\n",
       "<path style=\"fill:none;stroke-width:1.422638;stroke-linecap:butt;stroke-linejoin:round;stroke:rgb(20%,20%,20%);stroke-opacity:1;stroke-miterlimit:10;\" d=\"M 162.917969 258.863281 L 162.917969 256.125 \"/>\n",
       "<path style=\"fill:none;stroke-width:1.422638;stroke-linecap:butt;stroke-linejoin:round;stroke:rgb(20%,20%,20%);stroke-opacity:1;stroke-miterlimit:10;\" d=\"M 217.285156 258.863281 L 217.285156 256.125 \"/>\n",
       "<path style=\"fill:none;stroke-width:1.422638;stroke-linecap:butt;stroke-linejoin:round;stroke:rgb(20%,20%,20%);stroke-opacity:1;stroke-miterlimit:10;\" d=\"M 271.648438 258.863281 L 271.648438 256.125 \"/>\n",
       "<g style=\"fill:rgb(30.196078%,30.196078%,30.196078%);fill-opacity:1;\">\n",
       "  <use xlink:href=\"#glyph0-0\" x=\"51.605469\" y=\"267.714844\"/>\n",
       "</g>\n",
       "<g style=\"fill:rgb(30.196078%,30.196078%,30.196078%);fill-opacity:1;\">\n",
       "  <use xlink:href=\"#glyph0-2\" x=\"105.96875\" y=\"267.714844\"/>\n",
       "</g>\n",
       "<g style=\"fill:rgb(30.196078%,30.196078%,30.196078%);fill-opacity:1;\">\n",
       "  <use xlink:href=\"#glyph0-3\" x=\"157.746094\" y=\"267.714844\"/>\n",
       "  <use xlink:href=\"#glyph0-0\" x=\"162.918311\" y=\"267.714844\"/>\n",
       "</g>\n",
       "<g style=\"fill:rgb(30.196078%,30.196078%,30.196078%);fill-opacity:1;\">\n",
       "  <use xlink:href=\"#glyph0-3\" x=\"212.113281\" y=\"267.714844\"/>\n",
       "  <use xlink:href=\"#glyph0-2\" x=\"217.285498\" y=\"267.714844\"/>\n",
       "</g>\n",
       "<g style=\"fill:rgb(30.196078%,30.196078%,30.196078%);fill-opacity:1;\">\n",
       "  <use xlink:href=\"#glyph0-4\" x=\"266.476563\" y=\"267.714844\"/>\n",
       "  <use xlink:href=\"#glyph0-0\" x=\"271.648779\" y=\"267.714844\"/>\n",
       "</g>\n",
       "<g style=\"fill:rgb(0%,0%,0%);fill-opacity:1;\">\n",
       "  <use xlink:href=\"#glyph1-0\" x=\"160.042969\" y=\"280.328125\"/>\n",
       "</g>\n",
       "<g style=\"fill:rgb(0%,0%,0%);fill-opacity:1;\">\n",
       "  <use xlink:href=\"#glyph2-0\" x=\"15.902344\" y=\"133.675781\"/>\n",
       "</g>\n",
       "</g>\n",
       "</svg>\n"
      ],
      "text/plain": [
       "plot without title"
      ]
     },
     "metadata": {
      "image/svg+xml": {
       "isolated": true
      }
     },
     "output_type": "display_data"
    }
   ],
   "source": [
    "data.frame(x = c(0:20), y = dbinom(c(0:20), 20, 0.5)) %>>% \n",
    "    ggplot(aes(x = x, y = y)) + \n",
    "        geom_point()"
   ]
  },
  {
   "cell_type": "code",
   "execution_count": 5,
   "metadata": {
    "collapsed": false
   },
   "outputs": [
    {
     "data": {
      "text/html": [
       "<ol class=list-inline>\n",
       "\t<li>0</li>\n",
       "\t<li>0</li>\n",
       "\t<li>2e-04</li>\n",
       "\t<li>0.0013</li>\n",
       "\t<li>0.0059</li>\n",
       "\t<li>0.0207</li>\n",
       "\t<li>0.0577</li>\n",
       "\t<li>0.1316</li>\n",
       "\t<li>0.2517</li>\n",
       "\t<li>0.4119</li>\n",
       "\t<li>0.5881</li>\n",
       "\t<li>0.7483</li>\n",
       "\t<li>0.8684</li>\n",
       "\t<li>0.9423</li>\n",
       "\t<li>0.9793</li>\n",
       "\t<li>0.9941</li>\n",
       "\t<li>0.9987</li>\n",
       "\t<li>0.9998</li>\n",
       "\t<li>1</li>\n",
       "\t<li>1</li>\n",
       "\t<li>1</li>\n",
       "</ol>\n"
      ],
      "text/latex": [
       "\\begin{enumerate*}\n",
       "\\item 0\n",
       "\\item 0\n",
       "\\item 2e-04\n",
       "\\item 0.0013\n",
       "\\item 0.0059\n",
       "\\item 0.0207\n",
       "\\item 0.0577\n",
       "\\item 0.1316\n",
       "\\item 0.2517\n",
       "\\item 0.4119\n",
       "\\item 0.5881\n",
       "\\item 0.7483\n",
       "\\item 0.8684\n",
       "\\item 0.9423\n",
       "\\item 0.9793\n",
       "\\item 0.9941\n",
       "\\item 0.9987\n",
       "\\item 0.9998\n",
       "\\item 1\n",
       "\\item 1\n",
       "\\item 1\n",
       "\\end{enumerate*}\n"
      ],
      "text/markdown": [
       "1. 0\n",
       "2. 0\n",
       "3. 2e-04\n",
       "4. 0.0013\n",
       "5. 0.0059\n",
       "6. 0.0207\n",
       "7. 0.0577\n",
       "8. 0.1316\n",
       "9. 0.2517\n",
       "10. 0.4119\n",
       "11. 0.5881\n",
       "12. 0.7483\n",
       "13. 0.8684\n",
       "14. 0.9423\n",
       "15. 0.9793\n",
       "16. 0.9941\n",
       "17. 0.9987\n",
       "18. 0.9998\n",
       "19. 1\n",
       "20. 1\n",
       "21. 1\n",
       "\n",
       "\n"
      ],
      "text/plain": [
       " [1] 0.0000 0.0000 0.0002 0.0013 0.0059 0.0207 0.0577 0.1316 0.2517 0.4119\n",
       "[11] 0.5881 0.7483 0.8684 0.9423 0.9793 0.9941 0.9987 0.9998 1.0000 1.0000\n",
       "[21] 1.0000"
      ]
     },
     "metadata": {},
     "output_type": "display_data"
    }
   ],
   "source": [
    "pbinom(c(0:20), 20, 0.5) %>>% round(digit = 4)"
   ]
  },
  {
   "cell_type": "markdown",
   "metadata": {},
   "source": [
    "棄却域は15勝以上"
   ]
  },
  {
   "cell_type": "code",
   "execution_count": 6,
   "metadata": {
    "collapsed": false
   },
   "outputs": [
    {
     "data": {
      "text/html": [
       "<table>\n",
       "<thead><tr><th></th><th scope=col>win</th><th scope=col>prob</th></tr></thead>\n",
       "<tbody>\n",
       "\t<tr><th scope=row>1</th><td>14.0000000</td><td> 0.9793053</td></tr>\n",
       "\t<tr><th scope=row>2</th><td>15.000000</td><td> 0.994091</td></tr>\n",
       "\t<tr><th scope=row>3</th><td>16.0000000</td><td> 0.9987116</td></tr>\n",
       "\t<tr><th scope=row>4</th><td>17.0000000</td><td> 0.9997988</td></tr>\n",
       "\t<tr><th scope=row>5</th><td>18.00000</td><td> 0.99998</td></tr>\n",
       "\t<tr><th scope=row>6</th><td>19.000000</td><td> 0.999999</td></tr>\n",
       "\t<tr><th scope=row>7</th><td>20</td><td> 1</td></tr>\n",
       "</tbody>\n",
       "</table>\n"
      ],
      "text/latex": [
       "\\begin{tabular}{r|ll}\n",
       "  & win & prob\\\\\n",
       "\\hline\n",
       "\t1 & 14.0000000 &  0.9793053\\\\\n",
       "\t2 & 15.000000 &  0.994091\\\\\n",
       "\t3 & 16.0000000 &  0.9987116\\\\\n",
       "\t4 & 17.0000000 &  0.9997988\\\\\n",
       "\t5 & 18.00000 &  0.99998\\\\\n",
       "\t6 & 19.000000 &  0.999999\\\\\n",
       "\t7 & 20 &  1\\\\\n",
       "\\end{tabular}\n"
      ],
      "text/plain": [
       "  win      prob\n",
       "1  14 0.9793053\n",
       "2  15 0.9940910\n",
       "3  16 0.9987116\n",
       "4  17 0.9997988\n",
       "5  18 0.9999800\n",
       "6  19 0.9999990\n",
       "7  20 1.0000000"
      ]
     },
     "metadata": {},
     "output_type": "display_data"
    }
   ],
   "source": [
    "data.frame(win = c(0:20), prob = pbinom(c(0:20), 20, 0.5)) %>>% filter(prob >= 0.95)"
   ]
  },
  {
   "cell_type": "markdown",
   "metadata": {},
   "source": [
    "$p$値は"
   ]
  },
  {
   "cell_type": "code",
   "execution_count": 7,
   "metadata": {
    "collapsed": false
   },
   "outputs": [
    {
     "data": {
      "text/html": [
       "0.00128841400146485"
      ],
      "text/latex": [
       "0.00128841400146485"
      ],
      "text/markdown": [
       "0.00128841400146485"
      ],
      "text/plain": [
       "[1] 0.001288414"
      ]
     },
     "metadata": {},
     "output_type": "display_data"
    }
   ],
   "source": [
    "pbinom(16, 20, 0.5, lower.tail = FALSE)"
   ]
  },
  {
   "cell_type": "markdown",
   "metadata": {},
   "source": [
    "## 12.3 じゃんけん"
   ]
  },
  {
   "cell_type": "markdown",
   "metadata": {},
   "source": [
    "10回中7回的中は1/3より高いか"
   ]
  },
  {
   "cell_type": "markdown",
   "metadata": {},
   "source": [
    "棄却域は7回以上"
   ]
  },
  {
   "cell_type": "code",
   "execution_count": 8,
   "metadata": {
    "collapsed": false
   },
   "outputs": [
    {
     "data": {
      "text/html": [
       "<table>\n",
       "<thead><tr><th></th><th scope=col>x</th><th scope=col>prob</th></tr></thead>\n",
       "<tbody>\n",
       "\t<tr><th scope=row>1</th><td>6.0000000</td><td>0.9803384</td></tr>\n",
       "\t<tr><th scope=row>2</th><td>7.000000</td><td>0.996596</td></tr>\n",
       "\t<tr><th scope=row>3</th><td>8.0000000</td><td>0.9996444</td></tr>\n",
       "\t<tr><th scope=row>4</th><td>9.0000000</td><td>0.9999831</td></tr>\n",
       "\t<tr><th scope=row>5</th><td>10</td><td> 1</td></tr>\n",
       "</tbody>\n",
       "</table>\n"
      ],
      "text/latex": [
       "\\begin{tabular}{r|ll}\n",
       "  & x & prob\\\\\n",
       "\\hline\n",
       "\t1 & 6.0000000 & 0.9803384\\\\\n",
       "\t2 & 7.000000 & 0.996596\\\\\n",
       "\t3 & 8.0000000 & 0.9996444\\\\\n",
       "\t4 & 9.0000000 & 0.9999831\\\\\n",
       "\t5 & 10 &  1\\\\\n",
       "\\end{tabular}\n"
      ],
      "text/plain": [
       "   x      prob\n",
       "1  6 0.9803384\n",
       "2  7 0.9965960\n",
       "3  8 0.9996444\n",
       "4  9 0.9999831\n",
       "5 10 1.0000000"
      ]
     },
     "metadata": {},
     "output_type": "display_data"
    }
   ],
   "source": [
    "data.frame(x = c(0:10), prob = pbinom(c(0:10), 10, 1/3)) %>>% filter(prob >= 0.95)"
   ]
  },
  {
   "cell_type": "code",
   "execution_count": 9,
   "metadata": {
    "collapsed": false
   },
   "outputs": [
    {
     "data": {
      "text/html": [
       "0.0196616369455876"
      ],
      "text/latex": [
       "0.0196616369455876"
      ],
      "text/markdown": [
       "0.0196616369455876"
      ],
      "text/plain": [
       "[1] 0.01966164"
      ]
     },
     "metadata": {},
     "output_type": "display_data"
    }
   ],
   "source": [
    "pbinom(6, 10, 1/3, lower.tail = FALSE)"
   ]
  },
  {
   "cell_type": "code",
   "execution_count": 10,
   "metadata": {
    "collapsed": false
   },
   "outputs": [
    {
     "name": "stderr",
     "output_type": "stream",
     "text": [
      "Session info -------------------------------------------------------------------\n",
      "Packages -----------------------------------------------------------------------\n",
      "Session info -------------------------------------------------------------------\n",
      "Packages -----------------------------------------------------------------------\n"
     ]
    },
    {
     "data": {
      "text/plain": [
       " setting  value                       \n",
       " version  R version 3.3.0 (2016-05-03)\n",
       " system   x86_64, mingw32             \n",
       " ui       RTerm                       \n",
       " language (EN)                        \n",
       " collate  Japanese_Japan.932          \n",
       " tz       Asia/Tokyo                  \n",
       " date     2016-07-07                  \n",
       "\n",
       " package    * version    date       source                             \n",
       " assertthat   0.1        2013-12-06 CRAN (R 3.3.0)                     \n",
       " base64enc    0.1-3      2015-07-28 CRAN (R 3.3.0)                     \n",
       " Cairo      * 1.5-9      2015-09-26 CRAN (R 3.3.0)                     \n",
       " colorspace   1.2-6      2015-03-11 CRAN (R 3.3.0)                     \n",
       " DBI          0.4-1      2016-05-08 CRAN (R 3.3.0)                     \n",
       " devtools     1.11.1     2016-04-21 CRAN (R 3.3.0)                     \n",
       " digest       0.6.9      2016-01-08 CRAN (R 3.3.0)                     \n",
       " dplyr      * 0.5.0      2016-06-24 CRAN (R 3.3.1)                     \n",
       " evaluate     0.9        2016-04-29 CRAN (R 3.3.0)                     \n",
       " ggplot2    * 2.1.0      2016-03-01 CRAN (R 3.3.0)                     \n",
       " gridExtra  * 2.2.1      2016-02-29 CRAN (R 3.3.1)                     \n",
       " gtable       0.2.0      2016-02-26 CRAN (R 3.3.0)                     \n",
       " IRdisplay    0.3.0.9000 2016-06-20 Github (IRkernel/IRdisplay@69fd5d8)\n",
       " IRkernel     0.6        2016-06-20 Github (IRkernel/IRkernel@735d4ff) \n",
       " jsonlite     0.9.22     2016-06-15 CRAN (R 3.3.0)                     \n",
       " labeling     0.3        2014-08-23 CRAN (R 3.3.0)                     \n",
       " lazyeval     0.2.0      2016-06-12 CRAN (R 3.3.0)                     \n",
       " magrittr     1.5        2014-11-22 CRAN (R 3.3.0)                     \n",
       " memoise      1.0.0      2016-01-29 CRAN (R 3.3.0)                     \n",
       " munsell      0.4.3      2016-02-13 CRAN (R 3.3.0)                     \n",
       " pbdZMQ       0.2-3      2016-05-20 CRAN (R 3.3.0)                     \n",
       " pipeR      * 0.6.1.3    2016-04-04 CRAN (R 3.3.0)                     \n",
       " plyr         1.8.4      2016-06-08 CRAN (R 3.3.0)                     \n",
       " R6           2.1.2      2016-01-26 CRAN (R 3.3.0)                     \n",
       " Rcpp         0.12.5     2016-05-14 CRAN (R 3.3.0)                     \n",
       " readr      * 0.2.2      2015-10-22 CRAN (R 3.3.0)                     \n",
       " readxl     * 0.1.1      2016-03-28 CRAN (R 3.3.0)                     \n",
       " repr         0.7        2016-05-13 CRAN (R 3.3.0)                     \n",
       " scales       0.4.0      2016-02-26 CRAN (R 3.3.0)                     \n",
       " stringi      1.1.1      2016-05-27 CRAN (R 3.3.0)                     \n",
       " stringr      1.0.0      2015-04-30 CRAN (R 3.3.0)                     \n",
       " tibble       1.0        2016-03-23 CRAN (R 3.3.0)                     \n",
       " tidyr      * 0.5.1      2016-06-14 CRAN (R 3.3.0)                     \n",
       " uuid         0.1-2      2015-07-28 CRAN (R 3.3.0)                     \n",
       " withr        1.0.1      2016-02-04 CRAN (R 3.3.0)                     "
      ]
     },
     "metadata": {},
     "output_type": "display_data"
    }
   ],
   "source": [
    "devtools::session_info()"
   ]
  }
 ],
 "metadata": {
  "kernelspec": {
   "display_name": "R",
   "language": "R",
   "name": "ir"
  },
  "language_info": {
   "codemirror_mode": "r",
   "file_extension": ".r",
   "mimetype": "text/x-r-source",
   "name": "R",
   "pygments_lexer": "r",
   "version": "3.3.0"
  }
 },
 "nbformat": 4,
 "nbformat_minor": 0
}
