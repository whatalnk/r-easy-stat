{
 "cells": [
  {
   "cell_type": "markdown",
   "metadata": {},
   "source": [
    "# 第II部\n",
    "# 第11章 統計解析で分かること・分からないこと"
   ]
  },
  {
   "cell_type": "code",
   "execution_count": 1,
   "metadata": {
    "collapsed": false
   },
   "outputs": [
    {
     "name": "stderr",
     "output_type": "stream",
     "text": [
      "Loading required package: pipeR\n",
      "Loading required package: dplyr\n",
      "Warning message:\n",
      ": package 'dplyr' was built under R version 3.3.1\n",
      "Attaching package: 'dplyr'\n",
      "\n",
      "The following objects are masked from 'package:stats':\n",
      "\n",
      "    filter, lag\n",
      "\n",
      "The following objects are masked from 'package:base':\n",
      "\n",
      "    intersect, setdiff, setequal, union\n",
      "\n",
      "Loading required package: tidyr\n",
      "Loading required package: ggplot2\n",
      "Loading required package: readr\n",
      "Loading required package: readxl\n",
      "Loading required package: Cairo\n",
      "Loading required package: grid\n",
      "Loading required package: gridExtra\n",
      "Warning message:\n",
      ": package 'gridExtra' was built under R version 3.3.1\n",
      "Attaching package: 'gridExtra'\n",
      "\n",
      "The following object is masked from 'package:dplyr':\n",
      "\n",
      "    combine\n",
      "\n"
     ]
    },
    {
     "data": {
      "text/html": [
       "<dl class=dl-horizontal>\n",
       "\t<dt>pipeR</dt>\n",
       "\t\t<dd>TRUE</dd>\n",
       "\t<dt>dplyr</dt>\n",
       "\t\t<dd>TRUE</dd>\n",
       "\t<dt>tidyr</dt>\n",
       "\t\t<dd>TRUE</dd>\n",
       "\t<dt>ggplot2</dt>\n",
       "\t\t<dd>TRUE</dd>\n",
       "\t<dt>readr</dt>\n",
       "\t\t<dd>TRUE</dd>\n",
       "\t<dt>readxl</dt>\n",
       "\t\t<dd>TRUE</dd>\n",
       "\t<dt>Cairo</dt>\n",
       "\t\t<dd>TRUE</dd>\n",
       "\t<dt>grid</dt>\n",
       "\t\t<dd>TRUE</dd>\n",
       "\t<dt>gridExtra</dt>\n",
       "\t\t<dd>TRUE</dd>\n",
       "</dl>\n"
      ],
      "text/latex": [
       "\\begin{description*}\n",
       "\\item[pipeR] TRUE\n",
       "\\item[dplyr] TRUE\n",
       "\\item[tidyr] TRUE\n",
       "\\item[ggplot2] TRUE\n",
       "\\item[readr] TRUE\n",
       "\\item[readxl] TRUE\n",
       "\\item[Cairo] TRUE\n",
       "\\item[grid] TRUE\n",
       "\\item[gridExtra] TRUE\n",
       "\\end{description*}\n"
      ],
      "text/markdown": [
       "pipeR\n",
       ":   TRUEdplyr\n",
       ":   TRUEtidyr\n",
       ":   TRUEggplot2\n",
       ":   TRUEreadr\n",
       ":   TRUEreadxl\n",
       ":   TRUECairo\n",
       ":   TRUEgrid\n",
       ":   TRUEgridExtra\n",
       ":   TRUE\n",
       "\n"
      ],
      "text/plain": [
       "    pipeR     dplyr     tidyr   ggplot2     readr    readxl     Cairo      grid \n",
       "     TRUE      TRUE      TRUE      TRUE      TRUE      TRUE      TRUE      TRUE \n",
       "gridExtra \n",
       "     TRUE "
      ]
     },
     "metadata": {},
     "output_type": "display_data"
    }
   ],
   "source": [
    "sapply(c(\"pipeR\", \"dplyr\", \"tidyr\", \"ggplot2\", \"readr\", \"readxl\", \"Cairo\", \"grid\", \"gridExtra\"), \n",
    "       require, character.only = TRUE)"
   ]
  },
  {
   "cell_type": "markdown",
   "metadata": {},
   "source": [
    "* x: 子供のゲーム時間\n",
    "* y: 親の認識したゲーム時間"
   ]
  },
  {
   "cell_type": "code",
   "execution_count": 2,
   "metadata": {
    "collapsed": false,
    "scrolled": true
   },
   "outputs": [
    {
     "data": {
      "text/html": [
       "<table>\n",
       "<thead><tr><th></th><th scope=col>親子</th><th scope=col>x</th><th scope=col>y</th></tr></thead>\n",
       "<tbody>\n",
       "\t<tr><th scope=row>1</th><td>  1</td><td>290</td><td>350</td></tr>\n",
       "\t<tr><th scope=row>2</th><td> 2</td><td>50</td><td>70</td></tr>\n",
       "\t<tr><th scope=row>3</th><td>  3</td><td> 80</td><td>100</td></tr>\n",
       "\t<tr><th scope=row>4</th><td>  4</td><td>100</td><td>130</td></tr>\n",
       "\t<tr><th scope=row>5</th><td>  5</td><td>200</td><td>250</td></tr>\n",
       "\t<tr><th scope=row>6</th><td>  6</td><td>350</td><td>430</td></tr>\n",
       "\t<tr><th scope=row>7</th><td>  7</td><td>430</td><td>520</td></tr>\n",
       "\t<tr><th scope=row>8</th><td>  8</td><td> 80</td><td>100</td></tr>\n",
       "\t<tr><th scope=row>9</th><td>  9</td><td>210</td><td>260</td></tr>\n",
       "\t<tr><th scope=row>10</th><td> 10</td><td>110</td><td>140</td></tr>\n",
       "\t<tr><th scope=row>11</th><td>11</td><td>70</td><td>90</td></tr>\n",
       "\t<tr><th scope=row>12</th><td> 12</td><td>260</td><td>320</td></tr>\n",
       "\t<tr><th scope=row>13</th><td> 13</td><td>220</td><td>270</td></tr>\n",
       "\t<tr><th scope=row>14</th><td> 14</td><td>330</td><td>400</td></tr>\n",
       "\t<tr><th scope=row>15</th><td> 15</td><td>170</td><td>210</td></tr>\n",
       "\t<tr><th scope=row>16</th><td> 16</td><td>420</td><td>510</td></tr>\n",
       "\t<tr><th scope=row>17</th><td> 17</td><td> 80</td><td>100</td></tr>\n",
       "\t<tr><th scope=row>18</th><td> 18</td><td>300</td><td>370</td></tr>\n",
       "\t<tr><th scope=row>19</th><td> 19</td><td>290</td><td>350</td></tr>\n",
       "\t<tr><th scope=row>20</th><td> 20</td><td>230</td><td>280</td></tr>\n",
       "</tbody>\n",
       "</table>\n"
      ],
      "text/latex": [
       "\\begin{tabular}{r|lll}\n",
       "  & 親子 & x & y\\\\\n",
       "\\hline\n",
       "\t1 &   1 & 290 & 350\\\\\n",
       "\t2 &  2 & 50 & 70\\\\\n",
       "\t3 &   3 &  80 & 100\\\\\n",
       "\t4 &   4 & 100 & 130\\\\\n",
       "\t5 &   5 & 200 & 250\\\\\n",
       "\t6 &   6 & 350 & 430\\\\\n",
       "\t7 &   7 & 430 & 520\\\\\n",
       "\t8 &   8 &  80 & 100\\\\\n",
       "\t9 &   9 & 210 & 260\\\\\n",
       "\t10 &  10 & 110 & 140\\\\\n",
       "\t11 & 11 & 70 & 90\\\\\n",
       "\t12 &  12 & 260 & 320\\\\\n",
       "\t13 &  13 & 220 & 270\\\\\n",
       "\t14 &  14 & 330 & 400\\\\\n",
       "\t15 &  15 & 170 & 210\\\\\n",
       "\t16 &  16 & 420 & 510\\\\\n",
       "\t17 &  17 &  80 & 100\\\\\n",
       "\t18 &  18 & 300 & 370\\\\\n",
       "\t19 &  19 & 290 & 350\\\\\n",
       "\t20 &  20 & 230 & 280\\\\\n",
       "\\end{tabular}\n"
      ],
      "text/plain": [
       "   親子   x   y\n",
       "1     1 290 350\n",
       "2     2  50  70\n",
       "3     3  80 100\n",
       "4     4 100 130\n",
       "5     5 200 250\n",
       "6     6 350 430\n",
       "7     7 430 520\n",
       "8     8  80 100\n",
       "9     9 210 260\n",
       "10   10 110 140\n",
       "11   11  70  90\n",
       "12   12 260 320\n",
       "13   13 220 270\n",
       "14   14 330 400\n",
       "15   15 170 210\n",
       "16   16 420 510\n",
       "17   17  80 100\n",
       "18   18 300 370\n",
       "19   19 290 350\n",
       "20   20 230 280"
      ]
     },
     "metadata": {},
     "output_type": "display_data"
    }
   ],
   "source": [
    "d <- read_csv(\"chap11_1.csv\", locale = locale(encoding = \"cp932\"))\n",
    "d"
   ]
  },
  {
   "cell_type": "markdown",
   "metadata": {},
   "source": [
    "（1.1）x, y それぞれについて度数分布，代表値，散布度"
   ]
  },
  {
   "cell_type": "code",
   "execution_count": 3,
   "metadata": {
    "collapsed": true
   },
   "outputs": [],
   "source": [
    "options(repr.plot.width = 8, repr.plot.height = 6)"
   ]
  },
  {
   "cell_type": "code",
   "execution_count": 4,
   "metadata": {
    "collapsed": false
   },
   "outputs": [
    {
     "data": {
      "text/plain": []
     },
     "metadata": {},
     "output_type": "display_data"
    },
    {
     "data": {
      "image/png": "[encoded data removed]",
      "image/svg+xml": [
       "<?xml version=\"1.0\" encoding=\"UTF-8\"?>\n",
       "<svg xmlns=\"http://www.w3.org/2000/svg\" xmlns:xlink=\"http://www.w3.org/1999/xlink\" width=\"576pt\" height=\"432pt\" viewBox=\"0 0 576 432\" version=\"1.1\">\n",
       "<defs>\n",
       "<g>\n",
       "<symbol overflow=\"visible\" id=\"glyph0-0\">\n",
       "<path style=\"stroke:none;\" d=\"M 0.0664063 0 L 1.828125 -2.507813 L 0.199219 -4.824219 L 1.222656 -4.824219 L 1.960938 -3.691406 C 2.097656 -3.476563 2.210938 -3.296875 2.296875 -3.152344 C 2.429688 -3.351563 2.550781 -3.527344 2.664063 -3.683594 L 3.476563 -4.824219 L 4.453125 -4.824219 L 2.789063 -2.550781 L 4.582031 0 L 3.578125 0 L 2.589844 -1.5 L 2.324219 -1.902344 L 1.058594 0 Z M 0.0664063 0 \"/>\n",
       "</symbol>\n",
       "<symbol overflow=\"visible\" id=\"glyph0-1\">\n",
       "<path style=\"stroke:none;\" d=\"M 0.578125 1.855469 L 0.484375 1.089844 C 0.660156 1.136719 0.816406 1.160156 0.953125 1.164063 C 1.132813 1.160156 1.277344 1.128906 1.390625 1.070313 C 1.496094 1.007813 1.585938 0.921875 1.65625 0.816406 C 1.707031 0.730469 1.789063 0.527344 1.90625 0.207031 C 1.917969 0.160156 1.945313 0.09375 1.980469 0.0078125 L 0.148438 -4.824219 L 1.03125 -4.824219 L 2.035156 -2.03125 C 2.160156 -1.675781 2.277344 -1.304688 2.382813 -0.914063 C 2.472656 -1.289063 2.585938 -1.652344 2.71875 -2.011719 L 3.75 -4.824219 L 4.566406 -4.824219 L 2.734375 0.0820313 C 2.535156 0.609375 2.382813 0.972656 2.273438 1.175781 C 2.128906 1.445313 1.960938 1.644531 1.773438 1.769531 C 1.582031 1.894531 1.359375 1.957031 1.101563 1.957031 C 0.945313 1.957031 0.769531 1.921875 0.578125 1.855469 Z M 0.578125 1.855469 \"/>\n",
       "</symbol>\n",
       "<symbol overflow=\"visible\" id=\"glyph0-2\">\n",
       "<path style=\"stroke:none;\" d=\"M 0.386719 -3.28125 C 0.386719 -4.070313 0.464844 -4.703125 0.628906 -5.183594 C 0.785156 -5.660156 1.027344 -6.03125 1.347656 -6.292969 C 1.667969 -6.550781 2.070313 -6.679688 2.554688 -6.683594 C 2.914063 -6.679688 3.226563 -6.609375 3.496094 -6.46875 C 3.765625 -6.324219 3.988281 -6.117188 4.164063 -5.847656 C 4.335938 -5.574219 4.472656 -5.242188 4.574219 -4.855469 C 4.671875 -4.464844 4.722656 -3.941406 4.726563 -3.28125 C 4.722656 -2.5 4.640625 -1.867188 4.484375 -1.390625 C 4.320313 -0.90625 4.082031 -0.535156 3.765625 -0.277344 C 3.445313 -0.015625 3.042969 0.109375 2.554688 0.113281 C 1.914063 0.109375 1.410156 -0.117188 1.042969 -0.578125 C 0.605469 -1.128906 0.386719 -2.03125 0.386719 -3.28125 Z M 1.226563 -3.28125 C 1.222656 -2.1875 1.351563 -1.460938 1.609375 -1.101563 C 1.863281 -0.738281 2.179688 -0.554688 2.554688 -0.558594 C 2.929688 -0.554688 3.246094 -0.738281 3.503906 -1.101563 C 3.757813 -1.464844 3.882813 -2.191406 3.886719 -3.28125 C 3.882813 -4.375 3.757813 -5.101563 3.503906 -5.464844 C 3.246094 -5.824219 2.925781 -6.003906 2.546875 -6.007813 C 2.167969 -6.003906 1.867188 -5.847656 1.648438 -5.53125 C 1.363281 -5.125 1.222656 -4.375 1.226563 -3.28125 Z M 1.226563 -3.28125 \"/>\n",
       "</symbol>\n",
       "<symbol overflow=\"visible\" id=\"glyph0-3\">\n",
       "<path style=\"stroke:none;\" d=\"M 4.683594 -0.785156 L 4.683594 0 L 0.28125 0 C 0.273438 -0.195313 0.304688 -0.382813 0.375 -0.566406 C 0.488281 -0.863281 0.667969 -1.160156 0.914063 -1.453125 C 1.160156 -1.742188 1.515625 -2.078125 1.984375 -2.460938 C 2.707031 -3.054688 3.195313 -3.523438 3.449219 -3.871094 C 3.703125 -4.214844 3.832031 -4.542969 3.832031 -4.855469 C 3.832031 -5.175781 3.714844 -5.449219 3.484375 -5.671875 C 3.25 -5.894531 2.949219 -6.003906 2.578125 -6.007813 C 2.183594 -6.003906 1.867188 -5.886719 1.632813 -5.652344 C 1.394531 -5.414063 1.277344 -5.085938 1.277344 -4.671875 L 0.4375 -4.757813 C 0.492188 -5.382813 0.707031 -5.859375 1.085938 -6.191406 C 1.457031 -6.515625 1.960938 -6.679688 2.597656 -6.683594 C 3.230469 -6.679688 3.738281 -6.503906 4.113281 -6.152344 C 4.484375 -5.796875 4.667969 -5.355469 4.671875 -4.835938 C 4.667969 -4.566406 4.613281 -4.304688 4.507813 -4.050781 C 4.398438 -3.789063 4.21875 -3.519531 3.964844 -3.238281 C 3.710938 -2.953125 3.292969 -2.5625 2.707031 -2.066406 C 2.214844 -1.652344 1.898438 -1.371094 1.761719 -1.226563 C 1.621094 -1.078125 1.507813 -0.933594 1.417969 -0.785156 Z M 4.683594 -0.785156 \"/>\n",
       "</symbol>\n",
       "<symbol overflow=\"visible\" id=\"glyph0-4\">\n",
       "<path style=\"stroke:none;\" d=\"M 3.007813 0 L 3.007813 -1.59375 L 0.117188 -1.59375 L 0.117188 -2.34375 L 3.15625 -6.65625 L 3.824219 -6.65625 L 3.824219 -2.34375 L 4.722656 -2.34375 L 4.722656 -1.59375 L 3.824219 -1.59375 L 3.824219 0 Z M 3.007813 -2.34375 L 3.007813 -5.34375 L 0.921875 -2.34375 Z M 3.007813 -2.34375 \"/>\n",
       "</symbol>\n",
       "<symbol overflow=\"visible\" id=\"glyph0-5\">\n",
       "<path style=\"stroke:none;\" d=\"M 4.628906 -5.027344 L 3.816406 -4.964844 C 3.738281 -5.28125 3.636719 -5.515625 3.503906 -5.664063 C 3.285156 -5.894531 3.011719 -6.011719 2.6875 -6.011719 C 2.425781 -6.011719 2.199219 -5.9375 2.003906 -5.792969 C 1.746094 -5.601563 1.542969 -5.328125 1.394531 -4.972656 C 1.246094 -4.609375 1.167969 -4.097656 1.164063 -3.433594 C 1.355469 -3.730469 1.59375 -3.953125 1.882813 -4.101563 C 2.164063 -4.246094 2.464844 -4.316406 2.777344 -4.320313 C 3.324219 -4.316406 3.789063 -4.117188 4.171875 -3.714844 C 4.554688 -3.3125 4.746094 -2.792969 4.746094 -2.160156 C 4.746094 -1.742188 4.652344 -1.355469 4.472656 -0.996094 C 4.289063 -0.636719 4.042969 -0.359375 3.730469 -0.171875 C 3.414063 0.0195313 3.058594 0.109375 2.660156 0.113281 C 1.980469 0.109375 1.425781 -0.136719 0.996094 -0.636719 C 0.566406 -1.136719 0.351563 -1.960938 0.351563 -3.113281 C 0.351563 -4.398438 0.585938 -5.335938 1.0625 -5.921875 C 1.472656 -6.425781 2.03125 -6.679688 2.738281 -6.683594 C 3.257813 -6.679688 3.6875 -6.53125 4.023438 -6.242188 C 4.355469 -5.945313 4.558594 -5.542969 4.628906 -5.027344 Z M 1.289063 -2.15625 C 1.289063 -1.875 1.347656 -1.605469 1.46875 -1.347656 C 1.585938 -1.089844 1.753906 -0.890625 1.96875 -0.757813 C 2.183594 -0.621094 2.410156 -0.554688 2.648438 -0.558594 C 2.992188 -0.554688 3.285156 -0.695313 3.535156 -0.976563 C 3.78125 -1.253906 3.90625 -1.632813 3.910156 -2.113281 C 3.90625 -2.570313 3.785156 -2.933594 3.542969 -3.199219 C 3.296875 -3.464844 2.988281 -3.597656 2.617188 -3.597656 C 2.246094 -3.597656 1.933594 -3.464844 1.675781 -3.199219 C 1.417969 -2.933594 1.289063 -2.585938 1.289063 -2.15625 Z M 1.289063 -2.15625 \"/>\n",
       "</symbol>\n",
       "<symbol overflow=\"visible\" id=\"glyph1-0\">\n",
       "<path style=\"stroke:none;\" d=\"M 2.414063 0 L 0.144531 -5.964844 L 1.210938 -5.964844 L 2.492188 -2.390625 C 2.625 -2.003906 2.753906 -1.601563 2.875 -1.191406 C 2.960938 -1.503906 3.085938 -1.882813 3.25 -2.324219 L 4.578125 -5.964844 L 5.617188 -5.964844 L 3.359375 0 Z M 2.414063 0 \"/>\n",
       "</symbol>\n",
       "<symbol overflow=\"visible\" id=\"glyph1-1\">\n",
       "<path style=\"stroke:none;\" d=\"M 4.648438 -0.734375 C 4.269531 -0.414063 3.910156 -0.191406 3.566406 -0.0625 C 3.21875 0.0664063 2.847656 0.128906 2.453125 0.132813 C 1.796875 0.128906 1.292969 -0.0273438 0.941406 -0.34375 C 0.585938 -0.660156 0.410156 -1.070313 0.414063 -1.570313 C 0.410156 -1.863281 0.476563 -2.128906 0.613281 -2.371094 C 0.742188 -2.609375 0.917969 -2.804688 1.136719 -2.953125 C 1.351563 -3.097656 1.59375 -3.207031 1.863281 -3.285156 C 2.058594 -3.335938 2.355469 -3.386719 2.761719 -3.4375 C 3.574219 -3.53125 4.175781 -3.648438 4.566406 -3.785156 C 4.566406 -3.921875 4.570313 -4.007813 4.570313 -4.046875 C 4.570313 -4.457031 4.472656 -4.746094 4.285156 -4.917969 C 4.023438 -5.144531 3.640625 -5.261719 3.132813 -5.261719 C 2.65625 -5.261719 2.304688 -5.175781 2.082031 -5.011719 C 1.851563 -4.839844 1.683594 -4.546875 1.578125 -4.128906 L 0.589844 -4.261719 C 0.675781 -4.683594 0.824219 -5.027344 1.03125 -5.285156 C 1.238281 -5.542969 1.535156 -5.742188 1.925781 -5.886719 C 2.3125 -6.023438 2.765625 -6.09375 3.28125 -6.097656 C 3.789063 -6.09375 4.199219 -6.035156 4.519531 -5.917969 C 4.832031 -5.796875 5.066406 -5.644531 5.21875 -5.464844 C 5.367188 -5.28125 5.472656 -5.050781 5.535156 -4.777344 C 5.566406 -4.601563 5.582031 -4.292969 5.585938 -3.847656 L 5.585938 -2.5 C 5.582031 -1.558594 5.605469 -0.964844 5.648438 -0.714844 C 5.691406 -0.464844 5.777344 -0.226563 5.90625 0 L 4.851563 0 C 4.746094 -0.207031 4.675781 -0.449219 4.648438 -0.734375 Z M 4.566406 -2.992188 C 4.195313 -2.839844 3.644531 -2.710938 2.914063 -2.609375 C 2.492188 -2.546875 2.199219 -2.480469 2.03125 -2.40625 C 1.855469 -2.332031 1.722656 -2.222656 1.632813 -2.078125 C 1.535156 -1.933594 1.488281 -1.773438 1.492188 -1.601563 C 1.488281 -1.328125 1.589844 -1.105469 1.796875 -0.925781 C 2 -0.746094 2.300781 -0.65625 2.695313 -0.65625 C 3.085938 -0.65625 3.429688 -0.738281 3.734375 -0.910156 C 4.03125 -1.078125 4.253906 -1.3125 4.402344 -1.613281 C 4.507813 -1.835938 4.5625 -2.171875 4.566406 -2.621094 Z M 4.566406 -2.992188 \"/>\n",
       "</symbol>\n",
       "<symbol overflow=\"visible\" id=\"glyph1-2\">\n",
       "<path style=\"stroke:none;\" d=\"M 0.734375 0 L 0.734375 -8.230469 L 1.746094 -8.230469 L 1.746094 0 Z M 0.734375 0 \"/>\n",
       "</symbol>\n",
       "<symbol overflow=\"visible\" id=\"glyph2-0\">\n",
       "<path style=\"stroke:none;\" d=\"M -2.183594 -4.648438 L -2.054688 -5.644531 C -1.367188 -5.53125 -0.832031 -5.253906 -0.445313 -4.808594 C -0.0585938 -4.359375 0.132813 -3.808594 0.136719 -3.160156 C 0.132813 -2.339844 -0.128906 -1.683594 -0.664063 -1.191406 C -1.195313 -0.691406 -1.960938 -0.445313 -2.960938 -0.449219 C -3.601563 -0.445313 -4.164063 -0.550781 -4.648438 -0.769531 C -5.128906 -0.980469 -5.492188 -1.304688 -5.734375 -1.742188 C -5.972656 -2.175781 -6.09375 -2.652344 -6.097656 -3.167969 C -6.09375 -3.8125 -5.929688 -4.339844 -5.605469 -4.753906 C -5.277344 -5.164063 -4.8125 -5.429688 -4.210938 -5.546875 L -4.058594 -4.566406 C -4.457031 -4.46875 -4.757813 -4.304688 -4.960938 -4.066406 C -5.160156 -3.828125 -5.261719 -3.539063 -5.265625 -3.207031 C -5.261719 -2.691406 -5.078125 -2.277344 -4.71875 -1.964844 C -4.351563 -1.644531 -3.777344 -1.488281 -2.988281 -1.488281 C -2.183594 -1.488281 -1.597656 -1.640625 -1.238281 -1.949219 C -0.871094 -2.253906 -0.691406 -2.652344 -0.695313 -3.148438 C -0.691406 -3.542969 -0.8125 -3.875 -1.058594 -4.144531 C -1.300781 -4.40625 -1.675781 -4.574219 -2.183594 -4.648438 Z M -2.183594 -4.648438 \"/>\n",
       "</symbol>\n",
       "<symbol overflow=\"visible\" id=\"glyph2-1\">\n",
       "<path style=\"stroke:none;\" d=\"M -2.980469 -0.382813 C -4.082031 -0.378906 -4.902344 -0.6875 -5.4375 -1.304688 C -5.875 -1.8125 -6.09375 -2.4375 -6.097656 -3.179688 C -6.09375 -3.996094 -5.824219 -4.664063 -5.292969 -5.1875 C -4.753906 -5.703125 -4.011719 -5.964844 -3.066406 -5.96875 C -2.292969 -5.964844 -1.691406 -5.847656 -1.253906 -5.621094 C -0.8125 -5.386719 -0.46875 -5.054688 -0.226563 -4.617188 C 0.015625 -4.175781 0.132813 -3.695313 0.136719 -3.179688 C 0.132813 -2.339844 -0.132813 -1.664063 -0.667969 -1.152344 C -1.203125 -0.636719 -1.972656 -0.378906 -2.980469 -0.382813 Z M -2.980469 -1.421875 C -2.214844 -1.417969 -1.644531 -1.585938 -1.265625 -1.921875 C -0.882813 -2.253906 -0.691406 -2.671875 -0.695313 -3.179688 C -0.691406 -3.675781 -0.882813 -4.09375 -1.265625 -4.429688 C -1.648438 -4.761719 -2.230469 -4.925781 -3.015625 -4.929688 C -3.75 -4.925781 -4.308594 -4.757813 -4.691406 -4.425781 C -5.070313 -4.089844 -5.261719 -3.675781 -5.261719 -3.179688 C -5.261719 -2.671875 -5.070313 -2.253906 -4.695313 -1.921875 C -4.3125 -1.585938 -3.742188 -1.417969 -2.980469 -1.421875 Z M -2.980469 -1.421875 \"/>\n",
       "</symbol>\n",
       "<symbol overflow=\"visible\" id=\"glyph2-2\">\n",
       "<path style=\"stroke:none;\" d=\"M 0 -4.667969 L -0.875 -4.667969 C -0.199219 -4.199219 0.132813 -3.566406 0.136719 -2.773438 C 0.132813 -2.417969 0.0703125 -2.089844 -0.0664063 -1.789063 C -0.199219 -1.480469 -0.371094 -1.253906 -0.574219 -1.109375 C -0.777344 -0.957031 -1.027344 -0.855469 -1.324219 -0.796875 C -1.519531 -0.753906 -1.832031 -0.730469 -2.269531 -0.734375 L -5.964844 -0.734375 L -5.964844 -1.746094 L -2.65625 -1.746094 C -2.125 -1.746094 -1.769531 -1.765625 -1.589844 -1.808594 C -1.320313 -1.867188 -1.113281 -2 -0.960938 -2.210938 C -0.808594 -2.414063 -0.730469 -2.671875 -0.734375 -2.976563 C -0.730469 -3.277344 -0.808594 -3.558594 -0.96875 -3.828125 C -1.121094 -4.089844 -1.332031 -4.277344 -1.601563 -4.390625 C -1.867188 -4.5 -2.257813 -4.558594 -2.769531 -4.558594 L -5.964844 -4.558594 L -5.964844 -5.570313 L 0 -5.570313 Z M 0 -4.667969 \"/>\n",
       "</symbol>\n",
       "<symbol overflow=\"visible\" id=\"glyph2-3\">\n",
       "<path style=\"stroke:none;\" d=\"M 0 -0.757813 L -5.964844 -0.757813 L -5.964844 -1.667969 L -5.117188 -1.667969 C -5.765625 -2.101563 -6.09375 -2.734375 -6.097656 -3.566406 C -6.09375 -3.921875 -6.027344 -4.25 -5.902344 -4.554688 C -5.769531 -4.851563 -5.601563 -5.078125 -5.394531 -5.230469 C -5.183594 -5.378906 -4.933594 -5.484375 -4.648438 -5.546875 C -4.457031 -5.582031 -4.132813 -5.601563 -3.667969 -5.605469 L 0 -5.605469 L 0 -4.59375 L -3.628906 -4.59375 C -4.035156 -4.59375 -4.34375 -4.554688 -4.550781 -4.476563 C -4.75 -4.398438 -4.914063 -4.257813 -5.039063 -4.058594 C -5.160156 -3.855469 -5.21875 -3.621094 -5.222656 -3.351563 C -5.21875 -2.921875 -5.082031 -2.550781 -4.8125 -2.238281 C -4.535156 -1.925781 -4.019531 -1.769531 -3.257813 -1.769531 L 0 -1.769531 Z M 0 -0.757813 \"/>\n",
       "</symbol>\n",
       "<symbol overflow=\"visible\" id=\"glyph2-4\">\n",
       "<path style=\"stroke:none;\" d=\"M -0.902344 -2.964844 L -0.0117188 -3.109375 C 0.046875 -2.824219 0.0742188 -2.570313 0.078125 -2.347656 C 0.0742188 -1.976563 0.0195313 -1.691406 -0.09375 -1.492188 C -0.210938 -1.289063 -0.363281 -1.148438 -0.550781 -1.066406 C -0.738281 -0.984375 -1.136719 -0.941406 -1.746094 -0.945313 L -5.175781 -0.945313 L -5.175781 -0.203125 L -5.964844 -0.203125 L -5.964844 -0.945313 L -7.441406 -0.945313 L -8.046875 -1.949219 L -5.964844 -1.949219 L -5.964844 -2.964844 L -5.175781 -2.964844 L -5.175781 -1.949219 L -1.691406 -1.949219 C -1.398438 -1.945313 -1.210938 -1.960938 -1.132813 -2 C -1.046875 -2.03125 -0.984375 -2.089844 -0.9375 -2.175781 C -0.886719 -2.253906 -0.859375 -2.371094 -0.863281 -2.519531 C -0.859375 -2.632813 -0.875 -2.78125 -0.902344 -2.964844 Z M -0.902344 -2.964844 \"/>\n",
       "</symbol>\n",
       "</g>\n",
       "<clipPath id=\"clip1\">\n",
       "  <path d=\"M 30.21875 24.4375 L 571.519531 24.4375 L 571.519531 200.390625 L 30.21875 200.390625 Z M 30.21875 24.4375 \"/>\n",
       "</clipPath>\n",
       "<clipPath id=\"clip2\">\n",
       "  <path d=\"M 30.21875 223.828125 L 571.519531 223.828125 L 571.519531 399.78125 L 30.21875 399.78125 Z M 30.21875 223.828125 \"/>\n",
       "</clipPath>\n",
       "<clipPath id=\"clip3\">\n",
       "  <path d=\"M 30.21875 5.480469 L 571.519531 5.480469 L 571.519531 25.4375 L 30.21875 25.4375 Z M 30.21875 5.480469 \"/>\n",
       "</clipPath>\n",
       "<clipPath id=\"clip4\">\n",
       "  <path d=\"M 30.21875 204.871094 L 571.519531 204.871094 L 571.519531 224.828125 L 30.21875 224.828125 Z M 30.21875 204.871094 \"/>\n",
       "</clipPath>\n",
       "</defs>\n",
       "<g id=\"surface44\">\n",
       "<rect x=\"0\" y=\"0\" width=\"576\" height=\"432\" style=\"fill:rgb(100%,100%,100%);fill-opacity:1;stroke:none;\"/>\n",
       "<rect x=\"0\" y=\"0\" width=\"576\" height=\"432\" style=\"fill:rgb(100%,100%,100%);fill-opacity:1;stroke:none;\"/>\n",
       "<path style=\"fill:none;stroke-width:1.422638;stroke-linecap:round;stroke-linejoin:round;stroke:rgb(100%,100%,100%);stroke-opacity:1;stroke-miterlimit:10;\" d=\"M 0 0 L 576 0 L 576 432 L 0 432 Z M 0 0 \"/>\n",
       "<g clip-path=\"url(#clip1)\" clip-rule=\"nonzero\">\n",
       "<path style=\" stroke:none;fill-rule:nonzero;fill:rgb(92.156863%,92.156863%,92.156863%);fill-opacity:1;\" d=\"M 30.21875 24.4375 L 570.519531 24.4375 L 570.519531 199.390625 L 30.21875 199.390625 Z M 30.21875 24.4375 \"/>\n",
       "<path style=\"fill:none;stroke-width:0.711319;stroke-linecap:butt;stroke-linejoin:round;stroke:rgb(100%,100%,100%);stroke-opacity:1;stroke-miterlimit:10;\" d=\"M 30.21875 164.929688 L 570.519531 164.929688 \"/>\n",
       "<path style=\"fill:none;stroke-width:0.711319;stroke-linecap:butt;stroke-linejoin:round;stroke:rgb(100%,100%,100%);stroke-opacity:1;stroke-miterlimit:10;\" d=\"M 30.21875 111.914063 L 570.519531 111.914063 \"/>\n",
       "<path style=\"fill:none;stroke-width:0.711319;stroke-linecap:butt;stroke-linejoin:round;stroke:rgb(100%,100%,100%);stroke-opacity:1;stroke-miterlimit:10;\" d=\"M 30.21875 58.898438 L 570.519531 58.898438 \"/>\n",
       "<path style=\"fill:none;stroke-width:0.711319;stroke-linecap:butt;stroke-linejoin:round;stroke:rgb(100%,100%,100%);stroke-opacity:1;stroke-miterlimit:10;\" d=\"M 136.640625 199.390625 L 136.640625 24.4375 \"/>\n",
       "<path style=\"fill:none;stroke-width:0.711319;stroke-linecap:butt;stroke-linejoin:round;stroke:rgb(100%,100%,100%);stroke-opacity:1;stroke-miterlimit:10;\" d=\"M 300.371094 199.390625 L 300.371094 24.4375 \"/>\n",
       "<path style=\"fill:none;stroke-width:0.711319;stroke-linecap:butt;stroke-linejoin:round;stroke:rgb(100%,100%,100%);stroke-opacity:1;stroke-miterlimit:10;\" d=\"M 464.097656 199.390625 L 464.097656 24.4375 \"/>\n",
       "<path style=\"fill:none;stroke-width:1.422638;stroke-linecap:butt;stroke-linejoin:round;stroke:rgb(100%,100%,100%);stroke-opacity:1;stroke-miterlimit:10;\" d=\"M 30.21875 191.4375 L 570.519531 191.4375 \"/>\n",
       "<path style=\"fill:none;stroke-width:1.422638;stroke-linecap:butt;stroke-linejoin:round;stroke:rgb(100%,100%,100%);stroke-opacity:1;stroke-miterlimit:10;\" d=\"M 30.21875 138.421875 L 570.519531 138.421875 \"/>\n",
       "<path style=\"fill:none;stroke-width:1.422638;stroke-linecap:butt;stroke-linejoin:round;stroke:rgb(100%,100%,100%);stroke-opacity:1;stroke-miterlimit:10;\" d=\"M 30.21875 85.40625 L 570.519531 85.40625 \"/>\n",
       "<path style=\"fill:none;stroke-width:1.422638;stroke-linecap:butt;stroke-linejoin:round;stroke:rgb(100%,100%,100%);stroke-opacity:1;stroke-miterlimit:10;\" d=\"M 30.21875 32.390625 L 570.519531 32.390625 \"/>\n",
       "<path style=\"fill:none;stroke-width:1.422638;stroke-linecap:butt;stroke-linejoin:round;stroke:rgb(100%,100%,100%);stroke-opacity:1;stroke-miterlimit:10;\" d=\"M 54.777344 199.390625 L 54.777344 24.4375 \"/>\n",
       "<path style=\"fill:none;stroke-width:1.422638;stroke-linecap:butt;stroke-linejoin:round;stroke:rgb(100%,100%,100%);stroke-opacity:1;stroke-miterlimit:10;\" d=\"M 218.503906 199.390625 L 218.503906 24.4375 \"/>\n",
       "<path style=\"fill:none;stroke-width:1.422638;stroke-linecap:butt;stroke-linejoin:round;stroke:rgb(100%,100%,100%);stroke-opacity:1;stroke-miterlimit:10;\" d=\"M 382.234375 199.390625 L 382.234375 24.4375 \"/>\n",
       "<path style=\"fill:none;stroke-width:1.422638;stroke-linecap:butt;stroke-linejoin:round;stroke:rgb(100%,100%,100%);stroke-opacity:1;stroke-miterlimit:10;\" d=\"M 545.960938 199.390625 L 545.960938 24.4375 \"/>\n",
       "<path style=\" stroke:none;fill-rule:nonzero;fill:rgb(34.901961%,34.901961%,34.901961%);fill-opacity:1;\" d=\"M 54.777344 164.929688 L 103.894531 164.929688 L 103.894531 191.4375 L 54.777344 191.4375 Z M 54.777344 164.929688 \"/>\n",
       "<path style=\" stroke:none;fill-rule:nonzero;fill:rgb(34.901961%,34.901961%,34.901961%);fill-opacity:1;\" d=\"M 103.894531 32.390625 L 153.011719 32.390625 L 153.011719 191.4375 L 103.894531 191.4375 Z M 103.894531 32.390625 \"/>\n",
       "<path style=\" stroke:none;fill-rule:nonzero;fill:rgb(34.901961%,34.901961%,34.901961%);fill-opacity:1;\" d=\"M 153.015625 164.929688 L 202.132813 164.929688 L 202.132813 191.4375 L 153.015625 191.4375 Z M 153.015625 164.929688 \"/>\n",
       "<path style=\" stroke:none;fill-rule:nonzero;fill:rgb(34.901961%,34.901961%,34.901961%);fill-opacity:1;\" d=\"M 202.132813 85.40625 L 251.25 85.40625 L 251.25 191.4375 L 202.132813 191.4375 Z M 202.132813 85.40625 \"/>\n",
       "<path style=\" stroke:none;fill-rule:nonzero;fill:rgb(34.901961%,34.901961%,34.901961%);fill-opacity:1;\" d=\"M 251.25 85.40625 L 300.367188 85.40625 L 300.367188 191.4375 L 251.25 191.4375 Z M 251.25 85.40625 \"/>\n",
       "<path style=\" stroke:none;fill-rule:nonzero;fill:rgb(34.901961%,34.901961%,34.901961%);fill-opacity:1;\" d=\"M 300.371094 138.421875 L 349.488281 138.421875 L 349.488281 191.4375 L 300.371094 191.4375 Z M 300.371094 138.421875 \"/>\n",
       "<path style=\" stroke:none;fill-rule:nonzero;fill:rgb(34.901961%,34.901961%,34.901961%);fill-opacity:1;\" d=\"M 349.488281 164.929688 L 398.605469 164.929688 L 398.605469 191.4375 L 349.488281 191.4375 Z M 349.488281 164.929688 \"/>\n",
       "<path style=\" stroke:none;fill-rule:nonzero;fill:rgb(34.901961%,34.901961%,34.901961%);fill-opacity:1;\" d=\"M 398.605469 164.929688 L 447.722656 164.929688 L 447.722656 191.4375 L 398.605469 191.4375 Z M 398.605469 164.929688 \"/>\n",
       "<path style=\" stroke:none;fill-rule:nonzero;fill:rgb(34.901961%,34.901961%,34.901961%);fill-opacity:1;\" d=\"M 447.722656 191.4375 L 496.839844 191.4375 Z M 447.722656 191.4375 \"/>\n",
       "<path style=\" stroke:none;fill-rule:nonzero;fill:rgb(34.901961%,34.901961%,34.901961%);fill-opacity:1;\" d=\"M 496.84375 191.4375 L 545.960938 191.4375 Z M 496.84375 191.4375 \"/>\n",
       "</g>\n",
       "<g clip-path=\"url(#clip2)\" clip-rule=\"nonzero\">\n",
       "<path style=\" stroke:none;fill-rule:nonzero;fill:rgb(92.156863%,92.156863%,92.156863%);fill-opacity:1;\" d=\"M 30.21875 223.828125 L 570.519531 223.828125 L 570.519531 398.78125 L 30.21875 398.78125 Z M 30.21875 223.828125 \"/>\n",
       "<path style=\"fill:none;stroke-width:0.711319;stroke-linecap:butt;stroke-linejoin:round;stroke:rgb(100%,100%,100%);stroke-opacity:1;stroke-miterlimit:10;\" d=\"M 30.21875 364.320313 L 570.519531 364.320313 \"/>\n",
       "<path style=\"fill:none;stroke-width:0.711319;stroke-linecap:butt;stroke-linejoin:round;stroke:rgb(100%,100%,100%);stroke-opacity:1;stroke-miterlimit:10;\" d=\"M 30.21875 311.304688 L 570.519531 311.304688 \"/>\n",
       "<path style=\"fill:none;stroke-width:0.711319;stroke-linecap:butt;stroke-linejoin:round;stroke:rgb(100%,100%,100%);stroke-opacity:1;stroke-miterlimit:10;\" d=\"M 30.21875 258.289063 L 570.519531 258.289063 \"/>\n",
       "<path style=\"fill:none;stroke-width:0.711319;stroke-linecap:butt;stroke-linejoin:round;stroke:rgb(100%,100%,100%);stroke-opacity:1;stroke-miterlimit:10;\" d=\"M 136.640625 398.78125 L 136.640625 223.828125 \"/>\n",
       "<path style=\"fill:none;stroke-width:0.711319;stroke-linecap:butt;stroke-linejoin:round;stroke:rgb(100%,100%,100%);stroke-opacity:1;stroke-miterlimit:10;\" d=\"M 300.371094 398.78125 L 300.371094 223.828125 \"/>\n",
       "<path style=\"fill:none;stroke-width:0.711319;stroke-linecap:butt;stroke-linejoin:round;stroke:rgb(100%,100%,100%);stroke-opacity:1;stroke-miterlimit:10;\" d=\"M 464.097656 398.78125 L 464.097656 223.828125 \"/>\n",
       "<path style=\"fill:none;stroke-width:1.422638;stroke-linecap:butt;stroke-linejoin:round;stroke:rgb(100%,100%,100%);stroke-opacity:1;stroke-miterlimit:10;\" d=\"M 30.21875 390.828125 L 570.519531 390.828125 \"/>\n",
       "<path style=\"fill:none;stroke-width:1.422638;stroke-linecap:butt;stroke-linejoin:round;stroke:rgb(100%,100%,100%);stroke-opacity:1;stroke-miterlimit:10;\" d=\"M 30.21875 337.8125 L 570.519531 337.8125 \"/>\n",
       "<path style=\"fill:none;stroke-width:1.422638;stroke-linecap:butt;stroke-linejoin:round;stroke:rgb(100%,100%,100%);stroke-opacity:1;stroke-miterlimit:10;\" d=\"M 30.21875 284.796875 L 570.519531 284.796875 \"/>\n",
       "<path style=\"fill:none;stroke-width:1.422638;stroke-linecap:butt;stroke-linejoin:round;stroke:rgb(100%,100%,100%);stroke-opacity:1;stroke-miterlimit:10;\" d=\"M 30.21875 231.78125 L 570.519531 231.78125 \"/>\n",
       "<path style=\"fill:none;stroke-width:1.422638;stroke-linecap:butt;stroke-linejoin:round;stroke:rgb(100%,100%,100%);stroke-opacity:1;stroke-miterlimit:10;\" d=\"M 54.777344 398.78125 L 54.777344 223.828125 \"/>\n",
       "<path style=\"fill:none;stroke-width:1.422638;stroke-linecap:butt;stroke-linejoin:round;stroke:rgb(100%,100%,100%);stroke-opacity:1;stroke-miterlimit:10;\" d=\"M 218.503906 398.78125 L 218.503906 223.828125 \"/>\n",
       "<path style=\"fill:none;stroke-width:1.422638;stroke-linecap:butt;stroke-linejoin:round;stroke:rgb(100%,100%,100%);stroke-opacity:1;stroke-miterlimit:10;\" d=\"M 382.234375 398.78125 L 382.234375 223.828125 \"/>\n",
       "<path style=\"fill:none;stroke-width:1.422638;stroke-linecap:butt;stroke-linejoin:round;stroke:rgb(100%,100%,100%);stroke-opacity:1;stroke-miterlimit:10;\" d=\"M 545.960938 398.78125 L 545.960938 223.828125 \"/>\n",
       "<path style=\" stroke:none;fill-rule:nonzero;fill:rgb(34.901961%,34.901961%,34.901961%);fill-opacity:1;\" d=\"M 54.777344 390.828125 L 103.894531 390.828125 Z M 54.777344 390.828125 \"/>\n",
       "<path style=\" stroke:none;fill-rule:nonzero;fill:rgb(34.901961%,34.901961%,34.901961%);fill-opacity:1;\" d=\"M 103.894531 258.289063 L 153.011719 258.289063 L 153.011719 390.828125 L 103.894531 390.828125 Z M 103.894531 258.289063 \"/>\n",
       "<path style=\" stroke:none;fill-rule:nonzero;fill:rgb(34.901961%,34.901961%,34.901961%);fill-opacity:1;\" d=\"M 153.015625 337.8125 L 202.132813 337.8125 L 202.132813 390.828125 L 153.015625 390.828125 Z M 153.015625 337.8125 \"/>\n",
       "<path style=\" stroke:none;fill-rule:nonzero;fill:rgb(34.901961%,34.901961%,34.901961%);fill-opacity:1;\" d=\"M 202.132813 364.320313 L 251.25 364.320313 L 251.25 390.828125 L 202.132813 390.828125 Z M 202.132813 364.320313 \"/>\n",
       "<path style=\" stroke:none;fill-rule:nonzero;fill:rgb(34.901961%,34.901961%,34.901961%);fill-opacity:1;\" d=\"M 251.25 284.796875 L 300.367188 284.796875 L 300.367188 390.828125 L 251.25 390.828125 Z M 251.25 284.796875 \"/>\n",
       "<path style=\" stroke:none;fill-rule:nonzero;fill:rgb(34.901961%,34.901961%,34.901961%);fill-opacity:1;\" d=\"M 300.371094 311.304688 L 349.488281 311.304688 L 349.488281 390.828125 L 300.371094 390.828125 Z M 300.371094 311.304688 \"/>\n",
       "<path style=\" stroke:none;fill-rule:nonzero;fill:rgb(34.901961%,34.901961%,34.901961%);fill-opacity:1;\" d=\"M 349.488281 337.8125 L 398.605469 337.8125 L 398.605469 390.828125 L 349.488281 390.828125 Z M 349.488281 337.8125 \"/>\n",
       "<path style=\" stroke:none;fill-rule:nonzero;fill:rgb(34.901961%,34.901961%,34.901961%);fill-opacity:1;\" d=\"M 398.605469 364.320313 L 447.722656 364.320313 L 447.722656 390.828125 L 398.605469 390.828125 Z M 398.605469 364.320313 \"/>\n",
       "<path style=\" stroke:none;fill-rule:nonzero;fill:rgb(34.901961%,34.901961%,34.901961%);fill-opacity:1;\" d=\"M 447.722656 337.8125 L 496.839844 337.8125 L 496.839844 390.828125 L 447.722656 390.828125 Z M 447.722656 337.8125 \"/>\n",
       "<path style=\" stroke:none;fill-rule:nonzero;fill:rgb(34.901961%,34.901961%,34.901961%);fill-opacity:1;\" d=\"M 496.84375 390.828125 L 545.960938 390.828125 Z M 496.84375 390.828125 \"/>\n",
       "</g>\n",
       "<g clip-path=\"url(#clip3)\" clip-rule=\"nonzero\">\n",
       "<path style=\" stroke:none;fill-rule:nonzero;fill:rgb(85.098039%,85.098039%,85.098039%);fill-opacity:1;\" d=\"M 30.21875 5.480469 L 570.519531 5.480469 L 570.519531 24.4375 L 30.21875 24.4375 Z M 30.21875 5.480469 \"/>\n",
       "<g style=\"fill:rgb(10.196078%,10.196078%,10.196078%);fill-opacity:1;\">\n",
       "  <use xlink:href=\"#glyph0-0\" x=\"298.046875\" y=\"18.289063\"/>\n",
       "</g>\n",
       "</g>\n",
       "<g clip-path=\"url(#clip4)\" clip-rule=\"nonzero\">\n",
       "<path style=\" stroke:none;fill-rule:nonzero;fill:rgb(85.098039%,85.098039%,85.098039%);fill-opacity:1;\" d=\"M 30.21875 204.871094 L 570.519531 204.871094 L 570.519531 223.828125 L 30.21875 223.828125 Z M 30.21875 204.871094 \"/>\n",
       "<g style=\"fill:rgb(10.196078%,10.196078%,10.196078%);fill-opacity:1;\">\n",
       "  <use xlink:href=\"#glyph0-1\" x=\"298.046875\" y=\"217.679688\"/>\n",
       "</g>\n",
       "</g>\n",
       "<g style=\"fill:rgb(30.196078%,30.196078%,30.196078%);fill-opacity:1;\">\n",
       "  <use xlink:href=\"#glyph0-2\" x=\"20.113281\" y=\"194.765625\"/>\n",
       "</g>\n",
       "<g style=\"fill:rgb(30.196078%,30.196078%,30.196078%);fill-opacity:1;\">\n",
       "  <use xlink:href=\"#glyph0-3\" x=\"20.113281\" y=\"141.75\"/>\n",
       "</g>\n",
       "<g style=\"fill:rgb(30.196078%,30.196078%,30.196078%);fill-opacity:1;\">\n",
       "  <use xlink:href=\"#glyph0-4\" x=\"20.113281\" y=\"88.734375\"/>\n",
       "</g>\n",
       "<g style=\"fill:rgb(30.196078%,30.196078%,30.196078%);fill-opacity:1;\">\n",
       "  <use xlink:href=\"#glyph0-5\" x=\"20.113281\" y=\"35.71875\"/>\n",
       "</g>\n",
       "<path style=\"fill:none;stroke-width:1.422638;stroke-linecap:butt;stroke-linejoin:round;stroke:rgb(20%,20%,20%);stroke-opacity:1;stroke-miterlimit:10;\" d=\"M 27.476563 191.4375 L 30.21875 191.4375 \"/>\n",
       "<path style=\"fill:none;stroke-width:1.422638;stroke-linecap:butt;stroke-linejoin:round;stroke:rgb(20%,20%,20%);stroke-opacity:1;stroke-miterlimit:10;\" d=\"M 27.476563 138.421875 L 30.21875 138.421875 \"/>\n",
       "<path style=\"fill:none;stroke-width:1.422638;stroke-linecap:butt;stroke-linejoin:round;stroke:rgb(20%,20%,20%);stroke-opacity:1;stroke-miterlimit:10;\" d=\"M 27.476563 85.40625 L 30.21875 85.40625 \"/>\n",
       "<path style=\"fill:none;stroke-width:1.422638;stroke-linecap:butt;stroke-linejoin:round;stroke:rgb(20%,20%,20%);stroke-opacity:1;stroke-miterlimit:10;\" d=\"M 27.476563 32.390625 L 30.21875 32.390625 \"/>\n",
       "<g style=\"fill:rgb(30.196078%,30.196078%,30.196078%);fill-opacity:1;\">\n",
       "  <use xlink:href=\"#glyph0-2\" x=\"20.113281\" y=\"394.15625\"/>\n",
       "</g>\n",
       "<g style=\"fill:rgb(30.196078%,30.196078%,30.196078%);fill-opacity:1;\">\n",
       "  <use xlink:href=\"#glyph0-3\" x=\"20.113281\" y=\"341.140625\"/>\n",
       "</g>\n",
       "<g style=\"fill:rgb(30.196078%,30.196078%,30.196078%);fill-opacity:1;\">\n",
       "  <use xlink:href=\"#glyph0-4\" x=\"20.113281\" y=\"288.125\"/>\n",
       "</g>\n",
       "<g style=\"fill:rgb(30.196078%,30.196078%,30.196078%);fill-opacity:1;\">\n",
       "  <use xlink:href=\"#glyph0-5\" x=\"20.113281\" y=\"235.109375\"/>\n",
       "</g>\n",
       "<path style=\"fill:none;stroke-width:1.422638;stroke-linecap:butt;stroke-linejoin:round;stroke:rgb(20%,20%,20%);stroke-opacity:1;stroke-miterlimit:10;\" d=\"M 27.476563 390.828125 L 30.21875 390.828125 \"/>\n",
       "<path style=\"fill:none;stroke-width:1.422638;stroke-linecap:butt;stroke-linejoin:round;stroke:rgb(20%,20%,20%);stroke-opacity:1;stroke-miterlimit:10;\" d=\"M 27.476563 337.8125 L 30.21875 337.8125 \"/>\n",
       "<path style=\"fill:none;stroke-width:1.422638;stroke-linecap:butt;stroke-linejoin:round;stroke:rgb(20%,20%,20%);stroke-opacity:1;stroke-miterlimit:10;\" d=\"M 27.476563 284.796875 L 30.21875 284.796875 \"/>\n",
       "<path style=\"fill:none;stroke-width:1.422638;stroke-linecap:butt;stroke-linejoin:round;stroke:rgb(20%,20%,20%);stroke-opacity:1;stroke-miterlimit:10;\" d=\"M 27.476563 231.78125 L 30.21875 231.78125 \"/>\n",
       "<path style=\"fill:none;stroke-width:1.422638;stroke-linecap:butt;stroke-linejoin:round;stroke:rgb(20%,20%,20%);stroke-opacity:1;stroke-miterlimit:10;\" d=\"M 54.777344 401.523438 L 54.777344 398.78125 \"/>\n",
       "<path style=\"fill:none;stroke-width:1.422638;stroke-linecap:butt;stroke-linejoin:round;stroke:rgb(20%,20%,20%);stroke-opacity:1;stroke-miterlimit:10;\" d=\"M 218.503906 401.523438 L 218.503906 398.78125 \"/>\n",
       "<path style=\"fill:none;stroke-width:1.422638;stroke-linecap:butt;stroke-linejoin:round;stroke:rgb(20%,20%,20%);stroke-opacity:1;stroke-miterlimit:10;\" d=\"M 382.234375 401.523438 L 382.234375 398.78125 \"/>\n",
       "<path style=\"fill:none;stroke-width:1.422638;stroke-linecap:butt;stroke-linejoin:round;stroke:rgb(20%,20%,20%);stroke-opacity:1;stroke-miterlimit:10;\" d=\"M 545.960938 401.523438 L 545.960938 398.78125 \"/>\n",
       "<g style=\"fill:rgb(30.196078%,30.196078%,30.196078%);fill-opacity:1;\">\n",
       "  <use xlink:href=\"#glyph0-2\" x=\"52.191406\" y=\"410.371094\"/>\n",
       "</g>\n",
       "<g style=\"fill:rgb(30.196078%,30.196078%,30.196078%);fill-opacity:1;\">\n",
       "  <use xlink:href=\"#glyph0-3\" x=\"210.746094\" y=\"410.371094\"/>\n",
       "  <use xlink:href=\"#glyph0-2\" x=\"215.918311\" y=\"410.371094\"/>\n",
       "  <use xlink:href=\"#glyph0-2\" x=\"221.090527\" y=\"410.371094\"/>\n",
       "</g>\n",
       "<g style=\"fill:rgb(30.196078%,30.196078%,30.196078%);fill-opacity:1;\">\n",
       "  <use xlink:href=\"#glyph0-4\" x=\"374.476563\" y=\"410.371094\"/>\n",
       "  <use xlink:href=\"#glyph0-2\" x=\"379.648779\" y=\"410.371094\"/>\n",
       "  <use xlink:href=\"#glyph0-2\" x=\"384.820996\" y=\"410.371094\"/>\n",
       "</g>\n",
       "<g style=\"fill:rgb(30.196078%,30.196078%,30.196078%);fill-opacity:1;\">\n",
       "  <use xlink:href=\"#glyph0-5\" x=\"538.203125\" y=\"410.371094\"/>\n",
       "  <use xlink:href=\"#glyph0-2\" x=\"543.375342\" y=\"410.371094\"/>\n",
       "  <use xlink:href=\"#glyph0-2\" x=\"548.547559\" y=\"410.371094\"/>\n",
       "</g>\n",
       "<g style=\"fill:rgb(0%,0%,0%);fill-opacity:1;\">\n",
       "  <use xlink:href=\"#glyph1-0\" x=\"293.019531\" y=\"424.328125\"/>\n",
       "  <use xlink:href=\"#glyph1-1\" x=\"298.769531\" y=\"424.328125\"/>\n",
       "  <use xlink:href=\"#glyph1-2\" x=\"305.165283\" y=\"424.328125\"/>\n",
       "</g>\n",
       "<g style=\"fill:rgb(0%,0%,0%);fill-opacity:1;\">\n",
       "  <use xlink:href=\"#glyph2-0\" x=\"15.902344\" y=\"225.675781\"/>\n",
       "  <use xlink:href=\"#glyph2-1\" x=\"15.902344\" y=\"219.925781\"/>\n",
       "  <use xlink:href=\"#glyph2-2\" x=\"15.902344\" y=\"213.530029\"/>\n",
       "  <use xlink:href=\"#glyph2-3\" x=\"15.902344\" y=\"207.134277\"/>\n",
       "  <use xlink:href=\"#glyph2-4\" x=\"15.902344\" y=\"200.738525\"/>\n",
       "</g>\n",
       "</g>\n",
       "</svg>\n"
      ],
      "text/plain": [
       "plot without title"
      ]
     },
     "metadata": {
      "image/svg+xml": {
       "isolated": true
      }
     },
     "output_type": "display_data"
    }
   ],
   "source": [
    "d %>>% gather(key, val, -親子) %>>% \n",
    "    ggplot(aes(x = val)) + geom_histogram(breaks = seq(0, 600, 60)) + facet_wrap(~ key, nrow = 2)"
   ]
  },
  {
   "cell_type": "markdown",
   "metadata": {},
   "source": [
    "* 平均値"
   ]
  },
  {
   "cell_type": "code",
   "execution_count": 5,
   "metadata": {
    "collapsed": false,
    "scrolled": true
   },
   "outputs": [
    {
     "data": {
      "text/html": [
       "<table>\n",
       "<thead><tr><th></th><th scope=col>x</th><th scope=col>y</th></tr></thead>\n",
       "<tbody>\n",
       "\t<tr><th scope=row>1</th><td>213.5</td><td>262.5</td></tr>\n",
       "</tbody>\n",
       "</table>\n"
      ],
      "text/latex": [
       "\\begin{tabular}{r|ll}\n",
       "  & x & y\\\\\n",
       "\\hline\n",
       "\t1 & 213.5 & 262.5\\\\\n",
       "\\end{tabular}\n"
      ],
      "text/plain": [
       "      x     y\n",
       "1 213.5 262.5"
      ]
     },
     "metadata": {},
     "output_type": "display_data"
    }
   ],
   "source": [
    "d %>>% summarise_each(funs(mean), -親子)"
   ]
  },
  {
   "cell_type": "markdown",
   "metadata": {},
   "source": [
    "* 中央値"
   ]
  },
  {
   "cell_type": "code",
   "execution_count": 6,
   "metadata": {
    "collapsed": false,
    "scrolled": true
   },
   "outputs": [
    {
     "data": {
      "text/html": [
       "<table>\n",
       "<thead><tr><th></th><th scope=col>x</th><th scope=col>y</th></tr></thead>\n",
       "<tbody>\n",
       "\t<tr><th scope=row>1</th><td>215</td><td>265</td></tr>\n",
       "</tbody>\n",
       "</table>\n"
      ],
      "text/latex": [
       "\\begin{tabular}{r|ll}\n",
       "  & x & y\\\\\n",
       "\\hline\n",
       "\t1 & 215 & 265\\\\\n",
       "\\end{tabular}\n"
      ],
      "text/plain": [
       "    x   y\n",
       "1 215 265"
      ]
     },
     "metadata": {},
     "output_type": "display_data"
    }
   ],
   "source": [
    "d %>>% summarise_each(funs(median), -親子)"
   ]
  },
  {
   "cell_type": "markdown",
   "metadata": {},
   "source": [
    "* 標本分散"
   ]
  },
  {
   "cell_type": "code",
   "execution_count": 7,
   "metadata": {
    "collapsed": true
   },
   "outputs": [],
   "source": [
    "varp <- function(x) {\n",
    "    ret <- var(x) * (length(x) - 1) / length(x)\n",
    "    ret\n",
    "}"
   ]
  },
  {
   "cell_type": "code",
   "execution_count": 8,
   "metadata": {
    "collapsed": false
   },
   "outputs": [
    {
     "data": {
      "text/html": [
       "<table>\n",
       "<thead><tr><th></th><th scope=col>x</th><th scope=col>y</th></tr></thead>\n",
       "<tbody>\n",
       "\t<tr><th scope=row>1</th><td>13492.75</td><td>19328.75</td></tr>\n",
       "</tbody>\n",
       "</table>\n"
      ],
      "text/latex": [
       "\\begin{tabular}{r|ll}\n",
       "  & x & y\\\\\n",
       "\\hline\n",
       "\t1 & 13492.75 & 19328.75\\\\\n",
       "\\end{tabular}\n"
      ],
      "text/plain": [
       "         x        y\n",
       "1 13492.75 19328.75"
      ]
     },
     "metadata": {},
     "output_type": "display_data"
    }
   ],
   "source": [
    "d %>>% summarise_each(funs(varp), -親子)"
   ]
  },
  {
   "cell_type": "markdown",
   "metadata": {},
   "source": [
    "* 標準偏差"
   ]
  },
  {
   "cell_type": "code",
   "execution_count": 9,
   "metadata": {
    "collapsed": false,
    "scrolled": true
   },
   "outputs": [
    {
     "data": {
      "text/html": [
       "<table>\n",
       "<thead><tr><th></th><th scope=col>x</th><th scope=col>y</th></tr></thead>\n",
       "<tbody>\n",
       "\t<tr><th scope=row>1</th><td>116.1583</td><td>139.0279</td></tr>\n",
       "</tbody>\n",
       "</table>\n"
      ],
      "text/latex": [
       "\\begin{tabular}{r|ll}\n",
       "  & x & y\\\\\n",
       "\\hline\n",
       "\t1 & 116.1583 & 139.0279\\\\\n",
       "\\end{tabular}\n"
      ],
      "text/plain": [
       "         x        y\n",
       "1 116.1583 139.0279"
      ]
     },
     "metadata": {},
     "output_type": "display_data"
    }
   ],
   "source": [
    "d %>>% summarise_each(funs(sqrt(varp(.))), -親子)"
   ]
  },
  {
   "cell_type": "markdown",
   "metadata": {},
   "source": [
    "（1.2）xとyの差について，度数分布，代表値，散布度"
   ]
  },
  {
   "cell_type": "code",
   "execution_count": 10,
   "metadata": {
    "collapsed": false
   },
   "outputs": [],
   "source": [
    "d <- d %>>% mutate(yx = y - x)"
   ]
  },
  {
   "cell_type": "code",
   "execution_count": 11,
   "metadata": {
    "collapsed": true
   },
   "outputs": [],
   "source": [
    "options(repr.plot.width = 4, repr.plot.height = 4)"
   ]
  },
  {
   "cell_type": "code",
   "execution_count": 12,
   "metadata": {
    "collapsed": false
   },
   "outputs": [
    {
     "data": {
      "text/plain": []
     },
     "metadata": {},
     "output_type": "display_data"
    },
    {
     "data": {
      "image/png": "[encoded data removed]",
      "image/svg+xml": [
       "<?xml version=\"1.0\" encoding=\"UTF-8\"?>\n",
       "<svg xmlns=\"http://www.w3.org/2000/svg\" xmlns:xlink=\"http://www.w3.org/1999/xlink\" width=\"288pt\" height=\"288pt\" viewBox=\"0 0 288 288\" version=\"1.1\">\n",
       "<defs>\n",
       "<g>\n",
       "<symbol overflow=\"visible\" id=\"glyph0-0\">\n",
       "<path style=\"stroke:none;\" d=\"M 0.386719 -3.28125 C 0.386719 -4.070313 0.464844 -4.703125 0.628906 -5.183594 C 0.785156 -5.660156 1.027344 -6.03125 1.347656 -6.292969 C 1.667969 -6.550781 2.070313 -6.679688 2.554688 -6.683594 C 2.914063 -6.679688 3.226563 -6.609375 3.496094 -6.46875 C 3.765625 -6.324219 3.988281 -6.117188 4.164063 -5.847656 C 4.335938 -5.574219 4.472656 -5.242188 4.574219 -4.855469 C 4.671875 -4.464844 4.722656 -3.941406 4.726563 -3.28125 C 4.722656 -2.5 4.640625 -1.867188 4.484375 -1.390625 C 4.320313 -0.90625 4.082031 -0.535156 3.765625 -0.277344 C 3.445313 -0.015625 3.042969 0.109375 2.554688 0.113281 C 1.914063 0.109375 1.410156 -0.117188 1.042969 -0.578125 C 0.605469 -1.128906 0.386719 -2.03125 0.386719 -3.28125 Z M 1.226563 -3.28125 C 1.222656 -2.1875 1.351563 -1.460938 1.609375 -1.101563 C 1.863281 -0.738281 2.179688 -0.554688 2.554688 -0.558594 C 2.929688 -0.554688 3.246094 -0.738281 3.503906 -1.101563 C 3.757813 -1.464844 3.882813 -2.191406 3.886719 -3.28125 C 3.882813 -4.375 3.757813 -5.101563 3.503906 -5.464844 C 3.246094 -5.824219 2.925781 -6.003906 2.546875 -6.007813 C 2.167969 -6.003906 1.867188 -5.847656 1.648438 -5.53125 C 1.363281 -5.125 1.222656 -4.375 1.226563 -3.28125 Z M 1.226563 -3.28125 \"/>\n",
       "</symbol>\n",
       "<symbol overflow=\"visible\" id=\"glyph0-1\">\n",
       "<path style=\"stroke:none;\" d=\"M 4.683594 -0.785156 L 4.683594 0 L 0.28125 0 C 0.273438 -0.195313 0.304688 -0.382813 0.375 -0.566406 C 0.488281 -0.863281 0.667969 -1.160156 0.914063 -1.453125 C 1.160156 -1.742188 1.515625 -2.078125 1.984375 -2.460938 C 2.707031 -3.054688 3.195313 -3.523438 3.449219 -3.871094 C 3.703125 -4.214844 3.832031 -4.542969 3.832031 -4.855469 C 3.832031 -5.175781 3.714844 -5.449219 3.484375 -5.671875 C 3.25 -5.894531 2.949219 -6.003906 2.578125 -6.007813 C 2.183594 -6.003906 1.867188 -5.886719 1.632813 -5.652344 C 1.394531 -5.414063 1.277344 -5.085938 1.277344 -4.671875 L 0.4375 -4.757813 C 0.492188 -5.382813 0.707031 -5.859375 1.085938 -6.191406 C 1.457031 -6.515625 1.960938 -6.679688 2.597656 -6.683594 C 3.230469 -6.679688 3.738281 -6.503906 4.113281 -6.152344 C 4.484375 -5.796875 4.667969 -5.355469 4.671875 -4.835938 C 4.667969 -4.566406 4.613281 -4.304688 4.507813 -4.050781 C 4.398438 -3.789063 4.21875 -3.519531 3.964844 -3.238281 C 3.710938 -2.953125 3.292969 -2.5625 2.707031 -2.066406 C 2.214844 -1.652344 1.898438 -1.371094 1.761719 -1.226563 C 1.621094 -1.078125 1.507813 -0.933594 1.417969 -0.785156 Z M 4.683594 -0.785156 \"/>\n",
       "</symbol>\n",
       "<symbol overflow=\"visible\" id=\"glyph0-2\">\n",
       "<path style=\"stroke:none;\" d=\"M 3.007813 0 L 3.007813 -1.59375 L 0.117188 -1.59375 L 0.117188 -2.34375 L 3.15625 -6.65625 L 3.824219 -6.65625 L 3.824219 -2.34375 L 4.722656 -2.34375 L 4.722656 -1.59375 L 3.824219 -1.59375 L 3.824219 0 Z M 3.007813 -2.34375 L 3.007813 -5.34375 L 0.921875 -2.34375 Z M 3.007813 -2.34375 \"/>\n",
       "</symbol>\n",
       "<symbol overflow=\"visible\" id=\"glyph0-3\">\n",
       "<path style=\"stroke:none;\" d=\"M 4.628906 -5.027344 L 3.816406 -4.964844 C 3.738281 -5.28125 3.636719 -5.515625 3.503906 -5.664063 C 3.285156 -5.894531 3.011719 -6.011719 2.6875 -6.011719 C 2.425781 -6.011719 2.199219 -5.9375 2.003906 -5.792969 C 1.746094 -5.601563 1.542969 -5.328125 1.394531 -4.972656 C 1.246094 -4.609375 1.167969 -4.097656 1.164063 -3.433594 C 1.355469 -3.730469 1.59375 -3.953125 1.882813 -4.101563 C 2.164063 -4.246094 2.464844 -4.316406 2.777344 -4.320313 C 3.324219 -4.316406 3.789063 -4.117188 4.171875 -3.714844 C 4.554688 -3.3125 4.746094 -2.792969 4.746094 -2.160156 C 4.746094 -1.742188 4.652344 -1.355469 4.472656 -0.996094 C 4.289063 -0.636719 4.042969 -0.359375 3.730469 -0.171875 C 3.414063 0.0195313 3.058594 0.109375 2.660156 0.113281 C 1.980469 0.109375 1.425781 -0.136719 0.996094 -0.636719 C 0.566406 -1.136719 0.351563 -1.960938 0.351563 -3.113281 C 0.351563 -4.398438 0.585938 -5.335938 1.0625 -5.921875 C 1.472656 -6.425781 2.03125 -6.679688 2.738281 -6.683594 C 3.257813 -6.679688 3.6875 -6.53125 4.023438 -6.242188 C 4.355469 -5.945313 4.558594 -5.542969 4.628906 -5.027344 Z M 1.289063 -2.15625 C 1.289063 -1.875 1.347656 -1.605469 1.46875 -1.347656 C 1.585938 -1.089844 1.753906 -0.890625 1.96875 -0.757813 C 2.183594 -0.621094 2.410156 -0.554688 2.648438 -0.558594 C 2.992188 -0.554688 3.285156 -0.695313 3.535156 -0.976563 C 3.78125 -1.253906 3.90625 -1.632813 3.910156 -2.113281 C 3.90625 -2.570313 3.785156 -2.933594 3.542969 -3.199219 C 3.296875 -3.464844 2.988281 -3.597656 2.617188 -3.597656 C 2.246094 -3.597656 1.933594 -3.464844 1.675781 -3.199219 C 1.417969 -2.933594 1.289063 -2.585938 1.289063 -2.15625 Z M 1.289063 -2.15625 \"/>\n",
       "</symbol>\n",
       "<symbol overflow=\"visible\" id=\"glyph0-4\">\n",
       "<path style=\"stroke:none;\" d=\"M 1.644531 -3.609375 C 1.304688 -3.734375 1.054688 -3.910156 0.890625 -4.140625 C 0.726563 -4.371094 0.644531 -4.648438 0.644531 -4.96875 C 0.644531 -5.453125 0.816406 -5.859375 1.164063 -6.1875 C 1.511719 -6.515625 1.976563 -6.679688 2.554688 -6.683594 C 3.136719 -6.679688 3.605469 -6.511719 3.960938 -6.175781 C 4.3125 -5.839844 4.488281 -5.429688 4.492188 -4.945313 C 4.488281 -4.632813 4.40625 -4.363281 4.246094 -4.136719 C 4.082031 -3.910156 3.835938 -3.734375 3.511719 -3.609375 C 3.917969 -3.476563 4.230469 -3.261719 4.441406 -2.964844 C 4.652344 -2.667969 4.757813 -2.3125 4.761719 -1.902344 C 4.757813 -1.332031 4.554688 -0.855469 4.15625 -0.46875 C 3.75 -0.0820313 3.222656 0.109375 2.570313 0.113281 C 1.910156 0.109375 1.378906 -0.0820313 0.980469 -0.46875 C 0.574219 -0.859375 0.375 -1.34375 0.375 -1.925781 C 0.375 -2.355469 0.484375 -2.71875 0.703125 -3.011719 C 0.921875 -3.304688 1.234375 -3.503906 1.644531 -3.609375 Z M 1.480469 -4.996094 C 1.476563 -4.679688 1.578125 -4.421875 1.785156 -4.222656 C 1.984375 -4.019531 2.246094 -3.917969 2.574219 -3.921875 C 2.886719 -3.917969 3.144531 -4.019531 3.347656 -4.21875 C 3.546875 -4.417969 3.648438 -4.660156 3.652344 -4.949219 C 3.648438 -5.246094 3.546875 -5.496094 3.339844 -5.703125 C 3.128906 -5.90625 2.871094 -6.011719 2.566406 -6.011719 C 2.253906 -6.011719 1.992188 -5.910156 1.789063 -5.710938 C 1.578125 -5.511719 1.476563 -5.273438 1.480469 -4.996094 Z M 1.21875 -1.921875 C 1.21875 -1.6875 1.273438 -1.460938 1.382813 -1.242188 C 1.492188 -1.023438 1.65625 -0.855469 1.875 -0.738281 C 2.09375 -0.617188 2.328125 -0.554688 2.578125 -0.558594 C 2.96875 -0.554688 3.289063 -0.679688 3.546875 -0.933594 C 3.796875 -1.183594 3.925781 -1.503906 3.929688 -1.894531 C 3.925781 -2.285156 3.792969 -2.613281 3.535156 -2.871094 C 3.269531 -3.128906 2.941406 -3.257813 2.550781 -3.257813 C 2.164063 -3.257813 1.847656 -3.128906 1.597656 -2.875 C 1.34375 -2.617188 1.21875 -2.300781 1.21875 -1.921875 Z M 1.21875 -1.921875 \"/>\n",
       "</symbol>\n",
       "<symbol overflow=\"visible\" id=\"glyph1-0\">\n",
       "<path style=\"stroke:none;\" d=\"M 0.714844 2.296875 L 0.601563 1.347656 C 0.820313 1.40625 1.011719 1.433594 1.179688 1.4375 C 1.398438 1.433594 1.578125 1.398438 1.71875 1.324219 C 1.851563 1.246094 1.964844 1.140625 2.050781 1.011719 C 2.113281 0.90625 2.214844 0.65625 2.359375 0.257813 C 2.375 0.203125 2.40625 0.121094 2.449219 0.0117188 L 0.183594 -5.964844 L 1.273438 -5.964844 L 2.515625 -2.511719 C 2.671875 -2.070313 2.816406 -1.609375 2.949219 -1.128906 C 3.058594 -1.589844 3.199219 -2.042969 3.363281 -2.488281 L 4.636719 -5.964844 L 5.648438 -5.964844 L 3.378906 0.101563 C 3.132813 0.75 2.945313 1.203125 2.8125 1.453125 C 2.632813 1.785156 2.425781 2.027344 2.195313 2.1875 C 1.960938 2.339844 1.683594 2.417969 1.363281 2.421875 C 1.167969 2.417969 0.953125 2.378906 0.714844 2.296875 Z M 0.714844 2.296875 \"/>\n",
       "</symbol>\n",
       "<symbol overflow=\"visible\" id=\"glyph1-1\">\n",
       "<path style=\"stroke:none;\" d=\"M 0.0859375 0 L 2.261719 -3.101563 L 0.246094 -5.964844 L 1.511719 -5.964844 L 2.425781 -4.566406 C 2.597656 -4.296875 2.734375 -4.074219 2.839844 -3.898438 C 3.003906 -4.140625 3.15625 -4.359375 3.296875 -4.554688 L 4.300781 -5.964844 L 5.507813 -5.964844 L 3.449219 -3.15625 L 5.664063 0 L 4.425781 0 L 3.199219 -1.851563 L 2.875 -2.351563 L 1.308594 0 Z M 0.0859375 0 \"/>\n",
       "</symbol>\n",
       "<symbol overflow=\"visible\" id=\"glyph2-0\">\n",
       "<path style=\"stroke:none;\" d=\"M -2.183594 -4.648438 L -2.054688 -5.644531 C -1.367188 -5.53125 -0.832031 -5.253906 -0.445313 -4.808594 C -0.0585938 -4.359375 0.132813 -3.808594 0.136719 -3.160156 C 0.132813 -2.339844 -0.128906 -1.683594 -0.664063 -1.191406 C -1.195313 -0.691406 -1.960938 -0.445313 -2.960938 -0.449219 C -3.601563 -0.445313 -4.164063 -0.550781 -4.648438 -0.769531 C -5.128906 -0.980469 -5.492188 -1.304688 -5.734375 -1.742188 C -5.972656 -2.175781 -6.09375 -2.652344 -6.097656 -3.167969 C -6.09375 -3.8125 -5.929688 -4.339844 -5.605469 -4.753906 C -5.277344 -5.164063 -4.8125 -5.429688 -4.210938 -5.546875 L -4.058594 -4.566406 C -4.457031 -4.46875 -4.757813 -4.304688 -4.960938 -4.066406 C -5.160156 -3.828125 -5.261719 -3.539063 -5.265625 -3.207031 C -5.261719 -2.691406 -5.078125 -2.277344 -4.71875 -1.964844 C -4.351563 -1.644531 -3.777344 -1.488281 -2.988281 -1.488281 C -2.183594 -1.488281 -1.597656 -1.640625 -1.238281 -1.949219 C -0.871094 -2.253906 -0.691406 -2.652344 -0.695313 -3.148438 C -0.691406 -3.542969 -0.8125 -3.875 -1.058594 -4.144531 C -1.300781 -4.40625 -1.675781 -4.574219 -2.183594 -4.648438 Z M -2.183594 -4.648438 \"/>\n",
       "</symbol>\n",
       "<symbol overflow=\"visible\" id=\"glyph2-1\">\n",
       "<path style=\"stroke:none;\" d=\"M -2.980469 -0.382813 C -4.082031 -0.378906 -4.902344 -0.6875 -5.4375 -1.304688 C -5.875 -1.8125 -6.09375 -2.4375 -6.097656 -3.179688 C -6.09375 -3.996094 -5.824219 -4.664063 -5.292969 -5.1875 C -4.753906 -5.703125 -4.011719 -5.964844 -3.066406 -5.96875 C -2.292969 -5.964844 -1.691406 -5.847656 -1.253906 -5.621094 C -0.8125 -5.386719 -0.46875 -5.054688 -0.226563 -4.617188 C 0.015625 -4.175781 0.132813 -3.695313 0.136719 -3.179688 C 0.132813 -2.339844 -0.132813 -1.664063 -0.667969 -1.152344 C -1.203125 -0.636719 -1.972656 -0.378906 -2.980469 -0.382813 Z M -2.980469 -1.421875 C -2.214844 -1.417969 -1.644531 -1.585938 -1.265625 -1.921875 C -0.882813 -2.253906 -0.691406 -2.671875 -0.695313 -3.179688 C -0.691406 -3.675781 -0.882813 -4.09375 -1.265625 -4.429688 C -1.648438 -4.761719 -2.230469 -4.925781 -3.015625 -4.929688 C -3.75 -4.925781 -4.308594 -4.757813 -4.691406 -4.425781 C -5.070313 -4.089844 -5.261719 -3.675781 -5.261719 -3.179688 C -5.261719 -2.671875 -5.070313 -2.253906 -4.695313 -1.921875 C -4.3125 -1.585938 -3.742188 -1.417969 -2.980469 -1.421875 Z M -2.980469 -1.421875 \"/>\n",
       "</symbol>\n",
       "<symbol overflow=\"visible\" id=\"glyph2-2\">\n",
       "<path style=\"stroke:none;\" d=\"M 0 -4.667969 L -0.875 -4.667969 C -0.199219 -4.199219 0.132813 -3.566406 0.136719 -2.773438 C 0.132813 -2.417969 0.0703125 -2.089844 -0.0664063 -1.789063 C -0.199219 -1.480469 -0.371094 -1.253906 -0.574219 -1.109375 C -0.777344 -0.957031 -1.027344 -0.855469 -1.324219 -0.796875 C -1.519531 -0.753906 -1.832031 -0.730469 -2.269531 -0.734375 L -5.964844 -0.734375 L -5.964844 -1.746094 L -2.65625 -1.746094 C -2.125 -1.746094 -1.769531 -1.765625 -1.589844 -1.808594 C -1.320313 -1.867188 -1.113281 -2 -0.960938 -2.210938 C -0.808594 -2.414063 -0.730469 -2.671875 -0.734375 -2.976563 C -0.730469 -3.277344 -0.808594 -3.558594 -0.96875 -3.828125 C -1.121094 -4.089844 -1.332031 -4.277344 -1.601563 -4.390625 C -1.867188 -4.5 -2.257813 -4.558594 -2.769531 -4.558594 L -5.964844 -4.558594 L -5.964844 -5.570313 L 0 -5.570313 Z M 0 -4.667969 \"/>\n",
       "</symbol>\n",
       "<symbol overflow=\"visible\" id=\"glyph2-3\">\n",
       "<path style=\"stroke:none;\" d=\"M 0 -0.757813 L -5.964844 -0.757813 L -5.964844 -1.667969 L -5.117188 -1.667969 C -5.765625 -2.101563 -6.09375 -2.734375 -6.097656 -3.566406 C -6.09375 -3.921875 -6.027344 -4.25 -5.902344 -4.554688 C -5.769531 -4.851563 -5.601563 -5.078125 -5.394531 -5.230469 C -5.183594 -5.378906 -4.933594 -5.484375 -4.648438 -5.546875 C -4.457031 -5.582031 -4.132813 -5.601563 -3.667969 -5.605469 L 0 -5.605469 L 0 -4.59375 L -3.628906 -4.59375 C -4.035156 -4.59375 -4.34375 -4.554688 -4.550781 -4.476563 C -4.75 -4.398438 -4.914063 -4.257813 -5.039063 -4.058594 C -5.160156 -3.855469 -5.21875 -3.621094 -5.222656 -3.351563 C -5.21875 -2.921875 -5.082031 -2.550781 -4.8125 -2.238281 C -4.535156 -1.925781 -4.019531 -1.769531 -3.257813 -1.769531 L 0 -1.769531 Z M 0 -0.757813 \"/>\n",
       "</symbol>\n",
       "<symbol overflow=\"visible\" id=\"glyph2-4\">\n",
       "<path style=\"stroke:none;\" d=\"M -0.902344 -2.964844 L -0.0117188 -3.109375 C 0.046875 -2.824219 0.0742188 -2.570313 0.078125 -2.347656 C 0.0742188 -1.976563 0.0195313 -1.691406 -0.09375 -1.492188 C -0.210938 -1.289063 -0.363281 -1.148438 -0.550781 -1.066406 C -0.738281 -0.984375 -1.136719 -0.941406 -1.746094 -0.945313 L -5.175781 -0.945313 L -5.175781 -0.203125 L -5.964844 -0.203125 L -5.964844 -0.945313 L -7.441406 -0.945313 L -8.046875 -1.949219 L -5.964844 -1.949219 L -5.964844 -2.964844 L -5.175781 -2.964844 L -5.175781 -1.949219 L -1.691406 -1.949219 C -1.398438 -1.945313 -1.210938 -1.960938 -1.132813 -2 C -1.046875 -2.03125 -0.984375 -2.089844 -0.9375 -2.175781 C -0.886719 -2.253906 -0.859375 -2.371094 -0.863281 -2.519531 C -0.859375 -2.632813 -0.875 -2.78125 -0.902344 -2.964844 Z M -0.902344 -2.964844 \"/>\n",
       "</symbol>\n",
       "</g>\n",
       "<clipPath id=\"clip1\">\n",
       "  <path d=\"M 30.390625 5.480469 L 283.519531 5.480469 L 283.519531 257.125 L 30.390625 257.125 Z M 30.390625 5.480469 \"/>\n",
       "</clipPath>\n",
       "</defs>\n",
       "<g id=\"surface59\">\n",
       "<rect x=\"0\" y=\"0\" width=\"288\" height=\"288\" style=\"fill:rgb(100%,100%,100%);fill-opacity:1;stroke:none;\"/>\n",
       "<rect x=\"0\" y=\"0\" width=\"288\" height=\"288\" style=\"fill:rgb(100%,100%,100%);fill-opacity:1;stroke:none;\"/>\n",
       "<path style=\"fill:none;stroke-width:1.422638;stroke-linecap:round;stroke-linejoin:round;stroke:rgb(100%,100%,100%);stroke-opacity:1;stroke-miterlimit:10;\" d=\"M 0 0 L 288 0 L 288 288 L 0 288 Z M 0 0 \"/>\n",
       "<g clip-path=\"url(#clip1)\" clip-rule=\"nonzero\">\n",
       "<path style=\" stroke:none;fill-rule:nonzero;fill:rgb(92.156863%,92.156863%,92.156863%);fill-opacity:1;\" d=\"M 30.390625 5.480469 L 282.519531 5.480469 L 282.519531 256.125 L 30.390625 256.125 Z M 30.390625 5.480469 \"/>\n",
       "<path style=\"fill:none;stroke-width:0.711319;stroke-linecap:butt;stroke-linejoin:round;stroke:rgb(100%,100%,100%);stroke-opacity:1;stroke-miterlimit:10;\" d=\"M 30.390625 212.179688 L 282.519531 212.179688 \"/>\n",
       "<path style=\"fill:none;stroke-width:0.711319;stroke-linecap:butt;stroke-linejoin:round;stroke:rgb(100%,100%,100%);stroke-opacity:1;stroke-miterlimit:10;\" d=\"M 30.390625 147.078125 L 282.519531 147.078125 \"/>\n",
       "<path style=\"fill:none;stroke-width:0.711319;stroke-linecap:butt;stroke-linejoin:round;stroke:rgb(100%,100%,100%);stroke-opacity:1;stroke-miterlimit:10;\" d=\"M 30.390625 81.976563 L 282.519531 81.976563 \"/>\n",
       "<path style=\"fill:none;stroke-width:0.711319;stroke-linecap:butt;stroke-linejoin:round;stroke:rgb(100%,100%,100%);stroke-opacity:1;stroke-miterlimit:10;\" d=\"M 30.390625 16.871094 L 282.519531 16.871094 \"/>\n",
       "<path style=\"fill:none;stroke-width:0.711319;stroke-linecap:butt;stroke-linejoin:round;stroke:rgb(100%,100%,100%);stroke-opacity:1;stroke-miterlimit:10;\" d=\"M 74.59375 256.125 L 74.59375 5.480469 \"/>\n",
       "<path style=\"fill:none;stroke-width:0.711319;stroke-linecap:butt;stroke-linejoin:round;stroke:rgb(100%,100%,100%);stroke-opacity:1;stroke-miterlimit:10;\" d=\"M 140.082031 256.125 L 140.082031 5.480469 \"/>\n",
       "<path style=\"fill:none;stroke-width:0.711319;stroke-linecap:butt;stroke-linejoin:round;stroke:rgb(100%,100%,100%);stroke-opacity:1;stroke-miterlimit:10;\" d=\"M 205.570313 256.125 L 205.570313 5.480469 \"/>\n",
       "<path style=\"fill:none;stroke-width:0.711319;stroke-linecap:butt;stroke-linejoin:round;stroke:rgb(100%,100%,100%);stroke-opacity:1;stroke-miterlimit:10;\" d=\"M 271.058594 256.125 L 271.058594 5.480469 \"/>\n",
       "<path style=\"fill:none;stroke-width:1.422638;stroke-linecap:butt;stroke-linejoin:round;stroke:rgb(100%,100%,100%);stroke-opacity:1;stroke-miterlimit:10;\" d=\"M 30.390625 244.730469 L 282.519531 244.730469 \"/>\n",
       "<path style=\"fill:none;stroke-width:1.422638;stroke-linecap:butt;stroke-linejoin:round;stroke:rgb(100%,100%,100%);stroke-opacity:1;stroke-miterlimit:10;\" d=\"M 30.390625 179.628906 L 282.519531 179.628906 \"/>\n",
       "<path style=\"fill:none;stroke-width:1.422638;stroke-linecap:butt;stroke-linejoin:round;stroke:rgb(100%,100%,100%);stroke-opacity:1;stroke-miterlimit:10;\" d=\"M 30.390625 114.527344 L 282.519531 114.527344 \"/>\n",
       "<path style=\"fill:none;stroke-width:1.422638;stroke-linecap:butt;stroke-linejoin:round;stroke:rgb(100%,100%,100%);stroke-opacity:1;stroke-miterlimit:10;\" d=\"M 30.390625 49.421875 L 282.519531 49.421875 \"/>\n",
       "<path style=\"fill:none;stroke-width:1.422638;stroke-linecap:butt;stroke-linejoin:round;stroke:rgb(100%,100%,100%);stroke-opacity:1;stroke-miterlimit:10;\" d=\"M 41.851563 256.125 L 41.851563 5.480469 \"/>\n",
       "<path style=\"fill:none;stroke-width:1.422638;stroke-linecap:butt;stroke-linejoin:round;stroke:rgb(100%,100%,100%);stroke-opacity:1;stroke-miterlimit:10;\" d=\"M 107.339844 256.125 L 107.339844 5.480469 \"/>\n",
       "<path style=\"fill:none;stroke-width:1.422638;stroke-linecap:butt;stroke-linejoin:round;stroke:rgb(100%,100%,100%);stroke-opacity:1;stroke-miterlimit:10;\" d=\"M 172.828125 256.125 L 172.828125 5.480469 \"/>\n",
       "<path style=\"fill:none;stroke-width:1.422638;stroke-linecap:butt;stroke-linejoin:round;stroke:rgb(100%,100%,100%);stroke-opacity:1;stroke-miterlimit:10;\" d=\"M 238.316406 256.125 L 238.316406 5.480469 \"/>\n",
       "<path style=\" stroke:none;fill-rule:nonzero;fill:rgb(34.901961%,34.901961%,34.901961%);fill-opacity:1;\" d=\"M 41.851563 16.871094 L 74.597656 16.871094 L 74.597656 244.730469 L 41.851563 244.730469 Z M 41.851563 16.871094 \"/>\n",
       "<path style=\" stroke:none;fill-rule:nonzero;fill:rgb(34.901961%,34.901961%,34.901961%);fill-opacity:1;\" d=\"M 74.59375 212.179688 L 107.339844 212.179688 L 107.339844 244.730469 L 74.59375 244.730469 Z M 74.59375 212.179688 \"/>\n",
       "<path style=\" stroke:none;fill-rule:nonzero;fill:rgb(34.901961%,34.901961%,34.901961%);fill-opacity:1;\" d=\"M 107.339844 114.527344 L 140.085938 114.527344 L 140.085938 244.734375 L 107.339844 244.734375 Z M 107.339844 114.527344 \"/>\n",
       "<path style=\" stroke:none;fill-rule:nonzero;fill:rgb(34.901961%,34.901961%,34.901961%);fill-opacity:1;\" d=\"M 140.082031 147.078125 L 172.828125 147.078125 L 172.828125 244.730469 L 140.082031 244.730469 Z M 140.082031 147.078125 \"/>\n",
       "<path style=\" stroke:none;fill-rule:nonzero;fill:rgb(34.901961%,34.901961%,34.901961%);fill-opacity:1;\" d=\"M 172.828125 179.628906 L 205.574219 179.628906 L 205.574219 244.730469 L 172.828125 244.730469 Z M 172.828125 179.628906 \"/>\n",
       "<path style=\" stroke:none;fill-rule:nonzero;fill:rgb(34.901961%,34.901961%,34.901961%);fill-opacity:1;\" d=\"M 205.570313 212.179688 L 238.316406 212.179688 L 238.316406 244.730469 L 205.570313 244.730469 Z M 205.570313 212.179688 \"/>\n",
       "<path style=\" stroke:none;fill-rule:nonzero;fill:rgb(34.901961%,34.901961%,34.901961%);fill-opacity:1;\" d=\"M 238.316406 179.628906 L 271.0625 179.628906 L 271.0625 244.730469 L 238.316406 244.730469 Z M 238.316406 179.628906 \"/>\n",
       "</g>\n",
       "<g style=\"fill:rgb(30.196078%,30.196078%,30.196078%);fill-opacity:1;\">\n",
       "  <use xlink:href=\"#glyph0-0\" x=\"20.285156\" y=\"248.058594\"/>\n",
       "</g>\n",
       "<g style=\"fill:rgb(30.196078%,30.196078%,30.196078%);fill-opacity:1;\">\n",
       "  <use xlink:href=\"#glyph0-1\" x=\"20.285156\" y=\"182.957031\"/>\n",
       "</g>\n",
       "<g style=\"fill:rgb(30.196078%,30.196078%,30.196078%);fill-opacity:1;\">\n",
       "  <use xlink:href=\"#glyph0-2\" x=\"20.285156\" y=\"117.855469\"/>\n",
       "</g>\n",
       "<g style=\"fill:rgb(30.196078%,30.196078%,30.196078%);fill-opacity:1;\">\n",
       "  <use xlink:href=\"#glyph0-3\" x=\"20.285156\" y=\"52.753906\"/>\n",
       "</g>\n",
       "<path style=\"fill:none;stroke-width:1.422638;stroke-linecap:butt;stroke-linejoin:round;stroke:rgb(20%,20%,20%);stroke-opacity:1;stroke-miterlimit:10;\" d=\"M 27.652344 244.730469 L 30.390625 244.730469 \"/>\n",
       "<path style=\"fill:none;stroke-width:1.422638;stroke-linecap:butt;stroke-linejoin:round;stroke:rgb(20%,20%,20%);stroke-opacity:1;stroke-miterlimit:10;\" d=\"M 27.652344 179.628906 L 30.390625 179.628906 \"/>\n",
       "<path style=\"fill:none;stroke-width:1.422638;stroke-linecap:butt;stroke-linejoin:round;stroke:rgb(20%,20%,20%);stroke-opacity:1;stroke-miterlimit:10;\" d=\"M 27.652344 114.527344 L 30.390625 114.527344 \"/>\n",
       "<path style=\"fill:none;stroke-width:1.422638;stroke-linecap:butt;stroke-linejoin:round;stroke:rgb(20%,20%,20%);stroke-opacity:1;stroke-miterlimit:10;\" d=\"M 27.652344 49.421875 L 30.390625 49.421875 \"/>\n",
       "<path style=\"fill:none;stroke-width:1.422638;stroke-linecap:butt;stroke-linejoin:round;stroke:rgb(20%,20%,20%);stroke-opacity:1;stroke-miterlimit:10;\" d=\"M 41.851563 258.863281 L 41.851563 256.125 \"/>\n",
       "<path style=\"fill:none;stroke-width:1.422638;stroke-linecap:butt;stroke-linejoin:round;stroke:rgb(20%,20%,20%);stroke-opacity:1;stroke-miterlimit:10;\" d=\"M 107.339844 258.863281 L 107.339844 256.125 \"/>\n",
       "<path style=\"fill:none;stroke-width:1.422638;stroke-linecap:butt;stroke-linejoin:round;stroke:rgb(20%,20%,20%);stroke-opacity:1;stroke-miterlimit:10;\" d=\"M 172.828125 258.863281 L 172.828125 256.125 \"/>\n",
       "<path style=\"fill:none;stroke-width:1.422638;stroke-linecap:butt;stroke-linejoin:round;stroke:rgb(20%,20%,20%);stroke-opacity:1;stroke-miterlimit:10;\" d=\"M 238.316406 258.863281 L 238.316406 256.125 \"/>\n",
       "<g style=\"fill:rgb(30.196078%,30.196078%,30.196078%);fill-opacity:1;\">\n",
       "  <use xlink:href=\"#glyph0-1\" x=\"36.679688\" y=\"267.714844\"/>\n",
       "  <use xlink:href=\"#glyph0-0\" x=\"41.851904\" y=\"267.714844\"/>\n",
       "</g>\n",
       "<g style=\"fill:rgb(30.196078%,30.196078%,30.196078%);fill-opacity:1;\">\n",
       "  <use xlink:href=\"#glyph0-2\" x=\"102.167969\" y=\"267.714844\"/>\n",
       "  <use xlink:href=\"#glyph0-0\" x=\"107.340186\" y=\"267.714844\"/>\n",
       "</g>\n",
       "<g style=\"fill:rgb(30.196078%,30.196078%,30.196078%);fill-opacity:1;\">\n",
       "  <use xlink:href=\"#glyph0-3\" x=\"167.65625\" y=\"267.714844\"/>\n",
       "  <use xlink:href=\"#glyph0-0\" x=\"172.828467\" y=\"267.714844\"/>\n",
       "</g>\n",
       "<g style=\"fill:rgb(30.196078%,30.196078%,30.196078%);fill-opacity:1;\">\n",
       "  <use xlink:href=\"#glyph0-4\" x=\"233.144531\" y=\"267.714844\"/>\n",
       "  <use xlink:href=\"#glyph0-0\" x=\"238.316748\" y=\"267.714844\"/>\n",
       "</g>\n",
       "<g style=\"fill:rgb(0%,0%,0%);fill-opacity:1;\">\n",
       "  <use xlink:href=\"#glyph1-0\" x=\"150.707031\" y=\"280.328125\"/>\n",
       "  <use xlink:href=\"#glyph1-1\" x=\"156.457031\" y=\"280.328125\"/>\n",
       "</g>\n",
       "<g style=\"fill:rgb(0%,0%,0%);fill-opacity:1;\">\n",
       "  <use xlink:href=\"#glyph2-0\" x=\"15.902344\" y=\"144.867188\"/>\n",
       "  <use xlink:href=\"#glyph2-1\" x=\"15.902344\" y=\"139.117188\"/>\n",
       "  <use xlink:href=\"#glyph2-2\" x=\"15.902344\" y=\"132.721436\"/>\n",
       "  <use xlink:href=\"#glyph2-3\" x=\"15.902344\" y=\"126.325684\"/>\n",
       "  <use xlink:href=\"#glyph2-4\" x=\"15.902344\" y=\"119.929932\"/>\n",
       "</g>\n",
       "</g>\n",
       "</svg>\n"
      ],
      "text/plain": [
       "plot without title"
      ]
     },
     "metadata": {
      "image/svg+xml": {
       "isolated": true
      }
     },
     "output_type": "display_data"
    }
   ],
   "source": [
    "d %>>% ggplot(aes(x = yx)) + geom_histogram(breaks = seq(20, 90, 10))"
   ]
  },
  {
   "cell_type": "code",
   "execution_count": 13,
   "metadata": {
    "collapsed": false
   },
   "outputs": [
    {
     "data": {
      "text/html": [
       "<table>\n",
       "<thead><tr><th></th><th scope=col>mean</th><th scope=col>median</th><th scope=col>varp</th><th scope=col>sqrt</th></tr></thead>\n",
       "<tbody>\n",
       "\t<tr><th scope=row>1</th><td> 49</td><td> 50</td><td>529</td><td> 23</td></tr>\n",
       "</tbody>\n",
       "</table>\n"
      ],
      "text/latex": [
       "\\begin{tabular}{r|llll}\n",
       "  & mean & median & varp & sqrt\\\\\n",
       "\\hline\n",
       "\t1 &  49 &  50 & 529 &  23\\\\\n",
       "\\end{tabular}\n"
      ],
      "text/plain": [
       "  mean median varp sqrt\n",
       "1   49     50  529   23"
      ]
     },
     "metadata": {},
     "output_type": "display_data"
    }
   ],
   "source": [
    "d %>>% summarise_each(funs(mean, median, varp, sqrt(varp(.))), yx)"
   ]
  },
  {
   "cell_type": "markdown",
   "metadata": {},
   "source": [
    "（1.3）xとyの相関係数"
   ]
  },
  {
   "cell_type": "code",
   "execution_count": 14,
   "metadata": {
    "collapsed": false
   },
   "outputs": [
    {
     "data": {
      "text/html": [
       "0.999814777240536"
      ],
      "text/latex": [
       "0.999814777240536"
      ],
      "text/markdown": [
       "0.999814777240536"
      ],
      "text/plain": [
       "[1] 0.9998148"
      ]
     },
     "metadata": {},
     "output_type": "display_data"
    }
   ],
   "source": [
    "with(cor(x, y), data = d)"
   ]
  },
  {
   "cell_type": "markdown",
   "metadata": {},
   "source": [
    "（1.4）`y~x`の回帰式"
   ]
  },
  {
   "cell_type": "code",
   "execution_count": 15,
   "metadata": {
    "collapsed": false
   },
   "outputs": [
    {
     "data": {
      "text/plain": [
       "\n",
       "Call:\n",
       "lm(formula = y ~ x, data = d)\n",
       "\n",
       "Residuals:\n",
       "    Min      1Q  Median      3Q     Max \n",
       "-4.0446 -2.3701 -0.3618  2.1800  4.1558 \n",
       "\n",
       "Coefficients:\n",
       "            Estimate Std. Error t value Pr(>|t|)    \n",
       "(Intercept) 7.012840   1.319652   5.314 4.73e-05 ***\n",
       "x           1.196661   0.005429 220.401  < 2e-16 ***\n",
       "---\n",
       "Signif. codes:  0 '***' 0.001 '**' 0.01 '*' 0.05 '.' 0.1 ' ' 1\n",
       "\n",
       "Residual standard error: 2.82 on 18 degrees of freedom\n",
       "Multiple R-squared:  0.9996,\tAdjusted R-squared:  0.9996 \n",
       "F-statistic: 4.858e+04 on 1 and 18 DF,  p-value: < 2.2e-16\n"
      ]
     },
     "metadata": {},
     "output_type": "display_data"
    }
   ],
   "source": [
    "res.lm <- lm(y~x, data = d)\n",
    "res.lm %>>% summary()"
   ]
  },
  {
   "cell_type": "code",
   "execution_count": 16,
   "metadata": {
    "collapsed": false
   },
   "outputs": [
    {
     "data": {
      "text/html": [
       "<dl class=dl-horizontal>\n",
       "\t<dt>(Intercept)</dt>\n",
       "\t\t<dd>7.01284022901187</dd>\n",
       "\t<dt>x</dt>\n",
       "\t\t<dd>1.19666116988753</dd>\n",
       "</dl>\n"
      ],
      "text/latex": [
       "\\begin{description*}\n",
       "\\item[(Intercept)] 7.01284022901187\n",
       "\\item[x] 1.19666116988753\n",
       "\\end{description*}\n"
      ],
      "text/markdown": [
       "(Intercept)\n",
       ":   7.01284022901187x\n",
       ":   1.19666116988753\n",
       "\n"
      ],
      "text/plain": [
       "(Intercept)           x \n",
       "   7.012840    1.196661 "
      ]
     },
     "metadata": {},
     "output_type": "display_data"
    }
   ],
   "source": [
    "res.lm$coefficients"
   ]
  },
  {
   "cell_type": "code",
   "execution_count": 17,
   "metadata": {
    "collapsed": false
   },
   "outputs": [
    {
     "data": {
      "text/plain": []
     },
     "metadata": {},
     "output_type": "display_data"
    },
    {
     "data": {
      "image/png": "[encoded data removed]",
      "image/svg+xml": [
       "<?xml version=\"1.0\" encoding=\"UTF-8\"?>\n",
       "<svg xmlns=\"http://www.w3.org/2000/svg\" xmlns:xlink=\"http://www.w3.org/1999/xlink\" width=\"288pt\" height=\"288pt\" viewBox=\"0 0 288 288\" version=\"1.1\">\n",
       "<defs>\n",
       "<g>\n",
       "<symbol overflow=\"visible\" id=\"glyph0-0\">\n",
       "<path style=\"stroke:none;\" d=\"M 3.464844 0 L 2.648438 0 L 2.648438 -5.207031 C 2.449219 -5.015625 2.1875 -4.828125 1.871094 -4.644531 C 1.550781 -4.453125 1.265625 -4.3125 1.011719 -4.222656 L 1.011719 -5.011719 C 1.46875 -5.222656 1.867188 -5.484375 2.210938 -5.792969 C 2.550781 -6.097656 2.792969 -6.394531 2.9375 -6.683594 L 3.464844 -6.683594 Z M 3.464844 0 \"/>\n",
       "</symbol>\n",
       "<symbol overflow=\"visible\" id=\"glyph0-1\">\n",
       "<path style=\"stroke:none;\" d=\"M 0.386719 -3.28125 C 0.386719 -4.070313 0.464844 -4.703125 0.628906 -5.183594 C 0.785156 -5.660156 1.027344 -6.03125 1.347656 -6.292969 C 1.667969 -6.550781 2.070313 -6.679688 2.554688 -6.683594 C 2.914063 -6.679688 3.226563 -6.609375 3.496094 -6.46875 C 3.765625 -6.324219 3.988281 -6.117188 4.164063 -5.847656 C 4.335938 -5.574219 4.472656 -5.242188 4.574219 -4.855469 C 4.671875 -4.464844 4.722656 -3.941406 4.726563 -3.28125 C 4.722656 -2.5 4.640625 -1.867188 4.484375 -1.390625 C 4.320313 -0.90625 4.082031 -0.535156 3.765625 -0.277344 C 3.445313 -0.015625 3.042969 0.109375 2.554688 0.113281 C 1.914063 0.109375 1.410156 -0.117188 1.042969 -0.578125 C 0.605469 -1.128906 0.386719 -2.03125 0.386719 -3.28125 Z M 1.226563 -3.28125 C 1.222656 -2.1875 1.351563 -1.460938 1.609375 -1.101563 C 1.863281 -0.738281 2.179688 -0.554688 2.554688 -0.558594 C 2.929688 -0.554688 3.246094 -0.738281 3.503906 -1.101563 C 3.757813 -1.464844 3.882813 -2.191406 3.886719 -3.28125 C 3.882813 -4.375 3.757813 -5.101563 3.503906 -5.464844 C 3.246094 -5.824219 2.925781 -6.003906 2.546875 -6.007813 C 2.167969 -6.003906 1.867188 -5.847656 1.648438 -5.53125 C 1.363281 -5.125 1.222656 -4.375 1.226563 -3.28125 Z M 1.226563 -3.28125 \"/>\n",
       "</symbol>\n",
       "<symbol overflow=\"visible\" id=\"glyph0-2\">\n",
       "<path style=\"stroke:none;\" d=\"M 4.683594 -0.785156 L 4.683594 0 L 0.28125 0 C 0.273438 -0.195313 0.304688 -0.382813 0.375 -0.566406 C 0.488281 -0.863281 0.667969 -1.160156 0.914063 -1.453125 C 1.160156 -1.742188 1.515625 -2.078125 1.984375 -2.460938 C 2.707031 -3.054688 3.195313 -3.523438 3.449219 -3.871094 C 3.703125 -4.214844 3.832031 -4.542969 3.832031 -4.855469 C 3.832031 -5.175781 3.714844 -5.449219 3.484375 -5.671875 C 3.25 -5.894531 2.949219 -6.003906 2.578125 -6.007813 C 2.183594 -6.003906 1.867188 -5.886719 1.632813 -5.652344 C 1.394531 -5.414063 1.277344 -5.085938 1.277344 -4.671875 L 0.4375 -4.757813 C 0.492188 -5.382813 0.707031 -5.859375 1.085938 -6.191406 C 1.457031 -6.515625 1.960938 -6.679688 2.597656 -6.683594 C 3.230469 -6.679688 3.738281 -6.503906 4.113281 -6.152344 C 4.484375 -5.796875 4.667969 -5.355469 4.671875 -4.835938 C 4.667969 -4.566406 4.613281 -4.304688 4.507813 -4.050781 C 4.398438 -3.789063 4.21875 -3.519531 3.964844 -3.238281 C 3.710938 -2.953125 3.292969 -2.5625 2.707031 -2.066406 C 2.214844 -1.652344 1.898438 -1.371094 1.761719 -1.226563 C 1.621094 -1.078125 1.507813 -0.933594 1.417969 -0.785156 Z M 4.683594 -0.785156 \"/>\n",
       "</symbol>\n",
       "<symbol overflow=\"visible\" id=\"glyph0-3\">\n",
       "<path style=\"stroke:none;\" d=\"M 0.390625 -1.757813 L 1.207031 -1.867188 C 1.300781 -1.402344 1.457031 -1.066406 1.683594 -0.863281 C 1.90625 -0.65625 2.183594 -0.554688 2.511719 -0.558594 C 2.894531 -0.554688 3.21875 -0.6875 3.484375 -0.957031 C 3.746094 -1.222656 3.878906 -1.554688 3.882813 -1.949219 C 3.878906 -2.320313 3.757813 -2.628906 3.515625 -2.875 C 3.269531 -3.117188 2.957031 -3.238281 2.578125 -3.242188 C 2.421875 -3.238281 2.230469 -3.210938 2.003906 -3.152344 L 2.09375 -3.867188 C 2.144531 -3.859375 2.191406 -3.855469 2.226563 -3.859375 C 2.570313 -3.855469 2.882813 -3.945313 3.164063 -4.132813 C 3.441406 -4.3125 3.578125 -4.59375 3.582031 -4.972656 C 3.578125 -5.269531 3.476563 -5.515625 3.277344 -5.714844 C 3.070313 -5.910156 2.808594 -6.011719 2.492188 -6.011719 C 2.171875 -6.011719 1.90625 -5.910156 1.695313 -5.710938 C 1.480469 -5.511719 1.347656 -5.210938 1.289063 -4.8125 L 0.472656 -4.957031 C 0.570313 -5.503906 0.796875 -5.925781 1.152344 -6.230469 C 1.503906 -6.527344 1.945313 -6.679688 2.476563 -6.683594 C 2.835938 -6.679688 3.167969 -6.601563 3.476563 -6.449219 C 3.78125 -6.289063 4.015625 -6.078125 4.179688 -5.8125 C 4.335938 -5.542969 4.417969 -5.253906 4.421875 -4.953125 C 4.417969 -4.664063 4.339844 -4.402344 4.191406 -4.167969 C 4.035156 -3.929688 3.808594 -3.742188 3.503906 -3.605469 C 3.898438 -3.511719 4.203125 -3.324219 4.421875 -3.039063 C 4.636719 -2.75 4.746094 -2.390625 4.75 -1.964844 C 4.746094 -1.378906 4.535156 -0.886719 4.113281 -0.488281 C 3.6875 -0.0820313 3.152344 0.117188 2.507813 0.117188 C 1.921875 0.117188 1.433594 -0.0546875 1.050781 -0.402344 C 0.660156 -0.75 0.441406 -1.203125 0.390625 -1.757813 Z M 0.390625 -1.757813 \"/>\n",
       "</symbol>\n",
       "<symbol overflow=\"visible\" id=\"glyph0-4\">\n",
       "<path style=\"stroke:none;\" d=\"M 3.007813 0 L 3.007813 -1.59375 L 0.117188 -1.59375 L 0.117188 -2.34375 L 3.15625 -6.65625 L 3.824219 -6.65625 L 3.824219 -2.34375 L 4.722656 -2.34375 L 4.722656 -1.59375 L 3.824219 -1.59375 L 3.824219 0 Z M 3.007813 -2.34375 L 3.007813 -5.34375 L 0.921875 -2.34375 Z M 3.007813 -2.34375 \"/>\n",
       "</symbol>\n",
       "<symbol overflow=\"visible\" id=\"glyph0-5\">\n",
       "<path style=\"stroke:none;\" d=\"M 0.386719 -1.742188 L 1.246094 -1.816406 C 1.304688 -1.398438 1.453125 -1.082031 1.6875 -0.875 C 1.917969 -0.660156 2.195313 -0.554688 2.523438 -0.558594 C 2.914063 -0.554688 3.246094 -0.703125 3.523438 -1.003906 C 3.792969 -1.296875 3.929688 -1.691406 3.933594 -2.183594 C 3.929688 -2.648438 3.800781 -3.015625 3.539063 -3.285156 C 3.277344 -3.554688 2.933594 -3.691406 2.511719 -3.691406 C 2.246094 -3.691406 2.007813 -3.628906 1.796875 -3.511719 C 1.582031 -3.386719 1.414063 -3.234375 1.296875 -3.046875 L 0.53125 -3.148438 L 1.175781 -6.566406 L 4.488281 -6.566406 L 4.488281 -5.785156 L 1.828125 -5.785156 L 1.472656 -3.996094 C 1.867188 -4.273438 2.289063 -4.410156 2.730469 -4.414063 C 3.308594 -4.410156 3.796875 -4.210938 4.199219 -3.808594 C 4.597656 -3.40625 4.796875 -2.886719 4.800781 -2.257813 C 4.796875 -1.648438 4.621094 -1.128906 4.273438 -0.695313 C 3.84375 -0.15625 3.261719 0.109375 2.523438 0.113281 C 1.917969 0.109375 1.425781 -0.0546875 1.042969 -0.394531 C 0.660156 -0.730469 0.441406 -1.179688 0.386719 -1.742188 Z M 0.386719 -1.742188 \"/>\n",
       "</symbol>\n",
       "<symbol overflow=\"visible\" id=\"glyph1-0\">\n",
       "<path style=\"stroke:none;\" d=\"M 0.0859375 0 L 2.261719 -3.101563 L 0.246094 -5.964844 L 1.511719 -5.964844 L 2.425781 -4.566406 C 2.597656 -4.296875 2.734375 -4.074219 2.839844 -3.898438 C 3.003906 -4.140625 3.15625 -4.359375 3.296875 -4.554688 L 4.300781 -5.964844 L 5.507813 -5.964844 L 3.449219 -3.15625 L 5.664063 0 L 4.425781 0 L 3.199219 -1.851563 L 2.875 -2.351563 L 1.308594 0 Z M 0.0859375 0 \"/>\n",
       "</symbol>\n",
       "<symbol overflow=\"visible\" id=\"glyph2-0\">\n",
       "<path style=\"stroke:none;\" d=\"M 2.296875 -0.714844 L 1.347656 -0.601563 C 1.40625 -0.820313 1.433594 -1.011719 1.4375 -1.179688 C 1.433594 -1.398438 1.398438 -1.578125 1.324219 -1.71875 C 1.25 -1.851563 1.144531 -1.964844 1.011719 -2.050781 C 0.90625 -2.113281 0.65625 -2.214844 0.257813 -2.359375 C 0.203125 -2.375 0.121094 -2.40625 0.0117188 -2.449219 L -5.964844 -0.183594 L -5.964844 -1.273438 L -2.511719 -2.515625 C -2.070313 -2.671875 -1.609375 -2.816406 -1.128906 -2.949219 C -1.589844 -3.058594 -2.042969 -3.199219 -2.488281 -3.363281 L -5.964844 -4.636719 L -5.964844 -5.648438 L 0.101563 -3.378906 C 0.75 -3.132813 1.203125 -2.945313 1.453125 -2.8125 C 1.785156 -2.632813 2.027344 -2.425781 2.1875 -2.195313 C 2.339844 -1.960938 2.417969 -1.683594 2.421875 -1.363281 C 2.417969 -1.167969 2.378906 -0.953125 2.296875 -0.714844 Z M 2.296875 -0.714844 \"/>\n",
       "</symbol>\n",
       "</g>\n",
       "<clipPath id=\"clip1\">\n",
       "  <path d=\"M 40.734375 5.480469 L 283.519531 5.480469 L 283.519531 257.125 L 40.734375 257.125 Z M 40.734375 5.480469 \"/>\n",
       "</clipPath>\n",
       "</defs>\n",
       "<g id=\"surface77\">\n",
       "<rect x=\"0\" y=\"0\" width=\"288\" height=\"288\" style=\"fill:rgb(100%,100%,100%);fill-opacity:1;stroke:none;\"/>\n",
       "<rect x=\"0\" y=\"0\" width=\"288\" height=\"288\" style=\"fill:rgb(100%,100%,100%);fill-opacity:1;stroke:none;\"/>\n",
       "<path style=\"fill:none;stroke-width:1.422638;stroke-linecap:round;stroke-linejoin:round;stroke:rgb(100%,100%,100%);stroke-opacity:1;stroke-miterlimit:10;\" d=\"M 0 0 L 288 0 L 288 288 L 0 288 Z M 0 0 \"/>\n",
       "<g clip-path=\"url(#clip1)\" clip-rule=\"nonzero\">\n",
       "<path style=\" stroke:none;fill-rule:nonzero;fill:rgb(92.156863%,92.156863%,92.156863%);fill-opacity:1;\" d=\"M 40.734375 5.480469 L 282.519531 5.480469 L 282.519531 256.125 L 40.734375 256.125 Z M 40.734375 5.480469 \"/>\n",
       "<path style=\"fill:none;stroke-width:0.711319;stroke-linecap:butt;stroke-linejoin:round;stroke:rgb(100%,100%,100%);stroke-opacity:1;stroke-miterlimit:10;\" d=\"M 40.734375 254.859375 L 282.519531 254.859375 \"/>\n",
       "<path style=\"fill:none;stroke-width:0.711319;stroke-linecap:butt;stroke-linejoin:round;stroke:rgb(100%,100%,100%);stroke-opacity:1;stroke-miterlimit:10;\" d=\"M 40.734375 204.222656 L 282.519531 204.222656 \"/>\n",
       "<path style=\"fill:none;stroke-width:0.711319;stroke-linecap:butt;stroke-linejoin:round;stroke:rgb(100%,100%,100%);stroke-opacity:1;stroke-miterlimit:10;\" d=\"M 40.734375 153.589844 L 282.519531 153.589844 \"/>\n",
       "<path style=\"fill:none;stroke-width:0.711319;stroke-linecap:butt;stroke-linejoin:round;stroke:rgb(100%,100%,100%);stroke-opacity:1;stroke-miterlimit:10;\" d=\"M 40.734375 102.953125 L 282.519531 102.953125 \"/>\n",
       "<path style=\"fill:none;stroke-width:0.711319;stroke-linecap:butt;stroke-linejoin:round;stroke:rgb(100%,100%,100%);stroke-opacity:1;stroke-miterlimit:10;\" d=\"M 40.734375 52.316406 L 282.519531 52.316406 \"/>\n",
       "<path style=\"fill:none;stroke-width:0.711319;stroke-linecap:butt;stroke-linejoin:round;stroke:rgb(100%,100%,100%);stroke-opacity:1;stroke-miterlimit:10;\" d=\"M 51.726563 256.125 L 51.726563 5.480469 \"/>\n",
       "<path style=\"fill:none;stroke-width:0.711319;stroke-linecap:butt;stroke-linejoin:round;stroke:rgb(100%,100%,100%);stroke-opacity:1;stroke-miterlimit:10;\" d=\"M 109.570313 256.125 L 109.570313 5.480469 \"/>\n",
       "<path style=\"fill:none;stroke-width:0.711319;stroke-linecap:butt;stroke-linejoin:round;stroke:rgb(100%,100%,100%);stroke-opacity:1;stroke-miterlimit:10;\" d=\"M 167.410156 256.125 L 167.410156 5.480469 \"/>\n",
       "<path style=\"fill:none;stroke-width:0.711319;stroke-linecap:butt;stroke-linejoin:round;stroke:rgb(100%,100%,100%);stroke-opacity:1;stroke-miterlimit:10;\" d=\"M 225.253906 256.125 L 225.253906 5.480469 \"/>\n",
       "<path style=\"fill:none;stroke-width:1.422638;stroke-linecap:butt;stroke-linejoin:round;stroke:rgb(100%,100%,100%);stroke-opacity:1;stroke-miterlimit:10;\" d=\"M 40.734375 229.542969 L 282.519531 229.542969 \"/>\n",
       "<path style=\"fill:none;stroke-width:1.422638;stroke-linecap:butt;stroke-linejoin:round;stroke:rgb(100%,100%,100%);stroke-opacity:1;stroke-miterlimit:10;\" d=\"M 40.734375 178.90625 L 282.519531 178.90625 \"/>\n",
       "<path style=\"fill:none;stroke-width:1.422638;stroke-linecap:butt;stroke-linejoin:round;stroke:rgb(100%,100%,100%);stroke-opacity:1;stroke-miterlimit:10;\" d=\"M 40.734375 128.269531 L 282.519531 128.269531 \"/>\n",
       "<path style=\"fill:none;stroke-width:1.422638;stroke-linecap:butt;stroke-linejoin:round;stroke:rgb(100%,100%,100%);stroke-opacity:1;stroke-miterlimit:10;\" d=\"M 40.734375 77.636719 L 282.519531 77.636719 \"/>\n",
       "<path style=\"fill:none;stroke-width:1.422638;stroke-linecap:butt;stroke-linejoin:round;stroke:rgb(100%,100%,100%);stroke-opacity:1;stroke-miterlimit:10;\" d=\"M 40.734375 27 L 282.519531 27 \"/>\n",
       "<path style=\"fill:none;stroke-width:1.422638;stroke-linecap:butt;stroke-linejoin:round;stroke:rgb(100%,100%,100%);stroke-opacity:1;stroke-miterlimit:10;\" d=\"M 80.648438 256.125 L 80.648438 5.480469 \"/>\n",
       "<path style=\"fill:none;stroke-width:1.422638;stroke-linecap:butt;stroke-linejoin:round;stroke:rgb(100%,100%,100%);stroke-opacity:1;stroke-miterlimit:10;\" d=\"M 138.492188 256.125 L 138.492188 5.480469 \"/>\n",
       "<path style=\"fill:none;stroke-width:1.422638;stroke-linecap:butt;stroke-linejoin:round;stroke:rgb(100%,100%,100%);stroke-opacity:1;stroke-miterlimit:10;\" d=\"M 196.332031 256.125 L 196.332031 5.480469 \"/>\n",
       "<path style=\"fill:none;stroke-width:1.422638;stroke-linecap:butt;stroke-linejoin:round;stroke:rgb(100%,100%,100%);stroke-opacity:1;stroke-miterlimit:10;\" d=\"M 254.175781 256.125 L 254.175781 5.480469 \"/>\n",
       "<path style=\"fill-rule:nonzero;fill:rgb(0%,0%,0%);fill-opacity:1;stroke-width:0.944882;stroke-linecap:round;stroke-linejoin:round;stroke:rgb(0%,0%,0%);stroke-opacity:1;stroke-miterlimit:10;\" d=\"M 193.003906 102.953125 C 193.003906 106.226563 188.09375 106.226563 188.09375 102.953125 C 188.09375 99.679688 193.003906 99.679688 193.003906 102.953125 \"/>\n",
       "<path style=\"fill-rule:nonzero;fill:rgb(0%,0%,0%);fill-opacity:1;stroke-width:0.944882;stroke-linecap:round;stroke-linejoin:round;stroke:rgb(0%,0%,0%);stroke-opacity:1;stroke-miterlimit:10;\" d=\"M 54.179688 244.730469 C 54.179688 248.003906 49.269531 248.003906 49.269531 244.730469 C 49.269531 241.457031 54.179688 241.457031 54.179688 244.730469 \"/>\n",
       "<path style=\"fill-rule:nonzero;fill:rgb(0%,0%,0%);fill-opacity:1;stroke-width:0.944882;stroke-linecap:round;stroke-linejoin:round;stroke:rgb(0%,0%,0%);stroke-opacity:1;stroke-miterlimit:10;\" d=\"M 71.53125 229.542969 C 71.53125 232.8125 66.625 232.8125 66.625 229.542969 C 66.625 226.269531 71.53125 226.269531 71.53125 229.542969 \"/>\n",
       "<path style=\"fill-rule:nonzero;fill:rgb(0%,0%,0%);fill-opacity:1;stroke-width:0.944882;stroke-linecap:round;stroke-linejoin:round;stroke:rgb(0%,0%,0%);stroke-opacity:1;stroke-miterlimit:10;\" d=\"M 83.101563 214.351563 C 83.101563 217.625 78.191406 217.625 78.191406 214.351563 C 78.191406 211.078125 83.101563 211.078125 83.101563 214.351563 \"/>\n",
       "<path style=\"fill-rule:nonzero;fill:rgb(0%,0%,0%);fill-opacity:1;stroke-width:0.944882;stroke-linecap:round;stroke-linejoin:round;stroke:rgb(0%,0%,0%);stroke-opacity:1;stroke-miterlimit:10;\" d=\"M 140.945313 153.589844 C 140.945313 156.859375 136.035156 156.859375 136.035156 153.589844 C 136.035156 150.316406 140.945313 150.316406 140.945313 153.589844 \"/>\n",
       "<path style=\"fill-rule:nonzero;fill:rgb(0%,0%,0%);fill-opacity:1;stroke-width:0.944882;stroke-linecap:round;stroke-linejoin:round;stroke:rgb(0%,0%,0%);stroke-opacity:1;stroke-miterlimit:10;\" d=\"M 227.710938 62.445313 C 227.710938 65.71875 222.800781 65.71875 222.800781 62.445313 C 222.800781 59.171875 227.710938 59.171875 227.710938 62.445313 \"/>\n",
       "<path style=\"fill-rule:nonzero;fill:rgb(0%,0%,0%);fill-opacity:1;stroke-width:0.944882;stroke-linecap:round;stroke-linejoin:round;stroke:rgb(0%,0%,0%);stroke-opacity:1;stroke-miterlimit:10;\" d=\"M 273.984375 16.871094 C 273.984375 20.144531 269.074219 20.144531 269.074219 16.871094 C 269.074219 13.597656 273.984375 13.597656 273.984375 16.871094 \"/>\n",
       "<path style=\"fill-rule:nonzero;fill:rgb(0%,0%,0%);fill-opacity:1;stroke-width:0.944882;stroke-linecap:round;stroke-linejoin:round;stroke:rgb(0%,0%,0%);stroke-opacity:1;stroke-miterlimit:10;\" d=\"M 71.53125 229.542969 C 71.53125 232.8125 66.625 232.8125 66.625 229.542969 C 66.625 226.269531 71.53125 226.269531 71.53125 229.542969 \"/>\n",
       "<path style=\"fill-rule:nonzero;fill:rgb(0%,0%,0%);fill-opacity:1;stroke-width:0.944882;stroke-linecap:round;stroke-linejoin:round;stroke:rgb(0%,0%,0%);stroke-opacity:1;stroke-miterlimit:10;\" d=\"M 146.730469 148.523438 C 146.730469 151.796875 141.820313 151.796875 141.820313 148.523438 C 141.820313 145.25 146.730469 145.25 146.730469 148.523438 \"/>\n",
       "<path style=\"fill-rule:nonzero;fill:rgb(0%,0%,0%);fill-opacity:1;stroke-width:0.944882;stroke-linecap:round;stroke-linejoin:round;stroke:rgb(0%,0%,0%);stroke-opacity:1;stroke-miterlimit:10;\" d=\"M 88.886719 209.285156 C 88.886719 212.558594 83.976563 212.558594 83.976563 209.285156 C 83.976563 206.015625 88.886719 206.015625 88.886719 209.285156 \"/>\n",
       "<path style=\"fill-rule:nonzero;fill:rgb(0%,0%,0%);fill-opacity:1;stroke-width:0.944882;stroke-linecap:round;stroke-linejoin:round;stroke:rgb(0%,0%,0%);stroke-opacity:1;stroke-miterlimit:10;\" d=\"M 65.75 234.605469 C 65.75 237.878906 60.839844 237.878906 60.839844 234.605469 C 60.839844 231.332031 65.75 231.332031 65.75 234.605469 \"/>\n",
       "<path style=\"fill-rule:nonzero;fill:rgb(0%,0%,0%);fill-opacity:1;stroke-width:0.944882;stroke-linecap:round;stroke-linejoin:round;stroke:rgb(0%,0%,0%);stroke-opacity:1;stroke-miterlimit:10;\" d=\"M 175.652344 118.144531 C 175.652344 121.417969 170.742188 121.417969 170.742188 118.144531 C 170.742188 114.871094 175.652344 114.871094 175.652344 118.144531 \"/>\n",
       "<path style=\"fill-rule:nonzero;fill:rgb(0%,0%,0%);fill-opacity:1;stroke-width:0.944882;stroke-linecap:round;stroke-linejoin:round;stroke:rgb(0%,0%,0%);stroke-opacity:1;stroke-miterlimit:10;\" d=\"M 152.515625 143.460938 C 152.515625 146.734375 147.605469 146.734375 147.605469 143.460938 C 147.605469 140.1875 152.515625 140.1875 152.515625 143.460938 \"/>\n",
       "<path style=\"fill-rule:nonzero;fill:rgb(0%,0%,0%);fill-opacity:1;stroke-width:0.944882;stroke-linecap:round;stroke-linejoin:round;stroke:rgb(0%,0%,0%);stroke-opacity:1;stroke-miterlimit:10;\" d=\"M 216.140625 77.636719 C 216.140625 80.90625 211.230469 80.90625 211.230469 77.636719 C 211.230469 74.363281 216.140625 74.363281 216.140625 77.636719 \"/>\n",
       "<path style=\"fill-rule:nonzero;fill:rgb(0%,0%,0%);fill-opacity:1;stroke-width:0.944882;stroke-linecap:round;stroke-linejoin:round;stroke:rgb(0%,0%,0%);stroke-opacity:1;stroke-miterlimit:10;\" d=\"M 123.59375 173.84375 C 123.59375 177.113281 118.683594 177.113281 118.683594 173.84375 C 118.683594 170.570313 123.59375 170.570313 123.59375 173.84375 \"/>\n",
       "<path style=\"fill-rule:nonzero;fill:rgb(0%,0%,0%);fill-opacity:1;stroke-width:0.944882;stroke-linecap:round;stroke-linejoin:round;stroke:rgb(0%,0%,0%);stroke-opacity:1;stroke-miterlimit:10;\" d=\"M 268.199219 21.9375 C 268.199219 25.210938 263.292969 25.210938 263.292969 21.9375 C 263.292969 18.664063 268.199219 18.664063 268.199219 21.9375 \"/>\n",
       "<path style=\"fill-rule:nonzero;fill:rgb(0%,0%,0%);fill-opacity:1;stroke-width:0.944882;stroke-linecap:round;stroke-linejoin:round;stroke:rgb(0%,0%,0%);stroke-opacity:1;stroke-miterlimit:10;\" d=\"M 71.53125 229.542969 C 71.53125 232.8125 66.625 232.8125 66.625 229.542969 C 66.625 226.269531 71.53125 226.269531 71.53125 229.542969 \"/>\n",
       "<path style=\"fill-rule:nonzero;fill:rgb(0%,0%,0%);fill-opacity:1;stroke-width:0.944882;stroke-linecap:round;stroke-linejoin:round;stroke:rgb(0%,0%,0%);stroke-opacity:1;stroke-miterlimit:10;\" d=\"M 198.789063 92.824219 C 198.789063 96.097656 193.878906 96.097656 193.878906 92.824219 C 193.878906 89.550781 198.789063 89.550781 198.789063 92.824219 \"/>\n",
       "<path style=\"fill-rule:nonzero;fill:rgb(0%,0%,0%);fill-opacity:1;stroke-width:0.944882;stroke-linecap:round;stroke-linejoin:round;stroke:rgb(0%,0%,0%);stroke-opacity:1;stroke-miterlimit:10;\" d=\"M 193.003906 102.953125 C 193.003906 106.226563 188.09375 106.226563 188.09375 102.953125 C 188.09375 99.679688 193.003906 99.679688 193.003906 102.953125 \"/>\n",
       "<path style=\"fill-rule:nonzero;fill:rgb(0%,0%,0%);fill-opacity:1;stroke-width:0.944882;stroke-linecap:round;stroke-linejoin:round;stroke:rgb(0%,0%,0%);stroke-opacity:1;stroke-miterlimit:10;\" d=\"M 158.296875 138.398438 C 158.296875 141.671875 153.386719 141.671875 153.386719 138.398438 C 153.386719 135.125 158.296875 135.125 158.296875 138.398438 \"/>\n",
       "<path style=\"fill:none;stroke-width:1.422638;stroke-linecap:butt;stroke-linejoin:round;stroke:rgb(0%,0%,0%);stroke-opacity:1;stroke-miterlimit:10;\" d=\"M 40.734375 257.839844 L 282.519531 4.5625 \"/>\n",
       "</g>\n",
       "<g style=\"fill:rgb(30.196078%,30.196078%,30.196078%);fill-opacity:1;\">\n",
       "  <use xlink:href=\"#glyph0-0\" x=\"20.289063\" y=\"232.871094\"/>\n",
       "  <use xlink:href=\"#glyph0-1\" x=\"25.461279\" y=\"232.871094\"/>\n",
       "  <use xlink:href=\"#glyph0-1\" x=\"30.633496\" y=\"232.871094\"/>\n",
       "</g>\n",
       "<g style=\"fill:rgb(30.196078%,30.196078%,30.196078%);fill-opacity:1;\">\n",
       "  <use xlink:href=\"#glyph0-2\" x=\"20.289063\" y=\"182.234375\"/>\n",
       "  <use xlink:href=\"#glyph0-1\" x=\"25.461279\" y=\"182.234375\"/>\n",
       "  <use xlink:href=\"#glyph0-1\" x=\"30.633496\" y=\"182.234375\"/>\n",
       "</g>\n",
       "<g style=\"fill:rgb(30.196078%,30.196078%,30.196078%);fill-opacity:1;\">\n",
       "  <use xlink:href=\"#glyph0-3\" x=\"20.289063\" y=\"131.597656\"/>\n",
       "  <use xlink:href=\"#glyph0-1\" x=\"25.461279\" y=\"131.597656\"/>\n",
       "  <use xlink:href=\"#glyph0-1\" x=\"30.633496\" y=\"131.597656\"/>\n",
       "</g>\n",
       "<g style=\"fill:rgb(30.196078%,30.196078%,30.196078%);fill-opacity:1;\">\n",
       "  <use xlink:href=\"#glyph0-4\" x=\"20.289063\" y=\"80.964844\"/>\n",
       "  <use xlink:href=\"#glyph0-1\" x=\"25.461279\" y=\"80.964844\"/>\n",
       "  <use xlink:href=\"#glyph0-1\" x=\"30.633496\" y=\"80.964844\"/>\n",
       "</g>\n",
       "<g style=\"fill:rgb(30.196078%,30.196078%,30.196078%);fill-opacity:1;\">\n",
       "  <use xlink:href=\"#glyph0-5\" x=\"20.289063\" y=\"30.328125\"/>\n",
       "  <use xlink:href=\"#glyph0-1\" x=\"25.461279\" y=\"30.328125\"/>\n",
       "  <use xlink:href=\"#glyph0-1\" x=\"30.633496\" y=\"30.328125\"/>\n",
       "</g>\n",
       "<path style=\"fill:none;stroke-width:1.422638;stroke-linecap:butt;stroke-linejoin:round;stroke:rgb(20%,20%,20%);stroke-opacity:1;stroke-miterlimit:10;\" d=\"M 37.996094 229.542969 L 40.734375 229.542969 \"/>\n",
       "<path style=\"fill:none;stroke-width:1.422638;stroke-linecap:butt;stroke-linejoin:round;stroke:rgb(20%,20%,20%);stroke-opacity:1;stroke-miterlimit:10;\" d=\"M 37.996094 178.90625 L 40.734375 178.90625 \"/>\n",
       "<path style=\"fill:none;stroke-width:1.422638;stroke-linecap:butt;stroke-linejoin:round;stroke:rgb(20%,20%,20%);stroke-opacity:1;stroke-miterlimit:10;\" d=\"M 37.996094 128.269531 L 40.734375 128.269531 \"/>\n",
       "<path style=\"fill:none;stroke-width:1.422638;stroke-linecap:butt;stroke-linejoin:round;stroke:rgb(20%,20%,20%);stroke-opacity:1;stroke-miterlimit:10;\" d=\"M 37.996094 77.636719 L 40.734375 77.636719 \"/>\n",
       "<path style=\"fill:none;stroke-width:1.422638;stroke-linecap:butt;stroke-linejoin:round;stroke:rgb(20%,20%,20%);stroke-opacity:1;stroke-miterlimit:10;\" d=\"M 37.996094 27 L 40.734375 27 \"/>\n",
       "<path style=\"fill:none;stroke-width:1.422638;stroke-linecap:butt;stroke-linejoin:round;stroke:rgb(20%,20%,20%);stroke-opacity:1;stroke-miterlimit:10;\" d=\"M 80.648438 258.863281 L 80.648438 256.125 \"/>\n",
       "<path style=\"fill:none;stroke-width:1.422638;stroke-linecap:butt;stroke-linejoin:round;stroke:rgb(20%,20%,20%);stroke-opacity:1;stroke-miterlimit:10;\" d=\"M 138.492188 258.863281 L 138.492188 256.125 \"/>\n",
       "<path style=\"fill:none;stroke-width:1.422638;stroke-linecap:butt;stroke-linejoin:round;stroke:rgb(20%,20%,20%);stroke-opacity:1;stroke-miterlimit:10;\" d=\"M 196.332031 258.863281 L 196.332031 256.125 \"/>\n",
       "<path style=\"fill:none;stroke-width:1.422638;stroke-linecap:butt;stroke-linejoin:round;stroke:rgb(20%,20%,20%);stroke-opacity:1;stroke-miterlimit:10;\" d=\"M 254.175781 258.863281 L 254.175781 256.125 \"/>\n",
       "<g style=\"fill:rgb(30.196078%,30.196078%,30.196078%);fill-opacity:1;\">\n",
       "  <use xlink:href=\"#glyph0-0\" x=\"72.890625\" y=\"267.714844\"/>\n",
       "  <use xlink:href=\"#glyph0-1\" x=\"78.062842\" y=\"267.714844\"/>\n",
       "  <use xlink:href=\"#glyph0-1\" x=\"83.235059\" y=\"267.714844\"/>\n",
       "</g>\n",
       "<g style=\"fill:rgb(30.196078%,30.196078%,30.196078%);fill-opacity:1;\">\n",
       "  <use xlink:href=\"#glyph0-2\" x=\"130.734375\" y=\"267.714844\"/>\n",
       "  <use xlink:href=\"#glyph0-1\" x=\"135.906592\" y=\"267.714844\"/>\n",
       "  <use xlink:href=\"#glyph0-1\" x=\"141.078809\" y=\"267.714844\"/>\n",
       "</g>\n",
       "<g style=\"fill:rgb(30.196078%,30.196078%,30.196078%);fill-opacity:1;\">\n",
       "  <use xlink:href=\"#glyph0-3\" x=\"188.574219\" y=\"267.714844\"/>\n",
       "  <use xlink:href=\"#glyph0-1\" x=\"193.746436\" y=\"267.714844\"/>\n",
       "  <use xlink:href=\"#glyph0-1\" x=\"198.918652\" y=\"267.714844\"/>\n",
       "</g>\n",
       "<g style=\"fill:rgb(30.196078%,30.196078%,30.196078%);fill-opacity:1;\">\n",
       "  <use xlink:href=\"#glyph0-4\" x=\"246.417969\" y=\"267.714844\"/>\n",
       "  <use xlink:href=\"#glyph0-1\" x=\"251.590186\" y=\"267.714844\"/>\n",
       "  <use xlink:href=\"#glyph0-1\" x=\"256.762402\" y=\"267.714844\"/>\n",
       "</g>\n",
       "<g style=\"fill:rgb(0%,0%,0%);fill-opacity:1;\">\n",
       "  <use xlink:href=\"#glyph1-0\" x=\"158.753906\" y=\"280.328125\"/>\n",
       "</g>\n",
       "<g style=\"fill:rgb(0%,0%,0%);fill-opacity:1;\">\n",
       "  <use xlink:href=\"#glyph2-0\" x=\"15.902344\" y=\"133.675781\"/>\n",
       "</g>\n",
       "</g>\n",
       "</svg>\n"
      ],
      "text/plain": [
       "plot without title"
      ]
     },
     "metadata": {
      "image/svg+xml": {
       "isolated": true
      }
     },
     "output_type": "display_data"
    }
   ],
   "source": [
    "d %>>% ggplot(aes(x = x, y = y)) + geom_point() + \n",
    "    geom_abline(intercept = res.lm$coefficients[\"(Intercept)\"], slope = res.lm$coefficients[\"x\"])"
   ]
  },
  {
   "cell_type": "markdown",
   "metadata": {},
   "source": [
    "（2）（1）からわかること，わからないこと"
   ]
  },
  {
   "cell_type": "markdown",
   "metadata": {},
   "source": [
    "（3）（2）より，実態と認識のずれを調べる方法は"
   ]
  },
  {
   "cell_type": "code",
   "execution_count": 18,
   "metadata": {
    "collapsed": false
   },
   "outputs": [
    {
     "name": "stderr",
     "output_type": "stream",
     "text": [
      "Session info -------------------------------------------------------------------\n",
      "Packages -----------------------------------------------------------------------\n",
      "Session info -------------------------------------------------------------------\n",
      "Packages -----------------------------------------------------------------------\n"
     ]
    },
    {
     "data": {
      "text/plain": [
       " setting  value                       \n",
       " version  R version 3.3.0 (2016-05-03)\n",
       " system   x86_64, mingw32             \n",
       " ui       RTerm                       \n",
       " language (EN)                        \n",
       " collate  Japanese_Japan.932          \n",
       " tz       Asia/Tokyo                  \n",
       " date     2016-07-07                  \n",
       "\n",
       " package    * version    date       source                             \n",
       " assertthat   0.1        2013-12-06 CRAN (R 3.3.0)                     \n",
       " base64enc    0.1-3      2015-07-28 CRAN (R 3.3.0)                     \n",
       " Cairo      * 1.5-9      2015-09-26 CRAN (R 3.3.0)                     \n",
       " colorspace   1.2-6      2015-03-11 CRAN (R 3.3.0)                     \n",
       " DBI          0.4-1      2016-05-08 CRAN (R 3.3.0)                     \n",
       " devtools     1.11.1     2016-04-21 CRAN (R 3.3.0)                     \n",
       " digest       0.6.9      2016-01-08 CRAN (R 3.3.0)                     \n",
       " dplyr      * 0.5.0      2016-06-24 CRAN (R 3.3.1)                     \n",
       " evaluate     0.9        2016-04-29 CRAN (R 3.3.0)                     \n",
       " ggplot2    * 2.1.0      2016-03-01 CRAN (R 3.3.0)                     \n",
       " gridExtra  * 2.2.1      2016-02-29 CRAN (R 3.3.1)                     \n",
       " gtable       0.2.0      2016-02-26 CRAN (R 3.3.0)                     \n",
       " IRdisplay    0.3.0.9000 2016-06-20 Github (IRkernel/IRdisplay@69fd5d8)\n",
       " IRkernel     0.6        2016-06-20 Github (IRkernel/IRkernel@735d4ff) \n",
       " jsonlite     0.9.22     2016-06-15 CRAN (R 3.3.0)                     \n",
       " labeling     0.3        2014-08-23 CRAN (R 3.3.0)                     \n",
       " lazyeval     0.2.0      2016-06-12 CRAN (R 3.3.0)                     \n",
       " magrittr     1.5        2014-11-22 CRAN (R 3.3.0)                     \n",
       " memoise      1.0.0      2016-01-29 CRAN (R 3.3.0)                     \n",
       " munsell      0.4.3      2016-02-13 CRAN (R 3.3.0)                     \n",
       " pbdZMQ       0.2-3      2016-05-20 CRAN (R 3.3.0)                     \n",
       " pipeR      * 0.6.1.3    2016-04-04 CRAN (R 3.3.0)                     \n",
       " plyr         1.8.4      2016-06-08 CRAN (R 3.3.0)                     \n",
       " R6           2.1.2      2016-01-26 CRAN (R 3.3.0)                     \n",
       " Rcpp         0.12.5     2016-05-14 CRAN (R 3.3.0)                     \n",
       " readr      * 0.2.2      2015-10-22 CRAN (R 3.3.0)                     \n",
       " readxl     * 0.1.1      2016-03-28 CRAN (R 3.3.0)                     \n",
       " repr         0.7        2016-05-13 CRAN (R 3.3.0)                     \n",
       " scales       0.4.0      2016-02-26 CRAN (R 3.3.0)                     \n",
       " stringi      1.1.1      2016-05-27 CRAN (R 3.3.0)                     \n",
       " stringr      1.0.0      2015-04-30 CRAN (R 3.3.0)                     \n",
       " tibble       1.0        2016-03-23 CRAN (R 3.3.0)                     \n",
       " tidyr      * 0.5.1      2016-06-14 CRAN (R 3.3.0)                     \n",
       " uuid         0.1-2      2015-07-28 CRAN (R 3.3.0)                     \n",
       " withr        1.0.1      2016-02-04 CRAN (R 3.3.0)                     "
      ]
     },
     "metadata": {},
     "output_type": "display_data"
    }
   ],
   "source": [
    "devtools::session_info()"
   ]
  }
 ],
 "metadata": {
  "kernelspec": {
   "display_name": "R",
   "language": "R",
   "name": "ir"
  },
  "language_info": {
   "codemirror_mode": "r",
   "file_extension": ".r",
   "mimetype": "text/x-r-source",
   "name": "R",
   "pygments_lexer": "r",
   "version": "3.3.0"
  }
 },
 "nbformat": 4,
 "nbformat_minor": 0
}
