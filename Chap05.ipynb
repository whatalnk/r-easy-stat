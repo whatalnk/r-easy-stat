{
 "cells": [
  {
   "cell_type": "markdown",
   "metadata": {},
   "source": [
    "# 第I部\n",
    "# 第5章 統計的仮設検定"
   ]
  },
  {
   "cell_type": "code",
   "execution_count": 1,
   "metadata": {
    "collapsed": true
   },
   "outputs": [],
   "source": [
    "options(repr.plot.width= 4, repr.plot.height = 4)"
   ]
  },
  {
   "cell_type": "markdown",
   "metadata": {},
   "source": [
    "## 5.3 標準正規分布を用いた検定"
   ]
  },
  {
   "cell_type": "markdown",
   "metadata": {},
   "source": [
    "* 検定統計量は $Z = \\frac{\\bar{X} - \\mu}{\\sigma / \\sqrt{n}}$"
   ]
  },
  {
   "cell_type": "markdown",
   "metadata": {},
   "source": [
    "### 例題\n",
    "\n",
    "* 心理学テストの母集団分布は $\\bar{X} \\approx N \\left( \\mu, \\frac{\\sigma^2}{n}\\right) $\n",
    "* 標準化すると， $Z = \\frac{\\bar{X} - \\mu}{\\sigma / \\sqrt{n}} \\approx N(0, 1)$"
   ]
  },
  {
   "cell_type": "code",
   "execution_count": 2,
   "metadata": {
    "collapsed": true
   },
   "outputs": [],
   "source": [
    "library(readr)"
   ]
  },
  {
   "cell_type": "code",
   "execution_count": 3,
   "metadata": {
    "collapsed": false
   },
   "outputs": [
    {
     "data": {
      "text/html": [
       "<table>\n",
       "<thead><tr><th></th><th scope=col>ID</th><th scope=col>名前</th><th scope=col>性別</th><th scope=col>数学</th><th scope=col>統計</th><th scope=col>心理学テスト</th><th scope=col>統計テスト1</th><th scope=col>統計テスト2</th><th scope=col>指導法</th></tr></thead>\n",
       "<tbody>\n",
       "\t<tr><th scope=row>1</th><td>1</td><td>大村</td><td>男</td><td>嫌い</td><td>好き</td><td>13</td><td>6</td><td>10</td><td>C</td></tr>\n",
       "\t<tr><th scope=row>2</th><td>2</td><td>本多</td><td>男</td><td>嫌い</td><td>好き</td><td>14</td><td>10</td><td>13</td><td>B</td></tr>\n",
       "\t<tr><th scope=row>3</th><td>3</td><td>川崎</td><td>男</td><td>好き</td><td>好き</td><td>7</td><td>6</td><td>8</td><td>B</td></tr>\n",
       "\t<tr><th scope=row>4</th><td>4</td><td>多村</td><td>男</td><td>好き</td><td>好き</td><td>12</td><td>10</td><td>15</td><td>A</td></tr>\n",
       "\t<tr><th scope=row>5</th><td>5</td><td>松中</td><td>男</td><td>嫌い</td><td>嫌い</td><td>10</td><td>5</td><td>8</td><td>B</td></tr>\n",
       "\t<tr><th scope=row>6</th><td>6</td><td>小久保</td><td>男</td><td>嫌い</td><td>嫌い</td><td>6</td><td>3</td><td>6</td><td>C</td></tr>\n",
       "\t<tr><th scope=row>7</th><td>7</td><td>柴原</td><td>男</td><td>嫌い</td><td>嫌い</td><td>8</td><td>5</td><td>9</td><td>A</td></tr>\n",
       "\t<tr><th scope=row>8</th><td>8</td><td>井手</td><td>男</td><td>嫌い</td><td>嫌い</td><td>15</td><td>9</td><td>10</td><td>D</td></tr>\n",
       "\t<tr><th scope=row>9</th><td>9</td><td>田上</td><td>男</td><td>嫌い</td><td>嫌い</td><td>4</td><td>3</td><td>7</td><td>D</td></tr>\n",
       "\t<tr><th scope=row>10</th><td>10</td><td>松田</td><td>男</td><td>好き</td><td>嫌い</td><td>14</td><td>3</td><td>3</td><td>D</td></tr>\n",
       "\t<tr><th scope=row>11</th><td>11</td><td>高谷</td><td>女</td><td>好き</td><td>好き</td><td>9</td><td>11</td><td>18</td><td>A</td></tr>\n",
       "\t<tr><th scope=row>12</th><td>12</td><td>杉内</td><td>女</td><td>嫌い</td><td>好き</td><td>6</td><td>6</td><td>14</td><td>A</td></tr>\n",
       "\t<tr><th scope=row>13</th><td>13</td><td>和田</td><td>女</td><td>好き</td><td>好き</td><td>10</td><td>11</td><td>18</td><td>A</td></tr>\n",
       "\t<tr><th scope=row>14</th><td>14</td><td>新垣</td><td>女</td><td>嫌い</td><td>嫌い</td><td>12</td><td>9</td><td>11</td><td>C</td></tr>\n",
       "\t<tr><th scope=row>15</th><td>15</td><td>大隣</td><td>女</td><td>嫌い</td><td>好き</td><td>5</td><td>7</td><td>12</td><td>B</td></tr>\n",
       "\t<tr><th scope=row>16</th><td>16</td><td>水田</td><td>女</td><td>好き</td><td>嫌い</td><td>12</td><td>5</td><td>5</td><td>D</td></tr>\n",
       "\t<tr><th scope=row>17</th><td>17</td><td>斉藤</td><td>女</td><td>嫌い</td><td>嫌い</td><td>8</td><td>8</td><td>7</td><td>C</td></tr>\n",
       "\t<tr><th scope=row>18</th><td>18</td><td>柳瀬</td><td>女</td><td>嫌い</td><td>嫌い</td><td>8</td><td>7</td><td>12</td><td>C</td></tr>\n",
       "\t<tr><th scope=row>19</th><td>19</td><td>佐藤</td><td>女</td><td>嫌い</td><td>嫌い</td><td>12</td><td>7</td><td>7</td><td>B</td></tr>\n",
       "\t<tr><th scope=row>20</th><td>20</td><td>馬原</td><td>女</td><td>嫌い</td><td>嫌い</td><td>15</td><td>9</td><td>7</td><td>D</td></tr>\n",
       "</tbody>\n",
       "</table>\n"
      ],
      "text/latex": [
       "\\begin{tabular}{r|lllllllll}\n",
       "  & ID & 名前 & 性別 & 数学 & 統計 & 心理学テスト & 統計テスト1 & 統計テスト2 & 指導法\\\\\n",
       "\\hline\n",
       "\t1 & 1 & 大村 & 男 & 嫌い & 好き & 13 & 6 & 10 & C\\\\\n",
       "\t2 & 2 & 本多 & 男 & 嫌い & 好き & 14 & 10 & 13 & B\\\\\n",
       "\t3 & 3 & 川崎 & 男 & 好き & 好き & 7 & 6 & 8 & B\\\\\n",
       "\t4 & 4 & 多村 & 男 & 好き & 好き & 12 & 10 & 15 & A\\\\\n",
       "\t5 & 5 & 松中 & 男 & 嫌い & 嫌い & 10 & 5 & 8 & B\\\\\n",
       "\t6 & 6 & 小久保 & 男 & 嫌い & 嫌い & 6 & 3 & 6 & C\\\\\n",
       "\t7 & 7 & 柴原 & 男 & 嫌い & 嫌い & 8 & 5 & 9 & A\\\\\n",
       "\t8 & 8 & 井手 & 男 & 嫌い & 嫌い & 15 & 9 & 10 & D\\\\\n",
       "\t9 & 9 & 田上 & 男 & 嫌い & 嫌い & 4 & 3 & 7 & D\\\\\n",
       "\t10 & 10 & 松田 & 男 & 好き & 嫌い & 14 & 3 & 3 & D\\\\\n",
       "\t11 & 11 & 高谷 & 女 & 好き & 好き & 9 & 11 & 18 & A\\\\\n",
       "\t12 & 12 & 杉内 & 女 & 嫌い & 好き & 6 & 6 & 14 & A\\\\\n",
       "\t13 & 13 & 和田 & 女 & 好き & 好き & 10 & 11 & 18 & A\\\\\n",
       "\t14 & 14 & 新垣 & 女 & 嫌い & 嫌い & 12 & 9 & 11 & C\\\\\n",
       "\t15 & 15 & 大隣 & 女 & 嫌い & 好き & 5 & 7 & 12 & B\\\\\n",
       "\t16 & 16 & 水田 & 女 & 好き & 嫌い & 12 & 5 & 5 & D\\\\\n",
       "\t17 & 17 & 斉藤 & 女 & 嫌い & 嫌い & 8 & 8 & 7 & C\\\\\n",
       "\t18 & 18 & 柳瀬 & 女 & 嫌い & 嫌い & 8 & 7 & 12 & C\\\\\n",
       "\t19 & 19 & 佐藤 & 女 & 嫌い & 嫌い & 12 & 7 & 7 & B\\\\\n",
       "\t20 & 20 & 馬原 & 女 & 嫌い & 嫌い & 15 & 9 & 7 & D\\\\\n",
       "\\end{tabular}\n"
      ],
      "text/plain": [
       "   ID   名前 性別 数学 統計 心理学テスト 統計テスト1 統計テスト2 指導法\n",
       "1   1   大村   男 嫌い 好き           13           6          10      C\n",
       "2   2   本多   男 嫌い 好き           14          10          13      B\n",
       "3   3   川崎   男 好き 好き            7           6           8      B\n",
       "4   4   多村   男 好き 好き           12          10          15      A\n",
       "5   5   松中   男 嫌い 嫌い           10           5           8      B\n",
       "6   6 小久保   男 嫌い 嫌い            6           3           6      C\n",
       "7   7   柴原   男 嫌い 嫌い            8           5           9      A\n",
       "8   8   井手   男 嫌い 嫌い           15           9          10      D\n",
       "9   9   田上   男 嫌い 嫌い            4           3           7      D\n",
       "10 10   松田   男 好き 嫌い           14           3           3      D\n",
       "11 11   高谷   女 好き 好き            9          11          18      A\n",
       "12 12   杉内   女 嫌い 好き            6           6          14      A\n",
       "13 13   和田   女 好き 好き           10          11          18      A\n",
       "14 14   新垣   女 嫌い 嫌い           12           9          11      C\n",
       "15 15   大隣   女 嫌い 好き            5           7          12      B\n",
       "16 16   水田   女 好き 嫌い           12           5           5      D\n",
       "17 17   斉藤   女 嫌い 嫌い            8           8           7      C\n",
       "18 18   柳瀬   女 嫌い 嫌い            8           7          12      C\n",
       "19 19   佐藤   女 嫌い 嫌い           12           7           7      B\n",
       "20 20   馬原   女 嫌い 嫌い           15           9           7      D"
      ]
     },
     "metadata": {},
     "output_type": "display_data"
    }
   ],
   "source": [
    "d <- read_csv(\"teaching_methods.csv\") # UTF-8\n",
    "d"
   ]
  },
  {
   "cell_type": "code",
   "execution_count": 4,
   "metadata": {
    "collapsed": false
   },
   "outputs": [
    {
     "data": {
      "text/html": [
       "<table>\n",
       "<thead><tr><th></th><th scope=col>id</th><th scope=col>name</th><th scope=col>gender</th><th scope=col>math</th><th scope=col>stat</th><th scope=col>psy_test</th><th scope=col>stat_test1</th><th scope=col>stat_test2</th><th scope=col>teach_method</th></tr></thead>\n",
       "<tbody>\n",
       "\t<tr><th scope=row>1</th><td>1</td><td>大村</td><td>男</td><td>嫌い</td><td>好き</td><td>13</td><td>6</td><td>10</td><td>C</td></tr>\n",
       "\t<tr><th scope=row>2</th><td>2</td><td>本多</td><td>男</td><td>嫌い</td><td>好き</td><td>14</td><td>10</td><td>13</td><td>B</td></tr>\n",
       "\t<tr><th scope=row>3</th><td>3</td><td>川崎</td><td>男</td><td>好き</td><td>好き</td><td>7</td><td>6</td><td>8</td><td>B</td></tr>\n",
       "\t<tr><th scope=row>4</th><td>4</td><td>多村</td><td>男</td><td>好き</td><td>好き</td><td>12</td><td>10</td><td>15</td><td>A</td></tr>\n",
       "\t<tr><th scope=row>5</th><td>5</td><td>松中</td><td>男</td><td>嫌い</td><td>嫌い</td><td>10</td><td>5</td><td>8</td><td>B</td></tr>\n",
       "\t<tr><th scope=row>6</th><td>6</td><td>小久保</td><td>男</td><td>嫌い</td><td>嫌い</td><td>6</td><td>3</td><td>6</td><td>C</td></tr>\n",
       "\t<tr><th scope=row>7</th><td>7</td><td>柴原</td><td>男</td><td>嫌い</td><td>嫌い</td><td>8</td><td>5</td><td>9</td><td>A</td></tr>\n",
       "\t<tr><th scope=row>8</th><td>8</td><td>井手</td><td>男</td><td>嫌い</td><td>嫌い</td><td>15</td><td>9</td><td>10</td><td>D</td></tr>\n",
       "\t<tr><th scope=row>9</th><td>9</td><td>田上</td><td>男</td><td>嫌い</td><td>嫌い</td><td>4</td><td>3</td><td>7</td><td>D</td></tr>\n",
       "\t<tr><th scope=row>10</th><td>10</td><td>松田</td><td>男</td><td>好き</td><td>嫌い</td><td>14</td><td>3</td><td>3</td><td>D</td></tr>\n",
       "\t<tr><th scope=row>11</th><td>11</td><td>高谷</td><td>女</td><td>好き</td><td>好き</td><td>9</td><td>11</td><td>18</td><td>A</td></tr>\n",
       "\t<tr><th scope=row>12</th><td>12</td><td>杉内</td><td>女</td><td>嫌い</td><td>好き</td><td>6</td><td>6</td><td>14</td><td>A</td></tr>\n",
       "\t<tr><th scope=row>13</th><td>13</td><td>和田</td><td>女</td><td>好き</td><td>好き</td><td>10</td><td>11</td><td>18</td><td>A</td></tr>\n",
       "\t<tr><th scope=row>14</th><td>14</td><td>新垣</td><td>女</td><td>嫌い</td><td>嫌い</td><td>12</td><td>9</td><td>11</td><td>C</td></tr>\n",
       "\t<tr><th scope=row>15</th><td>15</td><td>大隣</td><td>女</td><td>嫌い</td><td>好き</td><td>5</td><td>7</td><td>12</td><td>B</td></tr>\n",
       "\t<tr><th scope=row>16</th><td>16</td><td>水田</td><td>女</td><td>好き</td><td>嫌い</td><td>12</td><td>5</td><td>5</td><td>D</td></tr>\n",
       "\t<tr><th scope=row>17</th><td>17</td><td>斉藤</td><td>女</td><td>嫌い</td><td>嫌い</td><td>8</td><td>8</td><td>7</td><td>C</td></tr>\n",
       "\t<tr><th scope=row>18</th><td>18</td><td>柳瀬</td><td>女</td><td>嫌い</td><td>嫌い</td><td>8</td><td>7</td><td>12</td><td>C</td></tr>\n",
       "\t<tr><th scope=row>19</th><td>19</td><td>佐藤</td><td>女</td><td>嫌い</td><td>嫌い</td><td>12</td><td>7</td><td>7</td><td>B</td></tr>\n",
       "\t<tr><th scope=row>20</th><td>20</td><td>馬原</td><td>女</td><td>嫌い</td><td>嫌い</td><td>15</td><td>9</td><td>7</td><td>D</td></tr>\n",
       "</tbody>\n",
       "</table>\n"
      ],
      "text/latex": [
       "\\begin{tabular}{r|lllllllll}\n",
       "  & id & name & gender & math & stat & psy_test & stat_test1 & stat_test2 & teach_method\\\\\n",
       "\\hline\n",
       "\t1 & 1 & 大村 & 男 & 嫌い & 好き & 13 & 6 & 10 & C\\\\\n",
       "\t2 & 2 & 本多 & 男 & 嫌い & 好き & 14 & 10 & 13 & B\\\\\n",
       "\t3 & 3 & 川崎 & 男 & 好き & 好き & 7 & 6 & 8 & B\\\\\n",
       "\t4 & 4 & 多村 & 男 & 好き & 好き & 12 & 10 & 15 & A\\\\\n",
       "\t5 & 5 & 松中 & 男 & 嫌い & 嫌い & 10 & 5 & 8 & B\\\\\n",
       "\t6 & 6 & 小久保 & 男 & 嫌い & 嫌い & 6 & 3 & 6 & C\\\\\n",
       "\t7 & 7 & 柴原 & 男 & 嫌い & 嫌い & 8 & 5 & 9 & A\\\\\n",
       "\t8 & 8 & 井手 & 男 & 嫌い & 嫌い & 15 & 9 & 10 & D\\\\\n",
       "\t9 & 9 & 田上 & 男 & 嫌い & 嫌い & 4 & 3 & 7 & D\\\\\n",
       "\t10 & 10 & 松田 & 男 & 好き & 嫌い & 14 & 3 & 3 & D\\\\\n",
       "\t11 & 11 & 高谷 & 女 & 好き & 好き & 9 & 11 & 18 & A\\\\\n",
       "\t12 & 12 & 杉内 & 女 & 嫌い & 好き & 6 & 6 & 14 & A\\\\\n",
       "\t13 & 13 & 和田 & 女 & 好き & 好き & 10 & 11 & 18 & A\\\\\n",
       "\t14 & 14 & 新垣 & 女 & 嫌い & 嫌い & 12 & 9 & 11 & C\\\\\n",
       "\t15 & 15 & 大隣 & 女 & 嫌い & 好き & 5 & 7 & 12 & B\\\\\n",
       "\t16 & 16 & 水田 & 女 & 好き & 嫌い & 12 & 5 & 5 & D\\\\\n",
       "\t17 & 17 & 斉藤 & 女 & 嫌い & 嫌い & 8 & 8 & 7 & C\\\\\n",
       "\t18 & 18 & 柳瀬 & 女 & 嫌い & 嫌い & 8 & 7 & 12 & C\\\\\n",
       "\t19 & 19 & 佐藤 & 女 & 嫌い & 嫌い & 12 & 7 & 7 & B\\\\\n",
       "\t20 & 20 & 馬原 & 女 & 嫌い & 嫌い & 15 & 9 & 7 & D\\\\\n",
       "\\end{tabular}\n"
      ],
      "text/plain": [
       "   id   name gender math stat psy_test stat_test1 stat_test2 teach_method\n",
       "1   1   大村     男 嫌い 好き       13          6         10            C\n",
       "2   2   本多     男 嫌い 好き       14         10         13            B\n",
       "3   3   川崎     男 好き 好き        7          6          8            B\n",
       "4   4   多村     男 好き 好き       12         10         15            A\n",
       "5   5   松中     男 嫌い 嫌い       10          5          8            B\n",
       "6   6 小久保     男 嫌い 嫌い        6          3          6            C\n",
       "7   7   柴原     男 嫌い 嫌い        8          5          9            A\n",
       "8   8   井手     男 嫌い 嫌い       15          9         10            D\n",
       "9   9   田上     男 嫌い 嫌い        4          3          7            D\n",
       "10 10   松田     男 好き 嫌い       14          3          3            D\n",
       "11 11   高谷     女 好き 好き        9         11         18            A\n",
       "12 12   杉内     女 嫌い 好き        6          6         14            A\n",
       "13 13   和田     女 好き 好き       10         11         18            A\n",
       "14 14   新垣     女 嫌い 嫌い       12          9         11            C\n",
       "15 15   大隣     女 嫌い 好き        5          7         12            B\n",
       "16 16   水田     女 好き 嫌い       12          5          5            D\n",
       "17 17   斉藤     女 嫌い 嫌い        8          8          7            C\n",
       "18 18   柳瀬     女 嫌い 嫌い        8          7         12            C\n",
       "19 19   佐藤     女 嫌い 嫌い       12          7          7            B\n",
       "20 20   馬原     女 嫌い 嫌い       15          9          7            D"
      ]
     },
     "metadata": {},
     "output_type": "display_data"
    }
   ],
   "source": [
    "names(d) <- c(\"id\", \"name\", \"gender\", \"math\", \"stat\", \"psy_test\", \"stat_test1\", \"stat_test2\", \"teach_method\")\n",
    "d"
   ]
  },
  {
   "cell_type": "code",
   "execution_count": 5,
   "metadata": {
    "collapsed": true
   },
   "outputs": [],
   "source": [
    "psy_test <- d$psy_test"
   ]
  },
  {
   "cell_type": "markdown",
   "metadata": {},
   "source": [
    "（4） 統計検定量の計算"
   ]
  },
  {
   "cell_type": "code",
   "execution_count": 6,
   "metadata": {
    "collapsed": false
   },
   "outputs": [
    {
     "data": {
      "text/html": [
       "-2.82842712474619"
      ],
      "text/latex": [
       "-2.82842712474619"
      ],
      "text/markdown": [
       "-2.82842712474619"
      ],
      "text/plain": [
       "[1] -2.828427"
      ]
     },
     "metadata": {},
     "output_type": "display_data"
    }
   ],
   "source": [
    "z <- (mean(psy_test) - 12) / (sqrt(10 / length(psy_test)))\n",
    "z"
   ]
  },
  {
   "cell_type": "markdown",
   "metadata": {},
   "source": [
    "棄却域を計算する  \n",
    "上側確率は，"
   ]
  },
  {
   "cell_type": "code",
   "execution_count": 7,
   "metadata": {
    "collapsed": false
   },
   "outputs": [
    {
     "data": {
      "text/html": [
       "1.95996398454005"
      ],
      "text/latex": [
       "1.95996398454005"
      ],
      "text/markdown": [
       "1.95996398454005"
      ],
      "text/plain": [
       "[1] 1.959964"
      ]
     },
     "metadata": {},
     "output_type": "display_data"
    }
   ],
   "source": [
    "qnorm(1 - 0.05 / 2)"
   ]
  },
  {
   "cell_type": "markdown",
   "metadata": {},
   "source": [
    "下側確率は，"
   ]
  },
  {
   "cell_type": "code",
   "execution_count": 8,
   "metadata": {
    "collapsed": false
   },
   "outputs": [
    {
     "data": {
      "text/html": [
       "-1.95996398454005"
      ],
      "text/latex": [
       "-1.95996398454005"
      ],
      "text/markdown": [
       "-1.95996398454005"
      ],
      "text/plain": [
       "[1] -1.959964"
      ]
     },
     "metadata": {},
     "output_type": "display_data"
    }
   ],
   "source": [
    "qnorm(0.05 / 2)"
   ]
  },
  {
   "cell_type": "markdown",
   "metadata": {},
   "source": [
    "棄却域は，  \n",
    "$Z \\lt -1.95996$, $Z \\gt 1.95996$"
   ]
  },
  {
   "cell_type": "code",
   "execution_count": 9,
   "metadata": {
    "collapsed": true
   },
   "outputs": [],
   "source": [
    "library(ggplot2)"
   ]
  },
  {
   "cell_type": "code",
   "execution_count": 10,
   "metadata": {
    "collapsed": false
   },
   "outputs": [
    {
     "data": {
      "image/png": "[encoded data removed]",
      "image/svg+xml": [
       "<?xml version=\"1.0\" encoding=\"UTF-8\"?>\n",
       "<svg xmlns=\"http://www.w3.org/2000/svg\" xmlns:xlink=\"http://www.w3.org/1999/xlink\" width=\"288pt\" height=\"288pt\" viewBox=\"0 0 288 288\" version=\"1.1\">\n",
       "<defs>\n",
       "<g>\n",
       "<symbol overflow=\"visible\" id=\"glyph0-0\">\n",
       "<path style=\"stroke:none;\" d=\"M 0.367188 -3.105469 C 0.363281 -3.847656 0.4375 -4.445313 0.59375 -4.902344 C 0.742188 -5.355469 0.972656 -5.707031 1.277344 -5.953125 C 1.578125 -6.199219 1.957031 -6.320313 2.417969 -6.324219 C 2.753906 -6.320313 3.050781 -6.253906 3.308594 -6.121094 C 3.5625 -5.984375 3.773438 -5.789063 3.9375 -5.53125 C 4.101563 -5.273438 4.230469 -4.960938 4.328125 -4.59375 C 4.421875 -4.226563 4.46875 -3.730469 4.472656 -3.105469 C 4.46875 -2.367188 4.394531 -1.769531 4.242188 -1.316406 C 4.089844 -0.859375 3.863281 -0.507813 3.5625 -0.261719 C 3.257813 -0.015625 2.875 0.105469 2.417969 0.109375 C 1.808594 0.105469 1.332031 -0.109375 0.988281 -0.546875 C 0.570313 -1.066406 0.363281 -1.921875 0.367188 -3.105469 Z M 1.160156 -3.105469 C 1.160156 -2.070313 1.28125 -1.378906 1.523438 -1.039063 C 1.765625 -0.695313 2.0625 -0.527344 2.417969 -0.527344 C 2.773438 -0.527344 3.074219 -0.699219 3.316406 -1.042969 C 3.558594 -1.386719 3.679688 -2.074219 3.679688 -3.105469 C 3.679688 -4.144531 3.558594 -4.832031 3.316406 -5.171875 C 3.074219 -5.511719 2.769531 -5.683594 2.410156 -5.683594 C 2.050781 -5.683594 1.769531 -5.53125 1.558594 -5.234375 C 1.292969 -4.84375 1.160156 -4.136719 1.160156 -3.105469 Z M 1.160156 -3.105469 \"/>\n",
       "</symbol>\n",
       "<symbol overflow=\"visible\" id=\"glyph0-1\">\n",
       "<path style=\"stroke:none;\" d=\"M 0.800781 0 L 0.800781 -0.882813 L 1.679688 -0.882813 L 1.679688 0 Z M 0.800781 0 \"/>\n",
       "</symbol>\n",
       "<symbol overflow=\"visible\" id=\"glyph0-2\">\n",
       "<path style=\"stroke:none;\" d=\"M 3.277344 0 L 2.503906 0 L 2.503906 -4.929688 C 2.316406 -4.75 2.074219 -4.574219 1.773438 -4.394531 C 1.46875 -4.214844 1.195313 -4.082031 0.957031 -3.996094 L 0.957031 -4.742188 C 1.386719 -4.941406 1.765625 -5.1875 2.089844 -5.480469 C 2.414063 -5.769531 2.644531 -6.050781 2.78125 -6.324219 L 3.277344 -6.324219 Z M 3.277344 0 \"/>\n",
       "</symbol>\n",
       "<symbol overflow=\"visible\" id=\"glyph0-3\">\n",
       "<path style=\"stroke:none;\" d=\"M 4.429688 -0.742188 L 4.429688 0 L 0.265625 0 C 0.257813 -0.1875 0.289063 -0.367188 0.355469 -0.539063 C 0.460938 -0.820313 0.628906 -1.097656 0.863281 -1.375 C 1.09375 -1.648438 1.433594 -1.964844 1.878906 -2.328125 C 2.5625 -2.886719 3.023438 -3.332031 3.265625 -3.664063 C 3.5 -3.988281 3.621094 -4.300781 3.625 -4.59375 C 3.621094 -4.898438 3.511719 -5.15625 3.296875 -5.367188 C 3.074219 -5.578125 2.789063 -5.683594 2.441406 -5.683594 C 2.066406 -5.683594 1.769531 -5.570313 1.546875 -5.347656 C 1.320313 -5.125 1.207031 -4.816406 1.207031 -4.421875 L 0.414063 -4.503906 C 0.464844 -5.09375 0.667969 -5.542969 1.027344 -5.855469 C 1.378906 -6.164063 1.855469 -6.320313 2.457031 -6.324219 C 3.058594 -6.320313 3.539063 -6.152344 3.890625 -5.820313 C 4.242188 -5.484375 4.417969 -5.070313 4.421875 -4.578125 C 4.417969 -4.320313 4.367188 -4.074219 4.265625 -3.832031 C 4.164063 -3.589844 3.992188 -3.332031 3.753906 -3.0625 C 3.511719 -2.792969 3.113281 -2.425781 2.5625 -1.957031 C 2.09375 -1.566406 1.796875 -1.300781 1.664063 -1.160156 C 1.53125 -1.019531 1.421875 -0.878906 1.339844 -0.742188 Z M 4.429688 -0.742188 \"/>\n",
       "</symbol>\n",
       "<symbol overflow=\"visible\" id=\"glyph0-4\">\n",
       "<path style=\"stroke:none;\" d=\"M 0.371094 -1.664063 L 1.144531 -1.765625 C 1.230469 -1.324219 1.382813 -1.007813 1.597656 -0.816406 C 1.808594 -0.621094 2.066406 -0.527344 2.375 -0.527344 C 2.734375 -0.527344 3.042969 -0.652344 3.296875 -0.90625 C 3.546875 -1.15625 3.671875 -1.46875 3.675781 -1.84375 C 3.671875 -2.195313 3.554688 -2.488281 3.324219 -2.71875 C 3.089844 -2.949219 2.796875 -3.0625 2.441406 -3.066406 C 2.292969 -3.0625 2.109375 -3.035156 1.894531 -2.980469 L 1.980469 -3.660156 C 2.03125 -3.652344 2.070313 -3.648438 2.105469 -3.652344 C 2.433594 -3.648438 2.730469 -3.734375 2.996094 -3.910156 C 3.253906 -4.078125 3.386719 -4.34375 3.390625 -4.703125 C 3.386719 -4.984375 3.289063 -5.21875 3.101563 -5.40625 C 2.90625 -5.589844 2.660156 -5.683594 2.359375 -5.6875 C 2.054688 -5.683594 1.804688 -5.589844 1.605469 -5.402344 C 1.402344 -5.214844 1.273438 -4.929688 1.21875 -4.554688 L 0.445313 -4.691406 C 0.539063 -5.207031 0.753906 -5.609375 1.089844 -5.894531 C 1.425781 -6.179688 1.84375 -6.320313 2.34375 -6.324219 C 2.6875 -6.320313 3.003906 -6.246094 3.292969 -6.101563 C 3.582031 -5.953125 3.800781 -5.753906 3.953125 -5.5 C 4.105469 -5.242188 4.183594 -4.972656 4.183594 -4.6875 C 4.183594 -4.414063 4.109375 -4.164063 3.964844 -3.945313 C 3.816406 -3.71875 3.601563 -3.542969 3.316406 -3.410156 C 3.6875 -3.324219 3.976563 -3.144531 4.183594 -2.875 C 4.390625 -2.601563 4.492188 -2.261719 4.496094 -1.859375 C 4.492188 -1.304688 4.292969 -0.839844 3.894531 -0.460938 C 3.492188 -0.078125 2.984375 0.109375 2.371094 0.113281 C 1.816406 0.109375 1.355469 -0.0507813 0.992188 -0.378906 C 0.625 -0.707031 0.417969 -1.136719 0.371094 -1.664063 Z M 0.371094 -1.664063 \"/>\n",
       "</symbol>\n",
       "<symbol overflow=\"visible\" id=\"glyph0-5\">\n",
       "<path style=\"stroke:none;\" d=\"M 2.84375 0 L 2.84375 -1.507813 L 0.113281 -1.507813 L 0.113281 -2.21875 L 2.988281 -6.300781 L 3.617188 -6.300781 L 3.617188 -2.21875 L 4.46875 -2.21875 L 4.46875 -1.507813 L 3.617188 -1.507813 L 3.617188 0 Z M 2.84375 -2.21875 L 2.84375 -5.058594 L 0.871094 -2.21875 Z M 2.84375 -2.21875 \"/>\n",
       "</symbol>\n",
       "<symbol overflow=\"visible\" id=\"glyph0-6\">\n",
       "<path style=\"stroke:none;\" d=\"M 0.28125 -1.890625 L 0.28125 -2.667969 L 2.65625 -2.667969 L 2.65625 -1.890625 Z M 0.28125 -1.890625 \"/>\n",
       "</symbol>\n",
       "<symbol overflow=\"visible\" id=\"glyph1-0\">\n",
       "<path style=\"stroke:none;\" d=\"M 0.0820313 0 L 2.164063 -2.964844 L 0.234375 -5.703125 L 1.445313 -5.703125 L 2.320313 -4.367188 C 2.484375 -4.109375 2.617188 -3.898438 2.71875 -3.726563 C 2.875 -3.960938 3.019531 -4.167969 3.152344 -4.355469 L 4.113281 -5.703125 L 5.269531 -5.703125 L 3.296875 -3.019531 L 5.417969 0 L 4.234375 0 L 3.0625 -1.773438 L 2.75 -2.25 L 1.25 0 Z M 0.0820313 0 \"/>\n",
       "</symbol>\n",
       "<symbol overflow=\"visible\" id=\"glyph2-0\">\n",
       "<path style=\"stroke:none;\" d=\"M 2.195313 -0.683594 L 1.289063 -0.574219 C 1.34375 -0.785156 1.371094 -0.96875 1.375 -1.128906 C 1.371094 -1.339844 1.335938 -1.511719 1.265625 -1.640625 C 1.195313 -1.769531 1.09375 -1.875 0.96875 -1.960938 C 0.867188 -2.019531 0.628906 -2.117188 0.246094 -2.257813 C 0.191406 -2.269531 0.113281 -2.300781 0.0117188 -2.34375 L -5.703125 -0.175781 L -5.703125 -1.21875 L -2.402344 -2.40625 C -1.980469 -2.558594 -1.539063 -2.695313 -1.078125 -2.820313 C -1.523438 -2.925781 -1.957031 -3.058594 -2.378906 -3.21875 L -5.703125 -4.4375 L -5.703125 -5.402344 L 0.0976563 -3.234375 C 0.71875 -3 1.148438 -2.816406 1.390625 -2.691406 C 1.707031 -2.515625 1.941406 -2.320313 2.09375 -2.097656 C 2.238281 -1.875 2.3125 -1.609375 2.316406 -1.304688 C 2.3125 -1.117188 2.273438 -0.910156 2.195313 -0.683594 Z M 2.195313 -0.683594 \"/>\n",
       "</symbol>\n",
       "</g>\n",
       "<clipPath id=\"clip1\">\n",
       "  <path d=\"M 37.09375 5.480469 L 283.519531 5.480469 L 283.519531 257.839844 L 37.09375 257.839844 Z M 37.09375 5.480469 \"/>\n",
       "</clipPath>\n",
       "</defs>\n",
       "<g id=\"surface1\">\n",
       "<rect x=\"0\" y=\"0\" width=\"288\" height=\"288\" style=\"fill:rgb(100%,100%,100%);fill-opacity:1;stroke:none;\"/>\n",
       "<rect x=\"0\" y=\"0\" width=\"288\" height=\"288\" style=\"fill:rgb(100%,100%,100%);fill-opacity:1;stroke:none;\"/>\n",
       "<path style=\"fill:none;stroke-width:1.066978;stroke-linecap:round;stroke-linejoin:round;stroke:rgb(100%,100%,100%);stroke-opacity:1;stroke-miterlimit:10;\" d=\"M 0 288 L 288 288 L 288 0 L 0 0 Z M 0 288 \"/>\n",
       "<g clip-path=\"url(#clip1)\" clip-rule=\"nonzero\">\n",
       "<path style=\" stroke:none;fill-rule:nonzero;fill:rgb(92.156863%,92.156863%,92.156863%);fill-opacity:1;\" d=\"M 37.09375 256.839844 L 282.519531 256.839844 L 282.519531 5.480469 L 37.09375 5.480469 Z M 37.09375 256.839844 \"/>\n",
       "<path style=\"fill:none;stroke-width:0.533489;stroke-linecap:butt;stroke-linejoin:round;stroke:rgb(100%,100%,100%);stroke-opacity:1;stroke-miterlimit:10;\" d=\"M 37.09375 219.019531 L 282.519531 219.019531 \"/>\n",
       "<path style=\"fill:none;stroke-width:0.533489;stroke-linecap:butt;stroke-linejoin:round;stroke:rgb(100%,100%,100%);stroke-opacity:1;stroke-miterlimit:10;\" d=\"M 37.09375 161.097656 L 282.519531 161.097656 \"/>\n",
       "<path style=\"fill:none;stroke-width:0.533489;stroke-linecap:butt;stroke-linejoin:round;stroke:rgb(100%,100%,100%);stroke-opacity:1;stroke-miterlimit:10;\" d=\"M 37.09375 103.175781 L 282.519531 103.175781 \"/>\n",
       "<path style=\"fill:none;stroke-width:0.533489;stroke-linecap:butt;stroke-linejoin:round;stroke:rgb(100%,100%,100%);stroke-opacity:1;stroke-miterlimit:10;\" d=\"M 37.09375 45.253906 L 282.519531 45.253906 \"/>\n",
       "<path style=\"fill:none;stroke-width:0.533489;stroke-linecap:butt;stroke-linejoin:round;stroke:rgb(100%,100%,100%);stroke-opacity:1;stroke-miterlimit:10;\" d=\"M 66.84375 256.839844 L 66.84375 5.480469 \"/>\n",
       "<path style=\"fill:none;stroke-width:0.533489;stroke-linecap:butt;stroke-linejoin:round;stroke:rgb(100%,100%,100%);stroke-opacity:1;stroke-miterlimit:10;\" d=\"M 104.027344 256.839844 L 104.027344 5.480469 \"/>\n",
       "<path style=\"fill:none;stroke-width:0.533489;stroke-linecap:butt;stroke-linejoin:round;stroke:rgb(100%,100%,100%);stroke-opacity:1;stroke-miterlimit:10;\" d=\"M 141.214844 256.839844 L 141.214844 5.480469 \"/>\n",
       "<path style=\"fill:none;stroke-width:0.533489;stroke-linecap:butt;stroke-linejoin:round;stroke:rgb(100%,100%,100%);stroke-opacity:1;stroke-miterlimit:10;\" d=\"M 178.398438 256.839844 L 178.398438 5.480469 \"/>\n",
       "<path style=\"fill:none;stroke-width:0.533489;stroke-linecap:butt;stroke-linejoin:round;stroke:rgb(100%,100%,100%);stroke-opacity:1;stroke-miterlimit:10;\" d=\"M 215.585938 256.839844 L 215.585938 5.480469 \"/>\n",
       "<path style=\"fill:none;stroke-width:0.533489;stroke-linecap:butt;stroke-linejoin:round;stroke:rgb(100%,100%,100%);stroke-opacity:1;stroke-miterlimit:10;\" d=\"M 252.773438 256.839844 L 252.773438 5.480469 \"/>\n",
       "<path style=\"fill:none;stroke-width:1.066978;stroke-linecap:butt;stroke-linejoin:round;stroke:rgb(100%,100%,100%);stroke-opacity:1;stroke-miterlimit:10;\" d=\"M 37.09375 247.980469 L 282.519531 247.980469 \"/>\n",
       "<path style=\"fill:none;stroke-width:1.066978;stroke-linecap:butt;stroke-linejoin:round;stroke:rgb(100%,100%,100%);stroke-opacity:1;stroke-miterlimit:10;\" d=\"M 37.09375 190.058594 L 282.519531 190.058594 \"/>\n",
       "<path style=\"fill:none;stroke-width:1.066978;stroke-linecap:butt;stroke-linejoin:round;stroke:rgb(100%,100%,100%);stroke-opacity:1;stroke-miterlimit:10;\" d=\"M 37.09375 132.136719 L 282.519531 132.136719 \"/>\n",
       "<path style=\"fill:none;stroke-width:1.066978;stroke-linecap:butt;stroke-linejoin:round;stroke:rgb(100%,100%,100%);stroke-opacity:1;stroke-miterlimit:10;\" d=\"M 37.09375 74.214844 L 282.519531 74.214844 \"/>\n",
       "<path style=\"fill:none;stroke-width:1.066978;stroke-linecap:butt;stroke-linejoin:round;stroke:rgb(100%,100%,100%);stroke-opacity:1;stroke-miterlimit:10;\" d=\"M 37.09375 16.292969 L 282.519531 16.292969 \"/>\n",
       "<path style=\"fill:none;stroke-width:1.066978;stroke-linecap:butt;stroke-linejoin:round;stroke:rgb(100%,100%,100%);stroke-opacity:1;stroke-miterlimit:10;\" d=\"M 48.25 256.839844 L 48.25 5.480469 \"/>\n",
       "<path style=\"fill:none;stroke-width:1.066978;stroke-linecap:butt;stroke-linejoin:round;stroke:rgb(100%,100%,100%);stroke-opacity:1;stroke-miterlimit:10;\" d=\"M 85.433594 256.839844 L 85.433594 5.480469 \"/>\n",
       "<path style=\"fill:none;stroke-width:1.066978;stroke-linecap:butt;stroke-linejoin:round;stroke:rgb(100%,100%,100%);stroke-opacity:1;stroke-miterlimit:10;\" d=\"M 122.621094 256.839844 L 122.621094 5.480469 \"/>\n",
       "<path style=\"fill:none;stroke-width:1.066978;stroke-linecap:butt;stroke-linejoin:round;stroke:rgb(100%,100%,100%);stroke-opacity:1;stroke-miterlimit:10;\" d=\"M 159.808594 256.839844 L 159.808594 5.480469 \"/>\n",
       "<path style=\"fill:none;stroke-width:1.066978;stroke-linecap:butt;stroke-linejoin:round;stroke:rgb(100%,100%,100%);stroke-opacity:1;stroke-miterlimit:10;\" d=\"M 196.992188 256.839844 L 196.992188 5.480469 \"/>\n",
       "<path style=\"fill:none;stroke-width:1.066978;stroke-linecap:butt;stroke-linejoin:round;stroke:rgb(100%,100%,100%);stroke-opacity:1;stroke-miterlimit:10;\" d=\"M 234.179688 256.839844 L 234.179688 5.480469 \"/>\n",
       "<path style=\"fill:none;stroke-width:1.066978;stroke-linecap:butt;stroke-linejoin:round;stroke:rgb(100%,100%,100%);stroke-opacity:1;stroke-miterlimit:10;\" d=\"M 271.363281 256.839844 L 271.363281 5.480469 \"/>\n",
       "<path style=\"fill:none;stroke-width:1.066978;stroke-linecap:butt;stroke-linejoin:round;stroke:rgb(100%,100%,100%);stroke-opacity:1;stroke-miterlimit:10;\" d=\"M 196.992188 256.839844 L 196.992188 5.480469 \"/>\n",
       "<path style=\"fill:none;stroke-width:1.066978;stroke-linecap:butt;stroke-linejoin:round;stroke:rgb(0%,0%,0%);stroke-opacity:1;stroke-miterlimit:1;\" d=\"M 48.25 245.414063 L 50.480469 244.914063 L 52.710938 244.328125 L 54.941406 243.648438 L 57.175781 242.859375 L 59.40625 241.945313 L 61.636719 240.898438 L 63.867188 239.695313 L 66.097656 238.328125 L 68.328125 236.769531 L 70.5625 235.011719 L 72.792969 233.027344 L 75.023438 230.804688 L 77.253906 228.324219 L 79.484375 225.5625 L 81.714844 222.503906 L 83.949219 219.136719 L 86.179688 215.4375 L 88.410156 211.398438 L 90.640625 207.007813 L 92.871094 202.253906 L 95.105469 197.128906 L 97.335938 191.632813 L 99.566406 185.769531 L 101.796875 179.542969 L 104.027344 172.960938 L 106.257813 166.046875 L 108.492188 158.8125 L 110.722656 151.289063 L 112.953125 143.507813 L 115.183594 135.503906 L 117.414063 127.324219 L 119.644531 119.015625 L 121.878906 110.628906 L 124.109375 102.222656 L 126.339844 93.859375 L 128.570313 85.601563 L 130.800781 77.511719 L 133.03125 69.667969 L 135.265625 62.128906 L 137.496094 54.96875 L 139.726563 48.253906 L 141.957031 42.050781 L 144.1875 36.414063 L 146.421875 31.402344 L 148.652344 27.074219 L 150.882813 23.464844 L 153.113281 20.617188 L 155.34375 18.5625 L 157.574219 17.320313 L 159.808594 16.90625 L 162.039063 17.320313 L 164.269531 18.5625 L 166.5 20.617188 L 168.730469 23.464844 L 170.960938 27.074219 L 173.195313 31.402344 L 175.425781 36.414063 L 177.65625 42.050781 L 179.886719 48.253906 L 182.117188 54.96875 L 184.351563 62.128906 L 186.582031 69.667969 L 188.8125 77.511719 L 191.042969 85.601563 L 193.273438 93.859375 L 195.503906 102.222656 L 197.738281 110.628906 L 199.96875 119.015625 L 202.199219 127.324219 L 204.429688 135.503906 L 206.660156 143.507813 L 208.890625 151.289063 L 211.125 158.8125 L 213.355469 166.046875 L 215.585938 172.960938 L 217.816406 179.542969 L 220.046875 185.769531 L 222.28125 191.632813 L 224.511719 197.128906 L 226.742188 202.253906 L 228.972656 207.007813 L 231.203125 211.398438 L 233.433594 215.4375 L 235.667969 219.136719 L 237.898438 222.503906 L 240.128906 225.5625 L 242.359375 228.324219 L 244.589844 230.804688 L 246.820313 233.027344 L 249.054688 235.011719 L 251.285156 236.769531 L 253.515625 238.328125 L 255.746094 239.695313 L 257.976563 240.898438 L 260.210938 241.945313 L 262.441406 242.859375 L 264.671875 243.648438 L 266.902344 244.328125 L 269.132813 244.914063 L 271.363281 245.414063 \"/>\n",
       "<path style=\"fill:none;stroke-width:1.066978;stroke-linecap:butt;stroke-linejoin:round;stroke:rgb(0%,0%,0%);stroke-opacity:1;stroke-miterlimit:10;\" d=\"M 86.925781 256.839844 L 86.925781 5.480469 \"/>\n",
       "<path style=\"fill:none;stroke-width:1.066978;stroke-linecap:butt;stroke-linejoin:round;stroke:rgb(0%,0%,0%);stroke-opacity:1;stroke-miterlimit:10;\" d=\"M 232.691406 256.839844 L 232.691406 5.480469 \"/>\n",
       "</g>\n",
       "<g style=\"fill:rgb(30.196078%,30.196078%,30.196078%);fill-opacity:1;\">\n",
       "  <use xlink:href=\"#glyph0-0\" x=\"19.925781\" y=\"251.132813\"/>\n",
       "  <use xlink:href=\"#glyph0-1\" x=\"24.819922\" y=\"251.132813\"/>\n",
       "  <use xlink:href=\"#glyph0-0\" x=\"27.264844\" y=\"251.132813\"/>\n",
       "</g>\n",
       "<g style=\"fill:rgb(30.196078%,30.196078%,30.196078%);fill-opacity:1;\">\n",
       "  <use xlink:href=\"#glyph0-0\" x=\"19.925781\" y=\"193.210938\"/>\n",
       "  <use xlink:href=\"#glyph0-1\" x=\"24.819922\" y=\"193.210938\"/>\n",
       "  <use xlink:href=\"#glyph0-2\" x=\"27.264844\" y=\"193.210938\"/>\n",
       "</g>\n",
       "<g style=\"fill:rgb(30.196078%,30.196078%,30.196078%);fill-opacity:1;\">\n",
       "  <use xlink:href=\"#glyph0-0\" x=\"19.925781\" y=\"135.285156\"/>\n",
       "  <use xlink:href=\"#glyph0-1\" x=\"24.819922\" y=\"135.285156\"/>\n",
       "  <use xlink:href=\"#glyph0-3\" x=\"27.264844\" y=\"135.285156\"/>\n",
       "</g>\n",
       "<g style=\"fill:rgb(30.196078%,30.196078%,30.196078%);fill-opacity:1;\">\n",
       "  <use xlink:href=\"#glyph0-0\" x=\"19.925781\" y=\"77.363281\"/>\n",
       "  <use xlink:href=\"#glyph0-1\" x=\"24.819922\" y=\"77.363281\"/>\n",
       "  <use xlink:href=\"#glyph0-4\" x=\"27.264844\" y=\"77.363281\"/>\n",
       "</g>\n",
       "<g style=\"fill:rgb(30.196078%,30.196078%,30.196078%);fill-opacity:1;\">\n",
       "  <use xlink:href=\"#glyph0-0\" x=\"19.925781\" y=\"19.441406\"/>\n",
       "  <use xlink:href=\"#glyph0-1\" x=\"24.819922\" y=\"19.441406\"/>\n",
       "  <use xlink:href=\"#glyph0-5\" x=\"27.264844\" y=\"19.441406\"/>\n",
       "</g>\n",
       "<path style=\"fill:none;stroke-width:1.066978;stroke-linecap:butt;stroke-linejoin:round;stroke:rgb(20%,20%,20%);stroke-opacity:1;stroke-miterlimit:10;\" d=\"M 34.355469 247.980469 L 37.09375 247.980469 \"/>\n",
       "<path style=\"fill:none;stroke-width:1.066978;stroke-linecap:butt;stroke-linejoin:round;stroke:rgb(20%,20%,20%);stroke-opacity:1;stroke-miterlimit:10;\" d=\"M 34.355469 190.058594 L 37.09375 190.058594 \"/>\n",
       "<path style=\"fill:none;stroke-width:1.066978;stroke-linecap:butt;stroke-linejoin:round;stroke:rgb(20%,20%,20%);stroke-opacity:1;stroke-miterlimit:10;\" d=\"M 34.355469 132.136719 L 37.09375 132.136719 \"/>\n",
       "<path style=\"fill:none;stroke-width:1.066978;stroke-linecap:butt;stroke-linejoin:round;stroke:rgb(20%,20%,20%);stroke-opacity:1;stroke-miterlimit:10;\" d=\"M 34.355469 74.214844 L 37.09375 74.214844 \"/>\n",
       "<path style=\"fill:none;stroke-width:1.066978;stroke-linecap:butt;stroke-linejoin:round;stroke:rgb(20%,20%,20%);stroke-opacity:1;stroke-miterlimit:10;\" d=\"M 34.355469 16.292969 L 37.09375 16.292969 \"/>\n",
       "<path style=\"fill:none;stroke-width:1.066978;stroke-linecap:butt;stroke-linejoin:round;stroke:rgb(20%,20%,20%);stroke-opacity:1;stroke-miterlimit:10;\" d=\"M 48.25 259.582031 L 48.25 256.839844 \"/>\n",
       "<path style=\"fill:none;stroke-width:1.066978;stroke-linecap:butt;stroke-linejoin:round;stroke:rgb(20%,20%,20%);stroke-opacity:1;stroke-miterlimit:10;\" d=\"M 85.433594 259.582031 L 85.433594 256.839844 \"/>\n",
       "<path style=\"fill:none;stroke-width:1.066978;stroke-linecap:butt;stroke-linejoin:round;stroke:rgb(20%,20%,20%);stroke-opacity:1;stroke-miterlimit:10;\" d=\"M 122.621094 259.582031 L 122.621094 256.839844 \"/>\n",
       "<path style=\"fill:none;stroke-width:1.066978;stroke-linecap:butt;stroke-linejoin:round;stroke:rgb(20%,20%,20%);stroke-opacity:1;stroke-miterlimit:10;\" d=\"M 159.808594 259.582031 L 159.808594 256.839844 \"/>\n",
       "<path style=\"fill:none;stroke-width:1.066978;stroke-linecap:butt;stroke-linejoin:round;stroke:rgb(20%,20%,20%);stroke-opacity:1;stroke-miterlimit:10;\" d=\"M 196.992188 259.582031 L 196.992188 256.839844 \"/>\n",
       "<path style=\"fill:none;stroke-width:1.066978;stroke-linecap:butt;stroke-linejoin:round;stroke:rgb(20%,20%,20%);stroke-opacity:1;stroke-miterlimit:10;\" d=\"M 234.179688 259.582031 L 234.179688 256.839844 \"/>\n",
       "<path style=\"fill:none;stroke-width:1.066978;stroke-linecap:butt;stroke-linejoin:round;stroke:rgb(20%,20%,20%);stroke-opacity:1;stroke-miterlimit:10;\" d=\"M 271.363281 259.582031 L 271.363281 256.839844 \"/>\n",
       "<path style=\"fill:none;stroke-width:1.066978;stroke-linecap:butt;stroke-linejoin:round;stroke:rgb(20%,20%,20%);stroke-opacity:1;stroke-miterlimit:10;\" d=\"M 196.992188 259.582031 L 196.992188 256.839844 \"/>\n",
       "<g style=\"fill:rgb(30.196078%,30.196078%,30.196078%);fill-opacity:1;\">\n",
       "  <use xlink:href=\"#glyph0-6\" x=\"44.335938\" y=\"268.070313\"/>\n",
       "  <use xlink:href=\"#glyph0-4\" x=\"47.266406\" y=\"268.070313\"/>\n",
       "</g>\n",
       "<g style=\"fill:rgb(30.196078%,30.196078%,30.196078%);fill-opacity:1;\">\n",
       "  <use xlink:href=\"#glyph0-6\" x=\"81.519531\" y=\"268.070313\"/>\n",
       "  <use xlink:href=\"#glyph0-3\" x=\"84.45\" y=\"268.070313\"/>\n",
       "</g>\n",
       "<g style=\"fill:rgb(30.196078%,30.196078%,30.196078%);fill-opacity:1;\">\n",
       "  <use xlink:href=\"#glyph0-6\" x=\"118.707031\" y=\"268.070313\"/>\n",
       "  <use xlink:href=\"#glyph0-2\" x=\"121.6375\" y=\"268.070313\"/>\n",
       "</g>\n",
       "<g style=\"fill:rgb(30.196078%,30.196078%,30.196078%);fill-opacity:1;\">\n",
       "  <use xlink:href=\"#glyph0-0\" x=\"157.363281\" y=\"268.070313\"/>\n",
       "</g>\n",
       "<g style=\"fill:rgb(30.196078%,30.196078%,30.196078%);fill-opacity:1;\">\n",
       "  <use xlink:href=\"#glyph0-2\" x=\"194.546875\" y=\"268.070313\"/>\n",
       "</g>\n",
       "<g style=\"fill:rgb(30.196078%,30.196078%,30.196078%);fill-opacity:1;\">\n",
       "  <use xlink:href=\"#glyph0-3\" x=\"231.734375\" y=\"268.070313\"/>\n",
       "</g>\n",
       "<g style=\"fill:rgb(30.196078%,30.196078%,30.196078%);fill-opacity:1;\">\n",
       "  <use xlink:href=\"#glyph0-4\" x=\"268.917969\" y=\"268.070313\"/>\n",
       "</g>\n",
       "<g style=\"fill:rgb(30.196078%,30.196078%,30.196078%);fill-opacity:1;\">\n",
       "  <use xlink:href=\"#glyph0-2\" x=\"194.546875\" y=\"268.070313\"/>\n",
       "</g>\n",
       "<g style=\"fill:rgb(0%,0%,0%);fill-opacity:1;\">\n",
       "  <use xlink:href=\"#glyph1-0\" x=\"157.058594\" y=\"280.328125\"/>\n",
       "</g>\n",
       "<g style=\"fill:rgb(0%,0%,0%);fill-opacity:1;\">\n",
       "  <use xlink:href=\"#glyph2-0\" x=\"15.546875\" y=\"133.910156\"/>\n",
       "</g>\n",
       "</g>\n",
       "</svg>\n"
      ],
      "text/plain": [
       "plot without title"
      ]
     },
     "metadata": {
      "image/svg+xml": {
       "isolated": true
      }
     },
     "output_type": "display_data"
    }
   ],
   "source": [
    "ggplot(data.frame(x = c(-3, 3)), aes(x)) +\n",
    "    stat_function(fun = dnorm, args = list(mean = 0, sd = 1)) + \n",
    "    scale_x_continuous(breaks = c(-3:3, 1)) + \n",
    "    geom_vline(xintercept = c(qnorm(0.025), qnorm(0.975)))"
   ]
  },
  {
   "cell_type": "markdown",
   "metadata": {},
   "source": [
    "$p$値を計算する．  \n",
    "検定統計量z が左側の棄却域に入る確率は，"
   ]
  },
  {
   "cell_type": "code",
   "execution_count": 11,
   "metadata": {
    "collapsed": false
   },
   "outputs": [
    {
     "data": {
      "text/html": [
       "0.00233886749052363"
      ],
      "text/latex": [
       "0.00233886749052363"
      ],
      "text/markdown": [
       "0.00233886749052363"
      ],
      "text/plain": [
       "[1] 0.002338867"
      ]
     },
     "metadata": {},
     "output_type": "display_data"
    }
   ],
   "source": [
    "pnorm(z)"
   ]
  },
  {
   "cell_type": "markdown",
   "metadata": {},
   "source": [
    "両側検定なので，"
   ]
  },
  {
   "cell_type": "code",
   "execution_count": 12,
   "metadata": {
    "collapsed": false
   },
   "outputs": [
    {
     "data": {
      "text/html": [
       "0.00467773498104727"
      ],
      "text/latex": [
       "0.00467773498104727"
      ],
      "text/markdown": [
       "0.00467773498104727"
      ],
      "text/plain": [
       "[1] 0.004677735"
      ]
     },
     "metadata": {},
     "output_type": "display_data"
    }
   ],
   "source": [
    "2 * pnorm(-z, lower.tail = FALSE)"
   ]
  },
  {
   "cell_type": "markdown",
   "metadata": {},
   "source": [
    "$p$値が有意水準0.05より小さいので，帰無仮説は棄却される.  \n",
    "(標本平均は母平均と等しいとは言えない)"
   ]
  },
  {
   "cell_type": "markdown",
   "metadata": {},
   "source": [
    "## 5.4 $t$分布 を用いた検定"
   ]
  },
  {
   "cell_type": "markdown",
   "metadata": {},
   "source": [
    "$t = \\frac{\\bar{X} - \\mu}{\\hat{\\sigma} / \\sqrt{n}}$"
   ]
  },
  {
   "cell_type": "code",
   "execution_count": 13,
   "metadata": {
    "collapsed": false
   },
   "outputs": [
    {
     "data": {
      "image/png": "[encoded data removed]",
      "image/svg+xml": [
       "<?xml version=\"1.0\" encoding=\"UTF-8\"?>\n",
       "<svg xmlns=\"http://www.w3.org/2000/svg\" xmlns:xlink=\"http://www.w3.org/1999/xlink\" width=\"288pt\" height=\"288pt\" viewBox=\"0 0 288 288\" version=\"1.1\">\n",
       "<defs>\n",
       "<g>\n",
       "<symbol overflow=\"visible\" id=\"glyph0-0\">\n",
       "<path style=\"stroke:none;\" d=\"M 0.367188 -3.105469 C 0.363281 -3.847656 0.4375 -4.445313 0.59375 -4.902344 C 0.742188 -5.355469 0.972656 -5.707031 1.277344 -5.953125 C 1.578125 -6.199219 1.957031 -6.320313 2.417969 -6.324219 C 2.753906 -6.320313 3.050781 -6.253906 3.308594 -6.121094 C 3.5625 -5.984375 3.773438 -5.789063 3.9375 -5.53125 C 4.101563 -5.273438 4.230469 -4.960938 4.328125 -4.59375 C 4.421875 -4.226563 4.46875 -3.730469 4.472656 -3.105469 C 4.46875 -2.367188 4.394531 -1.769531 4.242188 -1.316406 C 4.089844 -0.859375 3.863281 -0.507813 3.5625 -0.261719 C 3.257813 -0.015625 2.875 0.105469 2.417969 0.109375 C 1.808594 0.105469 1.332031 -0.109375 0.988281 -0.546875 C 0.570313 -1.066406 0.363281 -1.921875 0.367188 -3.105469 Z M 1.160156 -3.105469 C 1.160156 -2.070313 1.28125 -1.378906 1.523438 -1.039063 C 1.765625 -0.695313 2.0625 -0.527344 2.417969 -0.527344 C 2.773438 -0.527344 3.074219 -0.699219 3.316406 -1.042969 C 3.558594 -1.386719 3.679688 -2.074219 3.679688 -3.105469 C 3.679688 -4.144531 3.558594 -4.832031 3.316406 -5.171875 C 3.074219 -5.511719 2.769531 -5.683594 2.410156 -5.683594 C 2.050781 -5.683594 1.769531 -5.53125 1.558594 -5.234375 C 1.292969 -4.84375 1.160156 -4.136719 1.160156 -3.105469 Z M 1.160156 -3.105469 \"/>\n",
       "</symbol>\n",
       "<symbol overflow=\"visible\" id=\"glyph0-1\">\n",
       "<path style=\"stroke:none;\" d=\"M 0.800781 0 L 0.800781 -0.882813 L 1.679688 -0.882813 L 1.679688 0 Z M 0.800781 0 \"/>\n",
       "</symbol>\n",
       "<symbol overflow=\"visible\" id=\"glyph0-2\">\n",
       "<path style=\"stroke:none;\" d=\"M 3.277344 0 L 2.503906 0 L 2.503906 -4.929688 C 2.316406 -4.75 2.074219 -4.574219 1.773438 -4.394531 C 1.46875 -4.214844 1.195313 -4.082031 0.957031 -3.996094 L 0.957031 -4.742188 C 1.386719 -4.941406 1.765625 -5.1875 2.089844 -5.480469 C 2.414063 -5.769531 2.644531 -6.050781 2.78125 -6.324219 L 3.277344 -6.324219 Z M 3.277344 0 \"/>\n",
       "</symbol>\n",
       "<symbol overflow=\"visible\" id=\"glyph0-3\">\n",
       "<path style=\"stroke:none;\" d=\"M 4.429688 -0.742188 L 4.429688 0 L 0.265625 0 C 0.257813 -0.1875 0.289063 -0.367188 0.355469 -0.539063 C 0.460938 -0.820313 0.628906 -1.097656 0.863281 -1.375 C 1.09375 -1.648438 1.433594 -1.964844 1.878906 -2.328125 C 2.5625 -2.886719 3.023438 -3.332031 3.265625 -3.664063 C 3.5 -3.988281 3.621094 -4.300781 3.625 -4.59375 C 3.621094 -4.898438 3.511719 -5.15625 3.296875 -5.367188 C 3.074219 -5.578125 2.789063 -5.683594 2.441406 -5.683594 C 2.066406 -5.683594 1.769531 -5.570313 1.546875 -5.347656 C 1.320313 -5.125 1.207031 -4.816406 1.207031 -4.421875 L 0.414063 -4.503906 C 0.464844 -5.09375 0.667969 -5.542969 1.027344 -5.855469 C 1.378906 -6.164063 1.855469 -6.320313 2.457031 -6.324219 C 3.058594 -6.320313 3.539063 -6.152344 3.890625 -5.820313 C 4.242188 -5.484375 4.417969 -5.070313 4.421875 -4.578125 C 4.417969 -4.320313 4.367188 -4.074219 4.265625 -3.832031 C 4.164063 -3.589844 3.992188 -3.332031 3.753906 -3.0625 C 3.511719 -2.792969 3.113281 -2.425781 2.5625 -1.957031 C 2.09375 -1.566406 1.796875 -1.300781 1.664063 -1.160156 C 1.53125 -1.019531 1.421875 -0.878906 1.339844 -0.742188 Z M 4.429688 -0.742188 \"/>\n",
       "</symbol>\n",
       "<symbol overflow=\"visible\" id=\"glyph0-4\">\n",
       "<path style=\"stroke:none;\" d=\"M 0.371094 -1.664063 L 1.144531 -1.765625 C 1.230469 -1.324219 1.382813 -1.007813 1.597656 -0.816406 C 1.808594 -0.621094 2.066406 -0.527344 2.375 -0.527344 C 2.734375 -0.527344 3.042969 -0.652344 3.296875 -0.90625 C 3.546875 -1.15625 3.671875 -1.46875 3.675781 -1.84375 C 3.671875 -2.195313 3.554688 -2.488281 3.324219 -2.71875 C 3.089844 -2.949219 2.796875 -3.0625 2.441406 -3.066406 C 2.292969 -3.0625 2.109375 -3.035156 1.894531 -2.980469 L 1.980469 -3.660156 C 2.03125 -3.652344 2.070313 -3.648438 2.105469 -3.652344 C 2.433594 -3.648438 2.730469 -3.734375 2.996094 -3.910156 C 3.253906 -4.078125 3.386719 -4.34375 3.390625 -4.703125 C 3.386719 -4.984375 3.289063 -5.21875 3.101563 -5.40625 C 2.90625 -5.589844 2.660156 -5.683594 2.359375 -5.6875 C 2.054688 -5.683594 1.804688 -5.589844 1.605469 -5.402344 C 1.402344 -5.214844 1.273438 -4.929688 1.21875 -4.554688 L 0.445313 -4.691406 C 0.539063 -5.207031 0.753906 -5.609375 1.089844 -5.894531 C 1.425781 -6.179688 1.84375 -6.320313 2.34375 -6.324219 C 2.6875 -6.320313 3.003906 -6.246094 3.292969 -6.101563 C 3.582031 -5.953125 3.800781 -5.753906 3.953125 -5.5 C 4.105469 -5.242188 4.183594 -4.972656 4.183594 -4.6875 C 4.183594 -4.414063 4.109375 -4.164063 3.964844 -3.945313 C 3.816406 -3.71875 3.601563 -3.542969 3.316406 -3.410156 C 3.6875 -3.324219 3.976563 -3.144531 4.183594 -2.875 C 4.390625 -2.601563 4.492188 -2.261719 4.496094 -1.859375 C 4.492188 -1.304688 4.292969 -0.839844 3.894531 -0.460938 C 3.492188 -0.078125 2.984375 0.109375 2.371094 0.113281 C 1.816406 0.109375 1.355469 -0.0507813 0.992188 -0.378906 C 0.625 -0.707031 0.417969 -1.136719 0.371094 -1.664063 Z M 0.371094 -1.664063 \"/>\n",
       "</symbol>\n",
       "<symbol overflow=\"visible\" id=\"glyph0-5\">\n",
       "<path style=\"stroke:none;\" d=\"M 2.84375 0 L 2.84375 -1.507813 L 0.113281 -1.507813 L 0.113281 -2.21875 L 2.988281 -6.300781 L 3.617188 -6.300781 L 3.617188 -2.21875 L 4.46875 -2.21875 L 4.46875 -1.507813 L 3.617188 -1.507813 L 3.617188 0 Z M 2.84375 -2.21875 L 2.84375 -5.058594 L 0.871094 -2.21875 Z M 2.84375 -2.21875 \"/>\n",
       "</symbol>\n",
       "<symbol overflow=\"visible\" id=\"glyph0-6\">\n",
       "<path style=\"stroke:none;\" d=\"M 0.28125 -1.890625 L 0.28125 -2.667969 L 2.65625 -2.667969 L 2.65625 -1.890625 Z M 0.28125 -1.890625 \"/>\n",
       "</symbol>\n",
       "<symbol overflow=\"visible\" id=\"glyph1-0\">\n",
       "<path style=\"stroke:none;\" d=\"M 0.0820313 0 L 2.164063 -2.964844 L 0.234375 -5.703125 L 1.445313 -5.703125 L 2.320313 -4.367188 C 2.484375 -4.109375 2.617188 -3.898438 2.71875 -3.726563 C 2.875 -3.960938 3.019531 -4.167969 3.152344 -4.355469 L 4.113281 -5.703125 L 5.269531 -5.703125 L 3.296875 -3.019531 L 5.417969 0 L 4.234375 0 L 3.0625 -1.773438 L 2.75 -2.25 L 1.25 0 Z M 0.0820313 0 \"/>\n",
       "</symbol>\n",
       "<symbol overflow=\"visible\" id=\"glyph2-0\">\n",
       "<path style=\"stroke:none;\" d=\"M 2.195313 -0.683594 L 1.289063 -0.574219 C 1.34375 -0.785156 1.371094 -0.96875 1.375 -1.128906 C 1.371094 -1.339844 1.335938 -1.511719 1.265625 -1.640625 C 1.195313 -1.769531 1.09375 -1.875 0.96875 -1.960938 C 0.867188 -2.019531 0.628906 -2.117188 0.246094 -2.257813 C 0.191406 -2.269531 0.113281 -2.300781 0.0117188 -2.34375 L -5.703125 -0.175781 L -5.703125 -1.21875 L -2.402344 -2.40625 C -1.980469 -2.558594 -1.539063 -2.695313 -1.078125 -2.820313 C -1.523438 -2.925781 -1.957031 -3.058594 -2.378906 -3.21875 L -5.703125 -4.4375 L -5.703125 -5.402344 L 0.0976563 -3.234375 C 0.71875 -3 1.148438 -2.816406 1.390625 -2.691406 C 1.707031 -2.515625 1.941406 -2.320313 2.09375 -2.097656 C 2.238281 -1.875 2.3125 -1.609375 2.316406 -1.304688 C 2.3125 -1.117188 2.273438 -0.910156 2.195313 -0.683594 Z M 2.195313 -0.683594 \"/>\n",
       "</symbol>\n",
       "</g>\n",
       "<clipPath id=\"clip1\">\n",
       "  <path d=\"M 37.09375 5.480469 L 283.519531 5.480469 L 283.519531 257.839844 L 37.09375 257.839844 Z M 37.09375 5.480469 \"/>\n",
       "</clipPath>\n",
       "</defs>\n",
       "<g id=\"surface6\">\n",
       "<rect x=\"0\" y=\"0\" width=\"288\" height=\"288\" style=\"fill:rgb(100%,100%,100%);fill-opacity:1;stroke:none;\"/>\n",
       "<rect x=\"0\" y=\"0\" width=\"288\" height=\"288\" style=\"fill:rgb(100%,100%,100%);fill-opacity:1;stroke:none;\"/>\n",
       "<path style=\"fill:none;stroke-width:1.066978;stroke-linecap:round;stroke-linejoin:round;stroke:rgb(100%,100%,100%);stroke-opacity:1;stroke-miterlimit:10;\" d=\"M 0 288 L 288 288 L 288 0 L 0 0 Z M 0 288 \"/>\n",
       "<g clip-path=\"url(#clip1)\" clip-rule=\"nonzero\">\n",
       "<path style=\" stroke:none;fill-rule:nonzero;fill:rgb(92.156863%,92.156863%,92.156863%);fill-opacity:1;\" d=\"M 37.09375 256.839844 L 282.519531 256.839844 L 282.519531 5.480469 L 37.09375 5.480469 Z M 37.09375 256.839844 \"/>\n",
       "<path style=\"fill:none;stroke-width:0.533489;stroke-linecap:butt;stroke-linejoin:round;stroke:rgb(100%,100%,100%);stroke-opacity:1;stroke-miterlimit:10;\" d=\"M 37.09375 216.207031 L 282.519531 216.207031 \"/>\n",
       "<path style=\"fill:none;stroke-width:0.533489;stroke-linecap:butt;stroke-linejoin:round;stroke:rgb(100%,100%,100%);stroke-opacity:1;stroke-miterlimit:10;\" d=\"M 37.09375 157.015625 L 282.519531 157.015625 \"/>\n",
       "<path style=\"fill:none;stroke-width:0.533489;stroke-linecap:butt;stroke-linejoin:round;stroke:rgb(100%,100%,100%);stroke-opacity:1;stroke-miterlimit:10;\" d=\"M 37.09375 97.820313 L 282.519531 97.820313 \"/>\n",
       "<path style=\"fill:none;stroke-width:0.533489;stroke-linecap:butt;stroke-linejoin:round;stroke:rgb(100%,100%,100%);stroke-opacity:1;stroke-miterlimit:10;\" d=\"M 37.09375 38.628906 L 282.519531 38.628906 \"/>\n",
       "<path style=\"fill:none;stroke-width:0.533489;stroke-linecap:butt;stroke-linejoin:round;stroke:rgb(100%,100%,100%);stroke-opacity:1;stroke-miterlimit:10;\" d=\"M 48.25 256.839844 L 48.25 5.480469 \"/>\n",
       "<path style=\"fill:none;stroke-width:0.533489;stroke-linecap:butt;stroke-linejoin:round;stroke:rgb(100%,100%,100%);stroke-opacity:1;stroke-miterlimit:10;\" d=\"M 59.40625 256.839844 L 59.40625 5.480469 \"/>\n",
       "<path style=\"fill:none;stroke-width:0.533489;stroke-linecap:butt;stroke-linejoin:round;stroke:rgb(100%,100%,100%);stroke-opacity:1;stroke-miterlimit:10;\" d=\"M 81.714844 256.839844 L 81.714844 5.480469 \"/>\n",
       "<path style=\"fill:none;stroke-width:0.533489;stroke-linecap:butt;stroke-linejoin:round;stroke:rgb(100%,100%,100%);stroke-opacity:1;stroke-miterlimit:10;\" d=\"M 104.027344 256.839844 L 104.027344 5.480469 \"/>\n",
       "<path style=\"fill:none;stroke-width:0.533489;stroke-linecap:butt;stroke-linejoin:round;stroke:rgb(100%,100%,100%);stroke-opacity:1;stroke-miterlimit:10;\" d=\"M 126.339844 256.839844 L 126.339844 5.480469 \"/>\n",
       "<path style=\"fill:none;stroke-width:0.533489;stroke-linecap:butt;stroke-linejoin:round;stroke:rgb(100%,100%,100%);stroke-opacity:1;stroke-miterlimit:10;\" d=\"M 148.652344 256.839844 L 148.652344 5.480469 \"/>\n",
       "<path style=\"fill:none;stroke-width:0.533489;stroke-linecap:butt;stroke-linejoin:round;stroke:rgb(100%,100%,100%);stroke-opacity:1;stroke-miterlimit:10;\" d=\"M 170.960938 256.839844 L 170.960938 5.480469 \"/>\n",
       "<path style=\"fill:none;stroke-width:0.533489;stroke-linecap:butt;stroke-linejoin:round;stroke:rgb(100%,100%,100%);stroke-opacity:1;stroke-miterlimit:10;\" d=\"M 193.273438 256.839844 L 193.273438 5.480469 \"/>\n",
       "<path style=\"fill:none;stroke-width:0.533489;stroke-linecap:butt;stroke-linejoin:round;stroke:rgb(100%,100%,100%);stroke-opacity:1;stroke-miterlimit:10;\" d=\"M 215.585938 256.839844 L 215.585938 5.480469 \"/>\n",
       "<path style=\"fill:none;stroke-width:0.533489;stroke-linecap:butt;stroke-linejoin:round;stroke:rgb(100%,100%,100%);stroke-opacity:1;stroke-miterlimit:10;\" d=\"M 237.898438 256.839844 L 237.898438 5.480469 \"/>\n",
       "<path style=\"fill:none;stroke-width:1.066978;stroke-linecap:butt;stroke-linejoin:round;stroke:rgb(100%,100%,100%);stroke-opacity:1;stroke-miterlimit:10;\" d=\"M 37.09375 245.804688 L 282.519531 245.804688 \"/>\n",
       "<path style=\"fill:none;stroke-width:1.066978;stroke-linecap:butt;stroke-linejoin:round;stroke:rgb(100%,100%,100%);stroke-opacity:1;stroke-miterlimit:10;\" d=\"M 37.09375 186.609375 L 282.519531 186.609375 \"/>\n",
       "<path style=\"fill:none;stroke-width:1.066978;stroke-linecap:butt;stroke-linejoin:round;stroke:rgb(100%,100%,100%);stroke-opacity:1;stroke-miterlimit:10;\" d=\"M 37.09375 127.417969 L 282.519531 127.417969 \"/>\n",
       "<path style=\"fill:none;stroke-width:1.066978;stroke-linecap:butt;stroke-linejoin:round;stroke:rgb(100%,100%,100%);stroke-opacity:1;stroke-miterlimit:10;\" d=\"M 37.09375 68.226563 L 282.519531 68.226563 \"/>\n",
       "<path style=\"fill:none;stroke-width:1.066978;stroke-linecap:butt;stroke-linejoin:round;stroke:rgb(100%,100%,100%);stroke-opacity:1;stroke-miterlimit:10;\" d=\"M 37.09375 9.03125 L 282.519531 9.03125 \"/>\n",
       "<path style=\"fill:none;stroke-width:1.066978;stroke-linecap:butt;stroke-linejoin:round;stroke:rgb(100%,100%,100%);stroke-opacity:1;stroke-miterlimit:10;\" d=\"M 70.5625 256.839844 L 70.5625 5.480469 \"/>\n",
       "<path style=\"fill:none;stroke-width:1.066978;stroke-linecap:butt;stroke-linejoin:round;stroke:rgb(100%,100%,100%);stroke-opacity:1;stroke-miterlimit:10;\" d=\"M 92.871094 256.839844 L 92.871094 5.480469 \"/>\n",
       "<path style=\"fill:none;stroke-width:1.066978;stroke-linecap:butt;stroke-linejoin:round;stroke:rgb(100%,100%,100%);stroke-opacity:1;stroke-miterlimit:10;\" d=\"M 115.183594 256.839844 L 115.183594 5.480469 \"/>\n",
       "<path style=\"fill:none;stroke-width:1.066978;stroke-linecap:butt;stroke-linejoin:round;stroke:rgb(100%,100%,100%);stroke-opacity:1;stroke-miterlimit:10;\" d=\"M 137.496094 256.839844 L 137.496094 5.480469 \"/>\n",
       "<path style=\"fill:none;stroke-width:1.066978;stroke-linecap:butt;stroke-linejoin:round;stroke:rgb(100%,100%,100%);stroke-opacity:1;stroke-miterlimit:10;\" d=\"M 159.808594 256.839844 L 159.808594 5.480469 \"/>\n",
       "<path style=\"fill:none;stroke-width:1.066978;stroke-linecap:butt;stroke-linejoin:round;stroke:rgb(100%,100%,100%);stroke-opacity:1;stroke-miterlimit:10;\" d=\"M 182.117188 256.839844 L 182.117188 5.480469 \"/>\n",
       "<path style=\"fill:none;stroke-width:1.066978;stroke-linecap:butt;stroke-linejoin:round;stroke:rgb(100%,100%,100%);stroke-opacity:1;stroke-miterlimit:10;\" d=\"M 204.429688 256.839844 L 204.429688 5.480469 \"/>\n",
       "<path style=\"fill:none;stroke-width:1.066978;stroke-linecap:butt;stroke-linejoin:round;stroke:rgb(100%,100%,100%);stroke-opacity:1;stroke-miterlimit:10;\" d=\"M 226.742188 256.839844 L 226.742188 5.480469 \"/>\n",
       "<path style=\"fill:none;stroke-width:1.066978;stroke-linecap:butt;stroke-linejoin:round;stroke:rgb(100%,100%,100%);stroke-opacity:1;stroke-miterlimit:10;\" d=\"M 249.054688 256.839844 L 249.054688 5.480469 \"/>\n",
       "<path style=\"fill:none;stroke-width:1.066978;stroke-linecap:butt;stroke-linejoin:round;stroke:rgb(100%,100%,100%);stroke-opacity:1;stroke-miterlimit:10;\" d=\"M 182.117188 256.839844 L 182.117188 5.480469 \"/>\n",
       "<path style=\"fill:none;stroke-width:1.066978;stroke-linecap:butt;stroke-linejoin:round;stroke:rgb(0%,0%,0%);stroke-opacity:1;stroke-miterlimit:1;\" d=\"M 48.25 238.558594 L 50.480469 238.269531 L 52.710938 237.964844 L 54.941406 237.644531 L 57.175781 237.300781 L 59.40625 236.9375 L 61.636719 236.550781 L 63.867188 236.136719 L 66.097656 235.695313 L 68.328125 235.226563 L 70.5625 234.722656 L 72.792969 234.179688 L 75.023438 233.601563 L 77.253906 232.976563 L 79.484375 232.308594 L 81.714844 231.585938 L 83.949219 230.804688 L 86.179688 229.957031 L 88.410156 229.042969 L 90.640625 228.046875 L 92.871094 226.960938 L 95.105469 225.78125 L 97.335938 224.488281 L 99.566406 223.074219 L 101.796875 221.523438 L 104.027344 219.816406 L 106.257813 217.933594 L 108.492188 215.847656 L 110.722656 213.539063 L 112.953125 210.976563 L 115.183594 208.121094 L 117.414063 204.933594 L 119.644531 201.367188 L 121.878906 197.367188 L 124.109375 192.878906 L 126.339844 187.828125 L 128.570313 182.148438 L 130.800781 175.761719 L 133.03125 168.582031 L 135.265625 160.546875 L 137.496094 151.59375 L 139.726563 141.707031 L 141.957031 130.914063 L 144.1875 119.347656 L 146.421875 107.261719 L 148.652344 95.070313 L 150.882813 83.375 L 153.113281 72.945313 L 155.34375 64.632813 L 157.574219 59.253906 L 159.808594 57.386719 L 162.039063 59.253906 L 164.269531 64.632813 L 166.5 72.945313 L 168.730469 83.375 L 170.960938 95.070313 L 173.195313 107.261719 L 175.425781 119.347656 L 177.65625 130.914063 L 179.886719 141.707031 L 182.117188 151.59375 L 184.351563 160.546875 L 186.582031 168.582031 L 188.8125 175.761719 L 191.042969 182.148438 L 193.273438 187.828125 L 195.503906 192.878906 L 197.738281 197.367188 L 199.96875 201.367188 L 202.199219 204.933594 L 204.429688 208.121094 L 206.660156 210.976563 L 208.890625 213.539063 L 211.125 215.847656 L 213.355469 217.933594 L 215.585938 219.816406 L 217.816406 221.523438 L 220.046875 223.074219 L 222.28125 224.488281 L 224.511719 225.78125 L 226.742188 226.960938 L 228.972656 228.046875 L 231.203125 229.042969 L 233.433594 229.957031 L 235.667969 230.804688 L 237.898438 231.585938 L 240.128906 232.308594 L 242.359375 232.976563 L 244.589844 233.601563 L 246.820313 234.179688 L 249.054688 234.722656 L 251.285156 235.226563 L 253.515625 235.695313 L 255.746094 236.136719 L 257.976563 236.550781 L 260.210938 236.9375 L 262.441406 237.300781 L 264.671875 237.644531 L 266.902344 237.964844 L 269.132813 238.269531 L 271.363281 238.558594 \"/>\n",
       "<path style=\"fill:none;stroke-width:1.066978;stroke-linecap:butt;stroke-linejoin:round;stroke:rgb(0%,100%,0%);stroke-opacity:1;stroke-miterlimit:1;\" d=\"M 48.25 241.585938 L 50.480469 241.34375 L 52.710938 241.082031 L 54.941406 240.796875 L 57.175781 240.492188 L 59.40625 240.164063 L 61.636719 239.808594 L 63.867188 239.421875 L 66.097656 239.003906 L 68.328125 238.546875 L 70.5625 238.054688 L 72.792969 237.511719 L 75.023438 236.925781 L 77.253906 236.28125 L 79.484375 235.574219 L 81.714844 234.800781 L 83.949219 233.949219 L 86.179688 233.011719 L 88.410156 231.980469 L 90.640625 230.839844 L 92.871094 229.578125 L 95.105469 228.179688 L 97.335938 226.628906 L 99.566406 224.898438 L 101.796875 222.972656 L 104.027344 220.824219 L 106.257813 218.421875 L 108.492188 215.730469 L 110.722656 212.714844 L 112.953125 209.332031 L 115.183594 205.527344 L 117.414063 201.257813 L 119.644531 196.457031 L 121.878906 191.0625 L 124.109375 185.015625 L 126.339844 178.246094 L 128.570313 170.6875 L 130.800781 162.296875 L 133.03125 153.027344 L 135.265625 142.882813 L 137.496094 131.886719 L 139.726563 120.140625 L 141.957031 107.808594 L 144.1875 95.152344 L 146.421875 82.535156 L 148.652344 70.417969 L 150.882813 59.34375 L 153.113281 49.894531 L 155.34375 42.648438 L 157.574219 38.085938 L 159.808594 36.523438 L 162.039063 38.085938 L 164.269531 42.648438 L 166.5 49.894531 L 168.730469 59.34375 L 170.960938 70.417969 L 173.195313 82.535156 L 175.425781 95.152344 L 177.65625 107.808594 L 179.886719 120.140625 L 182.117188 131.886719 L 184.351563 142.882813 L 186.582031 153.027344 L 188.8125 162.296875 L 191.042969 170.6875 L 193.273438 178.246094 L 195.503906 185.015625 L 197.738281 191.0625 L 199.96875 196.457031 L 202.199219 201.257813 L 204.429688 205.527344 L 206.660156 209.332031 L 208.890625 212.714844 L 211.125 215.730469 L 213.355469 218.421875 L 215.585938 220.824219 L 217.816406 222.972656 L 220.046875 224.898438 L 222.28125 226.628906 L 224.511719 228.179688 L 226.742188 229.578125 L 228.972656 230.839844 L 231.203125 231.980469 L 233.433594 233.011719 L 235.667969 233.949219 L 237.898438 234.800781 L 240.128906 235.574219 L 242.359375 236.28125 L 244.589844 236.925781 L 246.820313 237.511719 L 249.054688 238.054688 L 251.285156 238.546875 L 253.515625 239.003906 L 255.746094 239.421875 L 257.976563 239.808594 L 260.210938 240.164063 L 262.441406 240.492188 L 264.671875 240.796875 L 266.902344 241.082031 L 269.132813 241.34375 L 271.363281 241.585938 \"/>\n",
       "<path style=\"fill:none;stroke-width:1.066978;stroke-linecap:butt;stroke-linejoin:round;stroke:rgb(100%,0%,0%);stroke-opacity:1;stroke-miterlimit:1;\" d=\"M 48.25 244.234375 L 50.480469 244.09375 L 52.710938 243.9375 L 54.941406 243.761719 L 57.175781 243.566406 L 59.40625 243.351563 L 61.636719 243.109375 L 63.867188 242.84375 L 66.097656 242.542969 L 68.328125 242.207031 L 70.5625 241.832031 L 72.792969 241.414063 L 75.023438 240.941406 L 77.253906 240.40625 L 79.484375 239.808594 L 81.714844 239.132813 L 83.949219 238.367188 L 86.179688 237.5 L 88.410156 236.519531 L 90.640625 235.410156 L 92.871094 234.148438 L 95.105469 232.710938 L 97.335938 231.078125 L 99.566406 229.21875 L 101.796875 227.101563 L 104.027344 224.6875 L 106.257813 221.9375 L 108.492188 218.800781 L 110.722656 215.230469 L 112.953125 211.171875 L 115.183594 206.5625 L 117.414063 201.34375 L 119.644531 195.441406 L 121.878906 188.800781 L 124.109375 181.359375 L 126.339844 173.066406 L 128.570313 163.894531 L 130.800781 153.828125 L 133.03125 142.894531 L 135.265625 131.160156 L 137.496094 118.738281 L 139.726563 105.816406 L 141.957031 92.640625 L 144.1875 79.527344 L 146.421875 66.851563 L 148.652344 55.046875 L 150.882813 44.5625 L 153.113281 35.839844 L 155.34375 29.285156 L 157.574219 25.210938 L 159.808594 23.828125 L 162.039063 25.210938 L 164.269531 29.285156 L 166.5 35.839844 L 168.730469 44.5625 L 170.960938 55.046875 L 173.195313 66.851563 L 175.425781 79.527344 L 177.65625 92.640625 L 179.886719 105.816406 L 182.117188 118.738281 L 184.351563 131.160156 L 186.582031 142.894531 L 188.8125 153.828125 L 191.042969 163.894531 L 193.273438 173.066406 L 195.503906 181.359375 L 197.738281 188.800781 L 199.96875 195.441406 L 202.199219 201.34375 L 204.429688 206.5625 L 206.660156 211.171875 L 208.890625 215.230469 L 211.125 218.800781 L 213.355469 221.9375 L 215.585938 224.6875 L 217.816406 227.101563 L 220.046875 229.21875 L 222.28125 231.078125 L 224.511719 232.710938 L 226.742188 234.148438 L 228.972656 235.410156 L 231.203125 236.519531 L 233.433594 237.5 L 235.667969 238.367188 L 237.898438 239.132813 L 240.128906 239.808594 L 242.359375 240.40625 L 244.589844 240.941406 L 246.820313 241.414063 L 249.054688 241.832031 L 251.285156 242.207031 L 253.515625 242.542969 L 255.746094 242.84375 L 257.976563 243.109375 L 260.210938 243.351563 L 262.441406 243.566406 L 264.671875 243.761719 L 266.902344 243.9375 L 269.132813 244.09375 L 271.363281 244.234375 \"/>\n",
       "<path style=\"fill:none;stroke-width:1.066978;stroke-linecap:butt;stroke-linejoin:round;stroke:rgb(0%,0%,100%);stroke-opacity:1;stroke-miterlimit:1;\" d=\"M 48.25 245.414063 L 50.480469 245.359375 L 52.710938 245.292969 L 54.941406 245.214844 L 57.175781 245.125 L 59.40625 245.019531 L 61.636719 244.898438 L 63.867188 244.757813 L 66.097656 244.59375 L 68.328125 244.398438 L 70.5625 244.171875 L 72.792969 243.90625 L 75.023438 243.597656 L 77.253906 243.230469 L 79.484375 242.804688 L 81.714844 242.300781 L 83.949219 241.707031 L 86.179688 241.011719 L 88.410156 240.195313 L 90.640625 239.234375 L 92.871094 238.105469 L 95.105469 236.777344 L 97.335938 235.21875 L 99.566406 233.394531 L 101.796875 231.261719 L 104.027344 228.769531 L 106.257813 225.863281 L 108.492188 222.488281 L 110.722656 218.578125 L 112.953125 214.066406 L 115.183594 208.886719 L 117.414063 202.96875 L 119.644531 196.246094 L 121.878906 188.667969 L 124.109375 180.179688 L 126.339844 170.765625 L 128.570313 160.417969 L 130.800781 149.179688 L 133.03125 137.117188 L 135.265625 124.359375 L 137.496094 111.074219 L 139.726563 97.5 L 141.957031 83.90625 L 144.1875 70.632813 L 146.421875 58.035156 L 148.652344 46.503906 L 150.882813 36.421875 L 153.113281 28.144531 L 155.34375 21.984375 L 157.574219 18.1875 L 159.808594 16.90625 L 162.039063 18.1875 L 164.269531 21.984375 L 166.5 28.144531 L 168.730469 36.421875 L 170.960938 46.503906 L 173.195313 58.035156 L 175.425781 70.632813 L 177.65625 83.90625 L 179.886719 97.5 L 182.117188 111.074219 L 184.351563 124.359375 L 186.582031 137.117188 L 188.8125 149.179688 L 191.042969 160.417969 L 193.273438 170.765625 L 195.503906 180.179688 L 197.738281 188.667969 L 199.96875 196.246094 L 202.199219 202.96875 L 204.429688 208.886719 L 206.660156 214.066406 L 208.890625 218.578125 L 211.125 222.488281 L 213.355469 225.863281 L 215.585938 228.769531 L 217.816406 231.261719 L 220.046875 233.394531 L 222.28125 235.21875 L 224.511719 236.777344 L 226.742188 238.105469 L 228.972656 239.234375 L 231.203125 240.195313 L 233.433594 241.011719 L 235.667969 241.707031 L 237.898438 242.300781 L 240.128906 242.804688 L 242.359375 243.230469 L 244.589844 243.597656 L 246.820313 243.90625 L 249.054688 244.171875 L 251.285156 244.398438 L 253.515625 244.59375 L 255.746094 244.757813 L 257.976563 244.898438 L 260.210938 245.019531 L 262.441406 245.125 L 264.671875 245.214844 L 266.902344 245.292969 L 269.132813 245.359375 L 271.363281 245.414063 \"/>\n",
       "</g>\n",
       "<g style=\"fill:rgb(30.196078%,30.196078%,30.196078%);fill-opacity:1;\">\n",
       "  <use xlink:href=\"#glyph0-0\" x=\"19.925781\" y=\"248.953125\"/>\n",
       "  <use xlink:href=\"#glyph0-1\" x=\"24.819922\" y=\"248.953125\"/>\n",
       "  <use xlink:href=\"#glyph0-0\" x=\"27.264844\" y=\"248.953125\"/>\n",
       "</g>\n",
       "<g style=\"fill:rgb(30.196078%,30.196078%,30.196078%);fill-opacity:1;\">\n",
       "  <use xlink:href=\"#glyph0-0\" x=\"19.925781\" y=\"189.761719\"/>\n",
       "  <use xlink:href=\"#glyph0-1\" x=\"24.819922\" y=\"189.761719\"/>\n",
       "  <use xlink:href=\"#glyph0-2\" x=\"27.264844\" y=\"189.761719\"/>\n",
       "</g>\n",
       "<g style=\"fill:rgb(30.196078%,30.196078%,30.196078%);fill-opacity:1;\">\n",
       "  <use xlink:href=\"#glyph0-0\" x=\"19.925781\" y=\"130.566406\"/>\n",
       "  <use xlink:href=\"#glyph0-1\" x=\"24.819922\" y=\"130.566406\"/>\n",
       "  <use xlink:href=\"#glyph0-3\" x=\"27.264844\" y=\"130.566406\"/>\n",
       "</g>\n",
       "<g style=\"fill:rgb(30.196078%,30.196078%,30.196078%);fill-opacity:1;\">\n",
       "  <use xlink:href=\"#glyph0-0\" x=\"19.925781\" y=\"71.375\"/>\n",
       "  <use xlink:href=\"#glyph0-1\" x=\"24.819922\" y=\"71.375\"/>\n",
       "  <use xlink:href=\"#glyph0-4\" x=\"27.264844\" y=\"71.375\"/>\n",
       "</g>\n",
       "<g style=\"fill:rgb(30.196078%,30.196078%,30.196078%);fill-opacity:1;\">\n",
       "  <use xlink:href=\"#glyph0-0\" x=\"19.925781\" y=\"12.179688\"/>\n",
       "  <use xlink:href=\"#glyph0-1\" x=\"24.819922\" y=\"12.179688\"/>\n",
       "  <use xlink:href=\"#glyph0-5\" x=\"27.264844\" y=\"12.179688\"/>\n",
       "</g>\n",
       "<path style=\"fill:none;stroke-width:1.066978;stroke-linecap:butt;stroke-linejoin:round;stroke:rgb(20%,20%,20%);stroke-opacity:1;stroke-miterlimit:10;\" d=\"M 34.355469 245.804688 L 37.09375 245.804688 \"/>\n",
       "<path style=\"fill:none;stroke-width:1.066978;stroke-linecap:butt;stroke-linejoin:round;stroke:rgb(20%,20%,20%);stroke-opacity:1;stroke-miterlimit:10;\" d=\"M 34.355469 186.609375 L 37.09375 186.609375 \"/>\n",
       "<path style=\"fill:none;stroke-width:1.066978;stroke-linecap:butt;stroke-linejoin:round;stroke:rgb(20%,20%,20%);stroke-opacity:1;stroke-miterlimit:10;\" d=\"M 34.355469 127.417969 L 37.09375 127.417969 \"/>\n",
       "<path style=\"fill:none;stroke-width:1.066978;stroke-linecap:butt;stroke-linejoin:round;stroke:rgb(20%,20%,20%);stroke-opacity:1;stroke-miterlimit:10;\" d=\"M 34.355469 68.226563 L 37.09375 68.226563 \"/>\n",
       "<path style=\"fill:none;stroke-width:1.066978;stroke-linecap:butt;stroke-linejoin:round;stroke:rgb(20%,20%,20%);stroke-opacity:1;stroke-miterlimit:10;\" d=\"M 34.355469 9.03125 L 37.09375 9.03125 \"/>\n",
       "<path style=\"fill:none;stroke-width:1.066978;stroke-linecap:butt;stroke-linejoin:round;stroke:rgb(20%,20%,20%);stroke-opacity:1;stroke-miterlimit:10;\" d=\"M 70.5625 259.582031 L 70.5625 256.839844 \"/>\n",
       "<path style=\"fill:none;stroke-width:1.066978;stroke-linecap:butt;stroke-linejoin:round;stroke:rgb(20%,20%,20%);stroke-opacity:1;stroke-miterlimit:10;\" d=\"M 92.871094 259.582031 L 92.871094 256.839844 \"/>\n",
       "<path style=\"fill:none;stroke-width:1.066978;stroke-linecap:butt;stroke-linejoin:round;stroke:rgb(20%,20%,20%);stroke-opacity:1;stroke-miterlimit:10;\" d=\"M 115.183594 259.582031 L 115.183594 256.839844 \"/>\n",
       "<path style=\"fill:none;stroke-width:1.066978;stroke-linecap:butt;stroke-linejoin:round;stroke:rgb(20%,20%,20%);stroke-opacity:1;stroke-miterlimit:10;\" d=\"M 137.496094 259.582031 L 137.496094 256.839844 \"/>\n",
       "<path style=\"fill:none;stroke-width:1.066978;stroke-linecap:butt;stroke-linejoin:round;stroke:rgb(20%,20%,20%);stroke-opacity:1;stroke-miterlimit:10;\" d=\"M 159.808594 259.582031 L 159.808594 256.839844 \"/>\n",
       "<path style=\"fill:none;stroke-width:1.066978;stroke-linecap:butt;stroke-linejoin:round;stroke:rgb(20%,20%,20%);stroke-opacity:1;stroke-miterlimit:10;\" d=\"M 182.117188 259.582031 L 182.117188 256.839844 \"/>\n",
       "<path style=\"fill:none;stroke-width:1.066978;stroke-linecap:butt;stroke-linejoin:round;stroke:rgb(20%,20%,20%);stroke-opacity:1;stroke-miterlimit:10;\" d=\"M 204.429688 259.582031 L 204.429688 256.839844 \"/>\n",
       "<path style=\"fill:none;stroke-width:1.066978;stroke-linecap:butt;stroke-linejoin:round;stroke:rgb(20%,20%,20%);stroke-opacity:1;stroke-miterlimit:10;\" d=\"M 226.742188 259.582031 L 226.742188 256.839844 \"/>\n",
       "<path style=\"fill:none;stroke-width:1.066978;stroke-linecap:butt;stroke-linejoin:round;stroke:rgb(20%,20%,20%);stroke-opacity:1;stroke-miterlimit:10;\" d=\"M 249.054688 259.582031 L 249.054688 256.839844 \"/>\n",
       "<path style=\"fill:none;stroke-width:1.066978;stroke-linecap:butt;stroke-linejoin:round;stroke:rgb(20%,20%,20%);stroke-opacity:1;stroke-miterlimit:10;\" d=\"M 182.117188 259.582031 L 182.117188 256.839844 \"/>\n",
       "<g style=\"fill:rgb(30.196078%,30.196078%,30.196078%);fill-opacity:1;\">\n",
       "  <use xlink:href=\"#glyph0-6\" x=\"66.648438\" y=\"268.070313\"/>\n",
       "  <use xlink:href=\"#glyph0-5\" x=\"69.578906\" y=\"268.070313\"/>\n",
       "</g>\n",
       "<g style=\"fill:rgb(30.196078%,30.196078%,30.196078%);fill-opacity:1;\">\n",
       "  <use xlink:href=\"#glyph0-6\" x=\"88.957031\" y=\"268.070313\"/>\n",
       "  <use xlink:href=\"#glyph0-4\" x=\"91.8875\" y=\"268.070313\"/>\n",
       "</g>\n",
       "<g style=\"fill:rgb(30.196078%,30.196078%,30.196078%);fill-opacity:1;\">\n",
       "  <use xlink:href=\"#glyph0-6\" x=\"111.269531\" y=\"268.070313\"/>\n",
       "  <use xlink:href=\"#glyph0-3\" x=\"114.2\" y=\"268.070313\"/>\n",
       "</g>\n",
       "<g style=\"fill:rgb(30.196078%,30.196078%,30.196078%);fill-opacity:1;\">\n",
       "  <use xlink:href=\"#glyph0-6\" x=\"133.582031\" y=\"268.070313\"/>\n",
       "  <use xlink:href=\"#glyph0-2\" x=\"136.5125\" y=\"268.070313\"/>\n",
       "</g>\n",
       "<g style=\"fill:rgb(30.196078%,30.196078%,30.196078%);fill-opacity:1;\">\n",
       "  <use xlink:href=\"#glyph0-0\" x=\"157.363281\" y=\"268.070313\"/>\n",
       "</g>\n",
       "<g style=\"fill:rgb(30.196078%,30.196078%,30.196078%);fill-opacity:1;\">\n",
       "  <use xlink:href=\"#glyph0-2\" x=\"179.671875\" y=\"268.070313\"/>\n",
       "</g>\n",
       "<g style=\"fill:rgb(30.196078%,30.196078%,30.196078%);fill-opacity:1;\">\n",
       "  <use xlink:href=\"#glyph0-3\" x=\"201.984375\" y=\"268.070313\"/>\n",
       "</g>\n",
       "<g style=\"fill:rgb(30.196078%,30.196078%,30.196078%);fill-opacity:1;\">\n",
       "  <use xlink:href=\"#glyph0-4\" x=\"224.296875\" y=\"268.070313\"/>\n",
       "</g>\n",
       "<g style=\"fill:rgb(30.196078%,30.196078%,30.196078%);fill-opacity:1;\">\n",
       "  <use xlink:href=\"#glyph0-5\" x=\"246.609375\" y=\"268.070313\"/>\n",
       "</g>\n",
       "<g style=\"fill:rgb(30.196078%,30.196078%,30.196078%);fill-opacity:1;\">\n",
       "  <use xlink:href=\"#glyph0-2\" x=\"179.671875\" y=\"268.070313\"/>\n",
       "</g>\n",
       "<g style=\"fill:rgb(0%,0%,0%);fill-opacity:1;\">\n",
       "  <use xlink:href=\"#glyph1-0\" x=\"157.058594\" y=\"280.328125\"/>\n",
       "</g>\n",
       "<g style=\"fill:rgb(0%,0%,0%);fill-opacity:1;\">\n",
       "  <use xlink:href=\"#glyph2-0\" x=\"15.546875\" y=\"133.910156\"/>\n",
       "</g>\n",
       "</g>\n",
       "</svg>\n"
      ],
      "text/plain": [
       "plot without title"
      ]
     },
     "metadata": {
      "image/svg+xml": {
       "isolated": true
      }
     },
     "output_type": "display_data"
    }
   ],
   "source": [
    "ggplot(data.frame(x = c(-5, 5)), aes(x)) +\n",
    "    stat_function(fun = dt, args = list(df = 1)) + \n",
    "    stat_function(fun = dt, args = list(df = 2), col = \"green\") + \n",
    "    stat_function(fun = dt, args = list(df = 4), col = \"red\") + \n",
    "    stat_function(fun = dt, args = list(df = 8), col = \"blue\") + \n",
    "    scale_x_continuous(breaks = c(-4:4, 1))"
   ]
  },
  {
   "cell_type": "markdown",
   "metadata": {},
   "source": [
    "母集団分布は， $N(12, \\sigma^2)$  \n",
    "検定統計量$t$は，"
   ]
  },
  {
   "cell_type": "code",
   "execution_count": 14,
   "metadata": {
    "collapsed": false
   },
   "outputs": [
    {
     "data": {
      "text/html": [
       "-2.61664801737774"
      ],
      "text/latex": [
       "-2.61664801737774"
      ],
      "text/markdown": [
       "-2.61664801737774"
      ],
      "text/plain": [
       "[1] -2.616648"
      ]
     },
     "metadata": {},
     "output_type": "display_data"
    }
   ],
   "source": [
    "t <- (mean(psy_test) - 12) / sqrt(var(psy_test) / length(psy_test))\n",
    "t"
   ]
  },
  {
   "cell_type": "markdown",
   "metadata": {},
   "source": [
    "棄却域は，"
   ]
  },
  {
   "cell_type": "code",
   "execution_count": 15,
   "metadata": {
    "collapsed": false
   },
   "outputs": [
    {
     "name": "stdout",
     "output_type": "stream",
     "text": [
      "t <  -2.093024 , t >  2.093024"
     ]
    }
   ],
   "source": [
    "lower <- qt(0.05 / 2, df = length(psy_test) - 1)\n",
    "upper <- qt(0.05 / 2, df = length(psy_test) - 1, lower.tail = FALSE)\n",
    "cat(\"t < \", lower, \", t > \", upper)"
   ]
  },
  {
   "cell_type": "code",
   "execution_count": 16,
   "metadata": {
    "collapsed": false
   },
   "outputs": [
    {
     "data": {
      "image/png": "[encoded data removed]",
      "image/svg+xml": [
       "<?xml version=\"1.0\" encoding=\"UTF-8\"?>\n",
       "<svg xmlns=\"http://www.w3.org/2000/svg\" xmlns:xlink=\"http://www.w3.org/1999/xlink\" width=\"288pt\" height=\"288pt\" viewBox=\"0 0 288 288\" version=\"1.1\">\n",
       "<defs>\n",
       "<g>\n",
       "<symbol overflow=\"visible\" id=\"glyph0-0\">\n",
       "<path style=\"stroke:none;\" d=\"M 0.367188 -3.105469 C 0.363281 -3.847656 0.4375 -4.445313 0.59375 -4.902344 C 0.742188 -5.355469 0.972656 -5.707031 1.277344 -5.953125 C 1.578125 -6.199219 1.957031 -6.320313 2.417969 -6.324219 C 2.753906 -6.320313 3.050781 -6.253906 3.308594 -6.121094 C 3.5625 -5.984375 3.773438 -5.789063 3.9375 -5.53125 C 4.101563 -5.273438 4.230469 -4.960938 4.328125 -4.59375 C 4.421875 -4.226563 4.46875 -3.730469 4.472656 -3.105469 C 4.46875 -2.367188 4.394531 -1.769531 4.242188 -1.316406 C 4.089844 -0.859375 3.863281 -0.507813 3.5625 -0.261719 C 3.257813 -0.015625 2.875 0.105469 2.417969 0.109375 C 1.808594 0.105469 1.332031 -0.109375 0.988281 -0.546875 C 0.570313 -1.066406 0.363281 -1.921875 0.367188 -3.105469 Z M 1.160156 -3.105469 C 1.160156 -2.070313 1.28125 -1.378906 1.523438 -1.039063 C 1.765625 -0.695313 2.0625 -0.527344 2.417969 -0.527344 C 2.773438 -0.527344 3.074219 -0.699219 3.316406 -1.042969 C 3.558594 -1.386719 3.679688 -2.074219 3.679688 -3.105469 C 3.679688 -4.144531 3.558594 -4.832031 3.316406 -5.171875 C 3.074219 -5.511719 2.769531 -5.683594 2.410156 -5.683594 C 2.050781 -5.683594 1.769531 -5.53125 1.558594 -5.234375 C 1.292969 -4.84375 1.160156 -4.136719 1.160156 -3.105469 Z M 1.160156 -3.105469 \"/>\n",
       "</symbol>\n",
       "<symbol overflow=\"visible\" id=\"glyph0-1\">\n",
       "<path style=\"stroke:none;\" d=\"M 0.800781 0 L 0.800781 -0.882813 L 1.679688 -0.882813 L 1.679688 0 Z M 0.800781 0 \"/>\n",
       "</symbol>\n",
       "<symbol overflow=\"visible\" id=\"glyph0-2\">\n",
       "<path style=\"stroke:none;\" d=\"M 3.277344 0 L 2.503906 0 L 2.503906 -4.929688 C 2.316406 -4.75 2.074219 -4.574219 1.773438 -4.394531 C 1.46875 -4.214844 1.195313 -4.082031 0.957031 -3.996094 L 0.957031 -4.742188 C 1.386719 -4.941406 1.765625 -5.1875 2.089844 -5.480469 C 2.414063 -5.769531 2.644531 -6.050781 2.78125 -6.324219 L 3.277344 -6.324219 Z M 3.277344 0 \"/>\n",
       "</symbol>\n",
       "<symbol overflow=\"visible\" id=\"glyph0-3\">\n",
       "<path style=\"stroke:none;\" d=\"M 4.429688 -0.742188 L 4.429688 0 L 0.265625 0 C 0.257813 -0.1875 0.289063 -0.367188 0.355469 -0.539063 C 0.460938 -0.820313 0.628906 -1.097656 0.863281 -1.375 C 1.09375 -1.648438 1.433594 -1.964844 1.878906 -2.328125 C 2.5625 -2.886719 3.023438 -3.332031 3.265625 -3.664063 C 3.5 -3.988281 3.621094 -4.300781 3.625 -4.59375 C 3.621094 -4.898438 3.511719 -5.15625 3.296875 -5.367188 C 3.074219 -5.578125 2.789063 -5.683594 2.441406 -5.683594 C 2.066406 -5.683594 1.769531 -5.570313 1.546875 -5.347656 C 1.320313 -5.125 1.207031 -4.816406 1.207031 -4.421875 L 0.414063 -4.503906 C 0.464844 -5.09375 0.667969 -5.542969 1.027344 -5.855469 C 1.378906 -6.164063 1.855469 -6.320313 2.457031 -6.324219 C 3.058594 -6.320313 3.539063 -6.152344 3.890625 -5.820313 C 4.242188 -5.484375 4.417969 -5.070313 4.421875 -4.578125 C 4.417969 -4.320313 4.367188 -4.074219 4.265625 -3.832031 C 4.164063 -3.589844 3.992188 -3.332031 3.753906 -3.0625 C 3.511719 -2.792969 3.113281 -2.425781 2.5625 -1.957031 C 2.09375 -1.566406 1.796875 -1.300781 1.664063 -1.160156 C 1.53125 -1.019531 1.421875 -0.878906 1.339844 -0.742188 Z M 4.429688 -0.742188 \"/>\n",
       "</symbol>\n",
       "<symbol overflow=\"visible\" id=\"glyph0-4\">\n",
       "<path style=\"stroke:none;\" d=\"M 0.371094 -1.664063 L 1.144531 -1.765625 C 1.230469 -1.324219 1.382813 -1.007813 1.597656 -0.816406 C 1.808594 -0.621094 2.066406 -0.527344 2.375 -0.527344 C 2.734375 -0.527344 3.042969 -0.652344 3.296875 -0.90625 C 3.546875 -1.15625 3.671875 -1.46875 3.675781 -1.84375 C 3.671875 -2.195313 3.554688 -2.488281 3.324219 -2.71875 C 3.089844 -2.949219 2.796875 -3.0625 2.441406 -3.066406 C 2.292969 -3.0625 2.109375 -3.035156 1.894531 -2.980469 L 1.980469 -3.660156 C 2.03125 -3.652344 2.070313 -3.648438 2.105469 -3.652344 C 2.433594 -3.648438 2.730469 -3.734375 2.996094 -3.910156 C 3.253906 -4.078125 3.386719 -4.34375 3.390625 -4.703125 C 3.386719 -4.984375 3.289063 -5.21875 3.101563 -5.40625 C 2.90625 -5.589844 2.660156 -5.683594 2.359375 -5.6875 C 2.054688 -5.683594 1.804688 -5.589844 1.605469 -5.402344 C 1.402344 -5.214844 1.273438 -4.929688 1.21875 -4.554688 L 0.445313 -4.691406 C 0.539063 -5.207031 0.753906 -5.609375 1.089844 -5.894531 C 1.425781 -6.179688 1.84375 -6.320313 2.34375 -6.324219 C 2.6875 -6.320313 3.003906 -6.246094 3.292969 -6.101563 C 3.582031 -5.953125 3.800781 -5.753906 3.953125 -5.5 C 4.105469 -5.242188 4.183594 -4.972656 4.183594 -4.6875 C 4.183594 -4.414063 4.109375 -4.164063 3.964844 -3.945313 C 3.816406 -3.71875 3.601563 -3.542969 3.316406 -3.410156 C 3.6875 -3.324219 3.976563 -3.144531 4.183594 -2.875 C 4.390625 -2.601563 4.492188 -2.261719 4.496094 -1.859375 C 4.492188 -1.304688 4.292969 -0.839844 3.894531 -0.460938 C 3.492188 -0.078125 2.984375 0.109375 2.371094 0.113281 C 1.816406 0.109375 1.355469 -0.0507813 0.992188 -0.378906 C 0.625 -0.707031 0.417969 -1.136719 0.371094 -1.664063 Z M 0.371094 -1.664063 \"/>\n",
       "</symbol>\n",
       "<symbol overflow=\"visible\" id=\"glyph0-5\">\n",
       "<path style=\"stroke:none;\" d=\"M 2.84375 0 L 2.84375 -1.507813 L 0.113281 -1.507813 L 0.113281 -2.21875 L 2.988281 -6.300781 L 3.617188 -6.300781 L 3.617188 -2.21875 L 4.46875 -2.21875 L 4.46875 -1.507813 L 3.617188 -1.507813 L 3.617188 0 Z M 2.84375 -2.21875 L 2.84375 -5.058594 L 0.871094 -2.21875 Z M 2.84375 -2.21875 \"/>\n",
       "</symbol>\n",
       "<symbol overflow=\"visible\" id=\"glyph0-6\">\n",
       "<path style=\"stroke:none;\" d=\"M 0.28125 -1.890625 L 0.28125 -2.667969 L 2.65625 -2.667969 L 2.65625 -1.890625 Z M 0.28125 -1.890625 \"/>\n",
       "</symbol>\n",
       "<symbol overflow=\"visible\" id=\"glyph1-0\">\n",
       "<path style=\"stroke:none;\" d=\"M 0.0820313 0 L 2.164063 -2.964844 L 0.234375 -5.703125 L 1.445313 -5.703125 L 2.320313 -4.367188 C 2.484375 -4.109375 2.617188 -3.898438 2.71875 -3.726563 C 2.875 -3.960938 3.019531 -4.167969 3.152344 -4.355469 L 4.113281 -5.703125 L 5.269531 -5.703125 L 3.296875 -3.019531 L 5.417969 0 L 4.234375 0 L 3.0625 -1.773438 L 2.75 -2.25 L 1.25 0 Z M 0.0820313 0 \"/>\n",
       "</symbol>\n",
       "<symbol overflow=\"visible\" id=\"glyph2-0\">\n",
       "<path style=\"stroke:none;\" d=\"M 2.195313 -0.683594 L 1.289063 -0.574219 C 1.34375 -0.785156 1.371094 -0.96875 1.375 -1.128906 C 1.371094 -1.339844 1.335938 -1.511719 1.265625 -1.640625 C 1.195313 -1.769531 1.09375 -1.875 0.96875 -1.960938 C 0.867188 -2.019531 0.628906 -2.117188 0.246094 -2.257813 C 0.191406 -2.269531 0.113281 -2.300781 0.0117188 -2.34375 L -5.703125 -0.175781 L -5.703125 -1.21875 L -2.402344 -2.40625 C -1.980469 -2.558594 -1.539063 -2.695313 -1.078125 -2.820313 C -1.523438 -2.925781 -1.957031 -3.058594 -2.378906 -3.21875 L -5.703125 -4.4375 L -5.703125 -5.402344 L 0.0976563 -3.234375 C 0.71875 -3 1.148438 -2.816406 1.390625 -2.691406 C 1.707031 -2.515625 1.941406 -2.320313 2.09375 -2.097656 C 2.238281 -1.875 2.3125 -1.609375 2.316406 -1.304688 C 2.3125 -1.117188 2.273438 -0.910156 2.195313 -0.683594 Z M 2.195313 -0.683594 \"/>\n",
       "</symbol>\n",
       "</g>\n",
       "<clipPath id=\"clip1\">\n",
       "  <path d=\"M 37.09375 5.480469 L 283.519531 5.480469 L 283.519531 257.839844 L 37.09375 257.839844 Z M 37.09375 5.480469 \"/>\n",
       "</clipPath>\n",
       "</defs>\n",
       "<g id=\"surface11\">\n",
       "<rect x=\"0\" y=\"0\" width=\"288\" height=\"288\" style=\"fill:rgb(100%,100%,100%);fill-opacity:1;stroke:none;\"/>\n",
       "<rect x=\"0\" y=\"0\" width=\"288\" height=\"288\" style=\"fill:rgb(100%,100%,100%);fill-opacity:1;stroke:none;\"/>\n",
       "<path style=\"fill:none;stroke-width:1.066978;stroke-linecap:round;stroke-linejoin:round;stroke:rgb(100%,100%,100%);stroke-opacity:1;stroke-miterlimit:10;\" d=\"M 0 288 L 288 288 L 288 0 L 0 0 Z M 0 288 \"/>\n",
       "<g clip-path=\"url(#clip1)\" clip-rule=\"nonzero\">\n",
       "<path style=\" stroke:none;fill-rule:nonzero;fill:rgb(92.156863%,92.156863%,92.156863%);fill-opacity:1;\" d=\"M 37.09375 256.839844 L 282.519531 256.839844 L 282.519531 5.480469 L 37.09375 5.480469 Z M 37.09375 256.839844 \"/>\n",
       "<path style=\"fill:none;stroke-width:0.533489;stroke-linecap:butt;stroke-linejoin:round;stroke:rgb(100%,100%,100%);stroke-opacity:1;stroke-miterlimit:10;\" d=\"M 37.09375 220.613281 L 282.519531 220.613281 \"/>\n",
       "<path style=\"fill:none;stroke-width:0.533489;stroke-linecap:butt;stroke-linejoin:round;stroke:rgb(100%,100%,100%);stroke-opacity:1;stroke-miterlimit:10;\" d=\"M 37.09375 161.347656 L 282.519531 161.347656 \"/>\n",
       "<path style=\"fill:none;stroke-width:0.533489;stroke-linecap:butt;stroke-linejoin:round;stroke:rgb(100%,100%,100%);stroke-opacity:1;stroke-miterlimit:10;\" d=\"M 37.09375 102.085938 L 282.519531 102.085938 \"/>\n",
       "<path style=\"fill:none;stroke-width:0.533489;stroke-linecap:butt;stroke-linejoin:round;stroke:rgb(100%,100%,100%);stroke-opacity:1;stroke-miterlimit:10;\" d=\"M 37.09375 42.820313 L 282.519531 42.820313 \"/>\n",
       "<path style=\"fill:none;stroke-width:0.533489;stroke-linecap:butt;stroke-linejoin:round;stroke:rgb(100%,100%,100%);stroke-opacity:1;stroke-miterlimit:10;\" d=\"M 66.84375 256.839844 L 66.84375 5.480469 \"/>\n",
       "<path style=\"fill:none;stroke-width:0.533489;stroke-linecap:butt;stroke-linejoin:round;stroke:rgb(100%,100%,100%);stroke-opacity:1;stroke-miterlimit:10;\" d=\"M 104.027344 256.839844 L 104.027344 5.480469 \"/>\n",
       "<path style=\"fill:none;stroke-width:0.533489;stroke-linecap:butt;stroke-linejoin:round;stroke:rgb(100%,100%,100%);stroke-opacity:1;stroke-miterlimit:10;\" d=\"M 141.214844 256.839844 L 141.214844 5.480469 \"/>\n",
       "<path style=\"fill:none;stroke-width:0.533489;stroke-linecap:butt;stroke-linejoin:round;stroke:rgb(100%,100%,100%);stroke-opacity:1;stroke-miterlimit:10;\" d=\"M 178.398438 256.839844 L 178.398438 5.480469 \"/>\n",
       "<path style=\"fill:none;stroke-width:0.533489;stroke-linecap:butt;stroke-linejoin:round;stroke:rgb(100%,100%,100%);stroke-opacity:1;stroke-miterlimit:10;\" d=\"M 215.585938 256.839844 L 215.585938 5.480469 \"/>\n",
       "<path style=\"fill:none;stroke-width:0.533489;stroke-linecap:butt;stroke-linejoin:round;stroke:rgb(100%,100%,100%);stroke-opacity:1;stroke-miterlimit:10;\" d=\"M 252.773438 256.839844 L 252.773438 5.480469 \"/>\n",
       "<path style=\"fill:none;stroke-width:1.066978;stroke-linecap:butt;stroke-linejoin:round;stroke:rgb(100%,100%,100%);stroke-opacity:1;stroke-miterlimit:10;\" d=\"M 37.09375 250.246094 L 282.519531 250.246094 \"/>\n",
       "<path style=\"fill:none;stroke-width:1.066978;stroke-linecap:butt;stroke-linejoin:round;stroke:rgb(100%,100%,100%);stroke-opacity:1;stroke-miterlimit:10;\" d=\"M 37.09375 190.980469 L 282.519531 190.980469 \"/>\n",
       "<path style=\"fill:none;stroke-width:1.066978;stroke-linecap:butt;stroke-linejoin:round;stroke:rgb(100%,100%,100%);stroke-opacity:1;stroke-miterlimit:10;\" d=\"M 37.09375 131.71875 L 282.519531 131.71875 \"/>\n",
       "<path style=\"fill:none;stroke-width:1.066978;stroke-linecap:butt;stroke-linejoin:round;stroke:rgb(100%,100%,100%);stroke-opacity:1;stroke-miterlimit:10;\" d=\"M 37.09375 72.453125 L 282.519531 72.453125 \"/>\n",
       "<path style=\"fill:none;stroke-width:1.066978;stroke-linecap:butt;stroke-linejoin:round;stroke:rgb(100%,100%,100%);stroke-opacity:1;stroke-miterlimit:10;\" d=\"M 37.09375 13.1875 L 282.519531 13.1875 \"/>\n",
       "<path style=\"fill:none;stroke-width:1.066978;stroke-linecap:butt;stroke-linejoin:round;stroke:rgb(100%,100%,100%);stroke-opacity:1;stroke-miterlimit:10;\" d=\"M 48.25 256.839844 L 48.25 5.480469 \"/>\n",
       "<path style=\"fill:none;stroke-width:1.066978;stroke-linecap:butt;stroke-linejoin:round;stroke:rgb(100%,100%,100%);stroke-opacity:1;stroke-miterlimit:10;\" d=\"M 85.433594 256.839844 L 85.433594 5.480469 \"/>\n",
       "<path style=\"fill:none;stroke-width:1.066978;stroke-linecap:butt;stroke-linejoin:round;stroke:rgb(100%,100%,100%);stroke-opacity:1;stroke-miterlimit:10;\" d=\"M 122.621094 256.839844 L 122.621094 5.480469 \"/>\n",
       "<path style=\"fill:none;stroke-width:1.066978;stroke-linecap:butt;stroke-linejoin:round;stroke:rgb(100%,100%,100%);stroke-opacity:1;stroke-miterlimit:10;\" d=\"M 159.808594 256.839844 L 159.808594 5.480469 \"/>\n",
       "<path style=\"fill:none;stroke-width:1.066978;stroke-linecap:butt;stroke-linejoin:round;stroke:rgb(100%,100%,100%);stroke-opacity:1;stroke-miterlimit:10;\" d=\"M 196.992188 256.839844 L 196.992188 5.480469 \"/>\n",
       "<path style=\"fill:none;stroke-width:1.066978;stroke-linecap:butt;stroke-linejoin:round;stroke:rgb(100%,100%,100%);stroke-opacity:1;stroke-miterlimit:10;\" d=\"M 234.179688 256.839844 L 234.179688 5.480469 \"/>\n",
       "<path style=\"fill:none;stroke-width:1.066978;stroke-linecap:butt;stroke-linejoin:round;stroke:rgb(100%,100%,100%);stroke-opacity:1;stroke-miterlimit:10;\" d=\"M 271.363281 256.839844 L 271.363281 5.480469 \"/>\n",
       "<path style=\"fill:none;stroke-width:1.066978;stroke-linecap:butt;stroke-linejoin:round;stroke:rgb(100%,100%,100%);stroke-opacity:1;stroke-miterlimit:10;\" d=\"M 196.992188 256.839844 L 196.992188 5.480469 \"/>\n",
       "<path style=\"fill:none;stroke-width:1.066978;stroke-linecap:butt;stroke-linejoin:round;stroke:rgb(0%,0%,0%);stroke-opacity:1;stroke-miterlimit:1;\" d=\"M 48.25 245.414063 L 50.480469 244.753906 L 52.710938 244.011719 L 54.941406 243.171875 L 57.175781 242.230469 L 59.40625 241.175781 L 61.636719 239.992188 L 63.867188 238.667969 L 66.097656 237.191406 L 68.328125 235.550781 L 70.5625 233.722656 L 72.792969 231.703125 L 75.023438 229.464844 L 77.253906 226.996094 L 79.484375 224.28125 L 81.714844 221.304688 L 83.949219 218.046875 L 86.179688 214.492188 L 88.410156 210.628906 L 90.640625 206.441406 L 92.871094 201.917969 L 95.105469 197.050781 L 97.335938 191.832031 L 99.566406 186.257813 L 101.796875 180.328125 L 104.027344 174.046875 L 106.257813 167.425781 L 108.492188 160.472656 L 110.722656 153.207031 L 112.953125 145.660156 L 115.183594 137.859375 L 117.414063 129.839844 L 119.644531 121.644531 L 121.878906 113.328125 L 124.109375 104.9375 L 126.339844 96.542969 L 128.570313 88.203125 L 130.800781 79.988281 L 133.03125 71.972656 L 135.265625 64.230469 L 137.496094 56.839844 L 139.726563 49.871094 L 141.957031 43.402344 L 144.1875 37.503906 L 146.421875 32.238281 L 148.652344 27.675781 L 150.882813 23.863281 L 153.113281 20.847656 L 155.34375 18.667969 L 157.574219 17.347656 L 159.808594 16.90625 L 162.039063 17.347656 L 164.269531 18.667969 L 166.5 20.847656 L 168.730469 23.863281 L 170.960938 27.675781 L 173.195313 32.238281 L 175.425781 37.503906 L 177.65625 43.402344 L 179.886719 49.871094 L 182.117188 56.839844 L 184.351563 64.230469 L 186.582031 71.972656 L 188.8125 79.988281 L 191.042969 88.203125 L 193.273438 96.542969 L 195.503906 104.9375 L 197.738281 113.328125 L 199.96875 121.644531 L 202.199219 129.839844 L 204.429688 137.859375 L 206.660156 145.660156 L 208.890625 153.207031 L 211.125 160.472656 L 213.355469 167.425781 L 215.585938 174.046875 L 217.816406 180.328125 L 220.046875 186.257813 L 222.28125 191.832031 L 224.511719 197.050781 L 226.742188 201.917969 L 228.972656 206.441406 L 231.203125 210.628906 L 233.433594 214.492188 L 235.667969 218.046875 L 237.898438 221.304688 L 240.128906 224.28125 L 242.359375 226.996094 L 244.589844 229.464844 L 246.820313 231.703125 L 249.054688 233.722656 L 251.285156 235.550781 L 253.515625 237.191406 L 255.746094 238.667969 L 257.976563 239.992188 L 260.210938 241.175781 L 262.441406 242.230469 L 264.671875 243.171875 L 266.902344 244.011719 L 269.132813 244.753906 L 271.363281 245.414063 \"/>\n",
       "<path style=\"fill:none;stroke-width:1.066978;stroke-linecap:butt;stroke-linejoin:round;stroke:rgb(0%,0%,0%);stroke-opacity:1;stroke-miterlimit:10;\" d=\"M 81.976563 256.839844 L 81.976563 5.480469 \"/>\n",
       "<path style=\"fill:none;stroke-width:1.066978;stroke-linecap:butt;stroke-linejoin:round;stroke:rgb(0%,0%,0%);stroke-opacity:1;stroke-miterlimit:10;\" d=\"M 237.636719 256.839844 L 237.636719 5.480469 \"/>\n",
       "</g>\n",
       "<g style=\"fill:rgb(30.196078%,30.196078%,30.196078%);fill-opacity:1;\">\n",
       "  <use xlink:href=\"#glyph0-0\" x=\"19.925781\" y=\"253.394531\"/>\n",
       "  <use xlink:href=\"#glyph0-1\" x=\"24.819922\" y=\"253.394531\"/>\n",
       "  <use xlink:href=\"#glyph0-0\" x=\"27.264844\" y=\"253.394531\"/>\n",
       "</g>\n",
       "<g style=\"fill:rgb(30.196078%,30.196078%,30.196078%);fill-opacity:1;\">\n",
       "  <use xlink:href=\"#glyph0-0\" x=\"19.925781\" y=\"194.128906\"/>\n",
       "  <use xlink:href=\"#glyph0-1\" x=\"24.819922\" y=\"194.128906\"/>\n",
       "  <use xlink:href=\"#glyph0-2\" x=\"27.264844\" y=\"194.128906\"/>\n",
       "</g>\n",
       "<g style=\"fill:rgb(30.196078%,30.196078%,30.196078%);fill-opacity:1;\">\n",
       "  <use xlink:href=\"#glyph0-0\" x=\"19.925781\" y=\"134.867188\"/>\n",
       "  <use xlink:href=\"#glyph0-1\" x=\"24.819922\" y=\"134.867188\"/>\n",
       "  <use xlink:href=\"#glyph0-3\" x=\"27.264844\" y=\"134.867188\"/>\n",
       "</g>\n",
       "<g style=\"fill:rgb(30.196078%,30.196078%,30.196078%);fill-opacity:1;\">\n",
       "  <use xlink:href=\"#glyph0-0\" x=\"19.925781\" y=\"75.601563\"/>\n",
       "  <use xlink:href=\"#glyph0-1\" x=\"24.819922\" y=\"75.601563\"/>\n",
       "  <use xlink:href=\"#glyph0-4\" x=\"27.264844\" y=\"75.601563\"/>\n",
       "</g>\n",
       "<g style=\"fill:rgb(30.196078%,30.196078%,30.196078%);fill-opacity:1;\">\n",
       "  <use xlink:href=\"#glyph0-0\" x=\"19.925781\" y=\"16.339844\"/>\n",
       "  <use xlink:href=\"#glyph0-1\" x=\"24.819922\" y=\"16.339844\"/>\n",
       "  <use xlink:href=\"#glyph0-5\" x=\"27.264844\" y=\"16.339844\"/>\n",
       "</g>\n",
       "<path style=\"fill:none;stroke-width:1.066978;stroke-linecap:butt;stroke-linejoin:round;stroke:rgb(20%,20%,20%);stroke-opacity:1;stroke-miterlimit:10;\" d=\"M 34.355469 250.246094 L 37.09375 250.246094 \"/>\n",
       "<path style=\"fill:none;stroke-width:1.066978;stroke-linecap:butt;stroke-linejoin:round;stroke:rgb(20%,20%,20%);stroke-opacity:1;stroke-miterlimit:10;\" d=\"M 34.355469 190.980469 L 37.09375 190.980469 \"/>\n",
       "<path style=\"fill:none;stroke-width:1.066978;stroke-linecap:butt;stroke-linejoin:round;stroke:rgb(20%,20%,20%);stroke-opacity:1;stroke-miterlimit:10;\" d=\"M 34.355469 131.71875 L 37.09375 131.71875 \"/>\n",
       "<path style=\"fill:none;stroke-width:1.066978;stroke-linecap:butt;stroke-linejoin:round;stroke:rgb(20%,20%,20%);stroke-opacity:1;stroke-miterlimit:10;\" d=\"M 34.355469 72.453125 L 37.09375 72.453125 \"/>\n",
       "<path style=\"fill:none;stroke-width:1.066978;stroke-linecap:butt;stroke-linejoin:round;stroke:rgb(20%,20%,20%);stroke-opacity:1;stroke-miterlimit:10;\" d=\"M 34.355469 13.1875 L 37.09375 13.1875 \"/>\n",
       "<path style=\"fill:none;stroke-width:1.066978;stroke-linecap:butt;stroke-linejoin:round;stroke:rgb(20%,20%,20%);stroke-opacity:1;stroke-miterlimit:10;\" d=\"M 48.25 259.582031 L 48.25 256.839844 \"/>\n",
       "<path style=\"fill:none;stroke-width:1.066978;stroke-linecap:butt;stroke-linejoin:round;stroke:rgb(20%,20%,20%);stroke-opacity:1;stroke-miterlimit:10;\" d=\"M 85.433594 259.582031 L 85.433594 256.839844 \"/>\n",
       "<path style=\"fill:none;stroke-width:1.066978;stroke-linecap:butt;stroke-linejoin:round;stroke:rgb(20%,20%,20%);stroke-opacity:1;stroke-miterlimit:10;\" d=\"M 122.621094 259.582031 L 122.621094 256.839844 \"/>\n",
       "<path style=\"fill:none;stroke-width:1.066978;stroke-linecap:butt;stroke-linejoin:round;stroke:rgb(20%,20%,20%);stroke-opacity:1;stroke-miterlimit:10;\" d=\"M 159.808594 259.582031 L 159.808594 256.839844 \"/>\n",
       "<path style=\"fill:none;stroke-width:1.066978;stroke-linecap:butt;stroke-linejoin:round;stroke:rgb(20%,20%,20%);stroke-opacity:1;stroke-miterlimit:10;\" d=\"M 196.992188 259.582031 L 196.992188 256.839844 \"/>\n",
       "<path style=\"fill:none;stroke-width:1.066978;stroke-linecap:butt;stroke-linejoin:round;stroke:rgb(20%,20%,20%);stroke-opacity:1;stroke-miterlimit:10;\" d=\"M 234.179688 259.582031 L 234.179688 256.839844 \"/>\n",
       "<path style=\"fill:none;stroke-width:1.066978;stroke-linecap:butt;stroke-linejoin:round;stroke:rgb(20%,20%,20%);stroke-opacity:1;stroke-miterlimit:10;\" d=\"M 271.363281 259.582031 L 271.363281 256.839844 \"/>\n",
       "<path style=\"fill:none;stroke-width:1.066978;stroke-linecap:butt;stroke-linejoin:round;stroke:rgb(20%,20%,20%);stroke-opacity:1;stroke-miterlimit:10;\" d=\"M 196.992188 259.582031 L 196.992188 256.839844 \"/>\n",
       "<g style=\"fill:rgb(30.196078%,30.196078%,30.196078%);fill-opacity:1;\">\n",
       "  <use xlink:href=\"#glyph0-6\" x=\"44.335938\" y=\"268.070313\"/>\n",
       "  <use xlink:href=\"#glyph0-4\" x=\"47.266406\" y=\"268.070313\"/>\n",
       "</g>\n",
       "<g style=\"fill:rgb(30.196078%,30.196078%,30.196078%);fill-opacity:1;\">\n",
       "  <use xlink:href=\"#glyph0-6\" x=\"81.519531\" y=\"268.070313\"/>\n",
       "  <use xlink:href=\"#glyph0-3\" x=\"84.45\" y=\"268.070313\"/>\n",
       "</g>\n",
       "<g style=\"fill:rgb(30.196078%,30.196078%,30.196078%);fill-opacity:1;\">\n",
       "  <use xlink:href=\"#glyph0-6\" x=\"118.707031\" y=\"268.070313\"/>\n",
       "  <use xlink:href=\"#glyph0-2\" x=\"121.6375\" y=\"268.070313\"/>\n",
       "</g>\n",
       "<g style=\"fill:rgb(30.196078%,30.196078%,30.196078%);fill-opacity:1;\">\n",
       "  <use xlink:href=\"#glyph0-0\" x=\"157.363281\" y=\"268.070313\"/>\n",
       "</g>\n",
       "<g style=\"fill:rgb(30.196078%,30.196078%,30.196078%);fill-opacity:1;\">\n",
       "  <use xlink:href=\"#glyph0-2\" x=\"194.546875\" y=\"268.070313\"/>\n",
       "</g>\n",
       "<g style=\"fill:rgb(30.196078%,30.196078%,30.196078%);fill-opacity:1;\">\n",
       "  <use xlink:href=\"#glyph0-3\" x=\"231.734375\" y=\"268.070313\"/>\n",
       "</g>\n",
       "<g style=\"fill:rgb(30.196078%,30.196078%,30.196078%);fill-opacity:1;\">\n",
       "  <use xlink:href=\"#glyph0-4\" x=\"268.917969\" y=\"268.070313\"/>\n",
       "</g>\n",
       "<g style=\"fill:rgb(30.196078%,30.196078%,30.196078%);fill-opacity:1;\">\n",
       "  <use xlink:href=\"#glyph0-2\" x=\"194.546875\" y=\"268.070313\"/>\n",
       "</g>\n",
       "<g style=\"fill:rgb(0%,0%,0%);fill-opacity:1;\">\n",
       "  <use xlink:href=\"#glyph1-0\" x=\"157.058594\" y=\"280.328125\"/>\n",
       "</g>\n",
       "<g style=\"fill:rgb(0%,0%,0%);fill-opacity:1;\">\n",
       "  <use xlink:href=\"#glyph2-0\" x=\"15.546875\" y=\"133.910156\"/>\n",
       "</g>\n",
       "</g>\n",
       "</svg>\n"
      ],
      "text/plain": [
       "plot without title"
      ]
     },
     "metadata": {
      "image/svg+xml": {
       "isolated": true
      }
     },
     "output_type": "display_data"
    }
   ],
   "source": [
    "ggplot(data.frame(x = c(-3, 3)), aes(x)) +\n",
    "    stat_function(fun = dt, args = list(df = 19)) + \n",
    "    scale_x_continuous(breaks = c(-3:3, 1)) + \n",
    "    geom_vline(xintercept = c(qt(0.025, df = 19), qt(0.975, df = 19)))"
   ]
  },
  {
   "cell_type": "markdown",
   "metadata": {},
   "source": [
    "帰無仮説は棄却された"
   ]
  },
  {
   "cell_type": "markdown",
   "metadata": {},
   "source": [
    "$p$ 値は，"
   ]
  },
  {
   "cell_type": "code",
   "execution_count": 17,
   "metadata": {
    "collapsed": false
   },
   "outputs": [
    {
     "data": {
      "text/html": [
       "0.0169709202695634"
      ],
      "text/latex": [
       "0.0169709202695634"
      ],
      "text/markdown": [
       "0.0169709202695634"
      ],
      "text/plain": [
       "[1] 0.01697092"
      ]
     },
     "metadata": {},
     "output_type": "display_data"
    }
   ],
   "source": [
    "2 * pt(t, df = length(psy_test) - 1)"
   ]
  },
  {
   "cell_type": "markdown",
   "metadata": {},
   "source": [
    "`t.test()` で計算"
   ]
  },
  {
   "cell_type": "code",
   "execution_count": 18,
   "metadata": {
    "collapsed": false
   },
   "outputs": [
    {
     "data": {
      "text/plain": [
       "\n",
       "\tOne Sample t-test\n",
       "\n",
       "data:  psy_test\n",
       "t = -2.6166, df = 19, p-value = 0.01697\n",
       "alternative hypothesis: true mean is not equal to 12\n",
       "95 percent confidence interval:\n",
       "  8.400225 11.599775\n",
       "sample estimates:\n",
       "mean of x \n",
       "       10 \n"
      ]
     },
     "metadata": {},
     "output_type": "display_data"
    }
   ],
   "source": [
    "t.test(psy_test, mu = 12)"
   ]
  },
  {
   "cell_type": "markdown",
   "metadata": {},
   "source": [
    "## 5.5 相関係数の検定"
   ]
  },
  {
   "cell_type": "markdown",
   "metadata": {},
   "source": [
    "H<sub>0</sub>: 母集団において相間が0である（$\\rho = 0$）\n",
    "\n",
    "$t = \\frac{r\\sqrt{n - 2}}{\\sqrt{1 - r^2}}$"
   ]
  },
  {
   "cell_type": "code",
   "execution_count": 19,
   "metadata": {
    "collapsed": true
   },
   "outputs": [],
   "source": [
    "stat_test1 <- d$stat_test1\n",
    "stat_test2 <- d$stat_test2"
   ]
  },
  {
   "cell_type": "markdown",
   "metadata": {},
   "source": [
    "検定統計量は，"
   ]
  },
  {
   "cell_type": "code",
   "execution_count": 20,
   "metadata": {
    "collapsed": false
   },
   "outputs": [
    {
     "data": {
      "text/html": [
       "4.80570675334372"
      ],
      "text/latex": [
       "4.80570675334372"
      ],
      "text/markdown": [
       "4.80570675334372"
      ],
      "text/plain": [
       "[1] 4.805707"
      ]
     },
     "metadata": {},
     "output_type": "display_data"
    }
   ],
   "source": [
    "r <- cor(stat_test1, stat_test2)\n",
    "n <- length(stat_test1)\n",
    "t <- (r * sqrt(n - 2)) / sqrt(1 - r^2)\n",
    "t"
   ]
  },
  {
   "cell_type": "markdown",
   "metadata": {},
   "source": [
    "棄却域は，"
   ]
  },
  {
   "cell_type": "code",
   "execution_count": 21,
   "metadata": {
    "collapsed": false
   },
   "outputs": [
    {
     "name": "stdout",
     "output_type": "stream",
     "text": [
      "t <  -2.100922 , t >  2.100922"
     ]
    }
   ],
   "source": [
    "lower <- qt(0.05 / 2, df = n-2)\n",
    "upper <- qt(0.05 / 2, df = n - 2, lower.tail = FALSE)\n",
    "cat(\"t < \", lower, \", t > \", upper)"
   ]
  },
  {
   "cell_type": "code",
   "execution_count": 22,
   "metadata": {
    "collapsed": false
   },
   "outputs": [
    {
     "data": {
      "image/png": "[encoded data removed]",
      "image/svg+xml": [
       "<?xml version=\"1.0\" encoding=\"UTF-8\"?>\n",
       "<svg xmlns=\"http://www.w3.org/2000/svg\" xmlns:xlink=\"http://www.w3.org/1999/xlink\" width=\"288pt\" height=\"288pt\" viewBox=\"0 0 288 288\" version=\"1.1\">\n",
       "<defs>\n",
       "<g>\n",
       "<symbol overflow=\"visible\" id=\"glyph0-0\">\n",
       "<path style=\"stroke:none;\" d=\"M 0.367188 -3.105469 C 0.363281 -3.847656 0.4375 -4.445313 0.59375 -4.902344 C 0.742188 -5.355469 0.972656 -5.707031 1.277344 -5.953125 C 1.578125 -6.199219 1.957031 -6.320313 2.417969 -6.324219 C 2.753906 -6.320313 3.050781 -6.253906 3.308594 -6.121094 C 3.5625 -5.984375 3.773438 -5.789063 3.9375 -5.53125 C 4.101563 -5.273438 4.230469 -4.960938 4.328125 -4.59375 C 4.421875 -4.226563 4.46875 -3.730469 4.472656 -3.105469 C 4.46875 -2.367188 4.394531 -1.769531 4.242188 -1.316406 C 4.089844 -0.859375 3.863281 -0.507813 3.5625 -0.261719 C 3.257813 -0.015625 2.875 0.105469 2.417969 0.109375 C 1.808594 0.105469 1.332031 -0.109375 0.988281 -0.546875 C 0.570313 -1.066406 0.363281 -1.921875 0.367188 -3.105469 Z M 1.160156 -3.105469 C 1.160156 -2.070313 1.28125 -1.378906 1.523438 -1.039063 C 1.765625 -0.695313 2.0625 -0.527344 2.417969 -0.527344 C 2.773438 -0.527344 3.074219 -0.699219 3.316406 -1.042969 C 3.558594 -1.386719 3.679688 -2.074219 3.679688 -3.105469 C 3.679688 -4.144531 3.558594 -4.832031 3.316406 -5.171875 C 3.074219 -5.511719 2.769531 -5.683594 2.410156 -5.683594 C 2.050781 -5.683594 1.769531 -5.53125 1.558594 -5.234375 C 1.292969 -4.84375 1.160156 -4.136719 1.160156 -3.105469 Z M 1.160156 -3.105469 \"/>\n",
       "</symbol>\n",
       "<symbol overflow=\"visible\" id=\"glyph0-1\">\n",
       "<path style=\"stroke:none;\" d=\"M 0.800781 0 L 0.800781 -0.882813 L 1.679688 -0.882813 L 1.679688 0 Z M 0.800781 0 \"/>\n",
       "</symbol>\n",
       "<symbol overflow=\"visible\" id=\"glyph0-2\">\n",
       "<path style=\"stroke:none;\" d=\"M 3.277344 0 L 2.503906 0 L 2.503906 -4.929688 C 2.316406 -4.75 2.074219 -4.574219 1.773438 -4.394531 C 1.46875 -4.214844 1.195313 -4.082031 0.957031 -3.996094 L 0.957031 -4.742188 C 1.386719 -4.941406 1.765625 -5.1875 2.089844 -5.480469 C 2.414063 -5.769531 2.644531 -6.050781 2.78125 -6.324219 L 3.277344 -6.324219 Z M 3.277344 0 \"/>\n",
       "</symbol>\n",
       "<symbol overflow=\"visible\" id=\"glyph0-3\">\n",
       "<path style=\"stroke:none;\" d=\"M 4.429688 -0.742188 L 4.429688 0 L 0.265625 0 C 0.257813 -0.1875 0.289063 -0.367188 0.355469 -0.539063 C 0.460938 -0.820313 0.628906 -1.097656 0.863281 -1.375 C 1.09375 -1.648438 1.433594 -1.964844 1.878906 -2.328125 C 2.5625 -2.886719 3.023438 -3.332031 3.265625 -3.664063 C 3.5 -3.988281 3.621094 -4.300781 3.625 -4.59375 C 3.621094 -4.898438 3.511719 -5.15625 3.296875 -5.367188 C 3.074219 -5.578125 2.789063 -5.683594 2.441406 -5.683594 C 2.066406 -5.683594 1.769531 -5.570313 1.546875 -5.347656 C 1.320313 -5.125 1.207031 -4.816406 1.207031 -4.421875 L 0.414063 -4.503906 C 0.464844 -5.09375 0.667969 -5.542969 1.027344 -5.855469 C 1.378906 -6.164063 1.855469 -6.320313 2.457031 -6.324219 C 3.058594 -6.320313 3.539063 -6.152344 3.890625 -5.820313 C 4.242188 -5.484375 4.417969 -5.070313 4.421875 -4.578125 C 4.417969 -4.320313 4.367188 -4.074219 4.265625 -3.832031 C 4.164063 -3.589844 3.992188 -3.332031 3.753906 -3.0625 C 3.511719 -2.792969 3.113281 -2.425781 2.5625 -1.957031 C 2.09375 -1.566406 1.796875 -1.300781 1.664063 -1.160156 C 1.53125 -1.019531 1.421875 -0.878906 1.339844 -0.742188 Z M 4.429688 -0.742188 \"/>\n",
       "</symbol>\n",
       "<symbol overflow=\"visible\" id=\"glyph0-4\">\n",
       "<path style=\"stroke:none;\" d=\"M 0.371094 -1.664063 L 1.144531 -1.765625 C 1.230469 -1.324219 1.382813 -1.007813 1.597656 -0.816406 C 1.808594 -0.621094 2.066406 -0.527344 2.375 -0.527344 C 2.734375 -0.527344 3.042969 -0.652344 3.296875 -0.90625 C 3.546875 -1.15625 3.671875 -1.46875 3.675781 -1.84375 C 3.671875 -2.195313 3.554688 -2.488281 3.324219 -2.71875 C 3.089844 -2.949219 2.796875 -3.0625 2.441406 -3.066406 C 2.292969 -3.0625 2.109375 -3.035156 1.894531 -2.980469 L 1.980469 -3.660156 C 2.03125 -3.652344 2.070313 -3.648438 2.105469 -3.652344 C 2.433594 -3.648438 2.730469 -3.734375 2.996094 -3.910156 C 3.253906 -4.078125 3.386719 -4.34375 3.390625 -4.703125 C 3.386719 -4.984375 3.289063 -5.21875 3.101563 -5.40625 C 2.90625 -5.589844 2.660156 -5.683594 2.359375 -5.6875 C 2.054688 -5.683594 1.804688 -5.589844 1.605469 -5.402344 C 1.402344 -5.214844 1.273438 -4.929688 1.21875 -4.554688 L 0.445313 -4.691406 C 0.539063 -5.207031 0.753906 -5.609375 1.089844 -5.894531 C 1.425781 -6.179688 1.84375 -6.320313 2.34375 -6.324219 C 2.6875 -6.320313 3.003906 -6.246094 3.292969 -6.101563 C 3.582031 -5.953125 3.800781 -5.753906 3.953125 -5.5 C 4.105469 -5.242188 4.183594 -4.972656 4.183594 -4.6875 C 4.183594 -4.414063 4.109375 -4.164063 3.964844 -3.945313 C 3.816406 -3.71875 3.601563 -3.542969 3.316406 -3.410156 C 3.6875 -3.324219 3.976563 -3.144531 4.183594 -2.875 C 4.390625 -2.601563 4.492188 -2.261719 4.496094 -1.859375 C 4.492188 -1.304688 4.292969 -0.839844 3.894531 -0.460938 C 3.492188 -0.078125 2.984375 0.109375 2.371094 0.113281 C 1.816406 0.109375 1.355469 -0.0507813 0.992188 -0.378906 C 0.625 -0.707031 0.417969 -1.136719 0.371094 -1.664063 Z M 0.371094 -1.664063 \"/>\n",
       "</symbol>\n",
       "<symbol overflow=\"visible\" id=\"glyph0-5\">\n",
       "<path style=\"stroke:none;\" d=\"M 2.84375 0 L 2.84375 -1.507813 L 0.113281 -1.507813 L 0.113281 -2.21875 L 2.988281 -6.300781 L 3.617188 -6.300781 L 3.617188 -2.21875 L 4.46875 -2.21875 L 4.46875 -1.507813 L 3.617188 -1.507813 L 3.617188 0 Z M 2.84375 -2.21875 L 2.84375 -5.058594 L 0.871094 -2.21875 Z M 2.84375 -2.21875 \"/>\n",
       "</symbol>\n",
       "<symbol overflow=\"visible\" id=\"glyph0-6\">\n",
       "<path style=\"stroke:none;\" d=\"M 0.28125 -1.890625 L 0.28125 -2.667969 L 2.65625 -2.667969 L 2.65625 -1.890625 Z M 0.28125 -1.890625 \"/>\n",
       "</symbol>\n",
       "<symbol overflow=\"visible\" id=\"glyph1-0\">\n",
       "<path style=\"stroke:none;\" d=\"M 0.0820313 0 L 2.164063 -2.964844 L 0.234375 -5.703125 L 1.445313 -5.703125 L 2.320313 -4.367188 C 2.484375 -4.109375 2.617188 -3.898438 2.71875 -3.726563 C 2.875 -3.960938 3.019531 -4.167969 3.152344 -4.355469 L 4.113281 -5.703125 L 5.269531 -5.703125 L 3.296875 -3.019531 L 5.417969 0 L 4.234375 0 L 3.0625 -1.773438 L 2.75 -2.25 L 1.25 0 Z M 0.0820313 0 \"/>\n",
       "</symbol>\n",
       "<symbol overflow=\"visible\" id=\"glyph2-0\">\n",
       "<path style=\"stroke:none;\" d=\"M 2.195313 -0.683594 L 1.289063 -0.574219 C 1.34375 -0.785156 1.371094 -0.96875 1.375 -1.128906 C 1.371094 -1.339844 1.335938 -1.511719 1.265625 -1.640625 C 1.195313 -1.769531 1.09375 -1.875 0.96875 -1.960938 C 0.867188 -2.019531 0.628906 -2.117188 0.246094 -2.257813 C 0.191406 -2.269531 0.113281 -2.300781 0.0117188 -2.34375 L -5.703125 -0.175781 L -5.703125 -1.21875 L -2.402344 -2.40625 C -1.980469 -2.558594 -1.539063 -2.695313 -1.078125 -2.820313 C -1.523438 -2.925781 -1.957031 -3.058594 -2.378906 -3.21875 L -5.703125 -4.4375 L -5.703125 -5.402344 L 0.0976563 -3.234375 C 0.71875 -3 1.148438 -2.816406 1.390625 -2.691406 C 1.707031 -2.515625 1.941406 -2.320313 2.09375 -2.097656 C 2.238281 -1.875 2.3125 -1.609375 2.316406 -1.304688 C 2.3125 -1.117188 2.273438 -0.910156 2.195313 -0.683594 Z M 2.195313 -0.683594 \"/>\n",
       "</symbol>\n",
       "</g>\n",
       "<clipPath id=\"clip1\">\n",
       "  <path d=\"M 37.09375 5.480469 L 283.519531 5.480469 L 283.519531 257.839844 L 37.09375 257.839844 Z M 37.09375 5.480469 \"/>\n",
       "</clipPath>\n",
       "</defs>\n",
       "<g id=\"surface16\">\n",
       "<rect x=\"0\" y=\"0\" width=\"288\" height=\"288\" style=\"fill:rgb(100%,100%,100%);fill-opacity:1;stroke:none;\"/>\n",
       "<rect x=\"0\" y=\"0\" width=\"288\" height=\"288\" style=\"fill:rgb(100%,100%,100%);fill-opacity:1;stroke:none;\"/>\n",
       "<path style=\"fill:none;stroke-width:1.066978;stroke-linecap:round;stroke-linejoin:round;stroke:rgb(100%,100%,100%);stroke-opacity:1;stroke-miterlimit:10;\" d=\"M 0 288 L 288 288 L 288 0 L 0 0 Z M 0 288 \"/>\n",
       "<g clip-path=\"url(#clip1)\" clip-rule=\"nonzero\">\n",
       "<path style=\" stroke:none;fill-rule:nonzero;fill:rgb(92.156863%,92.156863%,92.156863%);fill-opacity:1;\" d=\"M 37.09375 256.839844 L 282.519531 256.839844 L 282.519531 5.480469 L 37.09375 5.480469 Z M 37.09375 256.839844 \"/>\n",
       "<path style=\"fill:none;stroke-width:0.533489;stroke-linecap:butt;stroke-linejoin:round;stroke:rgb(100%,100%,100%);stroke-opacity:1;stroke-miterlimit:10;\" d=\"M 37.09375 220.703125 L 282.519531 220.703125 \"/>\n",
       "<path style=\"fill:none;stroke-width:0.533489;stroke-linecap:butt;stroke-linejoin:round;stroke:rgb(100%,100%,100%);stroke-opacity:1;stroke-miterlimit:10;\" d=\"M 37.09375 161.363281 L 282.519531 161.363281 \"/>\n",
       "<path style=\"fill:none;stroke-width:0.533489;stroke-linecap:butt;stroke-linejoin:round;stroke:rgb(100%,100%,100%);stroke-opacity:1;stroke-miterlimit:10;\" d=\"M 37.09375 102.023438 L 282.519531 102.023438 \"/>\n",
       "<path style=\"fill:none;stroke-width:0.533489;stroke-linecap:butt;stroke-linejoin:round;stroke:rgb(100%,100%,100%);stroke-opacity:1;stroke-miterlimit:10;\" d=\"M 37.09375 42.683594 L 282.519531 42.683594 \"/>\n",
       "<path style=\"fill:none;stroke-width:0.533489;stroke-linecap:butt;stroke-linejoin:round;stroke:rgb(100%,100%,100%);stroke-opacity:1;stroke-miterlimit:10;\" d=\"M 66.84375 256.839844 L 66.84375 5.480469 \"/>\n",
       "<path style=\"fill:none;stroke-width:0.533489;stroke-linecap:butt;stroke-linejoin:round;stroke:rgb(100%,100%,100%);stroke-opacity:1;stroke-miterlimit:10;\" d=\"M 104.027344 256.839844 L 104.027344 5.480469 \"/>\n",
       "<path style=\"fill:none;stroke-width:0.533489;stroke-linecap:butt;stroke-linejoin:round;stroke:rgb(100%,100%,100%);stroke-opacity:1;stroke-miterlimit:10;\" d=\"M 141.214844 256.839844 L 141.214844 5.480469 \"/>\n",
       "<path style=\"fill:none;stroke-width:0.533489;stroke-linecap:butt;stroke-linejoin:round;stroke:rgb(100%,100%,100%);stroke-opacity:1;stroke-miterlimit:10;\" d=\"M 178.398438 256.839844 L 178.398438 5.480469 \"/>\n",
       "<path style=\"fill:none;stroke-width:0.533489;stroke-linecap:butt;stroke-linejoin:round;stroke:rgb(100%,100%,100%);stroke-opacity:1;stroke-miterlimit:10;\" d=\"M 215.585938 256.839844 L 215.585938 5.480469 \"/>\n",
       "<path style=\"fill:none;stroke-width:0.533489;stroke-linecap:butt;stroke-linejoin:round;stroke:rgb(100%,100%,100%);stroke-opacity:1;stroke-miterlimit:10;\" d=\"M 252.773438 256.839844 L 252.773438 5.480469 \"/>\n",
       "<path style=\"fill:none;stroke-width:1.066978;stroke-linecap:butt;stroke-linejoin:round;stroke:rgb(100%,100%,100%);stroke-opacity:1;stroke-miterlimit:10;\" d=\"M 37.09375 250.375 L 282.519531 250.375 \"/>\n",
       "<path style=\"fill:none;stroke-width:1.066978;stroke-linecap:butt;stroke-linejoin:round;stroke:rgb(100%,100%,100%);stroke-opacity:1;stroke-miterlimit:10;\" d=\"M 37.09375 191.035156 L 282.519531 191.035156 \"/>\n",
       "<path style=\"fill:none;stroke-width:1.066978;stroke-linecap:butt;stroke-linejoin:round;stroke:rgb(100%,100%,100%);stroke-opacity:1;stroke-miterlimit:10;\" d=\"M 37.09375 131.695313 L 282.519531 131.695313 \"/>\n",
       "<path style=\"fill:none;stroke-width:1.066978;stroke-linecap:butt;stroke-linejoin:round;stroke:rgb(100%,100%,100%);stroke-opacity:1;stroke-miterlimit:10;\" d=\"M 37.09375 72.355469 L 282.519531 72.355469 \"/>\n",
       "<path style=\"fill:none;stroke-width:1.066978;stroke-linecap:butt;stroke-linejoin:round;stroke:rgb(100%,100%,100%);stroke-opacity:1;stroke-miterlimit:10;\" d=\"M 37.09375 13.015625 L 282.519531 13.015625 \"/>\n",
       "<path style=\"fill:none;stroke-width:1.066978;stroke-linecap:butt;stroke-linejoin:round;stroke:rgb(100%,100%,100%);stroke-opacity:1;stroke-miterlimit:10;\" d=\"M 48.25 256.839844 L 48.25 5.480469 \"/>\n",
       "<path style=\"fill:none;stroke-width:1.066978;stroke-linecap:butt;stroke-linejoin:round;stroke:rgb(100%,100%,100%);stroke-opacity:1;stroke-miterlimit:10;\" d=\"M 85.433594 256.839844 L 85.433594 5.480469 \"/>\n",
       "<path style=\"fill:none;stroke-width:1.066978;stroke-linecap:butt;stroke-linejoin:round;stroke:rgb(100%,100%,100%);stroke-opacity:1;stroke-miterlimit:10;\" d=\"M 122.621094 256.839844 L 122.621094 5.480469 \"/>\n",
       "<path style=\"fill:none;stroke-width:1.066978;stroke-linecap:butt;stroke-linejoin:round;stroke:rgb(100%,100%,100%);stroke-opacity:1;stroke-miterlimit:10;\" d=\"M 159.808594 256.839844 L 159.808594 5.480469 \"/>\n",
       "<path style=\"fill:none;stroke-width:1.066978;stroke-linecap:butt;stroke-linejoin:round;stroke:rgb(100%,100%,100%);stroke-opacity:1;stroke-miterlimit:10;\" d=\"M 196.992188 256.839844 L 196.992188 5.480469 \"/>\n",
       "<path style=\"fill:none;stroke-width:1.066978;stroke-linecap:butt;stroke-linejoin:round;stroke:rgb(100%,100%,100%);stroke-opacity:1;stroke-miterlimit:10;\" d=\"M 234.179688 256.839844 L 234.179688 5.480469 \"/>\n",
       "<path style=\"fill:none;stroke-width:1.066978;stroke-linecap:butt;stroke-linejoin:round;stroke:rgb(100%,100%,100%);stroke-opacity:1;stroke-miterlimit:10;\" d=\"M 271.363281 256.839844 L 271.363281 5.480469 \"/>\n",
       "<path style=\"fill:none;stroke-width:1.066978;stroke-linecap:butt;stroke-linejoin:round;stroke:rgb(100%,100%,100%);stroke-opacity:1;stroke-miterlimit:10;\" d=\"M 196.992188 256.839844 L 196.992188 5.480469 \"/>\n",
       "<path style=\"fill:none;stroke-width:1.066978;stroke-linecap:butt;stroke-linejoin:round;stroke:rgb(0%,0%,0%);stroke-opacity:1;stroke-miterlimit:1;\" d=\"M 48.25 245.414063 L 50.480469 244.746094 L 52.710938 243.996094 L 54.941406 243.152344 L 57.175781 242.203125 L 59.40625 241.140625 L 61.636719 239.953125 L 63.867188 238.625 L 66.097656 237.144531 L 68.328125 235.5 L 70.5625 233.671875 L 72.792969 231.648438 L 75.023438 229.410156 L 77.253906 226.945313 L 79.484375 224.230469 L 81.714844 221.257813 L 83.949219 218.007813 L 86.179688 214.460938 L 88.410156 210.605469 L 90.640625 206.429688 L 92.871094 201.917969 L 95.105469 197.0625 L 97.335938 191.859375 L 99.566406 186.296875 L 101.796875 180.382813 L 104.027344 174.117188 L 106.257813 167.507813 L 108.492188 160.570313 L 110.722656 153.320313 L 112.953125 145.78125 L 115.183594 137.988281 L 117.414063 129.980469 L 119.644531 121.789063 L 121.878906 113.476563 L 124.109375 105.089844 L 126.339844 96.691406 L 128.570313 88.347656 L 130.800781 80.125 L 133.03125 72.101563 L 135.265625 64.347656 L 137.496094 56.941406 L 139.726563 49.960938 L 141.957031 43.476563 L 144.1875 37.5625 L 146.421875 32.285156 L 148.652344 27.710938 L 150.882813 23.882813 L 153.113281 20.859375 L 155.34375 18.671875 L 157.574219 17.347656 L 159.808594 16.90625 L 162.039063 17.347656 L 164.269531 18.671875 L 166.5 20.859375 L 168.730469 23.882813 L 170.960938 27.710938 L 173.195313 32.285156 L 175.425781 37.5625 L 177.65625 43.476563 L 179.886719 49.960938 L 182.117188 56.941406 L 184.351563 64.347656 L 186.582031 72.101563 L 188.8125 80.125 L 191.042969 88.347656 L 193.273438 96.691406 L 195.503906 105.089844 L 197.738281 113.476563 L 199.96875 121.789063 L 202.199219 129.980469 L 204.429688 137.988281 L 206.660156 145.78125 L 208.890625 153.320313 L 211.125 160.570313 L 213.355469 167.507813 L 215.585938 174.117188 L 217.816406 180.382813 L 220.046875 186.296875 L 222.28125 191.859375 L 224.511719 197.0625 L 226.742188 201.917969 L 228.972656 206.429688 L 231.203125 210.605469 L 233.433594 214.460938 L 235.667969 218.007813 L 237.898438 221.257813 L 240.128906 224.230469 L 242.359375 226.945313 L 244.589844 229.410156 L 246.820313 231.648438 L 249.054688 233.671875 L 251.285156 235.5 L 253.515625 237.144531 L 255.746094 238.625 L 257.976563 239.953125 L 260.210938 241.140625 L 262.441406 242.203125 L 264.671875 243.152344 L 266.902344 243.996094 L 269.132813 244.746094 L 271.363281 245.414063 \"/>\n",
       "<path style=\"fill:none;stroke-width:1.066978;stroke-linecap:butt;stroke-linejoin:round;stroke:rgb(0%,0%,0%);stroke-opacity:1;stroke-miterlimit:10;\" d=\"M 81.683594 256.839844 L 81.683594 5.480469 \"/>\n",
       "<path style=\"fill:none;stroke-width:1.066978;stroke-linecap:butt;stroke-linejoin:round;stroke:rgb(0%,0%,0%);stroke-opacity:1;stroke-miterlimit:10;\" d=\"M 237.933594 256.839844 L 237.933594 5.480469 \"/>\n",
       "</g>\n",
       "<g style=\"fill:rgb(30.196078%,30.196078%,30.196078%);fill-opacity:1;\">\n",
       "  <use xlink:href=\"#glyph0-0\" x=\"19.925781\" y=\"253.523438\"/>\n",
       "  <use xlink:href=\"#glyph0-1\" x=\"24.819922\" y=\"253.523438\"/>\n",
       "  <use xlink:href=\"#glyph0-0\" x=\"27.264844\" y=\"253.523438\"/>\n",
       "</g>\n",
       "<g style=\"fill:rgb(30.196078%,30.196078%,30.196078%);fill-opacity:1;\">\n",
       "  <use xlink:href=\"#glyph0-0\" x=\"19.925781\" y=\"194.183594\"/>\n",
       "  <use xlink:href=\"#glyph0-1\" x=\"24.819922\" y=\"194.183594\"/>\n",
       "  <use xlink:href=\"#glyph0-2\" x=\"27.264844\" y=\"194.183594\"/>\n",
       "</g>\n",
       "<g style=\"fill:rgb(30.196078%,30.196078%,30.196078%);fill-opacity:1;\">\n",
       "  <use xlink:href=\"#glyph0-0\" x=\"19.925781\" y=\"134.84375\"/>\n",
       "  <use xlink:href=\"#glyph0-1\" x=\"24.819922\" y=\"134.84375\"/>\n",
       "  <use xlink:href=\"#glyph0-3\" x=\"27.264844\" y=\"134.84375\"/>\n",
       "</g>\n",
       "<g style=\"fill:rgb(30.196078%,30.196078%,30.196078%);fill-opacity:1;\">\n",
       "  <use xlink:href=\"#glyph0-0\" x=\"19.925781\" y=\"75.503906\"/>\n",
       "  <use xlink:href=\"#glyph0-1\" x=\"24.819922\" y=\"75.503906\"/>\n",
       "  <use xlink:href=\"#glyph0-4\" x=\"27.264844\" y=\"75.503906\"/>\n",
       "</g>\n",
       "<g style=\"fill:rgb(30.196078%,30.196078%,30.196078%);fill-opacity:1;\">\n",
       "  <use xlink:href=\"#glyph0-0\" x=\"19.925781\" y=\"16.164063\"/>\n",
       "  <use xlink:href=\"#glyph0-1\" x=\"24.819922\" y=\"16.164063\"/>\n",
       "  <use xlink:href=\"#glyph0-5\" x=\"27.264844\" y=\"16.164063\"/>\n",
       "</g>\n",
       "<path style=\"fill:none;stroke-width:1.066978;stroke-linecap:butt;stroke-linejoin:round;stroke:rgb(20%,20%,20%);stroke-opacity:1;stroke-miterlimit:10;\" d=\"M 34.355469 250.375 L 37.09375 250.375 \"/>\n",
       "<path style=\"fill:none;stroke-width:1.066978;stroke-linecap:butt;stroke-linejoin:round;stroke:rgb(20%,20%,20%);stroke-opacity:1;stroke-miterlimit:10;\" d=\"M 34.355469 191.035156 L 37.09375 191.035156 \"/>\n",
       "<path style=\"fill:none;stroke-width:1.066978;stroke-linecap:butt;stroke-linejoin:round;stroke:rgb(20%,20%,20%);stroke-opacity:1;stroke-miterlimit:10;\" d=\"M 34.355469 131.695313 L 37.09375 131.695313 \"/>\n",
       "<path style=\"fill:none;stroke-width:1.066978;stroke-linecap:butt;stroke-linejoin:round;stroke:rgb(20%,20%,20%);stroke-opacity:1;stroke-miterlimit:10;\" d=\"M 34.355469 72.355469 L 37.09375 72.355469 \"/>\n",
       "<path style=\"fill:none;stroke-width:1.066978;stroke-linecap:butt;stroke-linejoin:round;stroke:rgb(20%,20%,20%);stroke-opacity:1;stroke-miterlimit:10;\" d=\"M 34.355469 13.015625 L 37.09375 13.015625 \"/>\n",
       "<path style=\"fill:none;stroke-width:1.066978;stroke-linecap:butt;stroke-linejoin:round;stroke:rgb(20%,20%,20%);stroke-opacity:1;stroke-miterlimit:10;\" d=\"M 48.25 259.582031 L 48.25 256.839844 \"/>\n",
       "<path style=\"fill:none;stroke-width:1.066978;stroke-linecap:butt;stroke-linejoin:round;stroke:rgb(20%,20%,20%);stroke-opacity:1;stroke-miterlimit:10;\" d=\"M 85.433594 259.582031 L 85.433594 256.839844 \"/>\n",
       "<path style=\"fill:none;stroke-width:1.066978;stroke-linecap:butt;stroke-linejoin:round;stroke:rgb(20%,20%,20%);stroke-opacity:1;stroke-miterlimit:10;\" d=\"M 122.621094 259.582031 L 122.621094 256.839844 \"/>\n",
       "<path style=\"fill:none;stroke-width:1.066978;stroke-linecap:butt;stroke-linejoin:round;stroke:rgb(20%,20%,20%);stroke-opacity:1;stroke-miterlimit:10;\" d=\"M 159.808594 259.582031 L 159.808594 256.839844 \"/>\n",
       "<path style=\"fill:none;stroke-width:1.066978;stroke-linecap:butt;stroke-linejoin:round;stroke:rgb(20%,20%,20%);stroke-opacity:1;stroke-miterlimit:10;\" d=\"M 196.992188 259.582031 L 196.992188 256.839844 \"/>\n",
       "<path style=\"fill:none;stroke-width:1.066978;stroke-linecap:butt;stroke-linejoin:round;stroke:rgb(20%,20%,20%);stroke-opacity:1;stroke-miterlimit:10;\" d=\"M 234.179688 259.582031 L 234.179688 256.839844 \"/>\n",
       "<path style=\"fill:none;stroke-width:1.066978;stroke-linecap:butt;stroke-linejoin:round;stroke:rgb(20%,20%,20%);stroke-opacity:1;stroke-miterlimit:10;\" d=\"M 271.363281 259.582031 L 271.363281 256.839844 \"/>\n",
       "<path style=\"fill:none;stroke-width:1.066978;stroke-linecap:butt;stroke-linejoin:round;stroke:rgb(20%,20%,20%);stroke-opacity:1;stroke-miterlimit:10;\" d=\"M 196.992188 259.582031 L 196.992188 256.839844 \"/>\n",
       "<g style=\"fill:rgb(30.196078%,30.196078%,30.196078%);fill-opacity:1;\">\n",
       "  <use xlink:href=\"#glyph0-6\" x=\"44.335938\" y=\"268.070313\"/>\n",
       "  <use xlink:href=\"#glyph0-4\" x=\"47.266406\" y=\"268.070313\"/>\n",
       "</g>\n",
       "<g style=\"fill:rgb(30.196078%,30.196078%,30.196078%);fill-opacity:1;\">\n",
       "  <use xlink:href=\"#glyph0-6\" x=\"81.519531\" y=\"268.070313\"/>\n",
       "  <use xlink:href=\"#glyph0-3\" x=\"84.45\" y=\"268.070313\"/>\n",
       "</g>\n",
       "<g style=\"fill:rgb(30.196078%,30.196078%,30.196078%);fill-opacity:1;\">\n",
       "  <use xlink:href=\"#glyph0-6\" x=\"118.707031\" y=\"268.070313\"/>\n",
       "  <use xlink:href=\"#glyph0-2\" x=\"121.6375\" y=\"268.070313\"/>\n",
       "</g>\n",
       "<g style=\"fill:rgb(30.196078%,30.196078%,30.196078%);fill-opacity:1;\">\n",
       "  <use xlink:href=\"#glyph0-0\" x=\"157.363281\" y=\"268.070313\"/>\n",
       "</g>\n",
       "<g style=\"fill:rgb(30.196078%,30.196078%,30.196078%);fill-opacity:1;\">\n",
       "  <use xlink:href=\"#glyph0-2\" x=\"194.546875\" y=\"268.070313\"/>\n",
       "</g>\n",
       "<g style=\"fill:rgb(30.196078%,30.196078%,30.196078%);fill-opacity:1;\">\n",
       "  <use xlink:href=\"#glyph0-3\" x=\"231.734375\" y=\"268.070313\"/>\n",
       "</g>\n",
       "<g style=\"fill:rgb(30.196078%,30.196078%,30.196078%);fill-opacity:1;\">\n",
       "  <use xlink:href=\"#glyph0-4\" x=\"268.917969\" y=\"268.070313\"/>\n",
       "</g>\n",
       "<g style=\"fill:rgb(30.196078%,30.196078%,30.196078%);fill-opacity:1;\">\n",
       "  <use xlink:href=\"#glyph0-2\" x=\"194.546875\" y=\"268.070313\"/>\n",
       "</g>\n",
       "<g style=\"fill:rgb(0%,0%,0%);fill-opacity:1;\">\n",
       "  <use xlink:href=\"#glyph1-0\" x=\"157.058594\" y=\"280.328125\"/>\n",
       "</g>\n",
       "<g style=\"fill:rgb(0%,0%,0%);fill-opacity:1;\">\n",
       "  <use xlink:href=\"#glyph2-0\" x=\"15.546875\" y=\"133.910156\"/>\n",
       "</g>\n",
       "</g>\n",
       "</svg>\n"
      ],
      "text/plain": [
       "plot without title"
      ]
     },
     "metadata": {
      "image/svg+xml": {
       "isolated": true
      }
     },
     "output_type": "display_data"
    }
   ],
   "source": [
    "ggplot(data.frame(x = c(-3, 3)), aes(x)) +\n",
    "    stat_function(fun = dt, args = list(df = n - 2)) + \n",
    "    scale_x_continuous(breaks = c(-3:3, 1)) + \n",
    "    geom_vline(xintercept = c(qt(0.025, df = n - 2), qt(0.975, df = n - 2)))"
   ]
  },
  {
   "cell_type": "markdown",
   "metadata": {},
   "source": [
    "帰無仮説は棄却された\n",
    "\n",
    "$p$ 値は，"
   ]
  },
  {
   "cell_type": "code",
   "execution_count": 23,
   "metadata": {
    "collapsed": false
   },
   "outputs": [
    {
     "data": {
      "text/html": [
       "0.000141622881554482"
      ],
      "text/latex": [
       "0.000141622881554482"
      ],
      "text/markdown": [
       "0.000141622881554482"
      ],
      "text/plain": [
       "[1] 0.0001416229"
      ]
     },
     "metadata": {},
     "output_type": "display_data"
    }
   ],
   "source": [
    "2 * pt(-t, df = n - 2)"
   ]
  },
  {
   "cell_type": "markdown",
   "metadata": {},
   "source": [
    "`cor.test()` で計算"
   ]
  },
  {
   "cell_type": "code",
   "execution_count": 24,
   "metadata": {
    "collapsed": false
   },
   "outputs": [
    {
     "data": {
      "text/plain": [
       "\n",
       "\tPearson's product-moment correlation\n",
       "\n",
       "data:  stat_test1 and stat_test2\n",
       "t = 4.8057, df = 18, p-value = 0.0001416\n",
       "alternative hypothesis: true correlation is not equal to 0\n",
       "95 percent confidence interval:\n",
       " 0.4596086 0.8952048\n",
       "sample estimates:\n",
       "     cor \n",
       "0.749659 \n"
      ]
     },
     "metadata": {},
     "output_type": "display_data"
    }
   ],
   "source": [
    "cor.test(stat_test1, stat_test2)"
   ]
  },
  {
   "cell_type": "markdown",
   "metadata": {},
   "source": [
    "## 5.6 カイ二乗検定"
   ]
  },
  {
   "cell_type": "code",
   "execution_count": 25,
   "metadata": {
    "collapsed": false
   },
   "outputs": [
    {
     "data": {
      "text/plain": [
       "      stat\n",
       "math   嫌い 好き\n",
       "  嫌い   10    4\n",
       "  好き    2    4"
      ]
     },
     "metadata": {},
     "output_type": "display_data"
    }
   ],
   "source": [
    "math <- d$math\n",
    "stat <- d$stat\n",
    "table(math, stat)"
   ]
  },
  {
   "cell_type": "markdown",
   "metadata": {},
   "source": [
    "検定統計量\n",
    "\n",
    "$$\\chi^2 = \\sum_{i = 1}^{k} \\frac{(O_i - E_i)^2}{E_i}$$"
   ]
  },
  {
   "cell_type": "markdown",
   "metadata": {},
   "source": [
    "カイ二乗分布"
   ]
  },
  {
   "cell_type": "code",
   "execution_count": 26,
   "metadata": {
    "collapsed": false
   },
   "outputs": [
    {
     "data": {
      "image/png": "[encoded data removed]",
      "image/svg+xml": [
       "<?xml version=\"1.0\" encoding=\"UTF-8\"?>\n",
       "<svg xmlns=\"http://www.w3.org/2000/svg\" xmlns:xlink=\"http://www.w3.org/1999/xlink\" width=\"288pt\" height=\"288pt\" viewBox=\"0 0 288 288\" version=\"1.1\">\n",
       "<defs>\n",
       "<g>\n",
       "<symbol overflow=\"visible\" id=\"glyph0-0\">\n",
       "<path style=\"stroke:none;\" d=\"M 0.367188 -3.105469 C 0.363281 -3.847656 0.4375 -4.445313 0.59375 -4.902344 C 0.742188 -5.355469 0.972656 -5.707031 1.277344 -5.953125 C 1.578125 -6.199219 1.957031 -6.320313 2.417969 -6.324219 C 2.753906 -6.320313 3.050781 -6.253906 3.308594 -6.121094 C 3.5625 -5.984375 3.773438 -5.789063 3.9375 -5.53125 C 4.101563 -5.273438 4.230469 -4.960938 4.328125 -4.59375 C 4.421875 -4.226563 4.46875 -3.730469 4.472656 -3.105469 C 4.46875 -2.367188 4.394531 -1.769531 4.242188 -1.316406 C 4.089844 -0.859375 3.863281 -0.507813 3.5625 -0.261719 C 3.257813 -0.015625 2.875 0.105469 2.417969 0.109375 C 1.808594 0.105469 1.332031 -0.109375 0.988281 -0.546875 C 0.570313 -1.066406 0.363281 -1.921875 0.367188 -3.105469 Z M 1.160156 -3.105469 C 1.160156 -2.070313 1.28125 -1.378906 1.523438 -1.039063 C 1.765625 -0.695313 2.0625 -0.527344 2.417969 -0.527344 C 2.773438 -0.527344 3.074219 -0.699219 3.316406 -1.042969 C 3.558594 -1.386719 3.679688 -2.074219 3.679688 -3.105469 C 3.679688 -4.144531 3.558594 -4.832031 3.316406 -5.171875 C 3.074219 -5.511719 2.769531 -5.683594 2.410156 -5.683594 C 2.050781 -5.683594 1.769531 -5.53125 1.558594 -5.234375 C 1.292969 -4.84375 1.160156 -4.136719 1.160156 -3.105469 Z M 1.160156 -3.105469 \"/>\n",
       "</symbol>\n",
       "<symbol overflow=\"visible\" id=\"glyph0-1\">\n",
       "<path style=\"stroke:none;\" d=\"M 0.800781 0 L 0.800781 -0.882813 L 1.679688 -0.882813 L 1.679688 0 Z M 0.800781 0 \"/>\n",
       "</symbol>\n",
       "<symbol overflow=\"visible\" id=\"glyph0-2\">\n",
       "<path style=\"stroke:none;\" d=\"M 4.429688 -0.742188 L 4.429688 0 L 0.265625 0 C 0.257813 -0.1875 0.289063 -0.367188 0.355469 -0.539063 C 0.460938 -0.820313 0.628906 -1.097656 0.863281 -1.375 C 1.09375 -1.648438 1.433594 -1.964844 1.878906 -2.328125 C 2.5625 -2.886719 3.023438 -3.332031 3.265625 -3.664063 C 3.5 -3.988281 3.621094 -4.300781 3.625 -4.59375 C 3.621094 -4.898438 3.511719 -5.15625 3.296875 -5.367188 C 3.074219 -5.578125 2.789063 -5.683594 2.441406 -5.683594 C 2.066406 -5.683594 1.769531 -5.570313 1.546875 -5.347656 C 1.320313 -5.125 1.207031 -4.816406 1.207031 -4.421875 L 0.414063 -4.503906 C 0.464844 -5.09375 0.667969 -5.542969 1.027344 -5.855469 C 1.378906 -6.164063 1.855469 -6.320313 2.457031 -6.324219 C 3.058594 -6.320313 3.539063 -6.152344 3.890625 -5.820313 C 4.242188 -5.484375 4.417969 -5.070313 4.421875 -4.578125 C 4.417969 -4.320313 4.367188 -4.074219 4.265625 -3.832031 C 4.164063 -3.589844 3.992188 -3.332031 3.753906 -3.0625 C 3.511719 -2.792969 3.113281 -2.425781 2.5625 -1.957031 C 2.09375 -1.566406 1.796875 -1.300781 1.664063 -1.160156 C 1.53125 -1.019531 1.421875 -0.878906 1.339844 -0.742188 Z M 4.429688 -0.742188 \"/>\n",
       "</symbol>\n",
       "<symbol overflow=\"visible\" id=\"glyph0-3\">\n",
       "<path style=\"stroke:none;\" d=\"M 2.84375 0 L 2.84375 -1.507813 L 0.113281 -1.507813 L 0.113281 -2.21875 L 2.988281 -6.300781 L 3.617188 -6.300781 L 3.617188 -2.21875 L 4.46875 -2.21875 L 4.46875 -1.507813 L 3.617188 -1.507813 L 3.617188 0 Z M 2.84375 -2.21875 L 2.84375 -5.058594 L 0.871094 -2.21875 Z M 2.84375 -2.21875 \"/>\n",
       "</symbol>\n",
       "<symbol overflow=\"visible\" id=\"glyph0-4\">\n",
       "<path style=\"stroke:none;\" d=\"M 4.378906 -4.757813 L 3.609375 -4.695313 C 3.539063 -4.996094 3.441406 -5.21875 3.316406 -5.359375 C 3.105469 -5.574219 2.847656 -5.683594 2.542969 -5.6875 C 2.296875 -5.683594 2.078125 -5.617188 1.894531 -5.484375 C 1.648438 -5.304688 1.457031 -5.042969 1.320313 -4.703125 C 1.175781 -4.363281 1.105469 -3.878906 1.101563 -3.25 C 1.285156 -3.53125 1.511719 -3.742188 1.78125 -3.878906 C 2.050781 -4.015625 2.332031 -4.082031 2.628906 -4.085938 C 3.140625 -4.082031 3.578125 -3.894531 3.945313 -3.515625 C 4.304688 -3.136719 4.488281 -2.644531 4.492188 -2.046875 C 4.488281 -1.648438 4.402344 -1.28125 4.234375 -0.941406 C 4.0625 -0.601563 3.828125 -0.339844 3.53125 -0.160156 C 3.230469 0.0195313 2.894531 0.105469 2.519531 0.109375 C 1.871094 0.105469 1.34375 -0.128906 0.941406 -0.601563 C 0.53125 -1.074219 0.328125 -1.855469 0.332031 -2.949219 C 0.328125 -4.160156 0.550781 -5.046875 1.003906 -5.601563 C 1.394531 -6.082031 1.925781 -6.320313 2.589844 -6.324219 C 3.085938 -6.320313 3.492188 -6.183594 3.808594 -5.90625 C 4.125 -5.628906 4.3125 -5.246094 4.378906 -4.757813 Z M 1.21875 -2.039063 C 1.21875 -1.773438 1.273438 -1.515625 1.386719 -1.273438 C 1.5 -1.027344 1.660156 -0.84375 1.863281 -0.71875 C 2.066406 -0.589844 2.277344 -0.527344 2.503906 -0.527344 C 2.828125 -0.527344 3.109375 -0.65625 3.347656 -0.921875 C 3.578125 -1.183594 3.695313 -1.542969 3.699219 -2 C 3.695313 -2.429688 3.582031 -2.773438 3.351563 -3.027344 C 3.117188 -3.273438 2.824219 -3.398438 2.476563 -3.402344 C 2.121094 -3.398438 1.824219 -3.273438 1.582031 -3.027344 C 1.339844 -2.773438 1.21875 -2.445313 1.21875 -2.039063 Z M 1.21875 -2.039063 \"/>\n",
       "</symbol>\n",
       "<symbol overflow=\"visible\" id=\"glyph0-5\">\n",
       "<path style=\"stroke:none;\" d=\"M 1.554688 -3.417969 C 1.230469 -3.53125 0.992188 -3.699219 0.839844 -3.917969 C 0.683594 -4.132813 0.609375 -4.394531 0.609375 -4.699219 C 0.609375 -5.15625 0.773438 -5.539063 1.101563 -5.855469 C 1.429688 -6.164063 1.867188 -6.320313 2.417969 -6.324219 C 2.96875 -6.320313 3.410156 -6.160156 3.746094 -5.84375 C 4.078125 -5.523438 4.246094 -5.136719 4.25 -4.679688 C 4.246094 -4.386719 4.171875 -4.132813 4.019531 -3.917969 C 3.863281 -3.699219 3.628906 -3.53125 3.320313 -3.417969 C 3.707031 -3.285156 4 -3.082031 4.203125 -2.804688 C 4.402344 -2.519531 4.503906 -2.183594 4.507813 -1.800781 C 4.503906 -1.257813 4.3125 -0.804688 3.933594 -0.441406 C 3.550781 -0.0742188 3.050781 0.105469 2.433594 0.109375 C 1.808594 0.105469 1.308594 -0.0742188 0.925781 -0.441406 C 0.542969 -0.808594 0.351563 -1.269531 0.355469 -1.820313 C 0.351563 -2.230469 0.457031 -2.574219 0.667969 -2.851563 C 0.875 -3.125 1.167969 -3.3125 1.554688 -3.417969 Z M 1.402344 -4.726563 C 1.398438 -4.425781 1.496094 -4.183594 1.6875 -3.996094 C 1.878906 -3.804688 2.128906 -3.707031 2.4375 -3.710938 C 2.734375 -3.707031 2.976563 -3.800781 3.167969 -3.992188 C 3.355469 -4.175781 3.449219 -4.40625 3.453125 -4.683594 C 3.449219 -4.964844 3.351563 -5.203125 3.160156 -5.398438 C 2.960938 -5.585938 2.71875 -5.683594 2.429688 -5.6875 C 2.128906 -5.683594 1.882813 -5.589844 1.691406 -5.402344 C 1.496094 -5.214844 1.398438 -4.988281 1.402344 -4.726563 Z M 1.152344 -1.816406 C 1.148438 -1.597656 1.199219 -1.382813 1.308594 -1.175781 C 1.410156 -0.96875 1.566406 -0.808594 1.773438 -0.695313 C 1.980469 -0.582031 2.203125 -0.527344 2.441406 -0.527344 C 2.808594 -0.527344 3.113281 -0.644531 3.355469 -0.882813 C 3.59375 -1.121094 3.714844 -1.425781 3.71875 -1.792969 C 3.714844 -2.164063 3.589844 -2.46875 3.34375 -2.714844 C 3.09375 -2.957031 2.785156 -3.082031 2.414063 -3.082031 C 2.050781 -3.082031 1.75 -2.960938 1.511719 -2.71875 C 1.269531 -2.476563 1.148438 -2.175781 1.152344 -1.816406 Z M 1.152344 -1.816406 \"/>\n",
       "</symbol>\n",
       "<symbol overflow=\"visible\" id=\"glyph0-6\">\n",
       "<path style=\"stroke:none;\" d=\"M 0.367188 -1.648438 L 1.175781 -1.71875 C 1.234375 -1.320313 1.375 -1.023438 1.59375 -0.824219 C 1.8125 -0.625 2.078125 -0.527344 2.390625 -0.527344 C 2.761719 -0.527344 3.074219 -0.667969 3.335938 -0.949219 C 3.589844 -1.230469 3.71875 -1.601563 3.722656 -2.066406 C 3.71875 -2.503906 3.59375 -2.851563 3.347656 -3.109375 C 3.097656 -3.363281 2.773438 -3.492188 2.375 -3.492188 C 2.125 -3.492188 1.902344 -3.433594 1.703125 -3.320313 C 1.5 -3.207031 1.34375 -3.0625 1.230469 -2.882813 L 0.503906 -2.976563 L 1.113281 -6.214844 L 4.246094 -6.214844 L 4.246094 -5.472656 L 1.730469 -5.472656 L 1.390625 -3.78125 C 1.765625 -4.039063 2.164063 -4.171875 2.582031 -4.175781 C 3.128906 -4.171875 3.59375 -3.980469 3.972656 -3.605469 C 4.351563 -3.222656 4.539063 -2.734375 4.542969 -2.136719 C 4.539063 -1.5625 4.375 -1.070313 4.042969 -0.65625 C 3.636719 -0.148438 3.085938 0.105469 2.390625 0.109375 C 1.816406 0.105469 1.347656 -0.0507813 0.984375 -0.371094 C 0.621094 -0.691406 0.414063 -1.117188 0.367188 -1.648438 Z M 0.367188 -1.648438 \"/>\n",
       "</symbol>\n",
       "<symbol overflow=\"visible\" id=\"glyph0-7\">\n",
       "<path style=\"stroke:none;\" d=\"M 3.277344 0 L 2.503906 0 L 2.503906 -4.929688 C 2.316406 -4.75 2.074219 -4.574219 1.773438 -4.394531 C 1.46875 -4.214844 1.195313 -4.082031 0.957031 -3.996094 L 0.957031 -4.742188 C 1.386719 -4.941406 1.765625 -5.1875 2.089844 -5.480469 C 2.414063 -5.769531 2.644531 -6.050781 2.78125 -6.324219 L 3.277344 -6.324219 Z M 3.277344 0 \"/>\n",
       "</symbol>\n",
       "<symbol overflow=\"visible\" id=\"glyph1-0\">\n",
       "<path style=\"stroke:none;\" d=\"M 0.0820313 0 L 2.164063 -2.964844 L 0.234375 -5.703125 L 1.445313 -5.703125 L 2.320313 -4.367188 C 2.484375 -4.109375 2.617188 -3.898438 2.71875 -3.726563 C 2.875 -3.960938 3.019531 -4.167969 3.152344 -4.355469 L 4.113281 -5.703125 L 5.269531 -5.703125 L 3.296875 -3.019531 L 5.417969 0 L 4.234375 0 L 3.0625 -1.773438 L 2.75 -2.25 L 1.25 0 Z M 0.0820313 0 \"/>\n",
       "</symbol>\n",
       "<symbol overflow=\"visible\" id=\"glyph2-0\">\n",
       "<path style=\"stroke:none;\" d=\"M 2.195313 -0.683594 L 1.289063 -0.574219 C 1.34375 -0.785156 1.371094 -0.96875 1.375 -1.128906 C 1.371094 -1.339844 1.335938 -1.511719 1.265625 -1.640625 C 1.195313 -1.769531 1.09375 -1.875 0.96875 -1.960938 C 0.867188 -2.019531 0.628906 -2.117188 0.246094 -2.257813 C 0.191406 -2.269531 0.113281 -2.300781 0.0117188 -2.34375 L -5.703125 -0.175781 L -5.703125 -1.21875 L -2.402344 -2.40625 C -1.980469 -2.558594 -1.539063 -2.695313 -1.078125 -2.820313 C -1.523438 -2.925781 -1.957031 -3.058594 -2.378906 -3.21875 L -5.703125 -4.4375 L -5.703125 -5.402344 L 0.0976563 -3.234375 C 0.71875 -3 1.148438 -2.816406 1.390625 -2.691406 C 1.707031 -2.515625 1.941406 -2.320313 2.09375 -2.097656 C 2.238281 -1.875 2.3125 -1.609375 2.316406 -1.304688 C 2.3125 -1.117188 2.273438 -0.910156 2.195313 -0.683594 Z M 2.195313 -0.683594 \"/>\n",
       "</symbol>\n",
       "</g>\n",
       "<clipPath id=\"clip1\">\n",
       "  <path d=\"M 37.09375 5.480469 L 283.519531 5.480469 L 283.519531 257.839844 L 37.09375 257.839844 Z M 37.09375 5.480469 \"/>\n",
       "</clipPath>\n",
       "</defs>\n",
       "<g id=\"surface21\">\n",
       "<rect x=\"0\" y=\"0\" width=\"288\" height=\"288\" style=\"fill:rgb(100%,100%,100%);fill-opacity:1;stroke:none;\"/>\n",
       "<rect x=\"0\" y=\"0\" width=\"288\" height=\"288\" style=\"fill:rgb(100%,100%,100%);fill-opacity:1;stroke:none;\"/>\n",
       "<path style=\"fill:none;stroke-width:1.066978;stroke-linecap:round;stroke-linejoin:round;stroke:rgb(100%,100%,100%);stroke-opacity:1;stroke-miterlimit:10;\" d=\"M 0 288 L 288 288 L 288 0 L 0 0 Z M 0 288 \"/>\n",
       "<g clip-path=\"url(#clip1)\" clip-rule=\"nonzero\">\n",
       "<path style=\" stroke:none;fill-rule:nonzero;fill:rgb(92.156863%,92.156863%,92.156863%);fill-opacity:1;\" d=\"M 37.09375 256.839844 L 282.519531 256.839844 L 282.519531 5.480469 L 37.09375 5.480469 Z M 37.09375 256.839844 \"/>\n",
       "<path style=\"fill:none;stroke-width:0.533489;stroke-linecap:butt;stroke-linejoin:round;stroke:rgb(100%,100%,100%);stroke-opacity:1;stroke-miterlimit:10;\" d=\"M 37.09375 217.105469 L 282.519531 217.105469 \"/>\n",
       "<path style=\"fill:none;stroke-width:0.533489;stroke-linecap:butt;stroke-linejoin:round;stroke:rgb(100%,100%,100%);stroke-opacity:1;stroke-miterlimit:10;\" d=\"M 37.09375 160.484375 L 282.519531 160.484375 \"/>\n",
       "<path style=\"fill:none;stroke-width:0.533489;stroke-linecap:butt;stroke-linejoin:round;stroke:rgb(100%,100%,100%);stroke-opacity:1;stroke-miterlimit:10;\" d=\"M 37.09375 103.863281 L 282.519531 103.863281 \"/>\n",
       "<path style=\"fill:none;stroke-width:0.533489;stroke-linecap:butt;stroke-linejoin:round;stroke:rgb(100%,100%,100%);stroke-opacity:1;stroke-miterlimit:10;\" d=\"M 37.09375 47.246094 L 282.519531 47.246094 \"/>\n",
       "<path style=\"fill:none;stroke-width:0.533489;stroke-linecap:butt;stroke-linejoin:round;stroke:rgb(100%,100%,100%);stroke-opacity:1;stroke-miterlimit:10;\" d=\"M 76.140625 256.839844 L 76.140625 5.480469 \"/>\n",
       "<path style=\"fill:none;stroke-width:0.533489;stroke-linecap:butt;stroke-linejoin:round;stroke:rgb(100%,100%,100%);stroke-opacity:1;stroke-miterlimit:10;\" d=\"M 131.917969 256.839844 L 131.917969 5.480469 \"/>\n",
       "<path style=\"fill:none;stroke-width:0.533489;stroke-linecap:butt;stroke-linejoin:round;stroke:rgb(100%,100%,100%);stroke-opacity:1;stroke-miterlimit:10;\" d=\"M 187.695313 256.839844 L 187.695313 5.480469 \"/>\n",
       "<path style=\"fill:none;stroke-width:0.533489;stroke-linecap:butt;stroke-linejoin:round;stroke:rgb(100%,100%,100%);stroke-opacity:1;stroke-miterlimit:10;\" d=\"M 243.476563 256.839844 L 243.476563 5.480469 \"/>\n",
       "<path style=\"fill:none;stroke-width:1.066978;stroke-linecap:butt;stroke-linejoin:round;stroke:rgb(100%,100%,100%);stroke-opacity:1;stroke-miterlimit:10;\" d=\"M 37.09375 245.414063 L 282.519531 245.414063 \"/>\n",
       "<path style=\"fill:none;stroke-width:1.066978;stroke-linecap:butt;stroke-linejoin:round;stroke:rgb(100%,100%,100%);stroke-opacity:1;stroke-miterlimit:10;\" d=\"M 37.09375 188.796875 L 282.519531 188.796875 \"/>\n",
       "<path style=\"fill:none;stroke-width:1.066978;stroke-linecap:butt;stroke-linejoin:round;stroke:rgb(100%,100%,100%);stroke-opacity:1;stroke-miterlimit:10;\" d=\"M 37.09375 132.175781 L 282.519531 132.175781 \"/>\n",
       "<path style=\"fill:none;stroke-width:1.066978;stroke-linecap:butt;stroke-linejoin:round;stroke:rgb(100%,100%,100%);stroke-opacity:1;stroke-miterlimit:10;\" d=\"M 37.09375 75.554688 L 282.519531 75.554688 \"/>\n",
       "<path style=\"fill:none;stroke-width:1.066978;stroke-linecap:butt;stroke-linejoin:round;stroke:rgb(100%,100%,100%);stroke-opacity:1;stroke-miterlimit:10;\" d=\"M 37.09375 18.933594 L 282.519531 18.933594 \"/>\n",
       "<path style=\"fill:none;stroke-width:1.066978;stroke-linecap:butt;stroke-linejoin:round;stroke:rgb(100%,100%,100%);stroke-opacity:1;stroke-miterlimit:10;\" d=\"M 48.25 256.839844 L 48.25 5.480469 \"/>\n",
       "<path style=\"fill:none;stroke-width:1.066978;stroke-linecap:butt;stroke-linejoin:round;stroke:rgb(100%,100%,100%);stroke-opacity:1;stroke-miterlimit:10;\" d=\"M 104.027344 256.839844 L 104.027344 5.480469 \"/>\n",
       "<path style=\"fill:none;stroke-width:1.066978;stroke-linecap:butt;stroke-linejoin:round;stroke:rgb(100%,100%,100%);stroke-opacity:1;stroke-miterlimit:10;\" d=\"M 159.808594 256.839844 L 159.808594 5.480469 \"/>\n",
       "<path style=\"fill:none;stroke-width:1.066978;stroke-linecap:butt;stroke-linejoin:round;stroke:rgb(100%,100%,100%);stroke-opacity:1;stroke-miterlimit:10;\" d=\"M 215.585938 256.839844 L 215.585938 5.480469 \"/>\n",
       "<path style=\"fill:none;stroke-width:1.066978;stroke-linecap:butt;stroke-linejoin:round;stroke:rgb(100%,100%,100%);stroke-opacity:1;stroke-miterlimit:10;\" d=\"M 271.363281 256.839844 L 271.363281 5.480469 \"/>\n",
       "<path style=\"fill:none;stroke-width:1.066978;stroke-linecap:butt;stroke-linejoin:round;stroke:rgb(0%,0%,0%);stroke-opacity:1;stroke-miterlimit:1;\" d=\"M 48.25 5.480469 L 50.480469 16.90625 L 52.710938 99.210938 L 54.941406 137.398438 L 57.175781 160.773438 L 59.40625 176.914063 L 61.636719 188.832031 L 63.867188 198.015625 L 66.097656 205.296875 L 68.328125 211.191406 L 70.5625 216.035156 L 72.792969 220.070313 L 75.023438 223.457031 L 77.253906 226.324219 L 79.484375 228.769531 L 81.714844 230.867188 L 83.949219 232.667969 L 86.179688 234.226563 L 88.410156 235.574219 L 90.640625 236.75 L 92.871094 237.773438 L 95.105469 238.667969 L 97.335938 239.449219 L 99.566406 240.136719 L 101.796875 240.738281 L 104.027344 241.269531 L 106.257813 241.738281 L 108.492188 242.148438 L 110.722656 242.511719 L 112.953125 242.835938 L 115.183594 243.121094 L 117.414063 243.371094 L 119.644531 243.59375 L 121.878906 243.792969 L 124.109375 243.96875 L 126.339844 244.125 L 128.570313 244.265625 L 130.800781 244.386719 L 133.03125 244.5 L 135.265625 244.597656 L 137.496094 244.683594 L 139.726563 244.761719 L 141.957031 244.832031 L 144.1875 244.890625 L 146.421875 244.949219 L 148.652344 244.996094 L 150.882813 245.039063 L 153.113281 245.078125 L 155.34375 245.113281 L 157.574219 245.144531 L 159.808594 245.175781 L 164.269531 245.222656 L 166.5 245.242188 L 168.730469 245.257813 L 170.960938 245.277344 L 173.195313 245.289063 L 175.425781 245.304688 L 177.65625 245.316406 L 179.886719 245.324219 L 182.117188 245.335938 L 184.351563 245.34375 L 186.582031 245.351563 L 188.8125 245.355469 L 191.042969 245.363281 L 195.503906 245.371094 L 197.738281 245.378906 L 199.96875 245.378906 L 208.890625 245.394531 L 211.125 245.394531 L 213.355469 245.398438 L 215.585938 245.398438 L 217.816406 245.402344 L 222.28125 245.402344 L 224.511719 245.40625 L 233.433594 245.40625 L 235.667969 245.410156 L 251.285156 245.410156 L 253.515625 245.414063 L 271.363281 245.414063 \"/>\n",
       "<path style=\"fill:none;stroke-width:1.066978;stroke-linecap:butt;stroke-linejoin:round;stroke:rgb(0%,100%,0%);stroke-opacity:1;stroke-miterlimit:1;\" d=\"M 48.25 103.863281 L 50.480469 117.335938 L 52.710938 129.523438 L 54.941406 140.550781 L 57.175781 150.53125 L 59.40625 159.5625 L 61.636719 167.730469 L 63.867188 175.125 L 66.097656 181.8125 L 68.328125 187.863281 L 70.5625 193.339844 L 72.792969 198.296875 L 75.023438 202.78125 L 77.253906 206.839844 L 79.484375 210.507813 L 81.714844 213.832031 L 83.949219 216.835938 L 86.179688 219.554688 L 88.410156 222.015625 L 90.640625 224.242188 L 92.871094 226.257813 L 95.105469 228.082031 L 97.335938 229.730469 L 99.566406 231.222656 L 101.796875 232.574219 L 104.027344 233.796875 L 106.257813 234.902344 L 108.492188 235.902344 L 110.722656 236.808594 L 112.953125 237.625 L 115.183594 238.367188 L 117.414063 239.039063 L 119.644531 239.644531 L 121.878906 240.195313 L 124.109375 240.691406 L 126.339844 241.140625 L 128.570313 241.546875 L 130.800781 241.914063 L 133.03125 242.25 L 135.265625 242.550781 L 137.496094 242.824219 L 139.726563 243.070313 L 141.957031 243.292969 L 144.1875 243.496094 L 146.421875 243.675781 L 148.652344 243.84375 L 150.882813 243.992188 L 153.113281 244.128906 L 155.34375 244.25 L 157.574219 244.359375 L 159.808594 244.460938 L 162.039063 244.550781 L 164.269531 244.632813 L 166.5 244.707031 L 168.730469 244.777344 L 170.960938 244.835938 L 173.195313 244.890625 L 175.425781 244.941406 L 177.65625 244.988281 L 179.886719 245.027344 L 182.117188 245.0625 L 184.351563 245.097656 L 186.582031 245.128906 L 188.8125 245.15625 L 193.273438 245.203125 L 195.503906 245.222656 L 197.738281 245.242188 L 202.199219 245.273438 L 208.890625 245.308594 L 211.125 245.320313 L 220.046875 245.351563 L 222.28125 245.355469 L 224.511719 245.363281 L 233.433594 245.378906 L 235.667969 245.382813 L 240.128906 245.390625 L 242.359375 245.390625 L 244.589844 245.394531 L 246.820313 245.394531 L 249.054688 245.398438 L 251.285156 245.398438 L 253.515625 245.402344 L 257.976563 245.402344 L 260.210938 245.40625 L 269.132813 245.40625 L 271.363281 245.410156 \"/>\n",
       "<path style=\"fill:none;stroke-width:1.066978;stroke-linecap:butt;stroke-linejoin:round;stroke:rgb(100%,0%,0%);stroke-opacity:1;stroke-miterlimit:1;\" d=\"M 48.25 245.414063 L 50.480469 232.605469 L 52.710938 222.238281 L 54.941406 213.957031 L 57.175781 207.460938 L 59.40625 202.488281 L 61.636719 198.804688 L 63.867188 196.210938 L 66.097656 194.53125 L 68.328125 193.621094 L 70.5625 193.339844 L 72.792969 193.585938 L 75.023438 194.253906 L 77.253906 195.265625 L 79.484375 196.546875 L 81.714844 198.039063 L 83.949219 199.691406 L 86.179688 201.453125 L 88.410156 203.296875 L 90.640625 205.1875 L 92.871094 207.101563 L 95.105469 209.015625 L 97.335938 210.910156 L 99.566406 212.773438 L 101.796875 214.597656 L 104.027344 216.367188 L 106.257813 218.078125 L 108.492188 219.730469 L 110.722656 221.3125 L 112.953125 222.828125 L 115.183594 224.273438 L 117.414063 225.648438 L 119.644531 226.953125 L 121.878906 228.1875 L 124.109375 229.351563 L 126.339844 230.453125 L 128.570313 231.492188 L 130.800781 232.464844 L 133.03125 233.382813 L 135.265625 234.242188 L 137.496094 235.042969 L 139.726563 235.796875 L 141.957031 236.5 L 144.1875 237.15625 L 146.421875 237.769531 L 148.652344 238.339844 L 150.882813 238.871094 L 153.113281 239.363281 L 155.34375 239.824219 L 157.574219 240.25 L 159.808594 240.644531 L 162.039063 241.015625 L 164.269531 241.355469 L 166.5 241.671875 L 168.730469 241.960938 L 170.960938 242.234375 L 173.195313 242.484375 L 175.425781 242.714844 L 177.65625 242.929688 L 179.886719 243.128906 L 182.117188 243.308594 L 184.351563 243.476563 L 186.582031 243.632813 L 188.8125 243.777344 L 191.042969 243.910156 L 193.273438 244.03125 L 195.503906 244.144531 L 197.738281 244.246094 L 199.96875 244.34375 L 202.199219 244.429688 L 204.429688 244.511719 L 206.660156 244.585938 L 208.890625 244.652344 L 211.125 244.71875 L 215.585938 244.828125 L 220.046875 244.921875 L 222.28125 244.960938 L 224.511719 245 L 226.742188 245.035156 L 231.203125 245.097656 L 233.433594 245.121094 L 235.667969 245.148438 L 237.898438 245.171875 L 242.359375 245.210938 L 246.820313 245.242188 L 249.054688 245.257813 L 251.285156 245.269531 L 253.515625 245.285156 L 255.746094 245.292969 L 257.976563 245.304688 L 260.210938 245.3125 L 262.441406 245.324219 L 266.902344 245.339844 L 269.132813 245.34375 L 271.363281 245.351563 \"/>\n",
       "<path style=\"fill:none;stroke-width:1.066978;stroke-linecap:butt;stroke-linejoin:round;stroke:rgb(0%,0%,100%);stroke-opacity:1;stroke-miterlimit:1;\" d=\"M 48.25 245.414063 L 50.480469 245.394531 L 52.710938 245.261719 L 54.941406 244.941406 L 57.175781 244.402344 L 59.40625 243.625 L 61.636719 242.617188 L 63.867188 241.398438 L 66.097656 239.988281 L 68.328125 238.421875 L 70.5625 236.734375 L 72.792969 234.960938 L 75.023438 233.136719 L 77.253906 231.289063 L 79.484375 229.453125 L 81.714844 227.648438 L 83.949219 225.90625 L 86.179688 224.242188 L 88.410156 222.671875 L 90.640625 221.210938 L 92.871094 219.871094 L 95.105469 218.660156 L 97.335938 217.582031 L 99.566406 216.636719 L 101.796875 215.828125 L 104.027344 215.15625 L 106.257813 214.617188 L 108.492188 214.207031 L 110.722656 213.921875 L 112.953125 213.757813 L 115.183594 213.703125 L 117.414063 213.753906 L 119.644531 213.902344 L 121.878906 214.144531 L 124.109375 214.46875 L 126.339844 214.871094 L 128.570313 215.339844 L 130.800781 215.871094 L 133.03125 216.457031 L 135.265625 217.085938 L 137.496094 217.761719 L 139.726563 218.46875 L 141.957031 219.203125 L 144.1875 219.964844 L 146.421875 220.742188 L 148.652344 221.53125 L 150.882813 222.332031 L 157.574219 224.746094 L 159.808594 225.546875 L 162.039063 226.335938 L 164.269531 227.117188 L 166.5 227.882813 L 168.730469 228.636719 L 170.960938 229.375 L 173.195313 230.09375 L 175.425781 230.796875 L 177.65625 231.480469 L 179.886719 232.140625 L 182.117188 232.785156 L 184.351563 233.40625 L 186.582031 234.003906 L 188.8125 234.582031 L 191.042969 235.140625 L 193.273438 235.675781 L 195.503906 236.1875 L 197.738281 236.679688 L 199.96875 237.152344 L 202.199219 237.605469 L 204.429688 238.035156 L 206.660156 238.449219 L 208.890625 238.839844 L 211.125 239.214844 L 213.355469 239.570313 L 215.585938 239.910156 L 217.816406 240.230469 L 220.046875 240.539063 L 222.28125 240.828125 L 224.511719 241.101563 L 226.742188 241.363281 L 228.972656 241.609375 L 231.203125 241.84375 L 233.433594 242.0625 L 235.667969 242.269531 L 237.898438 242.46875 L 240.128906 242.652344 L 242.359375 242.828125 L 244.589844 242.992188 L 246.820313 243.148438 L 249.054688 243.292969 L 251.285156 243.429688 L 253.515625 243.558594 L 255.746094 243.679688 L 257.976563 243.792969 L 260.210938 243.902344 L 262.441406 244 L 264.671875 244.09375 L 266.902344 244.183594 L 269.132813 244.265625 L 271.363281 244.34375 \"/>\n",
       "</g>\n",
       "<g style=\"fill:rgb(30.196078%,30.196078%,30.196078%);fill-opacity:1;\">\n",
       "  <use xlink:href=\"#glyph0-0\" x=\"19.925781\" y=\"248.566406\"/>\n",
       "  <use xlink:href=\"#glyph0-1\" x=\"24.819922\" y=\"248.566406\"/>\n",
       "  <use xlink:href=\"#glyph0-0\" x=\"27.264844\" y=\"248.566406\"/>\n",
       "</g>\n",
       "<g style=\"fill:rgb(30.196078%,30.196078%,30.196078%);fill-opacity:1;\">\n",
       "  <use xlink:href=\"#glyph0-0\" x=\"19.925781\" y=\"191.945313\"/>\n",
       "  <use xlink:href=\"#glyph0-1\" x=\"24.819922\" y=\"191.945313\"/>\n",
       "  <use xlink:href=\"#glyph0-2\" x=\"27.264844\" y=\"191.945313\"/>\n",
       "</g>\n",
       "<g style=\"fill:rgb(30.196078%,30.196078%,30.196078%);fill-opacity:1;\">\n",
       "  <use xlink:href=\"#glyph0-0\" x=\"19.925781\" y=\"135.324219\"/>\n",
       "  <use xlink:href=\"#glyph0-1\" x=\"24.819922\" y=\"135.324219\"/>\n",
       "  <use xlink:href=\"#glyph0-3\" x=\"27.264844\" y=\"135.324219\"/>\n",
       "</g>\n",
       "<g style=\"fill:rgb(30.196078%,30.196078%,30.196078%);fill-opacity:1;\">\n",
       "  <use xlink:href=\"#glyph0-0\" x=\"19.925781\" y=\"78.703125\"/>\n",
       "  <use xlink:href=\"#glyph0-1\" x=\"24.819922\" y=\"78.703125\"/>\n",
       "  <use xlink:href=\"#glyph0-4\" x=\"27.264844\" y=\"78.703125\"/>\n",
       "</g>\n",
       "<g style=\"fill:rgb(30.196078%,30.196078%,30.196078%);fill-opacity:1;\">\n",
       "  <use xlink:href=\"#glyph0-0\" x=\"19.925781\" y=\"22.085938\"/>\n",
       "  <use xlink:href=\"#glyph0-1\" x=\"24.819922\" y=\"22.085938\"/>\n",
       "  <use xlink:href=\"#glyph0-5\" x=\"27.264844\" y=\"22.085938\"/>\n",
       "</g>\n",
       "<path style=\"fill:none;stroke-width:1.066978;stroke-linecap:butt;stroke-linejoin:round;stroke:rgb(20%,20%,20%);stroke-opacity:1;stroke-miterlimit:10;\" d=\"M 34.355469 245.414063 L 37.09375 245.414063 \"/>\n",
       "<path style=\"fill:none;stroke-width:1.066978;stroke-linecap:butt;stroke-linejoin:round;stroke:rgb(20%,20%,20%);stroke-opacity:1;stroke-miterlimit:10;\" d=\"M 34.355469 188.796875 L 37.09375 188.796875 \"/>\n",
       "<path style=\"fill:none;stroke-width:1.066978;stroke-linecap:butt;stroke-linejoin:round;stroke:rgb(20%,20%,20%);stroke-opacity:1;stroke-miterlimit:10;\" d=\"M 34.355469 132.175781 L 37.09375 132.175781 \"/>\n",
       "<path style=\"fill:none;stroke-width:1.066978;stroke-linecap:butt;stroke-linejoin:round;stroke:rgb(20%,20%,20%);stroke-opacity:1;stroke-miterlimit:10;\" d=\"M 34.355469 75.554688 L 37.09375 75.554688 \"/>\n",
       "<path style=\"fill:none;stroke-width:1.066978;stroke-linecap:butt;stroke-linejoin:round;stroke:rgb(20%,20%,20%);stroke-opacity:1;stroke-miterlimit:10;\" d=\"M 34.355469 18.933594 L 37.09375 18.933594 \"/>\n",
       "<path style=\"fill:none;stroke-width:1.066978;stroke-linecap:butt;stroke-linejoin:round;stroke:rgb(20%,20%,20%);stroke-opacity:1;stroke-miterlimit:10;\" d=\"M 48.25 259.582031 L 48.25 256.839844 \"/>\n",
       "<path style=\"fill:none;stroke-width:1.066978;stroke-linecap:butt;stroke-linejoin:round;stroke:rgb(20%,20%,20%);stroke-opacity:1;stroke-miterlimit:10;\" d=\"M 104.027344 259.582031 L 104.027344 256.839844 \"/>\n",
       "<path style=\"fill:none;stroke-width:1.066978;stroke-linecap:butt;stroke-linejoin:round;stroke:rgb(20%,20%,20%);stroke-opacity:1;stroke-miterlimit:10;\" d=\"M 159.808594 259.582031 L 159.808594 256.839844 \"/>\n",
       "<path style=\"fill:none;stroke-width:1.066978;stroke-linecap:butt;stroke-linejoin:round;stroke:rgb(20%,20%,20%);stroke-opacity:1;stroke-miterlimit:10;\" d=\"M 215.585938 259.582031 L 215.585938 256.839844 \"/>\n",
       "<path style=\"fill:none;stroke-width:1.066978;stroke-linecap:butt;stroke-linejoin:round;stroke:rgb(20%,20%,20%);stroke-opacity:1;stroke-miterlimit:10;\" d=\"M 271.363281 259.582031 L 271.363281 256.839844 \"/>\n",
       "<g style=\"fill:rgb(30.196078%,30.196078%,30.196078%);fill-opacity:1;\">\n",
       "  <use xlink:href=\"#glyph0-0\" x=\"45.804688\" y=\"268.070313\"/>\n",
       "</g>\n",
       "<g style=\"fill:rgb(30.196078%,30.196078%,30.196078%);fill-opacity:1;\">\n",
       "  <use xlink:href=\"#glyph0-6\" x=\"101.582031\" y=\"268.070313\"/>\n",
       "</g>\n",
       "<g style=\"fill:rgb(30.196078%,30.196078%,30.196078%);fill-opacity:1;\">\n",
       "  <use xlink:href=\"#glyph0-7\" x=\"154.914063\" y=\"268.070313\"/>\n",
       "  <use xlink:href=\"#glyph0-0\" x=\"159.808203\" y=\"268.070313\"/>\n",
       "</g>\n",
       "<g style=\"fill:rgb(30.196078%,30.196078%,30.196078%);fill-opacity:1;\">\n",
       "  <use xlink:href=\"#glyph0-7\" x=\"210.691406\" y=\"268.070313\"/>\n",
       "  <use xlink:href=\"#glyph0-6\" x=\"215.585547\" y=\"268.070313\"/>\n",
       "</g>\n",
       "<g style=\"fill:rgb(30.196078%,30.196078%,30.196078%);fill-opacity:1;\">\n",
       "  <use xlink:href=\"#glyph0-2\" x=\"266.46875\" y=\"268.070313\"/>\n",
       "  <use xlink:href=\"#glyph0-0\" x=\"271.362891\" y=\"268.070313\"/>\n",
       "</g>\n",
       "<g style=\"fill:rgb(0%,0%,0%);fill-opacity:1;\">\n",
       "  <use xlink:href=\"#glyph1-0\" x=\"157.058594\" y=\"280.328125\"/>\n",
       "</g>\n",
       "<g style=\"fill:rgb(0%,0%,0%);fill-opacity:1;\">\n",
       "  <use xlink:href=\"#glyph2-0\" x=\"15.546875\" y=\"133.910156\"/>\n",
       "</g>\n",
       "</g>\n",
       "</svg>\n"
      ],
      "text/plain": [
       "plot without title"
      ]
     },
     "metadata": {
      "image/svg+xml": {
       "isolated": true
      }
     },
     "output_type": "display_data"
    }
   ],
   "source": [
    "ggplot(data.frame(x = c(0, 20)), aes(x)) + \n",
    "    stat_function(fun = dchisq, args = list(df = 1)) + \n",
    "    stat_function(fun = dchisq, args = list(df = 2), col = \"green\") + \n",
    "    stat_function(fun = dchisq, args = list(df = 4), col = \"red\") + \n",
    "    stat_function(fun = dchisq, args = list(df = 8), col = \"blue\")"
   ]
  },
  {
   "cell_type": "markdown",
   "metadata": {},
   "source": [
    "観測度数"
   ]
  },
  {
   "cell_type": "code",
   "execution_count": 27,
   "metadata": {
    "collapsed": true
   },
   "outputs": [],
   "source": [
    "library(pipeR)"
   ]
  },
  {
   "cell_type": "code",
   "execution_count": 28,
   "metadata": {
    "collapsed": false
   },
   "outputs": [
    {
     "data": {
      "text/plain": [
       "      stat\n",
       "math   嫌い 好き\n",
       "  嫌い   10    4\n",
       "  好き    2    4"
      ]
     },
     "metadata": {},
     "output_type": "display_data"
    }
   ],
   "source": [
    "m.o <- table(math, stat)\n",
    "m.o"
   ]
  },
  {
   "cell_type": "code",
   "execution_count": 29,
   "metadata": {
    "collapsed": false
   },
   "outputs": [
    {
     "data": {
      "text/html": [
       "<dl class=dl-horizontal>\n",
       "\t<dt>嫌い</dt>\n",
       "\t\t<dd>14</dd>\n",
       "\t<dt>好き</dt>\n",
       "\t\t<dd>6</dd>\n",
       "</dl>\n"
      ],
      "text/latex": [
       "\\begin{description*}\n",
       "\\item[嫌い] 14\n",
       "\\item[好き] 6\n",
       "\\end{description*}\n"
      ],
      "text/markdown": [
       "嫌い\n",
       ":   14好き\n",
       ":   6\n",
       "\n"
      ],
      "text/plain": [
       "嫌い 好き \n",
       "  14    6 "
      ]
     },
     "metadata": {},
     "output_type": "display_data"
    }
   ],
   "source": [
    "m.o %>>% rowSums"
   ]
  },
  {
   "cell_type": "code",
   "execution_count": 30,
   "metadata": {
    "collapsed": false
   },
   "outputs": [
    {
     "data": {
      "text/html": [
       "<dl class=dl-horizontal>\n",
       "\t<dt>嫌い</dt>\n",
       "\t\t<dd>12</dd>\n",
       "\t<dt>好き</dt>\n",
       "\t\t<dd>8</dd>\n",
       "</dl>\n"
      ],
      "text/latex": [
       "\\begin{description*}\n",
       "\\item[嫌い] 12\n",
       "\\item[好き] 8\n",
       "\\end{description*}\n"
      ],
      "text/markdown": [
       "嫌い\n",
       ":   12好き\n",
       ":   8\n",
       "\n"
      ],
      "text/plain": [
       "嫌い 好き \n",
       "  12    8 "
      ]
     },
     "metadata": {},
     "output_type": "display_data"
    }
   ],
   "source": [
    "m.o %>>% colSums"
   ]
  },
  {
   "cell_type": "code",
   "execution_count": 31,
   "metadata": {
    "collapsed": false
   },
   "outputs": [
    {
     "data": {
      "text/html": [
       "20"
      ],
      "text/latex": [
       "20"
      ],
      "text/markdown": [
       "20"
      ],
      "text/plain": [
       "[1] 20"
      ]
     },
     "metadata": {},
     "output_type": "display_data"
    }
   ],
   "source": [
    "m.o %>>% sum"
   ]
  },
  {
   "cell_type": "markdown",
   "metadata": {},
   "source": [
    "期待度数"
   ]
  },
  {
   "cell_type": "code",
   "execution_count": 32,
   "metadata": {
    "collapsed": false
   },
   "outputs": [
    {
     "data": {
      "text/html": [
       "<table>\n",
       "<thead><tr><th></th><th scope=col>嫌い</th><th scope=col>好き</th></tr></thead>\n",
       "<tbody>\n",
       "\t<tr><th scope=row>m.o.c</th><td>8.4</td><td>5.6</td></tr>\n",
       "\t<tr><th scope=row>m.o.c</th><td>3.6</td><td>2.4</td></tr>\n",
       "</tbody>\n",
       "</table>\n"
      ],
      "text/latex": [
       "\\begin{tabular}{r|ll}\n",
       "  & 嫌い & 好き\\\\\n",
       "\\hline\n",
       "\tm.o.c & 8.4 & 5.6\\\\\n",
       "\tm.o.c & 3.6 & 2.4\\\\\n",
       "\\end{tabular}\n"
      ],
      "text/markdown": [
       "1. 8.4\n",
       "2. 3.6\n",
       "3. 5.6\n",
       "4. 2.4\n",
       "\n",
       "\n"
      ],
      "text/plain": [
       "      嫌い 好き\n",
       "m.o.c  8.4  5.6\n",
       "m.o.c  3.6  2.4"
      ]
     },
     "metadata": {},
     "output_type": "display_data"
    }
   ],
   "source": [
    "m.o.c <- colSums(m.o)\n",
    "m.e <- rbind(m.o.c, m.o.c) * rowSums(m.o) / sum(m.o)\n",
    "m.e"
   ]
  },
  {
   "cell_type": "code",
   "execution_count": 33,
   "metadata": {
    "collapsed": false
   },
   "outputs": [
    {
     "data": {
      "text/html": [
       "2.53968253968254"
      ],
      "text/latex": [
       "2.53968253968254"
      ],
      "text/markdown": [
       "2.53968253968254"
      ],
      "text/plain": [
       "[1] 2.539683"
      ]
     },
     "metadata": {},
     "output_type": "display_data"
    }
   ],
   "source": [
    "chi2 <- sum((m.o - m.e)^2 / m.e)\n",
    "chi2"
   ]
  },
  {
   "cell_type": "markdown",
   "metadata": {},
   "source": [
    "棄却域は，"
   ]
  },
  {
   "cell_type": "code",
   "execution_count": 34,
   "metadata": {
    "collapsed": false
   },
   "outputs": [
    {
     "data": {
      "text/html": [
       "3.84145882069413"
      ],
      "text/latex": [
       "3.84145882069413"
      ],
      "text/markdown": [
       "3.84145882069413"
      ],
      "text/plain": [
       "[1] 3.841459"
      ]
     },
     "metadata": {},
     "output_type": "display_data"
    }
   ],
   "source": [
    "n <- 2\n",
    "qchisq(0.05, df = (n - 1) * (n - 1), lower.tail = FALSE)"
   ]
  },
  {
   "cell_type": "code",
   "execution_count": 35,
   "metadata": {
    "collapsed": false
   },
   "outputs": [
    {
     "data": {
      "image/png": "[encoded data removed]",
      "image/svg+xml": [
       "<?xml version=\"1.0\" encoding=\"UTF-8\"?>\n",
       "<svg xmlns=\"http://www.w3.org/2000/svg\" xmlns:xlink=\"http://www.w3.org/1999/xlink\" width=\"288pt\" height=\"288pt\" viewBox=\"0 0 288 288\" version=\"1.1\">\n",
       "<defs>\n",
       "<g>\n",
       "<symbol overflow=\"visible\" id=\"glyph0-0\">\n",
       "<path style=\"stroke:none;\" d=\"M 0.367188 -3.105469 C 0.363281 -3.847656 0.4375 -4.445313 0.59375 -4.902344 C 0.742188 -5.355469 0.972656 -5.707031 1.277344 -5.953125 C 1.578125 -6.199219 1.957031 -6.320313 2.417969 -6.324219 C 2.753906 -6.320313 3.050781 -6.253906 3.308594 -6.121094 C 3.5625 -5.984375 3.773438 -5.789063 3.9375 -5.53125 C 4.101563 -5.273438 4.230469 -4.960938 4.328125 -4.59375 C 4.421875 -4.226563 4.46875 -3.730469 4.472656 -3.105469 C 4.46875 -2.367188 4.394531 -1.769531 4.242188 -1.316406 C 4.089844 -0.859375 3.863281 -0.507813 3.5625 -0.261719 C 3.257813 -0.015625 2.875 0.105469 2.417969 0.109375 C 1.808594 0.105469 1.332031 -0.109375 0.988281 -0.546875 C 0.570313 -1.066406 0.363281 -1.921875 0.367188 -3.105469 Z M 1.160156 -3.105469 C 1.160156 -2.070313 1.28125 -1.378906 1.523438 -1.039063 C 1.765625 -0.695313 2.0625 -0.527344 2.417969 -0.527344 C 2.773438 -0.527344 3.074219 -0.699219 3.316406 -1.042969 C 3.558594 -1.386719 3.679688 -2.074219 3.679688 -3.105469 C 3.679688 -4.144531 3.558594 -4.832031 3.316406 -5.171875 C 3.074219 -5.511719 2.769531 -5.683594 2.410156 -5.683594 C 2.050781 -5.683594 1.769531 -5.53125 1.558594 -5.234375 C 1.292969 -4.84375 1.160156 -4.136719 1.160156 -3.105469 Z M 1.160156 -3.105469 \"/>\n",
       "</symbol>\n",
       "<symbol overflow=\"visible\" id=\"glyph0-1\">\n",
       "<path style=\"stroke:none;\" d=\"M 0.800781 0 L 0.800781 -0.882813 L 1.679688 -0.882813 L 1.679688 0 Z M 0.800781 0 \"/>\n",
       "</symbol>\n",
       "<symbol overflow=\"visible\" id=\"glyph0-2\">\n",
       "<path style=\"stroke:none;\" d=\"M 0.367188 -1.648438 L 1.175781 -1.71875 C 1.234375 -1.320313 1.375 -1.023438 1.59375 -0.824219 C 1.8125 -0.625 2.078125 -0.527344 2.390625 -0.527344 C 2.761719 -0.527344 3.074219 -0.667969 3.335938 -0.949219 C 3.589844 -1.230469 3.71875 -1.601563 3.722656 -2.066406 C 3.71875 -2.503906 3.59375 -2.851563 3.347656 -3.109375 C 3.097656 -3.363281 2.773438 -3.492188 2.375 -3.492188 C 2.125 -3.492188 1.902344 -3.433594 1.703125 -3.320313 C 1.5 -3.207031 1.34375 -3.0625 1.230469 -2.882813 L 0.503906 -2.976563 L 1.113281 -6.214844 L 4.246094 -6.214844 L 4.246094 -5.472656 L 1.730469 -5.472656 L 1.390625 -3.78125 C 1.765625 -4.039063 2.164063 -4.171875 2.582031 -4.175781 C 3.128906 -4.171875 3.59375 -3.980469 3.972656 -3.605469 C 4.351563 -3.222656 4.539063 -2.734375 4.542969 -2.136719 C 4.539063 -1.5625 4.375 -1.070313 4.042969 -0.65625 C 3.636719 -0.148438 3.085938 0.105469 2.390625 0.109375 C 1.816406 0.105469 1.347656 -0.0507813 0.984375 -0.371094 C 0.621094 -0.691406 0.414063 -1.117188 0.367188 -1.648438 Z M 0.367188 -1.648438 \"/>\n",
       "</symbol>\n",
       "<symbol overflow=\"visible\" id=\"glyph0-3\">\n",
       "<path style=\"stroke:none;\" d=\"M 3.277344 0 L 2.503906 0 L 2.503906 -4.929688 C 2.316406 -4.75 2.074219 -4.574219 1.773438 -4.394531 C 1.46875 -4.214844 1.195313 -4.082031 0.957031 -3.996094 L 0.957031 -4.742188 C 1.386719 -4.941406 1.765625 -5.1875 2.089844 -5.480469 C 2.414063 -5.769531 2.644531 -6.050781 2.78125 -6.324219 L 3.277344 -6.324219 Z M 3.277344 0 \"/>\n",
       "</symbol>\n",
       "<symbol overflow=\"visible\" id=\"glyph0-4\">\n",
       "<path style=\"stroke:none;\" d=\"M 4.429688 -0.742188 L 4.429688 0 L 0.265625 0 C 0.257813 -0.1875 0.289063 -0.367188 0.355469 -0.539063 C 0.460938 -0.820313 0.628906 -1.097656 0.863281 -1.375 C 1.09375 -1.648438 1.433594 -1.964844 1.878906 -2.328125 C 2.5625 -2.886719 3.023438 -3.332031 3.265625 -3.664063 C 3.5 -3.988281 3.621094 -4.300781 3.625 -4.59375 C 3.621094 -4.898438 3.511719 -5.15625 3.296875 -5.367188 C 3.074219 -5.578125 2.789063 -5.683594 2.441406 -5.683594 C 2.066406 -5.683594 1.769531 -5.570313 1.546875 -5.347656 C 1.320313 -5.125 1.207031 -4.816406 1.207031 -4.421875 L 0.414063 -4.503906 C 0.464844 -5.09375 0.667969 -5.542969 1.027344 -5.855469 C 1.378906 -6.164063 1.855469 -6.320313 2.457031 -6.324219 C 3.058594 -6.320313 3.539063 -6.152344 3.890625 -5.820313 C 4.242188 -5.484375 4.417969 -5.070313 4.421875 -4.578125 C 4.417969 -4.320313 4.367188 -4.074219 4.265625 -3.832031 C 4.164063 -3.589844 3.992188 -3.332031 3.753906 -3.0625 C 3.511719 -2.792969 3.113281 -2.425781 2.5625 -1.957031 C 2.09375 -1.566406 1.796875 -1.300781 1.664063 -1.160156 C 1.53125 -1.019531 1.421875 -0.878906 1.339844 -0.742188 Z M 4.429688 -0.742188 \"/>\n",
       "</symbol>\n",
       "<symbol overflow=\"visible\" id=\"glyph0-5\">\n",
       "<path style=\"stroke:none;\" d=\"M 0.371094 -1.664063 L 1.144531 -1.765625 C 1.230469 -1.324219 1.382813 -1.007813 1.597656 -0.816406 C 1.808594 -0.621094 2.066406 -0.527344 2.375 -0.527344 C 2.734375 -0.527344 3.042969 -0.652344 3.296875 -0.90625 C 3.546875 -1.15625 3.671875 -1.46875 3.675781 -1.84375 C 3.671875 -2.195313 3.554688 -2.488281 3.324219 -2.71875 C 3.089844 -2.949219 2.796875 -3.0625 2.441406 -3.066406 C 2.292969 -3.0625 2.109375 -3.035156 1.894531 -2.980469 L 1.980469 -3.660156 C 2.03125 -3.652344 2.070313 -3.648438 2.105469 -3.652344 C 2.433594 -3.648438 2.730469 -3.734375 2.996094 -3.910156 C 3.253906 -4.078125 3.386719 -4.34375 3.390625 -4.703125 C 3.386719 -4.984375 3.289063 -5.21875 3.101563 -5.40625 C 2.90625 -5.589844 2.660156 -5.683594 2.359375 -5.6875 C 2.054688 -5.683594 1.804688 -5.589844 1.605469 -5.402344 C 1.402344 -5.214844 1.273438 -4.929688 1.21875 -4.554688 L 0.445313 -4.691406 C 0.539063 -5.207031 0.753906 -5.609375 1.089844 -5.894531 C 1.425781 -6.179688 1.84375 -6.320313 2.34375 -6.324219 C 2.6875 -6.320313 3.003906 -6.246094 3.292969 -6.101563 C 3.582031 -5.953125 3.800781 -5.753906 3.953125 -5.5 C 4.105469 -5.242188 4.183594 -4.972656 4.183594 -4.6875 C 4.183594 -4.414063 4.109375 -4.164063 3.964844 -3.945313 C 3.816406 -3.71875 3.601563 -3.542969 3.316406 -3.410156 C 3.6875 -3.324219 3.976563 -3.144531 4.183594 -2.875 C 4.390625 -2.601563 4.492188 -2.261719 4.496094 -1.859375 C 4.492188 -1.304688 4.292969 -0.839844 3.894531 -0.460938 C 3.492188 -0.078125 2.984375 0.109375 2.371094 0.113281 C 1.816406 0.109375 1.355469 -0.0507813 0.992188 -0.378906 C 0.625 -0.707031 0.417969 -1.136719 0.371094 -1.664063 Z M 0.371094 -1.664063 \"/>\n",
       "</symbol>\n",
       "<symbol overflow=\"visible\" id=\"glyph0-6\">\n",
       "<path style=\"stroke:none;\" d=\"M 2.84375 0 L 2.84375 -1.507813 L 0.113281 -1.507813 L 0.113281 -2.21875 L 2.988281 -6.300781 L 3.617188 -6.300781 L 3.617188 -2.21875 L 4.46875 -2.21875 L 4.46875 -1.507813 L 3.617188 -1.507813 L 3.617188 0 Z M 2.84375 -2.21875 L 2.84375 -5.058594 L 0.871094 -2.21875 Z M 2.84375 -2.21875 \"/>\n",
       "</symbol>\n",
       "<symbol overflow=\"visible\" id=\"glyph0-7\">\n",
       "<path style=\"stroke:none;\" d=\"M 4.378906 -4.757813 L 3.609375 -4.695313 C 3.539063 -4.996094 3.441406 -5.21875 3.316406 -5.359375 C 3.105469 -5.574219 2.847656 -5.683594 2.542969 -5.6875 C 2.296875 -5.683594 2.078125 -5.617188 1.894531 -5.484375 C 1.648438 -5.304688 1.457031 -5.042969 1.320313 -4.703125 C 1.175781 -4.363281 1.105469 -3.878906 1.101563 -3.25 C 1.285156 -3.53125 1.511719 -3.742188 1.78125 -3.878906 C 2.050781 -4.015625 2.332031 -4.082031 2.628906 -4.085938 C 3.140625 -4.082031 3.578125 -3.894531 3.945313 -3.515625 C 4.304688 -3.136719 4.488281 -2.644531 4.492188 -2.046875 C 4.488281 -1.648438 4.402344 -1.28125 4.234375 -0.941406 C 4.0625 -0.601563 3.828125 -0.339844 3.53125 -0.160156 C 3.230469 0.0195313 2.894531 0.105469 2.519531 0.109375 C 1.871094 0.105469 1.34375 -0.128906 0.941406 -0.601563 C 0.53125 -1.074219 0.328125 -1.855469 0.332031 -2.949219 C 0.328125 -4.160156 0.550781 -5.046875 1.003906 -5.601563 C 1.394531 -6.082031 1.925781 -6.320313 2.589844 -6.324219 C 3.085938 -6.320313 3.492188 -6.183594 3.808594 -5.90625 C 4.125 -5.628906 4.3125 -5.246094 4.378906 -4.757813 Z M 1.21875 -2.039063 C 1.21875 -1.773438 1.273438 -1.515625 1.386719 -1.273438 C 1.5 -1.027344 1.660156 -0.84375 1.863281 -0.71875 C 2.066406 -0.589844 2.277344 -0.527344 2.503906 -0.527344 C 2.828125 -0.527344 3.109375 -0.65625 3.347656 -0.921875 C 3.578125 -1.183594 3.695313 -1.542969 3.699219 -2 C 3.695313 -2.429688 3.582031 -2.773438 3.351563 -3.027344 C 3.117188 -3.273438 2.824219 -3.398438 2.476563 -3.402344 C 2.121094 -3.398438 1.824219 -3.273438 1.582031 -3.027344 C 1.339844 -2.773438 1.21875 -2.445313 1.21875 -2.039063 Z M 1.21875 -2.039063 \"/>\n",
       "</symbol>\n",
       "<symbol overflow=\"visible\" id=\"glyph1-0\">\n",
       "<path style=\"stroke:none;\" d=\"M 0.0820313 0 L 2.164063 -2.964844 L 0.234375 -5.703125 L 1.445313 -5.703125 L 2.320313 -4.367188 C 2.484375 -4.109375 2.617188 -3.898438 2.71875 -3.726563 C 2.875 -3.960938 3.019531 -4.167969 3.152344 -4.355469 L 4.113281 -5.703125 L 5.269531 -5.703125 L 3.296875 -3.019531 L 5.417969 0 L 4.234375 0 L 3.0625 -1.773438 L 2.75 -2.25 L 1.25 0 Z M 0.0820313 0 \"/>\n",
       "</symbol>\n",
       "<symbol overflow=\"visible\" id=\"glyph2-0\">\n",
       "<path style=\"stroke:none;\" d=\"M 2.195313 -0.683594 L 1.289063 -0.574219 C 1.34375 -0.785156 1.371094 -0.96875 1.375 -1.128906 C 1.371094 -1.339844 1.335938 -1.511719 1.265625 -1.640625 C 1.195313 -1.769531 1.09375 -1.875 0.96875 -1.960938 C 0.867188 -2.019531 0.628906 -2.117188 0.246094 -2.257813 C 0.191406 -2.269531 0.113281 -2.300781 0.0117188 -2.34375 L -5.703125 -0.175781 L -5.703125 -1.21875 L -2.402344 -2.40625 C -1.980469 -2.558594 -1.539063 -2.695313 -1.078125 -2.820313 C -1.523438 -2.925781 -1.957031 -3.058594 -2.378906 -3.21875 L -5.703125 -4.4375 L -5.703125 -5.402344 L 0.0976563 -3.234375 C 0.71875 -3 1.148438 -2.816406 1.390625 -2.691406 C 1.707031 -2.515625 1.941406 -2.320313 2.09375 -2.097656 C 2.238281 -1.875 2.3125 -1.609375 2.316406 -1.304688 C 2.3125 -1.117188 2.273438 -0.910156 2.195313 -0.683594 Z M 2.195313 -0.683594 \"/>\n",
       "</symbol>\n",
       "</g>\n",
       "<clipPath id=\"clip1\">\n",
       "  <path d=\"M 37.09375 5.480469 L 283.519531 5.480469 L 283.519531 257.839844 L 37.09375 257.839844 Z M 37.09375 5.480469 \"/>\n",
       "</clipPath>\n",
       "</defs>\n",
       "<g id=\"surface26\">\n",
       "<rect x=\"0\" y=\"0\" width=\"288\" height=\"288\" style=\"fill:rgb(100%,100%,100%);fill-opacity:1;stroke:none;\"/>\n",
       "<rect x=\"0\" y=\"0\" width=\"288\" height=\"288\" style=\"fill:rgb(100%,100%,100%);fill-opacity:1;stroke:none;\"/>\n",
       "<path style=\"fill:none;stroke-width:1.066978;stroke-linecap:round;stroke-linejoin:round;stroke:rgb(100%,100%,100%);stroke-opacity:1;stroke-miterlimit:10;\" d=\"M 0 288 L 288 288 L 288 0 L 0 0 Z M 0 288 \"/>\n",
       "<g clip-path=\"url(#clip1)\" clip-rule=\"nonzero\">\n",
       "<path style=\" stroke:none;fill-rule:nonzero;fill:rgb(92.156863%,92.156863%,92.156863%);fill-opacity:1;\" d=\"M 37.09375 256.839844 L 282.519531 256.839844 L 282.519531 5.480469 L 37.09375 5.480469 Z M 37.09375 256.839844 \"/>\n",
       "<path style=\"fill:none;stroke-width:0.533489;stroke-linecap:butt;stroke-linejoin:round;stroke:rgb(100%,100%,100%);stroke-opacity:1;stroke-miterlimit:10;\" d=\"M 37.09375 210.261719 L 282.519531 210.261719 \"/>\n",
       "<path style=\"fill:none;stroke-width:0.533489;stroke-linecap:butt;stroke-linejoin:round;stroke:rgb(100%,100%,100%);stroke-opacity:1;stroke-miterlimit:10;\" d=\"M 37.09375 137.601563 L 282.519531 137.601563 \"/>\n",
       "<path style=\"fill:none;stroke-width:0.533489;stroke-linecap:butt;stroke-linejoin:round;stroke:rgb(100%,100%,100%);stroke-opacity:1;stroke-miterlimit:10;\" d=\"M 37.09375 64.941406 L 282.519531 64.941406 \"/>\n",
       "<path style=\"fill:none;stroke-width:0.533489;stroke-linecap:butt;stroke-linejoin:round;stroke:rgb(100%,100%,100%);stroke-opacity:1;stroke-miterlimit:10;\" d=\"M 66.84375 256.839844 L 66.84375 5.480469 \"/>\n",
       "<path style=\"fill:none;stroke-width:0.533489;stroke-linecap:butt;stroke-linejoin:round;stroke:rgb(100%,100%,100%);stroke-opacity:1;stroke-miterlimit:10;\" d=\"M 104.027344 256.839844 L 104.027344 5.480469 \"/>\n",
       "<path style=\"fill:none;stroke-width:0.533489;stroke-linecap:butt;stroke-linejoin:round;stroke:rgb(100%,100%,100%);stroke-opacity:1;stroke-miterlimit:10;\" d=\"M 141.214844 256.839844 L 141.214844 5.480469 \"/>\n",
       "<path style=\"fill:none;stroke-width:0.533489;stroke-linecap:butt;stroke-linejoin:round;stroke:rgb(100%,100%,100%);stroke-opacity:1;stroke-miterlimit:10;\" d=\"M 178.398438 256.839844 L 178.398438 5.480469 \"/>\n",
       "<path style=\"fill:none;stroke-width:0.533489;stroke-linecap:butt;stroke-linejoin:round;stroke:rgb(100%,100%,100%);stroke-opacity:1;stroke-miterlimit:10;\" d=\"M 215.585938 256.839844 L 215.585938 5.480469 \"/>\n",
       "<path style=\"fill:none;stroke-width:0.533489;stroke-linecap:butt;stroke-linejoin:round;stroke:rgb(100%,100%,100%);stroke-opacity:1;stroke-miterlimit:10;\" d=\"M 252.773438 256.839844 L 252.773438 5.480469 \"/>\n",
       "<path style=\"fill:none;stroke-width:1.066978;stroke-linecap:butt;stroke-linejoin:round;stroke:rgb(100%,100%,100%);stroke-opacity:1;stroke-miterlimit:10;\" d=\"M 37.09375 246.59375 L 282.519531 246.59375 \"/>\n",
       "<path style=\"fill:none;stroke-width:1.066978;stroke-linecap:butt;stroke-linejoin:round;stroke:rgb(100%,100%,100%);stroke-opacity:1;stroke-miterlimit:10;\" d=\"M 37.09375 173.933594 L 282.519531 173.933594 \"/>\n",
       "<path style=\"fill:none;stroke-width:1.066978;stroke-linecap:butt;stroke-linejoin:round;stroke:rgb(100%,100%,100%);stroke-opacity:1;stroke-miterlimit:10;\" d=\"M 37.09375 101.269531 L 282.519531 101.269531 \"/>\n",
       "<path style=\"fill:none;stroke-width:1.066978;stroke-linecap:butt;stroke-linejoin:round;stroke:rgb(100%,100%,100%);stroke-opacity:1;stroke-miterlimit:10;\" d=\"M 37.09375 28.609375 L 282.519531 28.609375 \"/>\n",
       "<path style=\"fill:none;stroke-width:1.066978;stroke-linecap:butt;stroke-linejoin:round;stroke:rgb(100%,100%,100%);stroke-opacity:1;stroke-miterlimit:10;\" d=\"M 48.25 256.839844 L 48.25 5.480469 \"/>\n",
       "<path style=\"fill:none;stroke-width:1.066978;stroke-linecap:butt;stroke-linejoin:round;stroke:rgb(100%,100%,100%);stroke-opacity:1;stroke-miterlimit:10;\" d=\"M 85.433594 256.839844 L 85.433594 5.480469 \"/>\n",
       "<path style=\"fill:none;stroke-width:1.066978;stroke-linecap:butt;stroke-linejoin:round;stroke:rgb(100%,100%,100%);stroke-opacity:1;stroke-miterlimit:10;\" d=\"M 122.621094 256.839844 L 122.621094 5.480469 \"/>\n",
       "<path style=\"fill:none;stroke-width:1.066978;stroke-linecap:butt;stroke-linejoin:round;stroke:rgb(100%,100%,100%);stroke-opacity:1;stroke-miterlimit:10;\" d=\"M 159.808594 256.839844 L 159.808594 5.480469 \"/>\n",
       "<path style=\"fill:none;stroke-width:1.066978;stroke-linecap:butt;stroke-linejoin:round;stroke:rgb(100%,100%,100%);stroke-opacity:1;stroke-miterlimit:10;\" d=\"M 196.992188 256.839844 L 196.992188 5.480469 \"/>\n",
       "<path style=\"fill:none;stroke-width:1.066978;stroke-linecap:butt;stroke-linejoin:round;stroke:rgb(100%,100%,100%);stroke-opacity:1;stroke-miterlimit:10;\" d=\"M 234.179688 256.839844 L 234.179688 5.480469 \"/>\n",
       "<path style=\"fill:none;stroke-width:1.066978;stroke-linecap:butt;stroke-linejoin:round;stroke:rgb(100%,100%,100%);stroke-opacity:1;stroke-miterlimit:10;\" d=\"M 271.363281 256.839844 L 271.363281 5.480469 \"/>\n",
       "<path style=\"fill:none;stroke-width:1.066978;stroke-linecap:butt;stroke-linejoin:round;stroke:rgb(100%,100%,100%);stroke-opacity:1;stroke-miterlimit:10;\" d=\"M 85.433594 256.839844 L 85.433594 5.480469 \"/>\n",
       "<path style=\"fill:none;stroke-width:1.066978;stroke-linecap:butt;stroke-linejoin:round;stroke:rgb(0%,0%,0%);stroke-opacity:1;stroke-miterlimit:1;\" d=\"M 48.25 5.480469 L 50.480469 16.90625 L 52.710938 88.980469 L 54.941406 121.707031 L 57.175781 141.632813 L 59.40625 155.488281 L 61.636719 165.886719 L 63.867188 174.082031 L 66.097656 180.769531 L 68.328125 186.367188 L 70.5625 191.144531 L 72.792969 195.289063 L 75.023438 198.925781 L 77.253906 202.148438 L 79.484375 205.03125 L 81.714844 207.628906 L 83.949219 209.980469 L 86.179688 212.121094 L 88.410156 214.082031 L 90.640625 215.886719 L 92.871094 217.546875 L 95.105469 219.085938 L 97.335938 220.511719 L 99.566406 221.839844 L 101.796875 223.078125 L 104.027344 224.234375 L 106.257813 225.316406 L 108.492188 226.332031 L 110.722656 227.285156 L 112.953125 228.179688 L 115.183594 229.023438 L 117.414063 229.820313 L 119.644531 230.574219 L 121.878906 231.285156 L 124.109375 231.957031 L 126.339844 232.59375 L 128.570313 233.195313 L 130.800781 233.769531 L 133.03125 234.3125 L 135.265625 234.832031 L 137.496094 235.320313 L 139.726563 235.789063 L 141.957031 236.234375 L 144.1875 236.65625 L 146.421875 237.0625 L 148.652344 237.445313 L 150.882813 237.8125 L 153.113281 238.164063 L 155.34375 238.5 L 157.574219 238.820313 L 159.808594 239.125 L 162.039063 239.417969 L 164.269531 239.695313 L 166.5 239.964844 L 168.730469 240.21875 L 170.960938 240.464844 L 173.195313 240.699219 L 175.425781 240.921875 L 177.65625 241.136719 L 179.886719 241.34375 L 182.117188 241.542969 L 184.351563 241.730469 L 186.582031 241.914063 L 188.8125 242.089844 L 191.042969 242.257813 L 193.273438 242.417969 L 195.503906 242.570313 L 197.738281 242.71875 L 199.96875 242.859375 L 202.199219 242.996094 L 204.429688 243.128906 L 206.660156 243.253906 L 208.890625 243.375 L 211.125 243.492188 L 213.355469 243.605469 L 217.816406 243.816406 L 220.046875 243.914063 L 222.28125 244.011719 L 224.511719 244.105469 L 228.972656 244.277344 L 231.203125 244.359375 L 233.433594 244.4375 L 235.667969 244.515625 L 237.898438 244.589844 L 240.128906 244.660156 L 244.589844 244.792969 L 246.820313 244.855469 L 249.054688 244.917969 L 251.285156 244.976563 L 255.746094 245.085938 L 257.976563 245.136719 L 260.210938 245.1875 L 262.441406 245.238281 L 264.671875 245.285156 L 271.363281 245.414063 \"/>\n",
       "<path style=\"fill:none;stroke-width:1.066978;stroke-linecap:butt;stroke-linejoin:round;stroke:rgb(0%,0%,0%);stroke-opacity:1;stroke-miterlimit:10;\" d=\"M 191.097656 256.839844 L 191.097656 5.480469 \"/>\n",
       "</g>\n",
       "<g style=\"fill:rgb(30.196078%,30.196078%,30.196078%);fill-opacity:1;\">\n",
       "  <use xlink:href=\"#glyph0-0\" x=\"19.925781\" y=\"249.742188\"/>\n",
       "  <use xlink:href=\"#glyph0-1\" x=\"24.819922\" y=\"249.742188\"/>\n",
       "  <use xlink:href=\"#glyph0-0\" x=\"27.264844\" y=\"249.742188\"/>\n",
       "</g>\n",
       "<g style=\"fill:rgb(30.196078%,30.196078%,30.196078%);fill-opacity:1;\">\n",
       "  <use xlink:href=\"#glyph0-0\" x=\"19.925781\" y=\"177.082031\"/>\n",
       "  <use xlink:href=\"#glyph0-1\" x=\"24.819922\" y=\"177.082031\"/>\n",
       "  <use xlink:href=\"#glyph0-2\" x=\"27.264844\" y=\"177.082031\"/>\n",
       "</g>\n",
       "<g style=\"fill:rgb(30.196078%,30.196078%,30.196078%);fill-opacity:1;\">\n",
       "  <use xlink:href=\"#glyph0-3\" x=\"19.925781\" y=\"104.421875\"/>\n",
       "  <use xlink:href=\"#glyph0-1\" x=\"24.819922\" y=\"104.421875\"/>\n",
       "  <use xlink:href=\"#glyph0-0\" x=\"27.264844\" y=\"104.421875\"/>\n",
       "</g>\n",
       "<g style=\"fill:rgb(30.196078%,30.196078%,30.196078%);fill-opacity:1;\">\n",
       "  <use xlink:href=\"#glyph0-3\" x=\"19.925781\" y=\"31.757813\"/>\n",
       "  <use xlink:href=\"#glyph0-1\" x=\"24.819922\" y=\"31.757813\"/>\n",
       "  <use xlink:href=\"#glyph0-2\" x=\"27.264844\" y=\"31.757813\"/>\n",
       "</g>\n",
       "<path style=\"fill:none;stroke-width:1.066978;stroke-linecap:butt;stroke-linejoin:round;stroke:rgb(20%,20%,20%);stroke-opacity:1;stroke-miterlimit:10;\" d=\"M 34.355469 246.59375 L 37.09375 246.59375 \"/>\n",
       "<path style=\"fill:none;stroke-width:1.066978;stroke-linecap:butt;stroke-linejoin:round;stroke:rgb(20%,20%,20%);stroke-opacity:1;stroke-miterlimit:10;\" d=\"M 34.355469 173.933594 L 37.09375 173.933594 \"/>\n",
       "<path style=\"fill:none;stroke-width:1.066978;stroke-linecap:butt;stroke-linejoin:round;stroke:rgb(20%,20%,20%);stroke-opacity:1;stroke-miterlimit:10;\" d=\"M 34.355469 101.269531 L 37.09375 101.269531 \"/>\n",
       "<path style=\"fill:none;stroke-width:1.066978;stroke-linecap:butt;stroke-linejoin:round;stroke:rgb(20%,20%,20%);stroke-opacity:1;stroke-miterlimit:10;\" d=\"M 34.355469 28.609375 L 37.09375 28.609375 \"/>\n",
       "<path style=\"fill:none;stroke-width:1.066978;stroke-linecap:butt;stroke-linejoin:round;stroke:rgb(20%,20%,20%);stroke-opacity:1;stroke-miterlimit:10;\" d=\"M 48.25 259.582031 L 48.25 256.839844 \"/>\n",
       "<path style=\"fill:none;stroke-width:1.066978;stroke-linecap:butt;stroke-linejoin:round;stroke:rgb(20%,20%,20%);stroke-opacity:1;stroke-miterlimit:10;\" d=\"M 85.433594 259.582031 L 85.433594 256.839844 \"/>\n",
       "<path style=\"fill:none;stroke-width:1.066978;stroke-linecap:butt;stroke-linejoin:round;stroke:rgb(20%,20%,20%);stroke-opacity:1;stroke-miterlimit:10;\" d=\"M 122.621094 259.582031 L 122.621094 256.839844 \"/>\n",
       "<path style=\"fill:none;stroke-width:1.066978;stroke-linecap:butt;stroke-linejoin:round;stroke:rgb(20%,20%,20%);stroke-opacity:1;stroke-miterlimit:10;\" d=\"M 159.808594 259.582031 L 159.808594 256.839844 \"/>\n",
       "<path style=\"fill:none;stroke-width:1.066978;stroke-linecap:butt;stroke-linejoin:round;stroke:rgb(20%,20%,20%);stroke-opacity:1;stroke-miterlimit:10;\" d=\"M 196.992188 259.582031 L 196.992188 256.839844 \"/>\n",
       "<path style=\"fill:none;stroke-width:1.066978;stroke-linecap:butt;stroke-linejoin:round;stroke:rgb(20%,20%,20%);stroke-opacity:1;stroke-miterlimit:10;\" d=\"M 234.179688 259.582031 L 234.179688 256.839844 \"/>\n",
       "<path style=\"fill:none;stroke-width:1.066978;stroke-linecap:butt;stroke-linejoin:round;stroke:rgb(20%,20%,20%);stroke-opacity:1;stroke-miterlimit:10;\" d=\"M 271.363281 259.582031 L 271.363281 256.839844 \"/>\n",
       "<path style=\"fill:none;stroke-width:1.066978;stroke-linecap:butt;stroke-linejoin:round;stroke:rgb(20%,20%,20%);stroke-opacity:1;stroke-miterlimit:10;\" d=\"M 85.433594 259.582031 L 85.433594 256.839844 \"/>\n",
       "<g style=\"fill:rgb(30.196078%,30.196078%,30.196078%);fill-opacity:1;\">\n",
       "  <use xlink:href=\"#glyph0-0\" x=\"45.804688\" y=\"268.070313\"/>\n",
       "</g>\n",
       "<g style=\"fill:rgb(30.196078%,30.196078%,30.196078%);fill-opacity:1;\">\n",
       "  <use xlink:href=\"#glyph0-3\" x=\"82.988281\" y=\"268.070313\"/>\n",
       "</g>\n",
       "<g style=\"fill:rgb(30.196078%,30.196078%,30.196078%);fill-opacity:1;\">\n",
       "  <use xlink:href=\"#glyph0-4\" x=\"120.175781\" y=\"268.070313\"/>\n",
       "</g>\n",
       "<g style=\"fill:rgb(30.196078%,30.196078%,30.196078%);fill-opacity:1;\">\n",
       "  <use xlink:href=\"#glyph0-5\" x=\"157.363281\" y=\"268.070313\"/>\n",
       "</g>\n",
       "<g style=\"fill:rgb(30.196078%,30.196078%,30.196078%);fill-opacity:1;\">\n",
       "  <use xlink:href=\"#glyph0-6\" x=\"194.546875\" y=\"268.070313\"/>\n",
       "</g>\n",
       "<g style=\"fill:rgb(30.196078%,30.196078%,30.196078%);fill-opacity:1;\">\n",
       "  <use xlink:href=\"#glyph0-2\" x=\"231.734375\" y=\"268.070313\"/>\n",
       "</g>\n",
       "<g style=\"fill:rgb(30.196078%,30.196078%,30.196078%);fill-opacity:1;\">\n",
       "  <use xlink:href=\"#glyph0-7\" x=\"268.917969\" y=\"268.070313\"/>\n",
       "</g>\n",
       "<g style=\"fill:rgb(30.196078%,30.196078%,30.196078%);fill-opacity:1;\">\n",
       "  <use xlink:href=\"#glyph0-3\" x=\"82.988281\" y=\"268.070313\"/>\n",
       "</g>\n",
       "<g style=\"fill:rgb(0%,0%,0%);fill-opacity:1;\">\n",
       "  <use xlink:href=\"#glyph1-0\" x=\"157.058594\" y=\"280.328125\"/>\n",
       "</g>\n",
       "<g style=\"fill:rgb(0%,0%,0%);fill-opacity:1;\">\n",
       "  <use xlink:href=\"#glyph2-0\" x=\"15.546875\" y=\"133.910156\"/>\n",
       "</g>\n",
       "</g>\n",
       "</svg>\n"
      ],
      "text/plain": [
       "plot without title"
      ]
     },
     "metadata": {
      "image/svg+xml": {
       "isolated": true
      }
     },
     "output_type": "display_data"
    }
   ],
   "source": [
    "ggplot(data.frame(x = c(0, 6)), aes(x)) +\n",
    "    stat_function(fun = dchisq, args = list(df = (n - 1) * (n - 1))) + \n",
    "    scale_x_continuous(breaks = c(0:6, 1)) + \n",
    "    geom_vline(xintercept = c(qchisq(0.95, df = (n - 1) * (n - 1))))"
   ]
  },
  {
   "cell_type": "markdown",
   "metadata": {},
   "source": [
    "帰無仮説は棄却されなかった．"
   ]
  },
  {
   "cell_type": "markdown",
   "metadata": {},
   "source": [
    "$p$ 値を計算すると，"
   ]
  },
  {
   "cell_type": "code",
   "execution_count": 36,
   "metadata": {
    "collapsed": false
   },
   "outputs": [
    {
     "data": {
      "text/html": [
       "0.111017105512186"
      ],
      "text/latex": [
       "0.111017105512186"
      ],
      "text/markdown": [
       "0.111017105512186"
      ],
      "text/plain": [
       "[1] 0.1110171"
      ]
     },
     "metadata": {},
     "output_type": "display_data"
    }
   ],
   "source": [
    "pchisq(chi2, df = (n - 1) * (n - 1), lower.tail = FALSE)"
   ]
  },
  {
   "cell_type": "markdown",
   "metadata": {},
   "source": [
    "`chisq.test()` で計算すると，"
   ]
  },
  {
   "cell_type": "code",
   "execution_count": 37,
   "metadata": {
    "collapsed": false,
    "scrolled": true
   },
   "outputs": [
    {
     "name": "stderr",
     "output_type": "stream",
     "text": [
      "Warning message:\n",
      "In chisq.test(m.o, correct = FALSE): Chi-squared approximation may be incorrect"
     ]
    },
    {
     "data": {
      "text/plain": [
       "\n",
       "\tPearson's Chi-squared test\n",
       "\n",
       "data:  m.o\n",
       "X-squared = 2.5397, df = 1, p-value = 0.111\n"
      ]
     },
     "metadata": {},
     "output_type": "display_data"
    }
   ],
   "source": [
    "chisq.test(m.o, correct = FALSE)"
   ]
  },
  {
   "cell_type": "markdown",
   "metadata": {},
   "source": [
    "## 5.7 サンプルサイズ"
   ]
  },
  {
   "cell_type": "markdown",
   "metadata": {},
   "source": [
    "サンプルサイズが大きくなると，検定結果が有意になりやすい"
   ]
  },
  {
   "cell_type": "code",
   "execution_count": 38,
   "metadata": {
    "collapsed": false
   },
   "outputs": [
    {
     "data": {
      "text/html": [
       "<table>\n",
       "<thead><tr><th></th><th scope=col>履修した</th><th scope=col>履修してない</th></tr></thead>\n",
       "<tbody>\n",
       "\t<tr><th scope=row>文系</th><td>16</td><td> 4</td></tr>\n",
       "\t<tr><th scope=row>理系</th><td>12</td><td> 8</td></tr>\n",
       "</tbody>\n",
       "</table>\n"
      ],
      "text/latex": [
       "\\begin{tabular}{r|ll}\n",
       "  & 履修した & 履修してない\\\\\n",
       "\\hline\n",
       "\t文系 & 16 &  4\\\\\n",
       "\t理系 & 12 &  8\\\\\n",
       "\\end{tabular}\n"
      ],
      "text/markdown": [
       "1. 16\n",
       "2. 12\n",
       "3. 4\n",
       "4. 8\n",
       "\n",
       "\n"
      ],
      "text/plain": [
       "     履修した 履修してない\n",
       "文系       16            4\n",
       "理系       12            8"
      ]
     },
     "metadata": {},
     "output_type": "display_data"
    }
   ],
   "source": [
    "reg_a <- matrix(c(16, 12, 4, 8), 2, 2)\n",
    "rownames(reg_a) <- c(\"文系\", \"理系\")\n",
    "colnames(reg_a) <- c(\"履修した\", \"履修してない\")\n",
    "reg_a"
   ]
  },
  {
   "cell_type": "code",
   "execution_count": 39,
   "metadata": {
    "collapsed": false
   },
   "outputs": [
    {
     "data": {
      "text/plain": [
       "\n",
       "\tPearson's Chi-squared test\n",
       "\n",
       "data:  reg_a\n",
       "X-squared = 1.9048, df = 1, p-value = 0.1675\n"
      ]
     },
     "metadata": {},
     "output_type": "display_data"
    }
   ],
   "source": [
    "chisq.test(reg_a, correct = FALSE)"
   ]
  },
  {
   "cell_type": "code",
   "execution_count": 40,
   "metadata": {
    "collapsed": false
   },
   "outputs": [
    {
     "data": {
      "text/html": [
       "<table>\n",
       "<thead><tr><th></th><th scope=col>履修した</th><th scope=col>履修してない</th></tr></thead>\n",
       "<tbody>\n",
       "\t<tr><th scope=row>文系</th><td>160</td><td> 40</td></tr>\n",
       "\t<tr><th scope=row>理系</th><td>120</td><td> 80</td></tr>\n",
       "</tbody>\n",
       "</table>\n"
      ],
      "text/latex": [
       "\\begin{tabular}{r|ll}\n",
       "  & 履修した & 履修してない\\\\\n",
       "\\hline\n",
       "\t文系 & 160 &  40\\\\\n",
       "\t理系 & 120 &  80\\\\\n",
       "\\end{tabular}\n"
      ],
      "text/markdown": [
       "1. 160\n",
       "2. 120\n",
       "3. 40\n",
       "4. 80\n",
       "\n",
       "\n"
      ],
      "text/plain": [
       "     履修した 履修してない\n",
       "文系      160           40\n",
       "理系      120           80"
      ]
     },
     "metadata": {},
     "output_type": "display_data"
    }
   ],
   "source": [
    "reg_b <- reg_a * 10\n",
    "reg_b"
   ]
  },
  {
   "cell_type": "code",
   "execution_count": 41,
   "metadata": {
    "collapsed": false
   },
   "outputs": [
    {
     "data": {
      "text/plain": [
       "\n",
       "\tPearson's Chi-squared test\n",
       "\n",
       "data:  reg_b\n",
       "X-squared = 19.048, df = 1, p-value = 1.275e-05\n"
      ]
     },
     "metadata": {},
     "output_type": "display_data"
    }
   ],
   "source": [
    "chisq.test(reg_b, correct = FALSE)"
   ]
  },
  {
   "cell_type": "markdown",
   "metadata": {},
   "source": [
    "## 練習問題"
   ]
  },
  {
   "cell_type": "markdown",
   "metadata": {},
   "source": [
    "### （1）"
   ]
  },
  {
   "cell_type": "code",
   "execution_count": 42,
   "metadata": {
    "collapsed": false
   },
   "outputs": [
    {
     "data": {
      "text/plain": [
       "\n",
       "\tOne Sample t-test\n",
       "\n",
       "data:  height\n",
       "t = -3.8503, df = 19, p-value = 0.001079\n",
       "alternative hypothesis: true mean is not equal to 170\n",
       "95 percent confidence interval:\n",
       " 160.584 167.216\n",
       "sample estimates:\n",
       "mean of x \n",
       "    163.9 \n"
      ]
     },
     "metadata": {},
     "output_type": "display_data"
    }
   ],
   "source": [
    "height <- c(165,150,170,168,159,170,167,178,155,159,161,162,166,171,155,160,168,172,155,167)\n",
    "t.test(height, mu = 170)"
   ]
  },
  {
   "cell_type": "markdown",
   "metadata": {},
   "source": [
    "帰無仮説が棄却されたので，無作為標本とは言えない"
   ]
  },
  {
   "cell_type": "markdown",
   "metadata": {},
   "source": [
    "### （2）"
   ]
  },
  {
   "cell_type": "code",
   "execution_count": 43,
   "metadata": {
    "collapsed": false
   },
   "outputs": [
    {
     "data": {
      "text/html": [
       "<table>\n",
       "<thead><tr><th></th><th scope=col>time</th><th scope=col>score</th></tr></thead>\n",
       "<tbody>\n",
       "\t<tr><th scope=row>1</th><td>1</td><td>20</td></tr>\n",
       "\t<tr><th scope=row>2</th><td>3</td><td>40</td></tr>\n",
       "\t<tr><th scope=row>3</th><td>10</td><td>100</td></tr>\n",
       "\t<tr><th scope=row>4</th><td>12</td><td>80</td></tr>\n",
       "\t<tr><th scope=row>5</th><td>6</td><td>50</td></tr>\n",
       "\t<tr><th scope=row>6</th><td>3</td><td>50</td></tr>\n",
       "\t<tr><th scope=row>7</th><td>8</td><td>70</td></tr>\n",
       "\t<tr><th scope=row>8</th><td>4</td><td>50</td></tr>\n",
       "\t<tr><th scope=row>9</th><td>1</td><td>10</td></tr>\n",
       "\t<tr><th scope=row>10</th><td>5</td><td>60</td></tr>\n",
       "</tbody>\n",
       "</table>\n"
      ],
      "text/latex": [
       "\\begin{tabular}{r|ll}\n",
       "  & time & score\\\\\n",
       "\\hline\n",
       "\t1 & 1 & 20\\\\\n",
       "\t2 & 3 & 40\\\\\n",
       "\t3 & 10 & 100\\\\\n",
       "\t4 & 12 & 80\\\\\n",
       "\t5 & 6 & 50\\\\\n",
       "\t6 & 3 & 50\\\\\n",
       "\t7 & 8 & 70\\\\\n",
       "\t8 & 4 & 50\\\\\n",
       "\t9 & 1 & 10\\\\\n",
       "\t10 & 5 & 60\\\\\n",
       "\\end{tabular}\n"
      ],
      "text/plain": [
       "   time score\n",
       "1     1    20\n",
       "2     3    40\n",
       "3    10   100\n",
       "4    12    80\n",
       "5     6    50\n",
       "6     3    50\n",
       "7     8    70\n",
       "8     4    50\n",
       "9     1    10\n",
       "10    5    60"
      ]
     },
     "metadata": {},
     "output_type": "display_data"
    }
   ],
   "source": [
    "d.study <- data.frame(time = c(1, 3, 10, 12, 6, 3, 8, 4, 1, 5), score = c(20, 40, 100, 80, 50, 50, 70, 50, 10, 60))\n",
    "d.study"
   ]
  },
  {
   "cell_type": "code",
   "execution_count": 44,
   "metadata": {
    "collapsed": false
   },
   "outputs": [
    {
     "data": {
      "text/plain": [
       "\n",
       "\tPearson's product-moment correlation\n",
       "\n",
       "data:  d.study$time and d.study$score\n",
       "t = 6.1802, df = 8, p-value = 0.0002651\n",
       "alternative hypothesis: true correlation is not equal to 0\n",
       "95 percent confidence interval:\n",
       " 0.6542283 0.9786369\n",
       "sample estimates:\n",
       "      cor \n",
       "0.9092974 \n"
      ]
     },
     "metadata": {},
     "output_type": "display_data"
    }
   ],
   "source": [
    "cor.test(d.study$time, d.study$score)"
   ]
  },
  {
   "cell_type": "markdown",
   "metadata": {},
   "source": [
    "帰無仮説が棄却されたので，無相関ではない"
   ]
  },
  {
   "cell_type": "markdown",
   "metadata": {},
   "source": [
    "### （3）"
   ]
  },
  {
   "cell_type": "markdown",
   "metadata": {},
   "source": [
    "スピアマンの順位相関係数"
   ]
  },
  {
   "cell_type": "code",
   "execution_count": 45,
   "metadata": {
    "collapsed": false
   },
   "outputs": [
    {
     "data": {
      "text/html": [
       "0.938289481375165"
      ],
      "text/latex": [
       "0.938289481375165"
      ],
      "text/markdown": [
       "0.938289481375165"
      ],
      "text/plain": [
       "[1] 0.9382895"
      ]
     },
     "metadata": {},
     "output_type": "display_data"
    }
   ],
   "source": [
    "cor(d.study$time, d.study$score, method = \"spearman\")"
   ]
  },
  {
   "cell_type": "code",
   "execution_count": 46,
   "metadata": {
    "collapsed": false
   },
   "outputs": [
    {
     "name": "stderr",
     "output_type": "stream",
     "text": [
      "Warning message:\n",
      "In cor.test.default(d.study$time, d.study$score, method = \"spearman\"): Cannot compute exact p-value with ties"
     ]
    },
    {
     "data": {
      "text/plain": [
       "\n",
       "\tSpearman's rank correlation rho\n",
       "\n",
       "data:  d.study$time and d.study$score\n",
       "S = 10.182, p-value = 5.887e-05\n",
       "alternative hypothesis: true rho is not equal to 0\n",
       "sample estimates:\n",
       "      rho \n",
       "0.9382895 \n"
      ]
     },
     "metadata": {},
     "output_type": "display_data"
    }
   ],
   "source": [
    "cor.test(d.study$time, d.study$score, method = \"spearman\")"
   ]
  },
  {
   "cell_type": "markdown",
   "metadata": {},
   "source": [
    "ケンドールの順位相関係数"
   ]
  },
  {
   "cell_type": "code",
   "execution_count": 47,
   "metadata": {
    "collapsed": false
   },
   "outputs": [
    {
     "data": {
      "text/html": [
       "0.847117449603021"
      ],
      "text/latex": [
       "0.847117449603021"
      ],
      "text/markdown": [
       "0.847117449603021"
      ],
      "text/plain": [
       "[1] 0.8471174"
      ]
     },
     "metadata": {},
     "output_type": "display_data"
    }
   ],
   "source": [
    "cor(d.study$time, d.study$score, method = \"kendall\")"
   ]
  },
  {
   "cell_type": "code",
   "execution_count": 48,
   "metadata": {
    "collapsed": false
   },
   "outputs": [
    {
     "name": "stderr",
     "output_type": "stream",
     "text": [
      "Warning message:\n",
      "In cor.test.default(d.study$time, d.study$score, method = \"kendall\"): Cannot compute exact p-value with ties"
     ]
    },
    {
     "data": {
      "text/plain": [
       "\n",
       "\tKendall's rank correlation tau\n",
       "\n",
       "data:  d.study$time and d.study$score\n",
       "z = 3.2937, p-value = 0.0009889\n",
       "alternative hypothesis: true tau is not equal to 0\n",
       "sample estimates:\n",
       "      tau \n",
       "0.8471174 \n"
      ]
     },
     "metadata": {},
     "output_type": "display_data"
    }
   ],
   "source": [
    "cor.test(d.study$time, d.study$score, method = \"kendall\")"
   ]
  },
  {
   "cell_type": "markdown",
   "metadata": {},
   "source": [
    "### （4）"
   ]
  },
  {
   "cell_type": "code",
   "execution_count": 49,
   "metadata": {
    "collapsed": true
   },
   "outputs": [],
   "source": [
    "library(readxl)"
   ]
  },
  {
   "cell_type": "code",
   "execution_count": 50,
   "metadata": {
    "collapsed": false
   },
   "outputs": [
    {
     "data": {
      "text/html": [
       "<table>\n",
       "<thead><tr><th></th><th scope=col>WesternOrJapanese</th><th scope=col>SweetOrHot</th></tr></thead>\n",
       "<tbody>\n",
       "\t<tr><th scope=row>1</th><td>洋食</td><td>甘党</td></tr>\n",
       "\t<tr><th scope=row>2</th><td>和食</td><td>辛党</td></tr>\n",
       "\t<tr><th scope=row>3</th><td>和食</td><td>甘党</td></tr>\n",
       "\t<tr><th scope=row>4</th><td>洋食</td><td>甘党</td></tr>\n",
       "\t<tr><th scope=row>5</th><td>和食</td><td>辛党</td></tr>\n",
       "\t<tr><th scope=row>6</th><td>洋食</td><td>辛党</td></tr>\n",
       "</tbody>\n",
       "</table>\n"
      ],
      "text/latex": [
       "\\begin{tabular}{r|ll}\n",
       "  & WesternOrJapanese & SweetOrHot\\\\\n",
       "\\hline\n",
       "\t1 & 洋食 & 甘党\\\\\n",
       "\t2 & 和食 & 辛党\\\\\n",
       "\t3 & 和食 & 甘党\\\\\n",
       "\t4 & 洋食 & 甘党\\\\\n",
       "\t5 & 和食 & 辛党\\\\\n",
       "\t6 & 洋食 & 辛党\\\\\n",
       "\\end{tabular}\n"
      ],
      "text/plain": [
       "  WesternOrJapanese SweetOrHot\n",
       "1              洋食       甘党\n",
       "2              和食       辛党\n",
       "3              和食       甘党\n",
       "4              洋食       甘党\n",
       "5              和食       辛党\n",
       "6              洋食       辛党"
      ]
     },
     "metadata": {},
     "output_type": "display_data"
    }
   ],
   "source": [
    "d.food <- read_excel(\"Chap03_food.xlsx\", sheet = 1)\n",
    "head(d.food)"
   ]
  },
  {
   "cell_type": "code",
   "execution_count": 51,
   "metadata": {
    "collapsed": false
   },
   "outputs": [
    {
     "data": {
      "text/plain": [
       "                 SweetOrHot\n",
       "WesternOrJapanese 甘党 辛党\n",
       "             洋食    6    4\n",
       "             和食    3    7"
      ]
     },
     "metadata": {},
     "output_type": "display_data"
    }
   ],
   "source": [
    "m.o <- table(d.food)\n",
    "m.o"
   ]
  },
  {
   "cell_type": "code",
   "execution_count": 52,
   "metadata": {
    "collapsed": false
   },
   "outputs": [
    {
     "name": "stderr",
     "output_type": "stream",
     "text": [
      "Warning message:\n",
      "In chisq.test(m.o, correct = FALSE): Chi-squared approximation may be incorrect"
     ]
    },
    {
     "data": {
      "text/plain": [
       "\n",
       "\tPearson's Chi-squared test\n",
       "\n",
       "data:  m.o\n",
       "X-squared = 1.8182, df = 1, p-value = 0.1775\n"
      ]
     },
     "metadata": {},
     "output_type": "display_data"
    }
   ],
   "source": [
    "chisq.test(m.o, correct = FALSE)"
   ]
  },
  {
   "cell_type": "markdown",
   "metadata": {},
   "source": [
    "帰無仮説を棄却できない"
   ]
  },
  {
   "cell_type": "markdown",
   "metadata": {},
   "source": [
    "### （5）"
   ]
  },
  {
   "cell_type": "markdown",
   "metadata": {},
   "source": [
    "#### （5-1）"
   ]
  },
  {
   "cell_type": "code",
   "execution_count": 53,
   "metadata": {
    "collapsed": true
   },
   "outputs": [],
   "source": [
    "jap <- c(60, 40, 30, 70, 55)\n",
    "soc <- c(80, 25, 35, 70, 50)"
   ]
  },
  {
   "cell_type": "code",
   "execution_count": 54,
   "metadata": {
    "collapsed": false
   },
   "outputs": [
    {
     "data": {
      "text/plain": [
       "\n",
       "\tPearson's product-moment correlation\n",
       "\n",
       "data:  jap and soc\n",
       "t = 2.6952, df = 3, p-value = 0.07408\n",
       "alternative hypothesis: true correlation is not equal to 0\n",
       "95 percent confidence interval:\n",
       " -0.1590624  0.9892731\n",
       "sample estimates:\n",
       "     cor \n",
       "0.841263 \n"
      ]
     },
     "metadata": {},
     "output_type": "display_data"
    }
   ],
   "source": [
    "cor.test(jap, soc)"
   ]
  },
  {
   "cell_type": "markdown",
   "metadata": {},
   "source": [
    "#### （5-2）"
   ]
  },
  {
   "cell_type": "code",
   "execution_count": 55,
   "metadata": {
    "collapsed": false
   },
   "outputs": [],
   "source": [
    "jap <- rep(jap, 2)\n",
    "soc <- rep(soc, 2)"
   ]
  },
  {
   "cell_type": "code",
   "execution_count": 56,
   "metadata": {
    "collapsed": false
   },
   "outputs": [
    {
     "data": {
      "text/plain": [
       "\n",
       "\tPearson's product-moment correlation\n",
       "\n",
       "data:  jap and soc\n",
       "t = 4.4013, df = 8, p-value = 0.002283\n",
       "alternative hypothesis: true correlation is not equal to 0\n",
       "95 percent confidence interval:\n",
       " 0.4499858 0.9615658\n",
       "sample estimates:\n",
       "     cor \n",
       "0.841263 \n"
      ]
     },
     "metadata": {},
     "output_type": "display_data"
    }
   ],
   "source": [
    "cor.test(jap, soc)"
   ]
  },
  {
   "cell_type": "markdown",
   "metadata": {},
   "source": [
    "サンプルサイズが2倍になると，相関係数は変わらないが，$p$値が小さくなった"
   ]
  },
  {
   "cell_type": "code",
   "execution_count": 57,
   "metadata": {
    "collapsed": false
   },
   "outputs": [
    {
     "name": "stderr",
     "output_type": "stream",
     "text": [
      "Session info -------------------------------------------------------------------\n",
      "Packages -----------------------------------------------------------------------\n",
      "Session info -------------------------------------------------------------------\n",
      "Packages -----------------------------------------------------------------------\n"
     ]
    },
    {
     "data": {
      "text/plain": [
       " setting  value                       \n",
       " version  R version 3.2.3 (2015-12-10)\n",
       " system   x86_64, mingw32             \n",
       " ui       RTerm                       \n",
       " language en                          \n",
       " collate  Japanese_Japan.932          \n",
       " tz       Asia/Tokyo                  \n",
       " date     2016-05-18                  \n",
       "\n",
       " package    * version date       source                            \n",
       " base64enc    0.1-3   2015-07-28 CRAN (R 3.2.2)                    \n",
       " colorspace   1.2-6   2015-03-11 CRAN (R 3.2.1)                    \n",
       " devtools     1.10.0  2016-01-23 CRAN (R 3.2.3)                    \n",
       " digest       0.6.9   2016-01-08 CRAN (R 3.2.3)                    \n",
       " evaluate     0.8     2015-09-18 CRAN (R 3.2.2)                    \n",
       " ggplot2    * 2.0.0   2015-12-18 CRAN (R 3.2.3)                    \n",
       " gtable       0.1.2   2012-12-05 CRAN (R 3.2.1)                    \n",
       " IRdisplay    0.3     2015-04-27 local                             \n",
       " IRkernel     0.6     2016-02-08 Github (IRkernel/IRkernel@40dc791)\n",
       " jsonlite     0.9.19  2015-11-28 CRAN (R 3.2.2)                    \n",
       " labeling     0.3     2014-08-23 CRAN (R 3.2.1)                    \n",
       " magrittr     1.5     2014-11-22 CRAN (R 3.2.1)                    \n",
       " memoise      1.0.0   2016-01-29 CRAN (R 3.2.3)                    \n",
       " munsell      0.4.2   2013-07-11 CRAN (R 3.2.1)                    \n",
       " pbdZMQ       0.2-1   2016-01-21 CRAN (R 3.2.3)                    \n",
       " pipeR      * 0.6.0.6 2015-07-08 CRAN (R 3.2.1)                    \n",
       " plyr         1.8.3   2015-06-12 CRAN (R 3.2.1)                    \n",
       " R6           2.1.2   2016-01-26 CRAN (R 3.2.3)                    \n",
       " Rcpp         0.12.3  2016-01-10 CRAN (R 3.2.3)                    \n",
       " readr      * 0.2.2   2015-10-22 CRAN (R 3.2.2)                    \n",
       " readxl     * 0.1.0   2015-04-14 CRAN (R 3.2.1)                    \n",
       " repr         0.4     2015-11-16 local                             \n",
       " scales       0.3.0   2015-08-25 CRAN (R 3.2.2)                    \n",
       " stringi      1.0-1   2015-10-22 CRAN (R 3.2.3)                    \n",
       " stringr      1.0.0   2015-04-30 CRAN (R 3.2.3)                    \n",
       " uuid         0.1-2   2015-07-28 CRAN (R 3.2.2)                    "
      ]
     },
     "metadata": {},
     "output_type": "display_data"
    }
   ],
   "source": [
    "devtools::session_info()"
   ]
  }
 ],
 "metadata": {
  "kernelspec": {
   "display_name": "R 3.2",
   "language": "R",
   "name": "ir32"
  },
  "language_info": {
   "codemirror_mode": "r",
   "file_extension": ".r",
   "mimetype": "text/x-r-source",
   "name": "R",
   "pygments_lexer": "r",
   "version": "3.2.3"
  }
 },
 "nbformat": 4,
 "nbformat_minor": 0
}
