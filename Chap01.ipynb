{
 "cells": [
  {
   "cell_type": "markdown",
   "metadata": {},
   "source": [
    "# Rによるやさしい統計学\n",
    "# 第1部\n",
    "# 第1章"
   ]
  },
  {
   "cell_type": "code",
   "execution_count": 1,
   "metadata": {
    "collapsed": false
   },
   "outputs": [
    {
     "data": {
      "text/html": [
       "8"
      ],
      "text/latex": [
       "8"
      ],
      "text/markdown": [
       "8"
      ],
      "text/plain": [
       "[1] 8"
      ]
     },
     "metadata": {},
     "output_type": "display_data"
    }
   ],
   "source": [
    "3 + 5"
   ]
  },
  {
   "cell_type": "code",
   "execution_count": 2,
   "metadata": {
    "collapsed": false
   },
   "outputs": [
    {
     "data": {
      "text/html": [
       "7"
      ],
      "text/latex": [
       "7"
      ],
      "text/markdown": [
       "7"
      ],
      "text/plain": [
       "[1] 7"
      ]
     },
     "metadata": {},
     "output_type": "display_data"
    }
   ],
   "source": [
    "10 - 3"
   ]
  },
  {
   "cell_type": "code",
   "execution_count": 3,
   "metadata": {
    "collapsed": false
   },
   "outputs": [
    {
     "data": {
      "text/html": [
       "6"
      ],
      "text/latex": [
       "6"
      ],
      "text/markdown": [
       "6"
      ],
      "text/plain": [
       "[1] 6"
      ]
     },
     "metadata": {},
     "output_type": "display_data"
    }
   ],
   "source": [
    "2 * 3"
   ]
  },
  {
   "cell_type": "code",
   "execution_count": 4,
   "metadata": {
    "collapsed": false
   },
   "outputs": [
    {
     "data": {
      "text/html": [
       "5"
      ],
      "text/latex": [
       "5"
      ],
      "text/markdown": [
       "5"
      ],
      "text/plain": [
       "[1] 5"
      ]
     },
     "metadata": {},
     "output_type": "display_data"
    }
   ],
   "source": [
    "# コメント\n",
    "20 / 4"
   ]
  },
  {
   "cell_type": "code",
   "execution_count": 5,
   "metadata": {
    "collapsed": false
   },
   "outputs": [
    {
     "data": {
      "text/html": [
       "4"
      ],
      "text/latex": [
       "4"
      ],
      "text/markdown": [
       "4"
      ],
      "text/plain": [
       "[1] 4"
      ]
     },
     "metadata": {},
     "output_type": "display_data"
    }
   ],
   "source": [
    "sqrt(16)"
   ]
  },
  {
   "cell_type": "code",
   "execution_count": 6,
   "metadata": {
    "collapsed": false
   },
   "outputs": [
    {
     "data": {
      "text/html": [
       "4"
      ],
      "text/latex": [
       "4"
      ],
      "text/markdown": [
       "4"
      ],
      "text/plain": [
       "[1] 4"
      ]
     },
     "metadata": {},
     "output_type": "display_data"
    }
   ],
   "source": [
    "2^2"
   ]
  },
  {
   "cell_type": "code",
   "execution_count": 7,
   "metadata": {
    "collapsed": false
   },
   "outputs": [
    {
     "data": {
      "text/plain": [
       "   Min. 1st Qu.  Median    Mean 3rd Qu.    Max. \n",
       "  173.0   175.0   179.0   179.4   181.5   192.0 "
      ]
     },
     "metadata": {},
     "output_type": "display_data"
    }
   ],
   "source": [
    "summary(c(173,178,180,183,182,174,179,179,174,192))"
   ]
  },
  {
   "cell_type": "code",
   "execution_count": 8,
   "metadata": {
    "collapsed": false
   },
   "outputs": [
    {
     "data": {
      "text/plain": [
       "   Min. 1st Qu.  Median    Mean 3rd Qu.    Max. \n",
       "  173.0   175.0   179.0   179.4   181.5   192.0 "
      ]
     },
     "metadata": {},
     "output_type": "display_data"
    }
   ],
   "source": [
    "height <- c(173,178,180,183,182,174,179,179,174,192)\n",
    "summary(height)"
   ]
  },
  {
   "cell_type": "code",
   "execution_count": 9,
   "metadata": {
    "collapsed": false
   },
   "outputs": [
    {
     "data": {
      "text/html": [
       "<ol class=list-inline>\n",
       "\t<li>173</li>\n",
       "\t<li>174</li>\n",
       "\t<li>174</li>\n",
       "\t<li>178</li>\n",
       "\t<li>179</li>\n",
       "\t<li>179</li>\n",
       "\t<li>180</li>\n",
       "\t<li>182</li>\n",
       "\t<li>183</li>\n",
       "\t<li>192</li>\n",
       "</ol>\n"
      ],
      "text/latex": [
       "\\begin{enumerate*}\n",
       "\\item 173\n",
       "\\item 174\n",
       "\\item 174\n",
       "\\item 178\n",
       "\\item 179\n",
       "\\item 179\n",
       "\\item 180\n",
       "\\item 182\n",
       "\\item 183\n",
       "\\item 192\n",
       "\\end{enumerate*}\n"
      ],
      "text/markdown": [
       "1. 173\n",
       "2. 174\n",
       "3. 174\n",
       "4. 178\n",
       "5. 179\n",
       "6. 179\n",
       "7. 180\n",
       "8. 182\n",
       "9. 183\n",
       "10. 192\n",
       "\n",
       "\n"
      ],
      "text/plain": [
       " [1] 173 174 174 178 179 179 180 182 183 192"
      ]
     },
     "metadata": {},
     "output_type": "display_data"
    }
   ],
   "source": [
    "sort(height)"
   ]
  },
  {
   "cell_type": "code",
   "execution_count": 10,
   "metadata": {
    "collapsed": true
   },
   "outputs": [],
   "source": [
    "library(pipeR)"
   ]
  },
  {
   "cell_type": "markdown",
   "metadata": {},
   "source": [
    "* 中央値"
   ]
  },
  {
   "cell_type": "code",
   "execution_count": 11,
   "metadata": {
    "collapsed": false
   },
   "outputs": [
    {
     "data": {
      "text/html": [
       "179"
      ],
      "text/latex": [
       "179"
      ],
      "text/markdown": [
       "179"
      ],
      "text/plain": [
       "[1] 179"
      ]
     },
     "metadata": {},
     "output_type": "display_data"
    }
   ],
   "source": [
    "sort(height)[5:6] %>>% mean"
   ]
  },
  {
   "cell_type": "markdown",
   "metadata": {},
   "source": [
    "* 第一四分位，第三四分位\n",
    "    * p.27 の方法は正しくない"
   ]
  },
  {
   "cell_type": "code",
   "execution_count": 12,
   "metadata": {
    "collapsed": false
   },
   "outputs": [
    {
     "data": {
      "text/html": [
       "174"
      ],
      "text/latex": [
       "174"
      ],
      "text/markdown": [
       "174"
      ],
      "text/plain": [
       "[1] 174"
      ]
     },
     "metadata": {},
     "output_type": "display_data"
    }
   ],
   "source": [
    "sort(height)[2:3] %>>% mean"
   ]
  },
  {
   "cell_type": "code",
   "execution_count": 13,
   "metadata": {
    "collapsed": false
   },
   "outputs": [
    {
     "data": {
      "text/html": [
       "181"
      ],
      "text/latex": [
       "181"
      ],
      "text/markdown": [
       "181"
      ],
      "text/plain": [
       "[1] 181"
      ]
     },
     "metadata": {},
     "output_type": "display_data"
    }
   ],
   "source": [
    "sort(height)[7:8] %>>% mean"
   ]
  },
  {
   "cell_type": "markdown",
   "metadata": {},
   "source": [
    "* Rの`summary()`の第一四分位，第三四分位の計算方法（2つの記事の式は同じ）\n",
    "> * [Exploratory Data Analysis: The 5-Number Summary – Two Different Methods in R | R-bloggers](http://www.r-bloggers.com/exploratory-data-analysis-the-5-number-summary-two-different-methods-in-r/)  \n",
    "> * [分位数 - Wikipedia](https://ja.wikipedia.org/wiki/%E5%88%86%E4%BD%8D%E6%95%B0)"
   ]
  },
  {
   "cell_type": "code",
   "execution_count": 14,
   "metadata": {
    "collapsed": false
   },
   "outputs": [],
   "source": [
    "my_quantile <- function(x, q){\n",
    "  x <- sort(x)\n",
    "  n <- length(x)\n",
    "  # 1 - q + qn = 1 + (n - 1)q\n",
    "  j <- 1 + (n - 1) * q / 100\n",
    "  if (j == as.integer(j)) {\n",
    "    ret <- x[j]\n",
    "  } else {\n",
    "    i <- floor(j)\n",
    "    k <- ceiling(j)\n",
    "    # (k - j)x[i] + (j - i)x[k] = (k + i - i -j)x[i] + (j - i)x[k] = {(k - i)-(j - i)}x[i] + (j - i)x[k]\n",
    "    # k - i = 1 なので\n",
    "    # x[i] + (j - i)(x[k] - x[i])\n",
    "    ret <- x[i] + (j - i)*(x[k] - x[i])\n",
    "  }\n",
    "  return(ret)\n",
    "}"
   ]
  },
  {
   "cell_type": "code",
   "execution_count": 15,
   "metadata": {
    "collapsed": false,
    "scrolled": true
   },
   "outputs": [
    {
     "data": {
      "text/html": [
       "173"
      ],
      "text/latex": [
       "173"
      ],
      "text/markdown": [
       "173"
      ],
      "text/plain": [
       "[1] 173"
      ]
     },
     "metadata": {},
     "output_type": "display_data"
    }
   ],
   "source": [
    "my_quantile(height, 0)"
   ]
  },
  {
   "cell_type": "code",
   "execution_count": 16,
   "metadata": {
    "collapsed": false
   },
   "outputs": [
    {
     "data": {
      "text/html": [
       "175"
      ],
      "text/latex": [
       "175"
      ],
      "text/markdown": [
       "175"
      ],
      "text/plain": [
       "[1] 175"
      ]
     },
     "metadata": {},
     "output_type": "display_data"
    }
   ],
   "source": [
    "my_quantile(height, 25)"
   ]
  },
  {
   "cell_type": "code",
   "execution_count": 17,
   "metadata": {
    "collapsed": false
   },
   "outputs": [
    {
     "data": {
      "text/html": [
       "179"
      ],
      "text/latex": [
       "179"
      ],
      "text/markdown": [
       "179"
      ],
      "text/plain": [
       "[1] 179"
      ]
     },
     "metadata": {},
     "output_type": "display_data"
    }
   ],
   "source": [
    "my_quantile(height, 50)"
   ]
  },
  {
   "cell_type": "code",
   "execution_count": 18,
   "metadata": {
    "collapsed": false
   },
   "outputs": [
    {
     "data": {
      "text/html": [
       "181.5"
      ],
      "text/latex": [
       "181.5"
      ],
      "text/markdown": [
       "181.5"
      ],
      "text/plain": [
       "[1] 181.5"
      ]
     },
     "metadata": {},
     "output_type": "display_data"
    }
   ],
   "source": [
    "my_quantile(height, 75)"
   ]
  },
  {
   "cell_type": "code",
   "execution_count": 19,
   "metadata": {
    "collapsed": false
   },
   "outputs": [
    {
     "data": {
      "text/html": [
       "192"
      ],
      "text/latex": [
       "192"
      ],
      "text/markdown": [
       "192"
      ],
      "text/plain": [
       "[1] 192"
      ]
     },
     "metadata": {},
     "output_type": "display_data"
    }
   ],
   "source": [
    "my_quantile(height, 100)"
   ]
  },
  {
   "cell_type": "markdown",
   "metadata": {},
   "source": [
    "## 1.6"
   ]
  },
  {
   "cell_type": "code",
   "execution_count": 20,
   "metadata": {
    "collapsed": false
   },
   "outputs": [
    {
     "data": {
      "text/html": [
       "<table>\n",
       "<tbody>\n",
       "\t<tr><td>  173</td><td>17000</td></tr>\n",
       "\t<tr><td>  178</td><td>14000</td></tr>\n",
       "\t<tr><td> 180</td><td>9000</td></tr>\n",
       "\t<tr><td>  183</td><td>50000</td></tr>\n",
       "\t<tr><td>  182</td><td>30000</td></tr>\n",
       "\t<tr><td>  174</td><td>12000</td></tr>\n",
       "\t<tr><td>179</td><td>900</td></tr>\n",
       "\t<tr><td> 179</td><td>2100</td></tr>\n",
       "\t<tr><td> 174</td><td>1000</td></tr>\n",
       "\t<tr><td>  192</td><td>25000</td></tr>\n",
       "</tbody>\n",
       "</table>\n"
      ],
      "text/latex": [
       "\\begin{tabular}{ll}\n",
       "\t   173 & 17000\\\\\n",
       "\t   178 & 14000\\\\\n",
       "\t  180 & 9000\\\\\n",
       "\t   183 & 50000\\\\\n",
       "\t   182 & 30000\\\\\n",
       "\t   174 & 12000\\\\\n",
       "\t 179 & 900\\\\\n",
       "\t  179 & 2100\\\\\n",
       "\t  174 & 1000\\\\\n",
       "\t   192 & 25000\\\\\n",
       "\\end{tabular}\n"
      ],
      "text/markdown": [
       "1. 173\n",
       "2. 178\n",
       "3. 180\n",
       "4. 183\n",
       "5. 182\n",
       "6. 174\n",
       "7. 179\n",
       "8. 179\n",
       "9. 174\n",
       "10. 192\n",
       "11. 17000\n",
       "12. 14000\n",
       "13. 9000\n",
       "14. 50000\n",
       "15. 30000\n",
       "16. 12000\n",
       "17. 900\n",
       "18. 2100\n",
       "19. 1000\n",
       "20. 25000\n",
       "\n",
       "\n"
      ],
      "text/plain": [
       "      [,1]  [,2]\n",
       " [1,]  173 17000\n",
       " [2,]  178 14000\n",
       " [3,]  180  9000\n",
       " [4,]  183 50000\n",
       " [5,]  182 30000\n",
       " [6,]  174 12000\n",
       " [7,]  179   900\n",
       " [8,]  179  2100\n",
       " [9,]  174  1000\n",
       "[10,]  192 25000"
      ]
     },
     "metadata": {},
     "output_type": "display_data"
    }
   ],
   "source": [
    "hawks <- matrix(c(173,178,180,183,182,174,179,179,174,192, 17000,14000,9000,50000,30000,12000,900,2100,1000,25000),10,2)\n",
    "hawks"
   ]
  },
  {
   "cell_type": "code",
   "execution_count": 21,
   "metadata": {
    "collapsed": true
   },
   "outputs": [],
   "source": [
    "library(readr)"
   ]
  },
  {
   "cell_type": "code",
   "execution_count": 22,
   "metadata": {
    "collapsed": false
   },
   "outputs": [],
   "source": [
    "hawks2 <- read_csv(\"hawks.csv\")"
   ]
  },
  {
   "cell_type": "code",
   "execution_count": 23,
   "metadata": {
    "collapsed": false
   },
   "outputs": [
    {
     "name": "stdout",
     "output_type": "stream",
     "text": [
      "Classes 'tbl_df', 'tbl' and 'data.frame':\t10 obs. of  2 variables:\n",
      " $ height: int  173 178 180 183 182 174 179 179 174 192\n",
      " $ salaly: int  17000 14000 9000 50000 30000 12000 900 2100 1000 25000\n"
     ]
    }
   ],
   "source": [
    "str(hawks2)"
   ]
  },
  {
   "cell_type": "code",
   "execution_count": 24,
   "metadata": {
    "collapsed": false
   },
   "outputs": [
    {
     "data": {
      "text/html": [
       "<table>\n",
       "<thead><tr><th></th><th scope=col>height</th><th scope=col>salaly</th></tr></thead>\n",
       "<tbody>\n",
       "\t<tr><th scope=row>1</th><td>173</td><td>17000</td></tr>\n",
       "\t<tr><th scope=row>2</th><td>178</td><td>14000</td></tr>\n",
       "\t<tr><th scope=row>3</th><td>180</td><td>9000</td></tr>\n",
       "\t<tr><th scope=row>4</th><td>183</td><td>50000</td></tr>\n",
       "\t<tr><th scope=row>5</th><td>182</td><td>30000</td></tr>\n",
       "\t<tr><th scope=row>6</th><td>174</td><td>12000</td></tr>\n",
       "\t<tr><th scope=row>7</th><td>179</td><td>900</td></tr>\n",
       "\t<tr><th scope=row>8</th><td>179</td><td>2100</td></tr>\n",
       "\t<tr><th scope=row>9</th><td>174</td><td>1000</td></tr>\n",
       "\t<tr><th scope=row>10</th><td>192</td><td>25000</td></tr>\n",
       "</tbody>\n",
       "</table>\n"
      ],
      "text/latex": [
       "\\begin{tabular}{r|ll}\n",
       "  & height & salaly\\\\\n",
       "\\hline\n",
       "\t1 & 173 & 17000\\\\\n",
       "\t2 & 178 & 14000\\\\\n",
       "\t3 & 180 & 9000\\\\\n",
       "\t4 & 183 & 50000\\\\\n",
       "\t5 & 182 & 30000\\\\\n",
       "\t6 & 174 & 12000\\\\\n",
       "\t7 & 179 & 900\\\\\n",
       "\t8 & 179 & 2100\\\\\n",
       "\t9 & 174 & 1000\\\\\n",
       "\t10 & 192 & 25000\\\\\n",
       "\\end{tabular}\n"
      ],
      "text/plain": [
       "   height salaly\n",
       "1     173  17000\n",
       "2     178  14000\n",
       "3     180   9000\n",
       "4     183  50000\n",
       "5     182  30000\n",
       "6     174  12000\n",
       "7     179    900\n",
       "8     179   2100\n",
       "9     174   1000\n",
       "10    192  25000"
      ]
     },
     "metadata": {},
     "output_type": "display_data"
    }
   ],
   "source": [
    "hawks2"
   ]
  },
  {
   "cell_type": "code",
   "execution_count": 25,
   "metadata": {
    "collapsed": true
   },
   "outputs": [],
   "source": [
    "varp <- function(x){\n",
    "    return(var(x) * (length(x) - 1) / length(x))\n",
    "}"
   ]
  },
  {
   "cell_type": "code",
   "execution_count": 26,
   "metadata": {
    "collapsed": false
   },
   "outputs": [
    {
     "data": {
      "text/html": [
       "9.7"
      ],
      "text/latex": [
       "9.7"
      ],
      "text/markdown": [
       "9.7"
      ],
      "text/plain": [
       "[1] 9.7"
      ]
     },
     "metadata": {},
     "output_type": "display_data"
    },
    {
     "data": {
      "text/html": [
       "7.76"
      ],
      "text/latex": [
       "7.76"
      ],
      "text/markdown": [
       "7.76"
      ],
      "text/plain": [
       "[1] 7.76"
      ]
     },
     "metadata": {},
     "output_type": "display_data"
    }
   ],
   "source": [
    "x <- c(10, 13, 8, 15, 8)\n",
    "var(x)\n",
    "varp(x)"
   ]
  },
  {
   "cell_type": "code",
   "execution_count": 27,
   "metadata": {
    "collapsed": true
   },
   "outputs": [],
   "source": [
    "source(\"varp.r\")"
   ]
  },
  {
   "cell_type": "code",
   "execution_count": 28,
   "metadata": {
    "collapsed": false
   },
   "outputs": [
    {
     "name": "stderr",
     "output_type": "stream",
     "text": [
      "Session info -------------------------------------------------------------------\n",
      "Packages -----------------------------------------------------------------------\n",
      "Session info -------------------------------------------------------------------\n",
      "Packages -----------------------------------------------------------------------\n"
     ]
    },
    {
     "data": {
      "text/plain": [
       " setting  value                       \n",
       " version  R version 3.2.3 (2015-12-10)\n",
       " system   x86_64, mingw32             \n",
       " ui       RTerm                       \n",
       " language en                          \n",
       " collate  Japanese_Japan.932          \n",
       " tz       Asia/Tokyo                  \n",
       " date     2016-05-18                  \n",
       "\n",
       " package   * version date       source                            \n",
       " base64enc   0.1-3   2015-07-28 CRAN (R 3.2.2)                    \n",
       " devtools    1.10.0  2016-01-23 CRAN (R 3.2.3)                    \n",
       " digest      0.6.9   2016-01-08 CRAN (R 3.2.3)                    \n",
       " evaluate    0.8     2015-09-18 CRAN (R 3.2.2)                    \n",
       " IRdisplay   0.3     2015-04-27 local                             \n",
       " IRkernel    0.6     2016-02-08 Github (IRkernel/IRkernel@40dc791)\n",
       " jsonlite    0.9.19  2015-11-28 CRAN (R 3.2.2)                    \n",
       " magrittr    1.5     2014-11-22 CRAN (R 3.2.1)                    \n",
       " memoise     1.0.0   2016-01-29 CRAN (R 3.2.3)                    \n",
       " pbdZMQ      0.2-1   2016-01-21 CRAN (R 3.2.3)                    \n",
       " pipeR     * 0.6.0.6 2015-07-08 CRAN (R 3.2.1)                    \n",
       " R6          2.1.2   2016-01-26 CRAN (R 3.2.3)                    \n",
       " Rcpp        0.12.3  2016-01-10 CRAN (R 3.2.3)                    \n",
       " readr     * 0.2.2   2015-10-22 CRAN (R 3.2.2)                    \n",
       " repr        0.4     2015-11-16 local                             \n",
       " stringi     1.0-1   2015-10-22 CRAN (R 3.2.3)                    \n",
       " stringr     1.0.0   2015-04-30 CRAN (R 3.2.3)                    \n",
       " uuid        0.1-2   2015-07-28 CRAN (R 3.2.2)                    "
      ]
     },
     "metadata": {},
     "output_type": "display_data"
    }
   ],
   "source": [
    "devtools::session_info()"
   ]
  }
 ],
 "metadata": {
  "kernelspec": {
   "display_name": "R 3.2",
   "language": "R",
   "name": "ir32"
  },
  "language_info": {
   "codemirror_mode": "r",
   "file_extension": ".r",
   "mimetype": "text/x-r-source",
   "name": "R",
   "pygments_lexer": "r",
   "version": "3.2.3"
  }
 },
 "nbformat": 4,
 "nbformat_minor": 0
}
