{
 "cells": [
  {
   "cell_type": "markdown",
   "metadata": {},
   "source": [
    "# Rによるやさしい統計学\n",
    "# 第1部\n",
    "# 第1章"
   ]
  },
  {
   "cell_type": "code",
   "execution_count": 1,
   "metadata": {
    "collapsed": false
   },
   "outputs": [
    {
     "data": {
      "text/html": [
       "8"
      ],
      "text/latex": [
       "8"
      ],
      "text/markdown": [
       "8"
      ],
      "text/plain": [
       "[1] 8"
      ]
     },
     "execution_count": 1,
     "metadata": {},
     "output_type": "execute_result"
    }
   ],
   "source": [
    "3 + 5"
   ]
  },
  {
   "cell_type": "code",
   "execution_count": 2,
   "metadata": {
    "collapsed": false
   },
   "outputs": [
    {
     "data": {
      "text/html": [
       "7"
      ],
      "text/latex": [
       "7"
      ],
      "text/markdown": [
       "7"
      ],
      "text/plain": [
       "[1] 7"
      ]
     },
     "execution_count": 2,
     "metadata": {},
     "output_type": "execute_result"
    }
   ],
   "source": [
    "10 - 3"
   ]
  },
  {
   "cell_type": "code",
   "execution_count": 3,
   "metadata": {
    "collapsed": false
   },
   "outputs": [
    {
     "data": {
      "text/html": [
       "6"
      ],
      "text/latex": [
       "6"
      ],
      "text/markdown": [
       "6"
      ],
      "text/plain": [
       "[1] 6"
      ]
     },
     "execution_count": 3,
     "metadata": {},
     "output_type": "execute_result"
    }
   ],
   "source": [
    "2 * 3"
   ]
  },
  {
   "cell_type": "code",
   "execution_count": 4,
   "metadata": {
    "collapsed": false
   },
   "outputs": [
    {
     "data": {
      "text/html": [
       "5"
      ],
      "text/latex": [
       "5"
      ],
      "text/markdown": [
       "5"
      ],
      "text/plain": [
       "[1] 5"
      ]
     },
     "execution_count": 4,
     "metadata": {},
     "output_type": "execute_result"
    }
   ],
   "source": [
    "# コメント\n",
    "20 / 4"
   ]
  },
  {
   "cell_type": "code",
   "execution_count": 5,
   "metadata": {
    "collapsed": false
   },
   "outputs": [
    {
     "data": {
      "text/html": [
       "4"
      ],
      "text/latex": [
       "4"
      ],
      "text/markdown": [
       "4"
      ],
      "text/plain": [
       "[1] 4"
      ]
     },
     "execution_count": 5,
     "metadata": {},
     "output_type": "execute_result"
    }
   ],
   "source": [
    "sqrt(16)"
   ]
  },
  {
   "cell_type": "code",
   "execution_count": 6,
   "metadata": {
    "collapsed": false
   },
   "outputs": [
    {
     "data": {
      "text/html": [
       "4"
      ],
      "text/latex": [
       "4"
      ],
      "text/markdown": [
       "4"
      ],
      "text/plain": [
       "[1] 4"
      ]
     },
     "execution_count": 6,
     "metadata": {},
     "output_type": "execute_result"
    }
   ],
   "source": [
    "2^2"
   ]
  },
  {
   "cell_type": "code",
   "execution_count": 7,
   "metadata": {
    "collapsed": false
   },
   "outputs": [
    {
     "data": {
      "text/plain": [
       "   Min. 1st Qu.  Median    Mean 3rd Qu.    Max. \n",
       "  173.0   175.0   179.0   179.4   181.5   192.0 "
      ]
     },
     "execution_count": 7,
     "metadata": {},
     "output_type": "execute_result"
    }
   ],
   "source": [
    "summary(c(173,178,180,183,182,174,179,179,174,192))"
   ]
  },
  {
   "cell_type": "code",
   "execution_count": 8,
   "metadata": {
    "collapsed": false
   },
   "outputs": [
    {
     "data": {
      "text/plain": [
       "   Min. 1st Qu.  Median    Mean 3rd Qu.    Max. \n",
       "  173.0   175.0   179.0   179.4   181.5   192.0 "
      ]
     },
     "execution_count": 8,
     "metadata": {},
     "output_type": "execute_result"
    }
   ],
   "source": [
    "height <- c(173,178,180,183,182,174,179,179,174,192)\n",
    "summary(height)"
   ]
  },
  {
   "cell_type": "code",
   "execution_count": 9,
   "metadata": {
    "collapsed": false
   },
   "outputs": [
    {
     "data": {
      "text/html": [
       "<table>\n",
       "<tbody>\n",
       "\t<tr><td>  173</td><td>17000</td></tr>\n",
       "\t<tr><td>  178</td><td>14000</td></tr>\n",
       "\t<tr><td> 180</td><td>9000</td></tr>\n",
       "\t<tr><td>  183</td><td>50000</td></tr>\n",
       "\t<tr><td>  182</td><td>30000</td></tr>\n",
       "\t<tr><td>  174</td><td>12000</td></tr>\n",
       "\t<tr><td>179</td><td>900</td></tr>\n",
       "\t<tr><td> 179</td><td>2100</td></tr>\n",
       "\t<tr><td> 174</td><td>1000</td></tr>\n",
       "\t<tr><td>  192</td><td>25000</td></tr>\n",
       "</tbody>\n",
       "</table>\n"
      ],
      "text/latex": [
       "\\begin{tabular}{ll}\n",
       "\t   173 & 17000\\\\\n",
       "\t   178 & 14000\\\\\n",
       "\t  180 & 9000\\\\\n",
       "\t   183 & 50000\\\\\n",
       "\t   182 & 30000\\\\\n",
       "\t   174 & 12000\\\\\n",
       "\t 179 & 900\\\\\n",
       "\t  179 & 2100\\\\\n",
       "\t  174 & 1000\\\\\n",
       "\t   192 & 25000\\\\\n",
       "\\end{tabular}\n"
      ],
      "text/markdown": [
       "1. 173\n",
       "2. 178\n",
       "3. 180\n",
       "4. 183\n",
       "5. 182\n",
       "6. 174\n",
       "7. 179\n",
       "8. 179\n",
       "9. 174\n",
       "10. 192\n",
       "11. 17000\n",
       "12. 14000\n",
       "13. 9000\n",
       "14. 50000\n",
       "15. 30000\n",
       "16. 12000\n",
       "17. 900\n",
       "18. 2100\n",
       "19. 1000\n",
       "20. 25000\n",
       "\n",
       "\n"
      ],
      "text/plain": [
       "      [,1]  [,2]\n",
       " [1,]  173 17000\n",
       " [2,]  178 14000\n",
       " [3,]  180  9000\n",
       " [4,]  183 50000\n",
       " [5,]  182 30000\n",
       " [6,]  174 12000\n",
       " [7,]  179   900\n",
       " [8,]  179  2100\n",
       " [9,]  174  1000\n",
       "[10,]  192 25000"
      ]
     },
     "execution_count": 9,
     "metadata": {},
     "output_type": "execute_result"
    }
   ],
   "source": [
    "hawks <- matrix(c(173,178,180,183,182,174,179,179,174,192, 17000,14000,9000,50000,30000,12000,900,2100,1000,25000),10,2)\n",
    "hawks"
   ]
  },
  {
   "cell_type": "code",
   "execution_count": 10,
   "metadata": {
    "collapsed": true
   },
   "outputs": [],
   "source": [
    "library(readr)"
   ]
  },
  {
   "cell_type": "code",
   "execution_count": 11,
   "metadata": {
    "collapsed": false
   },
   "outputs": [],
   "source": [
    "hawks2 <- read_csv(\"hawks.csv\")"
   ]
  },
  {
   "cell_type": "code",
   "execution_count": 12,
   "metadata": {
    "collapsed": false
   },
   "outputs": [
    {
     "name": "stdout",
     "output_type": "stream",
     "text": [
      "Classes ‘tbl_df’, ‘tbl’ and 'data.frame':\t10 obs. of  2 variables:\n",
      " $ height: int  173 178 180 183 182 174 179 179 174 192\n",
      " $ salaly: int  17000 14000 9000 50000 30000 12000 900 2100 1000 25000\n"
     ]
    }
   ],
   "source": [
    "str(hawks2)"
   ]
  },
  {
   "cell_type": "code",
   "execution_count": 13,
   "metadata": {
    "collapsed": false
   },
   "outputs": [
    {
     "data": {
      "text/html": [
       "<table>\n",
       "<thead><tr><th></th><th scope=col>height</th><th scope=col>salaly</th></tr></thead>\n",
       "<tbody>\n",
       "\t<tr><th scope=row>1</th><td>  173</td><td>17000</td></tr>\n",
       "\t<tr><th scope=row>2</th><td>  178</td><td>14000</td></tr>\n",
       "\t<tr><th scope=row>3</th><td> 180</td><td>9000</td></tr>\n",
       "\t<tr><th scope=row>4</th><td>  183</td><td>50000</td></tr>\n",
       "\t<tr><th scope=row>5</th><td>  182</td><td>30000</td></tr>\n",
       "\t<tr><th scope=row>6</th><td>  174</td><td>12000</td></tr>\n",
       "\t<tr><th scope=row>7</th><td>179</td><td>900</td></tr>\n",
       "\t<tr><th scope=row>8</th><td> 179</td><td>2100</td></tr>\n",
       "\t<tr><th scope=row>9</th><td> 174</td><td>1000</td></tr>\n",
       "\t<tr><th scope=row>10</th><td>  192</td><td>25000</td></tr>\n",
       "</tbody>\n",
       "</table>\n"
      ],
      "text/latex": [
       "\\begin{tabular}{r|ll}\n",
       "  & height & salaly\\\\\n",
       "\\hline\n",
       "\t1 &   173 & 17000\\\\\n",
       "\t2 &   178 & 14000\\\\\n",
       "\t3 &  180 & 9000\\\\\n",
       "\t4 &   183 & 50000\\\\\n",
       "\t5 &   182 & 30000\\\\\n",
       "\t6 &   174 & 12000\\\\\n",
       "\t7 & 179 & 900\\\\\n",
       "\t8 &  179 & 2100\\\\\n",
       "\t9 &  174 & 1000\\\\\n",
       "\t10 &   192 & 25000\\\\\n",
       "\\end{tabular}\n"
      ],
      "text/plain": [
       "   height salaly\n",
       "1     173  17000\n",
       "2     178  14000\n",
       "3     180   9000\n",
       "4     183  50000\n",
       "5     182  30000\n",
       "6     174  12000\n",
       "7     179    900\n",
       "8     179   2100\n",
       "9     174   1000\n",
       "10    192  25000"
      ]
     },
     "execution_count": 13,
     "metadata": {},
     "output_type": "execute_result"
    }
   ],
   "source": [
    "hawks2"
   ]
  },
  {
   "cell_type": "code",
   "execution_count": 14,
   "metadata": {
    "collapsed": true
   },
   "outputs": [],
   "source": [
    "varp <- function(x){\n",
    "    return(var(x) * (length(x) - 1) / length(x))\n",
    "}"
   ]
  },
  {
   "cell_type": "code",
   "execution_count": 15,
   "metadata": {
    "collapsed": false
   },
   "outputs": [
    {
     "data": {
      "text/html": [
       "9.7"
      ],
      "text/latex": [
       "9.7"
      ],
      "text/markdown": [
       "9.7"
      ],
      "text/plain": [
       "[1] 9.7"
      ]
     },
     "execution_count": 15,
     "metadata": {},
     "output_type": "execute_result"
    },
    {
     "data": {
      "text/html": [
       "7.76"
      ],
      "text/latex": [
       "7.76"
      ],
      "text/markdown": [
       "7.76"
      ],
      "text/plain": [
       "[1] 7.76"
      ]
     },
     "execution_count": 15,
     "metadata": {},
     "output_type": "execute_result"
    }
   ],
   "source": [
    "x <- c(10, 13, 8, 15, 8)\n",
    "var(x)\n",
    "varp(x)"
   ]
  },
  {
   "cell_type": "code",
   "execution_count": 16,
   "metadata": {
    "collapsed": true
   },
   "outputs": [],
   "source": [
    "source(\"varp.r\")"
   ]
  },
  {
   "cell_type": "code",
   "execution_count": 17,
   "metadata": {
    "collapsed": false
   },
   "outputs": [
    {
     "name": "stderr",
     "output_type": "stream",
     "text": [
      "Session info -------------------------------------------------------------------\n",
      "Packages -----------------------------------------------------------------------\n",
      "Session info -------------------------------------------------------------------\n",
      "Packages -----------------------------------------------------------------------\n"
     ]
    },
    {
     "data": {
      "text/plain": [
       " setting  value                       \n",
       " version  R version 3.2.3 (2015-12-10)\n",
       " system   x86_64, darwin13.4.0        \n",
       " ui       X11                         \n",
       " language (EN)                        \n",
       " collate  ja_JP.UTF-8                 \n",
       " tz       Asia/Tokyo                  \n",
       " date     2016-05-14                  \n",
       "\n",
       " package   * version date       source        \n",
       " base64enc   0.1-3   2015-07-28 CRAN (R 3.2.0)\n",
       " devtools    1.11.1  2016-04-21 CRAN (R 3.2.5)\n",
       " digest      0.6.9   2016-01-08 CRAN (R 3.2.2)\n",
       " evaluate    0.9     2016-04-29 CRAN (R 3.2.5)\n",
       " IRdisplay   0.3     2016-05-14 local         \n",
       " IRkernel    0.5     2016-05-14 local         \n",
       " jsonlite    0.9.20  2016-05-10 CRAN (R 3.2.5)\n",
       " magrittr    1.5     2014-11-22 CRAN (R 3.2.0)\n",
       " memoise     1.0.0   2016-01-29 CRAN (R 3.2.3)\n",
       " Rcpp        0.12.4  2016-03-26 CRAN (R 3.2.4)\n",
       " readr     * 0.2.2   2015-10-22 CRAN (R 3.2.0)\n",
       " repr        0.7     2016-05-13 CRAN (R 3.2.3)\n",
       " rzmq        0.7.7   2016-05-14 local         \n",
       " stringi     1.0-1   2015-10-22 CRAN (R 3.2.0)\n",
       " stringr     1.0.0   2015-04-30 CRAN (R 3.2.0)\n",
       " uuid        0.1-2   2015-07-28 CRAN (R 3.2.0)\n",
       " withr       1.0.1   2016-02-04 CRAN (R 3.2.3)"
      ]
     },
     "execution_count": 17,
     "metadata": {},
     "output_type": "execute_result"
    }
   ],
   "source": [
    "devtools::session_info()"
   ]
  }
 ],
 "metadata": {
  "kernelspec": {
   "display_name": "R",
   "language": "R",
   "name": "ir"
  },
  "language_info": {
   "codemirror_mode": "r",
   "file_extension": ".r",
   "mimetype": "text/x-r-source",
   "name": "R",
   "pygments_lexer": "r",
   "version": "3.2.3"
  }
 },
 "nbformat": 4,
 "nbformat_minor": 0
}
