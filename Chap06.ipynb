{
 "cells": [
  {
   "cell_type": "markdown",
   "metadata": {},
   "source": [
    "# 第I部\n",
    "# 第6章 2つの平均値を比較する"
   ]
  },
  {
   "cell_type": "code",
   "execution_count": 1,
   "metadata": {
    "collapsed": false
   },
   "outputs": [
    {
     "name": "stderr",
     "output_type": "stream",
     "text": [
      "Loading required package: pipeR\n",
      "Loading required package: dplyr\n",
      "\n",
      "Attaching package: 'dplyr'\n",
      "\n",
      "The following objects are masked from 'package:stats':\n",
      "\n",
      "    filter, lag\n",
      "\n",
      "The following objects are masked from 'package:base':\n",
      "\n",
      "    intersect, setdiff, setequal, union\n",
      "\n",
      "Loading required package: tidyr\n",
      "Loading required package: ggplot2\n",
      "Loading required package: readr\n",
      "Loading required package: readxl\n"
     ]
    },
    {
     "data": {
      "text/html": [
       "<ol>\n",
       "\t<li>TRUE</li>\n",
       "\t<li>TRUE</li>\n",
       "\t<li>TRUE</li>\n",
       "\t<li>TRUE</li>\n",
       "\t<li>TRUE</li>\n",
       "\t<li>TRUE</li>\n",
       "</ol>\n"
      ],
      "text/latex": [
       "\\begin{enumerate}\n",
       "\\item TRUE\n",
       "\\item TRUE\n",
       "\\item TRUE\n",
       "\\item TRUE\n",
       "\\item TRUE\n",
       "\\item TRUE\n",
       "\\end{enumerate}\n"
      ],
      "text/markdown": [
       "1. TRUE\n",
       "2. TRUE\n",
       "3. TRUE\n",
       "4. TRUE\n",
       "5. TRUE\n",
       "6. TRUE\n",
       "\n",
       "\n"
      ],
      "text/plain": [
       "[[1]]\n",
       "[1] TRUE\n",
       "\n",
       "[[2]]\n",
       "[1] TRUE\n",
       "\n",
       "[[3]]\n",
       "[1] TRUE\n",
       "\n",
       "[[4]]\n",
       "[1] TRUE\n",
       "\n",
       "[[5]]\n",
       "[1] TRUE\n",
       "\n",
       "[[6]]\n",
       "[1] TRUE\n"
      ]
     },
     "metadata": {},
     "output_type": "display_data"
    }
   ],
   "source": [
    "pkgs <- c(\"pipeR\", \"dplyr\", \"tidyr\", \"ggplot2\", \"readr\", \"readxl\")\n",
    "lapply(pkgs, require, character.only = TRUE)"
   ]
  },
  {
   "cell_type": "markdown",
   "metadata": {},
   "source": [
    "## 6.2 独立な2群の $t$ 検定"
   ]
  },
  {
   "cell_type": "markdown",
   "metadata": {},
   "source": [
    "平均値差の統計分布は，\n",
    "\n",
    "$$ \\bar{X_1} - \\bar{X_2} \\sim N\\left( \\mu_1 - \\mu_2, \\sigma^2 \\left( \\frac{1}{n_1} + \\frac{1}{n_2} \\right) \\right)$$\n",
    "\n",
    "となる．\n",
    "\n",
    "標準化すると，\n",
    "\n",
    "$$\\frac{\\bar{X_1} - \\bar{X_2} - (\\mu_1 - \\mu_2)}{\\sigma \\sqrt{\\frac{1}{n_1} + \\frac{1}{n_2}}} \\sim N(0, 1)$$\n",
    "\n",
    "となる．\n",
    "\n",
    "母標準偏差 $\\sigma$ は次の $\\hat{\\sigma}^2_\\mathrm{pooled}$ で推定する．\n",
    "\n",
    "$$ \\hat{\\sigma}^2_\\mathrm{pooled} = \\frac{(n_1 - 1) \\hat{\\sigma}_1^2 + (n_2 - 1) \\hat{\\sigma}_2^2}{n_1 + n_2 - 2}$$\n",
    "\n",
    "検定統計量 $t$ は，以下のようになる．\n",
    "\n",
    "$$ t = \\frac{\\bar{X_1} - \\bar{X_2}}{\\sqrt{\\frac{(n_1 - 1)\\hat{\\sigma}_1^2 + (n_2 - 1)\\hat{\\sigma}_2^2}{n_1 + n_2 - 2}\\left(\\frac{1}{n_1} + \\frac{1}{n_2}\\right)}}$$\n",
    "\n",
    "$t$ は帰無仮説 $\\mu_1 = \\mu_2$ のもとで，自由度n<sub>1</sub> + n<sub>2</sub> - 2 の $t$ 分布に従う．"
   ]
  },
  {
   "cell_type": "code",
   "execution_count": 2,
   "metadata": {
    "collapsed": false
   },
   "outputs": [
    {
     "name": "stdout",
     "output_type": "stream",
     "text": [
      "Classes 'tbl_df', 'tbl' and 'data.frame':\t20 obs. of  9 variables:\n",
      " $ id             : int  1 2 3 4 5 6 7 8 9 10 ...\n",
      " $ name           : chr  \"大村\" \"本多\" \"川崎\" \"多村\" ...\n",
      " $ sex            : chr  \"男\" \"男\" \"男\" \"男\" ...\n",
      " $ math           : chr  \"嫌い\" \"嫌い\" \"好き\" \"好き\" ...\n",
      " $ stat           : chr  \"好き\" \"好き\" \"好き\" \"好き\" ...\n",
      " $ psy_test       : int  13 14 7 12 10 6 8 15 4 14 ...\n",
      " $ stat_test1     : int  6 10 6 10 5 3 5 9 3 3 ...\n",
      " $ stat_test2     : int  10 13 8 15 8 6 9 10 7 3 ...\n",
      " $ teaching_method: chr  \"C\" \"B\" \"B\" \"A\" ...\n"
     ]
    }
   ],
   "source": [
    "d <- read_csv(\"teaching_methods.csv\")\n",
    "names(d) <- c(\"id\", \"name\", \"sex\",\"math\", \"stat\", \"psy_test\", \"stat_test1\", \"stat_test2\", \"teaching_method\")\n",
    "str(d)"
   ]
  },
  {
   "cell_type": "code",
   "execution_count": 9,
   "metadata": {
    "collapsed": false
   },
   "outputs": [
    {
     "data": {
      "text/html": [
       "<ol class=list-inline>\n",
       "\t<li>6</li>\n",
       "\t<li>10</li>\n",
       "\t<li>6</li>\n",
       "\t<li>10</li>\n",
       "\t<li>5</li>\n",
       "\t<li>3</li>\n",
       "\t<li>5</li>\n",
       "\t<li>9</li>\n",
       "\t<li>3</li>\n",
       "\t<li>3</li>\n",
       "</ol>\n"
      ],
      "text/latex": [
       "\\begin{enumerate*}\n",
       "\\item 6\n",
       "\\item 10\n",
       "\\item 6\n",
       "\\item 10\n",
       "\\item 5\n",
       "\\item 3\n",
       "\\item 5\n",
       "\\item 9\n",
       "\\item 3\n",
       "\\item 3\n",
       "\\end{enumerate*}\n"
      ],
      "text/markdown": [
       "1. 6\n",
       "2. 10\n",
       "3. 6\n",
       "4. 10\n",
       "5. 5\n",
       "6. 3\n",
       "7. 5\n",
       "8. 9\n",
       "9. 3\n",
       "10. 3\n",
       "\n",
       "\n"
      ],
      "text/plain": [
       " [1]  6 10  6 10  5  3  5  9  3  3"
      ]
     },
     "metadata": {},
     "output_type": "display_data"
    },
    {
     "data": {
      "text/html": [
       "<ol class=list-inline>\n",
       "\t<li>11</li>\n",
       "\t<li>6</li>\n",
       "\t<li>11</li>\n",
       "\t<li>9</li>\n",
       "\t<li>7</li>\n",
       "\t<li>5</li>\n",
       "\t<li>8</li>\n",
       "\t<li>7</li>\n",
       "\t<li>7</li>\n",
       "\t<li>9</li>\n",
       "</ol>\n"
      ],
      "text/latex": [
       "\\begin{enumerate*}\n",
       "\\item 11\n",
       "\\item 6\n",
       "\\item 11\n",
       "\\item 9\n",
       "\\item 7\n",
       "\\item 5\n",
       "\\item 8\n",
       "\\item 7\n",
       "\\item 7\n",
       "\\item 9\n",
       "\\end{enumerate*}\n"
      ],
      "text/markdown": [
       "1. 11\n",
       "2. 6\n",
       "3. 11\n",
       "4. 9\n",
       "5. 7\n",
       "6. 5\n",
       "7. 8\n",
       "8. 7\n",
       "9. 7\n",
       "10. 9\n",
       "\n",
       "\n"
      ],
      "text/plain": [
       " [1] 11  6 11  9  7  5  8  7  7  9"
      ]
     },
     "metadata": {},
     "output_type": "display_data"
    }
   ],
   "source": [
    "stat_test1.male <- d %>>% filter(sex == \"男\") %>>% (stat_test1)\n",
    "stat_test1.female <- d %>>% filter(sex == \"女\") %>>% (stat_test1)\n",
    "stat_test1.male\n",
    "stat_test1.female"
   ]
  },
  {
   "cell_type": "markdown",
   "metadata": {},
   "source": [
    "検定統計量 $t$"
   ]
  },
  {
   "cell_type": "code",
   "execution_count": 14,
   "metadata": {
    "collapsed": false
   },
   "outputs": [
    {
     "data": {
      "text/html": [
       "-1.84288535050185"
      ],
      "text/latex": [
       "-1.84288535050185"
      ],
      "text/markdown": [
       "-1.84288535050185"
      ],
      "text/plain": [
       "[1] -1.842885"
      ]
     },
     "metadata": {},
     "output_type": "display_data"
    }
   ],
   "source": [
    "n1 <- length(stat_test1.male)\n",
    "n2 <- length(stat_test1.female)\n",
    "\n",
    "a <- mean(stat_test1.male) - mean(stat_test1.female)\n",
    "\n",
    "b <- (n1 - 1)*var(stat_test1.male) + (n2 - 1) * var(stat_test1.female)\n",
    "c <- n1 + n2 - 2\n",
    "sigma.pooled <- sqrt(b / c)\n",
    "\n",
    "d <- (1 / n1 + 1 / n2)\n",
    "\n",
    "t <- a / sigma.pooled / sqrt(d)\n",
    "t"
   ]
  },
  {
   "cell_type": "markdown",
   "metadata": {},
   "source": [
    "棄却域"
   ]
  },
  {
   "cell_type": "code",
   "execution_count": 17,
   "metadata": {
    "collapsed": false
   },
   "outputs": [
    {
     "name": "stdout",
     "output_type": "stream",
     "text": [
      "t <  -2.100922 , t >  2.100922"
     ]
    }
   ],
   "source": [
    "lower <- qt(0.05 / 2, n1 + n2 - 2)\n",
    "upper <- qt(0.05 / 2, n1 + n2 - 2, lower.tail = FALSE)\n",
    "cat(\"t < \", lower, \", t > \", upper)"
   ]
  },
  {
   "cell_type": "code",
   "execution_count": 19,
   "metadata": {
    "collapsed": true
   },
   "outputs": [],
   "source": [
    "options(repr.plot.width = 4, repr.plot.height = 4)"
   ]
  },
  {
   "cell_type": "code",
   "execution_count": 21,
   "metadata": {
    "collapsed": false
   },
   "outputs": [
    {
     "data": {
      "image/png": "[encoded data removed]",
      "image/svg+xml": [
       "<?xml version=\"1.0\" encoding=\"UTF-8\"?>\n",
       "<svg xmlns=\"http://www.w3.org/2000/svg\" xmlns:xlink=\"http://www.w3.org/1999/xlink\" width=\"288pt\" height=\"288pt\" viewBox=\"0 0 288 288\" version=\"1.1\">\n",
       "<defs>\n",
       "<g>\n",
       "<symbol overflow=\"visible\" id=\"glyph0-0\">\n",
       "<path style=\"stroke:none;\" d=\"M 0.367188 -3.105469 C 0.363281 -3.847656 0.4375 -4.445313 0.59375 -4.902344 C 0.742188 -5.355469 0.972656 -5.707031 1.277344 -5.953125 C 1.578125 -6.199219 1.957031 -6.320313 2.417969 -6.324219 C 2.753906 -6.320313 3.050781 -6.253906 3.308594 -6.121094 C 3.5625 -5.984375 3.773438 -5.789063 3.9375 -5.53125 C 4.101563 -5.273438 4.230469 -4.960938 4.328125 -4.59375 C 4.421875 -4.226563 4.46875 -3.730469 4.472656 -3.105469 C 4.46875 -2.367188 4.394531 -1.769531 4.242188 -1.316406 C 4.089844 -0.859375 3.863281 -0.507813 3.5625 -0.261719 C 3.257813 -0.015625 2.875 0.105469 2.417969 0.109375 C 1.808594 0.105469 1.332031 -0.109375 0.988281 -0.546875 C 0.570313 -1.066406 0.363281 -1.921875 0.367188 -3.105469 Z M 1.160156 -3.105469 C 1.160156 -2.070313 1.28125 -1.378906 1.523438 -1.039063 C 1.765625 -0.695313 2.0625 -0.527344 2.417969 -0.527344 C 2.773438 -0.527344 3.074219 -0.699219 3.316406 -1.042969 C 3.558594 -1.386719 3.679688 -2.074219 3.679688 -3.105469 C 3.679688 -4.144531 3.558594 -4.832031 3.316406 -5.171875 C 3.074219 -5.511719 2.769531 -5.683594 2.410156 -5.683594 C 2.050781 -5.683594 1.769531 -5.53125 1.558594 -5.234375 C 1.292969 -4.84375 1.160156 -4.136719 1.160156 -3.105469 Z M 1.160156 -3.105469 \"/>\n",
       "</symbol>\n",
       "<symbol overflow=\"visible\" id=\"glyph0-1\">\n",
       "<path style=\"stroke:none;\" d=\"M 0.800781 0 L 0.800781 -0.882813 L 1.679688 -0.882813 L 1.679688 0 Z M 0.800781 0 \"/>\n",
       "</symbol>\n",
       "<symbol overflow=\"visible\" id=\"glyph0-2\">\n",
       "<path style=\"stroke:none;\" d=\"M 3.277344 0 L 2.503906 0 L 2.503906 -4.929688 C 2.316406 -4.75 2.074219 -4.574219 1.773438 -4.394531 C 1.46875 -4.214844 1.195313 -4.082031 0.957031 -3.996094 L 0.957031 -4.742188 C 1.386719 -4.941406 1.765625 -5.1875 2.089844 -5.480469 C 2.414063 -5.769531 2.644531 -6.050781 2.78125 -6.324219 L 3.277344 -6.324219 Z M 3.277344 0 \"/>\n",
       "</symbol>\n",
       "<symbol overflow=\"visible\" id=\"glyph0-3\">\n",
       "<path style=\"stroke:none;\" d=\"M 4.429688 -0.742188 L 4.429688 0 L 0.265625 0 C 0.257813 -0.1875 0.289063 -0.367188 0.355469 -0.539063 C 0.460938 -0.820313 0.628906 -1.097656 0.863281 -1.375 C 1.09375 -1.648438 1.433594 -1.964844 1.878906 -2.328125 C 2.5625 -2.886719 3.023438 -3.332031 3.265625 -3.664063 C 3.5 -3.988281 3.621094 -4.300781 3.625 -4.59375 C 3.621094 -4.898438 3.511719 -5.15625 3.296875 -5.367188 C 3.074219 -5.578125 2.789063 -5.683594 2.441406 -5.683594 C 2.066406 -5.683594 1.769531 -5.570313 1.546875 -5.347656 C 1.320313 -5.125 1.207031 -4.816406 1.207031 -4.421875 L 0.414063 -4.503906 C 0.464844 -5.09375 0.667969 -5.542969 1.027344 -5.855469 C 1.378906 -6.164063 1.855469 -6.320313 2.457031 -6.324219 C 3.058594 -6.320313 3.539063 -6.152344 3.890625 -5.820313 C 4.242188 -5.484375 4.417969 -5.070313 4.421875 -4.578125 C 4.417969 -4.320313 4.367188 -4.074219 4.265625 -3.832031 C 4.164063 -3.589844 3.992188 -3.332031 3.753906 -3.0625 C 3.511719 -2.792969 3.113281 -2.425781 2.5625 -1.957031 C 2.09375 -1.566406 1.796875 -1.300781 1.664063 -1.160156 C 1.53125 -1.019531 1.421875 -0.878906 1.339844 -0.742188 Z M 4.429688 -0.742188 \"/>\n",
       "</symbol>\n",
       "<symbol overflow=\"visible\" id=\"glyph0-4\">\n",
       "<path style=\"stroke:none;\" d=\"M 0.371094 -1.664063 L 1.144531 -1.765625 C 1.230469 -1.324219 1.382813 -1.007813 1.597656 -0.816406 C 1.808594 -0.621094 2.066406 -0.527344 2.375 -0.527344 C 2.734375 -0.527344 3.042969 -0.652344 3.296875 -0.90625 C 3.546875 -1.15625 3.671875 -1.46875 3.675781 -1.84375 C 3.671875 -2.195313 3.554688 -2.488281 3.324219 -2.71875 C 3.089844 -2.949219 2.796875 -3.0625 2.441406 -3.066406 C 2.292969 -3.0625 2.109375 -3.035156 1.894531 -2.980469 L 1.980469 -3.660156 C 2.03125 -3.652344 2.070313 -3.648438 2.105469 -3.652344 C 2.433594 -3.648438 2.730469 -3.734375 2.996094 -3.910156 C 3.253906 -4.078125 3.386719 -4.34375 3.390625 -4.703125 C 3.386719 -4.984375 3.289063 -5.21875 3.101563 -5.40625 C 2.90625 -5.589844 2.660156 -5.683594 2.359375 -5.6875 C 2.054688 -5.683594 1.804688 -5.589844 1.605469 -5.402344 C 1.402344 -5.214844 1.273438 -4.929688 1.21875 -4.554688 L 0.445313 -4.691406 C 0.539063 -5.207031 0.753906 -5.609375 1.089844 -5.894531 C 1.425781 -6.179688 1.84375 -6.320313 2.34375 -6.324219 C 2.6875 -6.320313 3.003906 -6.246094 3.292969 -6.101563 C 3.582031 -5.953125 3.800781 -5.753906 3.953125 -5.5 C 4.105469 -5.242188 4.183594 -4.972656 4.183594 -4.6875 C 4.183594 -4.414063 4.109375 -4.164063 3.964844 -3.945313 C 3.816406 -3.71875 3.601563 -3.542969 3.316406 -3.410156 C 3.6875 -3.324219 3.976563 -3.144531 4.183594 -2.875 C 4.390625 -2.601563 4.492188 -2.261719 4.496094 -1.859375 C 4.492188 -1.304688 4.292969 -0.839844 3.894531 -0.460938 C 3.492188 -0.078125 2.984375 0.109375 2.371094 0.113281 C 1.816406 0.109375 1.355469 -0.0507813 0.992188 -0.378906 C 0.625 -0.707031 0.417969 -1.136719 0.371094 -1.664063 Z M 0.371094 -1.664063 \"/>\n",
       "</symbol>\n",
       "<symbol overflow=\"visible\" id=\"glyph0-5\">\n",
       "<path style=\"stroke:none;\" d=\"M 2.84375 0 L 2.84375 -1.507813 L 0.113281 -1.507813 L 0.113281 -2.21875 L 2.988281 -6.300781 L 3.617188 -6.300781 L 3.617188 -2.21875 L 4.46875 -2.21875 L 4.46875 -1.507813 L 3.617188 -1.507813 L 3.617188 0 Z M 2.84375 -2.21875 L 2.84375 -5.058594 L 0.871094 -2.21875 Z M 2.84375 -2.21875 \"/>\n",
       "</symbol>\n",
       "<symbol overflow=\"visible\" id=\"glyph0-6\">\n",
       "<path style=\"stroke:none;\" d=\"M 0.28125 -1.890625 L 0.28125 -2.667969 L 2.65625 -2.667969 L 2.65625 -1.890625 Z M 0.28125 -1.890625 \"/>\n",
       "</symbol>\n",
       "<symbol overflow=\"visible\" id=\"glyph1-0\">\n",
       "<path style=\"stroke:none;\" d=\"M 0.0820313 0 L 2.164063 -2.964844 L 0.234375 -5.703125 L 1.445313 -5.703125 L 2.320313 -4.367188 C 2.484375 -4.109375 2.617188 -3.898438 2.71875 -3.726563 C 2.875 -3.960938 3.019531 -4.167969 3.152344 -4.355469 L 4.113281 -5.703125 L 5.269531 -5.703125 L 3.296875 -3.019531 L 5.417969 0 L 4.234375 0 L 3.0625 -1.773438 L 2.75 -2.25 L 1.25 0 Z M 0.0820313 0 \"/>\n",
       "</symbol>\n",
       "<symbol overflow=\"visible\" id=\"glyph2-0\">\n",
       "<path style=\"stroke:none;\" d=\"M 2.195313 -0.683594 L 1.289063 -0.574219 C 1.34375 -0.785156 1.371094 -0.96875 1.375 -1.128906 C 1.371094 -1.339844 1.335938 -1.511719 1.265625 -1.640625 C 1.195313 -1.769531 1.09375 -1.875 0.96875 -1.960938 C 0.867188 -2.019531 0.628906 -2.117188 0.246094 -2.257813 C 0.191406 -2.269531 0.113281 -2.300781 0.0117188 -2.34375 L -5.703125 -0.175781 L -5.703125 -1.21875 L -2.402344 -2.40625 C -1.980469 -2.558594 -1.539063 -2.695313 -1.078125 -2.820313 C -1.523438 -2.925781 -1.957031 -3.058594 -2.378906 -3.21875 L -5.703125 -4.4375 L -5.703125 -5.402344 L 0.0976563 -3.234375 C 0.71875 -3 1.148438 -2.816406 1.390625 -2.691406 C 1.707031 -2.515625 1.941406 -2.320313 2.09375 -2.097656 C 2.238281 -1.875 2.3125 -1.609375 2.316406 -1.304688 C 2.3125 -1.117188 2.273438 -0.910156 2.195313 -0.683594 Z M 2.195313 -0.683594 \"/>\n",
       "</symbol>\n",
       "</g>\n",
       "<clipPath id=\"clip1\">\n",
       "  <path d=\"M 37.09375 5.480469 L 283.519531 5.480469 L 283.519531 257.839844 L 37.09375 257.839844 Z M 37.09375 5.480469 \"/>\n",
       "</clipPath>\n",
       "</defs>\n",
       "<g id=\"surface11\">\n",
       "<rect x=\"0\" y=\"0\" width=\"288\" height=\"288\" style=\"fill:rgb(100%,100%,100%);fill-opacity:1;stroke:none;\"/>\n",
       "<rect x=\"0\" y=\"0\" width=\"288\" height=\"288\" style=\"fill:rgb(100%,100%,100%);fill-opacity:1;stroke:none;\"/>\n",
       "<path style=\"fill:none;stroke-width:1.066978;stroke-linecap:round;stroke-linejoin:round;stroke:rgb(100%,100%,100%);stroke-opacity:1;stroke-miterlimit:10;\" d=\"M 0 288 L 288 288 L 288 0 L 0 0 Z M 0 288 \"/>\n",
       "<g clip-path=\"url(#clip1)\" clip-rule=\"nonzero\">\n",
       "<path style=\" stroke:none;fill-rule:nonzero;fill:rgb(92.156863%,92.156863%,92.156863%);fill-opacity:1;\" d=\"M 37.09375 256.839844 L 282.519531 256.839844 L 282.519531 5.480469 L 37.09375 5.480469 Z M 37.09375 256.839844 \"/>\n",
       "<path style=\"fill:none;stroke-width:0.533489;stroke-linecap:butt;stroke-linejoin:round;stroke:rgb(100%,100%,100%);stroke-opacity:1;stroke-miterlimit:10;\" d=\"M 37.09375 220.703125 L 282.519531 220.703125 \"/>\n",
       "<path style=\"fill:none;stroke-width:0.533489;stroke-linecap:butt;stroke-linejoin:round;stroke:rgb(100%,100%,100%);stroke-opacity:1;stroke-miterlimit:10;\" d=\"M 37.09375 161.363281 L 282.519531 161.363281 \"/>\n",
       "<path style=\"fill:none;stroke-width:0.533489;stroke-linecap:butt;stroke-linejoin:round;stroke:rgb(100%,100%,100%);stroke-opacity:1;stroke-miterlimit:10;\" d=\"M 37.09375 102.023438 L 282.519531 102.023438 \"/>\n",
       "<path style=\"fill:none;stroke-width:0.533489;stroke-linecap:butt;stroke-linejoin:round;stroke:rgb(100%,100%,100%);stroke-opacity:1;stroke-miterlimit:10;\" d=\"M 37.09375 42.683594 L 282.519531 42.683594 \"/>\n",
       "<path style=\"fill:none;stroke-width:0.533489;stroke-linecap:butt;stroke-linejoin:round;stroke:rgb(100%,100%,100%);stroke-opacity:1;stroke-miterlimit:10;\" d=\"M 48.25 256.839844 L 48.25 5.480469 \"/>\n",
       "<path style=\"fill:none;stroke-width:0.533489;stroke-linecap:butt;stroke-linejoin:round;stroke:rgb(100%,100%,100%);stroke-opacity:1;stroke-miterlimit:10;\" d=\"M 122.621094 256.839844 L 122.621094 5.480469 \"/>\n",
       "<path style=\"fill:none;stroke-width:0.533489;stroke-linecap:butt;stroke-linejoin:round;stroke:rgb(100%,100%,100%);stroke-opacity:1;stroke-miterlimit:10;\" d=\"M 196.992188 256.839844 L 196.992188 5.480469 \"/>\n",
       "<path style=\"fill:none;stroke-width:0.533489;stroke-linecap:butt;stroke-linejoin:round;stroke:rgb(100%,100%,100%);stroke-opacity:1;stroke-miterlimit:10;\" d=\"M 271.363281 256.839844 L 271.363281 5.480469 \"/>\n",
       "<path style=\"fill:none;stroke-width:1.066978;stroke-linecap:butt;stroke-linejoin:round;stroke:rgb(100%,100%,100%);stroke-opacity:1;stroke-miterlimit:10;\" d=\"M 37.09375 250.375 L 282.519531 250.375 \"/>\n",
       "<path style=\"fill:none;stroke-width:1.066978;stroke-linecap:butt;stroke-linejoin:round;stroke:rgb(100%,100%,100%);stroke-opacity:1;stroke-miterlimit:10;\" d=\"M 37.09375 191.035156 L 282.519531 191.035156 \"/>\n",
       "<path style=\"fill:none;stroke-width:1.066978;stroke-linecap:butt;stroke-linejoin:round;stroke:rgb(100%,100%,100%);stroke-opacity:1;stroke-miterlimit:10;\" d=\"M 37.09375 131.695313 L 282.519531 131.695313 \"/>\n",
       "<path style=\"fill:none;stroke-width:1.066978;stroke-linecap:butt;stroke-linejoin:round;stroke:rgb(100%,100%,100%);stroke-opacity:1;stroke-miterlimit:10;\" d=\"M 37.09375 72.355469 L 282.519531 72.355469 \"/>\n",
       "<path style=\"fill:none;stroke-width:1.066978;stroke-linecap:butt;stroke-linejoin:round;stroke:rgb(100%,100%,100%);stroke-opacity:1;stroke-miterlimit:10;\" d=\"M 37.09375 13.015625 L 282.519531 13.015625 \"/>\n",
       "<path style=\"fill:none;stroke-width:1.066978;stroke-linecap:butt;stroke-linejoin:round;stroke:rgb(100%,100%,100%);stroke-opacity:1;stroke-miterlimit:10;\" d=\"M 85.433594 256.839844 L 85.433594 5.480469 \"/>\n",
       "<path style=\"fill:none;stroke-width:1.066978;stroke-linecap:butt;stroke-linejoin:round;stroke:rgb(100%,100%,100%);stroke-opacity:1;stroke-miterlimit:10;\" d=\"M 159.808594 256.839844 L 159.808594 5.480469 \"/>\n",
       "<path style=\"fill:none;stroke-width:1.066978;stroke-linecap:butt;stroke-linejoin:round;stroke:rgb(100%,100%,100%);stroke-opacity:1;stroke-miterlimit:10;\" d=\"M 234.179688 256.839844 L 234.179688 5.480469 \"/>\n",
       "<path style=\"fill:none;stroke-width:1.066978;stroke-linecap:butt;stroke-linejoin:round;stroke:rgb(0%,0%,0%);stroke-opacity:1;stroke-miterlimit:1;\" d=\"M 48.25 245.414063 L 50.480469 244.746094 L 52.710938 243.996094 L 54.941406 243.152344 L 57.175781 242.203125 L 59.40625 241.140625 L 61.636719 239.953125 L 63.867188 238.625 L 66.097656 237.144531 L 68.328125 235.5 L 70.5625 233.671875 L 72.792969 231.648438 L 75.023438 229.410156 L 77.253906 226.945313 L 79.484375 224.230469 L 81.714844 221.257813 L 83.949219 218.007813 L 86.179688 214.460938 L 88.410156 210.605469 L 90.640625 206.429688 L 92.871094 201.917969 L 95.105469 197.0625 L 97.335938 191.859375 L 99.566406 186.296875 L 101.796875 180.382813 L 104.027344 174.117188 L 106.257813 167.507813 L 108.492188 160.570313 L 110.722656 153.320313 L 112.953125 145.78125 L 115.183594 137.988281 L 117.414063 129.980469 L 119.644531 121.789063 L 121.878906 113.476563 L 124.109375 105.089844 L 126.339844 96.691406 L 128.570313 88.347656 L 130.800781 80.125 L 133.03125 72.101563 L 135.265625 64.347656 L 137.496094 56.941406 L 139.726563 49.960938 L 141.957031 43.476563 L 144.1875 37.5625 L 146.421875 32.285156 L 148.652344 27.710938 L 150.882813 23.882813 L 153.113281 20.859375 L 155.34375 18.671875 L 157.574219 17.347656 L 159.808594 16.90625 L 162.039063 17.347656 L 164.269531 18.671875 L 166.5 20.859375 L 168.730469 23.882813 L 170.960938 27.710938 L 173.195313 32.285156 L 175.425781 37.5625 L 177.65625 43.476563 L 179.886719 49.960938 L 182.117188 56.941406 L 184.351563 64.347656 L 186.582031 72.101563 L 188.8125 80.125 L 191.042969 88.347656 L 193.273438 96.691406 L 195.503906 105.089844 L 197.738281 113.476563 L 199.96875 121.789063 L 202.199219 129.980469 L 204.429688 137.988281 L 206.660156 145.78125 L 208.890625 153.320313 L 211.125 160.570313 L 213.355469 167.507813 L 215.585938 174.117188 L 217.816406 180.382813 L 220.046875 186.296875 L 222.28125 191.859375 L 224.511719 197.0625 L 226.742188 201.917969 L 228.972656 206.429688 L 231.203125 210.605469 L 233.433594 214.460938 L 235.667969 218.007813 L 237.898438 221.257813 L 240.128906 224.230469 L 242.359375 226.945313 L 244.589844 229.410156 L 246.820313 231.648438 L 249.054688 233.671875 L 251.285156 235.5 L 253.515625 237.144531 L 255.746094 238.625 L 257.976563 239.953125 L 260.210938 241.140625 L 262.441406 242.203125 L 264.671875 243.152344 L 266.902344 243.996094 L 269.132813 244.746094 L 271.363281 245.414063 \"/>\n",
       "<path style=\"fill:none;stroke-width:1.066978;stroke-linecap:butt;stroke-linejoin:round;stroke:rgb(0%,0%,0%);stroke-opacity:1;stroke-miterlimit:10;\" d=\"M 81.683594 256.839844 L 81.683594 5.480469 \"/>\n",
       "<path style=\"fill:none;stroke-width:1.066978;stroke-linecap:butt;stroke-linejoin:round;stroke:rgb(0%,0%,0%);stroke-opacity:1;stroke-miterlimit:10;\" d=\"M 237.933594 256.839844 L 237.933594 5.480469 \"/>\n",
       "</g>\n",
       "<g style=\"fill:rgb(30.196078%,30.196078%,30.196078%);fill-opacity:1;\">\n",
       "  <use xlink:href=\"#glyph0-0\" x=\"19.925781\" y=\"253.523438\"/>\n",
       "  <use xlink:href=\"#glyph0-1\" x=\"24.819922\" y=\"253.523438\"/>\n",
       "  <use xlink:href=\"#glyph0-0\" x=\"27.264844\" y=\"253.523438\"/>\n",
       "</g>\n",
       "<g style=\"fill:rgb(30.196078%,30.196078%,30.196078%);fill-opacity:1;\">\n",
       "  <use xlink:href=\"#glyph0-0\" x=\"19.925781\" y=\"194.183594\"/>\n",
       "  <use xlink:href=\"#glyph0-1\" x=\"24.819922\" y=\"194.183594\"/>\n",
       "  <use xlink:href=\"#glyph0-2\" x=\"27.264844\" y=\"194.183594\"/>\n",
       "</g>\n",
       "<g style=\"fill:rgb(30.196078%,30.196078%,30.196078%);fill-opacity:1;\">\n",
       "  <use xlink:href=\"#glyph0-0\" x=\"19.925781\" y=\"134.84375\"/>\n",
       "  <use xlink:href=\"#glyph0-1\" x=\"24.819922\" y=\"134.84375\"/>\n",
       "  <use xlink:href=\"#glyph0-3\" x=\"27.264844\" y=\"134.84375\"/>\n",
       "</g>\n",
       "<g style=\"fill:rgb(30.196078%,30.196078%,30.196078%);fill-opacity:1;\">\n",
       "  <use xlink:href=\"#glyph0-0\" x=\"19.925781\" y=\"75.503906\"/>\n",
       "  <use xlink:href=\"#glyph0-1\" x=\"24.819922\" y=\"75.503906\"/>\n",
       "  <use xlink:href=\"#glyph0-4\" x=\"27.264844\" y=\"75.503906\"/>\n",
       "</g>\n",
       "<g style=\"fill:rgb(30.196078%,30.196078%,30.196078%);fill-opacity:1;\">\n",
       "  <use xlink:href=\"#glyph0-0\" x=\"19.925781\" y=\"16.164063\"/>\n",
       "  <use xlink:href=\"#glyph0-1\" x=\"24.819922\" y=\"16.164063\"/>\n",
       "  <use xlink:href=\"#glyph0-5\" x=\"27.264844\" y=\"16.164063\"/>\n",
       "</g>\n",
       "<path style=\"fill:none;stroke-width:1.066978;stroke-linecap:butt;stroke-linejoin:round;stroke:rgb(20%,20%,20%);stroke-opacity:1;stroke-miterlimit:10;\" d=\"M 34.355469 250.375 L 37.09375 250.375 \"/>\n",
       "<path style=\"fill:none;stroke-width:1.066978;stroke-linecap:butt;stroke-linejoin:round;stroke:rgb(20%,20%,20%);stroke-opacity:1;stroke-miterlimit:10;\" d=\"M 34.355469 191.035156 L 37.09375 191.035156 \"/>\n",
       "<path style=\"fill:none;stroke-width:1.066978;stroke-linecap:butt;stroke-linejoin:round;stroke:rgb(20%,20%,20%);stroke-opacity:1;stroke-miterlimit:10;\" d=\"M 34.355469 131.695313 L 37.09375 131.695313 \"/>\n",
       "<path style=\"fill:none;stroke-width:1.066978;stroke-linecap:butt;stroke-linejoin:round;stroke:rgb(20%,20%,20%);stroke-opacity:1;stroke-miterlimit:10;\" d=\"M 34.355469 72.355469 L 37.09375 72.355469 \"/>\n",
       "<path style=\"fill:none;stroke-width:1.066978;stroke-linecap:butt;stroke-linejoin:round;stroke:rgb(20%,20%,20%);stroke-opacity:1;stroke-miterlimit:10;\" d=\"M 34.355469 13.015625 L 37.09375 13.015625 \"/>\n",
       "<path style=\"fill:none;stroke-width:1.066978;stroke-linecap:butt;stroke-linejoin:round;stroke:rgb(20%,20%,20%);stroke-opacity:1;stroke-miterlimit:10;\" d=\"M 85.433594 259.582031 L 85.433594 256.839844 \"/>\n",
       "<path style=\"fill:none;stroke-width:1.066978;stroke-linecap:butt;stroke-linejoin:round;stroke:rgb(20%,20%,20%);stroke-opacity:1;stroke-miterlimit:10;\" d=\"M 159.808594 259.582031 L 159.808594 256.839844 \"/>\n",
       "<path style=\"fill:none;stroke-width:1.066978;stroke-linecap:butt;stroke-linejoin:round;stroke:rgb(20%,20%,20%);stroke-opacity:1;stroke-miterlimit:10;\" d=\"M 234.179688 259.582031 L 234.179688 256.839844 \"/>\n",
       "<g style=\"fill:rgb(30.196078%,30.196078%,30.196078%);fill-opacity:1;\">\n",
       "  <use xlink:href=\"#glyph0-6\" x=\"81.519531\" y=\"268.070313\"/>\n",
       "  <use xlink:href=\"#glyph0-3\" x=\"84.45\" y=\"268.070313\"/>\n",
       "</g>\n",
       "<g style=\"fill:rgb(30.196078%,30.196078%,30.196078%);fill-opacity:1;\">\n",
       "  <use xlink:href=\"#glyph0-0\" x=\"157.363281\" y=\"268.070313\"/>\n",
       "</g>\n",
       "<g style=\"fill:rgb(30.196078%,30.196078%,30.196078%);fill-opacity:1;\">\n",
       "  <use xlink:href=\"#glyph0-3\" x=\"231.734375\" y=\"268.070313\"/>\n",
       "</g>\n",
       "<g style=\"fill:rgb(0%,0%,0%);fill-opacity:1;\">\n",
       "  <use xlink:href=\"#glyph1-0\" x=\"157.058594\" y=\"280.328125\"/>\n",
       "</g>\n",
       "<g style=\"fill:rgb(0%,0%,0%);fill-opacity:1;\">\n",
       "  <use xlink:href=\"#glyph2-0\" x=\"15.546875\" y=\"133.910156\"/>\n",
       "</g>\n",
       "</g>\n",
       "</svg>\n"
      ],
      "text/plain": [
       "plot without title"
      ]
     },
     "metadata": {
      "image/svg+xml": {
       "isolated": true
      }
     },
     "output_type": "display_data"
    }
   ],
   "source": [
    "ggplot(data.frame(x = c(-3, 3)), aes(x)) + \n",
    "    stat_function(fun = dt, args = list(df = n1 + n2 - 2)) + \n",
    "    geom_vline(xintercept = c(qt(0.025, df = n1 + n2 - 2), qt(0.975, df = n1 + n2 - 2)))"
   ]
  },
  {
   "cell_type": "markdown",
   "metadata": {},
   "source": [
    "帰無仮説を棄却できない．\n",
    "男女で統計テスト1の得点に有意差があるとは言えない．"
   ]
  },
  {
   "cell_type": "markdown",
   "metadata": {},
   "source": [
    "$p$ 値は，"
   ]
  },
  {
   "cell_type": "code",
   "execution_count": 23,
   "metadata": {
    "collapsed": false
   },
   "outputs": [
    {
     "data": {
      "text/html": [
       "0.0818780146241068"
      ],
      "text/latex": [
       "0.0818780146241068"
      ],
      "text/markdown": [
       "0.0818780146241068"
      ],
      "text/plain": [
       "[1] 0.08187801"
      ]
     },
     "metadata": {},
     "output_type": "display_data"
    }
   ],
   "source": [
    "2 * pt(t, df = n1 + n2 - 2)"
   ]
  },
  {
   "cell_type": "markdown",
   "metadata": {},
   "source": [
    "`t.test()` を使う"
   ]
  },
  {
   "cell_type": "code",
   "execution_count": 25,
   "metadata": {
    "collapsed": false
   },
   "outputs": [
    {
     "data": {
      "text/plain": [
       "\n",
       "\tTwo Sample t-test\n",
       "\n",
       "data:  stat_test1.male and stat_test1.female\n",
       "t = -1.8429, df = 18, p-value = 0.08188\n",
       "alternative hypothesis: true difference in means is not equal to 0\n",
       "95 percent confidence interval:\n",
       " -4.2800355  0.2800355\n",
       "sample estimates:\n",
       "mean of x mean of y \n",
       "        6         8 \n"
      ]
     },
     "metadata": {},
     "output_type": "display_data"
    }
   ],
   "source": [
    "t.test(stat_test1.male, stat_test1.female, var.equal = TRUE)"
   ]
  }
 ],
 "metadata": {
  "kernelspec": {
   "display_name": "R 3.2",
   "language": "R",
   "name": "ir32"
  },
  "language_info": {
   "codemirror_mode": "r",
   "file_extension": ".r",
   "mimetype": "text/x-r-source",
   "name": "R",
   "pygments_lexer": "r",
   "version": "3.2.3"
  }
 },
 "nbformat": 4,
 "nbformat_minor": 0
}
