{
 "cells": [
  {
   "cell_type": "markdown",
   "metadata": {},
   "source": [
    "# 第I部\n",
    "# 第7章 分散分析"
   ]
  },
  {
   "cell_type": "code",
   "execution_count": 1,
   "metadata": {
    "collapsed": false,
    "scrolled": false
   },
   "outputs": [
    {
     "name": "stderr",
     "output_type": "stream",
     "text": [
      "Loading required package: pipeR\n",
      "Warning message:\n",
      ": package ‘pipeR’ was built under R version 3.2.4Loading required package: dplyr\n",
      "\n",
      "Attaching package: ‘dplyr’\n",
      "\n",
      " 以下のオブジェクトは ‘package:stats’ からマスクされています: \n",
      "\n",
      "     filter, lag \n",
      "\n",
      " 以下のオブジェクトは ‘package:base’ からマスクされています: \n",
      "\n",
      "     intersect, setdiff, setequal, union \n",
      "\n",
      "Loading required package: tidyr\n",
      "Loading required package: ggplot2\n",
      "Warning message:\n",
      ": package ‘ggplot2’ was built under R version 3.2.4Loading required package: readr\n",
      "Loading required package: readxl\n",
      "Warning message:\n",
      ": package ‘readxl’ was built under R version 3.2.4"
     ]
    },
    {
     "data": {
      "text/html": [
       "<ol>\n",
       "\t<li>TRUE</li>\n",
       "\t<li>TRUE</li>\n",
       "\t<li>TRUE</li>\n",
       "\t<li>TRUE</li>\n",
       "\t<li>TRUE</li>\n",
       "\t<li>TRUE</li>\n",
       "</ol>\n"
      ],
      "text/latex": [
       "\\begin{enumerate}\n",
       "\\item TRUE\n",
       "\\item TRUE\n",
       "\\item TRUE\n",
       "\\item TRUE\n",
       "\\item TRUE\n",
       "\\item TRUE\n",
       "\\end{enumerate}\n"
      ],
      "text/markdown": [
       "1. TRUE\n",
       "2. TRUE\n",
       "3. TRUE\n",
       "4. TRUE\n",
       "5. TRUE\n",
       "6. TRUE\n",
       "\n",
       "\n"
      ],
      "text/plain": [
       "[[1]]\n",
       "[1] TRUE\n",
       "\n",
       "[[2]]\n",
       "[1] TRUE\n",
       "\n",
       "[[3]]\n",
       "[1] TRUE\n",
       "\n",
       "[[4]]\n",
       "[1] TRUE\n",
       "\n",
       "[[5]]\n",
       "[1] TRUE\n",
       "\n",
       "[[6]]\n",
       "[1] TRUE\n"
      ]
     },
     "execution_count": 1,
     "metadata": {},
     "output_type": "execute_result"
    }
   ],
   "source": [
    "pkgs <- c(\"pipeR\", \"dplyr\", \"tidyr\", \"ggplot2\", \"readr\", \"readxl\")\n",
    "lapply(pkgs, require, character.only = TRUE)"
   ]
  },
  {
   "cell_type": "code",
   "execution_count": 2,
   "metadata": {
    "collapsed": false
   },
   "outputs": [
    {
     "data": {
      "text/html": [
       "<table>\n",
       "<thead><tr><th></th><th scope=col>ID</th><th scope=col>名前</th><th scope=col>性別</th><th scope=col>数学</th><th scope=col>統計</th><th scope=col>心理学テスト</th><th scope=col>統計テスト1</th><th scope=col>統計テスト2</th><th scope=col>指導法</th></tr></thead>\n",
       "<tbody>\n",
       "\t<tr><th scope=row>1</th><td>1   </td><td>大村</td><td>男  </td><td>嫌い</td><td>好き</td><td>13  </td><td>6   </td><td>10  </td><td>C   </td></tr>\n",
       "\t<tr><th scope=row>2</th><td>2   </td><td>本多</td><td>男  </td><td>嫌い</td><td>好き</td><td>14  </td><td>10  </td><td>13  </td><td>B   </td></tr>\n",
       "\t<tr><th scope=row>3</th><td>3   </td><td>川崎</td><td>男  </td><td>好き</td><td>好き</td><td>7   </td><td>6   </td><td>8   </td><td>B   </td></tr>\n",
       "\t<tr><th scope=row>4</th><td>4   </td><td>多村</td><td>男  </td><td>好き</td><td>好き</td><td>12  </td><td>10  </td><td>15  </td><td>A   </td></tr>\n",
       "\t<tr><th scope=row>5</th><td>5   </td><td>松中</td><td>男  </td><td>嫌い</td><td>嫌い</td><td>10  </td><td>5   </td><td>8   </td><td>B   </td></tr>\n",
       "\t<tr><th scope=row>6</th><td>6     </td><td>小久保</td><td>男    </td><td>嫌い  </td><td>嫌い  </td><td>6     </td><td>3     </td><td>6     </td><td>C     </td></tr>\n",
       "</tbody>\n",
       "</table>\n"
      ],
      "text/latex": [
       "\\begin{tabular}{r|lllllllll}\n",
       "  & ID & 名前 & 性別 & 数学 & 統計 & 心理学テスト & 統計テスト1 & 統計テスト2 & 指導法\\\\\n",
       "\\hline\n",
       "\t1 & 1    & 大村 & 男   & 嫌い & 好き & 13   & 6    & 10   & C   \\\\\n",
       "\t2 & 2    & 本多 & 男   & 嫌い & 好き & 14   & 10   & 13   & B   \\\\\n",
       "\t3 & 3    & 川崎 & 男   & 好き & 好き & 7    & 6    & 8    & B   \\\\\n",
       "\t4 & 4    & 多村 & 男   & 好き & 好き & 12   & 10   & 15   & A   \\\\\n",
       "\t5 & 5    & 松中 & 男   & 嫌い & 嫌い & 10   & 5    & 8    & B   \\\\\n",
       "\t6 & 6      & 小久保 & 男     & 嫌い   & 嫌い   & 6      & 3      & 6      & C     \\\\\n",
       "\\end{tabular}\n"
      ],
      "text/plain": [
       "Source: local data frame [6 x 9]\n",
       "\n",
       "     ID   名前  性別  数学  統計 心理学テスト 統計テスト1 統計テスト2 指導法\n",
       "  (int)  (chr) (chr) (chr) (chr)        (int)       (int)       (int)  (chr)\n",
       "1     1   大村    男  嫌い  好き           13           6          10      C\n",
       "2     2   本多    男  嫌い  好き           14          10          13      B\n",
       "3     3   川崎    男  好き  好き            7           6           8      B\n",
       "4     4   多村    男  好き  好き           12          10          15      A\n",
       "5     5   松中    男  嫌い  嫌い           10           5           8      B\n",
       "6     6 小久保    男  嫌い  嫌い            6           3           6      C"
      ]
     },
     "execution_count": 2,
     "metadata": {},
     "output_type": "execute_result"
    }
   ],
   "source": [
    "d <- read_csv(\"teaching_methods.csv\")\n",
    "head(d)"
   ]
  },
  {
   "cell_type": "code",
   "execution_count": 3,
   "metadata": {
    "collapsed": false
   },
   "outputs": [
    {
     "name": "stdout",
     "output_type": "stream",
     "text": [
      "Classes ‘tbl_df’, ‘tbl’ and 'data.frame':\t20 obs. of  9 variables:\n",
      " $ ID          : int  1 2 3 4 5 6 7 8 9 10 ...\n",
      " $ 名前        : chr  \"大村\" \"本多\" \"川崎\" \"多村\" ...\n",
      " $ 性別        : chr  \"男\" \"男\" \"男\" \"男\" ...\n",
      " $ 数学        : chr  \"嫌い\" \"嫌い\" \"好き\" \"好き\" ...\n",
      " $ 統計        : chr  \"好き\" \"好き\" \"好き\" \"好き\" ...\n",
      " $ 心理学テスト: int  13 14 7 12 10 6 8 15 4 14 ...\n",
      " $ 統計テスト1 : int  6 10 6 10 5 3 5 9 3 3 ...\n",
      " $ 統計テスト2 : int  10 13 8 15 8 6 9 10 7 3 ...\n",
      " $ 指導法      : chr  \"C\" \"B\" \"B\" \"A\" ...\n"
     ]
    }
   ],
   "source": [
    "str(d)"
   ]
  },
  {
   "cell_type": "code",
   "execution_count": 4,
   "metadata": {
    "collapsed": true
   },
   "outputs": [],
   "source": [
    "names(d) <- c(\"id\", \"name\", \"sex\",\"math\", \"stat\", \"psy_test\", \"stat_test1\", \"stat_test2\", \"teaching_method\")"
   ]
  },
  {
   "cell_type": "code",
   "execution_count": 5,
   "metadata": {
    "collapsed": false
   },
   "outputs": [
    {
     "name": "stderr",
     "output_type": "stream",
     "text": [
      "Warning message:\n",
      ": package ‘rlist’ was built under R version 3.2.4"
     ]
    }
   ],
   "source": [
    "library(rlist)"
   ]
  },
  {
   "cell_type": "code",
   "execution_count": 6,
   "metadata": {
    "collapsed": false
   },
   "outputs": [
    {
     "name": "stderr",
     "output_type": "stream",
     "text": [
      "\n",
      "Attaching package: ‘purrr’\n",
      "\n",
      " 以下のオブジェクトは ‘package:dplyr’ からマスクされています: \n",
      "\n",
      "     order_by \n",
      "\n"
     ]
    }
   ],
   "source": [
    "library(purrr)"
   ]
  },
  {
   "cell_type": "markdown",
   "metadata": {},
   "source": [
    "* 指導法ごとの統計テスト2の点数"
   ]
  },
  {
   "cell_type": "code",
   "execution_count": 7,
   "metadata": {
    "collapsed": false
   },
   "outputs": [
    {
     "data": {
      "text/html": [
       "<table>\n",
       "<thead><tr><th scope=col>A</th><th scope=col>B</th><th scope=col>C</th><th scope=col>D</th></tr></thead>\n",
       "<tbody>\n",
       "\t<tr><td>15</td><td>13</td><td>10</td><td>10</td></tr>\n",
       "\t<tr><td>9</td><td>8</td><td>6</td><td>7</td></tr>\n",
       "\t<tr><td>18</td><td> 8</td><td>11</td><td> 3</td></tr>\n",
       "\t<tr><td>14</td><td>12</td><td> 7</td><td> 5</td></tr>\n",
       "\t<tr><td>18</td><td> 7</td><td>12</td><td> 7</td></tr>\n",
       "</tbody>\n",
       "</table>\n"
      ],
      "text/latex": [
       "\\begin{tabular}{llll}\n",
       " A & B & C & D\\\\\n",
       "\\hline\n",
       "\t 15 & 13 & 10 & 10\\\\\n",
       "\t 9 & 8 & 6 & 7\\\\\n",
       "\t 18 &  8 & 11 &  3\\\\\n",
       "\t 14 & 12 &  7 &  5\\\\\n",
       "\t 18 &  7 & 12 &  7\\\\\n",
       "\\end{tabular}\n"
      ],
      "text/markdown": [
       "1. 15\n",
       "2. 9\n",
       "3. 18\n",
       "4. 14\n",
       "5. 18\n",
       "6. 13\n",
       "7. 8\n",
       "8. 8\n",
       "9. 12\n",
       "10. 7\n",
       "11. 10\n",
       "12. 6\n",
       "13. 11\n",
       "14. 7\n",
       "15. 12\n",
       "16. 10\n",
       "17. 7\n",
       "18. 3\n",
       "19. 5\n",
       "20. 7\n",
       "\n",
       "\n"
      ],
      "text/plain": [
       "      A  B  C  D\n",
       "[1,] 15 13 10 10\n",
       "[2,]  9  8  6  7\n",
       "[3,] 18  8 11  3\n",
       "[4,] 14 12  7  5\n",
       "[5,] 18  7 12  7"
      ]
     },
     "execution_count": 7,
     "metadata": {},
     "output_type": "execute_result"
    }
   ],
   "source": [
    "d %>>% \n",
    "#     dplyr::select(stat_test2, teaching_method) %>>% \n",
    "    split(.$teaching_method) %>>% \n",
    "    purrr::map(~ .[[\"stat_test2\"]]) %>>% \n",
    "    rlist::list.cbind()"
   ]
  },
  {
   "cell_type": "markdown",
   "metadata": {},
   "source": [
    "## 7.1 一元配置分散分析（対応なし）\n",
    "\n",
    "* 帰無仮説: 4群の母平均は等しい\n",
    "* 検定統計量$F$: 帰無仮説が正しいとき，自由度$df_1$，$df_2$のF分布に従う\n",
    "\n",
    "$$ F = \\frac{\\mbox{群間平方和 / 群間の自由度}}{\\mbox{群内平方和 / 群内の自由度}} $$"
   ]
  },
  {
   "cell_type": "code",
   "execution_count": 8,
   "metadata": {
    "collapsed": false,
    "scrolled": true
   },
   "outputs": [
    {
     "data": {
      "text/html": [
       "\n",
       "<table width=\"100%\" summary=\"page for FDist {stats}\"><tr><td>FDist {stats}</td><td style=\"text-align: right;\">R Documentation</td></tr></table>\n",
       "\n",
       "<h2>The F Distribution</h2>\n",
       "\n",
       "<h3>Description</h3>\n",
       "\n",
       "<p>Density, distribution function, quantile function and random\n",
       "generation for the F distribution with <code>df1</code> and <code>df2</code>\n",
       "degrees of freedom (and optional non-centrality parameter <code>ncp</code>).\n",
       "</p>\n",
       "\n",
       "\n",
       "<h3>Usage</h3>\n",
       "\n",
       "<pre>\n",
       "df(x, df1, df2, ncp, log = FALSE)\n",
       "pf(q, df1, df2, ncp, lower.tail = TRUE, log.p = FALSE)\n",
       "qf(p, df1, df2, ncp, lower.tail = TRUE, log.p = FALSE)\n",
       "rf(n, df1, df2, ncp)\n",
       "</pre>\n",
       "\n",
       "\n",
       "<h3>Arguments</h3>\n",
       "\n",
       "<table summary=\"R argblock\">\n",
       "<tr valign=\"top\"><td><code>x, q</code></td>\n",
       "<td>\n",
       "<p>vector of quantiles.</p>\n",
       "</td></tr>\n",
       "<tr valign=\"top\"><td><code>p</code></td>\n",
       "<td>\n",
       "<p>vector of probabilities.</p>\n",
       "</td></tr>\n",
       "<tr valign=\"top\"><td><code>n</code></td>\n",
       "<td>\n",
       "<p>number of observations. If <code>length(n) &gt; 1</code>, the length\n",
       "is taken to be the number required.</p>\n",
       "</td></tr>\n",
       "<tr valign=\"top\"><td><code>df1, df2</code></td>\n",
       "<td>\n",
       "<p>degrees of freedom.  <code>Inf</code> is allowed.</p>\n",
       "</td></tr>\n",
       "<tr valign=\"top\"><td><code>ncp</code></td>\n",
       "<td>\n",
       "<p>non-centrality parameter. If omitted the central F is assumed.</p>\n",
       "</td></tr>\n",
       "<tr valign=\"top\"><td><code>log, log.p</code></td>\n",
       "<td>\n",
       "<p>logical; if TRUE, probabilities p are given as log(p).</p>\n",
       "</td></tr>\n",
       "<tr valign=\"top\"><td><code>lower.tail</code></td>\n",
       "<td>\n",
       "<p>logical; if TRUE (default), probabilities are\n",
       "<i>P[X &le; x]</i>, otherwise, <i>P[X &gt; x]</i>.</p>\n",
       "</td></tr>\n",
       "</table>\n",
       "\n",
       "\n",
       "<h3>Details</h3>\n",
       "\n",
       "<p>The F distribution with <code>df1 =</code> <i>n1</i> and <code>df2 =</code>\n",
       "<i>n2</i> degrees of freedom has density\n",
       "</p>\n",
       "<p style=\"text-align: center;\"><i>f(x) = &Gamma;((n1 + n2)/2) / (&Gamma;(n1/2) &Gamma;(n2/2))\n",
       "    (n1/n2)^(n1/2) x^(n1/2 - 1)\n",
       "    (1 + (n1/n2) x)^-(n1 + n2)/2</i></p>\n",
       "\n",
       "<p>for <i>x &gt; 0</i>.\n",
       "</p>\n",
       "<p>It is the distribution of the ratio of the mean squares of\n",
       "<i>n1</i> and <i>n2</i> independent standard normals, and hence\n",
       "of the ratio of two independent chi-squared variates each divided by its\n",
       "degrees of freedom.  Since the ratio of a normal and the root\n",
       "mean-square of <i>m</i> independent normals has a Student's <i>t_m</i>\n",
       "distribution, the square of a <i>t_m</i> variate has a F distribution on\n",
       "1 and <i>m</i> degrees of freedom.\n",
       "</p>\n",
       "<p>The non-central F distribution is again the ratio of mean squares of\n",
       "independent normals of unit variance, but those in the numerator are\n",
       "allowed to have non-zero means and <code>ncp</code> is the sum of squares of\n",
       "the means.  See Chisquare for further details on\n",
       "non-central distributions.\n",
       "</p>\n",
       "\n",
       "\n",
       "<h3>Value</h3>\n",
       "\n",
       "<p><code>df</code> gives the density,\n",
       "<code>pf</code> gives the distribution function\n",
       "<code>qf</code> gives the quantile function, and\n",
       "<code>rf</code> generates random deviates.\n",
       "</p>\n",
       "<p>Invalid arguments will result in return value <code>NaN</code>, with a warning.\n",
       "</p>\n",
       "<p>The length of the result is determined by <code>n</code> for\n",
       "<code>rf</code>, and is the maximum of the lengths of the\n",
       "numerical arguments for the other functions.\n",
       "</p>\n",
       "<p>The numerical arguments other than <code>n</code> are recycled to the\n",
       "length of the result.  Only the first elements of the logical\n",
       "arguments are used.\n",
       "</p>\n",
       "\n",
       "\n",
       "<h3>Note</h3>\n",
       "\n",
       "<p>Supplying <code>ncp = 0</code> uses the algorithm for the non-central\n",
       "distribution, which is not the same algorithm used if <code>ncp</code> is\n",
       "omitted.  This is to give consistent behaviour in extreme cases with\n",
       "values of <code>ncp</code> very near zero.\n",
       "</p>\n",
       "<p>The code for non-zero <code>ncp</code> is principally intended to be used\n",
       "for moderate values of <code>ncp</code>: it will not be highly accurate,\n",
       "especially in the tails, for large values.\n",
       "</p>\n",
       "\n",
       "\n",
       "<h3>Source</h3>\n",
       "\n",
       "<p>For the central case of <code>df</code>, computed <em>via</em> a binomial\n",
       "probability, code contributed by Catherine Loader (see\n",
       "<code>dbinom</code>); for the non-central case computed <em>via</em>\n",
       "<code>dbeta</code>, code contributed by Peter Ruckdeschel.\n",
       "</p>\n",
       "<p>For <code>pf</code>, <em>via</em> <code>pbeta</code> (or for large\n",
       "<code>df2</code>, <em>via</em> <code>pchisq</code>).\n",
       "</p>\n",
       "<p>For <code>qf</code>, <em>via</em> <code>qchisq</code> for large <code>df2</code>,\n",
       "else <em>via</em> <code>qbeta</code>.\n",
       "</p>\n",
       "\n",
       "\n",
       "<h3>References</h3>\n",
       "\n",
       "<p>Becker, R. A., Chambers, J. M. and Wilks, A. R. (1988)\n",
       "<em>The New S Language</em>.\n",
       "Wadsworth &amp; Brooks/Cole.\n",
       "</p>\n",
       "<p>Johnson, N. L., Kotz, S. and Balakrishnan, N. (1995)\n",
       "<em>Continuous Univariate Distributions</em>, volume 2, chapters 27 and 30.\n",
       "Wiley, New York.\n",
       "</p>\n",
       "\n",
       "\n",
       "<h3>See Also</h3>\n",
       "\n",
       "<p>Distributions for other standard distributions, including\n",
       "<code>dchisq</code> for chi-squared and <code>dt</code> for Student's\n",
       "t distributions.\n",
       "</p>\n",
       "\n",
       "\n",
       "<h3>Examples</h3>\n",
       "\n",
       "<pre>\n",
       "## Equivalence of pt(.,nu) with pf(.^2, 1,nu):\n",
       "x &lt;- seq(0.001, 5, len = 100)\n",
       "nu &lt;- 4\n",
       "stopifnot(all.equal(2*pt(x,nu) - 1, pf(x^2, 1,nu)),\n",
       "          ## upper tails:\n",
       " \t  all.equal(2*pt(x,     nu, lower=FALSE),\n",
       "\t\t      pf(x^2, 1,nu, lower=FALSE)))\n",
       "\n",
       "## the density of the square of a t_m is 2*dt(x, m)/(2*x)\n",
       "# check this is the same as the density of F_{1,m}\n",
       "all.equal(df(x^2, 1, 5), dt(x, 5)/x)\n",
       "\n",
       "## Identity:  qf(2*p - 1, 1, df)) == qt(p, df)^2)  for  p &gt;= 1/2\n",
       "p &lt;- seq(1/2, .99, length = 50); df &lt;- 10\n",
       "rel.err &lt;- function(x, y) ifelse(x == y, 0, abs(x-y)/mean(abs(c(x,y))))\n",
       "quantile(rel.err(qf(2*p - 1, df1 = 1, df2 = df), qt(p, df)^2), .90)  # ~= 7e-9\n",
       "</pre>\n",
       "\n",
       "<hr /><div style=\"text-align: center;\">[Package <em>stats</em> version 3.2.3 ]</div>"
      ],
      "text/latex": [
       "\\inputencoding{utf8}\n",
       "\\HeaderA{FDist}{The F Distribution}{FDist}\n",
       "\\aliasA{df}{FDist}{df}\n",
       "\\aliasA{pf}{FDist}{pf}\n",
       "\\aliasA{qf}{FDist}{qf}\n",
       "\\aliasA{rf}{FDist}{rf}\n",
       "\\keyword{distribution}{FDist}\n",
       "%\n",
       "\\begin{Description}\\relax\n",
       "Density, distribution function, quantile function and random\n",
       "generation for the F distribution with \\code{df1} and \\code{df2}\n",
       "degrees of freedom (and optional non-centrality parameter \\code{ncp}).\n",
       "\\end{Description}\n",
       "%\n",
       "\\begin{Usage}\n",
       "\\begin{verbatim}\n",
       "df(x, df1, df2, ncp, log = FALSE)\n",
       "pf(q, df1, df2, ncp, lower.tail = TRUE, log.p = FALSE)\n",
       "qf(p, df1, df2, ncp, lower.tail = TRUE, log.p = FALSE)\n",
       "rf(n, df1, df2, ncp)\n",
       "\\end{verbatim}\n",
       "\\end{Usage}\n",
       "%\n",
       "\\begin{Arguments}\n",
       "\\begin{ldescription}\n",
       "\\item[\\code{x, q}] vector of quantiles.\n",
       "\\item[\\code{p}] vector of probabilities.\n",
       "\\item[\\code{n}] number of observations. If \\code{length(n) > 1}, the length\n",
       "is taken to be the number required.\n",
       "\\item[\\code{df1, df2}] degrees of freedom.  \\code{Inf} is allowed.\n",
       "\\item[\\code{ncp}] non-centrality parameter. If omitted the central F is assumed.\n",
       "\\item[\\code{log, log.p}] logical; if TRUE, probabilities p are given as log(p).\n",
       "\\item[\\code{lower.tail}] logical; if TRUE (default), probabilities are\n",
       "\\eqn{P[X \\le x]}{}, otherwise, \\eqn{P[X > x]}{}.\n",
       "\\end{ldescription}\n",
       "\\end{Arguments}\n",
       "%\n",
       "\\begin{Details}\\relax\n",
       "The F distribution with \\code{df1 =} \\eqn{n_1}{} and \\code{df2 =}\n",
       "\\eqn{n_2}{} degrees of freedom has density\n",
       "\\deqn{\n",
       "    f(x) = \\frac{\\Gamma(n_1/2 + n_2/2)}{\\Gamma(n_1/2)\\Gamma(n_2/2)}\n",
       "    \\left(\\frac{n_1}{n_2}\\right)^{n_1/2} x^{n_1/2 -1}\n",
       "    \\left(1 + \\frac{n_1 x}{n_2}\\right)^{-(n_1 + n_2) / 2}%\n",
       "  }{}\n",
       "for \\eqn{x > 0}{}.\n",
       "\n",
       "It is the distribution of the ratio of the mean squares of\n",
       "\\eqn{n_1}{} and \\eqn{n_2}{} independent standard normals, and hence\n",
       "of the ratio of two independent chi-squared variates each divided by its\n",
       "degrees of freedom.  Since the ratio of a normal and the root\n",
       "mean-square of \\eqn{m}{} independent normals has a Student's \\eqn{t_m}{}\n",
       "distribution, the square of a \\eqn{t_m}{} variate has a F distribution on\n",
       "1 and \\eqn{m}{} degrees of freedom.\n",
       "\n",
       "The non-central F distribution is again the ratio of mean squares of\n",
       "independent normals of unit variance, but those in the numerator are\n",
       "allowed to have non-zero means and \\code{ncp} is the sum of squares of\n",
       "the means.  See \\LinkA{Chisquare}{Chisquare} for further details on\n",
       "non-central distributions.\n",
       "\\end{Details}\n",
       "%\n",
       "\\begin{Value}\n",
       "\\code{df} gives the density,\n",
       "\\code{pf} gives the distribution function\n",
       "\\code{qf} gives the quantile function, and\n",
       "\\code{rf} generates random deviates.\n",
       "\n",
       "Invalid arguments will result in return value \\code{NaN}, with a warning.\n",
       "\n",
       "The length of the result is determined by \\code{n} for\n",
       "\\code{rf}, and is the maximum of the lengths of the\n",
       "numerical arguments for the other functions.\n",
       "\n",
       "The numerical arguments other than \\code{n} are recycled to the\n",
       "length of the result.  Only the first elements of the logical\n",
       "arguments are used.\n",
       "\\end{Value}\n",
       "%\n",
       "\\begin{Note}\\relax\n",
       "Supplying \\code{ncp = 0} uses the algorithm for the non-central\n",
       "distribution, which is not the same algorithm used if \\code{ncp} is\n",
       "omitted.  This is to give consistent behaviour in extreme cases with\n",
       "values of \\code{ncp} very near zero.\n",
       "\n",
       "The code for non-zero \\code{ncp} is principally intended to be used\n",
       "for moderate values of \\code{ncp}: it will not be highly accurate,\n",
       "especially in the tails, for large values.\n",
       "\\end{Note}\n",
       "%\n",
       "\\begin{Source}\\relax\n",
       "For the central case of \\code{df}, computed \\emph{via} a binomial\n",
       "probability, code contributed by Catherine Loader (see\n",
       "\\code{\\LinkA{dbinom}{dbinom}}); for the non-central case computed \\emph{via}\n",
       "\\code{\\LinkA{dbeta}{dbeta}}, code contributed by Peter Ruckdeschel.\n",
       "\n",
       "For \\code{pf}, \\emph{via} \\code{\\LinkA{pbeta}{pbeta}} (or for large\n",
       "\\code{df2}, \\emph{via} \\code{\\LinkA{pchisq}{pchisq}}).\n",
       "\n",
       "For \\code{qf}, \\emph{via} \\code{\\LinkA{qchisq}{qchisq}} for large \\code{df2},\n",
       "else \\emph{via} \\code{\\LinkA{qbeta}{qbeta}}.\n",
       "\\end{Source}\n",
       "%\n",
       "\\begin{References}\\relax\n",
       "Becker, R. A., Chambers, J. M. and Wilks, A. R. (1988)\n",
       "\\emph{The New S Language}.\n",
       "Wadsworth \\& Brooks/Cole.\n",
       "\n",
       "Johnson, N. L., Kotz, S. and Balakrishnan, N. (1995)\n",
       "\\emph{Continuous Univariate Distributions}, volume 2, chapters 27 and 30.\n",
       "Wiley, New York.\n",
       "\\end{References}\n",
       "%\n",
       "\\begin{SeeAlso}\\relax\n",
       "\\LinkA{Distributions}{Distributions} for other standard distributions, including\n",
       "\\code{\\LinkA{dchisq}{dchisq}} for chi-squared and \\code{\\LinkA{dt}{dt}} for Student's\n",
       "t distributions.\n",
       "\\end{SeeAlso}\n",
       "%\n",
       "\\begin{Examples}\n",
       "\\begin{ExampleCode}\n",
       "## Equivalence of pt(.,nu) with pf(.^2, 1,nu):\n",
       "x <- seq(0.001, 5, len = 100)\n",
       "nu <- 4\n",
       "stopifnot(all.equal(2*pt(x,nu) - 1, pf(x^2, 1,nu)),\n",
       "          ## upper tails:\n",
       " \t  all.equal(2*pt(x,     nu, lower=FALSE),\n",
       "\t\t      pf(x^2, 1,nu, lower=FALSE)))\n",
       "\n",
       "## the density of the square of a t_m is 2*dt(x, m)/(2*x)\n",
       "# check this is the same as the density of F_{1,m}\n",
       "all.equal(df(x^2, 1, 5), dt(x, 5)/x)\n",
       "\n",
       "## Identity:  qf(2*p - 1, 1, df)) == qt(p, df)^2)  for  p >= 1/2\n",
       "p <- seq(1/2, .99, length = 50); df <- 10\n",
       "rel.err <- function(x, y) ifelse(x == y, 0, abs(x-y)/mean(abs(c(x,y))))\n",
       "quantile(rel.err(qf(2*p - 1, df1 = 1, df2 = df), qt(p, df)^2), .90)  # ~= 7e-9\n",
       "\\end{ExampleCode}\n",
       "\\end{Examples}"
      ],
      "text/plain": [
       "FDist                  package:stats                   R Documentation\n",
       "\n",
       "_\bT_\bh_\be _\bF _\bD_\bi_\bs_\bt_\br_\bi_\bb_\bu_\bt_\bi_\bo_\bn\n",
       "\n",
       "_\bD_\be_\bs_\bc_\br_\bi_\bp_\bt_\bi_\bo_\bn:\n",
       "\n",
       "     Density, distribution function, quantile function and random\n",
       "     generation for the F distribution with ‘df1’ and ‘df2’ degrees\n",
       "     of freedom (and optional non-centrality parameter ‘ncp’).\n",
       "\n",
       "_\bU_\bs_\ba_\bg_\be:\n",
       "\n",
       "     df(x, df1, df2, ncp, log = FALSE)\n",
       "     pf(q, df1, df2, ncp, lower.tail = TRUE, log.p = FALSE)\n",
       "     qf(p, df1, df2, ncp, lower.tail = TRUE, log.p = FALSE)\n",
       "     rf(n, df1, df2, ncp)\n",
       "     \n",
       "_\bA_\br_\bg_\bu_\bm_\be_\bn_\bt_\bs:\n",
       "\n",
       "    x, q: vector of quantiles.\n",
       "\n",
       "       p: vector of probabilities.\n",
       "\n",
       "       n: number of observations. If ‘length(n) > 1’, the length is\n",
       "          taken to be the number required.\n",
       "\n",
       "df1, df2: degrees of freedom.  ‘Inf’ is allowed.\n",
       "\n",
       "     ncp: non-centrality parameter. If omitted the central F is\n",
       "          assumed.\n",
       "\n",
       "log, log.p: logical; if TRUE, probabilities p are given as log(p).\n",
       "\n",
       "lower.tail: logical; if TRUE (default), probabilities are P[X <= x],\n",
       "          otherwise, P[X > x].\n",
       "\n",
       "_\bD_\be_\bt_\ba_\bi_\bl_\bs:\n",
       "\n",
       "     The F distribution with ‘df1 =’ n1 and ‘df2 =’ n2 degrees of\n",
       "     freedom has density\n",
       "\n",
       "     f(x) = Gamma((n1 + n2)/2) / (Gamma(n1/2) Gamma(n2/2))\n",
       "         (n1/n2)^(n1/2) x^(n1/2 - 1)\n",
       "         (1 + (n1/n2) x)^-(n1 + n2)/2\n",
       "     \n",
       "     for x > 0.\n",
       "\n",
       "     It is the distribution of the ratio of the mean squares of n1 and\n",
       "     n2 independent standard normals, and hence of the ratio of two\n",
       "     independent chi-squared variates each divided by its degrees of\n",
       "     freedom.  Since the ratio of a normal and the root mean-square of\n",
       "     m independent normals has a Student's t_m distribution, the square\n",
       "     of a t_m variate has a F distribution on 1 and m degrees of\n",
       "     freedom.\n",
       "\n",
       "     The non-central F distribution is again the ratio of mean squares\n",
       "     of independent normals of unit variance, but those in the\n",
       "     numerator are allowed to have non-zero means and ‘ncp’ is the\n",
       "     sum of squares of the means.  See Chisquare for further details on\n",
       "     non-central distributions.\n",
       "\n",
       "_\bV_\ba_\bl_\bu_\be:\n",
       "\n",
       "     ‘df’ gives the density, ‘pf’ gives the distribution function\n",
       "     ‘qf’ gives the quantile function, and ‘rf’ generates random\n",
       "     deviates.\n",
       "\n",
       "     Invalid arguments will result in return value ‘NaN’, with a\n",
       "     warning.\n",
       "\n",
       "     The length of the result is determined by ‘n’ for ‘rf’, and is\n",
       "     the maximum of the lengths of the numerical arguments for the\n",
       "     other functions.\n",
       "\n",
       "     The numerical arguments other than ‘n’ are recycled to the\n",
       "     length of the result.  Only the first elements of the logical\n",
       "     arguments are used.\n",
       "\n",
       "_\bN_\bo_\bt_\be:\n",
       "\n",
       "     Supplying ‘ncp = 0’ uses the algorithm for the non-central\n",
       "     distribution, which is not the same algorithm used if ‘ncp’ is\n",
       "     omitted.  This is to give consistent behaviour in extreme cases\n",
       "     with values of ‘ncp’ very near zero.\n",
       "\n",
       "     The code for non-zero ‘ncp’ is principally intended to be used\n",
       "     for moderate values of ‘ncp’: it will not be highly accurate,\n",
       "     especially in the tails, for large values.\n",
       "\n",
       "_\bS_\bo_\bu_\br_\bc_\be:\n",
       "\n",
       "     For the central case of ‘df’, computed _via_ a binomial\n",
       "     probability, code contributed by Catherine Loader (see\n",
       "     ‘dbinom’); for the non-central case computed _via_ ‘dbeta’,\n",
       "     code contributed by Peter Ruckdeschel.\n",
       "\n",
       "     For ‘pf’, _via_ ‘pbeta’ (or for large ‘df2’, _via_\n",
       "     ‘pchisq’).\n",
       "\n",
       "     For ‘qf’, _via_ ‘qchisq’ for large ‘df2’, else _via_\n",
       "     ‘qbeta’.\n",
       "\n",
       "_\bR_\be_\bf_\be_\br_\be_\bn_\bc_\be_\bs:\n",
       "\n",
       "     Becker, R. A., Chambers, J. M. and Wilks, A. R. (1988) _The New S\n",
       "     Language_.  Wadsworth & Brooks/Cole.\n",
       "\n",
       "     Johnson, N. L., Kotz, S. and Balakrishnan, N. (1995) _Continuous\n",
       "     Univariate Distributions_, volume 2, chapters 27 and 30.  Wiley,\n",
       "     New York.\n",
       "\n",
       "_\bS_\be_\be _\bA_\bl_\bs_\bo:\n",
       "\n",
       "     Distributions for other standard distributions, including\n",
       "     ‘dchisq’ for chi-squared and ‘dt’ for Student's t\n",
       "     distributions.\n",
       "\n",
       "_\bE_\bx_\ba_\bm_\bp_\bl_\be_\bs:\n",
       "\n",
       "     ## Equivalence of pt(.,nu) with pf(.^2, 1,nu):\n",
       "     x <- seq(0.001, 5, len = 100)\n",
       "     nu <- 4\n",
       "     stopifnot(all.equal(2*pt(x,nu) - 1, pf(x^2, 1,nu)),\n",
       "               ## upper tails:\n",
       "               all.equal(2*pt(x,     nu, lower=FALSE),\n",
       "                           pf(x^2, 1,nu, lower=FALSE)))\n",
       "     \n",
       "     ## the density of the square of a t_m is 2*dt(x, m)/(2*x)\n",
       "     # check this is the same as the density of F_{1,m}\n",
       "     all.equal(df(x^2, 1, 5), dt(x, 5)/x)\n",
       "     \n",
       "     ## Identity:  qf(2*p - 1, 1, df)) == qt(p, df)^2)  for  p >= 1/2\n",
       "     p <- seq(1/2, .99, length = 50); df <- 10\n",
       "     rel.err <- function(x, y) ifelse(x == y, 0, abs(x-y)/mean(abs(c(x,y))))\n",
       "     quantile(rel.err(qf(2*p - 1, df1 = 1, df2 = df), qt(p, df)^2), .90)  # ~= 7e-9\n",
       "     "
      ]
     },
     "execution_count": 8,
     "metadata": {},
     "output_type": "execute_result"
    }
   ],
   "source": [
    "?df"
   ]
  },
  {
   "cell_type": "code",
   "execution_count": 9,
   "metadata": {
    "collapsed": true
   },
   "outputs": [],
   "source": [
    "options(repr.plot.width = 4, repr.plot.height = 4)"
   ]
  },
  {
   "cell_type": "code",
   "execution_count": 10,
   "metadata": {
    "collapsed": false
   },
   "outputs": [
    {
     "data": {
      "image/png": "[encoded data removed]",
      "image/svg+xml": [
       "<?xml version=\"1.0\" encoding=\"UTF-8\"?>\n",
       "<svg xmlns=\"http://www.w3.org/2000/svg\" xmlns:xlink=\"http://www.w3.org/1999/xlink\" width=\"288pt\" height=\"288pt\" viewBox=\"0 0 288 288\" version=\"1.1\">\n",
       "<defs>\n",
       "<g>\n",
       "<symbol overflow=\"visible\" id=\"glyph0-0\">\n",
       "<path style=\"stroke:none;\" d=\"M 0.296875 0 L 0.296875 -6.671875 L 5.59375 -6.671875 L 5.59375 0 Z M 4.75 -0.828125 L 4.75 -5.828125 L 1.140625 -5.828125 L 1.140625 -0.828125 Z \"/>\n",
       "</symbol>\n",
       "<symbol overflow=\"visible\" id=\"glyph0-1\">\n",
       "<path style=\"stroke:none;\" d=\"M 2.515625 -6.5 C 3.359375 -6.5 3.96875 -6.15625 4.34375 -5.46875 C 4.632812 -4.925781 4.78125 -4.191406 4.78125 -3.265625 C 4.78125 -2.378906 4.644531 -1.644531 4.375 -1.0625 C 4 -0.238281 3.378906 0.171875 2.515625 0.171875 C 1.734375 0.171875 1.148438 -0.164062 0.765625 -0.84375 C 0.453125 -1.40625 0.296875 -2.164062 0.296875 -3.125 C 0.296875 -3.851562 0.390625 -4.484375 0.578125 -5.015625 C 0.929688 -6.003906 1.578125 -6.5 2.515625 -6.5 Z M 2.5 -0.5625 C 2.925781 -0.5625 3.265625 -0.75 3.515625 -1.125 C 3.765625 -1.5 3.890625 -2.203125 3.890625 -3.234375 C 3.890625 -3.960938 3.796875 -4.566406 3.609375 -5.046875 C 3.429688 -5.523438 3.082031 -5.765625 2.5625 -5.765625 C 2.082031 -5.765625 1.726562 -5.535156 1.5 -5.078125 C 1.28125 -4.628906 1.171875 -3.96875 1.171875 -3.09375 C 1.171875 -2.425781 1.242188 -1.890625 1.390625 -1.484375 C 1.609375 -0.867188 1.976562 -0.5625 2.5 -0.5625 Z \"/>\n",
       "</symbol>\n",
       "<symbol overflow=\"visible\" id=\"glyph0-2\">\n",
       "<path style=\"stroke:none;\" d=\"M 0.796875 -0.984375 L 1.75 -0.984375 L 1.75 0 L 0.796875 0 Z \"/>\n",
       "</symbol>\n",
       "<symbol overflow=\"visible\" id=\"glyph0-3\">\n",
       "<path style=\"stroke:none;\" d=\"M 0.296875 0 C 0.316406 -0.5625 0.425781 -1.046875 0.625 -1.453125 C 0.832031 -1.867188 1.226562 -2.25 1.8125 -2.59375 L 2.6875 -3.09375 C 3.070312 -3.320312 3.347656 -3.515625 3.515625 -3.671875 C 3.753906 -3.921875 3.875 -4.210938 3.875 -4.546875 C 3.875 -4.921875 3.757812 -5.21875 3.53125 -5.4375 C 3.3125 -5.664062 3.015625 -5.78125 2.640625 -5.78125 C 2.078125 -5.78125 1.6875 -5.566406 1.46875 -5.140625 C 1.351562 -4.910156 1.289062 -4.59375 1.28125 -4.1875 L 0.453125 -4.1875 C 0.460938 -4.757812 0.566406 -5.222656 0.765625 -5.578125 C 1.117188 -6.203125 1.742188 -6.515625 2.640625 -6.515625 C 3.378906 -6.515625 3.921875 -6.3125 4.265625 -5.90625 C 4.609375 -5.507812 4.78125 -5.066406 4.78125 -4.578125 C 4.78125 -4.054688 4.597656 -3.609375 4.234375 -3.234375 C 4.023438 -3.023438 3.644531 -2.765625 3.09375 -2.453125 L 2.46875 -2.109375 C 2.175781 -1.953125 1.945312 -1.796875 1.78125 -1.640625 C 1.476562 -1.378906 1.285156 -1.085938 1.203125 -0.765625 L 4.75 -0.765625 L 4.75 0 Z \"/>\n",
       "</symbol>\n",
       "<symbol overflow=\"visible\" id=\"glyph0-4\">\n",
       "<path style=\"stroke:none;\" d=\"M 3.078125 -2.296875 L 3.078125 -5.25 L 0.984375 -2.296875 Z M 3.09375 0 L 3.09375 -1.59375 L 0.234375 -1.59375 L 0.234375 -2.390625 L 3.21875 -6.515625 L 3.90625 -6.515625 L 3.90625 -2.296875 L 4.859375 -2.296875 L 4.859375 -1.59375 L 3.90625 -1.59375 L 3.90625 0 Z \"/>\n",
       "</symbol>\n",
       "<symbol overflow=\"visible\" id=\"glyph0-5\">\n",
       "<path style=\"stroke:none;\" d=\"M 2.71875 -6.53125 C 3.445312 -6.53125 3.953125 -6.335938 4.234375 -5.953125 C 4.523438 -5.578125 4.671875 -5.191406 4.671875 -4.796875 L 3.859375 -4.796875 C 3.804688 -5.054688 3.726562 -5.257812 3.625 -5.40625 C 3.425781 -5.675781 3.128906 -5.8125 2.734375 -5.8125 C 2.273438 -5.8125 1.910156 -5.597656 1.640625 -5.171875 C 1.367188 -4.753906 1.21875 -4.148438 1.1875 -3.359375 C 1.375 -3.640625 1.613281 -3.847656 1.90625 -3.984375 C 2.164062 -4.097656 2.457031 -4.15625 2.78125 -4.15625 C 3.320312 -4.15625 3.796875 -3.984375 4.203125 -3.640625 C 4.609375 -3.296875 4.8125 -2.773438 4.8125 -2.078125 C 4.8125 -1.492188 4.617188 -0.972656 4.234375 -0.515625 C 3.847656 -0.0546875 3.300781 0.171875 2.59375 0.171875 C 1.976562 0.171875 1.445312 -0.0546875 1 -0.515625 C 0.5625 -0.984375 0.34375 -1.765625 0.34375 -2.859375 C 0.34375 -3.660156 0.441406 -4.34375 0.640625 -4.90625 C 1.023438 -5.988281 1.71875 -6.53125 2.71875 -6.53125 Z M 2.65625 -0.5625 C 3.09375 -0.5625 3.414062 -0.703125 3.625 -0.984375 C 3.832031 -1.273438 3.9375 -1.617188 3.9375 -2.015625 C 3.9375 -2.347656 3.84375 -2.664062 3.65625 -2.96875 C 3.46875 -3.269531 3.125 -3.421875 2.625 -3.421875 C 2.269531 -3.421875 1.957031 -3.300781 1.6875 -3.0625 C 1.425781 -2.832031 1.296875 -2.484375 1.296875 -2.015625 C 1.296875 -1.597656 1.414062 -1.25 1.65625 -0.96875 C 1.894531 -0.695312 2.226562 -0.5625 2.65625 -0.5625 Z \"/>\n",
       "</symbol>\n",
       "<symbol overflow=\"visible\" id=\"glyph0-6\">\n",
       "<path style=\"stroke:none;\" d=\"M 0.890625 -4.609375 L 0.890625 -5.234375 C 1.484375 -5.285156 1.894531 -5.378906 2.125 -5.515625 C 2.351562 -5.648438 2.523438 -5.96875 2.640625 -6.46875 L 3.296875 -6.46875 L 3.296875 0 L 2.421875 0 L 2.421875 -4.609375 Z \"/>\n",
       "</symbol>\n",
       "<symbol overflow=\"visible\" id=\"glyph0-7\">\n",
       "<path style=\"stroke:none;\" d=\"M 2.421875 0.171875 C 1.648438 0.171875 1.085938 -0.0351562 0.734375 -0.453125 C 0.390625 -0.878906 0.21875 -1.394531 0.21875 -2 L 1.078125 -2 C 1.109375 -1.570312 1.1875 -1.265625 1.3125 -1.078125 C 1.519531 -0.734375 1.898438 -0.5625 2.453125 -0.5625 C 2.890625 -0.5625 3.238281 -0.675781 3.5 -0.90625 C 3.757812 -1.132812 3.890625 -1.429688 3.890625 -1.796875 C 3.890625 -2.242188 3.75 -2.554688 3.46875 -2.734375 C 3.195312 -2.921875 2.816406 -3.015625 2.328125 -3.015625 C 2.273438 -3.015625 2.21875 -3.007812 2.15625 -3 C 2.101562 -3 2.050781 -3 2 -3 L 2 -3.71875 C 2.082031 -3.707031 2.148438 -3.703125 2.203125 -3.703125 C 2.265625 -3.703125 2.328125 -3.703125 2.390625 -3.703125 C 2.703125 -3.703125 2.957031 -3.75 3.15625 -3.84375 C 3.5 -4.007812 3.671875 -4.3125 3.671875 -4.75 C 3.671875 -5.070312 3.554688 -5.320312 3.328125 -5.5 C 3.097656 -5.675781 2.828125 -5.765625 2.515625 -5.765625 C 1.972656 -5.765625 1.597656 -5.582031 1.390625 -5.21875 C 1.273438 -5.019531 1.207031 -4.734375 1.1875 -4.359375 L 0.390625 -4.359375 C 0.390625 -4.847656 0.484375 -5.265625 0.671875 -5.609375 C 1.003906 -6.210938 1.59375 -6.515625 2.4375 -6.515625 C 3.09375 -6.515625 3.601562 -6.363281 3.96875 -6.0625 C 4.332031 -5.769531 4.515625 -5.34375 4.515625 -4.78125 C 4.515625 -4.382812 4.40625 -4.0625 4.1875 -3.8125 C 4.0625 -3.65625 3.890625 -3.535156 3.671875 -3.453125 C 4.015625 -3.359375 4.28125 -3.175781 4.46875 -2.90625 C 4.664062 -2.632812 4.765625 -2.304688 4.765625 -1.921875 C 4.765625 -1.304688 4.5625 -0.800781 4.15625 -0.40625 C 3.75 -0.0195312 3.171875 0.171875 2.421875 0.171875 Z \"/>\n",
       "</symbol>\n",
       "<symbol overflow=\"visible\" id=\"glyph0-8\">\n",
       "<path style=\"stroke:none;\" d=\"M 1.15625 -1.65625 C 1.207031 -1.1875 1.421875 -0.863281 1.796875 -0.6875 C 1.992188 -0.59375 2.21875 -0.546875 2.46875 -0.546875 C 2.957031 -0.546875 3.316406 -0.703125 3.546875 -1.015625 C 3.773438 -1.328125 3.890625 -1.671875 3.890625 -2.046875 C 3.890625 -2.492188 3.75 -2.84375 3.46875 -3.09375 C 3.195312 -3.34375 2.867188 -3.46875 2.484375 -3.46875 C 2.203125 -3.46875 1.957031 -3.410156 1.75 -3.296875 C 1.550781 -3.191406 1.382812 -3.039062 1.25 -2.84375 L 0.53125 -2.890625 L 1.03125 -6.390625 L 4.40625 -6.390625 L 4.40625 -5.609375 L 1.640625 -5.609375 L 1.359375 -3.796875 C 1.515625 -3.910156 1.660156 -3.992188 1.796875 -4.046875 C 2.035156 -4.148438 2.316406 -4.203125 2.640625 -4.203125 C 3.234375 -4.203125 3.738281 -4.007812 4.15625 -3.625 C 4.570312 -3.238281 4.78125 -2.753906 4.78125 -2.171875 C 4.78125 -1.554688 4.585938 -1.015625 4.203125 -0.546875 C 3.828125 -0.078125 3.222656 0.15625 2.390625 0.15625 C 1.859375 0.15625 1.390625 0.0078125 0.984375 -0.28125 C 0.578125 -0.582031 0.347656 -1.039062 0.296875 -1.65625 Z \"/>\n",
       "</symbol>\n",
       "<symbol overflow=\"visible\" id=\"glyph1-0\">\n",
       "<path style=\"stroke:none;\" d=\"M 0.375 0 L 0.375 -8.25 L 6.921875 -8.25 L 6.921875 0 Z M 5.890625 -1.03125 L 5.890625 -7.21875 L 1.40625 -7.21875 L 1.40625 -1.03125 Z \"/>\n",
       "</symbol>\n",
       "<symbol overflow=\"visible\" id=\"glyph1-1\">\n",
       "<path style=\"stroke:none;\" d=\"M 0.171875 -6.015625 L 1.484375 -6.015625 L 2.859375 -3.890625 L 4.25 -6.015625 L 5.484375 -5.984375 L 3.453125 -3.078125 L 5.578125 0 L 4.28125 0 L 2.796875 -2.25 L 1.34375 0 L 0.0625 0 L 2.171875 -3.078125 Z \"/>\n",
       "</symbol>\n",
       "<symbol overflow=\"visible\" id=\"glyph2-0\">\n",
       "<path style=\"stroke:none;\" d=\"M 0 -0.375 L -8.25 -0.375 L -8.25 -6.921875 L 0 -6.921875 Z M -1.03125 -5.890625 L -7.21875 -5.890625 L -7.21875 -1.40625 L -1.03125 -1.40625 Z \"/>\n",
       "</symbol>\n",
       "<symbol overflow=\"visible\" id=\"glyph2-1\">\n",
       "<path style=\"stroke:none;\" d=\"M -6.015625 -4.5 L -6.015625 -5.609375 C -5.628906 -5.472656 -4.75 -5.160156 -3.375 -4.671875 C -2.34375 -4.296875 -1.5 -3.988281 -0.84375 -3.75 C 0.6875 -3.164062 1.617188 -2.753906 1.953125 -2.515625 C 2.296875 -2.273438 2.46875 -1.863281 2.46875 -1.28125 C 2.46875 -1.132812 2.460938 -1.019531 2.453125 -0.9375 C 2.441406 -0.863281 2.421875 -0.769531 2.390625 -0.65625 L 1.46875 -0.65625 C 1.507812 -0.832031 1.535156 -0.957031 1.546875 -1.03125 C 1.566406 -1.113281 1.578125 -1.1875 1.578125 -1.25 C 1.578125 -1.4375 1.546875 -1.570312 1.484375 -1.65625 C 1.421875 -1.75 1.34375 -1.828125 1.25 -1.890625 C 1.21875 -1.910156 1.0625 -1.976562 0.78125 -2.09375 C 0.507812 -2.207031 0.304688 -2.289062 0.171875 -2.34375 L -6.015625 -0.125 L -6.015625 -1.265625 L -1.125 -2.875 Z M -6.15625 -2.875 Z \"/>\n",
       "</symbol>\n",
       "</g>\n",
       "<clipPath id=\"clip1\">\n",
       "  <path d=\"M 38.160156 5.480469 L 283 5.480469 L 283 257 L 38.160156 257 Z \"/>\n",
       "</clipPath>\n",
       "<clipPath id=\"clip2\">\n",
       "  <path d=\"M 38.160156 212 L 283 212 L 283 213 L 38.160156 213 Z \"/>\n",
       "</clipPath>\n",
       "<clipPath id=\"clip3\">\n",
       "  <path d=\"M 38.160156 147 L 283 147 L 283 149 L 38.160156 149 Z \"/>\n",
       "</clipPath>\n",
       "<clipPath id=\"clip4\">\n",
       "  <path d=\"M 38.160156 83 L 283 83 L 283 84 L 38.160156 84 Z \"/>\n",
       "</clipPath>\n",
       "<clipPath id=\"clip5\">\n",
       "  <path d=\"M 38.160156 18 L 283 18 L 283 20 L 38.160156 20 Z \"/>\n",
       "</clipPath>\n",
       "<clipPath id=\"clip6\">\n",
       "  <path d=\"M 71 5.480469 L 72 5.480469 L 72 257 L 71 257 Z \"/>\n",
       "</clipPath>\n",
       "<clipPath id=\"clip7\">\n",
       "  <path d=\"M 115 5.480469 L 117 5.480469 L 117 257 L 115 257 Z \"/>\n",
       "</clipPath>\n",
       "<clipPath id=\"clip8\">\n",
       "  <path d=\"M 159 5.480469 L 161 5.480469 L 161 257 L 159 257 Z \"/>\n",
       "</clipPath>\n",
       "<clipPath id=\"clip9\">\n",
       "  <path d=\"M 204 5.480469 L 206 5.480469 L 206 257 L 204 257 Z \"/>\n",
       "</clipPath>\n",
       "<clipPath id=\"clip10\">\n",
       "  <path d=\"M 248 5.480469 L 250 5.480469 L 250 257 L 248 257 Z \"/>\n",
       "</clipPath>\n",
       "<clipPath id=\"clip11\">\n",
       "  <path d=\"M 38.160156 243 L 283.519531 243 L 283.519531 246 L 38.160156 246 Z \"/>\n",
       "</clipPath>\n",
       "<clipPath id=\"clip12\">\n",
       "  <path d=\"M 38.160156 179 L 283.519531 179 L 283.519531 181 L 38.160156 181 Z \"/>\n",
       "</clipPath>\n",
       "<clipPath id=\"clip13\">\n",
       "  <path d=\"M 38.160156 114 L 283.519531 114 L 283.519531 117 L 38.160156 117 Z \"/>\n",
       "</clipPath>\n",
       "<clipPath id=\"clip14\">\n",
       "  <path d=\"M 38.160156 50 L 283.519531 50 L 283.519531 52 L 38.160156 52 Z \"/>\n",
       "</clipPath>\n",
       "<clipPath id=\"clip15\">\n",
       "  <path d=\"M 48 5.480469 L 50 5.480469 L 50 257 L 48 257 Z \"/>\n",
       "</clipPath>\n",
       "<clipPath id=\"clip16\">\n",
       "  <path d=\"M 92 5.480469 L 95 5.480469 L 95 257 L 92 257 Z \"/>\n",
       "</clipPath>\n",
       "<clipPath id=\"clip17\">\n",
       "  <path d=\"M 137 5.480469 L 139 5.480469 L 139 257 L 137 257 Z \"/>\n",
       "</clipPath>\n",
       "<clipPath id=\"clip18\">\n",
       "  <path d=\"M 181 5.480469 L 184 5.480469 L 184 257 L 181 257 Z \"/>\n",
       "</clipPath>\n",
       "<clipPath id=\"clip19\">\n",
       "  <path d=\"M 226 5.480469 L 228 5.480469 L 228 257 L 226 257 Z \"/>\n",
       "</clipPath>\n",
       "<clipPath id=\"clip20\">\n",
       "  <path d=\"M 270 5.480469 L 273 5.480469 L 273 257 L 270 257 Z \"/>\n",
       "</clipPath>\n",
       "</defs>\n",
       "<g id=\"surface24\">\n",
       "<rect x=\"0\" y=\"0\" width=\"288\" height=\"288\" style=\"fill:rgb(100%,100%,100%);fill-opacity:1;stroke:none;\"/>\n",
       "<rect x=\"0\" y=\"0\" width=\"288\" height=\"288\" style=\"fill:rgb(100%,100%,100%);fill-opacity:1;stroke:none;\"/>\n",
       "<path style=\"fill:none;stroke-width:1.422638;stroke-linecap:round;stroke-linejoin:round;stroke:rgb(100%,100%,100%);stroke-opacity:1;stroke-miterlimit:10;\" d=\"M 0 0 L 288 0 L 288 288 L 0 288 Z \"/>\n",
       "<g clip-path=\"url(#clip1)\" clip-rule=\"nonzero\">\n",
       "<path style=\" stroke:none;fill-rule:nonzero;fill:rgb(92.156863%,92.156863%,92.156863%);fill-opacity:1;\" d=\"M 38.160156 5.480469 L 282.519531 5.480469 L 282.519531 256.09375 L 38.160156 256.09375 Z \"/>\n",
       "</g>\n",
       "<g clip-path=\"url(#clip2)\" clip-rule=\"nonzero\">\n",
       "<path style=\"fill:none;stroke-width:0.711319;stroke-linecap:butt;stroke-linejoin:round;stroke:rgb(100%,100%,100%);stroke-opacity:1;stroke-miterlimit:10;\" d=\"M 38.160156 212.4375 L 282.519531 212.4375 \"/>\n",
       "</g>\n",
       "<g clip-path=\"url(#clip3)\" clip-rule=\"nonzero\">\n",
       "<path style=\"fill:none;stroke-width:0.711319;stroke-linecap:butt;stroke-linejoin:round;stroke:rgb(100%,100%,100%);stroke-opacity:1;stroke-miterlimit:10;\" d=\"M 38.160156 147.914062 L 282.519531 147.914062 \"/>\n",
       "</g>\n",
       "<g clip-path=\"url(#clip4)\" clip-rule=\"nonzero\">\n",
       "<path style=\"fill:none;stroke-width:0.711319;stroke-linecap:butt;stroke-linejoin:round;stroke:rgb(100%,100%,100%);stroke-opacity:1;stroke-miterlimit:10;\" d=\"M 38.160156 83.390625 L 282.519531 83.390625 \"/>\n",
       "</g>\n",
       "<g clip-path=\"url(#clip5)\" clip-rule=\"nonzero\">\n",
       "<path style=\"fill:none;stroke-width:0.711319;stroke-linecap:butt;stroke-linejoin:round;stroke:rgb(100%,100%,100%);stroke-opacity:1;stroke-miterlimit:10;\" d=\"M 38.160156 18.863281 L 282.519531 18.863281 \"/>\n",
       "</g>\n",
       "<g clip-path=\"url(#clip6)\" clip-rule=\"nonzero\">\n",
       "<path style=\"fill:none;stroke-width:0.711319;stroke-linecap:butt;stroke-linejoin:round;stroke:rgb(100%,100%,100%);stroke-opacity:1;stroke-miterlimit:10;\" d=\"M 71.480469 256.09375 L 71.480469 5.480469 \"/>\n",
       "</g>\n",
       "<g clip-path=\"url(#clip7)\" clip-rule=\"nonzero\">\n",
       "<path style=\"fill:none;stroke-width:0.711319;stroke-linecap:butt;stroke-linejoin:round;stroke:rgb(100%,100%,100%);stroke-opacity:1;stroke-miterlimit:10;\" d=\"M 115.910156 256.09375 L 115.910156 5.480469 \"/>\n",
       "</g>\n",
       "<g clip-path=\"url(#clip8)\" clip-rule=\"nonzero\">\n",
       "<path style=\"fill:none;stroke-width:0.711319;stroke-linecap:butt;stroke-linejoin:round;stroke:rgb(100%,100%,100%);stroke-opacity:1;stroke-miterlimit:10;\" d=\"M 160.339844 256.09375 L 160.339844 5.480469 \"/>\n",
       "</g>\n",
       "<g clip-path=\"url(#clip9)\" clip-rule=\"nonzero\">\n",
       "<path style=\"fill:none;stroke-width:0.711319;stroke-linecap:butt;stroke-linejoin:round;stroke:rgb(100%,100%,100%);stroke-opacity:1;stroke-miterlimit:10;\" d=\"M 204.769531 256.09375 L 204.769531 5.480469 \"/>\n",
       "</g>\n",
       "<g clip-path=\"url(#clip10)\" clip-rule=\"nonzero\">\n",
       "<path style=\"fill:none;stroke-width:0.711319;stroke-linecap:butt;stroke-linejoin:round;stroke:rgb(100%,100%,100%);stroke-opacity:1;stroke-miterlimit:10;\" d=\"M 249.199219 256.09375 L 249.199219 5.480469 \"/>\n",
       "</g>\n",
       "<g clip-path=\"url(#clip11)\" clip-rule=\"nonzero\">\n",
       "<path style=\"fill:none;stroke-width:1.422638;stroke-linecap:butt;stroke-linejoin:round;stroke:rgb(100%,100%,100%);stroke-opacity:1;stroke-miterlimit:10;\" d=\"M 38.160156 244.699219 L 282.519531 244.699219 \"/>\n",
       "</g>\n",
       "<g clip-path=\"url(#clip12)\" clip-rule=\"nonzero\">\n",
       "<path style=\"fill:none;stroke-width:1.422638;stroke-linecap:butt;stroke-linejoin:round;stroke:rgb(100%,100%,100%);stroke-opacity:1;stroke-miterlimit:10;\" d=\"M 38.160156 180.175781 L 282.519531 180.175781 \"/>\n",
       "</g>\n",
       "<g clip-path=\"url(#clip13)\" clip-rule=\"nonzero\">\n",
       "<path style=\"fill:none;stroke-width:1.422638;stroke-linecap:butt;stroke-linejoin:round;stroke:rgb(100%,100%,100%);stroke-opacity:1;stroke-miterlimit:10;\" d=\"M 38.160156 115.652344 L 282.519531 115.652344 \"/>\n",
       "</g>\n",
       "<g clip-path=\"url(#clip14)\" clip-rule=\"nonzero\">\n",
       "<path style=\"fill:none;stroke-width:1.422638;stroke-linecap:butt;stroke-linejoin:round;stroke:rgb(100%,100%,100%);stroke-opacity:1;stroke-miterlimit:10;\" d=\"M 38.160156 51.128906 L 282.519531 51.128906 \"/>\n",
       "</g>\n",
       "<g clip-path=\"url(#clip15)\" clip-rule=\"nonzero\">\n",
       "<path style=\"fill:none;stroke-width:1.422638;stroke-linecap:butt;stroke-linejoin:round;stroke:rgb(100%,100%,100%);stroke-opacity:1;stroke-miterlimit:10;\" d=\"M 49.265625 256.09375 L 49.265625 5.480469 \"/>\n",
       "</g>\n",
       "<g clip-path=\"url(#clip16)\" clip-rule=\"nonzero\">\n",
       "<path style=\"fill:none;stroke-width:1.422638;stroke-linecap:butt;stroke-linejoin:round;stroke:rgb(100%,100%,100%);stroke-opacity:1;stroke-miterlimit:10;\" d=\"M 93.695312 256.09375 L 93.695312 5.480469 \"/>\n",
       "</g>\n",
       "<g clip-path=\"url(#clip17)\" clip-rule=\"nonzero\">\n",
       "<path style=\"fill:none;stroke-width:1.422638;stroke-linecap:butt;stroke-linejoin:round;stroke:rgb(100%,100%,100%);stroke-opacity:1;stroke-miterlimit:10;\" d=\"M 138.125 256.09375 L 138.125 5.480469 \"/>\n",
       "</g>\n",
       "<g clip-path=\"url(#clip18)\" clip-rule=\"nonzero\">\n",
       "<path style=\"fill:none;stroke-width:1.422638;stroke-linecap:butt;stroke-linejoin:round;stroke:rgb(100%,100%,100%);stroke-opacity:1;stroke-miterlimit:10;\" d=\"M 182.554688 256.09375 L 182.554688 5.480469 \"/>\n",
       "</g>\n",
       "<g clip-path=\"url(#clip19)\" clip-rule=\"nonzero\">\n",
       "<path style=\"fill:none;stroke-width:1.422638;stroke-linecap:butt;stroke-linejoin:round;stroke:rgb(100%,100%,100%);stroke-opacity:1;stroke-miterlimit:10;\" d=\"M 226.984375 256.09375 L 226.984375 5.480469 \"/>\n",
       "</g>\n",
       "<g clip-path=\"url(#clip20)\" clip-rule=\"nonzero\">\n",
       "<path style=\"fill:none;stroke-width:1.422638;stroke-linecap:butt;stroke-linejoin:round;stroke:rgb(100%,100%,100%);stroke-opacity:1;stroke-miterlimit:10;\" d=\"M 271.414062 256.09375 L 271.414062 5.480469 \"/>\n",
       "</g>\n",
       "<path style=\"fill:none;stroke-width:1.422638;stroke-linecap:butt;stroke-linejoin:round;stroke:rgb(0%,0%,0%);stroke-opacity:1;stroke-miterlimit:10;\" d=\"M 49.265625 244.699219 L 51.488281 101.542969 L 53.710938 59.265625 L 55.933594 36.519531 L 58.152344 24.171875 L 60.375 18.339844 L 62.597656 16.871094 L 64.816406 18.429688 L 67.039062 22.121094 L 69.261719 27.3125 L 71.480469 33.546875 L 73.703125 40.488281 L 75.925781 47.886719 L 78.144531 55.546875 L 80.367188 63.328125 L 82.589844 71.117188 L 84.8125 78.835938 L 87.03125 86.425781 L 89.253906 93.832031 L 91.476562 101.027344 L 93.695312 107.984375 L 95.917969 114.695312 L 98.140625 121.140625 L 100.359375 127.324219 L 102.582031 133.238281 L 104.804688 138.886719 L 107.027344 144.277344 L 109.246094 149.410156 L 111.46875 154.292969 L 113.691406 158.9375 L 115.910156 163.351562 L 118.132812 167.539062 L 120.355469 171.515625 L 122.574219 175.285156 L 124.796875 178.855469 L 127.019531 182.242188 L 129.238281 185.453125 L 131.460938 188.492188 L 133.683594 191.367188 L 135.90625 194.09375 L 138.125 196.675781 L 140.347656 199.117188 L 142.570312 201.429688 L 144.789062 203.621094 L 147.011719 205.691406 L 149.234375 207.65625 L 151.453125 209.511719 L 153.675781 211.269531 L 155.898438 212.9375 L 158.117188 214.511719 L 160.339844 216.007812 L 162.5625 217.421875 L 164.785156 218.761719 L 167.003906 220.027344 L 169.226562 221.230469 L 171.449219 222.371094 L 173.667969 223.449219 L 175.890625 224.472656 L 178.113281 225.445312 L 180.332031 226.367188 L 182.554688 227.238281 L 184.777344 228.066406 L 186.996094 228.851562 L 189.21875 229.597656 L 191.441406 230.304688 L 193.664062 230.976562 L 195.882812 231.613281 L 198.105469 232.21875 L 200.328125 232.792969 L 202.546875 233.339844 L 204.769531 233.855469 L 206.992188 234.351562 L 209.210938 234.820312 L 211.433594 235.265625 L 213.65625 235.6875 L 215.875 236.089844 L 218.097656 236.472656 L 220.320312 236.839844 L 222.542969 237.183594 L 224.761719 237.515625 L 226.984375 237.828125 L 229.207031 238.128906 L 231.425781 238.414062 L 233.648438 238.6875 L 235.871094 238.945312 L 238.089844 239.191406 L 240.3125 239.425781 L 242.535156 239.648438 L 244.753906 239.863281 L 246.976562 240.066406 L 249.199219 240.261719 L 251.421875 240.445312 L 253.640625 240.625 L 255.863281 240.792969 L 258.085938 240.953125 L 260.304688 241.109375 L 262.527344 241.253906 L 264.75 241.394531 L 266.96875 241.527344 L 269.191406 241.65625 L 271.414062 241.78125 \"/>\n",
       "<g style=\"fill:rgb(30.196078%,30.196078%,30.196078%);fill-opacity:1;\">\n",
       "  <use xlink:href=\"#glyph0-1\" x=\"20.304688\" y=\"248.035156\"/>\n",
       "  <use xlink:href=\"#glyph0-2\" x=\"25.475174\" y=\"248.035156\"/>\n",
       "  <use xlink:href=\"#glyph0-1\" x=\"28.058151\" y=\"248.035156\"/>\n",
       "</g>\n",
       "<g style=\"fill:rgb(30.196078%,30.196078%,30.196078%);fill-opacity:1;\">\n",
       "  <use xlink:href=\"#glyph0-1\" x=\"20.304688\" y=\"183.511719\"/>\n",
       "  <use xlink:href=\"#glyph0-2\" x=\"25.475174\" y=\"183.511719\"/>\n",
       "  <use xlink:href=\"#glyph0-3\" x=\"28.058151\" y=\"183.511719\"/>\n",
       "</g>\n",
       "<g style=\"fill:rgb(30.196078%,30.196078%,30.196078%);fill-opacity:1;\">\n",
       "  <use xlink:href=\"#glyph0-1\" x=\"20.304688\" y=\"118.988281\"/>\n",
       "  <use xlink:href=\"#glyph0-2\" x=\"25.475174\" y=\"118.988281\"/>\n",
       "  <use xlink:href=\"#glyph0-4\" x=\"28.058151\" y=\"118.988281\"/>\n",
       "</g>\n",
       "<g style=\"fill:rgb(30.196078%,30.196078%,30.196078%);fill-opacity:1;\">\n",
       "  <use xlink:href=\"#glyph0-1\" x=\"20.304688\" y=\"54.464844\"/>\n",
       "  <use xlink:href=\"#glyph0-2\" x=\"25.475174\" y=\"54.464844\"/>\n",
       "  <use xlink:href=\"#glyph0-5\" x=\"28.058151\" y=\"54.464844\"/>\n",
       "</g>\n",
       "<path style=\"fill:none;stroke-width:1.422638;stroke-linecap:butt;stroke-linejoin:round;stroke:rgb(20%,20%,20%);stroke-opacity:1;stroke-miterlimit:10;\" d=\"M 35.421875 244.699219 L 38.160156 244.699219 \"/>\n",
       "<path style=\"fill:none;stroke-width:1.422638;stroke-linecap:butt;stroke-linejoin:round;stroke:rgb(20%,20%,20%);stroke-opacity:1;stroke-miterlimit:10;\" d=\"M 35.421875 180.175781 L 38.160156 180.175781 \"/>\n",
       "<path style=\"fill:none;stroke-width:1.422638;stroke-linecap:butt;stroke-linejoin:round;stroke:rgb(20%,20%,20%);stroke-opacity:1;stroke-miterlimit:10;\" d=\"M 35.421875 115.652344 L 38.160156 115.652344 \"/>\n",
       "<path style=\"fill:none;stroke-width:1.422638;stroke-linecap:butt;stroke-linejoin:round;stroke:rgb(20%,20%,20%);stroke-opacity:1;stroke-miterlimit:10;\" d=\"M 35.421875 51.128906 L 38.160156 51.128906 \"/>\n",
       "<path style=\"fill:none;stroke-width:1.422638;stroke-linecap:butt;stroke-linejoin:round;stroke:rgb(20%,20%,20%);stroke-opacity:1;stroke-miterlimit:10;\" d=\"M 49.265625 258.832031 L 49.265625 256.09375 \"/>\n",
       "<path style=\"fill:none;stroke-width:1.422638;stroke-linecap:butt;stroke-linejoin:round;stroke:rgb(20%,20%,20%);stroke-opacity:1;stroke-miterlimit:10;\" d=\"M 93.695312 258.832031 L 93.695312 256.09375 \"/>\n",
       "<path style=\"fill:none;stroke-width:1.422638;stroke-linecap:butt;stroke-linejoin:round;stroke:rgb(20%,20%,20%);stroke-opacity:1;stroke-miterlimit:10;\" d=\"M 138.125 258.832031 L 138.125 256.09375 \"/>\n",
       "<path style=\"fill:none;stroke-width:1.422638;stroke-linecap:butt;stroke-linejoin:round;stroke:rgb(20%,20%,20%);stroke-opacity:1;stroke-miterlimit:10;\" d=\"M 182.554688 258.832031 L 182.554688 256.09375 \"/>\n",
       "<path style=\"fill:none;stroke-width:1.422638;stroke-linecap:butt;stroke-linejoin:round;stroke:rgb(20%,20%,20%);stroke-opacity:1;stroke-miterlimit:10;\" d=\"M 226.984375 258.832031 L 226.984375 256.09375 \"/>\n",
       "<path style=\"fill:none;stroke-width:1.422638;stroke-linecap:butt;stroke-linejoin:round;stroke:rgb(20%,20%,20%);stroke-opacity:1;stroke-miterlimit:10;\" d=\"M 271.414062 258.832031 L 271.414062 256.09375 \"/>\n",
       "<g style=\"fill:rgb(30.196078%,30.196078%,30.196078%);fill-opacity:1;\">\n",
       "  <use xlink:href=\"#glyph0-1\" x=\"46.679688\" y=\"267.695312\"/>\n",
       "</g>\n",
       "<g style=\"fill:rgb(30.196078%,30.196078%,30.196078%);fill-opacity:1;\">\n",
       "  <use xlink:href=\"#glyph0-6\" x=\"91.109375\" y=\"267.695312\"/>\n",
       "</g>\n",
       "<g style=\"fill:rgb(30.196078%,30.196078%,30.196078%);fill-opacity:1;\">\n",
       "  <use xlink:href=\"#glyph0-3\" x=\"135.539062\" y=\"267.695312\"/>\n",
       "</g>\n",
       "<g style=\"fill:rgb(30.196078%,30.196078%,30.196078%);fill-opacity:1;\">\n",
       "  <use xlink:href=\"#glyph0-7\" x=\"179.96875\" y=\"267.695312\"/>\n",
       "</g>\n",
       "<g style=\"fill:rgb(30.196078%,30.196078%,30.196078%);fill-opacity:1;\">\n",
       "  <use xlink:href=\"#glyph0-4\" x=\"224.398438\" y=\"267.695312\"/>\n",
       "</g>\n",
       "<g style=\"fill:rgb(30.196078%,30.196078%,30.196078%);fill-opacity:1;\">\n",
       "  <use xlink:href=\"#glyph0-8\" x=\"268.828125\" y=\"267.695312\"/>\n",
       "</g>\n",
       "<g style=\"fill:rgb(0%,0%,0%);fill-opacity:1;\">\n",
       "  <use xlink:href=\"#glyph1-1\" x=\"157.464844\" y=\"280.328125\"/>\n",
       "</g>\n",
       "<g style=\"fill:rgb(0%,0%,0%);fill-opacity:1;\">\n",
       "  <use xlink:href=\"#glyph2-1\" x=\"15.921875\" y=\"133.660156\"/>\n",
       "</g>\n",
       "</g>\n",
       "</svg>\n"
      ],
      "text/plain": [
       "plot without title"
      ]
     },
     "metadata": {
      "image/svg+xml": {
       "isolated": true
      }
     },
     "output_type": "display_data"
    }
   ],
   "source": [
    "ggplot(data.frame(x = c(0:5)), aes(x)) + \n",
    "    stat_function(fun = df, args = list(df1 = 3, df2 = 16))"
   ]
  },
  {
   "cell_type": "markdown",
   "metadata": {},
   "source": [
    "* 有意水準: 5%，片側検定\n",
    "* 検定統計量の実現値"
   ]
  },
  {
   "cell_type": "code",
   "execution_count": 11,
   "metadata": {
    "collapsed": false
   },
   "outputs": [
    {
     "name": "stdout",
     "output_type": "stream",
     "text": [
      "Classes ‘tbl_df’, ‘tbl’ and 'data.frame':\t20 obs. of  2 variables:\n",
      " $ stat_test2     : int  10 13 8 15 8 6 9 10 7 3 ...\n",
      " $ teaching_method: Factor w/ 4 levels \"A\",\"B\",\"C\",\"D\": 3 2 2 1 2 3 1 4 4 4 ...\n"
     ]
    }
   ],
   "source": [
    "dd <- d %>>% \n",
    "    select(stat_test2, teaching_method) %>>% \n",
    "    mutate(teaching_method = factor(teaching_method))\n",
    "str(dd)"
   ]
  },
  {
   "cell_type": "markdown",
   "metadata": {},
   "source": [
    "* `oneway.test()`"
   ]
  },
  {
   "cell_type": "code",
   "execution_count": 12,
   "metadata": {
    "collapsed": false
   },
   "outputs": [
    {
     "data": {
      "text/plain": [
       "\n",
       "\tOne-way analysis of means\n",
       "\n",
       "data:  dd$stat_test2 and dd$teaching_method\n",
       "F = 7.1111, num df = 3, denom df = 16, p-value = 0.002988\n"
      ]
     },
     "execution_count": 12,
     "metadata": {},
     "output_type": "execute_result"
    }
   ],
   "source": [
    "oneway.test(dd$stat_test2 ~ dd$teaching_method, var.equal = TRUE)"
   ]
  },
  {
   "cell_type": "markdown",
   "metadata": {},
   "source": [
    "* `aov()`"
   ]
  },
  {
   "cell_type": "code",
   "execution_count": 13,
   "metadata": {
    "collapsed": false
   },
   "outputs": [
    {
     "data": {
      "text/plain": [
       "Call:\n",
       "   aov(formula = dd$stat_test2 ~ dd$teaching_method)\n",
       "\n",
       "Terms:\n",
       "                dd$teaching_method Residuals\n",
       "Sum of Squares                 184       138\n",
       "Deg. of Freedom                  3        16\n",
       "\n",
       "Residual standard error: 2.936835\n",
       "Estimated effects may be unbalanced"
      ]
     },
     "execution_count": 13,
     "metadata": {},
     "output_type": "execute_result"
    }
   ],
   "source": [
    "aov(dd$stat_test2 ~ dd$teaching_method)"
   ]
  },
  {
   "cell_type": "code",
   "execution_count": 14,
   "metadata": {
    "collapsed": false
   },
   "outputs": [
    {
     "data": {
      "text/plain": [
       "                   Df Sum Sq Mean Sq F value  Pr(>F)   \n",
       "dd$teaching_method  3    184   61.33   7.111 0.00299 **\n",
       "Residuals          16    138    8.62                   \n",
       "---\n",
       "Signif. codes:  0 ‘***’ 0.001 ‘**’ 0.01 ‘*’ 0.05 ‘.’ 0.1 ‘ ’ 1"
      ]
     },
     "execution_count": 14,
     "metadata": {},
     "output_type": "execute_result"
    }
   ],
   "source": [
    "aov(dd$stat_test2 ~ dd$teaching_method) %>>% summary"
   ]
  },
  {
   "cell_type": "markdown",
   "metadata": {},
   "source": [
    "* `anova()`"
   ]
  },
  {
   "cell_type": "code",
   "execution_count": 15,
   "metadata": {
    "collapsed": false
   },
   "outputs": [
    {
     "data": {
      "text/html": [
       "<table>\n",
       "<thead><tr><th></th><th scope=col>Df</th><th scope=col>Sum Sq</th><th scope=col>Mean Sq</th><th scope=col>F value</th><th scope=col>Pr(&gt;F)</th></tr></thead>\n",
       "<tbody>\n",
       "\t<tr><th scope=row>dd$teaching_method</th><td>3.000000e+00</td><td>1.840000e+02</td><td>6.133333e+01</td><td>7.111111e+00</td><td>2.987783e-03</td></tr>\n",
       "\t<tr><th scope=row>Residuals</th><td> 16.000</td><td>138.000</td><td>  8.625</td><td>     NA</td><td>     NA</td></tr>\n",
       "</tbody>\n",
       "</table>\n"
      ],
      "text/latex": [
       "\\begin{tabular}{r|lllll}\n",
       "  & Df & Sum Sq & Mean Sq & F value & Pr(>F)\\\\\n",
       "\\hline\n",
       "\tdd\\$teaching\\_method & 3.000000e+00 & 1.840000e+02 & 6.133333e+01 & 7.111111e+00 & 2.987783e-03\\\\\n",
       "\tResiduals &  16.000 & 138.000 &   8.625 &      NA &      NA\\\\\n",
       "\\end{tabular}\n"
      ],
      "text/plain": [
       "Analysis of Variance Table\n",
       "\n",
       "Response: dd$stat_test2\n",
       "                   Df Sum Sq Mean Sq F value   Pr(>F)   \n",
       "dd$teaching_method  3    184  61.333  7.1111 0.002988 **\n",
       "Residuals          16    138   8.625                    \n",
       "---\n",
       "Signif. codes:  0 ‘***’ 0.001 ‘**’ 0.01 ‘*’ 0.05 ‘.’ 0.1 ‘ ’ 1"
      ]
     },
     "execution_count": 15,
     "metadata": {},
     "output_type": "execute_result"
    }
   ],
   "source": [
    "lm(dd$stat_test2 ~ dd$teaching_method) %>>% anova"
   ]
  },
  {
   "cell_type": "markdown",
   "metadata": {},
   "source": [
    "### 7.1.2 平方和の分解"
   ]
  },
  {
   "cell_type": "markdown",
   "metadata": {},
   "source": [
    "* 群内平方和"
   ]
  },
  {
   "cell_type": "code",
   "execution_count": 16,
   "metadata": {
    "collapsed": false
   },
   "outputs": [
    {
     "data": {
      "text/html": [
       "138"
      ],
      "text/latex": [
       "138"
      ],
      "text/markdown": [
       "138"
      ],
      "text/plain": [
       "[1] 138"
      ]
     },
     "execution_count": 16,
     "metadata": {},
     "output_type": "execute_result"
    }
   ],
   "source": [
    "intra_group_sq_sum <- dd %>>% \n",
    "    group_by(teaching_method) %>>%\n",
    "    mutate_each(funs(my_fun = stat_test2 - mean(stat_test2))) %>>%\n",
    "    ungroup %>>%\n",
    "    mutate(stat_test2 = stat_test2^2) %>>%\n",
    "    summarise(res = sum(stat_test2)) %>>%\n",
    "    (.[[\"res\"]])\n",
    "intra_group_sq_sum"
   ]
  },
  {
   "cell_type": "markdown",
   "metadata": {},
   "source": [
    "* 群間平方和"
   ]
  },
  {
   "cell_type": "code",
   "execution_count": 17,
   "metadata": {
    "collapsed": false,
    "scrolled": true
   },
   "outputs": [
    {
     "data": {
      "text/html": [
       "184"
      ],
      "text/latex": [
       "184"
      ],
      "text/markdown": [
       "184"
      ],
      "text/plain": [
       "[1] 184"
      ]
     },
     "execution_count": 17,
     "metadata": {},
     "output_type": "execute_result"
    }
   ],
   "source": [
    "all_mean <- dd$stat_test2 %>>% mean\n",
    "inter_group_sq_sum <- dd %>>% \n",
    "    group_by(teaching_method) %>>%\n",
    "    summarise_each(funs(mean, n())) %>>%\n",
    "    mutate(dev_sq_sum = (mean - all_mean)^2 * n) %>>%\n",
    "    summarise(res = sum(dev_sq_sum)) %>>%\n",
    "    (.[[\"res\"]])\n",
    "inter_group_sq_sum"
   ]
  },
  {
   "cell_type": "markdown",
   "metadata": {},
   "source": [
    "* 全体平方和"
   ]
  },
  {
   "cell_type": "code",
   "execution_count": 18,
   "metadata": {
    "collapsed": false
   },
   "outputs": [
    {
     "data": {
      "text/html": [
       "322"
      ],
      "text/latex": [
       "322"
      ],
      "text/markdown": [
       "322"
      ],
      "text/plain": [
       "[1] 322"
      ]
     },
     "execution_count": 18,
     "metadata": {},
     "output_type": "execute_result"
    }
   ],
   "source": [
    "all_sq_sum <- dd %>>% \n",
    "    mutate(dev_sq_sum = (stat_test2 - all_mean)^2) %>>%\n",
    "    summarise(res = sum(dev_sq_sum)) %>>%\n",
    "    (.[[\"res\"]])\n",
    "all_sq_sum"
   ]
  },
  {
   "cell_type": "markdown",
   "metadata": {},
   "source": [
    "分散分析表との対応を見る"
   ]
  },
  {
   "cell_type": "code",
   "execution_count": 19,
   "metadata": {
    "collapsed": false
   },
   "outputs": [
    {
     "data": {
      "text/plain": [
       "                   Df Sum Sq Mean Sq F value  Pr(>F)   \n",
       "dd$teaching_method  3    184   61.33   7.111 0.00299 **\n",
       "Residuals          16    138    8.62                   \n",
       "---\n",
       "Signif. codes:  0 ‘***’ 0.001 ‘**’ 0.01 ‘*’ 0.05 ‘.’ 0.1 ‘ ’ 1"
      ]
     },
     "execution_count": 19,
     "metadata": {},
     "output_type": "execute_result"
    }
   ],
   "source": [
    "aov(dd$stat_test2 ~ dd$teaching_method) %>>% summary"
   ]
  },
  {
   "cell_type": "markdown",
   "metadata": {},
   "source": [
    "* 全体平方和 = 群間平方和 + 群内平方和"
   ]
  },
  {
   "cell_type": "code",
   "execution_count": 20,
   "metadata": {
    "collapsed": false
   },
   "outputs": [
    {
     "data": {
      "text/html": [
       "322"
      ],
      "text/latex": [
       "322"
      ],
      "text/markdown": [
       "322"
      ],
      "text/plain": [
       "[1] 322"
      ]
     },
     "execution_count": 20,
     "metadata": {},
     "output_type": "execute_result"
    }
   ],
   "source": [
    "inter_group_sq_sum + intra_group_sq_sum"
   ]
  },
  {
   "cell_type": "markdown",
   "metadata": {},
   "source": [
    "自由度\n",
    "\n",
    "* 群間: 群の数 - 1"
   ]
  },
  {
   "cell_type": "code",
   "execution_count": 21,
   "metadata": {
    "collapsed": false
   },
   "outputs": [
    {
     "data": {
      "text/html": [
       "3"
      ],
      "text/latex": [
       "3"
      ],
      "text/markdown": [
       "3"
      ],
      "text/plain": [
       "[1] 3"
      ]
     },
     "execution_count": 21,
     "metadata": {},
     "output_type": "execute_result"
    }
   ],
   "source": [
    "df_inter <- (unique(dd$teaching_method) %>>% length) - 1\n",
    "df_inter"
   ]
  },
  {
   "cell_type": "markdown",
   "metadata": {},
   "source": [
    "* 郡内: sum(各群のデータ数 - 1)"
   ]
  },
  {
   "cell_type": "code",
   "execution_count": 22,
   "metadata": {
    "collapsed": false
   },
   "outputs": [
    {
     "data": {
      "text/html": [
       "16"
      ],
      "text/latex": [
       "16"
      ],
      "text/markdown": [
       "16"
      ],
      "text/plain": [
       "[1] 16"
      ]
     },
     "execution_count": 22,
     "metadata": {},
     "output_type": "execute_result"
    }
   ],
   "source": [
    "df_intra <- dd %>>% \n",
    "    group_by(teaching_method) %>>% \n",
    "    summarise(n = n()) %>>%\n",
    "    ungroup %>>%\n",
    "    summarise(res = sum(n - 1)) %>>%\n",
    "    (.[[\"res\"]])\n",
    "df_intra"
   ]
  },
  {
   "cell_type": "markdown",
   "metadata": {},
   "source": [
    "* 全データ: 全データ数 - 1"
   ]
  },
  {
   "cell_type": "code",
   "execution_count": 23,
   "metadata": {
    "collapsed": false
   },
   "outputs": [
    {
     "data": {
      "text/html": [
       "19"
      ],
      "text/latex": [
       "19"
      ],
      "text/markdown": [
       "19"
      ],
      "text/plain": [
       "[1] 19"
      ]
     },
     "execution_count": 23,
     "metadata": {},
     "output_type": "execute_result"
    }
   ],
   "source": [
    "df_all <- length(dd$stat_test2) - 1\n",
    "df_all"
   ]
  },
  {
   "cell_type": "markdown",
   "metadata": {},
   "source": [
    "全データ = 群間 + 群内"
   ]
  },
  {
   "cell_type": "code",
   "execution_count": 24,
   "metadata": {
    "collapsed": false
   },
   "outputs": [
    {
     "data": {
      "text/html": [
       "19"
      ],
      "text/latex": [
       "19"
      ],
      "text/markdown": [
       "19"
      ],
      "text/plain": [
       "[1] 19"
      ]
     },
     "execution_count": 24,
     "metadata": {},
     "output_type": "execute_result"
    }
   ],
   "source": [
    "df_inter + df_intra"
   ]
  },
  {
   "cell_type": "markdown",
   "metadata": {},
   "source": [
    "群間平均平方"
   ]
  },
  {
   "cell_type": "code",
   "execution_count": 25,
   "metadata": {
    "collapsed": false
   },
   "outputs": [
    {
     "data": {
      "text/html": [
       "61.3333333333333"
      ],
      "text/latex": [
       "61.3333333333333"
      ],
      "text/markdown": [
       "61.3333333333333"
      ],
      "text/plain": [
       "[1] 61.33333"
      ]
     },
     "execution_count": 25,
     "metadata": {},
     "output_type": "execute_result"
    }
   ],
   "source": [
    "inter_mean_sq <- inter_group_sq_sum / df_inter\n",
    "inter_mean_sq"
   ]
  },
  {
   "cell_type": "markdown",
   "metadata": {},
   "source": [
    "群内平均平方"
   ]
  },
  {
   "cell_type": "code",
   "execution_count": 26,
   "metadata": {
    "collapsed": false
   },
   "outputs": [
    {
     "data": {
      "text/html": [
       "8.625"
      ],
      "text/latex": [
       "8.625"
      ],
      "text/markdown": [
       "8.625"
      ],
      "text/plain": [
       "[1] 8.625"
      ]
     },
     "execution_count": 26,
     "metadata": {},
     "output_type": "execute_result"
    }
   ],
   "source": [
    "intra_mean_sq <- intra_group_sq_sum / df_intra\n",
    "intra_mean_sq"
   ]
  },
  {
   "cell_type": "markdown",
   "metadata": {},
   "source": [
    "全体平方和を全体の自由度で割った平均平方は、全データの不偏分散となる"
   ]
  },
  {
   "cell_type": "code",
   "execution_count": 27,
   "metadata": {
    "collapsed": false
   },
   "outputs": [
    {
     "data": {
      "text/html": [
       "16.9473684210526"
      ],
      "text/latex": [
       "16.9473684210526"
      ],
      "text/markdown": [
       "16.9473684210526"
      ],
      "text/plain": [
       "[1] 16.94737"
      ]
     },
     "execution_count": 27,
     "metadata": {},
     "output_type": "execute_result"
    }
   ],
   "source": [
    "all_sq_sum / df_all"
   ]
  },
  {
   "cell_type": "code",
   "execution_count": 28,
   "metadata": {
    "collapsed": false
   },
   "outputs": [
    {
     "data": {
      "text/html": [
       "16.9473684210526"
      ],
      "text/latex": [
       "16.9473684210526"
      ],
      "text/markdown": [
       "16.9473684210526"
      ],
      "text/plain": [
       "[1] 16.94737"
      ]
     },
     "execution_count": 28,
     "metadata": {},
     "output_type": "execute_result"
    }
   ],
   "source": [
    "var(d$stat_test2)"
   ]
  },
  {
   "cell_type": "markdown",
   "metadata": {},
   "source": [
    "* $F$ 値"
   ]
  },
  {
   "cell_type": "code",
   "execution_count": 29,
   "metadata": {
    "collapsed": false
   },
   "outputs": [
    {
     "data": {
      "text/html": [
       "7.11111111111111"
      ],
      "text/latex": [
       "7.11111111111111"
      ],
      "text/markdown": [
       "7.11111111111111"
      ],
      "text/plain": [
       "[1] 7.111111"
      ]
     },
     "execution_count": 29,
     "metadata": {},
     "output_type": "execute_result"
    }
   ],
   "source": [
    "f_value <- inter_mean_sq / intra_mean_sq\n",
    "f_value"
   ]
  },
  {
   "cell_type": "markdown",
   "metadata": {},
   "source": [
    "### 多重比較（Tukey）"
   ]
  },
  {
   "cell_type": "markdown",
   "metadata": {},
   "source": [
    "* どの群とどの群に差があるかどうか\n",
    "* データ数 n が等しく，各群の母分散も等しいと仮定して検定統計量$q$を求める\n",
    "\n",
    "$$q = \\frac{|\\mbox{比較する群の平均値差}|}{\\sqrt{\\mbox{群内の平均平方} / \\mbox{各群のデータ数}}}$$"
   ]
  },
  {
   "cell_type": "code",
   "execution_count": 30,
   "metadata": {
    "collapsed": false
   },
   "outputs": [
    {
     "data": {
      "text/html": [
       "<table>\n",
       "<tbody>\n",
       "\t<tr><td>A</td><td>A</td><td>A</td><td>B</td><td>B</td><td>C</td></tr>\n",
       "\t<tr><td>B</td><td>C</td><td>D</td><td>C</td><td>D</td><td>D</td></tr>\n",
       "</tbody>\n",
       "</table>\n"
      ],
      "text/latex": [
       "\\begin{tabular}{llllll}\n",
       "\t A & A & A & B & B & C\\\\\n",
       "\t B & C & D & C & D & D\\\\\n",
       "\\end{tabular}\n"
      ],
      "text/markdown": [
       "1. 'A'\n",
       "2. 'B'\n",
       "3. 'A'\n",
       "4. 'C'\n",
       "5. 'A'\n",
       "6. 'D'\n",
       "7. 'B'\n",
       "8. 'C'\n",
       "9. 'B'\n",
       "10. 'D'\n",
       "11. 'C'\n",
       "12. 'D'\n",
       "\n",
       "\n"
      ],
      "text/plain": [
       "     [,1] [,2] [,3] [,4] [,5] [,6]\n",
       "[1,] \"A\"  \"A\"  \"A\"  \"B\"  \"B\"  \"C\" \n",
       "[2,] \"B\"  \"C\"  \"D\"  \"C\"  \"D\"  \"D\" "
      ]
     },
     "execution_count": 30,
     "metadata": {},
     "output_type": "execute_result"
    }
   ],
   "source": [
    "combn(c(\"A\", \"B\", \"C\", \"D\"), 2)"
   ]
  },
  {
   "cell_type": "code",
   "execution_count": 31,
   "metadata": {
    "collapsed": false
   },
   "outputs": [
    {
     "data": {
      "text/html": [
       "<table>\n",
       "<thead><tr><th></th><th scope=col>teaching_method</th><th scope=col>n</th></tr></thead>\n",
       "<tbody>\n",
       "\t<tr><th scope=row>1</th><td>A</td><td>5</td></tr>\n",
       "\t<tr><th scope=row>2</th><td>B</td><td>5</td></tr>\n",
       "\t<tr><th scope=row>3</th><td>C</td><td>5</td></tr>\n",
       "\t<tr><th scope=row>4</th><td>D</td><td>5</td></tr>\n",
       "</tbody>\n",
       "</table>\n"
      ],
      "text/latex": [
       "\\begin{tabular}{r|ll}\n",
       "  & teaching\\_method & n\\\\\n",
       "\\hline\n",
       "\t1 & A & 5\\\\\n",
       "\t2 & B & 5\\\\\n",
       "\t3 & C & 5\\\\\n",
       "\t4 & D & 5\\\\\n",
       "\\end{tabular}\n"
      ],
      "text/plain": [
       "  teaching_method n\n",
       "1               A 5\n",
       "2               B 5\n",
       "3               C 5\n",
       "4               D 5"
      ]
     },
     "execution_count": 31,
     "metadata": {},
     "output_type": "execute_result"
    }
   ],
   "source": [
    "dd %>>% group_by(teaching_method) %>>% summarise(n = n())"
   ]
  },
  {
   "cell_type": "code",
   "execution_count": 32,
   "metadata": {
    "collapsed": false
   },
   "outputs": [
    {
     "data": {
      "text/html": [
       "5"
      ],
      "text/latex": [
       "5"
      ],
      "text/markdown": [
       "5"
      ],
      "text/plain": [
       "[1] 5"
      ]
     },
     "execution_count": 32,
     "metadata": {},
     "output_type": "execute_result"
    }
   ],
   "source": [
    "n <- dd %>>% group_by(teaching_method) %>>% summarise(n = n()) %>>% (.[[\"n\"]][1])\n",
    "n"
   ]
  },
  {
   "cell_type": "code",
   "execution_count": 33,
   "metadata": {
    "collapsed": false
   },
   "outputs": [
    {
     "name": "stdout",
     "output_type": "stream",
     "text": [
      "A  and  B :  3.959212 \n",
      "A  and  C :  4.263767 \n",
      "A  and  D :  6.395651 \n",
      "B  and  C :  0.3045548 \n",
      "B  and  D :  2.436438 \n",
      "C  and  D :  2.131884 \n"
     ]
    }
   ],
   "source": [
    "dd %>>% \n",
    "    group_by(teaching_method) %>>% \n",
    "    summarise(gr_mean = mean(stat_test2)) %>>%\n",
    "    (function(x){\n",
    "        ret <- x$gr_mean\n",
    "        names(ret) <- x$teaching_method\n",
    "        ret\n",
    "    })() %>>%\n",
    "    (function(x){\n",
    "        names(x) %>>% \n",
    "            combn(2) %>>% \n",
    "            apply(2, function(y){\n",
    "                a <- y[1]\n",
    "                b <- y[2]\n",
    "                q <- abs(x[a] - x[b]) / sqrt(intra_mean_sq / n)\n",
    "                cat(a, \" and \", b, \": \", q, \"\\n\")\n",
    "        })\n",
    "        invisible()\n",
    "    })()"
   ]
  },
  {
   "cell_type": "code",
   "execution_count": 34,
   "metadata": {
    "collapsed": false
   },
   "outputs": [
    {
     "data": {
      "text/plain": [
       "all_mean :  num 10\n",
       "all_sq_sum :  num 322\n",
       "d : Classes ‘tbl_df’, ‘tbl’ and 'data.frame':\t20 obs. of  9 variables:\n",
       " $ id             : int  1 2 3 4 5 6 7 8 9 10 ...\n",
       " $ name           : chr  \"大村\" \"本多\" \"川崎\" \"多村\" ...\n",
       " $ sex            : chr  \"男\" \"男\" \"男\" \"男\" ...\n",
       " $ math           : chr  \"嫌い\" \"嫌い\" \"好き\" \"好き\" ...\n",
       " $ stat           : chr  \"好き\" \"好き\" \"好き\" \"好き\" ...\n",
       " $ psy_test       : int  13 14 7 12 10 6 8 15 4 14 ...\n",
       " $ stat_test1     : int  6 10 6 10 5 3 5 9 3 3 ...\n",
       " $ stat_test2     : int  10 13 8 15 8 6 9 10 7 3 ...\n",
       " $ teaching_method: chr  \"C\" \"B\" \"B\" \"A\" ...\n",
       "dd : Classes ‘tbl_df’, ‘tbl’ and 'data.frame':\t20 obs. of  2 variables:\n",
       " $ stat_test2     : int  10 13 8 15 8 6 9 10 7 3 ...\n",
       " $ teaching_method: Factor w/ 4 levels \"A\",\"B\",\"C\",\"D\": 3 2 2 1 2 3 1 4 4 4 ...\n",
       "df_all :  num 19\n",
       "df_inter :  num 3\n",
       "df_intra :  num 16\n",
       "f_value :  num 7.11\n",
       "inter_group_sq_sum :  num 184\n",
       "inter_mean_sq :  num 61.3\n",
       "intra_group_sq_sum :  num 138\n",
       "intra_mean_sq :  num 8.62\n",
       "n :  int 5\n",
       "pkgs :  chr [1:6] \"pipeR\" \"dplyr\" \"tidyr\" \"ggplot2\" \"readr\" \"readxl\""
      ]
     },
     "execution_count": 34,
     "metadata": {},
     "output_type": "execute_result"
    }
   ],
   "source": [
    "ls.str()"
   ]
  },
  {
   "cell_type": "code",
   "execution_count": 35,
   "metadata": {
    "collapsed": false,
    "scrolled": true
   },
   "outputs": [
    {
     "data": {
      "text/html": [
       "\n",
       "<table width=\"100%\" summary=\"page for Tukey {stats}\"><tr><td>Tukey {stats}</td><td style=\"text-align: right;\">R Documentation</td></tr></table>\n",
       "\n",
       "<h2>The Studentized Range Distribution</h2>\n",
       "\n",
       "<h3>Description</h3>\n",
       "\n",
       "<p>Functions of the distribution of the studentized range, <i>R/s</i>,\n",
       "where <i>R</i> is the range of a standard normal sample and\n",
       "<i>df*s^2</i> is independently distributed as\n",
       "chi-squared with <i>df</i> degrees of freedom, see <code>pchisq</code>.\n",
       "</p>\n",
       "\n",
       "\n",
       "<h3>Usage</h3>\n",
       "\n",
       "<pre>\n",
       "ptukey(q, nmeans, df, nranges = 1, lower.tail = TRUE, log.p = FALSE)\n",
       "qtukey(p, nmeans, df, nranges = 1, lower.tail = TRUE, log.p = FALSE)\n",
       "</pre>\n",
       "\n",
       "\n",
       "<h3>Arguments</h3>\n",
       "\n",
       "<table summary=\"R argblock\">\n",
       "<tr valign=\"top\"><td><code>q</code></td>\n",
       "<td>\n",
       "<p>vector of quantiles.</p>\n",
       "</td></tr>\n",
       "<tr valign=\"top\"><td><code>p</code></td>\n",
       "<td>\n",
       "<p>vector of probabilities.</p>\n",
       "</td></tr>\n",
       "<tr valign=\"top\"><td><code>nmeans</code></td>\n",
       "<td>\n",
       "<p>sample size for range (same for each group).</p>\n",
       "</td></tr>\n",
       "<tr valign=\"top\"><td><code>df</code></td>\n",
       "<td>\n",
       "<p>degrees of freedom for <i>s</i> (see below).</p>\n",
       "</td></tr>\n",
       "<tr valign=\"top\"><td><code>nranges</code></td>\n",
       "<td>\n",
       "<p>number of <em>groups</em> whose <b>maximum</b> range is\n",
       "considered.</p>\n",
       "</td></tr>\n",
       "<tr valign=\"top\"><td><code>log.p</code></td>\n",
       "<td>\n",
       "<p>logical; if TRUE, probabilities p are given as log(p).</p>\n",
       "</td></tr>\n",
       "<tr valign=\"top\"><td><code>lower.tail</code></td>\n",
       "<td>\n",
       "<p>logical; if TRUE (default), probabilities are\n",
       "<i>P[X &le; x]</i>, otherwise, <i>P[X &gt; x]</i>.</p>\n",
       "</td></tr>\n",
       "</table>\n",
       "\n",
       "\n",
       "<h3>Details</h3>\n",
       "\n",
       "<p>If <i>ng =</i><code>nranges</code> is greater than one, <i>R</i> is\n",
       "the <em>maximum</em> of <i>ng</i> groups of <code>nmeans</code>\n",
       "observations each.\n",
       "</p>\n",
       "\n",
       "\n",
       "<h3>Value</h3>\n",
       "\n",
       "<p><code>ptukey</code> gives the distribution function and <code>qtukey</code> its\n",
       "inverse, the quantile function.\n",
       "</p>\n",
       "<p>The length of the result is the maximum of the lengths of the\n",
       "numerical arguments.  The other numerical arguments are recycled\n",
       "to that length.  Only the first elements of the logical arguments\n",
       "are used.  \n",
       "</p>\n",
       "\n",
       "\n",
       "<h3>Note</h3>\n",
       "\n",
       "<p>A Legendre 16-point formula is used for the integral of <code>ptukey</code>.\n",
       "The computations are relatively expensive, especially for\n",
       "<code>qtukey</code> which uses a simple secant method for finding the\n",
       "inverse of <code>ptukey</code>.\n",
       "<code>qtukey</code> will be accurate to the 4th decimal place.\n",
       "</p>\n",
       "\n",
       "\n",
       "<h3>Source</h3>\n",
       "\n",
       "<p><code>qtukey</code> is in part adapted from Odeh and Evans (1974).\n",
       "</p>\n",
       "\n",
       "\n",
       "<h3>References</h3>\n",
       "\n",
       "<p>Copenhaver, Margaret Diponzio and Holland, Burt S. (1988)\n",
       "Multiple comparisons of simple effects in\n",
       "the two-way analysis of variance with fixed effects.\n",
       "<em>Journal of Statistical Computation and Simulation</em>, <b>30</b>, 1&ndash;15.\n",
       "</p>\n",
       "<p>Odeh, R. E.  and  Evans, J. O. (1974)\n",
       "Algorithm AS 70: Percentage Points of the Normal Distribution.\n",
       "<em>Applied Statistics</em> <b>23</b>, 96&ndash;97.\n",
       "</p>\n",
       "\n",
       "\n",
       "<h3>See Also</h3>\n",
       "\n",
       "<p>Distributions for standard distributions, including\n",
       "<code>pnorm</code> and <code>qnorm</code> for the corresponding\n",
       "functions for the normal distribution.\n",
       "</p>\n",
       "\n",
       "\n",
       "<h3>Examples</h3>\n",
       "\n",
       "<pre>\n",
       "if(interactive())\n",
       "  curve(ptukey(x, nm = 6, df = 5), from = -1, to = 8, n = 101)\n",
       "(ptt &lt;- ptukey(0:10, 2, df =  5))\n",
       "(qtt &lt;- qtukey(.95, 2, df =  2:11))\n",
       "## The precision may be not much more than about 8 digits:\n",
       "summary(abs(.95 - ptukey(qtt, 2, df = 2:11)))\n",
       "</pre>\n",
       "\n",
       "<hr /><div style=\"text-align: center;\">[Package <em>stats</em> version 3.2.3 ]</div>"
      ],
      "text/latex": [
       "\\inputencoding{utf8}\n",
       "\\HeaderA{Tukey}{The Studentized Range Distribution}{Tukey}\n",
       "\\aliasA{ptukey}{Tukey}{ptukey}\n",
       "\\aliasA{qtukey}{Tukey}{qtukey}\n",
       "\\keyword{distribution}{Tukey}\n",
       "%\n",
       "\\begin{Description}\\relax\n",
       "Functions of the distribution of the studentized range, \\eqn{R/s}{},\n",
       "where \\eqn{R}{} is the range of a standard normal sample and\n",
       "\\eqn{df \\times s^2}{} is independently distributed as\n",
       "chi-squared with \\eqn{df}{} degrees of freedom, see \\code{\\LinkA{pchisq}{pchisq}}.\n",
       "\\end{Description}\n",
       "%\n",
       "\\begin{Usage}\n",
       "\\begin{verbatim}\n",
       "ptukey(q, nmeans, df, nranges = 1, lower.tail = TRUE, log.p = FALSE)\n",
       "qtukey(p, nmeans, df, nranges = 1, lower.tail = TRUE, log.p = FALSE)\n",
       "\\end{verbatim}\n",
       "\\end{Usage}\n",
       "%\n",
       "\\begin{Arguments}\n",
       "\\begin{ldescription}\n",
       "\\item[\\code{q}] vector of quantiles.\n",
       "\\item[\\code{p}] vector of probabilities.\n",
       "\\item[\\code{nmeans}] sample size for range (same for each group).\n",
       "\\item[\\code{df}] degrees of freedom for \\eqn{s}{} (see below).\n",
       "\\item[\\code{nranges}] number of \\emph{groups} whose \\bold{maximum} range is\n",
       "considered.\n",
       "\\item[\\code{log.p}] logical; if TRUE, probabilities p are given as log(p).\n",
       "\\item[\\code{lower.tail}] logical; if TRUE (default), probabilities are\n",
       "\\eqn{P[X \\le x]}{}, otherwise, \\eqn{P[X > x]}{}.\n",
       "\\end{ldescription}\n",
       "\\end{Arguments}\n",
       "%\n",
       "\\begin{Details}\\relax\n",
       "If \\eqn{n_g =}{}\\code{nranges} is greater than one, \\eqn{R}{} is\n",
       "the \\emph{maximum} of \\eqn{n_g}{} groups of \\code{nmeans}\n",
       "observations each.\n",
       "\\end{Details}\n",
       "%\n",
       "\\begin{Value}\n",
       "\\code{ptukey} gives the distribution function and \\code{qtukey} its\n",
       "inverse, the quantile function.\n",
       "\n",
       "The length of the result is the maximum of the lengths of the\n",
       "numerical arguments.  The other numerical arguments are recycled\n",
       "to that length.  Only the first elements of the logical arguments\n",
       "are used.  \n",
       "\\end{Value}\n",
       "%\n",
       "\\begin{Note}\\relax\n",
       "A Legendre 16-point formula is used for the integral of \\code{ptukey}.\n",
       "The computations are relatively expensive, especially for\n",
       "\\code{qtukey} which uses a simple secant method for finding the\n",
       "inverse of \\code{ptukey}.\n",
       "\\code{qtukey} will be accurate to the 4th decimal place.\n",
       "\\end{Note}\n",
       "%\n",
       "\\begin{Source}\\relax\n",
       "\\code{qtukey} is in part adapted from Odeh and Evans (1974).\n",
       "\\end{Source}\n",
       "%\n",
       "\\begin{References}\\relax\n",
       "Copenhaver, Margaret Diponzio and Holland, Burt S. (1988)\n",
       "Multiple comparisons of simple effects in\n",
       "the two-way analysis of variance with fixed effects.\n",
       "\\emph{Journal of Statistical Computation and Simulation}, \\bold{30}, 1--15.\n",
       "\n",
       "Odeh, R. E.  and  Evans, J. O. (1974)\n",
       "Algorithm AS 70: Percentage Points of the Normal Distribution.\n",
       "\\emph{Applied Statistics} \\bold{23}, 96--97.\n",
       "\\end{References}\n",
       "%\n",
       "\\begin{SeeAlso}\\relax\n",
       "\\LinkA{Distributions}{Distributions} for standard distributions, including\n",
       "\\code{\\LinkA{pnorm}{pnorm}} and \\code{\\LinkA{qnorm}{qnorm}} for the corresponding\n",
       "functions for the normal distribution.\n",
       "\\end{SeeAlso}\n",
       "%\n",
       "\\begin{Examples}\n",
       "\\begin{ExampleCode}\n",
       "if(interactive())\n",
       "  curve(ptukey(x, nm = 6, df = 5), from = -1, to = 8, n = 101)\n",
       "(ptt <- ptukey(0:10, 2, df =  5))\n",
       "(qtt <- qtukey(.95, 2, df =  2:11))\n",
       "## The precision may be not much more than about 8 digits:\n",
       "summary(abs(.95 - ptukey(qtt, 2, df = 2:11)))\n",
       "\\end{ExampleCode}\n",
       "\\end{Examples}"
      ],
      "text/plain": [
       "Tukey                  package:stats                   R Documentation\n",
       "\n",
       "_\bT_\bh_\be _\bS_\bt_\bu_\bd_\be_\bn_\bt_\bi_\bz_\be_\bd _\bR_\ba_\bn_\bg_\be _\bD_\bi_\bs_\bt_\br_\bi_\bb_\bu_\bt_\bi_\bo_\bn\n",
       "\n",
       "_\bD_\be_\bs_\bc_\br_\bi_\bp_\bt_\bi_\bo_\bn:\n",
       "\n",
       "     Functions of the distribution of the studentized range, R/s, where\n",
       "     R is the range of a standard normal sample and df*s^2 is\n",
       "     independently distributed as chi-squared with df degrees of\n",
       "     freedom, see ‘pchisq’.\n",
       "\n",
       "_\bU_\bs_\ba_\bg_\be:\n",
       "\n",
       "     ptukey(q, nmeans, df, nranges = 1, lower.tail = TRUE, log.p = FALSE)\n",
       "     qtukey(p, nmeans, df, nranges = 1, lower.tail = TRUE, log.p = FALSE)\n",
       "     \n",
       "_\bA_\br_\bg_\bu_\bm_\be_\bn_\bt_\bs:\n",
       "\n",
       "       q: vector of quantiles.\n",
       "\n",
       "       p: vector of probabilities.\n",
       "\n",
       "  nmeans: sample size for range (same for each group).\n",
       "\n",
       "      df: degrees of freedom for s (see below).\n",
       "\n",
       " nranges: number of _groups_ whose *maximum* range is considered.\n",
       "\n",
       "   log.p: logical; if TRUE, probabilities p are given as log(p).\n",
       "\n",
       "lower.tail: logical; if TRUE (default), probabilities are P[X <= x],\n",
       "          otherwise, P[X > x].\n",
       "\n",
       "_\bD_\be_\bt_\ba_\bi_\bl_\bs:\n",
       "\n",
       "     If ng =‘nranges’ is greater than one, R is the _maximum_ of ng\n",
       "     groups of ‘nmeans’ observations each.\n",
       "\n",
       "_\bV_\ba_\bl_\bu_\be:\n",
       "\n",
       "     ‘ptukey’ gives the distribution function and ‘qtukey’ its\n",
       "     inverse, the quantile function.\n",
       "\n",
       "     The length of the result is the maximum of the lengths of the\n",
       "     numerical arguments.  The other numerical arguments are recycled\n",
       "     to that length.  Only the first elements of the logical arguments\n",
       "     are used.\n",
       "\n",
       "_\bN_\bo_\bt_\be:\n",
       "\n",
       "     A Legendre 16-point formula is used for the integral of\n",
       "     ‘ptukey’.  The computations are relatively expensive, especially\n",
       "     for ‘qtukey’ which uses a simple secant method for finding the\n",
       "     inverse of ‘ptukey’.  ‘qtukey’ will be accurate to the 4th\n",
       "     decimal place.\n",
       "\n",
       "_\bS_\bo_\bu_\br_\bc_\be:\n",
       "\n",
       "     ‘qtukey’ is in part adapted from Odeh and Evans (1974).\n",
       "\n",
       "_\bR_\be_\bf_\be_\br_\be_\bn_\bc_\be_\bs:\n",
       "\n",
       "     Copenhaver, Margaret Diponzio and Holland, Burt S. (1988) Multiple\n",
       "     comparisons of simple effects in the two-way analysis of variance\n",
       "     with fixed effects.  _Journal of Statistical Computation and\n",
       "     Simulation_, *30*, 1-15.\n",
       "\n",
       "     Odeh, R. E.  and Evans, J. O. (1974) Algorithm AS 70: Percentage\n",
       "     Points of the Normal Distribution.  _Applied Statistics_ *23*,\n",
       "     96-97.\n",
       "\n",
       "_\bS_\be_\be _\bA_\bl_\bs_\bo:\n",
       "\n",
       "     Distributions for standard distributions, including ‘pnorm’ and\n",
       "     ‘qnorm’ for the corresponding functions for the normal\n",
       "     distribution.\n",
       "\n",
       "_\bE_\bx_\ba_\bm_\bp_\bl_\be_\bs:\n",
       "\n",
       "     if(interactive())\n",
       "       curve(ptukey(x, nm = 6, df = 5), from = -1, to = 8, n = 101)\n",
       "     (ptt <- ptukey(0:10, 2, df =  5))\n",
       "     (qtt <- qtukey(.95, 2, df =  2:11))\n",
       "     ## The precision may be not much more than about 8 digits:\n",
       "     summary(abs(.95 - ptukey(qtt, 2, df = 2:11)))\n",
       "     "
      ]
     },
     "execution_count": 35,
     "metadata": {},
     "output_type": "execute_result"
    }
   ],
   "source": [
    "?qtukey"
   ]
  },
  {
   "cell_type": "markdown",
   "metadata": {},
   "source": [
    "* 検定統計量$q$の実現値\n",
    "* `qtukey()`"
   ]
  },
  {
   "cell_type": "code",
   "execution_count": 36,
   "metadata": {
    "collapsed": false
   },
   "outputs": [
    {
     "data": {
      "text/html": [
       "4"
      ],
      "text/latex": [
       "4"
      ],
      "text/markdown": [
       "4"
      ],
      "text/plain": [
       "[1] 4"
      ]
     },
     "execution_count": 36,
     "metadata": {},
     "output_type": "execute_result"
    }
   ],
   "source": [
    "ngroup <- dd$teaching_method %>>% unique %>>% length\n",
    "ngroup"
   ]
  },
  {
   "cell_type": "code",
   "execution_count": 37,
   "metadata": {
    "collapsed": false
   },
   "outputs": [
    {
     "data": {
      "text/html": [
       "4.04609303678795"
      ],
      "text/latex": [
       "4.04609303678795"
      ],
      "text/markdown": [
       "4.04609303678795"
      ],
      "text/plain": [
       "[1] 4.046093"
      ]
     },
     "execution_count": 37,
     "metadata": {},
     "output_type": "execute_result"
    }
   ],
   "source": [
    "qtukey(0.95, ngroup, df_intra)"
   ]
  },
  {
   "cell_type": "markdown",
   "metadata": {},
   "source": [
    "* A-C, A-D は棄却域に入った\n",
    "* `TukeyHSD()` を用いると，"
   ]
  },
  {
   "cell_type": "code",
   "execution_count": 38,
   "metadata": {
    "collapsed": false
   },
   "outputs": [
    {
     "data": {
      "text/plain": [
       "  Tukey multiple comparisons of means\n",
       "    95% family-wise confidence level\n",
       "\n",
       "Fit: aov(formula = dd$stat_test2 ~ dd$teaching_method)\n",
       "\n",
       "$`dd$teaching_method`\n",
       "    diff        lwr        upr     p adj\n",
       "B-A -5.2 -10.514108  0.1141085 0.0562227\n",
       "C-A -5.6 -10.914108 -0.2858915 0.0371222\n",
       "D-A -8.4 -13.714108 -3.0858915 0.0017736\n",
       "C-B -0.4  -5.714108  4.9141085 0.9963241\n",
       "D-B -3.2  -8.514108  2.1141085 0.3446966\n",
       "D-C -2.8  -8.114108  2.5141085 0.4561325\n"
      ]
     },
     "execution_count": 38,
     "metadata": {},
     "output_type": "execute_result"
    }
   ],
   "source": [
    "aov(dd$stat_test2 ~ dd$teaching_method) %>>% TukeyHSD"
   ]
  },
  {
   "cell_type": "markdown",
   "metadata": {},
   "source": [
    "## 7.2 一元配置分散分析（対応あり）"
   ]
  },
  {
   "cell_type": "markdown",
   "metadata": {},
   "source": [
    "### 例題"
   ]
  },
  {
   "cell_type": "code",
   "execution_count": 39,
   "metadata": {
    "collapsed": false
   },
   "outputs": [
    {
     "data": {
      "text/html": [
       "<table>\n",
       "<thead><tr><th></th><th scope=col>学生</th><th scope=col>線形代数</th><th scope=col>微分積分</th><th scope=col>確率統計</th></tr></thead>\n",
       "<tbody>\n",
       "\t<tr><th scope=row>1</th><td>田中</td><td>7   </td><td>5   </td><td>8   </td></tr>\n",
       "\t<tr><th scope=row>2</th><td>岸</td><td>8 </td><td>4 </td><td>6 </td></tr>\n",
       "\t<tr><th scope=row>3</th><td>大引</td><td>9   </td><td>7   </td><td>7   </td></tr>\n",
       "\t<tr><th scope=row>4</th><td>吉川</td><td>5   </td><td>1   </td><td>2   </td></tr>\n",
       "\t<tr><th scope=row>5</th><td>荻野</td><td>6   </td><td>3   </td><td>5   </td></tr>\n",
       "</tbody>\n",
       "</table>\n"
      ],
      "text/latex": [
       "\\begin{tabular}{r|llll}\n",
       "  & 学生 & 線形代数 & 微分積分 & 確率統計\\\\\n",
       "\\hline\n",
       "\t1 & 田中 & 7    & 5    & 8   \\\\\n",
       "\t2 & 岸 & 8  & 4  & 6 \\\\\n",
       "\t3 & 大引 & 9    & 7    & 7   \\\\\n",
       "\t4 & 吉川 & 5    & 1    & 2   \\\\\n",
       "\t5 & 荻野 & 6    & 3    & 5   \\\\\n",
       "\\end{tabular}\n"
      ],
      "text/plain": [
       "  学生 線形代数 微分積分 確率統計\n",
       "1 田中        7        5        8\n",
       "2   岸        8        4        6\n",
       "3 大引        9        7        7\n",
       "4 吉川        5        1        2\n",
       "5 荻野        6        3        5"
      ]
     },
     "execution_count": 39,
     "metadata": {},
     "output_type": "execute_result"
    }
   ],
   "source": [
    "d2 <- read_csv(\"chap07_2.csv\", locale=locale(encoding=\"CP932\")) # this csv file was generated by Excel\n",
    "d2"
   ]
  },
  {
   "cell_type": "code",
   "execution_count": 40,
   "metadata": {
    "collapsed": false
   },
   "outputs": [
    {
     "name": "stdout",
     "output_type": "stream",
     "text": [
      "Classes ‘tbl_df’, ‘tbl’ and 'data.frame':\t5 obs. of  4 variables:\n",
      " $ student    : chr  \"田中\" \"岸\" \"大引\" \"吉川\" ...\n",
      " $ algebra    : int  7 8 9 5 6\n",
      " $ calculus   : int  5 4 7 1 3\n",
      " $ probability: int  8 6 7 2 5\n"
     ]
    }
   ],
   "source": [
    "names(d2) <- c(\"student\", \"algebra\", \"calculus\", \"probability\")\n",
    "str(d2)"
   ]
  },
  {
   "cell_type": "markdown",
   "metadata": {},
   "source": [
    "### 7.2.1 対応なしとした場合"
   ]
  },
  {
   "cell_type": "code",
   "execution_count": 41,
   "metadata": {
    "collapsed": false
   },
   "outputs": [
    {
     "data": {
      "text/plain": [
       "            Df Sum Sq Mean Sq F value Pr(>F)\n",
       "subject      2  22.53  11.267   2.641  0.112\n",
       "Residuals   12  51.20   4.267               "
      ]
     },
     "execution_count": 41,
     "metadata": {},
     "output_type": "execute_result"
    }
   ],
   "source": [
    "d2 %>>% \n",
    "    gather(subject, point , -student) %>>% \n",
    "    {aov(point  ~ subject, data = .)} %>>%\n",
    "    summary"
   ]
  },
  {
   "cell_type": "markdown",
   "metadata": {},
   "source": [
    "### 7.2.2 対応あり\n",
    "\n",
    "$$ F = \\frac{\\mbox{条件平方和} / \\mbox{条件の自由度}}{\\mbox{残差平方和} / \\mbox{残差の自由度}}$$"
   ]
  },
  {
   "cell_type": "code",
   "execution_count": 42,
   "metadata": {
    "collapsed": false
   },
   "outputs": [
    {
     "data": {
      "text/plain": [
       "            Df Sum Sq Mean Sq F value   Pr(>F)    \n",
       "subject      2  22.53  11.267    14.7 0.002095 ** \n",
       "student      4  45.07  11.267    14.7 0.000931 ***\n",
       "Residuals    8   6.13   0.767                     \n",
       "---\n",
       "Signif. codes:  0 ‘***’ 0.001 ‘**’ 0.01 ‘*’ 0.05 ‘.’ 0.1 ‘ ’ 1"
      ]
     },
     "execution_count": 42,
     "metadata": {},
     "output_type": "execute_result"
    }
   ],
   "source": [
    "d2 %>>% gather(subject, point, -student) %>>%\n",
    "    {aov(point ~ subject + student, data = .)} %>>%\n",
    "    summary"
   ]
  },
  {
   "cell_type": "markdown",
   "metadata": {},
   "source": [
    "棄却域は，"
   ]
  },
  {
   "cell_type": "code",
   "execution_count": 43,
   "metadata": {
    "collapsed": false
   },
   "outputs": [
    {
     "data": {
      "text/html": [
       "4.45897010752451"
      ],
      "text/latex": [
       "4.45897010752451"
      ],
      "text/markdown": [
       "4.45897010752451"
      ],
      "text/plain": [
       "[1] 4.45897"
      ]
     },
     "execution_count": 43,
     "metadata": {},
     "output_type": "execute_result"
    }
   ],
   "source": [
    "qf(0.05, 2, 8, lower.tail = FALSE)"
   ]
  },
  {
   "cell_type": "markdown",
   "metadata": {},
   "source": [
    "### 7.2.4 平方和の分解と自由度の計算\n",
    "\n",
    "* 対応なし: 全体平方和 $=$ 群間平方和 $+$ 群内平方和 \n",
    "* 対応あり: 全体平方和 $=$ 条件平方和 $+$ 個人差平方和 $+$ 残差平方和"
   ]
  },
  {
   "cell_type": "markdown",
   "metadata": {},
   "source": [
    "全体平方和"
   ]
  },
  {
   "cell_type": "code",
   "execution_count": 44,
   "metadata": {
    "collapsed": false
   },
   "outputs": [],
   "source": [
    "d2.long <- d2 %>>% gather(subject, point, -student)"
   ]
  },
  {
   "cell_type": "code",
   "execution_count": 45,
   "metadata": {
    "collapsed": false
   },
   "outputs": [
    {
     "data": {
      "text/html": [
       "5.53333333333333"
      ],
      "text/latex": [
       "5.53333333333333"
      ],
      "text/markdown": [
       "5.53333333333333"
      ],
      "text/plain": [
       "[1] 5.533333"
      ]
     },
     "execution_count": 45,
     "metadata": {},
     "output_type": "execute_result"
    }
   ],
   "source": [
    "all_mean <- mean(d2.long$point)\n",
    "all_mean"
   ]
  },
  {
   "cell_type": "code",
   "execution_count": 46,
   "metadata": {
    "collapsed": false
   },
   "outputs": [
    {
     "data": {
      "text/html": [
       "73.7333333333333"
      ],
      "text/latex": [
       "73.7333333333333"
      ],
      "text/markdown": [
       "73.7333333333333"
      ],
      "text/plain": [
       "[1] 73.73333"
      ]
     },
     "execution_count": 46,
     "metadata": {},
     "output_type": "execute_result"
    }
   ],
   "source": [
    "all_sq_sum <- d2.long %>>% \n",
    "    mutate(dev_sq_sum = (point - all_mean)^2) %>>%\n",
    "    summarise(res = sum(dev_sq_sum)) %>>%\n",
    "    (.[[\"res\"]])\n",
    "all_sq_sum"
   ]
  },
  {
   "cell_type": "markdown",
   "metadata": {},
   "source": [
    "条件平方和"
   ]
  },
  {
   "cell_type": "code",
   "execution_count": 47,
   "metadata": {
    "collapsed": false
   },
   "outputs": [
    {
     "data": {
      "text/html": [
       "22.5333333333333"
      ],
      "text/latex": [
       "22.5333333333333"
      ],
      "text/markdown": [
       "22.5333333333333"
      ],
      "text/plain": [
       "[1] 22.53333"
      ]
     },
     "execution_count": 47,
     "metadata": {},
     "output_type": "execute_result"
    }
   ],
   "source": [
    "subject_sq_sum <- d2.long %>>% \n",
    "    group_by(subject) %>>%\n",
    "    summarise_each(funs(mean, n()), point) %>>%\n",
    "    mutate(dev_sq_sum = (mean - all_mean)^2 * n) %>>%\n",
    "    summarise(res = sum(dev_sq_sum)) %>>%\n",
    "    (.[[\"res\"]])\n",
    "subject_sq_sum"
   ]
  },
  {
   "cell_type": "markdown",
   "metadata": {},
   "source": [
    "個人差平方和"
   ]
  },
  {
   "cell_type": "code",
   "execution_count": 48,
   "metadata": {
    "collapsed": false
   },
   "outputs": [
    {
     "data": {
      "text/html": [
       "45.0666666666667"
      ],
      "text/latex": [
       "45.0666666666667"
      ],
      "text/markdown": [
       "45.0666666666667"
      ],
      "text/plain": [
       "[1] 45.06667"
      ]
     },
     "execution_count": 48,
     "metadata": {},
     "output_type": "execute_result"
    }
   ],
   "source": [
    "student_sq_sum <- d2.long %>>% \n",
    "    group_by(student) %>>%\n",
    "    mutate_each(funs(my_fun = mean(point) - all_mean), point) %>>%\n",
    "    ungroup %>>%\n",
    "    mutate(point = point^2) %>>%\n",
    "    summarise(res = sum(point)) %>>%\n",
    "    (.[[\"res\"]])\n",
    "student_sq_sum"
   ]
  },
  {
   "cell_type": "markdown",
   "metadata": {},
   "source": [
    "残差平方和"
   ]
  },
  {
   "cell_type": "code",
   "execution_count": 49,
   "metadata": {
    "collapsed": false
   },
   "outputs": [
    {
     "data": {
      "text/html": [
       "6.13333333333333"
      ],
      "text/latex": [
       "6.13333333333333"
      ],
      "text/markdown": [
       "6.13333333333333"
      ],
      "text/plain": [
       "[1] 6.133333"
      ]
     },
     "execution_count": 49,
     "metadata": {},
     "output_type": "execute_result"
    }
   ],
   "source": [
    "residuals_sq_sum <- d2.long %>>% \n",
    "    group_by(student) %>>%\n",
    "    mutate(mean.student = mean(point) - all_mean) %>>%\n",
    "    group_by(subject) %>>%\n",
    "    mutate(mean.subject = mean(point) - all_mean) %>>%\n",
    "    ungroup %>>%\n",
    "    mutate(point = point - all_mean - mean.student - mean.subject) %>>%\n",
    "    mutate(point = point^2) %>>%\n",
    "    summarise(res = sum(point)) %>>%\n",
    "    (.[[\"res\"]])\n",
    "residuals_sq_sum"
   ]
  },
  {
   "cell_type": "markdown",
   "metadata": {},
   "source": [
    "分解の確認"
   ]
  },
  {
   "cell_type": "code",
   "execution_count": 50,
   "metadata": {
    "collapsed": false
   },
   "outputs": [
    {
     "data": {
      "text/html": [
       "73.7333333333333"
      ],
      "text/latex": [
       "73.7333333333333"
      ],
      "text/markdown": [
       "73.7333333333333"
      ],
      "text/plain": [
       "[1] 73.73333"
      ]
     },
     "execution_count": 50,
     "metadata": {},
     "output_type": "execute_result"
    },
    {
     "data": {
      "text/html": [
       "73.7333333333333"
      ],
      "text/latex": [
       "73.7333333333333"
      ],
      "text/markdown": [
       "73.7333333333333"
      ],
      "text/plain": [
       "[1] 73.73333"
      ]
     },
     "execution_count": 50,
     "metadata": {},
     "output_type": "execute_result"
    },
    {
     "data": {
      "text/html": [
       "FALSE"
      ],
      "text/latex": [
       "FALSE"
      ],
      "text/markdown": [
       "FALSE"
      ],
      "text/plain": [
       "[1] FALSE"
      ]
     },
     "execution_count": 50,
     "metadata": {},
     "output_type": "execute_result"
    },
    {
     "data": {
      "text/html": [
       "FALSE"
      ],
      "text/latex": [
       "FALSE"
      ],
      "text/markdown": [
       "FALSE"
      ],
      "text/plain": [
       "[1] FALSE"
      ]
     },
     "execution_count": 50,
     "metadata": {},
     "output_type": "execute_result"
    },
    {
     "data": {
      "text/html": [
       "TRUE"
      ],
      "text/latex": [
       "TRUE"
      ],
      "text/markdown": [
       "TRUE"
      ],
      "text/plain": [
       "[1] TRUE"
      ]
     },
     "execution_count": 50,
     "metadata": {},
     "output_type": "execute_result"
    }
   ],
   "source": [
    "all_sq_sum\n",
    "subject_sq_sum + student_sq_sum + residuals_sq_sum\n",
    "all_sq_sum == (subject_sq_sum + student_sq_sum + residuals_sq_sum)\n",
    "identical(all_sq_sum, (subject_sq_sum + student_sq_sum + residuals_sq_sum))\n",
    "all.equal(all_sq_sum, (subject_sq_sum + student_sq_sum + residuals_sq_sum))"
   ]
  },
  {
   "cell_type": "markdown",
   "metadata": {},
   "source": [
    "残差の自由度 $=$ 条件自由度 $\\times$ 個人差の自由度\n",
    "\n",
    "$F$値は，"
   ]
  },
  {
   "cell_type": "code",
   "execution_count": 51,
   "metadata": {
    "collapsed": false
   },
   "outputs": [
    {
     "data": {
      "text/html": [
       "14.695652173913"
      ],
      "text/latex": [
       "14.695652173913"
      ],
      "text/markdown": [
       "14.695652173913"
      ],
      "text/plain": [
       "[1] 14.69565"
      ]
     },
     "execution_count": 51,
     "metadata": {},
     "output_type": "execute_result"
    }
   ],
   "source": [
    "(subject_sq_sum / (3 - 1)) / (residuals_sq_sum / ((3 - 1) * (5 - 1)))"
   ]
  },
  {
   "cell_type": "markdown",
   "metadata": {},
   "source": [
    "## 7.3 二元配置分散分析（対応なし）"
   ]
  },
  {
   "cell_type": "code",
   "execution_count": 52,
   "metadata": {
    "collapsed": false
   },
   "outputs": [
    {
     "data": {
      "text/html": [
       "<table>\n",
       "<thead><tr><th></th><th scope=col>イカアン.A</th><th scope=col>ボスビッグ.A</th><th scope=col>ビビッテル.A</th><th scope=col>イカアン.B</th><th scope=col>ボスビッグ.B</th><th scope=col>ビビッテル.B</th></tr></thead>\n",
       "<tbody>\n",
       "\t<tr><th scope=row>1</th><td> 6</td><td>10</td><td>11</td><td> 5</td><td> 7</td><td>12</td></tr>\n",
       "\t<tr><th scope=row>2</th><td> 4</td><td> 8</td><td>12</td><td> 4</td><td> 6</td><td> 8</td></tr>\n",
       "\t<tr><th scope=row>3</th><td> 5</td><td>10</td><td>12</td><td> 2</td><td> 5</td><td> 5</td></tr>\n",
       "\t<tr><th scope=row>4</th><td> 3</td><td> 8</td><td>10</td><td> 2</td><td> 4</td><td> 6</td></tr>\n",
       "\t<tr><th scope=row>5</th><td> 2</td><td> 9</td><td>10</td><td> 2</td><td> 3</td><td> 4</td></tr>\n",
       "</tbody>\n",
       "</table>\n"
      ],
      "text/latex": [
       "\\begin{tabular}{r|llllll}\n",
       "  & イカアン.A & ボスビッグ.A & ビビッテル.A & イカアン.B & ボスビッグ.B & ビビッテル.B\\\\\n",
       "\\hline\n",
       "\t1 &  6 & 10 & 11 &  5 &  7 & 12\\\\\n",
       "\t2 &  4 &  8 & 12 &  4 &  6 &  8\\\\\n",
       "\t3 &  5 & 10 & 12 &  2 &  5 &  5\\\\\n",
       "\t4 &  3 &  8 & 10 &  2 &  4 &  6\\\\\n",
       "\t5 &  2 &  9 & 10 &  2 &  3 &  4\\\\\n",
       "\\end{tabular}\n"
      ],
      "text/plain": [
       "  イカアン.A ボスビッグ.A ビビッテル.A イカアン.B ボスビッグ.B ビビッテル.B\n",
       "1          6           10           11          5            7           12\n",
       "2          4            8           12          4            6            8\n",
       "3          5           10           12          2            5            5\n",
       "4          3            8           10          2            4            6\n",
       "5          2            9           10          2            3            4"
      ]
     },
     "execution_count": 52,
     "metadata": {},
     "output_type": "execute_result"
    }
   ],
   "source": [
    "d3 <- read_csv(\"chap07_3.csv\", locale = locale(encoding=\"CP932\"))\n",
    "d3"
   ]
  },
  {
   "cell_type": "code",
   "execution_count": 53,
   "metadata": {
    "collapsed": false
   },
   "outputs": [
    {
     "data": {
      "text/html": [
       "<table>\n",
       "<thead><tr><th></th><th scope=col>water</th><th scope=col>condition</th><th scope=col>taste</th></tr></thead>\n",
       "<tbody>\n",
       "\t<tr><th scope=row>1</th><td>イカアン</td><td>A       </td><td>6       </td></tr>\n",
       "\t<tr><th scope=row>2</th><td>イカアン</td><td>A       </td><td>4       </td></tr>\n",
       "\t<tr><th scope=row>3</th><td>イカアン</td><td>A       </td><td>5       </td></tr>\n",
       "\t<tr><th scope=row>4</th><td>イカアン</td><td>A       </td><td>3       </td></tr>\n",
       "\t<tr><th scope=row>5</th><td>イカアン</td><td>A       </td><td>2       </td></tr>\n",
       "\t<tr><th scope=row>6</th><td>ボスビッグ</td><td>A         </td><td>10        </td></tr>\n",
       "</tbody>\n",
       "</table>\n"
      ],
      "text/latex": [
       "\\begin{tabular}{r|lll}\n",
       "  & water & condition & taste\\\\\n",
       "\\hline\n",
       "\t1 & イカアン & A        & 6       \\\\\n",
       "\t2 & イカアン & A        & 4       \\\\\n",
       "\t3 & イカアン & A        & 5       \\\\\n",
       "\t4 & イカアン & A        & 3       \\\\\n",
       "\t5 & イカアン & A        & 2       \\\\\n",
       "\t6 & ボスビッグ & A          & 10        \\\\\n",
       "\\end{tabular}\n"
      ],
      "text/plain": [
       "Source: local data frame [6 x 3]\n",
       "\n",
       "       water condition taste\n",
       "       (chr)     (chr) (int)\n",
       "1   イカアン         A     6\n",
       "2   イカアン         A     4\n",
       "3   イカアン         A     5\n",
       "4   イカアン         A     3\n",
       "5   イカアン         A     2\n",
       "6 ボスビッグ         A    10"
      ]
     },
     "execution_count": 53,
     "metadata": {},
     "output_type": "execute_result"
    }
   ],
   "source": [
    "d3.long <- d3 %>>% \n",
    "    gather(key, taste) %>>% \n",
    "    separate(key, into = c(\"water\", \"condition\"), sep = \"\\\\.\")\n",
    "head(d3.long)"
   ]
  },
  {
   "cell_type": "markdown",
   "metadata": {},
   "source": [
    "### 7.3.2"
   ]
  },
  {
   "cell_type": "markdown",
   "metadata": {},
   "source": [
    "* 帰無仮説と対立仮設\n",
    "\n",
    "要因A，要因B，AとBの交互作用効果のそれぞれに関して設定する"
   ]
  },
  {
   "cell_type": "code",
   "execution_count": 54,
   "metadata": {
    "collapsed": false,
    "scrolled": true
   },
   "outputs": [
    {
     "data": {
      "text/plain": [
       "                Df Sum Sq Mean Sq F value   Pr(>F)    \n",
       "condition        1   67.5   67.50  21.316  0.00011 ***\n",
       "water            2  155.0   77.50  24.474 1.61e-06 ***\n",
       "condition:water  2   15.0    7.50   2.368  0.11515    \n",
       "Residuals       24   76.0    3.17                     \n",
       "---\n",
       "Signif. codes:  0 ‘***’ 0.001 ‘**’ 0.01 ‘*’ 0.05 ‘.’ 0.1 ‘ ’ 1"
      ]
     },
     "execution_count": 54,
     "metadata": {},
     "output_type": "execute_result"
    }
   ],
   "source": [
    "aov(taste ~ condition * water, data = d3.long) %>>% summary"
   ]
  },
  {
   "cell_type": "code",
   "execution_count": 55,
   "metadata": {
    "collapsed": false
   },
   "outputs": [
    {
     "data": {
      "text/plain": [
       "                Df Sum Sq Mean Sq F value   Pr(>F)    \n",
       "condition        1   67.5   67.50  21.316  0.00011 ***\n",
       "water            2  155.0   77.50  24.474 1.61e-06 ***\n",
       "condition:water  2   15.0    7.50   2.368  0.11515    \n",
       "Residuals       24   76.0    3.17                     \n",
       "---\n",
       "Signif. codes:  0 ‘***’ 0.001 ‘**’ 0.01 ‘*’ 0.05 ‘.’ 0.1 ‘ ’ 1"
      ]
     },
     "execution_count": 55,
     "metadata": {},
     "output_type": "execute_result"
    }
   ],
   "source": [
    "aov(taste ~ condition + water + water:condition, data = d3.long) %>>% summary"
   ]
  },
  {
   "cell_type": "markdown",
   "metadata": {},
   "source": [
    "平方和の分解の確認"
   ]
  },
  {
   "cell_type": "code",
   "execution_count": 56,
   "metadata": {
    "collapsed": false
   },
   "outputs": [
    {
     "name": "stdout",
     "output_type": "stream",
     "text": [
      "List of 1\n",
      " $ :Classes ‘anova’ and 'data.frame':\t4 obs. of  5 variables:\n",
      "  ..$ Df     : num [1:4] 1 2 2 24\n",
      "  ..$ Sum Sq : num [1:4] 67.5 155 15 76\n",
      "  ..$ Mean Sq: num [1:4] 67.5 77.5 7.5 3.17\n",
      "  ..$ F value: num [1:4] 21.32 24.47 2.37 NA\n",
      "  ..$ Pr(>F) : num [1:4] 1.10e-04 1.61e-06 1.15e-01 NA\n",
      " - attr(*, \"class\")= chr [1:2] \"summary.aov\" \"listof\"\n"
     ]
    }
   ],
   "source": [
    "d3.res <- aov(taste ~ condition * water, data = d3.long) %>>% summary\n",
    "str(d3.res)"
   ]
  },
  {
   "cell_type": "code",
   "execution_count": 57,
   "metadata": {
    "collapsed": false
   },
   "outputs": [
    {
     "data": {
      "text/html": [
       "313.5"
      ],
      "text/latex": [
       "313.5"
      ],
      "text/markdown": [
       "313.5"
      ],
      "text/plain": [
       "[1] 313.5"
      ]
     },
     "execution_count": 57,
     "metadata": {},
     "output_type": "execute_result"
    }
   ],
   "source": [
    "all_sq_sum <- d3.long %>>% \n",
    "    mutate(dev_sq_sum = (taste - mean(taste))^2) %>>%\n",
    "    summarise(res = sum(dev_sq_sum)) %>>%\n",
    "    (.[[\"res\"]])\n",
    "all_sq_sum"
   ]
  },
  {
   "cell_type": "code",
   "execution_count": 58,
   "metadata": {
    "collapsed": false,
    "scrolled": true
   },
   "outputs": [
    {
     "data": {
      "text/html": [
       "313.5"
      ],
      "text/latex": [
       "313.5"
      ],
      "text/markdown": [
       "313.5"
      ],
      "text/plain": [
       "[1] 313.5"
      ]
     },
     "execution_count": 58,
     "metadata": {},
     "output_type": "execute_result"
    }
   ],
   "source": [
    "sum(d3.res[[1]]$`Sum Sq`)"
   ]
  },
  {
   "cell_type": "code",
   "execution_count": 59,
   "metadata": {
    "collapsed": false
   },
   "outputs": [
    {
     "data": {
      "text/html": [
       "TRUE"
      ],
      "text/latex": [
       "TRUE"
      ],
      "text/markdown": [
       "TRUE"
      ],
      "text/plain": [
       "[1] TRUE"
      ]
     },
     "execution_count": 59,
     "metadata": {},
     "output_type": "execute_result"
    }
   ],
   "source": [
    "all.equal(all_sq_sum, sum(d3.res[[1]]$`Sum Sq`))"
   ]
  },
  {
   "cell_type": "code",
   "execution_count": 60,
   "metadata": {
    "collapsed": true
   },
   "outputs": [],
   "source": [
    "library(Cairo)"
   ]
  },
  {
   "cell_type": "code",
   "execution_count": 61,
   "metadata": {
    "collapsed": true
   },
   "outputs": [],
   "source": [
    "CairoFonts(regular = \"IPAexGothic\")"
   ]
  },
  {
   "cell_type": "code",
   "execution_count": 62,
   "metadata": {
    "collapsed": true
   },
   "outputs": [],
   "source": [
    "options(repr.plot.width = 8, repr.plot.height = 4)"
   ]
  },
  {
   "cell_type": "code",
   "execution_count": 63,
   "metadata": {
    "collapsed": false
   },
   "outputs": [
    {
     "data": {
      "text/html": [
       "<strong>pdf:</strong> 2"
      ],
      "text/latex": [
       "\\textbf{pdf:} 2"
      ],
      "text/markdown": [
       "**pdf:** 2"
      ],
      "text/plain": [
       "pdf \n",
       "  2 "
      ]
     },
     "execution_count": 63,
     "metadata": {},
     "output_type": "execute_result"
    },
    {
     "data": {
      "image/png": "[encoded data removed]",
      "image/svg+xml": [
       "<?xml version=\"1.0\" encoding=\"UTF-8\"?>\n",
       "<svg xmlns=\"http://www.w3.org/2000/svg\" xmlns:xlink=\"http://www.w3.org/1999/xlink\" width=\"576pt\" height=\"288pt\" viewBox=\"0 0 576 288\" version=\"1.1\">\n",
       "<defs>\n",
       "<g>\n",
       "<symbol overflow=\"visible\" id=\"glyph0-0\">\n",
       "<path style=\"stroke:none;\" d=\"M 1 -9 L 1 -1 L -8.59375 -1 L -8.59375 -9 Z M -8.078125 -8.15625 L -8.078125 -1.859375 L -4.203125 -5.015625 Z M 0.078125 -8.484375 L -7.65625 -8.484375 L -3.796875 -5.34375 Z M -3.796875 -4.671875 L -7.6875 -1.515625 L 0.09375 -1.515625 Z M 0.484375 -8.140625 L -3.375 -5.015625 L 0.484375 -1.875 Z \"/>\n",
       "</symbol>\n",
       "<symbol overflow=\"visible\" id=\"glyph0-1\">\n",
       "<path style=\"stroke:none;\" d=\"M -1.8125 -5.953125 L -1.8125 -4.78125 L -0.09375 -4.78125 L -0.09375 -3.984375 L -1.8125 -3.984375 L -1.8125 -0.3125 L -2.609375 -0.3125 L -7.3125 -3.84375 L -7.3125 -4.78125 L -2.546875 -4.78125 L -2.546875 -5.953125 Z M -6.421875 -4.03125 L -6.421875 -4 C -5.953125 -3.707031 -5.519531 -3.414062 -5.125 -3.125 L -2.546875 -1.1875 L -2.546875 -3.984375 L -4.90625 -3.984375 C -5.257812 -3.984375 -5.765625 -4 -6.421875 -4.03125 Z \"/>\n",
       "</symbol>\n",
       "<symbol overflow=\"visible\" id=\"glyph0-2\">\n",
       "<path style=\"stroke:none;\" d=\"M -3.640625 -1.65625 C -4.316406 -2.125 -4.65625 -2.734375 -4.65625 -3.484375 C -4.65625 -4.191406 -4.410156 -4.757812 -3.921875 -5.1875 C -3.503906 -5.5625 -2.988281 -5.75 -2.375 -5.75 C -1.707031 -5.75 -1.140625 -5.535156 -0.671875 -5.109375 C -0.191406 -4.671875 0.046875 -4.101562 0.046875 -3.40625 C 0.046875 -2.570312 -0.269531 -1.914062 -0.90625 -1.4375 C -1.53125 -0.976562 -2.390625 -0.75 -3.484375 -0.75 C -4.734375 -0.75 -5.710938 -1.023438 -6.421875 -1.578125 C -7.066406 -2.078125 -7.390625 -2.734375 -7.390625 -3.546875 C -7.390625 -4.503906 -7.023438 -5.203125 -6.296875 -5.640625 L -5.90625 -4.921875 C -6.414062 -4.648438 -6.671875 -4.207031 -6.671875 -3.59375 C -6.671875 -2.363281 -5.660156 -1.703125 -3.640625 -1.609375 Z M -3.984375 -3.34375 C -3.984375 -2.863281 -3.804688 -2.46875 -3.453125 -2.15625 C -3.128906 -1.882812 -2.78125 -1.75 -2.40625 -1.75 C -2.007812 -1.75 -1.644531 -1.867188 -1.3125 -2.109375 C -0.882812 -2.441406 -0.671875 -2.863281 -0.671875 -3.375 C -0.671875 -3.90625 -0.882812 -4.3125 -1.3125 -4.59375 C -1.613281 -4.789062 -1.957031 -4.890625 -2.34375 -4.890625 C -2.800781 -4.890625 -3.179688 -4.757812 -3.484375 -4.5 C -3.816406 -4.207031 -3.984375 -3.820312 -3.984375 -3.34375 Z \"/>\n",
       "</symbol>\n",
       "<symbol overflow=\"visible\" id=\"glyph0-3\">\n",
       "<path style=\"stroke:none;\" d=\"M -3.796875 -3.96875 C -3.378906 -5.175781 -2.738281 -5.78125 -1.875 -5.78125 C -1.1875 -5.78125 -0.664062 -5.46875 -0.3125 -4.84375 C -0.0390625 -4.382812 0.09375 -3.820312 0.09375 -3.15625 C 0.09375 -2.476562 -0.0390625 -1.910156 -0.3125 -1.453125 C -0.65625 -0.847656 -1.164062 -0.546875 -1.84375 -0.546875 C -2.6875 -0.546875 -3.3125 -1.097656 -3.71875 -2.203125 L -3.75 -2.203125 C -4.09375 -1.234375 -4.671875 -0.75 -5.484375 -0.75 C -6.097656 -0.75 -6.59375 -1.007812 -6.96875 -1.53125 C -7.28125 -1.976562 -7.4375 -2.519531 -7.4375 -3.15625 C -7.4375 -3.863281 -7.25 -4.441406 -6.875 -4.890625 C -6.53125 -5.328125 -6.097656 -5.546875 -5.578125 -5.546875 C -4.679688 -5.546875 -4.09375 -5.019531 -3.8125 -3.96875 Z M -4.109375 -3.15625 C -4.347656 -4.175781 -4.816406 -4.6875 -5.515625 -4.6875 C -5.921875 -4.6875 -6.242188 -4.519531 -6.484375 -4.1875 C -6.691406 -3.90625 -6.796875 -3.5625 -6.796875 -3.15625 C -6.796875 -2.726562 -6.679688 -2.367188 -6.453125 -2.078125 C -6.210938 -1.785156 -5.894531 -1.640625 -5.5 -1.640625 C -5.113281 -1.640625 -4.804688 -1.796875 -4.578125 -2.109375 C -4.453125 -2.253906 -4.34375 -2.445312 -4.25 -2.6875 C -4.144531 -2.957031 -4.097656 -3.113281 -4.109375 -3.15625 Z M -3.453125 -3.09375 C -3.160156 -1.988281 -2.644531 -1.4375 -1.90625 -1.4375 C -1.445312 -1.4375 -1.101562 -1.640625 -0.875 -2.046875 C -0.695312 -2.359375 -0.609375 -2.722656 -0.609375 -3.140625 C -0.609375 -3.734375 -0.769531 -4.1875 -1.09375 -4.5 C -1.320312 -4.738281 -1.609375 -4.859375 -1.953125 -4.859375 C -2.304688 -4.859375 -2.617188 -4.691406 -2.890625 -4.359375 C -3.035156 -4.171875 -3.164062 -3.941406 -3.28125 -3.671875 C -3.40625 -3.359375 -3.460938 -3.164062 -3.453125 -3.09375 Z \"/>\n",
       "</symbol>\n",
       "<symbol overflow=\"visible\" id=\"glyph0-4\">\n",
       "<path style=\"stroke:none;\" d=\"M -0.09375 -3.84375 L -0.09375 -2.96875 L -6.40625 -2.96875 C -6.21875 -2.414062 -6.0625 -1.835938 -5.9375 -1.234375 L -6.609375 -1.0625 C -6.828125 -1.9375 -7.085938 -2.679688 -7.390625 -3.296875 L -7.390625 -3.84375 Z \"/>\n",
       "</symbol>\n",
       "<symbol overflow=\"visible\" id=\"glyph0-5\">\n",
       "<path style=\"stroke:none;\" d=\"M -7.390625 -3.1875 C -7.390625 -4.0625 -6.976562 -4.734375 -6.15625 -5.203125 C -5.519531 -5.578125 -4.6875 -5.765625 -3.65625 -5.765625 C -2.644531 -5.765625 -1.8125 -5.578125 -1.15625 -5.203125 C -0.351562 -4.742188 0.046875 -4.0625 0.046875 -3.15625 C 0.046875 -2.25 -0.351562 -1.5625 -1.15625 -1.09375 C -1.8125 -0.71875 -2.648438 -0.53125 -3.671875 -0.53125 C -5.085938 -0.53125 -6.117188 -0.875 -6.765625 -1.5625 C -7.179688 -2 -7.390625 -2.539062 -7.390625 -3.1875 Z M -6.671875 -3.15625 C -6.671875 -2.632812 -6.40625 -2.222656 -5.875 -1.921875 C -5.34375 -1.609375 -4.601562 -1.453125 -3.65625 -1.453125 C -2.738281 -1.453125 -2.015625 -1.601562 -1.484375 -1.90625 C -0.960938 -2.207031 -0.703125 -2.625 -0.703125 -3.15625 C -0.703125 -3.78125 -1.066406 -4.242188 -1.796875 -4.546875 C -2.285156 -4.742188 -2.925781 -4.84375 -3.71875 -4.84375 C -4.632812 -4.84375 -5.351562 -4.691406 -5.875 -4.390625 C -6.40625 -4.078125 -6.671875 -3.664062 -6.671875 -3.15625 Z \"/>\n",
       "</symbol>\n",
       "<symbol overflow=\"visible\" id=\"glyph1-0\">\n",
       "<path style=\"stroke:none;\" d=\"M 11.703125 1.296875 L 1.296875 1.296875 L 1.296875 -11.171875 L 11.703125 -11.171875 Z M 10.59375 -10.5 L 2.421875 -10.5 L 6.515625 -5.46875 Z M 11.03125 0.109375 L 11.03125 -9.953125 L 6.9375 -4.921875 Z M 6.0625 -4.921875 L 1.96875 -9.984375 L 1.96875 0.125 Z M 10.578125 0.625 L 6.515625 -4.390625 L 2.4375 0.625 Z \"/>\n",
       "</symbol>\n",
       "<symbol overflow=\"visible\" id=\"glyph1-1\">\n",
       "<path style=\"stroke:none;\" d=\"M 6.640625 -1.59375 C 6.046875 -0.488281 5.117188 0.0625 3.859375 0.0625 C 2.953125 0.0625 2.195312 -0.234375 1.59375 -0.828125 C 0.957031 -1.484375 0.640625 -2.332031 0.640625 -3.375 C 0.640625 -4.414062 0.957031 -5.265625 1.59375 -5.921875 C 2.1875 -6.503906 2.929688 -6.796875 3.828125 -6.796875 C 5.085938 -6.796875 5.984375 -6.25 6.515625 -5.15625 L 5.609375 -4.6875 C 5.234375 -5.488281 4.648438 -5.890625 3.859375 -5.890625 C 3.335938 -5.890625 2.882812 -5.695312 2.5 -5.3125 C 2.03125 -4.84375 1.796875 -4.191406 1.796875 -3.359375 C 1.796875 -2.566406 2.023438 -1.941406 2.484375 -1.484375 C 2.890625 -1.078125 3.382812 -0.875 3.96875 -0.875 C 4.769531 -0.875 5.375 -1.269531 5.78125 -2.0625 Z \"/>\n",
       "</symbol>\n",
       "<symbol overflow=\"visible\" id=\"glyph1-2\">\n",
       "<path style=\"stroke:none;\" d=\"M 3.890625 -6.78125 C 4.804688 -6.78125 5.578125 -6.472656 6.203125 -5.859375 C 6.847656 -5.222656 7.171875 -4.378906 7.171875 -3.328125 C 7.171875 -2.304688 6.859375 -1.484375 6.234375 -0.859375 C 5.609375 -0.242188 4.828125 0.0625 3.890625 0.0625 C 2.960938 0.0625 2.195312 -0.238281 1.59375 -0.84375 C 0.957031 -1.476562 0.640625 -2.316406 0.640625 -3.359375 C 0.640625 -4.390625 0.957031 -5.222656 1.59375 -5.859375 C 2.207031 -6.472656 2.972656 -6.78125 3.890625 -6.78125 Z M 3.890625 -5.921875 C 3.347656 -5.921875 2.890625 -5.726562 2.515625 -5.34375 C 2.035156 -4.863281 1.796875 -4.203125 1.796875 -3.359375 C 1.796875 -2.515625 2.03125 -1.859375 2.5 -1.390625 C 2.882812 -1.003906 3.347656 -0.8125 3.890625 -0.8125 C 4.453125 -0.8125 4.921875 -1.007812 5.296875 -1.40625 C 5.765625 -1.875 6 -2.535156 6 -3.390625 C 6 -4.203125 5.757812 -4.851562 5.28125 -5.34375 C 4.894531 -5.726562 4.429688 -5.921875 3.890625 -5.921875 Z \"/>\n",
       "</symbol>\n",
       "<symbol overflow=\"visible\" id=\"glyph1-3\">\n",
       "<path style=\"stroke:none;\" d=\"M 6.765625 -0.125 L 5.640625 -0.125 L 5.640625 -4.140625 C 5.640625 -5.242188 5.1875 -5.796875 4.28125 -5.796875 C 3.363281 -5.796875 2.691406 -5.242188 2.265625 -4.140625 L 2.265625 -0.125 L 1.140625 -0.125 L 1.140625 -6.609375 L 2.1875 -6.609375 L 2.1875 -5.4375 C 2.789062 -6.300781 3.566406 -6.734375 4.515625 -6.734375 C 6.015625 -6.734375 6.765625 -5.890625 6.765625 -4.203125 Z \"/>\n",
       "</symbol>\n",
       "<symbol overflow=\"visible\" id=\"glyph1-4\">\n",
       "<path style=\"stroke:none;\" d=\"M 6.890625 -0.125 L 5.875 -0.125 L 5.875 -1.25 C 5.257812 -0.375 4.488281 0.0625 3.5625 0.0625 C 2.789062 0.0625 2.132812 -0.207031 1.59375 -0.75 C 0.957031 -1.394531 0.640625 -2.269531 0.640625 -3.375 C 0.640625 -4.46875 0.945312 -5.332031 1.5625 -5.96875 C 2.101562 -6.507812 2.769531 -6.78125 3.5625 -6.78125 C 4.414062 -6.78125 5.15625 -6.421875 5.78125 -5.703125 L 5.78125 -9.734375 L 6.890625 -9.734375 Z M 5.78125 -2.640625 L 5.78125 -4.265625 C 5.78125 -4.691406 5.515625 -5.101562 4.984375 -5.5 C 4.617188 -5.769531 4.210938 -5.90625 3.765625 -5.90625 C 3.265625 -5.90625 2.84375 -5.734375 2.5 -5.390625 C 2.03125 -4.921875 1.796875 -4.257812 1.796875 -3.40625 C 1.796875 -2.632812 1.988281 -2.007812 2.375 -1.53125 C 2.738281 -1.0625 3.195312 -0.828125 3.75 -0.828125 C 4.394531 -0.828125 4.941406 -1.144531 5.390625 -1.78125 C 5.648438 -2.125 5.78125 -2.410156 5.78125 -2.640625 Z \"/>\n",
       "</symbol>\n",
       "<symbol overflow=\"visible\" id=\"glyph1-5\">\n",
       "<path style=\"stroke:none;\" d=\"M 2.390625 -7.984375 L 1.125 -7.984375 L 1.125 -9.28125 L 2.390625 -9.28125 Z M 2.3125 -0.125 L 1.1875 -0.125 L 1.1875 -6.609375 L 2.3125 -6.609375 Z \"/>\n",
       "</symbol>\n",
       "<symbol overflow=\"visible\" id=\"glyph1-6\">\n",
       "<path style=\"stroke:none;\" d=\"M 4.3125 -0.484375 C 3.832031 -0.148438 3.34375 0.015625 2.84375 0.015625 C 1.832031 0.015625 1.328125 -0.550781 1.328125 -1.6875 L 1.328125 -5.8125 L 0.4375 -5.8125 L 0.4375 -6.609375 L 1.328125 -6.609375 L 1.328125 -8.0625 L 2.390625 -8.59375 L 2.390625 -6.609375 L 4.1875 -6.609375 L 4.1875 -5.8125 L 2.390625 -5.8125 L 2.390625 -1.84375 C 2.390625 -1.175781 2.617188 -0.84375 3.078125 -0.84375 C 3.378906 -0.84375 3.664062 -0.957031 3.9375 -1.1875 Z \"/>\n",
       "</symbol>\n",
       "<symbol overflow=\"visible\" id=\"glyph1-7\">\n",
       "<path style=\"stroke:none;\" d=\"\"/>\n",
       "</symbol>\n",
       "<symbol overflow=\"visible\" id=\"glyph1-8\">\n",
       "<path style=\"stroke:none;\" d=\"M 9.6875 -6.609375 L 7.453125 -0.015625 L 6.671875 -0.015625 L 5.296875 -3.890625 C 5.160156 -4.273438 5.03125 -4.753906 4.90625 -5.328125 L 4.859375 -5.328125 C 4.765625 -4.910156 4.625 -4.429688 4.4375 -3.890625 L 3.109375 -0.015625 L 2.34375 -0.015625 L 0.09375 -6.609375 L 1.25 -6.609375 L 2.34375 -3.03125 C 2.414062 -2.8125 2.554688 -2.3125 2.765625 -1.53125 L 2.8125 -1.53125 C 2.9375 -2.03125 3.078125 -2.53125 3.234375 -3.03125 L 4.40625 -6.609375 L 5.390625 -6.609375 L 6.609375 -3.03125 C 6.734375 -2.695312 6.878906 -2.195312 7.046875 -1.53125 L 7.078125 -1.53125 C 7.222656 -2.113281 7.359375 -2.613281 7.484375 -3.03125 L 8.5625 -6.609375 Z \"/>\n",
       "</symbol>\n",
       "<symbol overflow=\"visible\" id=\"glyph1-9\">\n",
       "<path style=\"stroke:none;\" d=\"M 6.40625 -0.125 L 5.421875 -0.125 C 5.273438 -0.445312 5.179688 -0.78125 5.140625 -1.125 L 5.09375 -1.125 C 4.601562 -0.34375 3.875 0.046875 2.90625 0.046875 C 2.226562 0.046875 1.679688 -0.160156 1.265625 -0.578125 C 0.890625 -0.953125 0.703125 -1.410156 0.703125 -1.953125 C 0.703125 -3.285156 1.859375 -3.988281 4.171875 -4.0625 L 5.03125 -4.078125 L 5.03125 -4.421875 C 5.03125 -4.867188 4.898438 -5.222656 4.640625 -5.484375 C 4.367188 -5.753906 4.023438 -5.890625 3.609375 -5.890625 C 2.878906 -5.890625 2.332031 -5.535156 1.96875 -4.828125 L 1 -5.28125 C 1.601562 -6.269531 2.476562 -6.765625 3.625 -6.765625 C 4.425781 -6.765625 5.039062 -6.539062 5.46875 -6.09375 C 5.863281 -5.695312 6.0625 -5.132812 6.0625 -4.40625 L 6.0625 -2.03125 C 6.0625 -1.21875 6.175781 -0.582031 6.40625 -0.125 Z M 5.0625 -3.296875 L 4.34375 -3.28125 C 2.664062 -3.25 1.828125 -2.800781 1.828125 -1.9375 C 1.828125 -1.632812 1.929688 -1.382812 2.140625 -1.1875 C 2.378906 -0.9375 2.695312 -0.8125 3.09375 -0.8125 C 3.644531 -0.8125 4.125 -1.015625 4.53125 -1.421875 C 4.882812 -1.785156 5.0625 -2.222656 5.0625 -2.734375 Z \"/>\n",
       "</symbol>\n",
       "<symbol overflow=\"visible\" id=\"glyph1-10\">\n",
       "<path style=\"stroke:none;\" d=\"M 1.75 -3.234375 C 1.789062 -2.484375 2.023438 -1.894531 2.453125 -1.46875 C 2.890625 -1.03125 3.425781 -0.8125 4.0625 -0.8125 C 4.882812 -0.8125 5.535156 -1.195312 6.015625 -1.96875 L 6.75 -1.484375 C 6.132812 -0.453125 5.191406 0.0625 3.921875 0.0625 C 2.960938 0.0625 2.175781 -0.242188 1.5625 -0.859375 C 0.9375 -1.484375 0.625 -2.304688 0.625 -3.328125 C 0.625 -4.421875 0.945312 -5.289062 1.59375 -5.9375 C 2.175781 -6.519531 2.898438 -6.8125 3.765625 -6.8125 C 4.585938 -6.8125 5.273438 -6.539062 5.828125 -6 C 6.441406 -5.375 6.75 -4.539062 6.75 -3.5 L 6.75 -3.234375 Z M 5.59375 -4.0625 C 5.53125 -4.644531 5.328125 -5.109375 4.984375 -5.453125 C 4.628906 -5.796875 4.21875 -5.96875 3.75 -5.96875 C 3.195312 -5.96875 2.726562 -5.734375 2.34375 -5.265625 C 2.070312 -4.941406 1.894531 -4.539062 1.8125 -4.0625 Z \"/>\n",
       "</symbol>\n",
       "<symbol overflow=\"visible\" id=\"glyph1-11\">\n",
       "<path style=\"stroke:none;\" d=\"M 4.6875 -6.734375 L 4.5 -5.625 C 4.351562 -5.65625 4.222656 -5.671875 4.109375 -5.671875 C 3.609375 -5.671875 3.195312 -5.4375 2.875 -4.96875 C 2.46875 -4.375 2.265625 -3.851562 2.265625 -3.40625 L 2.265625 -0.125 L 1.140625 -0.125 L 1.140625 -6.609375 L 2.203125 -6.609375 L 2.140625 -4.671875 L 2.171875 -4.671875 C 2.648438 -6.078125 3.347656 -6.78125 4.265625 -6.78125 C 4.410156 -6.78125 4.550781 -6.765625 4.6875 -6.734375 Z \"/>\n",
       "</symbol>\n",
       "<symbol overflow=\"visible\" id=\"glyph1-12\">\n",
       "<path style=\"stroke:none;\" d=\"M 2.75 -9.703125 L 3.828125 -9.703125 L 3.828125 -5.640625 C 6.085938 -6.148438 8.023438 -6.90625 9.640625 -7.90625 L 10.421875 -7.0625 C 8.410156 -5.988281 6.210938 -5.191406 3.828125 -4.671875 L 3.828125 -2.15625 C 3.828125 -1.726562 3.953125 -1.460938 4.203125 -1.359375 C 4.472656 -1.242188 5.210938 -1.1875 6.421875 -1.1875 C 7.785156 -1.1875 9.296875 -1.273438 10.953125 -1.453125 L 10.953125 -0.421875 C 9.421875 -0.273438 7.976562 -0.203125 6.625 -0.203125 C 4.832031 -0.203125 3.738281 -0.332031 3.34375 -0.59375 C 2.945312 -0.84375 2.75 -1.300781 2.75 -1.96875 Z M 12.125 -8.640625 C 11.632812 -9.367188 11.125 -9.953125 10.59375 -10.390625 L 11.203125 -10.875 C 11.722656 -10.445312 12.25 -9.882812 12.78125 -9.1875 Z M 10.921875 -7.6875 C 10.523438 -8.34375 10.023438 -8.941406 9.421875 -9.484375 L 10.0625 -9.984375 C 10.5625 -9.566406 11.070312 -8.984375 11.59375 -8.234375 Z \"/>\n",
       "</symbol>\n",
       "<symbol overflow=\"visible\" id=\"glyph1-13\">\n",
       "<path style=\"stroke:none;\" d=\"M 3.609375 -4.03125 C 3.304688 -4.957031 2.96875 -5.765625 2.59375 -6.453125 L 3.484375 -6.890625 C 3.910156 -6.179688 4.269531 -5.378906 4.5625 -4.484375 Z M 6.09375 -4.671875 C 5.84375 -5.585938 5.519531 -6.378906 5.125 -7.046875 L 6.046875 -7.484375 C 6.472656 -6.785156 6.816406 -6 7.078125 -5.125 Z M 3.921875 -0.75 C 5.492188 -1.257812 6.710938 -2.070312 7.578125 -3.1875 C 8.316406 -4.125 8.816406 -5.445312 9.078125 -7.15625 L 10.109375 -6.921875 C 9.773438 -4.984375 9.125 -3.429688 8.15625 -2.265625 C 7.332031 -1.285156 6.148438 -0.5 4.609375 0.09375 Z \"/>\n",
       "</symbol>\n",
       "<symbol overflow=\"visible\" id=\"glyph1-14\">\n",
       "<path style=\"stroke:none;\" d=\"M 1.140625 -6.234375 L 11.65625 -6.234375 L 11.65625 -5.3125 L 7.265625 -5.3125 C 7.210938 -3.820312 6.910156 -2.640625 6.359375 -1.765625 C 5.753906 -0.796875 4.757812 -0.0351562 3.375 0.515625 L 2.671875 -0.3125 C 4.054688 -0.832031 5.003906 -1.519531 5.515625 -2.375 C 5.898438 -3.019531 6.113281 -4 6.15625 -5.3125 L 1.140625 -5.3125 Z M 2.859375 -9.3125 L 10.03125 -9.3125 L 10.03125 -8.390625 L 2.859375 -8.390625 Z \"/>\n",
       "</symbol>\n",
       "<symbol overflow=\"visible\" id=\"glyph1-15\">\n",
       "<path style=\"stroke:none;\" d=\"M 0.71875 -0.671875 C 2.019531 -1.566406 2.828125 -2.710938 3.140625 -4.109375 C 3.328125 -4.960938 3.421875 -6.570312 3.421875 -8.9375 L 4.46875 -8.9375 L 4.46875 -8.359375 C 4.46875 -5.847656 4.285156 -4.070312 3.921875 -3.03125 C 3.492188 -1.800781 2.691406 -0.765625 1.515625 0.078125 Z M 6.34375 -9.484375 L 7.421875 -9.484375 L 7.421875 -1.5625 C 9.078125 -2.53125 10.441406 -3.859375 11.515625 -5.546875 L 12.1875 -4.625 C 10.9375 -2.851562 9.253906 -1.351562 7.140625 -0.125 L 6.34375 -0.734375 Z \"/>\n",
       "</symbol>\n",
       "<symbol overflow=\"visible\" id=\"glyph1-16\">\n",
       "<path style=\"stroke:none;\" d=\"M 6.03125 -10.0625 L 7.0625 -10.0625 L 7.0625 -7.65625 L 11.34375 -7.65625 L 11.34375 -6.734375 L 7.0625 -6.734375 L 7.0625 -0.75 C 7.0625 -0.0195312 6.632812 0.34375 5.78125 0.34375 C 5.21875 0.34375 4.65625 0.296875 4.09375 0.203125 L 3.875 -0.875 C 4.40625 -0.738281 4.953125 -0.671875 5.515625 -0.671875 C 5.859375 -0.671875 6.03125 -0.847656 6.03125 -1.203125 L 6.03125 -6.734375 L 1.671875 -6.734375 L 1.671875 -7.65625 L 6.03125 -7.65625 Z M 1.21875 -1.828125 C 1.738281 -2.328125 2.160156 -2.847656 2.484375 -3.390625 C 2.773438 -3.890625 3.03125 -4.484375 3.25 -5.171875 L 4.171875 -4.765625 C 3.910156 -3.941406 3.59375 -3.234375 3.21875 -2.640625 C 2.925781 -2.171875 2.53125 -1.648438 2.03125 -1.078125 Z M 10.796875 -1.390625 C 10.160156 -2.722656 9.476562 -3.859375 8.75 -4.796875 L 9.578125 -5.34375 C 10.328125 -4.476562 11.046875 -3.378906 11.734375 -2.046875 Z M 11.640625 -8.921875 C 11.148438 -9.648438 10.640625 -10.238281 10.109375 -10.6875 L 10.71875 -11.15625 C 11.238281 -10.738281 11.765625 -10.179688 12.296875 -9.484375 Z M 10.34375 -8.0625 C 9.945312 -8.726562 9.445312 -9.328125 8.84375 -9.859375 L 9.484375 -10.359375 C 9.984375 -9.941406 10.492188 -9.363281 11.015625 -8.625 Z \"/>\n",
       "</symbol>\n",
       "<symbol overflow=\"visible\" id=\"glyph1-17\">\n",
       "<path style=\"stroke:none;\" d=\"M 8.859375 -9.109375 L 9.578125 -8.421875 C 9.054688 -6.960938 8.332031 -5.613281 7.40625 -4.375 C 8.78125 -3.394531 10.144531 -2.242188 11.5 -0.921875 L 10.625 -0.03125 C 9.300781 -1.476562 8.03125 -2.671875 6.8125 -3.609375 C 5.476562 -2.015625 3.914062 -0.789062 2.125 0.0625 L 1.328125 -0.8125 C 4.679688 -2.238281 7.015625 -4.675781 8.328125 -8.125 L 2.515625 -8.046875 L 2.5 -9.046875 Z \"/>\n",
       "</symbol>\n",
       "<symbol overflow=\"visible\" id=\"glyph1-18\">\n",
       "<path style=\"stroke:none;\" d=\"M 9.6875 -8.390625 L 10.375 -7.875 C 9.863281 -5.695312 9.023438 -3.910156 7.859375 -2.515625 C 6.828125 -1.285156 5.46875 -0.253906 3.78125 0.578125 L 3.03125 -0.25 C 4.675781 -0.9375 6.019531 -1.910156 7.0625 -3.171875 C 8.09375 -4.429688 8.800781 -5.859375 9.1875 -7.453125 L 5.5625 -7.453125 C 4.59375 -5.992188 3.546875 -4.796875 2.421875 -3.859375 L 1.65625 -4.5625 C 3.476562 -6.039062 4.800781 -7.878906 5.625 -10.078125 L 6.609375 -9.78125 C 6.535156 -9.5 6.347656 -9.035156 6.046875 -8.390625 Z M 12.203125 -8.984375 C 11.710938 -9.722656 11.203125 -10.3125 10.671875 -10.75 L 11.28125 -11.21875 C 11.800781 -10.800781 12.328125 -10.242188 12.859375 -9.546875 Z M 11 -8.03125 C 10.601562 -8.695312 10.101562 -9.300781 9.5 -9.84375 L 10.140625 -10.328125 C 10.640625 -9.921875 11.148438 -9.34375 11.671875 -8.59375 Z \"/>\n",
       "</symbol>\n",
       "<symbol overflow=\"visible\" id=\"glyph1-19\">\n",
       "<path style=\"stroke:none;\" d=\"M 6.359375 0.46875 L 6.359375 -5.84375 C 4.953125 -4.769531 3.582031 -3.941406 2.25 -3.359375 L 1.59375 -4.1875 C 4.613281 -5.457031 7.109375 -7.390625 9.078125 -9.984375 L 9.984375 -9.421875 C 9.265625 -8.472656 8.425781 -7.578125 7.46875 -6.734375 L 7.46875 0.46875 Z \"/>\n",
       "</symbol>\n",
       "<symbol overflow=\"visible\" id=\"glyph1-20\">\n",
       "<path style=\"stroke:none;\" d=\"M 5.546875 -10.125 L 6.59375 -10.125 L 6.59375 -7.5 L 10.671875 -7.5 L 10.671875 -6.953125 C 10.671875 -4.117188 10.507812 -2.140625 10.1875 -1.015625 C 9.96875 -0.222656 9.484375 0.171875 8.734375 0.171875 C 8.035156 0.171875 7.320312 0 6.59375 -0.34375 L 6.5625 -1.484375 C 7.414062 -1.085938 8.070312 -0.890625 8.53125 -0.890625 C 8.914062 -0.890625 9.15625 -1.109375 9.25 -1.546875 C 9.457031 -2.515625 9.582031 -4.1875 9.625 -6.5625 L 6.515625 -6.5625 C 6.265625 -3.414062 4.878906 -1.140625 2.359375 0.265625 L 1.5625 -0.53125 C 3.925781 -1.707031 5.234375 -3.703125 5.484375 -6.515625 L 1.859375 -6.515625 L 1.859375 -7.453125 L 5.546875 -7.453125 Z \"/>\n",
       "</symbol>\n",
       "<symbol overflow=\"visible\" id=\"glyph1-21\">\n",
       "<path style=\"stroke:none;\" d=\"M 10.9375 -9.25 L 11.671875 -8.53125 C 10.773438 -6.9375 9.601562 -5.578125 8.15625 -4.453125 L 7.40625 -5.171875 C 8.582031 -6.023438 9.554688 -7.070312 10.328125 -8.3125 L 1.734375 -8.15625 L 1.734375 -9.140625 Z M 2.46875 -0.515625 C 3.957031 -1.273438 4.90625 -2.25 5.3125 -3.4375 C 5.5625 -4.125 5.6875 -5.4375 5.6875 -7.375 L 6.734375 -7.375 C 6.710938 -5.144531 6.539062 -3.601562 6.21875 -2.75 C 5.726562 -1.5 4.734375 -0.476562 3.234375 0.3125 Z \"/>\n",
       "</symbol>\n",
       "<symbol overflow=\"visible\" id=\"glyph1-22\">\n",
       "<path style=\"stroke:none;\" d=\"M 4.96875 -6.265625 C 4.113281 -7.035156 3.171875 -7.710938 2.140625 -8.296875 L 2.8125 -9.171875 C 3.726562 -8.734375 4.695312 -8.085938 5.71875 -7.234375 Z M 2.234375 -1.234375 C 6.140625 -1.910156 8.925781 -4.09375 10.59375 -7.78125 L 11.40625 -7.046875 C 9.78125 -3.421875 6.945312 -1.140625 2.90625 -0.203125 Z \"/>\n",
       "</symbol>\n",
       "<symbol overflow=\"visible\" id=\"glyph1-23\">\n",
       "<path style=\"stroke:none;\" d=\"M 8.234375 -0.125 L 7 -0.125 L 5.96875 -2.859375 L 2.234375 -2.859375 L 1.21875 -0.125 L -0.015625 -0.125 L 3.671875 -9.484375 L 4.59375 -9.484375 Z M 5.640625 -3.78125 L 4.703125 -6.25 C 4.441406 -6.9375 4.25 -7.5625 4.125 -8.125 L 4.078125 -8.125 C 3.929688 -7.53125 3.734375 -6.90625 3.484375 -6.25 L 2.5625 -3.78125 Z \"/>\n",
       "</symbol>\n",
       "<symbol overflow=\"visible\" id=\"glyph1-24\">\n",
       "<path style=\"stroke:none;\" d=\"M 5.453125 -4.921875 C 6.984375 -4.648438 7.75 -3.914062 7.75 -2.71875 C 7.75 -1.65625 7.222656 -0.898438 6.171875 -0.453125 C 5.671875 -0.234375 5.03125 -0.125 4.25 -0.125 L 1.234375 -0.125 L 1.234375 -9.40625 L 3.890625 -9.40625 C 4.671875 -9.40625 5.316406 -9.316406 5.828125 -9.140625 C 6.878906 -8.765625 7.40625 -8.082031 7.40625 -7.09375 C 7.40625 -5.894531 6.753906 -5.1875 5.453125 -4.96875 Z M 2.359375 -5.390625 L 3.75 -5.390625 C 5.394531 -5.390625 6.21875 -5.914062 6.21875 -6.96875 C 6.21875 -7.988281 5.421875 -8.5 3.828125 -8.5 L 2.359375 -8.5 Z M 2.359375 -1.0625 L 4.09375 -1.0625 C 5.726562 -1.0625 6.546875 -1.632812 6.546875 -2.78125 C 6.546875 -3.5 6.140625 -3.992188 5.328125 -4.265625 C 4.859375 -4.429688 4.351562 -4.515625 3.8125 -4.515625 L 2.359375 -4.515625 Z \"/>\n",
       "</symbol>\n",
       "<symbol overflow=\"visible\" id=\"glyph2-0\">\n",
       "<path style=\"stroke:none;\" d=\"M 1.296875 -11.703125 L 1.296875 -1.296875 L -11.171875 -1.296875 L -11.171875 -11.703125 Z M -10.5 -10.59375 L -10.5 -2.421875 L -5.46875 -6.515625 Z M 0.109375 -11.03125 L -9.953125 -11.03125 L -4.921875 -6.9375 Z M -4.921875 -6.0625 L -9.984375 -1.96875 L 0.125 -1.96875 Z M 0.625 -10.578125 L -4.390625 -6.515625 L 0.625 -2.4375 Z \"/>\n",
       "</symbol>\n",
       "<symbol overflow=\"visible\" id=\"glyph2-1\">\n",
       "<path style=\"stroke:none;\" d=\"M -0.125 -10.203125 L -0.125 -9.078125 L -4.1875 -9.078125 C -5.28125 -9.078125 -5.828125 -8.65625 -5.828125 -7.8125 C -5.828125 -7.414062 -5.640625 -7.046875 -5.265625 -6.703125 C -5.003906 -6.472656 -4.671875 -6.3125 -4.265625 -6.21875 L -0.125 -6.21875 L -0.125 -5.09375 L -4.203125 -5.09375 C -5.285156 -5.09375 -5.828125 -4.691406 -5.828125 -3.890625 C -5.828125 -3.472656 -5.640625 -3.101562 -5.265625 -2.78125 C -4.878906 -2.4375 -4.503906 -2.265625 -4.140625 -2.265625 L -0.125 -2.265625 L -0.125 -1.140625 L -6.609375 -1.140625 L -6.609375 -2.1875 L -5.484375 -2.1875 C -6.316406 -2.613281 -6.734375 -3.257812 -6.734375 -4.125 C -6.734375 -5.0625 -6.28125 -5.6875 -5.375 -6 C -6.28125 -6.46875 -6.734375 -7.144531 -6.734375 -8.03125 C -6.734375 -8.738281 -6.484375 -9.289062 -5.984375 -9.6875 C -5.566406 -10.03125 -4.972656 -10.203125 -4.203125 -10.203125 Z \"/>\n",
       "</symbol>\n",
       "<symbol overflow=\"visible\" id=\"glyph2-2\">\n",
       "<path style=\"stroke:none;\" d=\"M -3.234375 -1.75 C -2.484375 -1.789062 -1.894531 -2.023438 -1.46875 -2.453125 C -1.03125 -2.890625 -0.8125 -3.425781 -0.8125 -4.0625 C -0.8125 -4.882812 -1.195312 -5.535156 -1.96875 -6.015625 L -1.484375 -6.75 C -0.453125 -6.132812 0.0625 -5.191406 0.0625 -3.921875 C 0.0625 -2.960938 -0.242188 -2.175781 -0.859375 -1.5625 C -1.484375 -0.9375 -2.304688 -0.625 -3.328125 -0.625 C -4.421875 -0.625 -5.289062 -0.945312 -5.9375 -1.59375 C -6.519531 -2.175781 -6.8125 -2.898438 -6.8125 -3.765625 C -6.8125 -4.585938 -6.539062 -5.273438 -6 -5.828125 C -5.375 -6.441406 -4.539062 -6.75 -3.5 -6.75 L -3.234375 -6.75 Z M -4.0625 -5.59375 C -4.644531 -5.53125 -5.109375 -5.328125 -5.453125 -4.984375 C -5.796875 -4.628906 -5.96875 -4.21875 -5.96875 -3.75 C -5.96875 -3.195312 -5.734375 -2.726562 -5.265625 -2.34375 C -4.941406 -2.070312 -4.539062 -1.894531 -4.0625 -1.8125 Z \"/>\n",
       "</symbol>\n",
       "<symbol overflow=\"visible\" id=\"glyph2-3\">\n",
       "<path style=\"stroke:none;\" d=\"M -0.125 -6.40625 L -0.125 -5.421875 C -0.445312 -5.273438 -0.78125 -5.179688 -1.125 -5.140625 L -1.125 -5.09375 C -0.34375 -4.601562 0.046875 -3.875 0.046875 -2.90625 C 0.046875 -2.226562 -0.160156 -1.679688 -0.578125 -1.265625 C -0.953125 -0.890625 -1.410156 -0.703125 -1.953125 -0.703125 C -3.285156 -0.703125 -3.988281 -1.859375 -4.0625 -4.171875 L -4.078125 -5.03125 L -4.421875 -5.03125 C -4.867188 -5.03125 -5.222656 -4.898438 -5.484375 -4.640625 C -5.753906 -4.367188 -5.890625 -4.023438 -5.890625 -3.609375 C -5.890625 -2.878906 -5.535156 -2.332031 -4.828125 -1.96875 L -5.28125 -1 C -6.269531 -1.601562 -6.765625 -2.476562 -6.765625 -3.625 C -6.765625 -4.425781 -6.539062 -5.039062 -6.09375 -5.46875 C -5.695312 -5.863281 -5.132812 -6.0625 -4.40625 -6.0625 L -2.03125 -6.0625 C -1.21875 -6.0625 -0.582031 -6.175781 -0.125 -6.40625 Z M -3.296875 -5.0625 L -3.28125 -4.34375 C -3.25 -2.664062 -2.800781 -1.828125 -1.9375 -1.828125 C -1.632812 -1.828125 -1.382812 -1.929688 -1.1875 -2.140625 C -0.9375 -2.378906 -0.8125 -2.695312 -0.8125 -3.09375 C -0.8125 -3.644531 -1.015625 -4.125 -1.421875 -4.53125 C -1.785156 -4.882812 -2.222656 -5.0625 -2.734375 -5.0625 Z \"/>\n",
       "</symbol>\n",
       "<symbol overflow=\"visible\" id=\"glyph2-4\">\n",
       "<path style=\"stroke:none;\" d=\"M -0.125 -6.765625 L -0.125 -5.640625 L -4.140625 -5.640625 C -5.242188 -5.640625 -5.796875 -5.1875 -5.796875 -4.28125 C -5.796875 -3.363281 -5.242188 -2.691406 -4.140625 -2.265625 L -0.125 -2.265625 L -0.125 -1.140625 L -6.609375 -1.140625 L -6.609375 -2.1875 L -5.4375 -2.1875 C -6.300781 -2.789062 -6.734375 -3.566406 -6.734375 -4.515625 C -6.734375 -6.015625 -5.890625 -6.765625 -4.203125 -6.765625 Z \"/>\n",
       "</symbol>\n",
       "<symbol overflow=\"visible\" id=\"glyph2-5\">\n",
       "<path style=\"stroke:none;\" d=\"\"/>\n",
       "</symbol>\n",
       "<symbol overflow=\"visible\" id=\"glyph2-6\">\n",
       "<path style=\"stroke:none;\" d=\"M -6.78125 -3.890625 C -6.78125 -4.804688 -6.472656 -5.578125 -5.859375 -6.203125 C -5.222656 -6.847656 -4.378906 -7.171875 -3.328125 -7.171875 C -2.304688 -7.171875 -1.484375 -6.859375 -0.859375 -6.234375 C -0.242188 -5.609375 0.0625 -4.828125 0.0625 -3.890625 C 0.0625 -2.960938 -0.238281 -2.195312 -0.84375 -1.59375 C -1.476562 -0.957031 -2.316406 -0.640625 -3.359375 -0.640625 C -4.390625 -0.640625 -5.222656 -0.957031 -5.859375 -1.59375 C -6.472656 -2.207031 -6.78125 -2.972656 -6.78125 -3.890625 Z M -5.921875 -3.890625 C -5.921875 -3.347656 -5.726562 -2.890625 -5.34375 -2.515625 C -4.863281 -2.035156 -4.203125 -1.796875 -3.359375 -1.796875 C -2.515625 -1.796875 -1.859375 -2.03125 -1.390625 -2.5 C -1.003906 -2.882812 -0.8125 -3.347656 -0.8125 -3.890625 C -0.8125 -4.453125 -1.007812 -4.921875 -1.40625 -5.296875 C -1.875 -5.765625 -2.535156 -6 -3.390625 -6 C -4.203125 -6 -4.851562 -5.757812 -5.34375 -5.28125 C -5.726562 -4.894531 -5.921875 -4.429688 -5.921875 -3.890625 Z \"/>\n",
       "</symbol>\n",
       "<symbol overflow=\"visible\" id=\"glyph2-7\">\n",
       "<path style=\"stroke:none;\" d=\"M -9.390625 -4.984375 L -8.625 -4.53125 C -8.863281 -4.207031 -8.984375 -3.875 -8.984375 -3.53125 C -8.984375 -2.78125 -8.472656 -2.40625 -7.453125 -2.40625 L -6.609375 -2.40625 L -6.609375 -4.171875 L -5.8125 -4.171875 L -5.8125 -2.40625 L -0.125 -2.40625 L -0.125 -1.296875 L -5.8125 -1.296875 L -5.8125 -0.25 L -6.609375 -0.25 L -6.609375 -1.296875 L -7.4375 -1.296875 C -8.144531 -1.296875 -8.703125 -1.46875 -9.109375 -1.8125 C -9.597656 -2.226562 -9.84375 -2.78125 -9.84375 -3.46875 C -9.84375 -4.019531 -9.691406 -4.523438 -9.390625 -4.984375 Z \"/>\n",
       "</symbol>\n",
       "<symbol overflow=\"visible\" id=\"glyph2-8\">\n",
       "<path style=\"stroke:none;\" d=\"M -0.484375 -4.3125 C -0.148438 -3.832031 0.015625 -3.34375 0.015625 -2.84375 C 0.015625 -1.832031 -0.550781 -1.328125 -1.6875 -1.328125 L -5.8125 -1.328125 L -5.8125 -0.4375 L -6.609375 -0.4375 L -6.609375 -1.328125 L -8.0625 -1.328125 L -8.59375 -2.390625 L -6.609375 -2.390625 L -6.609375 -4.1875 L -5.8125 -4.1875 L -5.8125 -2.390625 L -1.84375 -2.390625 C -1.175781 -2.390625 -0.84375 -2.617188 -0.84375 -3.078125 C -0.84375 -3.378906 -0.957031 -3.664062 -1.1875 -3.9375 Z \"/>\n",
       "</symbol>\n",
       "<symbol overflow=\"visible\" id=\"glyph2-9\">\n",
       "<path style=\"stroke:none;\" d=\"M -5.171875 -4.53125 C -5.691406 -4.132812 -5.953125 -3.628906 -5.953125 -3.015625 C -5.953125 -2.210938 -5.644531 -1.8125 -5.03125 -1.8125 C -4.59375 -1.8125 -4.234375 -2.242188 -3.953125 -3.109375 L -3.8125 -3.53125 C -3.40625 -4.769531 -2.738281 -5.390625 -1.8125 -5.390625 C -1.1875 -5.390625 -0.695312 -5.128906 -0.34375 -4.609375 C -0.0703125 -4.203125 0.0625 -3.679688 0.0625 -3.046875 C 0.0625 -2.054688 -0.296875 -1.210938 -1.015625 -0.515625 L -1.65625 -1.21875 C -1.09375 -1.757812 -0.8125 -2.378906 -0.8125 -3.078125 C -0.8125 -3.910156 -1.132812 -4.328125 -1.78125 -4.328125 C -2.269531 -4.328125 -2.675781 -3.867188 -3 -2.953125 L -3.15625 -2.5 C -3.5625 -1.34375 -4.15625 -0.765625 -4.9375 -0.765625 C -5.4375 -0.765625 -5.851562 -0.9375 -6.1875 -1.28125 C -6.59375 -1.6875 -6.796875 -2.242188 -6.796875 -2.953125 C -6.796875 -3.898438 -6.46875 -4.679688 -5.8125 -5.296875 Z \"/>\n",
       "</symbol>\n",
       "<symbol overflow=\"visible\" id=\"glyph3-0\">\n",
       "<path style=\"stroke:none;\" d=\"M 9 1 L 1 1 L 1 -8.59375 L 9 -8.59375 Z M 8.15625 -8.078125 L 1.859375 -8.078125 L 5.015625 -4.203125 Z M 8.484375 0.078125 L 8.484375 -7.65625 L 5.34375 -3.796875 Z M 4.671875 -3.796875 L 1.515625 -7.6875 L 1.515625 0.09375 Z M 8.140625 0.484375 L 5.015625 -3.375 L 1.875 0.484375 Z \"/>\n",
       "</symbol>\n",
       "<symbol overflow=\"visible\" id=\"glyph3-1\">\n",
       "<path style=\"stroke:none;\" d=\"M 6.34375 -0.09375 L 5.375 -0.09375 L 4.59375 -2.203125 L 1.71875 -2.203125 L 0.9375 -0.09375 L -0.015625 -0.09375 L 2.828125 -7.296875 L 3.53125 -7.296875 Z M 4.34375 -2.90625 L 3.625 -4.8125 C 3.425781 -5.34375 3.273438 -5.820312 3.171875 -6.25 L 3.140625 -6.25 C 3.023438 -5.789062 2.875 -5.3125 2.6875 -4.8125 L 1.96875 -2.90625 Z \"/>\n",
       "</symbol>\n",
       "<symbol overflow=\"visible\" id=\"glyph3-2\">\n",
       "<path style=\"stroke:none;\" d=\"M 4.203125 -3.796875 C 5.378906 -3.585938 5.96875 -3.019531 5.96875 -2.09375 C 5.96875 -1.28125 5.5625 -0.695312 4.75 -0.34375 C 4.363281 -0.175781 3.867188 -0.09375 3.265625 -0.09375 L 0.953125 -0.09375 L 0.953125 -7.234375 L 3 -7.234375 C 3.59375 -7.234375 4.085938 -7.164062 4.484375 -7.03125 C 5.285156 -6.738281 5.6875 -6.210938 5.6875 -5.453125 C 5.6875 -4.535156 5.191406 -3.992188 4.203125 -3.828125 Z M 1.8125 -4.15625 L 2.875 -4.15625 C 4.144531 -4.15625 4.78125 -4.554688 4.78125 -5.359375 C 4.78125 -6.140625 4.164062 -6.53125 2.9375 -6.53125 L 1.8125 -6.53125 Z M 1.8125 -0.8125 L 3.15625 -0.8125 C 4.40625 -0.8125 5.03125 -1.253906 5.03125 -2.140625 C 5.03125 -2.691406 4.722656 -3.070312 4.109375 -3.28125 C 3.742188 -3.40625 3.351562 -3.46875 2.9375 -3.46875 L 1.8125 -3.46875 Z \"/>\n",
       "</symbol>\n",
       "<symbol overflow=\"visible\" id=\"glyph3-3\">\n",
       "<path style=\"stroke:none;\" d=\"M 4.890625 0.359375 L 4.890625 -4.5 C 3.804688 -3.675781 2.753906 -3.039062 1.734375 -2.59375 L 1.21875 -3.21875 C 3.550781 -4.195312 5.472656 -5.6875 6.984375 -7.6875 L 7.6875 -7.25 C 7.125 -6.519531 6.476562 -5.832031 5.75 -5.1875 L 5.75 0.359375 Z \"/>\n",
       "</symbol>\n",
       "<symbol overflow=\"visible\" id=\"glyph3-4\">\n",
       "<path style=\"stroke:none;\" d=\"M 4.265625 -7.78125 L 5.078125 -7.78125 L 5.078125 -5.765625 L 8.203125 -5.765625 L 8.203125 -5.359375 C 8.203125 -3.171875 8.082031 -1.644531 7.84375 -0.78125 C 7.675781 -0.175781 7.300781 0.125 6.71875 0.125 C 6.1875 0.125 5.640625 -0.00390625 5.078125 -0.265625 L 5.046875 -1.140625 C 5.703125 -0.835938 6.207031 -0.6875 6.5625 -0.6875 C 6.851562 -0.6875 7.035156 -0.851562 7.109375 -1.1875 C 7.273438 -1.9375 7.375 -3.222656 7.40625 -5.046875 L 5.015625 -5.046875 C 4.828125 -2.628906 3.757812 -0.878906 1.8125 0.203125 L 1.203125 -0.40625 C 3.023438 -1.3125 4.03125 -2.847656 4.21875 -5.015625 L 1.4375 -5.015625 L 1.4375 -5.734375 L 4.265625 -5.734375 Z \"/>\n",
       "</symbol>\n",
       "<symbol overflow=\"visible\" id=\"glyph3-5\">\n",
       "<path style=\"stroke:none;\" d=\"M 8.421875 -7.125 L 8.984375 -6.5625 C 8.285156 -5.332031 7.382812 -4.285156 6.28125 -3.421875 L 5.703125 -3.984375 C 6.609375 -4.640625 7.351562 -5.441406 7.9375 -6.390625 L 1.328125 -6.265625 L 1.328125 -7.03125 Z M 1.90625 -0.40625 C 3.050781 -0.976562 3.78125 -1.722656 4.09375 -2.640625 C 4.28125 -3.171875 4.375 -4.179688 4.375 -5.671875 L 5.171875 -5.671875 C 5.160156 -3.953125 5.03125 -2.769531 4.78125 -2.125 C 4.40625 -1.15625 3.640625 -0.367188 2.484375 0.234375 Z \"/>\n",
       "</symbol>\n",
       "<symbol overflow=\"visible\" id=\"glyph3-6\">\n",
       "<path style=\"stroke:none;\" d=\"M 3.8125 -4.8125 C 3.164062 -5.414062 2.445312 -5.9375 1.65625 -6.375 L 2.15625 -7.0625 C 2.863281 -6.71875 3.613281 -6.21875 4.40625 -5.5625 Z M 1.71875 -0.953125 C 4.71875 -1.472656 6.863281 -3.148438 8.15625 -5.984375 L 8.78125 -5.421875 C 7.519531 -2.628906 5.335938 -0.875 2.234375 -0.15625 Z \"/>\n",
       "</symbol>\n",
       "<symbol overflow=\"visible\" id=\"glyph3-7\">\n",
       "<path style=\"stroke:none;\" d=\"M 2.125 -7.46875 L 2.9375 -7.46875 L 2.9375 -4.34375 C 4.675781 -4.726562 6.171875 -5.304688 7.421875 -6.078125 L 8.015625 -5.4375 C 6.460938 -4.601562 4.769531 -3.988281 2.9375 -3.59375 L 2.9375 -1.65625 C 2.9375 -1.320312 3.035156 -1.117188 3.234375 -1.046875 C 3.441406 -0.953125 4.007812 -0.90625 4.9375 -0.90625 C 5.988281 -0.90625 7.148438 -0.976562 8.421875 -1.125 L 8.421875 -0.328125 C 7.242188 -0.210938 6.132812 -0.15625 5.09375 -0.15625 C 3.71875 -0.15625 2.875 -0.253906 2.5625 -0.453125 C 2.269531 -0.648438 2.125 -1.003906 2.125 -1.515625 Z M 9.328125 -6.640625 C 8.953125 -7.203125 8.5625 -7.65625 8.15625 -8 L 8.625 -8.359375 C 9.019531 -8.035156 9.421875 -7.609375 9.828125 -7.078125 Z M 8.40625 -5.90625 C 8.09375 -6.414062 7.707031 -6.878906 7.25 -7.296875 L 7.734375 -7.6875 C 8.128906 -7.363281 8.523438 -6.914062 8.921875 -6.34375 Z \"/>\n",
       "</symbol>\n",
       "<symbol overflow=\"visible\" id=\"glyph3-8\">\n",
       "<path style=\"stroke:none;\" d=\"M 2.78125 -3.09375 C 2.539062 -3.8125 2.28125 -4.4375 2 -4.96875 L 2.6875 -5.296875 C 3.007812 -4.753906 3.285156 -4.140625 3.515625 -3.453125 Z M 4.6875 -3.59375 C 4.488281 -4.300781 4.238281 -4.910156 3.9375 -5.421875 L 4.65625 -5.75 C 4.976562 -5.21875 5.238281 -4.613281 5.4375 -3.9375 Z M 3.015625 -0.578125 C 4.222656 -0.960938 5.160156 -1.585938 5.828125 -2.453125 C 6.398438 -3.171875 6.785156 -4.191406 6.984375 -5.515625 L 7.78125 -5.328125 C 7.519531 -3.835938 7.019531 -2.644531 6.28125 -1.75 C 5.644531 -0.988281 4.734375 -0.382812 3.546875 0.0625 Z \"/>\n",
       "</symbol>\n",
       "<symbol overflow=\"visible\" id=\"glyph3-9\">\n",
       "<path style=\"stroke:none;\" d=\"M 0.875 -4.796875 L 8.96875 -4.796875 L 8.96875 -4.078125 L 5.59375 -4.078125 C 5.550781 -2.941406 5.316406 -2.035156 4.890625 -1.359375 C 4.429688 -0.617188 3.664062 -0.03125 2.59375 0.40625 L 2.046875 -0.25 C 3.117188 -0.644531 3.847656 -1.171875 4.234375 -1.828125 C 4.535156 -2.316406 4.703125 -3.066406 4.734375 -4.078125 L 0.875 -4.078125 Z M 2.203125 -7.171875 L 7.71875 -7.171875 L 7.71875 -6.453125 L 2.203125 -6.453125 Z \"/>\n",
       "</symbol>\n",
       "<symbol overflow=\"visible\" id=\"glyph3-10\">\n",
       "<path style=\"stroke:none;\" d=\"M 0.546875 -0.515625 C 1.546875 -1.203125 2.164062 -2.082031 2.40625 -3.15625 C 2.550781 -3.8125 2.625 -5.050781 2.625 -6.875 L 3.4375 -6.875 L 3.4375 -6.4375 C 3.4375 -4.5 3.296875 -3.128906 3.015625 -2.328125 C 2.691406 -1.390625 2.070312 -0.59375 1.15625 0.0625 Z M 4.890625 -7.296875 L 5.703125 -7.296875 L 5.703125 -1.203125 C 6.984375 -1.953125 8.035156 -2.972656 8.859375 -4.265625 L 9.375 -3.5625 C 8.414062 -2.195312 7.125 -1.039062 5.5 -0.09375 L 4.890625 -0.5625 Z \"/>\n",
       "</symbol>\n",
       "<symbol overflow=\"visible\" id=\"glyph3-11\">\n",
       "<path style=\"stroke:none;\" d=\"M 4.640625 -7.734375 L 5.4375 -7.734375 L 5.4375 -5.890625 L 8.71875 -5.890625 L 8.71875 -5.1875 L 5.4375 -5.1875 L 5.4375 -0.578125 C 5.4375 -0.015625 5.101562 0.265625 4.4375 0.265625 C 4.007812 0.265625 3.582031 0.226562 3.15625 0.15625 L 2.984375 -0.671875 C 3.390625 -0.566406 3.8125 -0.515625 4.25 -0.515625 C 4.507812 -0.515625 4.640625 -0.648438 4.640625 -0.921875 L 4.640625 -5.1875 L 1.28125 -5.1875 L 1.28125 -5.890625 L 4.640625 -5.890625 Z M 0.9375 -1.40625 C 1.34375 -1.789062 1.664062 -2.191406 1.90625 -2.609375 C 2.132812 -2.992188 2.332031 -3.453125 2.5 -3.984375 L 3.203125 -3.65625 C 3.003906 -3.03125 2.765625 -2.488281 2.484375 -2.03125 C 2.253906 -1.664062 1.945312 -1.265625 1.5625 -0.828125 Z M 8.296875 -1.0625 C 7.816406 -2.09375 7.296875 -2.96875 6.734375 -3.6875 L 7.375 -4.109375 C 7.945312 -3.441406 8.5 -2.597656 9.03125 -1.578125 Z M 8.953125 -6.859375 C 8.578125 -7.421875 8.1875 -7.875 7.78125 -8.21875 L 8.25 -8.578125 C 8.644531 -8.253906 9.046875 -7.828125 9.453125 -7.296875 Z M 7.953125 -6.203125 C 7.648438 -6.710938 7.265625 -7.175781 6.796875 -7.59375 L 7.296875 -7.96875 C 7.679688 -7.644531 8.070312 -7.195312 8.46875 -6.625 Z \"/>\n",
       "</symbol>\n",
       "<symbol overflow=\"visible\" id=\"glyph3-12\">\n",
       "<path style=\"stroke:none;\" d=\"M 6.8125 -7 L 7.375 -6.484375 C 6.96875 -5.359375 6.410156 -4.316406 5.703125 -3.359375 C 6.753906 -2.609375 7.800781 -1.722656 8.84375 -0.703125 L 8.171875 -0.03125 C 7.160156 -1.144531 6.179688 -2.0625 5.234375 -2.78125 C 4.210938 -1.550781 3.007812 -0.609375 1.625 0.046875 L 1.015625 -0.625 C 3.597656 -1.71875 5.394531 -3.59375 6.40625 -6.25 L 1.9375 -6.1875 L 1.921875 -6.953125 Z \"/>\n",
       "</symbol>\n",
       "<symbol overflow=\"visible\" id=\"glyph3-13\">\n",
       "<path style=\"stroke:none;\" d=\"M 7.453125 -6.453125 L 7.984375 -6.0625 C 7.585938 -4.382812 6.941406 -3.007812 6.046875 -1.9375 C 5.253906 -0.988281 4.207031 -0.191406 2.90625 0.453125 L 2.328125 -0.1875 C 3.597656 -0.71875 4.632812 -1.46875 5.4375 -2.4375 C 6.226562 -3.40625 6.773438 -4.503906 7.078125 -5.734375 L 4.28125 -5.734375 C 3.53125 -4.609375 2.722656 -3.6875 1.859375 -2.96875 L 1.265625 -3.515625 C 2.671875 -4.648438 3.691406 -6.0625 4.328125 -7.75 L 5.09375 -7.53125 C 5.03125 -7.3125 4.882812 -6.953125 4.65625 -6.453125 Z M 9.390625 -6.90625 C 9.015625 -7.476562 8.617188 -7.929688 8.203125 -8.265625 L 8.6875 -8.625 C 9.082031 -8.300781 9.484375 -7.875 9.890625 -7.34375 Z M 8.46875 -6.1875 C 8.164062 -6.695312 7.78125 -7.15625 7.3125 -7.5625 L 7.796875 -7.953125 C 8.179688 -7.628906 8.578125 -7.179688 8.984375 -6.609375 Z \"/>\n",
       "</symbol>\n",
       "</g>\n",
       "<clipPath id=\"clip1\">\n",
       "  <path d=\"M 247 79 L 289 79 L 289 91 L 247 91 Z \"/>\n",
       "</clipPath>\n",
       "<clipPath id=\"clip2\">\n",
       "  <path d=\"M 245 85 L 289 85 L 289 98 L 245 98 Z \"/>\n",
       "</clipPath>\n",
       "<clipPath id=\"clip3\">\n",
       "  <path d=\"M 246 93 L 289 93 L 289 104 L 246 104 Z \"/>\n",
       "</clipPath>\n",
       "</defs>\n",
       "<g id=\"surface181\">\n",
       "<rect x=\"0\" y=\"0\" width=\"576\" height=\"288\" style=\"fill:rgb(100%,100%,100%);fill-opacity:1;stroke:none;\"/>\n",
       "<path style=\"fill:none;stroke-width:1;stroke-linecap:round;stroke-linejoin:round;stroke:rgb(0%,0%,0%);stroke-opacity:1;stroke-dasharray:1,3;stroke-miterlimit:10;\" d=\"M 78.667969 190.800781 L 201.332031 208.800781 \"/>\n",
       "<path style=\"fill:none;stroke-width:1;stroke-linecap:round;stroke-linejoin:round;stroke:rgb(0%,0%,0%);stroke-opacity:1;stroke-miterlimit:10;\" d=\"M 59.039062 190.800781 L 59.039062 82.800781 \"/>\n",
       "<path style=\"fill:none;stroke-width:1;stroke-linecap:round;stroke-linejoin:round;stroke:rgb(0%,0%,0%);stroke-opacity:1;stroke-miterlimit:10;\" d=\"M 59.039062 190.800781 L 51.839844 190.800781 \"/>\n",
       "<path style=\"fill:none;stroke-width:1;stroke-linecap:round;stroke-linejoin:round;stroke:rgb(0%,0%,0%);stroke-opacity:1;stroke-miterlimit:10;\" d=\"M 59.039062 154.800781 L 51.839844 154.800781 \"/>\n",
       "<path style=\"fill:none;stroke-width:1;stroke-linecap:round;stroke-linejoin:round;stroke:rgb(0%,0%,0%);stroke-opacity:1;stroke-miterlimit:10;\" d=\"M 59.039062 118.800781 L 51.839844 118.800781 \"/>\n",
       "<path style=\"fill:none;stroke-width:1;stroke-linecap:round;stroke-linejoin:round;stroke:rgb(0%,0%,0%);stroke-opacity:1;stroke-miterlimit:10;\" d=\"M 59.039062 82.800781 L 51.839844 82.800781 \"/>\n",
       "<g style=\"fill:rgb(0%,0%,0%);fill-opacity:1;\">\n",
       "  <use xlink:href=\"#glyph0-1\" x=\"43.199219\" y=\"193.949219\"/>\n",
       "</g>\n",
       "<g style=\"fill:rgb(0%,0%,0%);fill-opacity:1;\">\n",
       "  <use xlink:href=\"#glyph0-2\" x=\"43.199219\" y=\"157.949219\"/>\n",
       "</g>\n",
       "<g style=\"fill:rgb(0%,0%,0%);fill-opacity:1;\">\n",
       "  <use xlink:href=\"#glyph0-3\" x=\"43.199219\" y=\"121.949219\"/>\n",
       "</g>\n",
       "<g style=\"fill:rgb(0%,0%,0%);fill-opacity:1;\">\n",
       "  <use xlink:href=\"#glyph0-4\" x=\"43.199219\" y=\"89.097656\"/>\n",
       "  <use xlink:href=\"#glyph0-5\" x=\"43.199219\" y=\"82.798828\"/>\n",
       "</g>\n",
       "<path style=\"fill:none;stroke-width:1;stroke-linecap:round;stroke-linejoin:round;stroke:rgb(0%,0%,0%);stroke-opacity:1;stroke-miterlimit:10;\" d=\"M 59.039062 214.558594 L 257.761719 214.558594 L 257.761719 59.039062 L 59.039062 59.039062 L 59.039062 214.558594 \"/>\n",
       "<g style=\"fill:rgb(0%,0%,0%);fill-opacity:1;\">\n",
       "  <use xlink:href=\"#glyph1-1\" x=\"129.34375\" y=\"270.71875\"/>\n",
       "  <use xlink:href=\"#glyph1-2\" x=\"136.415039\" y=\"270.71875\"/>\n",
       "  <use xlink:href=\"#glyph1-3\" x=\"144.26709\" y=\"270.71875\"/>\n",
       "  <use xlink:href=\"#glyph1-4\" x=\"152.119141\" y=\"270.71875\"/>\n",
       "  <use xlink:href=\"#glyph1-5\" x=\"160.231445\" y=\"270.71875\"/>\n",
       "  <use xlink:href=\"#glyph1-6\" x=\"163.741699\" y=\"270.71875\"/>\n",
       "  <use xlink:href=\"#glyph1-5\" x=\"168.242188\" y=\"270.71875\"/>\n",
       "  <use xlink:href=\"#glyph1-2\" x=\"171.752441\" y=\"270.71875\"/>\n",
       "  <use xlink:href=\"#glyph1-3\" x=\"179.604492\" y=\"270.71875\"/>\n",
       "</g>\n",
       "<g style=\"fill:rgb(0%,0%,0%);fill-opacity:1;\">\n",
       "  <use xlink:href=\"#glyph2-1\" x=\"14.398438\" y=\"179.617188\"/>\n",
       "  <use xlink:href=\"#glyph2-2\" x=\"14.398438\" y=\"168.292969\"/>\n",
       "  <use xlink:href=\"#glyph2-3\" x=\"14.398438\" y=\"160.897949\"/>\n",
       "  <use xlink:href=\"#glyph2-4\" x=\"14.398438\" y=\"153.750488\"/>\n",
       "  <use xlink:href=\"#glyph2-5\" x=\"14.398438\" y=\"145.898438\"/>\n",
       "  <use xlink:href=\"#glyph2-6\" x=\"14.398438\" y=\"142.388184\"/>\n",
       "  <use xlink:href=\"#glyph2-7\" x=\"14.398438\" y=\"134.536133\"/>\n",
       "  <use xlink:href=\"#glyph2-5\" x=\"14.398438\" y=\"130.556152\"/>\n",
       "  <use xlink:href=\"#glyph2-5\" x=\"14.398438\" y=\"127.045898\"/>\n",
       "  <use xlink:href=\"#glyph2-8\" x=\"14.398438\" y=\"123.535645\"/>\n",
       "  <use xlink:href=\"#glyph2-3\" x=\"14.398438\" y=\"119.035156\"/>\n",
       "  <use xlink:href=\"#glyph2-9\" x=\"14.398438\" y=\"111.887695\"/>\n",
       "  <use xlink:href=\"#glyph2-8\" x=\"14.398438\" y=\"105.882812\"/>\n",
       "  <use xlink:href=\"#glyph2-2\" x=\"14.398438\" y=\"101.382324\"/>\n",
       "</g>\n",
       "<path style=\"fill:none;stroke-width:1;stroke-linecap:round;stroke-linejoin:round;stroke:rgb(0%,0%,0%);stroke-opacity:1;stroke-dasharray:4,4;stroke-miterlimit:10;\" d=\"M 78.667969 64.800781 L 201.332031 136.800781 \"/>\n",
       "<path style=\"fill:none;stroke-width:1;stroke-linecap:round;stroke-linejoin:round;stroke:rgb(0%,0%,0%);stroke-opacity:1;stroke-miterlimit:10;\" d=\"M 78.667969 100.800781 L 201.332031 172.800781 \"/>\n",
       "<g style=\"fill:rgb(0%,0%,0%);fill-opacity:1;\">\n",
       "  <use xlink:href=\"#glyph3-1\" x=\"75.480469\" y=\"241.921875\"/>\n",
       "</g>\n",
       "<g style=\"fill:rgb(0%,0%,0%);fill-opacity:1;\">\n",
       "  <use xlink:href=\"#glyph3-2\" x=\"198.035156\" y=\"241.921875\"/>\n",
       "</g>\n",
       "<g style=\"fill:rgb(0%,0%,0%);fill-opacity:1;\">\n",
       "  <use xlink:href=\"#glyph1-7\" x=\"207.464844\" y=\"76.265625\"/>\n",
       "  <use xlink:href=\"#glyph1-7\" x=\"210.975098\" y=\"76.265625\"/>\n",
       "  <use xlink:href=\"#glyph1-7\" x=\"214.485352\" y=\"76.265625\"/>\n",
       "  <use xlink:href=\"#glyph1-8\" x=\"217.995605\" y=\"76.265625\"/>\n",
       "  <use xlink:href=\"#glyph1-9\" x=\"227.770996\" y=\"76.265625\"/>\n",
       "  <use xlink:href=\"#glyph1-6\" x=\"234.918457\" y=\"76.265625\"/>\n",
       "  <use xlink:href=\"#glyph1-10\" x=\"239.418945\" y=\"76.265625\"/>\n",
       "  <use xlink:href=\"#glyph1-11\" x=\"246.813965\" y=\"76.265625\"/>\n",
       "</g>\n",
       "<path style=\"fill:none;stroke-width:1;stroke-linecap:round;stroke-linejoin:round;stroke:rgb(0%,0%,0%);stroke-opacity:1;stroke-dasharray:4,4;stroke-miterlimit:10;\" d=\"M 216.769531 85.644531 L 235.371094 85.644531 \"/>\n",
       "<path style=\"fill:none;stroke-width:1;stroke-linecap:round;stroke-linejoin:round;stroke:rgb(0%,0%,0%);stroke-opacity:1;stroke-miterlimit:10;\" d=\"M 216.769531 92.089844 L 235.371094 92.089844 \"/>\n",
       "<path style=\"fill:none;stroke-width:1;stroke-linecap:round;stroke-linejoin:round;stroke:rgb(0%,0%,0%);stroke-opacity:1;stroke-dasharray:1,3;stroke-miterlimit:10;\" d=\"M 216.769531 98.53125 L 235.371094 98.53125 \"/>\n",
       "<g clip-path=\"url(#clip1)\" clip-rule=\"nonzero\">\n",
       "<g style=\"fill:rgb(0%,0%,0%);fill-opacity:1;\">\n",
       "  <use xlink:href=\"#glyph1-12\" x=\"244.675781\" y=\"90.347656\"/>\n",
       "  <use xlink:href=\"#glyph1-12\" x=\"257.675781\" y=\"90.347656\"/>\n",
       "  <use xlink:href=\"#glyph1-13\" x=\"270.675781\" y=\"90.347656\"/>\n",
       "  <use xlink:href=\"#glyph1-14\" x=\"283.675781\" y=\"90.347656\"/>\n",
       "  <use xlink:href=\"#glyph1-15\" x=\"296.675781\" y=\"90.347656\"/>\n",
       "</g>\n",
       "</g>\n",
       "<g clip-path=\"url(#clip2)\" clip-rule=\"nonzero\">\n",
       "<g style=\"fill:rgb(0%,0%,0%);fill-opacity:1;\">\n",
       "  <use xlink:href=\"#glyph1-16\" x=\"244.675781\" y=\"96.792969\"/>\n",
       "  <use xlink:href=\"#glyph1-17\" x=\"257.675781\" y=\"96.792969\"/>\n",
       "  <use xlink:href=\"#glyph1-12\" x=\"270.675781\" y=\"96.792969\"/>\n",
       "  <use xlink:href=\"#glyph1-13\" x=\"283.675781\" y=\"96.792969\"/>\n",
       "  <use xlink:href=\"#glyph1-18\" x=\"296.675781\" y=\"96.792969\"/>\n",
       "</g>\n",
       "</g>\n",
       "<g clip-path=\"url(#clip3)\" clip-rule=\"nonzero\">\n",
       "<g style=\"fill:rgb(0%,0%,0%);fill-opacity:1;\">\n",
       "  <use xlink:href=\"#glyph1-19\" x=\"244.675781\" y=\"103.234375\"/>\n",
       "  <use xlink:href=\"#glyph1-20\" x=\"257.675781\" y=\"103.234375\"/>\n",
       "  <use xlink:href=\"#glyph1-21\" x=\"270.675781\" y=\"103.234375\"/>\n",
       "  <use xlink:href=\"#glyph1-22\" x=\"283.675781\" y=\"103.234375\"/>\n",
       "</g>\n",
       "</g>\n",
       "<path style=\"fill:none;stroke-width:1;stroke-linecap:round;stroke-linejoin:round;stroke:rgb(0%,0%,0%);stroke-opacity:1;stroke-dasharray:4,4;stroke-miterlimit:10;\" d=\"M 363.933594 190.800781 L 435.4375 64.800781 L 506.9375 100.800781 \"/>\n",
       "<path style=\"fill:none;stroke-width:1;stroke-linecap:round;stroke-linejoin:round;stroke:rgb(0%,0%,0%);stroke-opacity:1;stroke-miterlimit:10;\" d=\"M 347.039062 190.800781 L 347.039062 82.800781 \"/>\n",
       "<path style=\"fill:none;stroke-width:1;stroke-linecap:round;stroke-linejoin:round;stroke:rgb(0%,0%,0%);stroke-opacity:1;stroke-miterlimit:10;\" d=\"M 347.039062 190.800781 L 339.839844 190.800781 \"/>\n",
       "<path style=\"fill:none;stroke-width:1;stroke-linecap:round;stroke-linejoin:round;stroke:rgb(0%,0%,0%);stroke-opacity:1;stroke-miterlimit:10;\" d=\"M 347.039062 154.800781 L 339.839844 154.800781 \"/>\n",
       "<path style=\"fill:none;stroke-width:1;stroke-linecap:round;stroke-linejoin:round;stroke:rgb(0%,0%,0%);stroke-opacity:1;stroke-miterlimit:10;\" d=\"M 347.039062 118.800781 L 339.839844 118.800781 \"/>\n",
       "<path style=\"fill:none;stroke-width:1;stroke-linecap:round;stroke-linejoin:round;stroke:rgb(0%,0%,0%);stroke-opacity:1;stroke-miterlimit:10;\" d=\"M 347.039062 82.800781 L 339.839844 82.800781 \"/>\n",
       "<g style=\"fill:rgb(0%,0%,0%);fill-opacity:1;\">\n",
       "  <use xlink:href=\"#glyph0-1\" x=\"331.199219\" y=\"193.949219\"/>\n",
       "</g>\n",
       "<g style=\"fill:rgb(0%,0%,0%);fill-opacity:1;\">\n",
       "  <use xlink:href=\"#glyph0-2\" x=\"331.199219\" y=\"157.949219\"/>\n",
       "</g>\n",
       "<g style=\"fill:rgb(0%,0%,0%);fill-opacity:1;\">\n",
       "  <use xlink:href=\"#glyph0-3\" x=\"331.199219\" y=\"121.949219\"/>\n",
       "</g>\n",
       "<g style=\"fill:rgb(0%,0%,0%);fill-opacity:1;\">\n",
       "  <use xlink:href=\"#glyph0-4\" x=\"331.199219\" y=\"89.097656\"/>\n",
       "  <use xlink:href=\"#glyph0-5\" x=\"331.199219\" y=\"82.798828\"/>\n",
       "</g>\n",
       "<path style=\"fill:none;stroke-width:1;stroke-linecap:round;stroke-linejoin:round;stroke:rgb(0%,0%,0%);stroke-opacity:1;stroke-miterlimit:10;\" d=\"M 347.039062 214.558594 L 545.761719 214.558594 L 545.761719 59.039062 L 347.039062 59.039062 L 347.039062 214.558594 \"/>\n",
       "<g style=\"fill:rgb(0%,0%,0%);fill-opacity:1;\">\n",
       "  <use xlink:href=\"#glyph1-8\" x=\"429.582031\" y=\"270.71875\"/>\n",
       "  <use xlink:href=\"#glyph1-9\" x=\"439.357422\" y=\"270.71875\"/>\n",
       "  <use xlink:href=\"#glyph1-6\" x=\"446.504883\" y=\"270.71875\"/>\n",
       "  <use xlink:href=\"#glyph1-10\" x=\"451.005371\" y=\"270.71875\"/>\n",
       "  <use xlink:href=\"#glyph1-11\" x=\"458.400391\" y=\"270.71875\"/>\n",
       "</g>\n",
       "<g style=\"fill:rgb(0%,0%,0%);fill-opacity:1;\">\n",
       "  <use xlink:href=\"#glyph2-1\" x=\"302.398438\" y=\"179.617188\"/>\n",
       "  <use xlink:href=\"#glyph2-2\" x=\"302.398438\" y=\"168.292969\"/>\n",
       "  <use xlink:href=\"#glyph2-3\" x=\"302.398438\" y=\"160.897949\"/>\n",
       "  <use xlink:href=\"#glyph2-4\" x=\"302.398438\" y=\"153.750488\"/>\n",
       "  <use xlink:href=\"#glyph2-5\" x=\"302.398438\" y=\"145.898438\"/>\n",
       "  <use xlink:href=\"#glyph2-6\" x=\"302.398438\" y=\"142.388184\"/>\n",
       "  <use xlink:href=\"#glyph2-7\" x=\"302.398438\" y=\"134.536133\"/>\n",
       "  <use xlink:href=\"#glyph2-5\" x=\"302.398438\" y=\"130.556152\"/>\n",
       "  <use xlink:href=\"#glyph2-5\" x=\"302.398438\" y=\"127.045898\"/>\n",
       "  <use xlink:href=\"#glyph2-8\" x=\"302.398438\" y=\"123.535645\"/>\n",
       "  <use xlink:href=\"#glyph2-3\" x=\"302.398438\" y=\"119.035156\"/>\n",
       "  <use xlink:href=\"#glyph2-9\" x=\"302.398438\" y=\"111.887695\"/>\n",
       "  <use xlink:href=\"#glyph2-8\" x=\"302.398438\" y=\"105.882812\"/>\n",
       "  <use xlink:href=\"#glyph2-2\" x=\"302.398438\" y=\"101.382324\"/>\n",
       "</g>\n",
       "<path style=\"fill:none;stroke-width:1;stroke-linecap:round;stroke-linejoin:round;stroke:rgb(0%,0%,0%);stroke-opacity:1;stroke-miterlimit:10;\" d=\"M 363.933594 208.800781 L 435.4375 136.800781 L 506.9375 172.800781 \"/>\n",
       "<g style=\"fill:rgb(0%,0%,0%);fill-opacity:1;\">\n",
       "  <use xlink:href=\"#glyph3-3\" x=\"343.933594\" y=\"241.921875\"/>\n",
       "  <use xlink:href=\"#glyph3-4\" x=\"353.933594\" y=\"241.921875\"/>\n",
       "  <use xlink:href=\"#glyph3-5\" x=\"363.933594\" y=\"241.921875\"/>\n",
       "  <use xlink:href=\"#glyph3-6\" x=\"373.933594\" y=\"241.921875\"/>\n",
       "</g>\n",
       "<g style=\"fill:rgb(0%,0%,0%);fill-opacity:1;\">\n",
       "  <use xlink:href=\"#glyph3-7\" x=\"410.4375\" y=\"241.921875\"/>\n",
       "  <use xlink:href=\"#glyph3-7\" x=\"420.4375\" y=\"241.921875\"/>\n",
       "  <use xlink:href=\"#glyph3-8\" x=\"430.4375\" y=\"241.921875\"/>\n",
       "  <use xlink:href=\"#glyph3-9\" x=\"440.4375\" y=\"241.921875\"/>\n",
       "  <use xlink:href=\"#glyph3-10\" x=\"450.4375\" y=\"241.921875\"/>\n",
       "</g>\n",
       "<g style=\"fill:rgb(0%,0%,0%);fill-opacity:1;\">\n",
       "  <use xlink:href=\"#glyph3-11\" x=\"481.9375\" y=\"241.921875\"/>\n",
       "  <use xlink:href=\"#glyph3-12\" x=\"491.9375\" y=\"241.921875\"/>\n",
       "  <use xlink:href=\"#glyph3-7\" x=\"501.9375\" y=\"241.921875\"/>\n",
       "  <use xlink:href=\"#glyph3-8\" x=\"511.9375\" y=\"241.921875\"/>\n",
       "  <use xlink:href=\"#glyph3-13\" x=\"521.9375\" y=\"241.921875\"/>\n",
       "</g>\n",
       "<g style=\"fill:rgb(0%,0%,0%);fill-opacity:1;\">\n",
       "  <use xlink:href=\"#glyph1-7\" x=\"514.089844\" y=\"76.835938\"/>\n",
       "  <use xlink:href=\"#glyph1-7\" x=\"517.600098\" y=\"76.835938\"/>\n",
       "  <use xlink:href=\"#glyph1-7\" x=\"521.110352\" y=\"76.835938\"/>\n",
       "  <use xlink:href=\"#glyph1-1\" x=\"524.620605\" y=\"76.835938\"/>\n",
       "  <use xlink:href=\"#glyph1-2\" x=\"531.691895\" y=\"76.835938\"/>\n",
       "  <use xlink:href=\"#glyph1-3\" x=\"539.543945\" y=\"76.835938\"/>\n",
       "  <use xlink:href=\"#glyph1-4\" x=\"547.395996\" y=\"76.835938\"/>\n",
       "  <use xlink:href=\"#glyph1-5\" x=\"555.508301\" y=\"76.835938\"/>\n",
       "  <use xlink:href=\"#glyph1-6\" x=\"559.018555\" y=\"76.835938\"/>\n",
       "  <use xlink:href=\"#glyph1-5\" x=\"563.519043\" y=\"76.835938\"/>\n",
       "  <use xlink:href=\"#glyph1-2\" x=\"567.029297\" y=\"76.835938\"/>\n",
       "  <use xlink:href=\"#glyph1-3\" x=\"574.881348\" y=\"76.835938\"/>\n",
       "</g>\n",
       "<path style=\"fill:none;stroke-width:1;stroke-linecap:round;stroke-linejoin:round;stroke:rgb(0%,0%,0%);stroke-opacity:1;stroke-dasharray:4,4;stroke-miterlimit:10;\" d=\"M 523.390625 85.644531 L 541.996094 85.644531 \"/>\n",
       "<path style=\"fill:none;stroke-width:1;stroke-linecap:round;stroke-linejoin:round;stroke:rgb(0%,0%,0%);stroke-opacity:1;stroke-miterlimit:10;\" d=\"M 523.390625 92.089844 L 541.996094 92.089844 \"/>\n",
       "<g style=\"fill:rgb(0%,0%,0%);fill-opacity:1;\">\n",
       "  <use xlink:href=\"#glyph1-23\" x=\"551.296875\" y=\"90.347656\"/>\n",
       "</g>\n",
       "<g style=\"fill:rgb(0%,0%,0%);fill-opacity:1;\">\n",
       "  <use xlink:href=\"#glyph1-24\" x=\"551.296875\" y=\"96.792969\"/>\n",
       "</g>\n",
       "</g>\n",
       "</svg>\n"
      ],
      "text/plain": [
       "plot without title"
      ]
     },
     "metadata": {
      "image/svg+xml": {
       "isolated": true
      }
     },
     "output_type": "display_data"
    }
   ],
   "source": [
    "Cairo(type=\"raster\")\n",
    "par(family = \"IPAexGothic\")\n",
    "par(cex.axis = 0.8)\n",
    "layout(matrix(c(1, 2), 1, 2, byrow = TRUE))\n",
    "with(d3.long, {\n",
    "    interaction.plot(condition, water, taste)\n",
    "    interaction.plot(water, condition, taste)\n",
    "})\n",
    "dev.off()"
   ]
  },
  {
   "cell_type": "code",
   "execution_count": 64,
   "metadata": {
    "collapsed": false
   },
   "outputs": [
    {
     "name": "stderr",
     "output_type": "stream",
     "text": [
      "Warning message:\n",
      ": package ‘gridExtra’ was built under R version 3.2.4\n",
      "Attaching package: ‘gridExtra’\n",
      "\n",
      " 以下のオブジェクトは ‘package:dplyr’ からマスクされています: \n",
      "\n",
      "     combine \n",
      "\n"
     ]
    }
   ],
   "source": [
    "library(grid)\n",
    "library(gridExtra)"
   ]
  },
  {
   "cell_type": "code",
   "execution_count": 65,
   "metadata": {
    "collapsed": false
   },
   "outputs": [
    {
     "data": {
      "text/html": [
       "<strong>pdf:</strong> 2"
      ],
      "text/latex": [
       "\\textbf{pdf:} 2"
      ],
      "text/markdown": [
       "**pdf:** 2"
      ],
      "text/plain": [
       "pdf \n",
       "  2 "
      ]
     },
     "execution_count": 65,
     "metadata": {},
     "output_type": "execute_result"
    },
    {
     "data": {
      "image/png": "[encoded data removed]",
      "image/svg+xml": [
       "<?xml version=\"1.0\" encoding=\"UTF-8\"?>\n",
       "<svg xmlns=\"http://www.w3.org/2000/svg\" xmlns:xlink=\"http://www.w3.org/1999/xlink\" width=\"576pt\" height=\"288pt\" viewBox=\"0 0 576 288\" version=\"1.1\">\n",
       "<defs>\n",
       "<g>\n",
       "<symbol overflow=\"visible\" id=\"glyph0-0\">\n",
       "<path style=\"stroke:none;\" d=\"M 8.09375 0.90625 L 0.90625 0.90625 L 0.90625 -7.734375 L 8.09375 -7.734375 Z M 7.328125 -7.265625 L 1.671875 -7.265625 L 4.515625 -3.78125 Z M 7.640625 0.078125 L 7.640625 -6.890625 L 4.8125 -3.40625 Z M 4.203125 -3.40625 L 1.359375 -6.90625 L 1.359375 0.078125 Z M 7.328125 0.4375 L 4.515625 -3.046875 L 1.6875 0.4375 Z \"/>\n",
       "</symbol>\n",
       "<symbol overflow=\"visible\" id=\"glyph0-1\">\n",
       "<path style=\"stroke:none;\" d=\"M 1.65625 -3.65625 C 2.082031 -4 2.546875 -4.171875 3.046875 -4.171875 C 3.648438 -4.171875 4.15625 -3.96875 4.5625 -3.5625 C 4.925781 -3.164062 5.109375 -2.679688 5.109375 -2.109375 C 5.109375 -1.578125 4.953125 -1.113281 4.640625 -0.71875 C 4.234375 -0.207031 3.640625 0.046875 2.859375 0.046875 C 1.847656 0.046875 1.113281 -0.335938 0.65625 -1.109375 L 1.3125 -1.453125 C 1.664062 -0.890625 2.171875 -0.609375 2.828125 -0.609375 C 3.253906 -0.609375 3.609375 -0.738281 3.890625 -1 C 4.179688 -1.28125 4.328125 -1.648438 4.328125 -2.109375 C 4.328125 -2.546875 4.203125 -2.894531 3.953125 -3.15625 C 3.679688 -3.425781 3.328125 -3.5625 2.890625 -3.5625 C 2.285156 -3.5625 1.820312 -3.328125 1.5 -2.859375 L 0.828125 -2.9375 L 1.25 -6.515625 L 4.796875 -6.515625 L 4.796875 -5.84375 L 1.890625 -5.84375 L 1.59375 -3.65625 Z \"/>\n",
       "</symbol>\n",
       "<symbol overflow=\"visible\" id=\"glyph0-2\">\n",
       "<path style=\"stroke:none;\" d=\"M 1.671875 -0.09375 L 0.6875 -0.09375 L 0.6875 -1.0625 L 1.671875 -1.0625 Z \"/>\n",
       "</symbol>\n",
       "<symbol overflow=\"visible\" id=\"glyph0-3\">\n",
       "<path style=\"stroke:none;\" d=\"M 2.859375 -6.640625 C 3.648438 -6.640625 4.257812 -6.273438 4.6875 -5.546875 C 5.019531 -4.960938 5.1875 -4.210938 5.1875 -3.296875 C 5.1875 -2.378906 5.019531 -1.628906 4.6875 -1.046875 C 4.269531 -0.316406 3.648438 0.046875 2.828125 0.046875 C 2.015625 0.046875 1.398438 -0.316406 0.984375 -1.046875 C 0.648438 -1.628906 0.484375 -2.382812 0.484375 -3.3125 C 0.484375 -4.582031 0.789062 -5.507812 1.40625 -6.09375 C 1.800781 -6.457031 2.285156 -6.640625 2.859375 -6.640625 Z M 2.828125 -6 C 2.359375 -6 1.992188 -5.757812 1.734375 -5.28125 C 1.453125 -4.800781 1.3125 -4.140625 1.3125 -3.296875 C 1.3125 -2.460938 1.445312 -1.804688 1.71875 -1.328125 C 1.988281 -0.859375 2.359375 -0.625 2.828125 -0.625 C 3.398438 -0.625 3.820312 -0.957031 4.09375 -1.625 C 4.269531 -2.0625 4.359375 -2.632812 4.359375 -3.34375 C 4.359375 -4.164062 4.222656 -4.8125 3.953125 -5.28125 C 3.671875 -5.757812 3.296875 -6 2.828125 -6 Z \"/>\n",
       "</symbol>\n",
       "<symbol overflow=\"visible\" id=\"glyph0-4\">\n",
       "<path style=\"stroke:none;\" d=\"M 5.0625 -6 C 3.78125 -3.976562 2.925781 -2.007812 2.5 -0.09375 L 1.59375 -0.09375 C 2.007812 -1.75 2.863281 -3.65625 4.15625 -5.8125 L 0.609375 -5.8125 L 0.609375 -6.515625 L 5.0625 -6.515625 Z \"/>\n",
       "</symbol>\n",
       "<symbol overflow=\"visible\" id=\"glyph0-5\">\n",
       "<path style=\"stroke:none;\" d=\"M 3.46875 -0.09375 L 2.671875 -0.09375 L 2.671875 -5.765625 C 2.171875 -5.597656 1.648438 -5.457031 1.109375 -5.34375 L 0.96875 -5.953125 C 1.75 -6.148438 2.414062 -6.382812 2.96875 -6.65625 L 3.46875 -6.65625 Z \"/>\n",
       "</symbol>\n",
       "<symbol overflow=\"visible\" id=\"glyph0-6\">\n",
       "<path style=\"stroke:none;\" d=\"M 5.703125 -0.09375 L 4.84375 -0.09375 L 4.125 -1.984375 L 1.546875 -1.984375 L 0.84375 -0.09375 L -0.015625 -0.09375 L 2.546875 -6.5625 L 3.171875 -6.5625 Z M 3.90625 -2.625 L 3.25 -4.328125 C 3.070312 -4.804688 2.941406 -5.238281 2.859375 -5.625 L 2.828125 -5.625 C 2.722656 -5.21875 2.582031 -4.785156 2.40625 -4.328125 L 1.78125 -2.625 Z \"/>\n",
       "</symbol>\n",
       "<symbol overflow=\"visible\" id=\"glyph0-7\">\n",
       "<path style=\"stroke:none;\" d=\"M 3.78125 -3.40625 C 4.832031 -3.21875 5.359375 -2.707031 5.359375 -1.875 C 5.359375 -1.144531 5 -0.625 4.28125 -0.3125 C 3.925781 -0.164062 3.476562 -0.09375 2.9375 -0.09375 L 0.859375 -0.09375 L 0.859375 -6.515625 L 2.6875 -6.515625 C 3.226562 -6.515625 3.675781 -6.453125 4.03125 -6.328125 C 4.757812 -6.066406 5.125 -5.59375 5.125 -4.90625 C 5.125 -4.082031 4.675781 -3.59375 3.78125 -3.4375 Z M 1.625 -3.734375 L 2.59375 -3.734375 C 3.738281 -3.734375 4.3125 -4.097656 4.3125 -4.828125 C 4.3125 -5.523438 3.753906 -5.875 2.640625 -5.875 L 1.625 -5.875 Z M 1.625 -0.734375 L 2.828125 -0.734375 C 3.960938 -0.734375 4.53125 -1.128906 4.53125 -1.921875 C 4.53125 -2.421875 4.25 -2.765625 3.6875 -2.953125 C 3.363281 -3.066406 3.015625 -3.125 2.640625 -3.125 L 1.625 -3.125 Z \"/>\n",
       "</symbol>\n",
       "<symbol overflow=\"visible\" id=\"glyph0-8\">\n",
       "<path style=\"stroke:none;\" d=\"M 4.40625 0.328125 L 4.40625 -4.046875 C 3.425781 -3.304688 2.476562 -2.734375 1.5625 -2.328125 L 1.09375 -2.890625 C 3.1875 -3.773438 4.914062 -5.113281 6.28125 -6.90625 L 6.90625 -6.53125 C 6.414062 -5.863281 5.835938 -5.238281 5.171875 -4.65625 L 5.171875 0.328125 Z \"/>\n",
       "</symbol>\n",
       "<symbol overflow=\"visible\" id=\"glyph0-9\">\n",
       "<path style=\"stroke:none;\" d=\"M 3.84375 -7 L 4.5625 -7 L 4.5625 -5.1875 L 7.390625 -5.1875 L 7.390625 -4.8125 C 7.390625 -2.851562 7.28125 -1.484375 7.0625 -0.703125 C 6.90625 -0.148438 6.566406 0.125 6.046875 0.125 C 5.566406 0.125 5.070312 0.00390625 4.5625 -0.234375 L 4.546875 -1.03125 C 5.128906 -0.757812 5.582031 -0.625 5.90625 -0.625 C 6.175781 -0.625 6.34375 -0.773438 6.40625 -1.078125 C 6.550781 -1.742188 6.632812 -2.898438 6.65625 -4.546875 L 4.515625 -4.546875 C 4.335938 -2.367188 3.375 -0.789062 1.625 0.1875 L 1.078125 -0.375 C 2.722656 -1.1875 3.628906 -2.566406 3.796875 -4.515625 L 1.28125 -4.515625 L 1.28125 -5.15625 L 3.84375 -5.15625 Z \"/>\n",
       "</symbol>\n",
       "<symbol overflow=\"visible\" id=\"glyph0-10\">\n",
       "<path style=\"stroke:none;\" d=\"M 7.578125 -6.40625 L 8.078125 -5.90625 C 7.453125 -4.800781 6.644531 -3.859375 5.65625 -3.078125 L 5.125 -3.578125 C 5.945312 -4.171875 6.617188 -4.894531 7.140625 -5.75 L 1.203125 -5.640625 L 1.203125 -6.328125 Z M 1.703125 -0.359375 C 2.742188 -0.878906 3.398438 -1.550781 3.671875 -2.375 C 3.847656 -2.851562 3.9375 -3.765625 3.9375 -5.109375 L 4.65625 -5.109375 C 4.644531 -3.554688 4.523438 -2.488281 4.296875 -1.90625 C 3.960938 -1.039062 3.273438 -0.332031 2.234375 0.21875 Z \"/>\n",
       "</symbol>\n",
       "<symbol overflow=\"visible\" id=\"glyph0-11\">\n",
       "<path style=\"stroke:none;\" d=\"M 3.4375 -4.34375 C 2.84375 -4.875 2.191406 -5.34375 1.484375 -5.75 L 1.9375 -6.359375 C 2.582031 -6.046875 3.253906 -5.59375 3.953125 -5 Z M 1.546875 -0.859375 C 4.253906 -1.328125 6.179688 -2.835938 7.328125 -5.390625 L 7.90625 -4.875 C 6.769531 -2.363281 4.804688 -0.785156 2.015625 -0.140625 Z \"/>\n",
       "</symbol>\n",
       "<symbol overflow=\"visible\" id=\"glyph0-12\">\n",
       "<path style=\"stroke:none;\" d=\"M 1.90625 -6.71875 L 2.640625 -6.71875 L 2.640625 -3.90625 C 4.210938 -4.257812 5.554688 -4.78125 6.671875 -5.46875 L 7.21875 -4.890625 C 5.820312 -4.140625 4.296875 -3.585938 2.640625 -3.234375 L 2.640625 -1.5 C 2.640625 -1.195312 2.726562 -1.007812 2.90625 -0.9375 C 3.09375 -0.863281 3.609375 -0.828125 4.453125 -0.828125 C 5.390625 -0.828125 6.429688 -0.882812 7.578125 -1 L 7.578125 -0.296875 C 6.515625 -0.191406 5.519531 -0.140625 4.59375 -0.140625 C 3.34375 -0.140625 2.582031 -0.226562 2.3125 -0.40625 C 2.039062 -0.582031 1.90625 -0.898438 1.90625 -1.359375 Z M 8.390625 -5.984375 C 8.054688 -6.484375 7.703125 -6.890625 7.328125 -7.203125 L 7.75 -7.53125 C 8.113281 -7.238281 8.476562 -6.847656 8.84375 -6.359375 Z M 7.5625 -5.3125 C 7.289062 -5.769531 6.945312 -6.1875 6.53125 -6.5625 L 6.96875 -6.90625 C 7.3125 -6.625 7.664062 -6.222656 8.03125 -5.703125 Z \"/>\n",
       "</symbol>\n",
       "<symbol overflow=\"visible\" id=\"glyph0-13\">\n",
       "<path style=\"stroke:none;\" d=\"M 2.5 -2.796875 C 2.289062 -3.429688 2.054688 -3.988281 1.796875 -4.46875 L 2.40625 -4.765625 C 2.707031 -4.273438 2.957031 -3.722656 3.15625 -3.109375 Z M 4.21875 -3.234375 C 4.039062 -3.867188 3.816406 -4.414062 3.546875 -4.875 L 4.1875 -5.171875 C 4.476562 -4.691406 4.71875 -4.148438 4.90625 -3.546875 Z M 2.71875 -0.515625 C 3.800781 -0.867188 4.644531 -1.429688 5.25 -2.203125 C 5.757812 -2.859375 6.101562 -3.773438 6.28125 -4.953125 L 7 -4.796875 C 6.769531 -3.453125 6.316406 -2.378906 5.640625 -1.578125 C 5.078125 -0.890625 4.257812 -0.34375 3.1875 0.0625 Z \"/>\n",
       "</symbol>\n",
       "<symbol overflow=\"visible\" id=\"glyph0-14\">\n",
       "<path style=\"stroke:none;\" d=\"M 0.796875 -4.3125 L 8.078125 -4.3125 L 8.078125 -3.671875 L 5.03125 -3.671875 C 4.988281 -2.640625 4.78125 -1.820312 4.40625 -1.21875 C 3.988281 -0.550781 3.300781 -0.0234375 2.34375 0.359375 L 1.84375 -0.21875 C 2.800781 -0.570312 3.457031 -1.046875 3.8125 -1.640625 C 4.082031 -2.085938 4.234375 -2.765625 4.265625 -3.671875 L 0.796875 -3.671875 Z M 1.984375 -6.453125 L 6.953125 -6.453125 L 6.953125 -5.8125 L 1.984375 -5.8125 Z \"/>\n",
       "</symbol>\n",
       "<symbol overflow=\"visible\" id=\"glyph0-15\">\n",
       "<path style=\"stroke:none;\" d=\"M 0.5 -0.46875 C 1.394531 -1.082031 1.953125 -1.875 2.171875 -2.84375 C 2.304688 -3.4375 2.375 -4.550781 2.375 -6.1875 L 3.09375 -6.1875 L 3.09375 -5.78125 C 3.09375 -4.039062 2.96875 -2.8125 2.71875 -2.09375 C 2.425781 -1.25 1.867188 -0.535156 1.046875 0.046875 Z M 4.390625 -6.5625 L 5.140625 -6.5625 L 5.140625 -1.078125 C 6.285156 -1.753906 7.226562 -2.675781 7.96875 -3.84375 L 8.4375 -3.203125 C 7.570312 -1.972656 6.40625 -0.9375 4.9375 -0.09375 L 4.390625 -0.5 Z \"/>\n",
       "</symbol>\n",
       "<symbol overflow=\"visible\" id=\"glyph0-16\">\n",
       "<path style=\"stroke:none;\" d=\"M 4.171875 -6.96875 L 4.890625 -6.96875 L 4.890625 -5.296875 L 7.859375 -5.296875 L 7.859375 -4.65625 L 4.890625 -4.65625 L 4.890625 -0.515625 C 4.890625 -0.015625 4.59375 0.234375 4 0.234375 C 3.613281 0.234375 3.226562 0.203125 2.84375 0.140625 L 2.6875 -0.609375 C 3.050781 -0.515625 3.425781 -0.46875 3.8125 -0.46875 C 4.050781 -0.46875 4.171875 -0.585938 4.171875 -0.828125 L 4.171875 -4.65625 L 1.15625 -4.65625 L 1.15625 -5.296875 L 4.171875 -5.296875 Z M 0.84375 -1.265625 C 1.207031 -1.609375 1.5 -1.96875 1.71875 -2.34375 C 1.914062 -2.6875 2.09375 -3.097656 2.25 -3.578125 L 2.890625 -3.296875 C 2.703125 -2.734375 2.484375 -2.242188 2.234375 -1.828125 C 2.023438 -1.503906 1.75 -1.144531 1.40625 -0.75 Z M 7.46875 -0.96875 C 7.03125 -1.882812 6.5625 -2.671875 6.0625 -3.328125 L 6.640625 -3.703125 C 7.148438 -3.097656 7.644531 -2.335938 8.125 -1.421875 Z M 8.0625 -6.171875 C 7.71875 -6.679688 7.363281 -7.085938 7 -7.390625 L 7.421875 -7.71875 C 7.773438 -7.425781 8.140625 -7.039062 8.515625 -6.5625 Z M 7.15625 -5.578125 C 6.882812 -6.035156 6.539062 -6.453125 6.125 -6.828125 L 6.5625 -7.171875 C 6.90625 -6.878906 7.257812 -6.476562 7.625 -5.96875 Z \"/>\n",
       "</symbol>\n",
       "<symbol overflow=\"visible\" id=\"glyph0-17\">\n",
       "<path style=\"stroke:none;\" d=\"M 6.125 -6.296875 L 6.625 -5.828125 C 6.269531 -4.816406 5.769531 -3.882812 5.125 -3.03125 C 6.070312 -2.351562 7.015625 -1.554688 7.953125 -0.640625 L 7.359375 -0.03125 C 6.441406 -1.03125 5.5625 -1.851562 4.71875 -2.5 C 3.789062 -1.394531 2.707031 -0.546875 1.46875 0.046875 L 0.921875 -0.5625 C 3.242188 -1.550781 4.859375 -3.238281 5.765625 -5.625 L 1.75 -5.578125 L 1.734375 -6.265625 Z \"/>\n",
       "</symbol>\n",
       "<symbol overflow=\"visible\" id=\"glyph0-18\">\n",
       "<path style=\"stroke:none;\" d=\"M 6.703125 -5.8125 L 7.1875 -5.453125 C 6.832031 -3.941406 6.25 -2.703125 5.4375 -1.734375 C 4.726562 -0.890625 3.789062 -0.175781 2.625 0.40625 L 2.09375 -0.171875 C 3.238281 -0.648438 4.171875 -1.328125 4.890625 -2.203125 C 5.597656 -3.066406 6.085938 -4.050781 6.359375 -5.15625 L 3.84375 -5.15625 C 3.175781 -4.144531 2.453125 -3.316406 1.671875 -2.671875 L 1.140625 -3.15625 C 2.410156 -4.175781 3.328125 -5.445312 3.890625 -6.96875 L 4.578125 -6.78125 C 4.523438 -6.582031 4.394531 -6.257812 4.1875 -5.8125 Z M 8.453125 -6.21875 C 8.109375 -6.726562 7.753906 -7.132812 7.390625 -7.4375 L 7.8125 -7.765625 C 8.175781 -7.472656 8.539062 -7.085938 8.90625 -6.609375 Z M 7.609375 -5.5625 C 7.335938 -6.019531 6.992188 -6.4375 6.578125 -6.8125 L 7.015625 -7.15625 C 7.367188 -6.863281 7.722656 -6.460938 8.078125 -5.953125 Z \"/>\n",
       "</symbol>\n",
       "<symbol overflow=\"visible\" id=\"glyph1-0\">\n",
       "<path style=\"stroke:none;\" d=\"M 10.796875 1.203125 L 1.203125 1.203125 L 1.203125 -10.3125 L 10.796875 -10.3125 Z M 9.78125 -9.703125 L 2.234375 -9.703125 L 6.015625 -5.046875 Z M 10.171875 0.09375 L 10.171875 -9.1875 L 6.40625 -4.546875 Z M 5.609375 -4.546875 L 1.828125 -9.21875 L 1.828125 0.109375 Z M 9.765625 0.578125 L 6.015625 -4.0625 L 2.25 0.578125 Z \"/>\n",
       "</symbol>\n",
       "<symbol overflow=\"visible\" id=\"glyph1-1\">\n",
       "<path style=\"stroke:none;\" d=\"M 6.125 -1.46875 C 5.582031 -0.445312 4.726562 0.0625 3.5625 0.0625 C 2.71875 0.0625 2.023438 -0.210938 1.484375 -0.765625 C 0.890625 -1.367188 0.59375 -2.15625 0.59375 -3.125 C 0.59375 -4.070312 0.890625 -4.851562 1.484375 -5.46875 C 2.023438 -6.007812 2.707031 -6.28125 3.53125 -6.28125 C 4.695312 -6.28125 5.523438 -5.773438 6.015625 -4.765625 L 5.1875 -4.328125 C 4.832031 -5.066406 4.289062 -5.4375 3.5625 -5.4375 C 3.082031 -5.4375 2.664062 -5.257812 2.3125 -4.90625 C 1.875 -4.46875 1.65625 -3.863281 1.65625 -3.09375 C 1.65625 -2.363281 1.867188 -1.785156 2.296875 -1.359375 C 2.671875 -0.984375 3.128906 -0.796875 3.671875 -0.796875 C 4.410156 -0.796875 4.96875 -1.164062 5.34375 -1.90625 Z \"/>\n",
       "</symbol>\n",
       "<symbol overflow=\"visible\" id=\"glyph1-2\">\n",
       "<path style=\"stroke:none;\" d=\"M 3.59375 -6.265625 C 4.4375 -6.265625 5.148438 -5.984375 5.734375 -5.421875 C 6.328125 -4.828125 6.625 -4.046875 6.625 -3.078125 C 6.625 -2.140625 6.332031 -1.378906 5.75 -0.796875 C 5.175781 -0.222656 4.457031 0.0625 3.59375 0.0625 C 2.726562 0.0625 2.019531 -0.21875 1.46875 -0.78125 C 0.882812 -1.363281 0.59375 -2.140625 0.59375 -3.109375 C 0.59375 -4.054688 0.890625 -4.828125 1.484375 -5.421875 C 2.046875 -5.984375 2.75 -6.265625 3.59375 -6.265625 Z M 3.59375 -5.46875 C 3.09375 -5.46875 2.671875 -5.289062 2.328125 -4.9375 C 1.890625 -4.488281 1.671875 -3.875 1.671875 -3.09375 C 1.671875 -2.320312 1.882812 -1.71875 2.3125 -1.28125 C 2.664062 -0.925781 3.09375 -0.75 3.59375 -0.75 C 4.113281 -0.75 4.546875 -0.929688 4.890625 -1.296875 C 5.328125 -1.734375 5.546875 -2.347656 5.546875 -3.140625 C 5.546875 -3.878906 5.320312 -4.476562 4.875 -4.9375 C 4.519531 -5.289062 4.09375 -5.46875 3.59375 -5.46875 Z \"/>\n",
       "</symbol>\n",
       "<symbol overflow=\"visible\" id=\"glyph1-3\">\n",
       "<path style=\"stroke:none;\" d=\"M 6.234375 -0.125 L 5.203125 -0.125 L 5.203125 -3.828125 C 5.203125 -4.835938 4.785156 -5.34375 3.953125 -5.34375 C 3.097656 -5.34375 2.476562 -4.835938 2.09375 -3.828125 L 2.09375 -0.125 L 1.0625 -0.125 L 1.0625 -6.09375 L 2.015625 -6.09375 L 2.015625 -5.015625 C 2.578125 -5.816406 3.296875 -6.21875 4.171875 -6.21875 C 5.546875 -6.21875 6.234375 -5.441406 6.234375 -3.890625 Z \"/>\n",
       "</symbol>\n",
       "<symbol overflow=\"visible\" id=\"glyph1-4\">\n",
       "<path style=\"stroke:none;\" d=\"M 6.359375 -0.125 L 5.421875 -0.125 L 5.421875 -1.15625 C 4.859375 -0.34375 4.144531 0.0625 3.28125 0.0625 C 2.570312 0.0625 1.972656 -0.191406 1.484375 -0.703125 C 0.890625 -1.285156 0.59375 -2.09375 0.59375 -3.125 C 0.59375 -4.125 0.878906 -4.921875 1.453125 -5.515625 C 1.941406 -6.015625 2.550781 -6.265625 3.28125 -6.265625 C 4.070312 -6.265625 4.757812 -5.929688 5.34375 -5.265625 L 5.34375 -8.984375 L 6.359375 -8.984375 Z M 5.34375 -2.4375 L 5.34375 -3.9375 C 5.34375 -4.332031 5.097656 -4.710938 4.609375 -5.078125 C 4.265625 -5.328125 3.882812 -5.453125 3.46875 -5.453125 C 3.007812 -5.453125 2.617188 -5.289062 2.296875 -4.96875 C 1.878906 -4.539062 1.671875 -3.929688 1.671875 -3.140625 C 1.671875 -2.429688 1.84375 -1.851562 2.1875 -1.40625 C 2.53125 -0.976562 2.957031 -0.765625 3.46875 -0.765625 C 4.0625 -0.765625 4.566406 -1.054688 4.984375 -1.640625 C 5.222656 -1.960938 5.34375 -2.226562 5.34375 -2.4375 Z \"/>\n",
       "</symbol>\n",
       "<symbol overflow=\"visible\" id=\"glyph1-5\">\n",
       "<path style=\"stroke:none;\" d=\"M 2.203125 -7.359375 L 1.03125 -7.359375 L 1.03125 -8.5625 L 2.203125 -8.5625 Z M 2.140625 -0.125 L 1.109375 -0.125 L 1.109375 -6.09375 L 2.140625 -6.09375 Z \"/>\n",
       "</symbol>\n",
       "<symbol overflow=\"visible\" id=\"glyph1-6\">\n",
       "<path style=\"stroke:none;\" d=\"M 3.984375 -0.453125 C 3.535156 -0.140625 3.082031 0.015625 2.625 0.015625 C 1.6875 0.015625 1.21875 -0.507812 1.21875 -1.5625 L 1.21875 -5.359375 L 0.40625 -5.359375 L 0.40625 -6.09375 L 1.21875 -6.09375 L 1.21875 -7.4375 L 2.203125 -7.921875 L 2.203125 -6.09375 L 3.875 -6.09375 L 3.875 -5.359375 L 2.203125 -5.359375 L 2.203125 -1.703125 C 2.203125 -1.085938 2.414062 -0.78125 2.84375 -0.78125 C 3.125 -0.78125 3.390625 -0.890625 3.640625 -1.109375 Z \"/>\n",
       "</symbol>\n",
       "<symbol overflow=\"visible\" id=\"glyph1-7\">\n",
       "<path style=\"stroke:none;\" d=\"M 8.953125 -6.09375 L 6.875 -0.015625 L 6.15625 -0.015625 L 4.890625 -3.59375 C 4.765625 -3.945312 4.644531 -4.390625 4.53125 -4.921875 L 4.484375 -4.921875 C 4.398438 -4.535156 4.273438 -4.09375 4.109375 -3.59375 L 2.875 -0.015625 L 2.15625 -0.015625 L 0.078125 -6.09375 L 1.15625 -6.09375 L 2.171875 -2.796875 C 2.234375 -2.597656 2.363281 -2.132812 2.5625 -1.40625 L 2.59375 -1.40625 C 2.707031 -1.875 2.835938 -2.335938 2.984375 -2.796875 L 4.0625 -6.09375 L 4.984375 -6.09375 L 6.109375 -2.796875 C 6.222656 -2.484375 6.351562 -2.019531 6.5 -1.40625 L 6.546875 -1.40625 C 6.671875 -1.945312 6.789062 -2.410156 6.90625 -2.796875 L 7.90625 -6.09375 Z \"/>\n",
       "</symbol>\n",
       "<symbol overflow=\"visible\" id=\"glyph1-8\">\n",
       "<path style=\"stroke:none;\" d=\"M 5.921875 -0.125 L 5.015625 -0.125 C 4.867188 -0.414062 4.78125 -0.722656 4.75 -1.046875 L 4.703125 -1.046875 C 4.253906 -0.316406 3.578125 0.046875 2.671875 0.046875 C 2.054688 0.046875 1.554688 -0.148438 1.171875 -0.546875 C 0.828125 -0.890625 0.65625 -1.304688 0.65625 -1.796875 C 0.65625 -3.035156 1.71875 -3.6875 3.84375 -3.75 L 4.640625 -3.765625 L 4.640625 -4.078125 C 4.640625 -4.492188 4.523438 -4.820312 4.296875 -5.0625 C 4.046875 -5.3125 3.722656 -5.4375 3.328125 -5.4375 C 2.660156 -5.4375 2.15625 -5.109375 1.8125 -4.453125 L 0.921875 -4.875 C 1.484375 -5.78125 2.296875 -6.234375 3.359375 -6.234375 C 4.085938 -6.234375 4.648438 -6.03125 5.046875 -5.625 C 5.410156 -5.257812 5.59375 -4.738281 5.59375 -4.0625 L 5.59375 -1.875 C 5.59375 -1.125 5.703125 -0.539062 5.921875 -0.125 Z M 4.671875 -3.046875 L 4.015625 -3.03125 C 2.460938 -3 1.6875 -2.582031 1.6875 -1.78125 C 1.6875 -1.5 1.78125 -1.269531 1.96875 -1.09375 C 2.195312 -0.863281 2.492188 -0.75 2.859375 -0.75 C 3.367188 -0.75 3.8125 -0.9375 4.1875 -1.3125 C 4.507812 -1.644531 4.671875 -2.046875 4.671875 -2.515625 Z \"/>\n",
       "</symbol>\n",
       "<symbol overflow=\"visible\" id=\"glyph1-9\">\n",
       "<path style=\"stroke:none;\" d=\"M 1.625 -2.984375 C 1.65625 -2.296875 1.867188 -1.753906 2.265625 -1.359375 C 2.671875 -0.953125 3.164062 -0.75 3.75 -0.75 C 4.507812 -0.75 5.113281 -1.101562 5.5625 -1.8125 L 6.234375 -1.359375 C 5.660156 -0.410156 4.789062 0.0625 3.625 0.0625 C 2.738281 0.0625 2.007812 -0.222656 1.4375 -0.796875 C 0.863281 -1.367188 0.578125 -2.128906 0.578125 -3.078125 C 0.578125 -4.078125 0.878906 -4.878906 1.484375 -5.484375 C 2.015625 -6.015625 2.679688 -6.28125 3.484375 -6.28125 C 4.234375 -6.28125 4.863281 -6.035156 5.375 -5.546875 C 5.945312 -4.960938 6.234375 -4.191406 6.234375 -3.234375 L 6.234375 -2.984375 Z M 5.171875 -3.75 C 5.109375 -4.289062 4.914062 -4.71875 4.59375 -5.03125 C 4.269531 -5.351562 3.890625 -5.515625 3.453125 -5.515625 C 2.953125 -5.515625 2.519531 -5.296875 2.15625 -4.859375 C 1.90625 -4.566406 1.742188 -4.195312 1.671875 -3.75 Z \"/>\n",
       "</symbol>\n",
       "<symbol overflow=\"visible\" id=\"glyph1-10\">\n",
       "<path style=\"stroke:none;\" d=\"M 4.328125 -6.21875 L 4.15625 -5.1875 C 4.019531 -5.21875 3.898438 -5.234375 3.796875 -5.234375 C 3.328125 -5.234375 2.945312 -5.015625 2.65625 -4.578125 C 2.28125 -4.035156 2.09375 -3.554688 2.09375 -3.140625 L 2.09375 -0.125 L 1.0625 -0.125 L 1.0625 -6.09375 L 2.03125 -6.09375 L 1.984375 -4.3125 L 2 -4.3125 C 2.445312 -5.613281 3.09375 -6.265625 3.9375 -6.265625 C 4.070312 -6.265625 4.203125 -6.25 4.328125 -6.21875 Z \"/>\n",
       "</symbol>\n",
       "<symbol overflow=\"visible\" id=\"glyph2-0\">\n",
       "<path style=\"stroke:none;\" d=\"M 1.203125 -10.796875 L 1.203125 -1.203125 L -10.3125 -1.203125 L -10.3125 -10.796875 Z M -9.703125 -9.78125 L -9.703125 -2.234375 L -5.046875 -6.015625 Z M 0.09375 -10.171875 L -9.1875 -10.171875 L -4.546875 -6.40625 Z M -4.546875 -5.609375 L -9.21875 -1.828125 L 0.109375 -1.828125 Z M 0.578125 -9.765625 L -4.0625 -6.015625 L 0.578125 -2.25 Z \"/>\n",
       "</symbol>\n",
       "<symbol overflow=\"visible\" id=\"glyph2-1\">\n",
       "<path style=\"stroke:none;\" d=\"M -0.453125 -3.984375 C -0.140625 -3.535156 0.015625 -3.082031 0.015625 -2.625 C 0.015625 -1.6875 -0.507812 -1.21875 -1.5625 -1.21875 L -5.359375 -1.21875 L -5.359375 -0.40625 L -6.09375 -0.40625 L -6.09375 -1.21875 L -7.4375 -1.21875 L -7.921875 -2.203125 L -6.09375 -2.203125 L -6.09375 -3.875 L -5.359375 -3.875 L -5.359375 -2.203125 L -1.703125 -2.203125 C -1.085938 -2.203125 -0.78125 -2.414062 -0.78125 -2.84375 C -0.78125 -3.125 -0.890625 -3.390625 -1.109375 -3.640625 Z \"/>\n",
       "</symbol>\n",
       "<symbol overflow=\"visible\" id=\"glyph2-2\">\n",
       "<path style=\"stroke:none;\" d=\"M -0.125 -5.921875 L -0.125 -5.015625 C -0.414062 -4.867188 -0.722656 -4.78125 -1.046875 -4.75 L -1.046875 -4.703125 C -0.316406 -4.253906 0.046875 -3.578125 0.046875 -2.671875 C 0.046875 -2.054688 -0.148438 -1.554688 -0.546875 -1.171875 C -0.890625 -0.828125 -1.304688 -0.65625 -1.796875 -0.65625 C -3.035156 -0.65625 -3.6875 -1.71875 -3.75 -3.84375 L -3.765625 -4.640625 L -4.078125 -4.640625 C -4.492188 -4.640625 -4.820312 -4.523438 -5.0625 -4.296875 C -5.3125 -4.046875 -5.4375 -3.722656 -5.4375 -3.328125 C -5.4375 -2.660156 -5.109375 -2.15625 -4.453125 -1.8125 L -4.875 -0.921875 C -5.78125 -1.484375 -6.234375 -2.296875 -6.234375 -3.359375 C -6.234375 -4.085938 -6.03125 -4.648438 -5.625 -5.046875 C -5.257812 -5.410156 -4.738281 -5.59375 -4.0625 -5.59375 L -1.875 -5.59375 C -1.125 -5.59375 -0.539062 -5.703125 -0.125 -5.921875 Z M -3.046875 -4.671875 L -3.03125 -4.015625 C -3 -2.460938 -2.582031 -1.6875 -1.78125 -1.6875 C -1.5 -1.6875 -1.269531 -1.78125 -1.09375 -1.96875 C -0.863281 -2.195312 -0.75 -2.492188 -0.75 -2.859375 C -0.75 -3.367188 -0.9375 -3.8125 -1.3125 -4.1875 C -1.644531 -4.507812 -2.046875 -4.671875 -2.515625 -4.671875 Z \"/>\n",
       "</symbol>\n",
       "<symbol overflow=\"visible\" id=\"glyph2-3\">\n",
       "<path style=\"stroke:none;\" d=\"M -4.78125 -4.1875 C -5.257812 -3.820312 -5.5 -3.351562 -5.5 -2.78125 C -5.5 -2.039062 -5.210938 -1.671875 -4.640625 -1.671875 C -4.234375 -1.671875 -3.898438 -2.070312 -3.640625 -2.875 L -3.515625 -3.265625 C -3.140625 -4.398438 -2.523438 -4.96875 -1.671875 -4.96875 C -1.097656 -4.96875 -0.648438 -4.734375 -0.328125 -4.265625 C -0.0664062 -3.890625 0.0625 -3.40625 0.0625 -2.8125 C 0.0625 -1.894531 -0.269531 -1.117188 -0.9375 -0.484375 L -1.53125 -1.125 C -1.007812 -1.625 -0.75 -2.195312 -0.75 -2.84375 C -0.75 -3.613281 -1.046875 -4 -1.640625 -4 C -2.097656 -4 -2.472656 -3.570312 -2.765625 -2.71875 L -2.90625 -2.3125 C -3.28125 -1.238281 -3.832031 -0.703125 -4.5625 -0.703125 C -5.019531 -0.703125 -5.40625 -0.859375 -5.71875 -1.171875 C -6.09375 -1.546875 -6.28125 -2.0625 -6.28125 -2.71875 C -6.28125 -3.601562 -5.972656 -4.328125 -5.359375 -4.890625 Z \"/>\n",
       "</symbol>\n",
       "<symbol overflow=\"visible\" id=\"glyph2-4\">\n",
       "<path style=\"stroke:none;\" d=\"M -2.984375 -1.625 C -2.296875 -1.65625 -1.753906 -1.867188 -1.359375 -2.265625 C -0.953125 -2.671875 -0.75 -3.164062 -0.75 -3.75 C -0.75 -4.507812 -1.101562 -5.113281 -1.8125 -5.5625 L -1.359375 -6.234375 C -0.410156 -5.660156 0.0625 -4.789062 0.0625 -3.625 C 0.0625 -2.738281 -0.222656 -2.007812 -0.796875 -1.4375 C -1.367188 -0.863281 -2.128906 -0.578125 -3.078125 -0.578125 C -4.078125 -0.578125 -4.878906 -0.878906 -5.484375 -1.484375 C -6.015625 -2.015625 -6.28125 -2.679688 -6.28125 -3.484375 C -6.28125 -4.234375 -6.035156 -4.863281 -5.546875 -5.375 C -4.960938 -5.945312 -4.191406 -6.234375 -3.234375 -6.234375 L -2.984375 -6.234375 Z M -3.75 -5.171875 C -4.289062 -5.109375 -4.71875 -4.914062 -5.03125 -4.59375 C -5.351562 -4.269531 -5.515625 -3.890625 -5.515625 -3.453125 C -5.515625 -2.953125 -5.296875 -2.519531 -4.859375 -2.15625 C -4.566406 -1.90625 -4.195312 -1.742188 -3.75 -1.671875 Z \"/>\n",
       "</symbol>\n",
       "</g>\n",
       "<clipPath id=\"clip1\">\n",
       "  <path d=\"M 45.058594 5.480469 L 283 5.480469 L 283 256 L 45.058594 256 Z \"/>\n",
       "</clipPath>\n",
       "<clipPath id=\"clip2\">\n",
       "  <path d=\"M 45.058594 222 L 283 222 L 283 224 L 45.058594 224 Z \"/>\n",
       "</clipPath>\n",
       "<clipPath id=\"clip3\">\n",
       "  <path d=\"M 45.058594 151 L 283 151 L 283 153 L 45.058594 153 Z \"/>\n",
       "</clipPath>\n",
       "<clipPath id=\"clip4\">\n",
       "  <path d=\"M 45.058594 80 L 283 80 L 283 82 L 45.058594 82 Z \"/>\n",
       "</clipPath>\n",
       "<clipPath id=\"clip5\">\n",
       "  <path d=\"M 45.058594 9 L 283 9 L 283 11 L 45.058594 11 Z \"/>\n",
       "</clipPath>\n",
       "<clipPath id=\"clip6\">\n",
       "  <path d=\"M 45.058594 186 L 283.519531 186 L 283.519531 189 L 45.058594 189 Z \"/>\n",
       "</clipPath>\n",
       "<clipPath id=\"clip7\">\n",
       "  <path d=\"M 45.058594 115 L 283.519531 115 L 283.519531 118 L 45.058594 118 Z \"/>\n",
       "</clipPath>\n",
       "<clipPath id=\"clip8\">\n",
       "  <path d=\"M 45.058594 44 L 283.519531 44 L 283.519531 47 L 45.058594 47 Z \"/>\n",
       "</clipPath>\n",
       "<clipPath id=\"clip9\">\n",
       "  <path d=\"M 109 5.480469 L 111 5.480469 L 111 256.8125 L 109 256.8125 Z \"/>\n",
       "</clipPath>\n",
       "<clipPath id=\"clip10\">\n",
       "  <path d=\"M 217 5.480469 L 219 5.480469 L 219 256.8125 L 217 256.8125 Z \"/>\n",
       "</clipPath>\n",
       "<clipPath id=\"clip11\">\n",
       "  <path d=\"M 288 0 L 576 0 L 576 288 L 288 288 Z \"/>\n",
       "</clipPath>\n",
       "<clipPath id=\"clip12\">\n",
       "  <path d=\"M 333.058594 5.480469 L 571 5.480469 L 571 256 L 333.058594 256 Z \"/>\n",
       "</clipPath>\n",
       "<clipPath id=\"clip13\">\n",
       "  <path d=\"M 333.058594 222 L 571 222 L 571 224 L 333.058594 224 Z \"/>\n",
       "</clipPath>\n",
       "<clipPath id=\"clip14\">\n",
       "  <path d=\"M 333.058594 151 L 571 151 L 571 153 L 333.058594 153 Z \"/>\n",
       "</clipPath>\n",
       "<clipPath id=\"clip15\">\n",
       "  <path d=\"M 333.058594 80 L 571 80 L 571 82 L 333.058594 82 Z \"/>\n",
       "</clipPath>\n",
       "<clipPath id=\"clip16\">\n",
       "  <path d=\"M 333.058594 9 L 571 9 L 571 11 L 333.058594 11 Z \"/>\n",
       "</clipPath>\n",
       "<clipPath id=\"clip17\">\n",
       "  <path d=\"M 333.058594 186 L 571.519531 186 L 571.519531 189 L 333.058594 189 Z \"/>\n",
       "</clipPath>\n",
       "<clipPath id=\"clip18\">\n",
       "  <path d=\"M 333.058594 115 L 571.519531 115 L 571.519531 118 L 333.058594 118 Z \"/>\n",
       "</clipPath>\n",
       "<clipPath id=\"clip19\">\n",
       "  <path d=\"M 333.058594 44 L 571.519531 44 L 571.519531 47 L 333.058594 47 Z \"/>\n",
       "</clipPath>\n",
       "<clipPath id=\"clip20\">\n",
       "  <path d=\"M 376 5.480469 L 379 5.480469 L 379 256.8125 L 376 256.8125 Z \"/>\n",
       "</clipPath>\n",
       "<clipPath id=\"clip21\">\n",
       "  <path d=\"M 451 5.480469 L 453 5.480469 L 453 256.8125 L 451 256.8125 Z \"/>\n",
       "</clipPath>\n",
       "<clipPath id=\"clip22\">\n",
       "  <path d=\"M 525 5.480469 L 527 5.480469 L 527 256.8125 L 525 256.8125 Z \"/>\n",
       "</clipPath>\n",
       "</defs>\n",
       "<g id=\"surface296\">\n",
       "<rect x=\"0\" y=\"0\" width=\"576\" height=\"288\" style=\"fill:rgb(100%,100%,100%);fill-opacity:1;stroke:none;\"/>\n",
       "<path style=\"fill-rule:nonzero;fill:rgb(100%,100%,100%);fill-opacity:1;stroke-width:1.422638;stroke-linecap:round;stroke-linejoin:round;stroke:rgb(100%,100%,100%);stroke-opacity:1;stroke-miterlimit:10;\" d=\"M 0 0 L 288 0 L 288 288 L 0 288 Z \"/>\n",
       "<g clip-path=\"url(#clip1)\" clip-rule=\"nonzero\">\n",
       "<path style=\" stroke:none;fill-rule:nonzero;fill:rgb(92.156863%,92.156863%,92.156863%);fill-opacity:1;\" d=\"M 45.058594 5.480469 L 282.519531 5.480469 L 282.519531 255.8125 L 45.058594 255.8125 Z \"/>\n",
       "</g>\n",
       "<g clip-path=\"url(#clip2)\" clip-rule=\"nonzero\">\n",
       "<path style=\"fill:none;stroke-width:0.711319;stroke-linecap:butt;stroke-linejoin:round;stroke:rgb(100%,100%,100%);stroke-opacity:1;stroke-miterlimit:10;\" d=\"M 45.058594 223.097656 L 282.519531 223.097656 \"/>\n",
       "</g>\n",
       "<g clip-path=\"url(#clip3)\" clip-rule=\"nonzero\">\n",
       "<path style=\"fill:none;stroke-width:0.711319;stroke-linecap:butt;stroke-linejoin:round;stroke:rgb(100%,100%,100%);stroke-opacity:1;stroke-miterlimit:10;\" d=\"M 45.058594 151.980469 L 282.519531 151.980469 \"/>\n",
       "</g>\n",
       "<g clip-path=\"url(#clip4)\" clip-rule=\"nonzero\">\n",
       "<path style=\"fill:none;stroke-width:0.711319;stroke-linecap:butt;stroke-linejoin:round;stroke:rgb(100%,100%,100%);stroke-opacity:1;stroke-miterlimit:10;\" d=\"M 45.058594 80.863281 L 282.519531 80.863281 \"/>\n",
       "</g>\n",
       "<g clip-path=\"url(#clip5)\" clip-rule=\"nonzero\">\n",
       "<path style=\"fill:none;stroke-width:0.711319;stroke-linecap:butt;stroke-linejoin:round;stroke:rgb(100%,100%,100%);stroke-opacity:1;stroke-miterlimit:10;\" d=\"M 45.058594 9.746094 L 282.519531 9.746094 \"/>\n",
       "</g>\n",
       "<g clip-path=\"url(#clip6)\" clip-rule=\"nonzero\">\n",
       "<path style=\"fill:none;stroke-width:1.422638;stroke-linecap:butt;stroke-linejoin:round;stroke:rgb(100%,100%,100%);stroke-opacity:1;stroke-miterlimit:10;\" d=\"M 45.058594 187.539062 L 282.519531 187.539062 \"/>\n",
       "</g>\n",
       "<g clip-path=\"url(#clip7)\" clip-rule=\"nonzero\">\n",
       "<path style=\"fill:none;stroke-width:1.422638;stroke-linecap:butt;stroke-linejoin:round;stroke:rgb(100%,100%,100%);stroke-opacity:1;stroke-miterlimit:10;\" d=\"M 45.058594 116.421875 L 282.519531 116.421875 \"/>\n",
       "</g>\n",
       "<g clip-path=\"url(#clip8)\" clip-rule=\"nonzero\">\n",
       "<path style=\"fill:none;stroke-width:1.422638;stroke-linecap:butt;stroke-linejoin:round;stroke:rgb(100%,100%,100%);stroke-opacity:1;stroke-miterlimit:10;\" d=\"M 45.058594 45.304688 L 282.519531 45.304688 \"/>\n",
       "</g>\n",
       "<g clip-path=\"url(#clip9)\" clip-rule=\"nonzero\">\n",
       "<path style=\"fill:none;stroke-width:1.422638;stroke-linecap:butt;stroke-linejoin:round;stroke:rgb(100%,100%,100%);stroke-opacity:1;stroke-miterlimit:10;\" d=\"M 109.820312 255.8125 L 109.820312 5.480469 \"/>\n",
       "</g>\n",
       "<g clip-path=\"url(#clip10)\" clip-rule=\"nonzero\">\n",
       "<path style=\"fill:none;stroke-width:1.422638;stroke-linecap:butt;stroke-linejoin:round;stroke:rgb(100%,100%,100%);stroke-opacity:1;stroke-miterlimit:10;\" d=\"M 217.757812 255.8125 L 217.757812 5.480469 \"/>\n",
       "</g>\n",
       "<path style=\"fill:none;stroke-width:1.422638;stroke-linecap:butt;stroke-linejoin:round;stroke:rgb(0%,0%,0%);stroke-opacity:1;stroke-miterlimit:10;\" d=\"M 109.820312 215.984375 L 217.757812 244.433594 \"/>\n",
       "<path style=\"fill:none;stroke-width:1.422638;stroke-linecap:butt;stroke-linejoin:round;stroke:rgb(0%,0%,0%);stroke-opacity:1;stroke-dasharray:2,2;stroke-miterlimit:10;\" d=\"M 109.820312 16.859375 L 217.757812 130.644531 \"/>\n",
       "<path style=\"fill:none;stroke-width:1.422638;stroke-linecap:butt;stroke-linejoin:round;stroke:rgb(0%,0%,0%);stroke-opacity:1;stroke-dasharray:4,2;stroke-miterlimit:10;\" d=\"M 109.820312 73.75 L 217.757812 187.539062 \"/>\n",
       "<g style=\"fill:rgb(30.196078%,30.196078%,30.196078%);fill-opacity:1;\">\n",
       "  <use xlink:href=\"#glyph0-1\" x=\"26.410156\" y=\"190.796875\"/>\n",
       "  <use xlink:href=\"#glyph0-2\" x=\"32.079102\" y=\"190.796875\"/>\n",
       "  <use xlink:href=\"#glyph0-3\" x=\"34.456543\" y=\"190.796875\"/>\n",
       "</g>\n",
       "<g style=\"fill:rgb(30.196078%,30.196078%,30.196078%);fill-opacity:1;\">\n",
       "  <use xlink:href=\"#glyph0-4\" x=\"26.410156\" y=\"119.679688\"/>\n",
       "  <use xlink:href=\"#glyph0-2\" x=\"32.079102\" y=\"119.679688\"/>\n",
       "  <use xlink:href=\"#glyph0-1\" x=\"34.456543\" y=\"119.679688\"/>\n",
       "</g>\n",
       "<g style=\"fill:rgb(30.196078%,30.196078%,30.196078%);fill-opacity:1;\">\n",
       "  <use xlink:href=\"#glyph0-5\" x=\"20.742188\" y=\"48.5625\"/>\n",
       "  <use xlink:href=\"#glyph0-3\" x=\"26.411133\" y=\"48.5625\"/>\n",
       "  <use xlink:href=\"#glyph0-2\" x=\"32.080078\" y=\"48.5625\"/>\n",
       "  <use xlink:href=\"#glyph0-3\" x=\"34.45752\" y=\"48.5625\"/>\n",
       "</g>\n",
       "<path style=\"fill:none;stroke-width:1.422638;stroke-linecap:butt;stroke-linejoin:round;stroke:rgb(20%,20%,20%);stroke-opacity:1;stroke-miterlimit:10;\" d=\"M 42.316406 187.539062 L 45.058594 187.539062 \"/>\n",
       "<path style=\"fill:none;stroke-width:1.422638;stroke-linecap:butt;stroke-linejoin:round;stroke:rgb(20%,20%,20%);stroke-opacity:1;stroke-miterlimit:10;\" d=\"M 42.316406 116.421875 L 45.058594 116.421875 \"/>\n",
       "<path style=\"fill:none;stroke-width:1.422638;stroke-linecap:butt;stroke-linejoin:round;stroke:rgb(20%,20%,20%);stroke-opacity:1;stroke-miterlimit:10;\" d=\"M 42.316406 45.304688 L 45.058594 45.304688 \"/>\n",
       "<path style=\"fill:none;stroke-width:1.422638;stroke-linecap:butt;stroke-linejoin:round;stroke:rgb(20%,20%,20%);stroke-opacity:1;stroke-miterlimit:10;\" d=\"M 109.820312 258.550781 L 109.820312 255.8125 \"/>\n",
       "<path style=\"fill:none;stroke-width:1.422638;stroke-linecap:butt;stroke-linejoin:round;stroke:rgb(20%,20%,20%);stroke-opacity:1;stroke-miterlimit:10;\" d=\"M 217.757812 258.550781 L 217.757812 255.8125 \"/>\n",
       "<g style=\"fill:rgb(30.196078%,30.196078%,30.196078%);fill-opacity:1;\">\n",
       "  <use xlink:href=\"#glyph0-6\" x=\"106.953125\" y=\"267.257812\"/>\n",
       "</g>\n",
       "<g style=\"fill:rgb(30.196078%,30.196078%,30.196078%);fill-opacity:1;\">\n",
       "  <use xlink:href=\"#glyph0-7\" x=\"214.792969\" y=\"267.257812\"/>\n",
       "</g>\n",
       "<g style=\"fill:rgb(0%,0%,0%);fill-opacity:1;\">\n",
       "  <use xlink:href=\"#glyph1-1\" x=\"136.96875\" y=\"280.328125\"/>\n",
       "  <use xlink:href=\"#glyph1-2\" x=\"143.496094\" y=\"280.328125\"/>\n",
       "  <use xlink:href=\"#glyph1-3\" x=\"150.744141\" y=\"280.328125\"/>\n",
       "  <use xlink:href=\"#glyph1-4\" x=\"157.992188\" y=\"280.328125\"/>\n",
       "  <use xlink:href=\"#glyph1-5\" x=\"165.480469\" y=\"280.328125\"/>\n",
       "  <use xlink:href=\"#glyph1-6\" x=\"168.720703\" y=\"280.328125\"/>\n",
       "  <use xlink:href=\"#glyph1-5\" x=\"172.875\" y=\"280.328125\"/>\n",
       "  <use xlink:href=\"#glyph1-2\" x=\"176.115234\" y=\"280.328125\"/>\n",
       "  <use xlink:href=\"#glyph1-3\" x=\"183.363281\" y=\"280.328125\"/>\n",
       "</g>\n",
       "<g style=\"fill:rgb(0%,0%,0%);fill-opacity:1;\">\n",
       "  <use xlink:href=\"#glyph2-1\" x=\"16.359375\" y=\"144.28125\"/>\n",
       "  <use xlink:href=\"#glyph2-2\" x=\"16.359375\" y=\"140.126953\"/>\n",
       "  <use xlink:href=\"#glyph2-3\" x=\"16.359375\" y=\"133.529297\"/>\n",
       "  <use xlink:href=\"#glyph2-1\" x=\"16.359375\" y=\"127.986328\"/>\n",
       "  <use xlink:href=\"#glyph2-4\" x=\"16.359375\" y=\"123.832031\"/>\n",
       "</g>\n",
       "<path style=\" stroke:none;fill-rule:nonzero;fill:rgb(100%,100%,100%);fill-opacity:1;\" d=\"M 210.429688 6.195312 L 283.375 6.195312 L 283.375 79.859375 L 210.429688 79.859375 Z \"/>\n",
       "<g style=\"fill:rgb(0%,0%,0%);fill-opacity:1;\">\n",
       "  <use xlink:href=\"#glyph1-7\" x=\"214.679688\" y=\"19.292969\"/>\n",
       "  <use xlink:href=\"#glyph1-8\" x=\"223.703125\" y=\"19.292969\"/>\n",
       "  <use xlink:href=\"#glyph1-6\" x=\"230.300781\" y=\"19.292969\"/>\n",
       "  <use xlink:href=\"#glyph1-9\" x=\"234.455078\" y=\"19.292969\"/>\n",
       "  <use xlink:href=\"#glyph1-10\" x=\"241.28125\" y=\"19.292969\"/>\n",
       "</g>\n",
       "<path style=\"fill-rule:nonzero;fill:rgb(94.901961%,94.901961%,94.901961%);fill-opacity:1;stroke-width:1.422638;stroke-linecap:round;stroke-linejoin:round;stroke:rgb(100%,100%,100%);stroke-opacity:1;stroke-miterlimit:10;\" d=\"M 214.679688 23.769531 L 231.960938 23.769531 L 231.960938 41.050781 L 214.679688 41.050781 Z \"/>\n",
       "<path style=\"fill:none;stroke-width:1.422638;stroke-linecap:butt;stroke-linejoin:round;stroke:rgb(0%,0%,0%);stroke-opacity:1;stroke-miterlimit:10;\" d=\"M 216.410156 32.410156 L 230.234375 32.410156 \"/>\n",
       "<path style=\"fill-rule:nonzero;fill:rgb(94.901961%,94.901961%,94.901961%);fill-opacity:1;stroke-width:1.422638;stroke-linecap:round;stroke-linejoin:round;stroke:rgb(100%,100%,100%);stroke-opacity:1;stroke-miterlimit:10;\" d=\"M 214.679688 41.050781 L 231.960938 41.050781 L 231.960938 58.332031 L 214.679688 58.332031 Z \"/>\n",
       "<path style=\"fill:none;stroke-width:1.422638;stroke-linecap:butt;stroke-linejoin:round;stroke:rgb(0%,0%,0%);stroke-opacity:1;stroke-dasharray:2,2;stroke-miterlimit:10;\" d=\"M 216.410156 49.6875 L 230.234375 49.6875 \"/>\n",
       "<path style=\"fill-rule:nonzero;fill:rgb(94.901961%,94.901961%,94.901961%);fill-opacity:1;stroke-width:1.422638;stroke-linecap:round;stroke-linejoin:round;stroke:rgb(100%,100%,100%);stroke-opacity:1;stroke-miterlimit:10;\" d=\"M 214.679688 58.328125 L 231.960938 58.328125 L 231.960938 75.609375 L 214.679688 75.609375 Z \"/>\n",
       "<path style=\"fill:none;stroke-width:1.422638;stroke-linecap:butt;stroke-linejoin:round;stroke:rgb(0%,0%,0%);stroke-opacity:1;stroke-dasharray:4,2;stroke-miterlimit:10;\" d=\"M 216.410156 66.96875 L 230.234375 66.96875 \"/>\n",
       "<g style=\"fill:rgb(0%,0%,0%);fill-opacity:1;\">\n",
       "  <use xlink:href=\"#glyph0-8\" x=\"234.121094\" y=\"35.667969\"/>\n",
       "  <use xlink:href=\"#glyph0-9\" x=\"243.121094\" y=\"35.667969\"/>\n",
       "  <use xlink:href=\"#glyph0-10\" x=\"252.121094\" y=\"35.667969\"/>\n",
       "  <use xlink:href=\"#glyph0-11\" x=\"261.121094\" y=\"35.667969\"/>\n",
       "</g>\n",
       "<g style=\"fill:rgb(0%,0%,0%);fill-opacity:1;\">\n",
       "  <use xlink:href=\"#glyph0-12\" x=\"234.121094\" y=\"52.945312\"/>\n",
       "  <use xlink:href=\"#glyph0-12\" x=\"243.121094\" y=\"52.945312\"/>\n",
       "  <use xlink:href=\"#glyph0-13\" x=\"252.121094\" y=\"52.945312\"/>\n",
       "  <use xlink:href=\"#glyph0-14\" x=\"261.121094\" y=\"52.945312\"/>\n",
       "  <use xlink:href=\"#glyph0-15\" x=\"270.121094\" y=\"52.945312\"/>\n",
       "</g>\n",
       "<g style=\"fill:rgb(0%,0%,0%);fill-opacity:1;\">\n",
       "  <use xlink:href=\"#glyph0-16\" x=\"234.121094\" y=\"70.226562\"/>\n",
       "  <use xlink:href=\"#glyph0-17\" x=\"243.121094\" y=\"70.226562\"/>\n",
       "  <use xlink:href=\"#glyph0-12\" x=\"252.121094\" y=\"70.226562\"/>\n",
       "  <use xlink:href=\"#glyph0-13\" x=\"261.121094\" y=\"70.226562\"/>\n",
       "  <use xlink:href=\"#glyph0-18\" x=\"270.121094\" y=\"70.226562\"/>\n",
       "</g>\n",
       "<path style=\" stroke:none;fill-rule:nonzero;fill:rgb(100%,100%,100%);fill-opacity:1;\" d=\"M 288 0 L 576 0 L 576 288 L 288 288 Z \"/>\n",
       "<g clip-path=\"url(#clip11)\" clip-rule=\"nonzero\">\n",
       "<path style=\"fill:none;stroke-width:1.422638;stroke-linecap:round;stroke-linejoin:round;stroke:rgb(100%,100%,100%);stroke-opacity:1;stroke-miterlimit:10;\" d=\"M 288 0 L 576 0 L 576 288 L 288 288 Z \"/>\n",
       "</g>\n",
       "<g clip-path=\"url(#clip12)\" clip-rule=\"nonzero\">\n",
       "<path style=\" stroke:none;fill-rule:nonzero;fill:rgb(92.156863%,92.156863%,92.156863%);fill-opacity:1;\" d=\"M 333.058594 5.480469 L 570.519531 5.480469 L 570.519531 255.8125 L 333.058594 255.8125 Z \"/>\n",
       "</g>\n",
       "<g clip-path=\"url(#clip13)\" clip-rule=\"nonzero\">\n",
       "<path style=\"fill:none;stroke-width:0.711319;stroke-linecap:butt;stroke-linejoin:round;stroke:rgb(100%,100%,100%);stroke-opacity:1;stroke-miterlimit:10;\" d=\"M 333.058594 223.097656 L 570.519531 223.097656 \"/>\n",
       "</g>\n",
       "<g clip-path=\"url(#clip14)\" clip-rule=\"nonzero\">\n",
       "<path style=\"fill:none;stroke-width:0.711319;stroke-linecap:butt;stroke-linejoin:round;stroke:rgb(100%,100%,100%);stroke-opacity:1;stroke-miterlimit:10;\" d=\"M 333.058594 151.980469 L 570.519531 151.980469 \"/>\n",
       "</g>\n",
       "<g clip-path=\"url(#clip15)\" clip-rule=\"nonzero\">\n",
       "<path style=\"fill:none;stroke-width:0.711319;stroke-linecap:butt;stroke-linejoin:round;stroke:rgb(100%,100%,100%);stroke-opacity:1;stroke-miterlimit:10;\" d=\"M 333.058594 80.863281 L 570.519531 80.863281 \"/>\n",
       "</g>\n",
       "<g clip-path=\"url(#clip16)\" clip-rule=\"nonzero\">\n",
       "<path style=\"fill:none;stroke-width:0.711319;stroke-linecap:butt;stroke-linejoin:round;stroke:rgb(100%,100%,100%);stroke-opacity:1;stroke-miterlimit:10;\" d=\"M 333.058594 9.746094 L 570.519531 9.746094 \"/>\n",
       "</g>\n",
       "<g clip-path=\"url(#clip17)\" clip-rule=\"nonzero\">\n",
       "<path style=\"fill:none;stroke-width:1.422638;stroke-linecap:butt;stroke-linejoin:round;stroke:rgb(100%,100%,100%);stroke-opacity:1;stroke-miterlimit:10;\" d=\"M 333.058594 187.539062 L 570.519531 187.539062 \"/>\n",
       "</g>\n",
       "<g clip-path=\"url(#clip18)\" clip-rule=\"nonzero\">\n",
       "<path style=\"fill:none;stroke-width:1.422638;stroke-linecap:butt;stroke-linejoin:round;stroke:rgb(100%,100%,100%);stroke-opacity:1;stroke-miterlimit:10;\" d=\"M 333.058594 116.421875 L 570.519531 116.421875 \"/>\n",
       "</g>\n",
       "<g clip-path=\"url(#clip19)\" clip-rule=\"nonzero\">\n",
       "<path style=\"fill:none;stroke-width:1.422638;stroke-linecap:butt;stroke-linejoin:round;stroke:rgb(100%,100%,100%);stroke-opacity:1;stroke-miterlimit:10;\" d=\"M 333.058594 45.304688 L 570.519531 45.304688 \"/>\n",
       "</g>\n",
       "<g clip-path=\"url(#clip20)\" clip-rule=\"nonzero\">\n",
       "<path style=\"fill:none;stroke-width:1.422638;stroke-linecap:butt;stroke-linejoin:round;stroke:rgb(100%,100%,100%);stroke-opacity:1;stroke-miterlimit:10;\" d=\"M 377.582031 255.8125 L 377.582031 5.480469 \"/>\n",
       "</g>\n",
       "<g clip-path=\"url(#clip21)\" clip-rule=\"nonzero\">\n",
       "<path style=\"fill:none;stroke-width:1.422638;stroke-linecap:butt;stroke-linejoin:round;stroke:rgb(100%,100%,100%);stroke-opacity:1;stroke-miterlimit:10;\" d=\"M 451.789062 255.8125 L 451.789062 5.480469 \"/>\n",
       "</g>\n",
       "<g clip-path=\"url(#clip22)\" clip-rule=\"nonzero\">\n",
       "<path style=\"fill:none;stroke-width:1.422638;stroke-linecap:butt;stroke-linejoin:round;stroke:rgb(100%,100%,100%);stroke-opacity:1;stroke-miterlimit:10;\" d=\"M 525.996094 255.8125 L 525.996094 5.480469 \"/>\n",
       "</g>\n",
       "<path style=\"fill:none;stroke-width:1.422638;stroke-linecap:butt;stroke-linejoin:round;stroke:rgb(0%,0%,0%);stroke-opacity:1;stroke-miterlimit:10;\" d=\"M 377.582031 215.984375 L 451.789062 16.859375 L 525.996094 73.75 \"/>\n",
       "<path style=\"fill:none;stroke-width:1.422638;stroke-linecap:butt;stroke-linejoin:round;stroke:rgb(0%,0%,0%);stroke-opacity:1;stroke-dasharray:2,2;stroke-miterlimit:10;\" d=\"M 377.582031 244.433594 L 451.789062 130.644531 L 525.996094 187.539062 \"/>\n",
       "<g style=\"fill:rgb(30.196078%,30.196078%,30.196078%);fill-opacity:1;\">\n",
       "  <use xlink:href=\"#glyph0-1\" x=\"314.410156\" y=\"190.796875\"/>\n",
       "  <use xlink:href=\"#glyph0-2\" x=\"320.079102\" y=\"190.796875\"/>\n",
       "  <use xlink:href=\"#glyph0-3\" x=\"322.456543\" y=\"190.796875\"/>\n",
       "</g>\n",
       "<g style=\"fill:rgb(30.196078%,30.196078%,30.196078%);fill-opacity:1;\">\n",
       "  <use xlink:href=\"#glyph0-4\" x=\"314.410156\" y=\"119.679688\"/>\n",
       "  <use xlink:href=\"#glyph0-2\" x=\"320.079102\" y=\"119.679688\"/>\n",
       "  <use xlink:href=\"#glyph0-1\" x=\"322.456543\" y=\"119.679688\"/>\n",
       "</g>\n",
       "<g style=\"fill:rgb(30.196078%,30.196078%,30.196078%);fill-opacity:1;\">\n",
       "  <use xlink:href=\"#glyph0-5\" x=\"308.742188\" y=\"48.5625\"/>\n",
       "  <use xlink:href=\"#glyph0-3\" x=\"314.411133\" y=\"48.5625\"/>\n",
       "  <use xlink:href=\"#glyph0-2\" x=\"320.080078\" y=\"48.5625\"/>\n",
       "  <use xlink:href=\"#glyph0-3\" x=\"322.45752\" y=\"48.5625\"/>\n",
       "</g>\n",
       "<path style=\"fill:none;stroke-width:1.422638;stroke-linecap:butt;stroke-linejoin:round;stroke:rgb(20%,20%,20%);stroke-opacity:1;stroke-miterlimit:10;\" d=\"M 330.316406 187.539062 L 333.058594 187.539062 \"/>\n",
       "<path style=\"fill:none;stroke-width:1.422638;stroke-linecap:butt;stroke-linejoin:round;stroke:rgb(20%,20%,20%);stroke-opacity:1;stroke-miterlimit:10;\" d=\"M 330.316406 116.421875 L 333.058594 116.421875 \"/>\n",
       "<path style=\"fill:none;stroke-width:1.422638;stroke-linecap:butt;stroke-linejoin:round;stroke:rgb(20%,20%,20%);stroke-opacity:1;stroke-miterlimit:10;\" d=\"M 330.316406 45.304688 L 333.058594 45.304688 \"/>\n",
       "<path style=\"fill:none;stroke-width:1.422638;stroke-linecap:butt;stroke-linejoin:round;stroke:rgb(20%,20%,20%);stroke-opacity:1;stroke-miterlimit:10;\" d=\"M 377.582031 258.550781 L 377.582031 255.8125 \"/>\n",
       "<path style=\"fill:none;stroke-width:1.422638;stroke-linecap:butt;stroke-linejoin:round;stroke:rgb(20%,20%,20%);stroke-opacity:1;stroke-miterlimit:10;\" d=\"M 451.789062 258.550781 L 451.789062 255.8125 \"/>\n",
       "<path style=\"fill:none;stroke-width:1.422638;stroke-linecap:butt;stroke-linejoin:round;stroke:rgb(20%,20%,20%);stroke-opacity:1;stroke-miterlimit:10;\" d=\"M 525.996094 258.550781 L 525.996094 255.8125 \"/>\n",
       "<g style=\"fill:rgb(30.196078%,30.196078%,30.196078%);fill-opacity:1;\">\n",
       "  <use xlink:href=\"#glyph0-8\" x=\"359.582031\" y=\"267.257812\"/>\n",
       "  <use xlink:href=\"#glyph0-9\" x=\"368.582031\" y=\"267.257812\"/>\n",
       "  <use xlink:href=\"#glyph0-10\" x=\"377.582031\" y=\"267.257812\"/>\n",
       "  <use xlink:href=\"#glyph0-11\" x=\"386.582031\" y=\"267.257812\"/>\n",
       "</g>\n",
       "<g style=\"fill:rgb(30.196078%,30.196078%,30.196078%);fill-opacity:1;\">\n",
       "  <use xlink:href=\"#glyph0-12\" x=\"429.289062\" y=\"267.257812\"/>\n",
       "  <use xlink:href=\"#glyph0-12\" x=\"438.289062\" y=\"267.257812\"/>\n",
       "  <use xlink:href=\"#glyph0-13\" x=\"447.289062\" y=\"267.257812\"/>\n",
       "  <use xlink:href=\"#glyph0-14\" x=\"456.289062\" y=\"267.257812\"/>\n",
       "  <use xlink:href=\"#glyph0-15\" x=\"465.289062\" y=\"267.257812\"/>\n",
       "</g>\n",
       "<g style=\"fill:rgb(30.196078%,30.196078%,30.196078%);fill-opacity:1;\">\n",
       "  <use xlink:href=\"#glyph0-16\" x=\"503.496094\" y=\"267.257812\"/>\n",
       "  <use xlink:href=\"#glyph0-17\" x=\"512.496094\" y=\"267.257812\"/>\n",
       "  <use xlink:href=\"#glyph0-12\" x=\"521.496094\" y=\"267.257812\"/>\n",
       "  <use xlink:href=\"#glyph0-13\" x=\"530.496094\" y=\"267.257812\"/>\n",
       "  <use xlink:href=\"#glyph0-18\" x=\"539.496094\" y=\"267.257812\"/>\n",
       "</g>\n",
       "<g style=\"fill:rgb(0%,0%,0%);fill-opacity:1;\">\n",
       "  <use xlink:href=\"#glyph1-7\" x=\"436.265625\" y=\"280.328125\"/>\n",
       "  <use xlink:href=\"#glyph1-8\" x=\"445.289062\" y=\"280.328125\"/>\n",
       "  <use xlink:href=\"#glyph1-6\" x=\"451.886719\" y=\"280.328125\"/>\n",
       "  <use xlink:href=\"#glyph1-9\" x=\"456.041016\" y=\"280.328125\"/>\n",
       "  <use xlink:href=\"#glyph1-10\" x=\"462.867188\" y=\"280.328125\"/>\n",
       "</g>\n",
       "<g style=\"fill:rgb(0%,0%,0%);fill-opacity:1;\">\n",
       "  <use xlink:href=\"#glyph2-1\" x=\"304.359375\" y=\"144.28125\"/>\n",
       "  <use xlink:href=\"#glyph2-2\" x=\"304.359375\" y=\"140.126953\"/>\n",
       "  <use xlink:href=\"#glyph2-3\" x=\"304.359375\" y=\"133.529297\"/>\n",
       "  <use xlink:href=\"#glyph2-1\" x=\"304.359375\" y=\"127.986328\"/>\n",
       "  <use xlink:href=\"#glyph2-4\" x=\"304.359375\" y=\"123.832031\"/>\n",
       "</g>\n",
       "<path style=\" stroke:none;fill-rule:nonzero;fill:rgb(100%,100%,100%);fill-opacity:1;\" d=\"M 516.523438 2.320312 L 577.027344 2.320312 L 577.027344 58.703125 L 516.523438 58.703125 Z \"/>\n",
       "<g style=\"fill:rgb(0%,0%,0%);fill-opacity:1;\">\n",
       "  <use xlink:href=\"#glyph1-1\" x=\"520.773438\" y=\"15.417969\"/>\n",
       "  <use xlink:href=\"#glyph1-2\" x=\"527.300781\" y=\"15.417969\"/>\n",
       "  <use xlink:href=\"#glyph1-3\" x=\"534.548828\" y=\"15.417969\"/>\n",
       "  <use xlink:href=\"#glyph1-4\" x=\"541.796875\" y=\"15.417969\"/>\n",
       "  <use xlink:href=\"#glyph1-5\" x=\"549.285156\" y=\"15.417969\"/>\n",
       "  <use xlink:href=\"#glyph1-6\" x=\"552.525391\" y=\"15.417969\"/>\n",
       "  <use xlink:href=\"#glyph1-5\" x=\"556.679688\" y=\"15.417969\"/>\n",
       "  <use xlink:href=\"#glyph1-2\" x=\"559.919922\" y=\"15.417969\"/>\n",
       "  <use xlink:href=\"#glyph1-3\" x=\"567.167969\" y=\"15.417969\"/>\n",
       "</g>\n",
       "<path style=\"fill-rule:nonzero;fill:rgb(94.901961%,94.901961%,94.901961%);fill-opacity:1;stroke-width:1.422638;stroke-linecap:round;stroke-linejoin:round;stroke:rgb(100%,100%,100%);stroke-opacity:1;stroke-miterlimit:10;\" d=\"M 520.773438 19.890625 L 538.054688 19.890625 L 538.054688 37.171875 L 520.773438 37.171875 Z \"/>\n",
       "<path style=\"fill:none;stroke-width:1.422638;stroke-linecap:butt;stroke-linejoin:round;stroke:rgb(0%,0%,0%);stroke-opacity:1;stroke-miterlimit:10;\" d=\"M 522.503906 28.53125 L 536.328125 28.53125 \"/>\n",
       "<path style=\"fill-rule:nonzero;fill:rgb(94.901961%,94.901961%,94.901961%);fill-opacity:1;stroke-width:1.422638;stroke-linecap:round;stroke-linejoin:round;stroke:rgb(100%,100%,100%);stroke-opacity:1;stroke-miterlimit:10;\" d=\"M 520.773438 37.171875 L 538.054688 37.171875 L 538.054688 54.453125 L 520.773438 54.453125 Z \"/>\n",
       "<path style=\"fill:none;stroke-width:1.422638;stroke-linecap:butt;stroke-linejoin:round;stroke:rgb(0%,0%,0%);stroke-opacity:1;stroke-dasharray:2,2;stroke-miterlimit:10;\" d=\"M 522.503906 45.8125 L 536.328125 45.8125 \"/>\n",
       "<g style=\"fill:rgb(0%,0%,0%);fill-opacity:1;\">\n",
       "  <use xlink:href=\"#glyph0-6\" x=\"540.214844\" y=\"31.789062\"/>\n",
       "</g>\n",
       "<g style=\"fill:rgb(0%,0%,0%);fill-opacity:1;\">\n",
       "  <use xlink:href=\"#glyph0-7\" x=\"540.214844\" y=\"49.070312\"/>\n",
       "</g>\n",
       "</g>\n",
       "</svg>\n"
      ],
      "text/plain": [
       "plot without title"
      ]
     },
     "metadata": {
      "image/svg+xml": {
       "isolated": true
      }
     },
     "output_type": "display_data"
    }
   ],
   "source": [
    "Cairo(type = \"raster\")\n",
    "gp1 <- d3.long %>>% \n",
    "    ggplot(aes(x = condition, y = taste, group = water, linetype = water)) +\n",
    "        stat_summary(fun.y=mean, geom=\"line\") + \n",
    "        theme(legend.position = c(.85, .85))\n",
    "gp2 <- d3.long %>>% \n",
    "    ggplot(aes(x = water, y = taste, group = condition, linetype = condition)) +\n",
    "        stat_summary(fun.y=mean, geom=\"line\") +\n",
    "        theme(legend.position = c(.9, .9))\n",
    "grid.arrange(gp1, gp2, ncol = 2)\n",
    "dev.off()"
   ]
  },
  {
   "cell_type": "markdown",
   "metadata": {},
   "source": [
    "### 7.3.3 温度の違いのみに注目する（銘柄の違いを無視する）"
   ]
  },
  {
   "cell_type": "code",
   "execution_count": 66,
   "metadata": {
    "collapsed": false
   },
   "outputs": [
    {
     "data": {
      "text/plain": [
       "            Df Sum Sq Mean Sq F value Pr(>F)   \n",
       "condition    1   67.5   67.50   7.683 0.0098 **\n",
       "Residuals   28  246.0    8.79                  \n",
       "---\n",
       "Signif. codes:  0 ‘***’ 0.001 ‘**’ 0.01 ‘*’ 0.05 ‘.’ 0.1 ‘ ’ 1"
      ]
     },
     "execution_count": 66,
     "metadata": {},
     "output_type": "execute_result"
    }
   ],
   "source": [
    "aov(taste ~ condition, data = d3.long) %>>% summary()"
   ]
  },
  {
   "cell_type": "markdown",
   "metadata": {},
   "source": [
    "* 残差平方和が大きくなる\n",
    "* 残差平方和は，二元配置の場合の銘柄，銘柄:温度の交互作用，残差 の和と一致"
   ]
  },
  {
   "cell_type": "code",
   "execution_count": 67,
   "metadata": {
    "collapsed": false
   },
   "outputs": [
    {
     "data": {
      "text/html": [
       "67.5"
      ],
      "text/latex": [
       "67.5"
      ],
      "text/markdown": [
       "67.5"
      ],
      "text/plain": [
       "[1] 67.5"
      ]
     },
     "execution_count": 67,
     "metadata": {},
     "output_type": "execute_result"
    }
   ],
   "source": [
    "d3.res[[1]]$`Sum Sq`[1]"
   ]
  },
  {
   "cell_type": "code",
   "execution_count": 68,
   "metadata": {
    "collapsed": false
   },
   "outputs": [
    {
     "data": {
      "text/html": [
       "246"
      ],
      "text/latex": [
       "246"
      ],
      "text/markdown": [
       "246"
      ],
      "text/plain": [
       "[1] 246"
      ]
     },
     "execution_count": 68,
     "metadata": {},
     "output_type": "execute_result"
    }
   ],
   "source": [
    "sum(d3.res[[1]]$`Sum Sq`[2:4])"
   ]
  },
  {
   "cell_type": "markdown",
   "metadata": {},
   "source": [
    "## 7.4 二元配置分散分析(2要因とも対応あり)"
   ]
  },
  {
   "cell_type": "code",
   "execution_count": 69,
   "metadata": {
    "collapsed": false
   },
   "outputs": [
    {
     "data": {
      "text/html": [
       "<table>\n",
       "<thead><tr><th></th><th scope=col>イカアン.A</th><th scope=col>ボスビッグ.A</th><th scope=col>ビビッテル.A</th><th scope=col>イカアン.B</th><th scope=col>ボスビッグ.B</th><th scope=col>ビビッテル.B</th><th scope=col>person</th></tr></thead>\n",
       "<tbody>\n",
       "\t<tr><th scope=row>1</th><td>6   </td><td>10  </td><td>11  </td><td>5   </td><td>7   </td><td>12  </td><td>村松</td></tr>\n",
       "\t<tr><th scope=row>2</th><td>4   </td><td>8   </td><td>12  </td><td>4   </td><td>6   </td><td>8   </td><td>川崎</td></tr>\n",
       "\t<tr><th scope=row>3</th><td>5   </td><td>10  </td><td>12  </td><td>2   </td><td>5   </td><td>5   </td><td>井口</td></tr>\n",
       "\t<tr><th scope=row>4</th><td>3   </td><td>8   </td><td>10  </td><td>2   </td><td>4   </td><td>6   </td><td>松中</td></tr>\n",
       "\t<tr><th scope=row>5</th><td>2   </td><td>9   </td><td>10  </td><td>2   </td><td>3   </td><td>4   </td><td>城島</td></tr>\n",
       "</tbody>\n",
       "</table>\n"
      ],
      "text/latex": [
       "\\begin{tabular}{r|lllllll}\n",
       "  & イカアン.A & ボスビッグ.A & ビビッテル.A & イカアン.B & ボスビッグ.B & ビビッテル.B & person\\\\\n",
       "\\hline\n",
       "\t1 & 6    & 10   & 11   & 5    & 7    & 12   & 村松\\\\\n",
       "\t2 & 4    & 8    & 12   & 4    & 6    & 8    & 川崎\\\\\n",
       "\t3 & 5    & 10   & 12   & 2    & 5    & 5    & 井口\\\\\n",
       "\t4 & 3    & 8    & 10   & 2    & 4    & 6    & 松中\\\\\n",
       "\t5 & 2    & 9    & 10   & 2    & 3    & 4    & 城島\\\\\n",
       "\\end{tabular}\n"
      ],
      "text/plain": [
       "  イカアン.A ボスビッグ.A ビビッテル.A イカアン.B ボスビッグ.B ビビッテル.B\n",
       "1          6           10           11          5            7           12\n",
       "2          4            8           12          4            6            8\n",
       "3          5           10           12          2            5            5\n",
       "4          3            8           10          2            4            6\n",
       "5          2            9           10          2            3            4\n",
       "  person\n",
       "1   村松\n",
       "2   川崎\n",
       "3   井口\n",
       "4   松中\n",
       "5   城島"
      ]
     },
     "execution_count": 69,
     "metadata": {},
     "output_type": "execute_result"
    }
   ],
   "source": [
    "d4 <- d3 %>>% mutate(person = c(\"村松\",\"川崎\",\"井口\",\"松中\",\"城島\"))\n",
    "d4"
   ]
  },
  {
   "cell_type": "code",
   "execution_count": 70,
   "metadata": {
    "collapsed": false
   },
   "outputs": [
    {
     "name": "stdout",
     "output_type": "stream",
     "text": [
      "Classes ‘tbl_df’, ‘tbl’ and 'data.frame':\t30 obs. of  4 variables:\n",
      " $ person   : chr  \"村松\" \"川崎\" \"井口\" \"松中\" ...\n",
      " $ water    : chr  \"イカアン\" \"イカアン\" \"イカアン\" \"イカアン\" ...\n",
      " $ condition: chr  \"A\" \"A\" \"A\" \"A\" ...\n",
      " $ taste    : int  6 4 5 3 2 10 8 10 8 9 ...\n"
     ]
    }
   ],
   "source": [
    "d4.long <- d4 %>>% \n",
    "    gather(key, taste, -person) %>>% \n",
    "    separate(key, into = c(\"water\", \"condition\"), sep = \"\\\\.\")\n",
    "str(d4.long)"
   ]
  },
  {
   "cell_type": "code",
   "execution_count": 71,
   "metadata": {
    "collapsed": false
   },
   "outputs": [
    {
     "data": {
      "text/plain": [
       "\n",
       "Error: person\n",
       "          Df Sum Sq Mean Sq F value Pr(>F)\n",
       "Residuals  4     45   11.25               \n",
       "\n",
       "Error: person:condition\n",
       "          Df Sum Sq Mean Sq F value Pr(>F)  \n",
       "condition  1   67.5   67.50      18 0.0132 *\n",
       "Residuals  4   15.0    3.75                 \n",
       "---\n",
       "Signif. codes:  0 ‘***’ 0.001 ‘**’ 0.01 ‘*’ 0.05 ‘.’ 0.1 ‘ ’ 1\n",
       "\n",
       "Error: person:water\n",
       "          Df Sum Sq Mean Sq F value   Pr(>F)    \n",
       "water      2    155    77.5     155 4.01e-07 ***\n",
       "Residuals  8      4     0.5                     \n",
       "---\n",
       "Signif. codes:  0 ‘***’ 0.001 ‘**’ 0.01 ‘*’ 0.05 ‘.’ 0.1 ‘ ’ 1\n",
       "\n",
       "Error: person:condition:water\n",
       "                Df Sum Sq Mean Sq F value Pr(>F)  \n",
       "condition:water  2     15     7.5       5  0.039 *\n",
       "Residuals        8     12     1.5                 \n",
       "---\n",
       "Signif. codes:  0 ‘***’ 0.001 ‘**’ 0.01 ‘*’ 0.05 ‘.’ 0.1 ‘ ’ 1"
      ]
     },
     "execution_count": 71,
     "metadata": {},
     "output_type": "execute_result"
    }
   ],
   "source": [
    "aov(taste ~ condition*water + Error(person + person:condition + person:water + person:condition:water), data = d4.long) %>>% summary"
   ]
  },
  {
   "cell_type": "markdown",
   "metadata": {},
   "source": [
    "## 7.5 二元配置分散分析(1要因のみ対応あり)"
   ]
  },
  {
   "cell_type": "code",
   "execution_count": 72,
   "metadata": {
    "collapsed": false
   },
   "outputs": [
    {
     "name": "stdout",
     "output_type": "stream",
     "text": [
      "Observations: 30\n",
      "Variables: 4\n",
      "$ person    (chr) \"村松\", \"川崎\", \"井口\", \"松中\", \"城島\", \"村松\", \"川崎\", \"井口\", \"松中\", \"城島...\n",
      "$ water     (chr) \"イカアン\", \"イカアン\", \"イカアン\", \"イカアン\", \"イカアン\", \"ボスビッグ\", \"ボスビッグ\",...\n",
      "$ condition (chr) \"A\", \"A\", \"A\", \"A\", \"A\", \"A\", \"A\", \"A\", \"A\", \"A\", \"A\", \"A...\n",
      "$ taste     (int) 6, 4, 5, 3, 2, 10, 8, 10, 8, 9, 11, 12, 12, 10, 10, 5, 4,...\n"
     ]
    }
   ],
   "source": [
    "d5 <- c(\"A\", \"B\") %>>% \n",
    "    lapply(function(x){\n",
    "        switch(x, \n",
    "              \"A\" = {person <- c(\"村松\",\"川崎\",\"井口\",\"松中\",\"城島\")}, \n",
    "              \"B\" = {person <- c(\"斉藤\",\"和田\",\"寺原\",\"杉内\",\"新垣\")})\n",
    "        d3 %>>% \n",
    "            select(ends_with(x)) %>>% \n",
    "            mutate(person = person) %>>%\n",
    "            gather(key, taste, -person) %>>% \n",
    "            separate(key, into = c(\"water\", \"condition\"))\n",
    "    }) %>>% \n",
    "    bind_rows \n",
    "glimpse(d5)"
   ]
  },
  {
   "cell_type": "code",
   "execution_count": 73,
   "metadata": {
    "collapsed": false
   },
   "outputs": [
    {
     "name": "stderr",
     "output_type": "stream",
     "text": [
      "Warning message:\n",
      "In aov(taste ~ condition * water + Error(person:condition + person:condition:water), : Error() model is singular"
     ]
    },
    {
     "data": {
      "text/plain": [
       "\n",
       "Error: person:condition\n",
       "          Df Sum Sq Mean Sq F value Pr(>F)  \n",
       "condition  1   67.5    67.5       9 0.0171 *\n",
       "Residuals  8   60.0     7.5                 \n",
       "---\n",
       "Signif. codes:  0 ‘***’ 0.001 ‘**’ 0.01 ‘*’ 0.05 ‘.’ 0.1 ‘ ’ 1\n",
       "\n",
       "Error: person:condition:water\n",
       "                Df Sum Sq Mean Sq F value   Pr(>F)    \n",
       "water            2    155    77.5    77.5 5.87e-09 ***\n",
       "condition:water  2     15     7.5     7.5  0.00504 ** \n",
       "Residuals       16     16     1.0                     \n",
       "---\n",
       "Signif. codes:  0 ‘***’ 0.001 ‘**’ 0.01 ‘*’ 0.05 ‘.’ 0.1 ‘ ’ 1"
      ]
     },
     "execution_count": 73,
     "metadata": {},
     "output_type": "execute_result"
    }
   ],
   "source": [
    "aov(taste ~ condition * water + Error(person:condition + person:condition:water), data = d5) %>>% summary"
   ]
  },
  {
   "cell_type": "code",
   "execution_count": 74,
   "metadata": {
    "collapsed": false,
    "scrolled": true
   },
   "outputs": [
    {
     "name": "stderr",
     "output_type": "stream",
     "text": [
      "Warning message:\n",
      "In aov(taste ~ condition * water + Error(person + person:condition + : Error() model is singular"
     ]
    },
    {
     "data": {
      "text/plain": [
       "\n",
       "Error: person\n",
       "          Df Sum Sq Mean Sq F value Pr(>F)  \n",
       "condition  1   67.5    67.5       9 0.0171 *\n",
       "Residuals  8   60.0     7.5                 \n",
       "---\n",
       "Signif. codes:  0 ‘***’ 0.001 ‘**’ 0.01 ‘*’ 0.05 ‘.’ 0.1 ‘ ’ 1\n",
       "\n",
       "Error: person:water\n",
       "                Df Sum Sq Mean Sq F value   Pr(>F)    \n",
       "water            2    155    77.5    77.5 5.87e-09 ***\n",
       "condition:water  2     15     7.5     7.5  0.00504 ** \n",
       "Residuals       16     16     1.0                     \n",
       "---\n",
       "Signif. codes:  0 ‘***’ 0.001 ‘**’ 0.01 ‘*’ 0.05 ‘.’ 0.1 ‘ ’ 1"
      ]
     },
     "execution_count": 74,
     "metadata": {},
     "output_type": "execute_result"
    }
   ],
   "source": [
    "aov(taste ~ condition * water + Error(person + person:condition + person:water + person:condition:water), data = d5) %>>% summary"
   ]
  },
  {
   "cell_type": "markdown",
   "metadata": {},
   "source": [
    "## 練習問題\n",
    "### (1)"
   ]
  },
  {
   "cell_type": "code",
   "execution_count": 75,
   "metadata": {
    "collapsed": false
   },
   "outputs": [
    {
     "data": {
      "text/html": [
       "<table>\n",
       "<thead><tr><th></th><th scope=col>X1</th><th scope=col>X2</th><th scope=col>X3</th><th scope=col>X4</th><th scope=col>X5</th><th scope=col>X6</th><th scope=col>X7</th><th scope=col>X8</th><th scope=col>X9</th></tr></thead>\n",
       "<tbody>\n",
       "\t<tr><th scope=row>1</th><td>法学部</td><td>75    </td><td>61    </td><td>68    </td><td>58    </td><td>66    </td><td>55    </td><td>65    </td><td>63    </td></tr>\n",
       "\t<tr><th scope=row>2</th><td>文学部</td><td>62    </td><td>60    </td><td>66    </td><td>63    </td><td>55    </td><td>53    </td><td>59    </td><td>63    </td></tr>\n",
       "\t<tr><th scope=row>3</th><td>理学部</td><td>65    </td><td>60    </td><td>78    </td><td>52    </td><td>59    </td><td>66    </td><td>73    </td><td>64    </td></tr>\n",
       "\t<tr><th scope=row>4</th><td>工学部</td><td>52    </td><td>59    </td><td>44    </td><td>67    </td><td>47    </td><td>53    </td><td>58    </td><td>49    </td></tr>\n",
       "</tbody>\n",
       "</table>\n"
      ],
      "text/latex": [
       "\\begin{tabular}{r|lllllllll}\n",
       "  & X1 & X2 & X3 & X4 & X5 & X6 & X7 & X8 & X9\\\\\n",
       "\\hline\n",
       "\t1 & 法学部 & 75     & 61     & 68     & 58     & 66     & 55     & 65     & 63    \\\\\n",
       "\t2 & 文学部 & 62     & 60     & 66     & 63     & 55     & 53     & 59     & 63    \\\\\n",
       "\t3 & 理学部 & 65     & 60     & 78     & 52     & 59     & 66     & 73     & 64    \\\\\n",
       "\t4 & 工学部 & 52     & 59     & 44     & 67     & 47     & 53     & 58     & 49    \\\\\n",
       "\\end{tabular}\n"
      ],
      "text/plain": [
       "      X1 X2 X3 X4 X5 X6 X7 X8 X9\n",
       "1 法学部 75 61 68 58 66 55 65 63\n",
       "2 文学部 62 60 66 63 55 53 59 63\n",
       "3 理学部 65 60 78 52 59 66 73 64\n",
       "4 工学部 52 59 44 67 47 53 58 49"
      ]
     },
     "execution_count": 75,
     "metadata": {},
     "output_type": "execute_result"
    }
   ],
   "source": [
    "d.ex1 <- read_csv(\"chap07_ex1.csv\", locale = locale(encoding = \"cp932\"), col_names = FALSE)\n",
    "d.ex1"
   ]
  },
  {
   "cell_type": "code",
   "execution_count": 76,
   "metadata": {
    "collapsed": false
   },
   "outputs": [
    {
     "data": {
      "text/plain": [
       "            Df Sum Sq Mean Sq F value Pr(>F)  \n",
       "fuculty      3  606.4  202.13   4.515 0.0105 *\n",
       "Residuals   28 1253.5   44.77                 \n",
       "---\n",
       "Signif. codes:  0 ‘***’ 0.001 ‘**’ 0.01 ‘*’ 0.05 ‘.’ 0.1 ‘ ’ 1"
      ]
     },
     "execution_count": 76,
     "metadata": {},
     "output_type": "execute_result"
    }
   ],
   "source": [
    "d.ex1 %>>% \n",
    "    (function(x){\n",
    "        faculty <- x[[1]]\n",
    "        ret <- x[,-1] %>>% t %>>% data.frame\n",
    "        names(ret) <- faculty\n",
    "        ret\n",
    "    })() %>>%\n",
    "     gather(fuculty, point) %>>%\n",
    "    (~ d.ex1.long) %>>%\n",
    "     {aov(point ~ fuculty, data = .)} %>>%\n",
    "     summary"
   ]
  },
  {
   "cell_type": "code",
   "execution_count": 77,
   "metadata": {
    "collapsed": false
   },
   "outputs": [
    {
     "data": {
      "text/plain": [
       "  Tukey multiple comparisons of means\n",
       "    95% family-wise confidence level\n",
       "\n",
       "Fit: aov(formula = point ~ fuculty, data = d.ex1.long)\n",
       "\n",
       "$fuculty\n",
       "               diff       lwr       upr     p adj\n",
       "文学部-工学部  6.50 -2.634092 15.634092 0.2337032\n",
       "法学部-工学部 10.25  1.115908 19.384092 0.0233773\n",
       "理学部-工学部 11.00  1.865908 20.134092 0.0136621\n",
       "法学部-文学部  3.75 -5.384092 12.884092 0.6799312\n",
       "理学部-文学部  4.50 -4.634092 13.634092 0.5430095\n",
       "理学部-法学部  0.75 -8.384092  9.884092 0.9959313\n"
      ]
     },
     "execution_count": 77,
     "metadata": {},
     "output_type": "execute_result"
    }
   ],
   "source": [
    "aov(point ~ fuculty, data = d.ex1.long) %>>% TukeyHSD"
   ]
  },
  {
   "cell_type": "markdown",
   "metadata": {},
   "source": [
    "### （2）"
   ]
  },
  {
   "cell_type": "code",
   "execution_count": 78,
   "metadata": {
    "collapsed": false
   },
   "outputs": [
    {
     "data": {
      "text/html": [
       "<table>\n",
       "<thead><tr><th></th><th scope=col>X1</th><th scope=col>X2</th><th scope=col>X3</th><th scope=col>X4</th><th scope=col>X5</th><th scope=col>X6</th><th scope=col>X7</th><th scope=col>X8</th></tr></thead>\n",
       "<tbody>\n",
       "\t<tr><th scope=row>1</th><td>学生</td><td>森本</td><td>田中</td><td>稲葉</td><td>瀬木</td><td>高橋</td><td>工藤</td><td>金子</td></tr>\n",
       "\t<tr><th scope=row>2</th><td>講義</td><td>51  </td><td>66  </td><td>70  </td><td>75  </td><td>73  </td><td>62  </td><td>55  </td></tr>\n",
       "\t<tr><th scope=row>3</th><td>問題</td><td>47  </td><td>54  </td><td>55  </td><td>39  </td><td>60  </td><td>62  </td><td>56  </td></tr>\n",
       "\t<tr><th scope=row>4</th><td>実習</td><td>55  </td><td>37  </td><td>47  </td><td>60  </td><td>62  </td><td>53  </td><td>50  </td></tr>\n",
       "</tbody>\n",
       "</table>\n"
      ],
      "text/latex": [
       "\\begin{tabular}{r|llllllll}\n",
       "  & X1 & X2 & X3 & X4 & X5 & X6 & X7 & X8\\\\\n",
       "\\hline\n",
       "\t1 & 学生 & 森本 & 田中 & 稲葉 & 瀬木 & 高橋 & 工藤 & 金子\\\\\n",
       "\t2 & 講義 & 51   & 66   & 70   & 75   & 73   & 62   & 55  \\\\\n",
       "\t3 & 問題 & 47   & 54   & 55   & 39   & 60   & 62   & 56  \\\\\n",
       "\t4 & 実習 & 55   & 37   & 47   & 60   & 62   & 53   & 50  \\\\\n",
       "\\end{tabular}\n"
      ],
      "text/plain": [
       "    X1   X2   X3   X4   X5   X6   X7   X8\n",
       "1 学生 森本 田中 稲葉 瀬木 高橋 工藤 金子\n",
       "2 講義   51   66   70   75   73   62   55\n",
       "3 問題   47   54   55   39   60   62   56\n",
       "4 実習   55   37   47   60   62   53   50"
      ]
     },
     "execution_count": 78,
     "metadata": {},
     "output_type": "execute_result"
    }
   ],
   "source": [
    "d.ex2 <- read_csv(\"chap07_ex2.csv\", locale = locale(encoding = \"cp932\"), col_names = FALSE, col_types = \"cccccccc\")\n",
    "d.ex2"
   ]
  },
  {
   "cell_type": "code",
   "execution_count": 79,
   "metadata": {
    "collapsed": false
   },
   "outputs": [
    {
     "data": {
      "text/plain": [
       "            Df Sum Sq Mean Sq F value Pr(>F)  \n",
       "type         2  669.8   334.9   4.535 0.0341 *\n",
       "student      6  411.0    68.5   0.927 0.5093  \n",
       "Residuals   12  886.2    73.8                 \n",
       "---\n",
       "Signif. codes:  0 ‘***’ 0.001 ‘**’ 0.01 ‘*’ 0.05 ‘.’ 0.1 ‘ ’ 1"
      ]
     },
     "execution_count": 79,
     "metadata": {},
     "output_type": "execute_result"
    }
   ],
   "source": [
    "d.ex2 %>>%\n",
    "    (function(x){\n",
    "        header <- x[[1]]\n",
    "        student <- x[1,] %>>% unlist\n",
    "        ret <- x[-1,-1] %>>% t %>>% apply(2, as.numeric) %>>% data.frame()\n",
    "        ret[[student[1]]] <- student[2:length(student)]\n",
    "        ret <- ret[c(4, 1:3)]\n",
    "        names(ret) <- header\n",
    "        ret\n",
    "    })() %>>%\n",
    "    gather(type, point, -学生) %>>% \n",
    "    rename(\"student\" = 学生) %>>%\n",
    "    (~ d.ex2.long) %>>% \n",
    "    {aov(point ~ type + student, data = .)} %>>%\n",
    "    summary"
   ]
  },
  {
   "cell_type": "code",
   "execution_count": 80,
   "metadata": {
    "collapsed": false
   },
   "outputs": [
    {
     "data": {
      "text/plain": [
       "  Tukey multiple comparisons of means\n",
       "    95% family-wise confidence level\n",
       "\n",
       "Fit: aov(formula = point ~ type + student, data = d.ex2.long)\n",
       "\n",
       "$type\n",
       "                diff       lwr        upr     p adj\n",
       "実習-講義 -12.571429 -24.82612 -0.3167331 0.0442785\n",
       "問題-講義 -11.285714 -23.54041  0.9689812 0.0721975\n",
       "問題-実習   1.285714 -10.96898 13.5404098 0.9578818\n",
       "\n",
       "$student\n",
       "                 diff       lwr      upr     p adj\n",
       "金子-稲葉  -3.6666667 -28.22404 20.89070 0.9979070\n",
       "工藤-稲葉   1.6666667 -22.89070 26.22404 0.9999774\n",
       "高橋-稲葉   7.6666667 -16.89070 32.22404 0.9187528\n",
       "森本-稲葉  -6.3333333 -30.89070 18.22404 0.9651589\n",
       "瀬木-稲葉   0.6666667 -23.89070 25.22404 0.9999999\n",
       "田中-稲葉  -5.0000000 -29.55737 19.55737 0.9890754\n",
       "工藤-金子   5.3333333 -19.22404 29.89070 0.9848506\n",
       "高橋-金子  11.3333333 -13.22404 35.89070 0.6766509\n",
       "森本-金子  -2.6666667 -27.22404 21.89070 0.9996513\n",
       "瀬木-金子   4.3333333 -20.22404 28.89070 0.9948269\n",
       "田中-金子  -1.3333333 -25.89070 23.22404 0.9999940\n",
       "高橋-工藤   6.0000000 -18.55737 30.55737 0.9730161\n",
       "森本-工藤  -8.0000000 -32.55737 16.55737 0.9032053\n",
       "瀬木-工藤  -1.0000000 -25.55737 23.55737 0.9999989\n",
       "田中-工藤  -6.6666667 -31.22404 17.89070 0.9558698\n",
       "森本-高橋 -14.0000000 -38.55737 10.55737 0.4633150\n",
       "瀬木-高橋  -7.0000000 -31.55737 17.55737 0.9450707\n",
       "田中-高橋 -12.6666667 -37.22404 11.89070 0.5682600\n",
       "瀬木-森本   7.0000000 -17.55737 31.55737 0.9450707\n",
       "田中-森本   1.3333333 -23.22404 25.89070 0.9999940\n",
       "田中-瀬木  -5.6666667 -30.22404 18.89070 0.9795409\n"
      ]
     },
     "execution_count": 80,
     "metadata": {},
     "output_type": "execute_result"
    }
   ],
   "source": [
    "aov(point ~ type + student, data = d.ex2.long) %>>% TukeyHSD"
   ]
  },
  {
   "cell_type": "code",
   "execution_count": 81,
   "metadata": {
    "collapsed": false
   },
   "outputs": [
    {
     "name": "stderr",
     "output_type": "stream",
     "text": [
      "Session info -------------------------------------------------------------------\n",
      "Packages -----------------------------------------------------------------------\n",
      "Session info -------------------------------------------------------------------\n",
      "Packages -----------------------------------------------------------------------\n"
     ]
    },
    {
     "data": {
      "text/plain": [
       " setting  value                       \n",
       " version  R version 3.2.3 (2015-12-10)\n",
       " system   x86_64, darwin13.4.0        \n",
       " ui       X11                         \n",
       " language (EN)                        \n",
       " collate  ja_JP.UTF-8                 \n",
       " tz       Asia/Tokyo                  \n",
       " date     2016-06-06                  \n",
       "\n",
       " package    * version date       source        \n",
       " assertthat   0.1     2013-12-06 CRAN (R 3.2.0)\n",
       " base64enc    0.1-3   2015-07-28 CRAN (R 3.2.0)\n",
       " Cairo      * 1.5-9   2015-09-26 CRAN (R 3.2.0)\n",
       " chron        2.3-47  2015-06-24 CRAN (R 3.2.0)\n",
       " colorspace   1.2-6   2015-03-11 CRAN (R 3.2.0)\n",
       " data.table   1.9.6   2015-09-19 CRAN (R 3.2.0)\n",
       " DBI          0.4-1   2016-05-08 CRAN (R 3.2.5)\n",
       " devtools     1.11.1  2016-04-21 CRAN (R 3.2.5)\n",
       " digest       0.6.9   2016-01-08 CRAN (R 3.2.2)\n",
       " dplyr      * 0.4.3   2015-09-01 CRAN (R 3.2.0)\n",
       " evaluate     0.9     2016-04-29 CRAN (R 3.2.5)\n",
       " ggplot2    * 2.1.0   2016-03-01 CRAN (R 3.2.4)\n",
       " gridExtra  * 2.2.1   2016-02-29 CRAN (R 3.2.4)\n",
       " gtable       0.2.0   2016-02-26 CRAN (R 3.2.3)\n",
       " IRdisplay    0.3     2016-05-14 local         \n",
       " IRkernel     0.5     2016-05-14 local         \n",
       " jsonlite     0.9.20  2016-05-10 CRAN (R 3.2.5)\n",
       " labeling     0.3     2014-08-23 CRAN (R 3.2.0)\n",
       " lazyeval     0.1.10  2015-01-02 CRAN (R 3.2.0)\n",
       " magrittr     1.5     2014-11-22 CRAN (R 3.2.0)\n",
       " memoise      1.0.0   2016-01-29 CRAN (R 3.2.3)\n",
       " munsell      0.4.3   2016-02-13 CRAN (R 3.2.3)\n",
       " pipeR      * 0.6.1.3 2016-04-04 CRAN (R 3.2.4)\n",
       " plyr         1.8.3   2015-06-12 CRAN (R 3.2.0)\n",
       " purrr      * 0.2.1   2016-02-13 CRAN (R 3.2.3)\n",
       " R6           2.1.2   2016-01-26 CRAN (R 3.2.3)\n",
       " Rcpp         0.12.4  2016-03-26 CRAN (R 3.2.4)\n",
       " readr      * 0.2.2   2015-10-22 CRAN (R 3.2.0)\n",
       " readxl     * 0.1.1   2016-03-28 CRAN (R 3.2.4)\n",
       " repr         0.7     2016-05-13 CRAN (R 3.2.3)\n",
       " rlist      * 0.4.6.1 2016-04-04 CRAN (R 3.2.4)\n",
       " rzmq         0.7.7   2016-05-14 local         \n",
       " scales       0.4.0   2016-02-26 CRAN (R 3.2.3)\n",
       " stringi      1.0-1   2015-10-22 CRAN (R 3.2.0)\n",
       " stringr      1.0.0   2015-04-30 CRAN (R 3.2.0)\n",
       " tidyr      * 0.4.1   2016-02-05 CRAN (R 3.2.3)\n",
       " uuid         0.1-2   2015-07-28 CRAN (R 3.2.0)\n",
       " withr        1.0.1   2016-02-04 CRAN (R 3.2.3)"
      ]
     },
     "execution_count": 81,
     "metadata": {},
     "output_type": "execute_result"
    }
   ],
   "source": [
    "devtools::session_info()"
   ]
  }
 ],
 "metadata": {
  "kernelspec": {
   "display_name": "R",
   "language": "R",
   "name": "ir"
  },
  "language_info": {
   "codemirror_mode": "r",
   "file_extension": ".r",
   "mimetype": "text/x-r-source",
   "name": "R",
   "pygments_lexer": "r",
   "version": "3.2.3"
  }
 },
 "nbformat": 4,
 "nbformat_minor": 0
}
