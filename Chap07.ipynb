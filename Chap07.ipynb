{
 "cells": [
  {
   "cell_type": "markdown",
   "metadata": {},
   "source": [
    "# 第I部\n",
    "# 第6章 2つの平均値を比較する"
   ]
  },
  {
   "cell_type": "code",
   "execution_count": 1,
   "metadata": {
    "collapsed": false
   },
   "outputs": [
    {
     "name": "stderr",
     "output_type": "stream",
     "text": [
      "Loading required package: pipeR\n",
      "Loading required package: dplyr\n",
      "\n",
      "Attaching package: 'dplyr'\n",
      "\n",
      "The following objects are masked from 'package:stats':\n",
      "\n",
      "    filter, lag\n",
      "\n",
      "The following objects are masked from 'package:base':\n",
      "\n",
      "    intersect, setdiff, setequal, union\n",
      "\n",
      "Loading required package: tidyr\n",
      "Loading required package: ggplot2\n",
      "Loading required package: readr\n",
      "Loading required package: readxl\n"
     ]
    },
    {
     "data": {
      "text/html": [
       "<ol>\n",
       "\t<li>TRUE</li>\n",
       "\t<li>TRUE</li>\n",
       "\t<li>TRUE</li>\n",
       "\t<li>TRUE</li>\n",
       "\t<li>TRUE</li>\n",
       "\t<li>TRUE</li>\n",
       "</ol>\n"
      ],
      "text/latex": [
       "\\begin{enumerate}\n",
       "\\item TRUE\n",
       "\\item TRUE\n",
       "\\item TRUE\n",
       "\\item TRUE\n",
       "\\item TRUE\n",
       "\\item TRUE\n",
       "\\end{enumerate}\n"
      ],
      "text/markdown": [
       "1. TRUE\n",
       "2. TRUE\n",
       "3. TRUE\n",
       "4. TRUE\n",
       "5. TRUE\n",
       "6. TRUE\n",
       "\n",
       "\n"
      ],
      "text/plain": [
       "[[1]]\n",
       "[1] TRUE\n",
       "\n",
       "[[2]]\n",
       "[1] TRUE\n",
       "\n",
       "[[3]]\n",
       "[1] TRUE\n",
       "\n",
       "[[4]]\n",
       "[1] TRUE\n",
       "\n",
       "[[5]]\n",
       "[1] TRUE\n",
       "\n",
       "[[6]]\n",
       "[1] TRUE\n"
      ]
     },
     "metadata": {},
     "output_type": "display_data"
    }
   ],
   "source": [
    "pkgs <- c(\"pipeR\", \"dplyr\", \"tidyr\", \"ggplot2\", \"readr\", \"readxl\")\n",
    "lapply(pkgs, require, character.only = TRUE)"
   ]
  },
  {
   "cell_type": "code",
   "execution_count": 2,
   "metadata": {
    "collapsed": false
   },
   "outputs": [
    {
     "data": {
      "text/html": [
       "<table>\n",
       "<thead><tr><th></th><th scope=col>ID</th><th scope=col>名前</th><th scope=col>性別</th><th scope=col>数学</th><th scope=col>統計</th><th scope=col>心理学テスト</th><th scope=col>統計テスト1</th><th scope=col>統計テスト2</th><th scope=col>指導法</th></tr></thead>\n",
       "<tbody>\n",
       "\t<tr><th scope=row>1</th><td>1</td><td>大村</td><td>男</td><td>嫌い</td><td>好き</td><td>13</td><td>6</td><td>10</td><td>C</td></tr>\n",
       "\t<tr><th scope=row>2</th><td>2</td><td>本多</td><td>男</td><td>嫌い</td><td>好き</td><td>14</td><td>10</td><td>13</td><td>B</td></tr>\n",
       "\t<tr><th scope=row>3</th><td>3</td><td>川崎</td><td>男</td><td>好き</td><td>好き</td><td>7</td><td>6</td><td>8</td><td>B</td></tr>\n",
       "\t<tr><th scope=row>4</th><td>4</td><td>多村</td><td>男</td><td>好き</td><td>好き</td><td>12</td><td>10</td><td>15</td><td>A</td></tr>\n",
       "\t<tr><th scope=row>5</th><td>5</td><td>松中</td><td>男</td><td>嫌い</td><td>嫌い</td><td>10</td><td>5</td><td>8</td><td>B</td></tr>\n",
       "\t<tr><th scope=row>6</th><td>6</td><td>小久保</td><td>男</td><td>嫌い</td><td>嫌い</td><td>6</td><td>3</td><td>6</td><td>C</td></tr>\n",
       "</tbody>\n",
       "</table>\n"
      ],
      "text/latex": [
       "\\begin{tabular}{r|lllllllll}\n",
       "  & ID & 名前 & 性別 & 数学 & 統計 & 心理学テスト & 統計テスト1 & 統計テスト2 & 指導法\\\\\n",
       "\\hline\n",
       "\t1 & 1 & 大村 & 男 & 嫌い & 好き & 13 & 6 & 10 & C\\\\\n",
       "\t2 & 2 & 本多 & 男 & 嫌い & 好き & 14 & 10 & 13 & B\\\\\n",
       "\t3 & 3 & 川崎 & 男 & 好き & 好き & 7 & 6 & 8 & B\\\\\n",
       "\t4 & 4 & 多村 & 男 & 好き & 好き & 12 & 10 & 15 & A\\\\\n",
       "\t5 & 5 & 松中 & 男 & 嫌い & 嫌い & 10 & 5 & 8 & B\\\\\n",
       "\t6 & 6 & 小久保 & 男 & 嫌い & 嫌い & 6 & 3 & 6 & C\\\\\n",
       "\\end{tabular}\n"
      ],
      "text/plain": [
       "Source: local data frame [6 x 9]\n",
       "\n",
       "     ID   名前  性別  数学  統計 心理学テスト 統計テスト1 統計テスト2 指導法\n",
       "  (int)  (chr) (chr) (chr) (chr)        (int)       (int)       (int)  (chr)\n",
       "1     1   大村    男  嫌い  好き           13           6          10      C\n",
       "2     2   本多    男  嫌い  好き           14          10          13      B\n",
       "3     3   川崎    男  好き  好き            7           6           8      B\n",
       "4     4   多村    男  好き  好き           12          10          15      A\n",
       "5     5   松中    男  嫌い  嫌い           10           5           8      B\n",
       "6     6 小久保    男  嫌い  嫌い            6           3           6      C"
      ]
     },
     "metadata": {},
     "output_type": "display_data"
    }
   ],
   "source": [
    "d <- read_csv(\"teaching_methods.csv\")\n",
    "head(d)"
   ]
  },
  {
   "cell_type": "code",
   "execution_count": 3,
   "metadata": {
    "collapsed": false
   },
   "outputs": [
    {
     "name": "stdout",
     "output_type": "stream",
     "text": [
      "Classes 'tbl_df', 'tbl' and 'data.frame':\t20 obs. of  9 variables:\n",
      " $ ID          : int  1 2 3 4 5 6 7 8 9 10 ...\n",
      " $ 名前        : chr  \"大村\" \"本多\" \"川崎\" \"多村\" ...\n",
      " $ 性別        : chr  \"男\" \"男\" \"男\" \"男\" ...\n",
      " $ 数学        : chr  \"嫌い\" \"嫌い\" \"好き\" \"好き\" ...\n",
      " $ 統計        : chr  \"好き\" \"好き\" \"好き\" \"好き\" ...\n",
      " $ 心理学テスト: int  13 14 7 12 10 6 8 15 4 14 ...\n",
      " $ 統計テスト1 : int  6 10 6 10 5 3 5 9 3 3 ...\n",
      " $ 統計テスト2 : int  10 13 8 15 8 6 9 10 7 3 ...\n",
      " $ 指導法      : chr  \"C\" \"B\" \"B\" \"A\" ...\n"
     ]
    }
   ],
   "source": [
    "str(d)"
   ]
  },
  {
   "cell_type": "code",
   "execution_count": 4,
   "metadata": {
    "collapsed": true
   },
   "outputs": [],
   "source": [
    "names(d) <- c(\"id\", \"name\", \"sex\",\"math\", \"stat\", \"psy_test\", \"stat_test1\", \"stat_test2\", \"teaching_method\")"
   ]
  },
  {
   "cell_type": "code",
   "execution_count": 5,
   "metadata": {
    "collapsed": false
   },
   "outputs": [],
   "source": [
    "library(rlist)"
   ]
  },
  {
   "cell_type": "code",
   "execution_count": 6,
   "metadata": {
    "collapsed": false
   },
   "outputs": [
    {
     "name": "stderr",
     "output_type": "stream",
     "text": [
      "\n",
      "Attaching package: 'purrr'\n",
      "\n",
      "The following object is masked from 'package:dplyr':\n",
      "\n",
      "    order_by\n",
      "\n"
     ]
    }
   ],
   "source": [
    "library(purrr)"
   ]
  },
  {
   "cell_type": "markdown",
   "metadata": {},
   "source": [
    "* 指導法ごとの統計テスト2の点数"
   ]
  },
  {
   "cell_type": "code",
   "execution_count": 7,
   "metadata": {
    "collapsed": false
   },
   "outputs": [
    {
     "data": {
      "text/html": [
       "<table>\n",
       "<thead><tr><th scope=col>A</th><th scope=col>B</th><th scope=col>C</th><th scope=col>D</th></tr></thead>\n",
       "<tbody>\n",
       "\t<tr><td>15</td><td>13</td><td>10</td><td>10</td></tr>\n",
       "\t<tr><td>9</td><td>8</td><td>6</td><td>7</td></tr>\n",
       "\t<tr><td>18</td><td> 8</td><td>11</td><td> 3</td></tr>\n",
       "\t<tr><td>14</td><td>12</td><td> 7</td><td> 5</td></tr>\n",
       "\t<tr><td>18</td><td> 7</td><td>12</td><td> 7</td></tr>\n",
       "</tbody>\n",
       "</table>\n"
      ],
      "text/latex": [
       "\\begin{tabular}{llll}\n",
       " A & B & C & D\\\\\n",
       "\\hline\n",
       "\t 15 & 13 & 10 & 10\\\\\n",
       "\t 9 & 8 & 6 & 7\\\\\n",
       "\t 18 &  8 & 11 &  3\\\\\n",
       "\t 14 & 12 &  7 &  5\\\\\n",
       "\t 18 &  7 & 12 &  7\\\\\n",
       "\\end{tabular}\n"
      ],
      "text/markdown": [
       "1. 15\n",
       "2. 9\n",
       "3. 18\n",
       "4. 14\n",
       "5. 18\n",
       "6. 13\n",
       "7. 8\n",
       "8. 8\n",
       "9. 12\n",
       "10. 7\n",
       "11. 10\n",
       "12. 6\n",
       "13. 11\n",
       "14. 7\n",
       "15. 12\n",
       "16. 10\n",
       "17. 7\n",
       "18. 3\n",
       "19. 5\n",
       "20. 7\n",
       "\n",
       "\n"
      ],
      "text/plain": [
       "      A  B  C  D\n",
       "[1,] 15 13 10 10\n",
       "[2,]  9  8  6  7\n",
       "[3,] 18  8 11  3\n",
       "[4,] 14 12  7  5\n",
       "[5,] 18  7 12  7"
      ]
     },
     "metadata": {},
     "output_type": "display_data"
    }
   ],
   "source": [
    "d %>>% \n",
    "#     dplyr::select(stat_test2, teaching_method) %>>% \n",
    "    split(.$teaching_method) %>>% \n",
    "    purrr::map(~ .[[\"stat_test2\"]]) %>>% \n",
    "    rlist::list.cbind()"
   ]
  },
  {
   "cell_type": "code",
   "execution_count": 8,
   "metadata": {
    "collapsed": false
   },
   "outputs": [
    {
     "name": "stderr",
     "output_type": "stream",
     "text": [
      "Session info -------------------------------------------------------------------\n",
      "Packages -----------------------------------------------------------------------\n",
      "Session info -------------------------------------------------------------------\n",
      "Packages -----------------------------------------------------------------------\n"
     ]
    },
    {
     "data": {
      "text/plain": [
       " setting  value                       \n",
       " version  R version 3.2.3 (2015-12-10)\n",
       " system   x86_64, darwin13.4.0        \n",
       " ui       X11                         \n",
       " language (EN)                        \n",
       " collate  ja_JP.UTF-8                 \n",
       " tz       Asia/Tokyo                  \n",
       " date     2016-05-22                  \n",
       "\n",
       " package    * version date       source        \n",
       " assertthat   0.1     2013-12-06 CRAN (R 3.2.0)\n",
       " base64enc    0.1-3   2015-07-28 CRAN (R 3.2.0)\n",
       " chron        2.3-47  2015-06-24 CRAN (R 3.2.0)\n",
       " colorspace   1.2-6   2015-03-11 CRAN (R 3.2.0)\n",
       " data.table   1.9.6   2015-09-19 CRAN (R 3.2.0)\n",
       " DBI          0.4-1   2016-05-08 CRAN (R 3.2.5)\n",
       " devtools     1.11.1  2016-04-21 CRAN (R 3.2.5)\n",
       " digest       0.6.9   2016-01-08 CRAN (R 3.2.2)\n",
       " dplyr      * 0.4.3   2015-09-01 CRAN (R 3.2.0)\n",
       " evaluate     0.9     2016-04-29 CRAN (R 3.2.5)\n",
       " ggplot2    * 2.1.0   2016-03-01 CRAN (R 3.2.4)\n",
       " gtable       0.2.0   2016-02-26 CRAN (R 3.2.3)\n",
       " IRdisplay    0.3     2016-05-14 local         \n",
       " IRkernel     0.5     2016-05-14 local         \n",
       " jsonlite     0.9.20  2016-05-10 CRAN (R 3.2.5)\n",
       " magrittr     1.5     2014-11-22 CRAN (R 3.2.0)\n",
       " memoise      1.0.0   2016-01-29 CRAN (R 3.2.3)\n",
       " munsell      0.4.3   2016-02-13 CRAN (R 3.2.3)\n",
       " pipeR      * 0.6.1.3 2016-04-04 CRAN (R 3.2.4)\n",
       " plyr         1.8.3   2015-06-12 CRAN (R 3.2.0)\n",
       " purrr      * 0.2.1   2016-02-13 CRAN (R 3.2.3)\n",
       " R6           2.1.2   2016-01-26 CRAN (R 3.2.3)\n",
       " Rcpp         0.12.4  2016-03-26 CRAN (R 3.2.4)\n",
       " readr      * 0.2.2   2015-10-22 CRAN (R 3.2.0)\n",
       " readxl     * 0.1.1   2016-03-28 CRAN (R 3.2.4)\n",
       " repr         0.7     2016-05-13 CRAN (R 3.2.3)\n",
       " rlist      * 0.4.6.1 2016-04-04 CRAN (R 3.2.4)\n",
       " rzmq         0.7.7   2016-05-14 local         \n",
       " scales       0.4.0   2016-02-26 CRAN (R 3.2.3)\n",
       " stringi      1.0-1   2015-10-22 CRAN (R 3.2.0)\n",
       " stringr      1.0.0   2015-04-30 CRAN (R 3.2.0)\n",
       " tidyr      * 0.4.1   2016-02-05 CRAN (R 3.2.3)\n",
       " uuid         0.1-2   2015-07-28 CRAN (R 3.2.0)\n",
       " withr        1.0.1   2016-02-04 CRAN (R 3.2.3)"
      ]
     },
     "execution_count": 8,
     "metadata": {},
     "output_type": "execute_result"
    }
   ],
   "source": [
    "devtools::session_info()"
   ]
  }
 ],
 "metadata": {
  "kernelspec": {
   "display_name": "R 3.2",
   "language": "R",
   "name": "ir32"
  },
  "language_info": {
   "codemirror_mode": "r",
   "file_extension": ".r",
   "mimetype": "text/x-r-source",
   "name": "R",
   "pygments_lexer": "r",
   "version": "3.2.3"
  }
 },
 "nbformat": 4,
 "nbformat_minor": 0
}
