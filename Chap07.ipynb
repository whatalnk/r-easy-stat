{
 "cells": [
  {
   "cell_type": "markdown",
   "metadata": {},
   "source": [
    "# 第I部\n",
    "# 第7章 分散分析"
   ]
  },
  {
   "cell_type": "code",
   "execution_count": 1,
   "metadata": {
    "collapsed": false,
    "scrolled": false
   },
   "outputs": [
    {
     "name": "stderr",
     "output_type": "stream",
     "text": [
      "Loading required package: pipeR\n",
      "Loading required package: dplyr\n",
      "\n",
      "Attaching package: 'dplyr'\n",
      "\n",
      "The following objects are masked from 'package:stats':\n",
      "\n",
      "    filter, lag\n",
      "\n",
      "The following objects are masked from 'package:base':\n",
      "\n",
      "    intersect, setdiff, setequal, union\n",
      "\n",
      "Loading required package: tidyr\n",
      "Loading required package: ggplot2\n",
      "Loading required package: readr\n",
      "Loading required package: readxl\n"
     ]
    },
    {
     "data": {
      "text/html": [
       "<ol>\n",
       "\t<li>TRUE</li>\n",
       "\t<li>TRUE</li>\n",
       "\t<li>TRUE</li>\n",
       "\t<li>TRUE</li>\n",
       "\t<li>TRUE</li>\n",
       "\t<li>TRUE</li>\n",
       "</ol>\n"
      ],
      "text/latex": [
       "\\begin{enumerate}\n",
       "\\item TRUE\n",
       "\\item TRUE\n",
       "\\item TRUE\n",
       "\\item TRUE\n",
       "\\item TRUE\n",
       "\\item TRUE\n",
       "\\end{enumerate}\n"
      ],
      "text/markdown": [
       "1. TRUE\n",
       "2. TRUE\n",
       "3. TRUE\n",
       "4. TRUE\n",
       "5. TRUE\n",
       "6. TRUE\n",
       "\n",
       "\n"
      ],
      "text/plain": [
       "[[1]]\n",
       "[1] TRUE\n",
       "\n",
       "[[2]]\n",
       "[1] TRUE\n",
       "\n",
       "[[3]]\n",
       "[1] TRUE\n",
       "\n",
       "[[4]]\n",
       "[1] TRUE\n",
       "\n",
       "[[5]]\n",
       "[1] TRUE\n",
       "\n",
       "[[6]]\n",
       "[1] TRUE\n"
      ]
     },
     "metadata": {},
     "output_type": "display_data"
    }
   ],
   "source": [
    "pkgs <- c(\"pipeR\", \"dplyr\", \"tidyr\", \"ggplot2\", \"readr\", \"readxl\")\n",
    "lapply(pkgs, require, character.only = TRUE)"
   ]
  },
  {
   "cell_type": "code",
   "execution_count": 2,
   "metadata": {
    "collapsed": false
   },
   "outputs": [
    {
     "data": {
      "text/html": [
       "<table>\n",
       "<thead><tr><th></th><th scope=col>ID</th><th scope=col>名前</th><th scope=col>性別</th><th scope=col>数学</th><th scope=col>統計</th><th scope=col>心理学テスト</th><th scope=col>統計テスト1</th><th scope=col>統計テスト2</th><th scope=col>指導法</th></tr></thead>\n",
       "<tbody>\n",
       "\t<tr><th scope=row>1</th><td>1</td><td>大村</td><td>男</td><td>嫌い</td><td>好き</td><td>13</td><td>6</td><td>10</td><td>C</td></tr>\n",
       "\t<tr><th scope=row>2</th><td>2</td><td>本多</td><td>男</td><td>嫌い</td><td>好き</td><td>14</td><td>10</td><td>13</td><td>B</td></tr>\n",
       "\t<tr><th scope=row>3</th><td>3</td><td>川崎</td><td>男</td><td>好き</td><td>好き</td><td>7</td><td>6</td><td>8</td><td>B</td></tr>\n",
       "\t<tr><th scope=row>4</th><td>4</td><td>多村</td><td>男</td><td>好き</td><td>好き</td><td>12</td><td>10</td><td>15</td><td>A</td></tr>\n",
       "\t<tr><th scope=row>5</th><td>5</td><td>松中</td><td>男</td><td>嫌い</td><td>嫌い</td><td>10</td><td>5</td><td>8</td><td>B</td></tr>\n",
       "\t<tr><th scope=row>6</th><td>6</td><td>小久保</td><td>男</td><td>嫌い</td><td>嫌い</td><td>6</td><td>3</td><td>6</td><td>C</td></tr>\n",
       "</tbody>\n",
       "</table>\n"
      ],
      "text/latex": [
       "\\begin{tabular}{r|lllllllll}\n",
       "  & ID & 名前 & 性別 & 数学 & 統計 & 心理学テスト & 統計テスト1 & 統計テスト2 & 指導法\\\\\n",
       "\\hline\n",
       "\t1 & 1 & 大村 & 男 & 嫌い & 好き & 13 & 6 & 10 & C\\\\\n",
       "\t2 & 2 & 本多 & 男 & 嫌い & 好き & 14 & 10 & 13 & B\\\\\n",
       "\t3 & 3 & 川崎 & 男 & 好き & 好き & 7 & 6 & 8 & B\\\\\n",
       "\t4 & 4 & 多村 & 男 & 好き & 好き & 12 & 10 & 15 & A\\\\\n",
       "\t5 & 5 & 松中 & 男 & 嫌い & 嫌い & 10 & 5 & 8 & B\\\\\n",
       "\t6 & 6 & 小久保 & 男 & 嫌い & 嫌い & 6 & 3 & 6 & C\\\\\n",
       "\\end{tabular}\n"
      ],
      "text/plain": [
       "Source: local data frame [6 x 9]\n",
       "\n",
       "     ID   名前  性別  数学  統計 心理学テスト 統計テスト1 統計テスト2 指導法\n",
       "  (int)  (chr) (chr) (chr) (chr)        (int)       (int)       (int)  (chr)\n",
       "1     1   大村    男  嫌い  好き           13           6          10      C\n",
       "2     2   本多    男  嫌い  好き           14          10          13      B\n",
       "3     3   川崎    男  好き  好き            7           6           8      B\n",
       "4     4   多村    男  好き  好き           12          10          15      A\n",
       "5     5   松中    男  嫌い  嫌い           10           5           8      B\n",
       "6     6 小久保    男  嫌い  嫌い            6           3           6      C"
      ]
     },
     "metadata": {},
     "output_type": "display_data"
    }
   ],
   "source": [
    "d <- read_csv(\"teaching_methods.csv\")\n",
    "head(d)"
   ]
  },
  {
   "cell_type": "code",
   "execution_count": 3,
   "metadata": {
    "collapsed": false
   },
   "outputs": [
    {
     "name": "stdout",
     "output_type": "stream",
     "text": [
      "Classes 'tbl_df', 'tbl' and 'data.frame':\t20 obs. of  9 variables:\n",
      " $ ID          : int  1 2 3 4 5 6 7 8 9 10 ...\n",
      " $ 名前        : chr  \"大村\" \"本多\" \"川崎\" \"多村\" ...\n",
      " $ 性別        : chr  \"男\" \"男\" \"男\" \"男\" ...\n",
      " $ 数学        : chr  \"嫌い\" \"嫌い\" \"好き\" \"好き\" ...\n",
      " $ 統計        : chr  \"好き\" \"好き\" \"好き\" \"好き\" ...\n",
      " $ 心理学テスト: int  13 14 7 12 10 6 8 15 4 14 ...\n",
      " $ 統計テスト1 : int  6 10 6 10 5 3 5 9 3 3 ...\n",
      " $ 統計テスト2 : int  10 13 8 15 8 6 9 10 7 3 ...\n",
      " $ 指導法      : chr  \"C\" \"B\" \"B\" \"A\" ...\n"
     ]
    }
   ],
   "source": [
    "str(d)"
   ]
  },
  {
   "cell_type": "code",
   "execution_count": 3,
   "metadata": {
    "collapsed": true
   },
   "outputs": [],
   "source": [
    "names(d) <- c(\"id\", \"name\", \"sex\",\"math\", \"stat\", \"psy_test\", \"stat_test1\", \"stat_test2\", \"teaching_method\")"
   ]
  },
  {
   "cell_type": "code",
   "execution_count": 4,
   "metadata": {
    "collapsed": false
   },
   "outputs": [],
   "source": [
    "library(rlist)"
   ]
  },
  {
   "cell_type": "code",
   "execution_count": 5,
   "metadata": {
    "collapsed": false
   },
   "outputs": [
    {
     "name": "stderr",
     "output_type": "stream",
     "text": [
      "\n",
      "Attaching package: 'purrr'\n",
      "\n",
      "The following object is masked from 'package:dplyr':\n",
      "\n",
      "    order_by\n",
      "\n"
     ]
    }
   ],
   "source": [
    "library(purrr)"
   ]
  },
  {
   "cell_type": "markdown",
   "metadata": {},
   "source": [
    "* 指導法ごとの統計テスト2の点数"
   ]
  },
  {
   "cell_type": "code",
   "execution_count": 6,
   "metadata": {
    "collapsed": false
   },
   "outputs": [
    {
     "data": {
      "text/html": [
       "<table>\n",
       "<thead><tr><th scope=col>A</th><th scope=col>B</th><th scope=col>C</th><th scope=col>D</th></tr></thead>\n",
       "<tbody>\n",
       "\t<tr><td>15</td><td>13</td><td>10</td><td>10</td></tr>\n",
       "\t<tr><td>9</td><td>8</td><td>6</td><td>7</td></tr>\n",
       "\t<tr><td>18</td><td> 8</td><td>11</td><td> 3</td></tr>\n",
       "\t<tr><td>14</td><td>12</td><td> 7</td><td> 5</td></tr>\n",
       "\t<tr><td>18</td><td> 7</td><td>12</td><td> 7</td></tr>\n",
       "</tbody>\n",
       "</table>\n"
      ],
      "text/latex": [
       "\\begin{tabular}{llll}\n",
       " A & B & C & D\\\\\n",
       "\\hline\n",
       "\t 15 & 13 & 10 & 10\\\\\n",
       "\t 9 & 8 & 6 & 7\\\\\n",
       "\t 18 &  8 & 11 &  3\\\\\n",
       "\t 14 & 12 &  7 &  5\\\\\n",
       "\t 18 &  7 & 12 &  7\\\\\n",
       "\\end{tabular}\n"
      ],
      "text/markdown": [
       "1. 15\n",
       "2. 9\n",
       "3. 18\n",
       "4. 14\n",
       "5. 18\n",
       "6. 13\n",
       "7. 8\n",
       "8. 8\n",
       "9. 12\n",
       "10. 7\n",
       "11. 10\n",
       "12. 6\n",
       "13. 11\n",
       "14. 7\n",
       "15. 12\n",
       "16. 10\n",
       "17. 7\n",
       "18. 3\n",
       "19. 5\n",
       "20. 7\n",
       "\n",
       "\n"
      ],
      "text/plain": [
       "      A  B  C  D\n",
       "[1,] 15 13 10 10\n",
       "[2,]  9  8  6  7\n",
       "[3,] 18  8 11  3\n",
       "[4,] 14 12  7  5\n",
       "[5,] 18  7 12  7"
      ]
     },
     "metadata": {},
     "output_type": "display_data"
    }
   ],
   "source": [
    "d %>>% \n",
    "#     dplyr::select(stat_test2, teaching_method) %>>% \n",
    "    split(.$teaching_method) %>>% \n",
    "    purrr::map(~ .[[\"stat_test2\"]]) %>>% \n",
    "    rlist::list.cbind()"
   ]
  },
  {
   "cell_type": "markdown",
   "metadata": {},
   "source": [
    "## 7.1 一元配置分散分析（対応なし）\n",
    "\n",
    "* 帰無仮説: 4群の母平均は等しい\n",
    "* 検定統計量$F$: 帰無仮説が正しいとき，自由度$df_1$，$df_2$のF分布に従う\n",
    "\n",
    "$$ F = \\frac{\\mbox{群間平方和 / 群間の自由度}}{\\mbox{群内平方和 / 群内の自由度}} $$"
   ]
  },
  {
   "cell_type": "code",
   "execution_count": 8,
   "metadata": {
    "collapsed": false,
    "scrolled": true
   },
   "outputs": [
    {
     "data": {
      "text/html": [
       "\n",
       "<table width=\"100%\" summary=\"page for FDist {stats}\"><tr><td>FDist {stats}</td><td style=\"text-align: right;\">R Documentation</td></tr></table>\n",
       "\n",
       "<h2>The F Distribution</h2>\n",
       "\n",
       "<h3>Description</h3>\n",
       "\n",
       "<p>Density, distribution function, quantile function and random\n",
       "generation for the F distribution with <code>df1</code> and <code>df2</code>\n",
       "degrees of freedom (and optional non-centrality parameter <code>ncp</code>).\n",
       "</p>\n",
       "\n",
       "\n",
       "<h3>Usage</h3>\n",
       "\n",
       "<pre>\n",
       "df(x, df1, df2, ncp, log = FALSE)\n",
       "pf(q, df1, df2, ncp, lower.tail = TRUE, log.p = FALSE)\n",
       "qf(p, df1, df2, ncp, lower.tail = TRUE, log.p = FALSE)\n",
       "rf(n, df1, df2, ncp)\n",
       "</pre>\n",
       "\n",
       "\n",
       "<h3>Arguments</h3>\n",
       "\n",
       "<table summary=\"R argblock\">\n",
       "<tr valign=\"top\"><td><code>x, q</code></td>\n",
       "<td>\n",
       "<p>vector of quantiles.</p>\n",
       "</td></tr>\n",
       "<tr valign=\"top\"><td><code>p</code></td>\n",
       "<td>\n",
       "<p>vector of probabilities.</p>\n",
       "</td></tr>\n",
       "<tr valign=\"top\"><td><code>n</code></td>\n",
       "<td>\n",
       "<p>number of observations. If <code>length(n) &gt; 1</code>, the length\n",
       "is taken to be the number required.</p>\n",
       "</td></tr>\n",
       "<tr valign=\"top\"><td><code>df1, df2</code></td>\n",
       "<td>\n",
       "<p>degrees of freedom.  <code>Inf</code> is allowed.</p>\n",
       "</td></tr>\n",
       "<tr valign=\"top\"><td><code>ncp</code></td>\n",
       "<td>\n",
       "<p>non-centrality parameter. If omitted the central F is assumed.</p>\n",
       "</td></tr>\n",
       "<tr valign=\"top\"><td><code>log, log.p</code></td>\n",
       "<td>\n",
       "<p>logical; if TRUE, probabilities p are given as log(p).</p>\n",
       "</td></tr>\n",
       "<tr valign=\"top\"><td><code>lower.tail</code></td>\n",
       "<td>\n",
       "<p>logical; if TRUE (default), probabilities are\n",
       "<i>P[X &le; x]</i>, otherwise, <i>P[X &gt; x]</i>.</p>\n",
       "</td></tr>\n",
       "</table>\n",
       "\n",
       "\n",
       "<h3>Details</h3>\n",
       "\n",
       "<p>The F distribution with <code>df1 =</code> <i>n1</i> and <code>df2 =</code>\n",
       "<i>n2</i> degrees of freedom has density\n",
       "</p>\n",
       "<p style=\"text-align: center;\"><i>f(x) = &Gamma;((n1 + n2)/2) / (&Gamma;(n1/2) &Gamma;(n2/2))\n",
       "    (n1/n2)^(n1/2) x^(n1/2 - 1)\n",
       "    (1 + (n1/n2) x)^-(n1 + n2)/2</i></p>\n",
       "\n",
       "<p>for <i>x &gt; 0</i>.\n",
       "</p>\n",
       "<p>It is the distribution of the ratio of the mean squares of\n",
       "<i>n1</i> and <i>n2</i> independent standard normals, and hence\n",
       "of the ratio of two independent chi-squared variates each divided by its\n",
       "degrees of freedom.  Since the ratio of a normal and the root\n",
       "mean-square of <i>m</i> independent normals has a Student's <i>t_m</i>\n",
       "distribution, the square of a <i>t_m</i> variate has a F distribution on\n",
       "1 and <i>m</i> degrees of freedom.\n",
       "</p>\n",
       "<p>The non-central F distribution is again the ratio of mean squares of\n",
       "independent normals of unit variance, but those in the numerator are\n",
       "allowed to have non-zero means and <code>ncp</code> is the sum of squares of\n",
       "the means.  See Chisquare for further details on\n",
       "non-central distributions.\n",
       "</p>\n",
       "\n",
       "\n",
       "<h3>Value</h3>\n",
       "\n",
       "<p><code>df</code> gives the density,\n",
       "<code>pf</code> gives the distribution function\n",
       "<code>qf</code> gives the quantile function, and\n",
       "<code>rf</code> generates random deviates.\n",
       "</p>\n",
       "<p>Invalid arguments will result in return value <code>NaN</code>, with a warning.\n",
       "</p>\n",
       "<p>The length of the result is determined by <code>n</code> for\n",
       "<code>rf</code>, and is the maximum of the lengths of the\n",
       "numerical arguments for the other functions.\n",
       "</p>\n",
       "<p>The numerical arguments other than <code>n</code> are recycled to the\n",
       "length of the result.  Only the first elements of the logical\n",
       "arguments are used.\n",
       "</p>\n",
       "\n",
       "\n",
       "<h3>Note</h3>\n",
       "\n",
       "<p>Supplying <code>ncp = 0</code> uses the algorithm for the non-central\n",
       "distribution, which is not the same algorithm used if <code>ncp</code> is\n",
       "omitted.  This is to give consistent behaviour in extreme cases with\n",
       "values of <code>ncp</code> very near zero.\n",
       "</p>\n",
       "<p>The code for non-zero <code>ncp</code> is principally intended to be used\n",
       "for moderate values of <code>ncp</code>: it will not be highly accurate,\n",
       "especially in the tails, for large values.\n",
       "</p>\n",
       "\n",
       "\n",
       "<h3>Source</h3>\n",
       "\n",
       "<p>For the central case of <code>df</code>, computed <em>via</em> a binomial\n",
       "probability, code contributed by Catherine Loader (see\n",
       "<code>dbinom</code>); for the non-central case computed <em>via</em>\n",
       "<code>dbeta</code>, code contributed by Peter Ruckdeschel.\n",
       "</p>\n",
       "<p>For <code>pf</code>, <em>via</em> <code>pbeta</code> (or for large\n",
       "<code>df2</code>, <em>via</em> <code>pchisq</code>).\n",
       "</p>\n",
       "<p>For <code>qf</code>, <em>via</em> <code>qchisq</code> for large <code>df2</code>,\n",
       "else <em>via</em> <code>qbeta</code>.\n",
       "</p>\n",
       "\n",
       "\n",
       "<h3>References</h3>\n",
       "\n",
       "<p>Becker, R. A., Chambers, J. M. and Wilks, A. R. (1988)\n",
       "<em>The New S Language</em>.\n",
       "Wadsworth &amp; Brooks/Cole.\n",
       "</p>\n",
       "<p>Johnson, N. L., Kotz, S. and Balakrishnan, N. (1995)\n",
       "<em>Continuous Univariate Distributions</em>, volume 2, chapters 27 and 30.\n",
       "Wiley, New York.\n",
       "</p>\n",
       "\n",
       "\n",
       "<h3>See Also</h3>\n",
       "\n",
       "<p>Distributions for other standard distributions, including\n",
       "<code>dchisq</code> for chi-squared and <code>dt</code> for Student's\n",
       "t distributions.\n",
       "</p>\n",
       "\n",
       "\n",
       "<h3>Examples</h3>\n",
       "\n",
       "<pre>\n",
       "## Equivalence of pt(.,nu) with pf(.^2, 1,nu):\n",
       "x &lt;- seq(0.001, 5, len = 100)\n",
       "nu &lt;- 4\n",
       "stopifnot(all.equal(2*pt(x,nu) - 1, pf(x^2, 1,nu)),\n",
       "          ## upper tails:\n",
       " \t  all.equal(2*pt(x,     nu, lower=FALSE),\n",
       "\t\t      pf(x^2, 1,nu, lower=FALSE)))\n",
       "\n",
       "## the density of the square of a t_m is 2*dt(x, m)/(2*x)\n",
       "# check this is the same as the density of F_{1,m}\n",
       "all.equal(df(x^2, 1, 5), dt(x, 5)/x)\n",
       "\n",
       "## Identity:  qf(2*p - 1, 1, df)) == qt(p, df)^2)  for  p &gt;= 1/2\n",
       "p &lt;- seq(1/2, .99, length = 50); df &lt;- 10\n",
       "rel.err &lt;- function(x, y) ifelse(x == y, 0, abs(x-y)/mean(abs(c(x,y))))\n",
       "quantile(rel.err(qf(2*p - 1, df1 = 1, df2 = df), qt(p, df)^2), .90)  # ~= 7e-9\n",
       "</pre>\n",
       "\n",
       "<hr /><div style=\"text-align: center;\">[Package <em>stats</em> version 3.2.3 ]</div>"
      ],
      "text/latex": [
       "\\inputencoding{utf8}\n",
       "\\HeaderA{FDist}{The F Distribution}{FDist}\n",
       "\\aliasA{df}{FDist}{df}\n",
       "\\aliasA{pf}{FDist}{pf}\n",
       "\\aliasA{qf}{FDist}{qf}\n",
       "\\aliasA{rf}{FDist}{rf}\n",
       "\\keyword{distribution}{FDist}\n",
       "%\n",
       "\\begin{Description}\\relax\n",
       "Density, distribution function, quantile function and random\n",
       "generation for the F distribution with \\code{df1} and \\code{df2}\n",
       "degrees of freedom (and optional non-centrality parameter \\code{ncp}).\n",
       "\\end{Description}\n",
       "%\n",
       "\\begin{Usage}\n",
       "\\begin{verbatim}\n",
       "df(x, df1, df2, ncp, log = FALSE)\n",
       "pf(q, df1, df2, ncp, lower.tail = TRUE, log.p = FALSE)\n",
       "qf(p, df1, df2, ncp, lower.tail = TRUE, log.p = FALSE)\n",
       "rf(n, df1, df2, ncp)\n",
       "\\end{verbatim}\n",
       "\\end{Usage}\n",
       "%\n",
       "\\begin{Arguments}\n",
       "\\begin{ldescription}\n",
       "\\item[\\code{x, q}] vector of quantiles.\n",
       "\\item[\\code{p}] vector of probabilities.\n",
       "\\item[\\code{n}] number of observations. If \\code{length(n) > 1}, the length\n",
       "is taken to be the number required.\n",
       "\\item[\\code{df1, df2}] degrees of freedom.  \\code{Inf} is allowed.\n",
       "\\item[\\code{ncp}] non-centrality parameter. If omitted the central F is assumed.\n",
       "\\item[\\code{log, log.p}] logical; if TRUE, probabilities p are given as log(p).\n",
       "\\item[\\code{lower.tail}] logical; if TRUE (default), probabilities are\n",
       "\\eqn{P[X \\le x]}{}, otherwise, \\eqn{P[X > x]}{}.\n",
       "\\end{ldescription}\n",
       "\\end{Arguments}\n",
       "%\n",
       "\\begin{Details}\\relax\n",
       "The F distribution with \\code{df1 =} \\eqn{n_1}{} and \\code{df2 =}\n",
       "\\eqn{n_2}{} degrees of freedom has density\n",
       "\\deqn{\n",
       "    f(x) = \\frac{\\Gamma(n_1/2 + n_2/2)}{\\Gamma(n_1/2)\\Gamma(n_2/2)}\n",
       "    \\left(\\frac{n_1}{n_2}\\right)^{n_1/2} x^{n_1/2 -1}\n",
       "    \\left(1 + \\frac{n_1 x}{n_2}\\right)^{-(n_1 + n_2) / 2}%\n",
       "  }{}\n",
       "for \\eqn{x > 0}{}.\n",
       "\n",
       "It is the distribution of the ratio of the mean squares of\n",
       "\\eqn{n_1}{} and \\eqn{n_2}{} independent standard normals, and hence\n",
       "of the ratio of two independent chi-squared variates each divided by its\n",
       "degrees of freedom.  Since the ratio of a normal and the root\n",
       "mean-square of \\eqn{m}{} independent normals has a Student's \\eqn{t_m}{}\n",
       "distribution, the square of a \\eqn{t_m}{} variate has a F distribution on\n",
       "1 and \\eqn{m}{} degrees of freedom.\n",
       "\n",
       "The non-central F distribution is again the ratio of mean squares of\n",
       "independent normals of unit variance, but those in the numerator are\n",
       "allowed to have non-zero means and \\code{ncp} is the sum of squares of\n",
       "the means.  See \\LinkA{Chisquare}{Chisquare} for further details on\n",
       "non-central distributions.\n",
       "\\end{Details}\n",
       "%\n",
       "\\begin{Value}\n",
       "\\code{df} gives the density,\n",
       "\\code{pf} gives the distribution function\n",
       "\\code{qf} gives the quantile function, and\n",
       "\\code{rf} generates random deviates.\n",
       "\n",
       "Invalid arguments will result in return value \\code{NaN}, with a warning.\n",
       "\n",
       "The length of the result is determined by \\code{n} for\n",
       "\\code{rf}, and is the maximum of the lengths of the\n",
       "numerical arguments for the other functions.\n",
       "\n",
       "The numerical arguments other than \\code{n} are recycled to the\n",
       "length of the result.  Only the first elements of the logical\n",
       "arguments are used.\n",
       "\\end{Value}\n",
       "%\n",
       "\\begin{Note}\\relax\n",
       "Supplying \\code{ncp = 0} uses the algorithm for the non-central\n",
       "distribution, which is not the same algorithm used if \\code{ncp} is\n",
       "omitted.  This is to give consistent behaviour in extreme cases with\n",
       "values of \\code{ncp} very near zero.\n",
       "\n",
       "The code for non-zero \\code{ncp} is principally intended to be used\n",
       "for moderate values of \\code{ncp}: it will not be highly accurate,\n",
       "especially in the tails, for large values.\n",
       "\\end{Note}\n",
       "%\n",
       "\\begin{Source}\\relax\n",
       "For the central case of \\code{df}, computed \\emph{via} a binomial\n",
       "probability, code contributed by Catherine Loader (see\n",
       "\\code{\\LinkA{dbinom}{dbinom}}); for the non-central case computed \\emph{via}\n",
       "\\code{\\LinkA{dbeta}{dbeta}}, code contributed by Peter Ruckdeschel.\n",
       "\n",
       "For \\code{pf}, \\emph{via} \\code{\\LinkA{pbeta}{pbeta}} (or for large\n",
       "\\code{df2}, \\emph{via} \\code{\\LinkA{pchisq}{pchisq}}).\n",
       "\n",
       "For \\code{qf}, \\emph{via} \\code{\\LinkA{qchisq}{qchisq}} for large \\code{df2},\n",
       "else \\emph{via} \\code{\\LinkA{qbeta}{qbeta}}.\n",
       "\\end{Source}\n",
       "%\n",
       "\\begin{References}\\relax\n",
       "Becker, R. A., Chambers, J. M. and Wilks, A. R. (1988)\n",
       "\\emph{The New S Language}.\n",
       "Wadsworth \\& Brooks/Cole.\n",
       "\n",
       "Johnson, N. L., Kotz, S. and Balakrishnan, N. (1995)\n",
       "\\emph{Continuous Univariate Distributions}, volume 2, chapters 27 and 30.\n",
       "Wiley, New York.\n",
       "\\end{References}\n",
       "%\n",
       "\\begin{SeeAlso}\\relax\n",
       "\\LinkA{Distributions}{Distributions} for other standard distributions, including\n",
       "\\code{\\LinkA{dchisq}{dchisq}} for chi-squared and \\code{\\LinkA{dt}{dt}} for Student's\n",
       "t distributions.\n",
       "\\end{SeeAlso}\n",
       "%\n",
       "\\begin{Examples}\n",
       "\\begin{ExampleCode}\n",
       "## Equivalence of pt(.,nu) with pf(.^2, 1,nu):\n",
       "x <- seq(0.001, 5, len = 100)\n",
       "nu <- 4\n",
       "stopifnot(all.equal(2*pt(x,nu) - 1, pf(x^2, 1,nu)),\n",
       "          ## upper tails:\n",
       " \t  all.equal(2*pt(x,     nu, lower=FALSE),\n",
       "\t\t      pf(x^2, 1,nu, lower=FALSE)))\n",
       "\n",
       "## the density of the square of a t_m is 2*dt(x, m)/(2*x)\n",
       "# check this is the same as the density of F_{1,m}\n",
       "all.equal(df(x^2, 1, 5), dt(x, 5)/x)\n",
       "\n",
       "## Identity:  qf(2*p - 1, 1, df)) == qt(p, df)^2)  for  p >= 1/2\n",
       "p <- seq(1/2, .99, length = 50); df <- 10\n",
       "rel.err <- function(x, y) ifelse(x == y, 0, abs(x-y)/mean(abs(c(x,y))))\n",
       "quantile(rel.err(qf(2*p - 1, df1 = 1, df2 = df), qt(p, df)^2), .90)  # ~= 7e-9\n",
       "\\end{ExampleCode}\n",
       "\\end{Examples}"
      ],
      "text/plain": [
       "FDist                  package:stats                   R Documentation\n",
       "\n",
       "_\bT_\bh_\be _\bF _\bD_\bi_\bs_\bt_\br_\bi_\bb_\bu_\bt_\bi_\bo_\bn\n",
       "\n",
       "_\bD_\be_\bs_\bc_\br_\bi_\bp_\bt_\bi_\bo_\bn:\n",
       "\n",
       "     Density, distribution function, quantile function and random\n",
       "     generation for the F distribution with 'df1' and 'df2' degrees of\n",
       "     freedom (and optional non-centrality parameter 'ncp').\n",
       "\n",
       "_\bU_\bs_\ba_\bg_\be:\n",
       "\n",
       "     df(x, df1, df2, ncp, log = FALSE)\n",
       "     pf(q, df1, df2, ncp, lower.tail = TRUE, log.p = FALSE)\n",
       "     qf(p, df1, df2, ncp, lower.tail = TRUE, log.p = FALSE)\n",
       "     rf(n, df1, df2, ncp)\n",
       "     \n",
       "_\bA_\br_\bg_\bu_\bm_\be_\bn_\bt_\bs:\n",
       "\n",
       "    x, q: vector of quantiles.\n",
       "\n",
       "       p: vector of probabilities.\n",
       "\n",
       "       n: number of observations. If 'length(n) > 1', the length is\n",
       "          taken to be the number required.\n",
       "\n",
       "df1, df2: degrees of freedom.  'Inf' is allowed.\n",
       "\n",
       "     ncp: non-centrality parameter. If omitted the central F is\n",
       "          assumed.\n",
       "\n",
       "log, log.p: logical; if TRUE, probabilities p are given as log(p).\n",
       "\n",
       "lower.tail: logical; if TRUE (default), probabilities are P[X <= x],\n",
       "          otherwise, P[X > x].\n",
       "\n",
       "_\bD_\be_\bt_\ba_\bi_\bl_\bs:\n",
       "\n",
       "     The F distribution with 'df1 =' n1 and 'df2 =' n2 degrees of\n",
       "     freedom has density\n",
       "\n",
       "     f(x) = Gamma((n1 + n2)/2) / (Gamma(n1/2) Gamma(n2/2))\n",
       "         (n1/n2)^(n1/2) x^(n1/2 - 1)\n",
       "         (1 + (n1/n2) x)^-(n1 + n2)/2\n",
       "     \n",
       "     for x > 0.\n",
       "\n",
       "     It is the distribution of the ratio of the mean squares of n1 and\n",
       "     n2 independent standard normals, and hence of the ratio of two\n",
       "     independent chi-squared variates each divided by its degrees of\n",
       "     freedom.  Since the ratio of a normal and the root mean-square of\n",
       "     m independent normals has a Student's t_m distribution, the square\n",
       "     of a t_m variate has a F distribution on 1 and m degrees of\n",
       "     freedom.\n",
       "\n",
       "     The non-central F distribution is again the ratio of mean squares\n",
       "     of independent normals of unit variance, but those in the\n",
       "     numerator are allowed to have non-zero means and 'ncp' is the sum\n",
       "     of squares of the means.  See Chisquare for further details on\n",
       "     non-central distributions.\n",
       "\n",
       "_\bV_\ba_\bl_\bu_\be:\n",
       "\n",
       "     'df' gives the density, 'pf' gives the distribution function 'qf'\n",
       "     gives the quantile function, and 'rf' generates random deviates.\n",
       "\n",
       "     Invalid arguments will result in return value 'NaN', with a\n",
       "     warning.\n",
       "\n",
       "     The length of the result is determined by 'n' for 'rf', and is the\n",
       "     maximum of the lengths of the numerical arguments for the other\n",
       "     functions.\n",
       "\n",
       "     The numerical arguments other than 'n' are recycled to the length\n",
       "     of the result.  Only the first elements of the logical arguments\n",
       "     are used.\n",
       "\n",
       "_\bN_\bo_\bt_\be:\n",
       "\n",
       "     Supplying 'ncp = 0' uses the algorithm for the non-central\n",
       "     distribution, which is not the same algorithm used if 'ncp' is\n",
       "     omitted.  This is to give consistent behaviour in extreme cases\n",
       "     with values of 'ncp' very near zero.\n",
       "\n",
       "     The code for non-zero 'ncp' is principally intended to be used for\n",
       "     moderate values of 'ncp': it will not be highly accurate,\n",
       "     especially in the tails, for large values.\n",
       "\n",
       "_\bS_\bo_\bu_\br_\bc_\be:\n",
       "\n",
       "     For the central case of 'df', computed _via_ a binomial\n",
       "     probability, code contributed by Catherine Loader (see 'dbinom');\n",
       "     for the non-central case computed _via_ 'dbeta', code contributed\n",
       "     by Peter Ruckdeschel.\n",
       "\n",
       "     For 'pf', _via_ 'pbeta' (or for large 'df2', _via_ 'pchisq').\n",
       "\n",
       "     For 'qf', _via_ 'qchisq' for large 'df2', else _via_ 'qbeta'.\n",
       "\n",
       "_\bR_\be_\bf_\be_\br_\be_\bn_\bc_\be_\bs:\n",
       "\n",
       "     Becker, R. A., Chambers, J. M. and Wilks, A. R. (1988) _The New S\n",
       "     Language_.  Wadsworth & Brooks/Cole.\n",
       "\n",
       "     Johnson, N. L., Kotz, S. and Balakrishnan, N. (1995) _Continuous\n",
       "     Univariate Distributions_, volume 2, chapters 27 and 30.  Wiley,\n",
       "     New York.\n",
       "\n",
       "_\bS_\be_\be _\bA_\bl_\bs_\bo:\n",
       "\n",
       "     Distributions for other standard distributions, including 'dchisq'\n",
       "     for chi-squared and 'dt' for Student's t distributions.\n",
       "\n",
       "_\bE_\bx_\ba_\bm_\bp_\bl_\be_\bs:\n",
       "\n",
       "     ## Equivalence of pt(.,nu) with pf(.^2, 1,nu):\n",
       "     x <- seq(0.001, 5, len = 100)\n",
       "     nu <- 4\n",
       "     stopifnot(all.equal(2*pt(x,nu) - 1, pf(x^2, 1,nu)),\n",
       "               ## upper tails:\n",
       "               all.equal(2*pt(x,     nu, lower=FALSE),\n",
       "                           pf(x^2, 1,nu, lower=FALSE)))\n",
       "     \n",
       "     ## the density of the square of a t_m is 2*dt(x, m)/(2*x)\n",
       "     # check this is the same as the density of F_{1,m}\n",
       "     all.equal(df(x^2, 1, 5), dt(x, 5)/x)\n",
       "     \n",
       "     ## Identity:  qf(2*p - 1, 1, df)) == qt(p, df)^2)  for  p >= 1/2\n",
       "     p <- seq(1/2, .99, length = 50); df <- 10\n",
       "     rel.err <- function(x, y) ifelse(x == y, 0, abs(x-y)/mean(abs(c(x,y))))\n",
       "     quantile(rel.err(qf(2*p - 1, df1 = 1, df2 = df), qt(p, df)^2), .90)  # ~= 7e-9\n",
       "     "
      ]
     },
     "metadata": {},
     "output_type": "display_data"
    }
   ],
   "source": [
    "?df"
   ]
  },
  {
   "cell_type": "code",
   "execution_count": 7,
   "metadata": {
    "collapsed": true
   },
   "outputs": [],
   "source": [
    "options(repr.plot.width = 4, repr.plot.height = 4)"
   ]
  },
  {
   "cell_type": "code",
   "execution_count": 10,
   "metadata": {
    "collapsed": false
   },
   "outputs": [
    {
     "data": {
      "image/png": "[encoded data removed]",
      "image/svg+xml": [
       "<?xml version=\"1.0\" encoding=\"UTF-8\"?>\n",
       "<svg xmlns=\"http://www.w3.org/2000/svg\" xmlns:xlink=\"http://www.w3.org/1999/xlink\" width=\"288pt\" height=\"288pt\" viewBox=\"0 0 288 288\" version=\"1.1\">\n",
       "<defs>\n",
       "<g>\n",
       "<symbol overflow=\"visible\" id=\"glyph0-0\">\n",
       "<path style=\"stroke:none;\" d=\"M 0.367188 -3.105469 C 0.363281 -3.847656 0.4375 -4.445313 0.59375 -4.902344 C 0.742188 -5.355469 0.972656 -5.707031 1.277344 -5.953125 C 1.578125 -6.199219 1.957031 -6.320313 2.417969 -6.324219 C 2.753906 -6.320313 3.050781 -6.253906 3.308594 -6.121094 C 3.5625 -5.984375 3.773438 -5.789063 3.9375 -5.53125 C 4.101563 -5.273438 4.230469 -4.960938 4.328125 -4.59375 C 4.421875 -4.226563 4.46875 -3.730469 4.472656 -3.105469 C 4.46875 -2.367188 4.394531 -1.769531 4.242188 -1.316406 C 4.089844 -0.859375 3.863281 -0.507813 3.5625 -0.261719 C 3.257813 -0.015625 2.875 0.105469 2.417969 0.109375 C 1.808594 0.105469 1.332031 -0.109375 0.988281 -0.546875 C 0.570313 -1.066406 0.363281 -1.921875 0.367188 -3.105469 Z M 1.160156 -3.105469 C 1.160156 -2.070313 1.28125 -1.378906 1.523438 -1.039063 C 1.765625 -0.695313 2.0625 -0.527344 2.417969 -0.527344 C 2.773438 -0.527344 3.074219 -0.699219 3.316406 -1.042969 C 3.558594 -1.386719 3.679688 -2.074219 3.679688 -3.105469 C 3.679688 -4.144531 3.558594 -4.832031 3.316406 -5.171875 C 3.074219 -5.511719 2.769531 -5.683594 2.410156 -5.683594 C 2.050781 -5.683594 1.769531 -5.53125 1.558594 -5.234375 C 1.292969 -4.84375 1.160156 -4.136719 1.160156 -3.105469 Z M 1.160156 -3.105469 \"/>\n",
       "</symbol>\n",
       "<symbol overflow=\"visible\" id=\"glyph0-1\">\n",
       "<path style=\"stroke:none;\" d=\"M 0.800781 0 L 0.800781 -0.882813 L 1.679688 -0.882813 L 1.679688 0 Z M 0.800781 0 \"/>\n",
       "</symbol>\n",
       "<symbol overflow=\"visible\" id=\"glyph0-2\">\n",
       "<path style=\"stroke:none;\" d=\"M 4.429688 -0.742188 L 4.429688 0 L 0.265625 0 C 0.257813 -0.1875 0.289063 -0.367188 0.355469 -0.539063 C 0.460938 -0.820313 0.628906 -1.097656 0.863281 -1.375 C 1.09375 -1.648438 1.433594 -1.964844 1.878906 -2.328125 C 2.5625 -2.886719 3.023438 -3.332031 3.265625 -3.664063 C 3.5 -3.988281 3.621094 -4.300781 3.625 -4.59375 C 3.621094 -4.898438 3.511719 -5.15625 3.296875 -5.367188 C 3.074219 -5.578125 2.789063 -5.683594 2.441406 -5.683594 C 2.066406 -5.683594 1.769531 -5.570313 1.546875 -5.347656 C 1.320313 -5.125 1.207031 -4.816406 1.207031 -4.421875 L 0.414063 -4.503906 C 0.464844 -5.09375 0.667969 -5.542969 1.027344 -5.855469 C 1.378906 -6.164063 1.855469 -6.320313 2.457031 -6.324219 C 3.058594 -6.320313 3.539063 -6.152344 3.890625 -5.820313 C 4.242188 -5.484375 4.417969 -5.070313 4.421875 -4.578125 C 4.417969 -4.320313 4.367188 -4.074219 4.265625 -3.832031 C 4.164063 -3.589844 3.992188 -3.332031 3.753906 -3.0625 C 3.511719 -2.792969 3.113281 -2.425781 2.5625 -1.957031 C 2.09375 -1.566406 1.796875 -1.300781 1.664063 -1.160156 C 1.53125 -1.019531 1.421875 -0.878906 1.339844 -0.742188 Z M 4.429688 -0.742188 \"/>\n",
       "</symbol>\n",
       "<symbol overflow=\"visible\" id=\"glyph0-3\">\n",
       "<path style=\"stroke:none;\" d=\"M 2.84375 0 L 2.84375 -1.507813 L 0.113281 -1.507813 L 0.113281 -2.21875 L 2.988281 -6.300781 L 3.617188 -6.300781 L 3.617188 -2.21875 L 4.46875 -2.21875 L 4.46875 -1.507813 L 3.617188 -1.507813 L 3.617188 0 Z M 2.84375 -2.21875 L 2.84375 -5.058594 L 0.871094 -2.21875 Z M 2.84375 -2.21875 \"/>\n",
       "</symbol>\n",
       "<symbol overflow=\"visible\" id=\"glyph0-4\">\n",
       "<path style=\"stroke:none;\" d=\"M 4.378906 -4.757813 L 3.609375 -4.695313 C 3.539063 -4.996094 3.441406 -5.21875 3.316406 -5.359375 C 3.105469 -5.574219 2.847656 -5.683594 2.542969 -5.6875 C 2.296875 -5.683594 2.078125 -5.617188 1.894531 -5.484375 C 1.648438 -5.304688 1.457031 -5.042969 1.320313 -4.703125 C 1.175781 -4.363281 1.105469 -3.878906 1.101563 -3.25 C 1.285156 -3.53125 1.511719 -3.742188 1.78125 -3.878906 C 2.050781 -4.015625 2.332031 -4.082031 2.628906 -4.085938 C 3.140625 -4.082031 3.578125 -3.894531 3.945313 -3.515625 C 4.304688 -3.136719 4.488281 -2.644531 4.492188 -2.046875 C 4.488281 -1.648438 4.402344 -1.28125 4.234375 -0.941406 C 4.0625 -0.601563 3.828125 -0.339844 3.53125 -0.160156 C 3.230469 0.0195313 2.894531 0.105469 2.519531 0.109375 C 1.871094 0.105469 1.34375 -0.128906 0.941406 -0.601563 C 0.53125 -1.074219 0.328125 -1.855469 0.332031 -2.949219 C 0.328125 -4.160156 0.550781 -5.046875 1.003906 -5.601563 C 1.394531 -6.082031 1.925781 -6.320313 2.589844 -6.324219 C 3.085938 -6.320313 3.492188 -6.183594 3.808594 -5.90625 C 4.125 -5.628906 4.3125 -5.246094 4.378906 -4.757813 Z M 1.21875 -2.039063 C 1.21875 -1.773438 1.273438 -1.515625 1.386719 -1.273438 C 1.5 -1.027344 1.660156 -0.84375 1.863281 -0.71875 C 2.066406 -0.589844 2.277344 -0.527344 2.503906 -0.527344 C 2.828125 -0.527344 3.109375 -0.65625 3.347656 -0.921875 C 3.578125 -1.183594 3.695313 -1.542969 3.699219 -2 C 3.695313 -2.429688 3.582031 -2.773438 3.351563 -3.027344 C 3.117188 -3.273438 2.824219 -3.398438 2.476563 -3.402344 C 2.121094 -3.398438 1.824219 -3.273438 1.582031 -3.027344 C 1.339844 -2.773438 1.21875 -2.445313 1.21875 -2.039063 Z M 1.21875 -2.039063 \"/>\n",
       "</symbol>\n",
       "<symbol overflow=\"visible\" id=\"glyph0-5\">\n",
       "<path style=\"stroke:none;\" d=\"M 3.277344 0 L 2.503906 0 L 2.503906 -4.929688 C 2.316406 -4.75 2.074219 -4.574219 1.773438 -4.394531 C 1.46875 -4.214844 1.195313 -4.082031 0.957031 -3.996094 L 0.957031 -4.742188 C 1.386719 -4.941406 1.765625 -5.1875 2.089844 -5.480469 C 2.414063 -5.769531 2.644531 -6.050781 2.78125 -6.324219 L 3.277344 -6.324219 Z M 3.277344 0 \"/>\n",
       "</symbol>\n",
       "<symbol overflow=\"visible\" id=\"glyph0-6\">\n",
       "<path style=\"stroke:none;\" d=\"M 0.371094 -1.664063 L 1.144531 -1.765625 C 1.230469 -1.324219 1.382813 -1.007813 1.597656 -0.816406 C 1.808594 -0.621094 2.066406 -0.527344 2.375 -0.527344 C 2.734375 -0.527344 3.042969 -0.652344 3.296875 -0.90625 C 3.546875 -1.15625 3.671875 -1.46875 3.675781 -1.84375 C 3.671875 -2.195313 3.554688 -2.488281 3.324219 -2.71875 C 3.089844 -2.949219 2.796875 -3.0625 2.441406 -3.066406 C 2.292969 -3.0625 2.109375 -3.035156 1.894531 -2.980469 L 1.980469 -3.660156 C 2.03125 -3.652344 2.070313 -3.648438 2.105469 -3.652344 C 2.433594 -3.648438 2.730469 -3.734375 2.996094 -3.910156 C 3.253906 -4.078125 3.386719 -4.34375 3.390625 -4.703125 C 3.386719 -4.984375 3.289063 -5.21875 3.101563 -5.40625 C 2.90625 -5.589844 2.660156 -5.683594 2.359375 -5.6875 C 2.054688 -5.683594 1.804688 -5.589844 1.605469 -5.402344 C 1.402344 -5.214844 1.273438 -4.929688 1.21875 -4.554688 L 0.445313 -4.691406 C 0.539063 -5.207031 0.753906 -5.609375 1.089844 -5.894531 C 1.425781 -6.179688 1.84375 -6.320313 2.34375 -6.324219 C 2.6875 -6.320313 3.003906 -6.246094 3.292969 -6.101563 C 3.582031 -5.953125 3.800781 -5.753906 3.953125 -5.5 C 4.105469 -5.242188 4.183594 -4.972656 4.183594 -4.6875 C 4.183594 -4.414063 4.109375 -4.164063 3.964844 -3.945313 C 3.816406 -3.71875 3.601563 -3.542969 3.316406 -3.410156 C 3.6875 -3.324219 3.976563 -3.144531 4.183594 -2.875 C 4.390625 -2.601563 4.492188 -2.261719 4.496094 -1.859375 C 4.492188 -1.304688 4.292969 -0.839844 3.894531 -0.460938 C 3.492188 -0.078125 2.984375 0.109375 2.371094 0.113281 C 1.816406 0.109375 1.355469 -0.0507813 0.992188 -0.378906 C 0.625 -0.707031 0.417969 -1.136719 0.371094 -1.664063 Z M 0.371094 -1.664063 \"/>\n",
       "</symbol>\n",
       "<symbol overflow=\"visible\" id=\"glyph0-7\">\n",
       "<path style=\"stroke:none;\" d=\"M 0.367188 -1.648438 L 1.175781 -1.71875 C 1.234375 -1.320313 1.375 -1.023438 1.59375 -0.824219 C 1.8125 -0.625 2.078125 -0.527344 2.390625 -0.527344 C 2.761719 -0.527344 3.074219 -0.667969 3.335938 -0.949219 C 3.589844 -1.230469 3.71875 -1.601563 3.722656 -2.066406 C 3.71875 -2.503906 3.59375 -2.851563 3.347656 -3.109375 C 3.097656 -3.363281 2.773438 -3.492188 2.375 -3.492188 C 2.125 -3.492188 1.902344 -3.433594 1.703125 -3.320313 C 1.5 -3.207031 1.34375 -3.0625 1.230469 -2.882813 L 0.503906 -2.976563 L 1.113281 -6.214844 L 4.246094 -6.214844 L 4.246094 -5.472656 L 1.730469 -5.472656 L 1.390625 -3.78125 C 1.765625 -4.039063 2.164063 -4.171875 2.582031 -4.175781 C 3.128906 -4.171875 3.59375 -3.980469 3.972656 -3.605469 C 4.351563 -3.222656 4.539063 -2.734375 4.542969 -2.136719 C 4.539063 -1.5625 4.375 -1.070313 4.042969 -0.65625 C 3.636719 -0.148438 3.085938 0.105469 2.390625 0.109375 C 1.816406 0.105469 1.347656 -0.0507813 0.984375 -0.371094 C 0.621094 -0.691406 0.414063 -1.117188 0.367188 -1.648438 Z M 0.367188 -1.648438 \"/>\n",
       "</symbol>\n",
       "<symbol overflow=\"visible\" id=\"glyph1-0\">\n",
       "<path style=\"stroke:none;\" d=\"M 0.0820313 0 L 2.164063 -2.964844 L 0.234375 -5.703125 L 1.445313 -5.703125 L 2.320313 -4.367188 C 2.484375 -4.109375 2.617188 -3.898438 2.71875 -3.726563 C 2.875 -3.960938 3.019531 -4.167969 3.152344 -4.355469 L 4.113281 -5.703125 L 5.269531 -5.703125 L 3.296875 -3.019531 L 5.417969 0 L 4.234375 0 L 3.0625 -1.773438 L 2.75 -2.25 L 1.25 0 Z M 0.0820313 0 \"/>\n",
       "</symbol>\n",
       "<symbol overflow=\"visible\" id=\"glyph2-0\">\n",
       "<path style=\"stroke:none;\" d=\"M 2.195313 -0.683594 L 1.289063 -0.574219 C 1.34375 -0.785156 1.371094 -0.96875 1.375 -1.128906 C 1.371094 -1.339844 1.335938 -1.511719 1.265625 -1.640625 C 1.195313 -1.769531 1.09375 -1.875 0.96875 -1.960938 C 0.867188 -2.019531 0.628906 -2.117188 0.246094 -2.257813 C 0.191406 -2.269531 0.113281 -2.300781 0.0117188 -2.34375 L -5.703125 -0.175781 L -5.703125 -1.21875 L -2.402344 -2.40625 C -1.980469 -2.558594 -1.539063 -2.695313 -1.078125 -2.820313 C -1.523438 -2.925781 -1.957031 -3.058594 -2.378906 -3.21875 L -5.703125 -4.4375 L -5.703125 -5.402344 L 0.0976563 -3.234375 C 0.71875 -3 1.148438 -2.816406 1.390625 -2.691406 C 1.707031 -2.515625 1.941406 -2.320313 2.09375 -2.097656 C 2.238281 -1.875 2.3125 -1.609375 2.316406 -1.304688 C 2.3125 -1.117188 2.273438 -0.910156 2.195313 -0.683594 Z M 2.195313 -0.683594 \"/>\n",
       "</symbol>\n",
       "</g>\n",
       "<clipPath id=\"clip1\">\n",
       "  <path d=\"M 37.09375 5.480469 L 283.519531 5.480469 L 283.519531 257.839844 L 37.09375 257.839844 Z M 37.09375 5.480469 \"/>\n",
       "</clipPath>\n",
       "</defs>\n",
       "<g id=\"surface1\">\n",
       "<rect x=\"0\" y=\"0\" width=\"288\" height=\"288\" style=\"fill:rgb(100%,100%,100%);fill-opacity:1;stroke:none;\"/>\n",
       "<rect x=\"0\" y=\"0\" width=\"288\" height=\"288\" style=\"fill:rgb(100%,100%,100%);fill-opacity:1;stroke:none;\"/>\n",
       "<path style=\"fill:none;stroke-width:1.066978;stroke-linecap:round;stroke-linejoin:round;stroke:rgb(100%,100%,100%);stroke-opacity:1;stroke-miterlimit:10;\" d=\"M 0 288 L 288 288 L 288 0 L 0 0 Z M 0 288 \"/>\n",
       "<g clip-path=\"url(#clip1)\" clip-rule=\"nonzero\">\n",
       "<path style=\" stroke:none;fill-rule:nonzero;fill:rgb(92.156863%,92.156863%,92.156863%);fill-opacity:1;\" d=\"M 37.09375 256.839844 L 282.519531 256.839844 L 282.519531 5.480469 L 37.09375 5.480469 Z M 37.09375 256.839844 \"/>\n",
       "<path style=\"fill:none;stroke-width:0.533489;stroke-linecap:butt;stroke-linejoin:round;stroke:rgb(100%,100%,100%);stroke-opacity:1;stroke-miterlimit:10;\" d=\"M 37.09375 213.054688 L 282.519531 213.054688 \"/>\n",
       "<path style=\"fill:none;stroke-width:0.533489;stroke-linecap:butt;stroke-linejoin:round;stroke:rgb(100%,100%,100%);stroke-opacity:1;stroke-miterlimit:10;\" d=\"M 37.09375 148.339844 L 282.519531 148.339844 \"/>\n",
       "<path style=\"fill:none;stroke-width:0.533489;stroke-linecap:butt;stroke-linejoin:round;stroke:rgb(100%,100%,100%);stroke-opacity:1;stroke-miterlimit:10;\" d=\"M 37.09375 83.621094 L 282.519531 83.621094 \"/>\n",
       "<path style=\"fill:none;stroke-width:0.533489;stroke-linecap:butt;stroke-linejoin:round;stroke:rgb(100%,100%,100%);stroke-opacity:1;stroke-miterlimit:10;\" d=\"M 37.09375 18.90625 L 282.519531 18.90625 \"/>\n",
       "<path style=\"fill:none;stroke-width:0.533489;stroke-linecap:butt;stroke-linejoin:round;stroke:rgb(100%,100%,100%);stroke-opacity:1;stroke-miterlimit:10;\" d=\"M 70.5625 256.839844 L 70.5625 5.480469 \"/>\n",
       "<path style=\"fill:none;stroke-width:0.533489;stroke-linecap:butt;stroke-linejoin:round;stroke:rgb(100%,100%,100%);stroke-opacity:1;stroke-miterlimit:10;\" d=\"M 115.183594 256.839844 L 115.183594 5.480469 \"/>\n",
       "<path style=\"fill:none;stroke-width:0.533489;stroke-linecap:butt;stroke-linejoin:round;stroke:rgb(100%,100%,100%);stroke-opacity:1;stroke-miterlimit:10;\" d=\"M 159.808594 256.839844 L 159.808594 5.480469 \"/>\n",
       "<path style=\"fill:none;stroke-width:0.533489;stroke-linecap:butt;stroke-linejoin:round;stroke:rgb(100%,100%,100%);stroke-opacity:1;stroke-miterlimit:10;\" d=\"M 204.429688 256.839844 L 204.429688 5.480469 \"/>\n",
       "<path style=\"fill:none;stroke-width:0.533489;stroke-linecap:butt;stroke-linejoin:round;stroke:rgb(100%,100%,100%);stroke-opacity:1;stroke-miterlimit:10;\" d=\"M 249.054688 256.839844 L 249.054688 5.480469 \"/>\n",
       "<path style=\"fill:none;stroke-width:1.066978;stroke-linecap:butt;stroke-linejoin:round;stroke:rgb(100%,100%,100%);stroke-opacity:1;stroke-miterlimit:10;\" d=\"M 37.09375 245.414063 L 282.519531 245.414063 \"/>\n",
       "<path style=\"fill:none;stroke-width:1.066978;stroke-linecap:butt;stroke-linejoin:round;stroke:rgb(100%,100%,100%);stroke-opacity:1;stroke-miterlimit:10;\" d=\"M 37.09375 180.699219 L 282.519531 180.699219 \"/>\n",
       "<path style=\"fill:none;stroke-width:1.066978;stroke-linecap:butt;stroke-linejoin:round;stroke:rgb(100%,100%,100%);stroke-opacity:1;stroke-miterlimit:10;\" d=\"M 37.09375 115.980469 L 282.519531 115.980469 \"/>\n",
       "<path style=\"fill:none;stroke-width:1.066978;stroke-linecap:butt;stroke-linejoin:round;stroke:rgb(100%,100%,100%);stroke-opacity:1;stroke-miterlimit:10;\" d=\"M 37.09375 51.265625 L 282.519531 51.265625 \"/>\n",
       "<path style=\"fill:none;stroke-width:1.066978;stroke-linecap:butt;stroke-linejoin:round;stroke:rgb(100%,100%,100%);stroke-opacity:1;stroke-miterlimit:10;\" d=\"M 48.25 256.839844 L 48.25 5.480469 \"/>\n",
       "<path style=\"fill:none;stroke-width:1.066978;stroke-linecap:butt;stroke-linejoin:round;stroke:rgb(100%,100%,100%);stroke-opacity:1;stroke-miterlimit:10;\" d=\"M 92.871094 256.839844 L 92.871094 5.480469 \"/>\n",
       "<path style=\"fill:none;stroke-width:1.066978;stroke-linecap:butt;stroke-linejoin:round;stroke:rgb(100%,100%,100%);stroke-opacity:1;stroke-miterlimit:10;\" d=\"M 137.496094 256.839844 L 137.496094 5.480469 \"/>\n",
       "<path style=\"fill:none;stroke-width:1.066978;stroke-linecap:butt;stroke-linejoin:round;stroke:rgb(100%,100%,100%);stroke-opacity:1;stroke-miterlimit:10;\" d=\"M 182.117188 256.839844 L 182.117188 5.480469 \"/>\n",
       "<path style=\"fill:none;stroke-width:1.066978;stroke-linecap:butt;stroke-linejoin:round;stroke:rgb(100%,100%,100%);stroke-opacity:1;stroke-miterlimit:10;\" d=\"M 226.742188 256.839844 L 226.742188 5.480469 \"/>\n",
       "<path style=\"fill:none;stroke-width:1.066978;stroke-linecap:butt;stroke-linejoin:round;stroke:rgb(100%,100%,100%);stroke-opacity:1;stroke-miterlimit:10;\" d=\"M 271.363281 256.839844 L 271.363281 5.480469 \"/>\n",
       "<path style=\"fill:none;stroke-width:1.066978;stroke-linecap:butt;stroke-linejoin:round;stroke:rgb(0%,0%,0%);stroke-opacity:1;stroke-miterlimit:1;\" d=\"M 48.25 245.414063 L 50.480469 101.828125 L 52.710938 59.425781 L 54.941406 36.613281 L 57.175781 24.230469 L 59.40625 18.378906 L 61.636719 16.90625 L 63.867188 18.46875 L 66.097656 22.171875 L 68.328125 27.378906 L 70.5625 33.632813 L 72.792969 40.59375 L 75.023438 48.011719 L 77.253906 55.695313 L 79.484375 63.5 L 81.714844 71.3125 L 83.949219 79.058594 L 86.179688 86.667969 L 88.410156 94.09375 L 90.640625 101.3125 L 92.871094 108.292969 L 95.105469 115.019531 L 97.335938 121.488281 L 99.566406 127.6875 L 101.796875 133.617188 L 104.027344 139.285156 L 106.257813 144.691406 L 108.492188 149.839844 L 110.722656 154.738281 L 112.953125 159.398438 L 115.183594 163.820313 L 117.414063 168.023438 L 119.644531 172.011719 L 121.878906 175.789063 L 124.109375 179.375 L 126.339844 182.769531 L 128.570313 185.988281 L 130.800781 189.039063 L 133.03125 191.925781 L 135.265625 194.65625 L 137.496094 197.246094 L 139.726563 199.695313 L 141.957031 202.015625 L 144.1875 204.210938 L 146.421875 206.289063 L 148.652344 208.257813 L 150.882813 210.121094 L 153.113281 211.886719 L 155.34375 213.554688 L 157.574219 215.136719 L 159.808594 216.636719 L 162.039063 218.054688 L 164.269531 219.398438 L 166.5 220.667969 L 168.730469 221.875 L 170.960938 223.019531 L 173.195313 224.101563 L 175.425781 225.128906 L 177.65625 226.101563 L 179.886719 227.023438 L 182.117188 227.902344 L 184.351563 228.730469 L 186.582031 229.519531 L 188.8125 230.265625 L 191.042969 230.976563 L 193.273438 231.648438 L 195.503906 232.289063 L 197.738281 232.894531 L 199.96875 233.472656 L 202.199219 234.019531 L 204.429688 234.539063 L 206.660156 235.035156 L 208.890625 235.503906 L 211.125 235.949219 L 213.355469 236.375 L 215.585938 236.777344 L 217.816406 237.164063 L 220.046875 237.527344 L 222.28125 237.878906 L 224.511719 238.207031 L 226.742188 238.523438 L 228.972656 238.824219 L 231.203125 239.109375 L 233.433594 239.382813 L 235.667969 239.640625 L 237.898438 239.890625 L 240.128906 240.125 L 242.359375 240.347656 L 244.589844 240.5625 L 246.820313 240.769531 L 249.054688 240.960938 L 251.285156 241.148438 L 253.515625 241.328125 L 255.746094 241.496094 L 257.976563 241.65625 L 260.210938 241.8125 L 262.441406 241.957031 L 264.671875 242.097656 L 266.902344 242.234375 L 269.132813 242.363281 L 271.363281 242.484375 \"/>\n",
       "</g>\n",
       "<g style=\"fill:rgb(30.196078%,30.196078%,30.196078%);fill-opacity:1;\">\n",
       "  <use xlink:href=\"#glyph0-0\" x=\"19.925781\" y=\"248.566406\"/>\n",
       "  <use xlink:href=\"#glyph0-1\" x=\"24.819922\" y=\"248.566406\"/>\n",
       "  <use xlink:href=\"#glyph0-0\" x=\"27.264844\" y=\"248.566406\"/>\n",
       "</g>\n",
       "<g style=\"fill:rgb(30.196078%,30.196078%,30.196078%);fill-opacity:1;\">\n",
       "  <use xlink:href=\"#glyph0-0\" x=\"19.925781\" y=\"183.847656\"/>\n",
       "  <use xlink:href=\"#glyph0-1\" x=\"24.819922\" y=\"183.847656\"/>\n",
       "  <use xlink:href=\"#glyph0-2\" x=\"27.264844\" y=\"183.847656\"/>\n",
       "</g>\n",
       "<g style=\"fill:rgb(30.196078%,30.196078%,30.196078%);fill-opacity:1;\">\n",
       "  <use xlink:href=\"#glyph0-0\" x=\"19.925781\" y=\"119.128906\"/>\n",
       "  <use xlink:href=\"#glyph0-1\" x=\"24.819922\" y=\"119.128906\"/>\n",
       "  <use xlink:href=\"#glyph0-3\" x=\"27.264844\" y=\"119.128906\"/>\n",
       "</g>\n",
       "<g style=\"fill:rgb(30.196078%,30.196078%,30.196078%);fill-opacity:1;\">\n",
       "  <use xlink:href=\"#glyph0-0\" x=\"19.925781\" y=\"54.414063\"/>\n",
       "  <use xlink:href=\"#glyph0-1\" x=\"24.819922\" y=\"54.414063\"/>\n",
       "  <use xlink:href=\"#glyph0-4\" x=\"27.264844\" y=\"54.414063\"/>\n",
       "</g>\n",
       "<path style=\"fill:none;stroke-width:1.066978;stroke-linecap:butt;stroke-linejoin:round;stroke:rgb(20%,20%,20%);stroke-opacity:1;stroke-miterlimit:10;\" d=\"M 34.355469 245.414063 L 37.09375 245.414063 \"/>\n",
       "<path style=\"fill:none;stroke-width:1.066978;stroke-linecap:butt;stroke-linejoin:round;stroke:rgb(20%,20%,20%);stroke-opacity:1;stroke-miterlimit:10;\" d=\"M 34.355469 180.699219 L 37.09375 180.699219 \"/>\n",
       "<path style=\"fill:none;stroke-width:1.066978;stroke-linecap:butt;stroke-linejoin:round;stroke:rgb(20%,20%,20%);stroke-opacity:1;stroke-miterlimit:10;\" d=\"M 34.355469 115.980469 L 37.09375 115.980469 \"/>\n",
       "<path style=\"fill:none;stroke-width:1.066978;stroke-linecap:butt;stroke-linejoin:round;stroke:rgb(20%,20%,20%);stroke-opacity:1;stroke-miterlimit:10;\" d=\"M 34.355469 51.265625 L 37.09375 51.265625 \"/>\n",
       "<path style=\"fill:none;stroke-width:1.066978;stroke-linecap:butt;stroke-linejoin:round;stroke:rgb(20%,20%,20%);stroke-opacity:1;stroke-miterlimit:10;\" d=\"M 48.25 259.582031 L 48.25 256.839844 \"/>\n",
       "<path style=\"fill:none;stroke-width:1.066978;stroke-linecap:butt;stroke-linejoin:round;stroke:rgb(20%,20%,20%);stroke-opacity:1;stroke-miterlimit:10;\" d=\"M 92.871094 259.582031 L 92.871094 256.839844 \"/>\n",
       "<path style=\"fill:none;stroke-width:1.066978;stroke-linecap:butt;stroke-linejoin:round;stroke:rgb(20%,20%,20%);stroke-opacity:1;stroke-miterlimit:10;\" d=\"M 137.496094 259.582031 L 137.496094 256.839844 \"/>\n",
       "<path style=\"fill:none;stroke-width:1.066978;stroke-linecap:butt;stroke-linejoin:round;stroke:rgb(20%,20%,20%);stroke-opacity:1;stroke-miterlimit:10;\" d=\"M 182.117188 259.582031 L 182.117188 256.839844 \"/>\n",
       "<path style=\"fill:none;stroke-width:1.066978;stroke-linecap:butt;stroke-linejoin:round;stroke:rgb(20%,20%,20%);stroke-opacity:1;stroke-miterlimit:10;\" d=\"M 226.742188 259.582031 L 226.742188 256.839844 \"/>\n",
       "<path style=\"fill:none;stroke-width:1.066978;stroke-linecap:butt;stroke-linejoin:round;stroke:rgb(20%,20%,20%);stroke-opacity:1;stroke-miterlimit:10;\" d=\"M 271.363281 259.582031 L 271.363281 256.839844 \"/>\n",
       "<g style=\"fill:rgb(30.196078%,30.196078%,30.196078%);fill-opacity:1;\">\n",
       "  <use xlink:href=\"#glyph0-0\" x=\"45.804688\" y=\"268.070313\"/>\n",
       "</g>\n",
       "<g style=\"fill:rgb(30.196078%,30.196078%,30.196078%);fill-opacity:1;\">\n",
       "  <use xlink:href=\"#glyph0-5\" x=\"90.425781\" y=\"268.070313\"/>\n",
       "</g>\n",
       "<g style=\"fill:rgb(30.196078%,30.196078%,30.196078%);fill-opacity:1;\">\n",
       "  <use xlink:href=\"#glyph0-2\" x=\"135.050781\" y=\"268.070313\"/>\n",
       "</g>\n",
       "<g style=\"fill:rgb(30.196078%,30.196078%,30.196078%);fill-opacity:1;\">\n",
       "  <use xlink:href=\"#glyph0-6\" x=\"179.671875\" y=\"268.070313\"/>\n",
       "</g>\n",
       "<g style=\"fill:rgb(30.196078%,30.196078%,30.196078%);fill-opacity:1;\">\n",
       "  <use xlink:href=\"#glyph0-3\" x=\"224.296875\" y=\"268.070313\"/>\n",
       "</g>\n",
       "<g style=\"fill:rgb(30.196078%,30.196078%,30.196078%);fill-opacity:1;\">\n",
       "  <use xlink:href=\"#glyph0-7\" x=\"268.917969\" y=\"268.070313\"/>\n",
       "</g>\n",
       "<g style=\"fill:rgb(0%,0%,0%);fill-opacity:1;\">\n",
       "  <use xlink:href=\"#glyph1-0\" x=\"157.058594\" y=\"280.328125\"/>\n",
       "</g>\n",
       "<g style=\"fill:rgb(0%,0%,0%);fill-opacity:1;\">\n",
       "  <use xlink:href=\"#glyph2-0\" x=\"15.546875\" y=\"133.910156\"/>\n",
       "</g>\n",
       "</g>\n",
       "</svg>\n"
      ],
      "text/plain": [
       "plot without title"
      ]
     },
     "metadata": {
      "image/svg+xml": {
       "isolated": true
      }
     },
     "output_type": "display_data"
    }
   ],
   "source": [
    "ggplot(data.frame(x = c(0:5)), aes(x)) + \n",
    "    stat_function(fun = df, args = list(df1 = 3, df2 = 16))"
   ]
  },
  {
   "cell_type": "markdown",
   "metadata": {},
   "source": [
    "* 有意水準: 5%，片側検定\n",
    "* 検定統計量の実現値"
   ]
  },
  {
   "cell_type": "code",
   "execution_count": 8,
   "metadata": {
    "collapsed": false
   },
   "outputs": [
    {
     "name": "stdout",
     "output_type": "stream",
     "text": [
      "Classes 'tbl_df', 'tbl' and 'data.frame':\t20 obs. of  2 variables:\n",
      " $ stat_test2     : int  10 13 8 15 8 6 9 10 7 3 ...\n",
      " $ teaching_method: Factor w/ 4 levels \"A\",\"B\",\"C\",\"D\": 3 2 2 1 2 3 1 4 4 4 ...\n"
     ]
    }
   ],
   "source": [
    "dd <- d %>>% \n",
    "    select(stat_test2, teaching_method) %>>% \n",
    "    mutate(teaching_method = factor(teaching_method))\n",
    "str(dd)"
   ]
  },
  {
   "cell_type": "markdown",
   "metadata": {},
   "source": [
    "* `oneway.test()`"
   ]
  },
  {
   "cell_type": "code",
   "execution_count": 12,
   "metadata": {
    "collapsed": false
   },
   "outputs": [
    {
     "data": {
      "text/plain": [
       "\n",
       "\tOne-way analysis of means\n",
       "\n",
       "data:  dd$stat_test2 and dd$teaching_method\n",
       "F = 7.1111, num df = 3, denom df = 16, p-value = 0.002988\n"
      ]
     },
     "metadata": {},
     "output_type": "display_data"
    }
   ],
   "source": [
    "oneway.test(dd$stat_test2 ~ dd$teaching_method, var.equal = TRUE)"
   ]
  },
  {
   "cell_type": "markdown",
   "metadata": {},
   "source": [
    "* `aov()`"
   ]
  },
  {
   "cell_type": "code",
   "execution_count": 13,
   "metadata": {
    "collapsed": false
   },
   "outputs": [
    {
     "data": {
      "text/plain": [
       "Call:\n",
       "   aov(formula = dd$stat_test2 ~ dd$teaching_method)\n",
       "\n",
       "Terms:\n",
       "                dd$teaching_method Residuals\n",
       "Sum of Squares                 184       138\n",
       "Deg. of Freedom                  3        16\n",
       "\n",
       "Residual standard error: 2.936835\n",
       "Estimated effects may be unbalanced"
      ]
     },
     "metadata": {},
     "output_type": "display_data"
    }
   ],
   "source": [
    "aov(dd$stat_test2 ~ dd$teaching_method)"
   ]
  },
  {
   "cell_type": "code",
   "execution_count": 14,
   "metadata": {
    "collapsed": false
   },
   "outputs": [
    {
     "data": {
      "text/plain": [
       "                   Df Sum Sq Mean Sq F value  Pr(>F)   \n",
       "dd$teaching_method  3    184   61.33   7.111 0.00299 **\n",
       "Residuals          16    138    8.62                   \n",
       "---\n",
       "Signif. codes:  0 '***' 0.001 '**' 0.01 '*' 0.05 '.' 0.1 ' ' 1"
      ]
     },
     "metadata": {},
     "output_type": "display_data"
    }
   ],
   "source": [
    "aov(dd$stat_test2 ~ dd$teaching_method) %>>% summary"
   ]
  },
  {
   "cell_type": "markdown",
   "metadata": {},
   "source": [
    "* `anova()`"
   ]
  },
  {
   "cell_type": "code",
   "execution_count": 15,
   "metadata": {
    "collapsed": false
   },
   "outputs": [
    {
     "data": {
      "text/html": [
       "<table>\n",
       "<thead><tr><th></th><th scope=col>Df</th><th scope=col>Sum Sq</th><th scope=col>Mean Sq</th><th scope=col>F value</th><th scope=col>Pr(>F)</th></tr></thead>\n",
       "<tbody>\n",
       "\t<tr><th scope=row>dd$teaching_method</th><td>3</td><td>184</td><td>61.33333</td><td>7.111111</td><td>0.002987783</td></tr>\n",
       "\t<tr><th scope=row>Residuals</th><td>16</td><td>138</td><td>8.625</td><td>NA</td><td>NA</td></tr>\n",
       "</tbody>\n",
       "</table>\n"
      ],
      "text/latex": [
       "\\begin{tabular}{r|lllll}\n",
       "  & Df & Sum Sq & Mean Sq & F value & Pr(>F)\\\\\n",
       "\\hline\n",
       "\tdd$teaching_method & 3 & 184 & 61.33333 & 7.111111 & 0.002987783\\\\\n",
       "\tResiduals & 16 & 138 & 8.625 & NA & NA\\\\\n",
       "\\end{tabular}\n"
      ],
      "text/plain": [
       "Analysis of Variance Table\n",
       "\n",
       "Response: dd$stat_test2\n",
       "                   Df Sum Sq Mean Sq F value   Pr(>F)   \n",
       "dd$teaching_method  3    184  61.333  7.1111 0.002988 **\n",
       "Residuals          16    138   8.625                    \n",
       "---\n",
       "Signif. codes:  0 '***' 0.001 '**' 0.01 '*' 0.05 '.' 0.1 ' ' 1"
      ]
     },
     "metadata": {},
     "output_type": "display_data"
    }
   ],
   "source": [
    "lm(dd$stat_test2 ~ dd$teaching_method) %>>% anova"
   ]
  },
  {
   "cell_type": "markdown",
   "metadata": {},
   "source": [
    "### 7.1.2 平方和の分解"
   ]
  },
  {
   "cell_type": "markdown",
   "metadata": {},
   "source": [
    "* 群内平方和"
   ]
  },
  {
   "cell_type": "code",
   "execution_count": 82,
   "metadata": {
    "collapsed": false
   },
   "outputs": [
    {
     "data": {
      "text/html": [
       "138"
      ],
      "text/latex": [
       "138"
      ],
      "text/markdown": [
       "138"
      ],
      "text/plain": [
       "[1] 138"
      ]
     },
     "metadata": {},
     "output_type": "display_data"
    }
   ],
   "source": [
    "intra_group_sq_sum <- dd %>>% \n",
    "    group_by(teaching_method) %>>%\n",
    "    mutate_each(funs(my_fun = stat_test2 - mean(stat_test2))) %>>%\n",
    "    ungroup %>>%\n",
    "    mutate(stat_test2 = stat_test2^2) %>>%\n",
    "    summarise(res = sum(stat_test2)) %>>%\n",
    "    (.[[\"res\"]])\n",
    "intra_group_sq_sum"
   ]
  },
  {
   "cell_type": "markdown",
   "metadata": {},
   "source": [
    "* 群間平方和"
   ]
  },
  {
   "cell_type": "code",
   "execution_count": 98,
   "metadata": {
    "collapsed": false,
    "scrolled": true
   },
   "outputs": [
    {
     "data": {
      "text/html": [
       "184"
      ],
      "text/latex": [
       "184"
      ],
      "text/markdown": [
       "184"
      ],
      "text/plain": [
       "[1] 184"
      ]
     },
     "metadata": {},
     "output_type": "display_data"
    }
   ],
   "source": [
    "all_mean <- dd$stat_test2 %>>% mean\n",
    "inter_group_sq_sum <- dd %>>% \n",
    "    group_by(teaching_method) %>>%\n",
    "    summarise_each(funs(mean, n())) %>>%\n",
    "    mutate(dev_sq_sum = (mean - all_mean)^2 * n) %>>%\n",
    "    summarise(res = sum(dev_sq_sum)) %>>%\n",
    "    (.[[\"res\"]])\n",
    "inter_group_sq_sum"
   ]
  },
  {
   "cell_type": "markdown",
   "metadata": {},
   "source": [
    "* 全体平方和"
   ]
  },
  {
   "cell_type": "code",
   "execution_count": 121,
   "metadata": {
    "collapsed": false
   },
   "outputs": [
    {
     "data": {
      "text/html": [
       "322"
      ],
      "text/latex": [
       "322"
      ],
      "text/markdown": [
       "322"
      ],
      "text/plain": [
       "[1] 322"
      ]
     },
     "metadata": {},
     "output_type": "display_data"
    }
   ],
   "source": [
    "all_sq_sum <- dd %>>% \n",
    "    mutate(dev_sq_sum = (stat_test2 - all_mean)^2) %>>%\n",
    "    summarise(res = sum(dev_sq_sum)) %>>%\n",
    "    (.[[\"res\"]])\n",
    "all_sq_sum"
   ]
  },
  {
   "cell_type": "markdown",
   "metadata": {},
   "source": [
    "分散分析表との対応を見る"
   ]
  },
  {
   "cell_type": "code",
   "execution_count": 29,
   "metadata": {
    "collapsed": false
   },
   "outputs": [
    {
     "data": {
      "text/plain": [
       "                   Df Sum Sq Mean Sq F value  Pr(>F)   \n",
       "dd$teaching_method  3    184   61.33   7.111 0.00299 **\n",
       "Residuals          16    138    8.62                   \n",
       "---\n",
       "Signif. codes:  0 '***' 0.001 '**' 0.01 '*' 0.05 '.' 0.1 ' ' 1"
      ]
     },
     "metadata": {},
     "output_type": "display_data"
    }
   ],
   "source": [
    "aov(dd$stat_test2 ~ dd$teaching_method) %>>% summary"
   ]
  },
  {
   "cell_type": "markdown",
   "metadata": {},
   "source": [
    "* 全体平方和 = 群間平方和 + 群内平方和"
   ]
  },
  {
   "cell_type": "code",
   "execution_count": 109,
   "metadata": {
    "collapsed": false
   },
   "outputs": [
    {
     "data": {
      "text/html": [
       "322"
      ],
      "text/latex": [
       "322"
      ],
      "text/markdown": [
       "322"
      ],
      "text/plain": [
       "[1] 322"
      ]
     },
     "metadata": {},
     "output_type": "display_data"
    }
   ],
   "source": [
    "inter_group_sq_sum + intra_group_sq_sum"
   ]
  },
  {
   "cell_type": "markdown",
   "metadata": {},
   "source": [
    "自由度\n",
    "\n",
    "* 群間: 群の数 - 1"
   ]
  },
  {
   "cell_type": "code",
   "execution_count": 112,
   "metadata": {
    "collapsed": false
   },
   "outputs": [
    {
     "data": {
      "text/html": [
       "3"
      ],
      "text/latex": [
       "3"
      ],
      "text/markdown": [
       "3"
      ],
      "text/plain": [
       "[1] 3"
      ]
     },
     "metadata": {},
     "output_type": "display_data"
    }
   ],
   "source": [
    "df_inter <- (unique(dd$teaching_method) %>>% length) - 1\n",
    "df_inter"
   ]
  },
  {
   "cell_type": "markdown",
   "metadata": {},
   "source": [
    "* 郡内: sum(各群のデータ数 - 1)"
   ]
  },
  {
   "cell_type": "code",
   "execution_count": 118,
   "metadata": {
    "collapsed": false
   },
   "outputs": [
    {
     "data": {
      "text/html": [
       "16"
      ],
      "text/latex": [
       "16"
      ],
      "text/markdown": [
       "16"
      ],
      "text/plain": [
       "[1] 16"
      ]
     },
     "metadata": {},
     "output_type": "display_data"
    }
   ],
   "source": [
    "df_intra <- dd %>>% \n",
    "    group_by(teaching_method) %>>% \n",
    "    summarise(n = n()) %>>%\n",
    "    ungroup %>>%\n",
    "    summarise(res = sum(n - 1)) %>>%\n",
    "    (.[[\"res\"]])\n",
    "df_intra"
   ]
  },
  {
   "cell_type": "markdown",
   "metadata": {},
   "source": [
    "* 全データ: 全データ数 - 1"
   ]
  },
  {
   "cell_type": "code",
   "execution_count": 120,
   "metadata": {
    "collapsed": false
   },
   "outputs": [
    {
     "data": {
      "text/html": [
       "19"
      ],
      "text/latex": [
       "19"
      ],
      "text/markdown": [
       "19"
      ],
      "text/plain": [
       "[1] 19"
      ]
     },
     "metadata": {},
     "output_type": "display_data"
    }
   ],
   "source": [
    "df_all <- length(dd$stat_test2) - 1\n",
    "df_all"
   ]
  },
  {
   "cell_type": "markdown",
   "metadata": {},
   "source": [
    "全データ = 群間 + 群内"
   ]
  },
  {
   "cell_type": "code",
   "execution_count": 34,
   "metadata": {
    "collapsed": false
   },
   "outputs": [
    {
     "data": {
      "text/html": [
       "19"
      ],
      "text/latex": [
       "19"
      ],
      "text/markdown": [
       "19"
      ],
      "text/plain": [
       "[1] 19"
      ]
     },
     "metadata": {},
     "output_type": "display_data"
    }
   ],
   "source": [
    "df_inter + df_intra"
   ]
  },
  {
   "cell_type": "code",
   "execution_count": 35,
   "metadata": {
    "collapsed": false
   },
   "outputs": [
    {
     "data": {
      "text/html": [
       "61.3333333333333"
      ],
      "text/latex": [
       "61.3333333333333"
      ],
      "text/markdown": [
       "61.3333333333333"
      ],
      "text/plain": [
       "[1] 61.33333"
      ]
     },
     "metadata": {},
     "output_type": "display_data"
    }
   ],
   "source": [
    "inter_mean_sq <- inter_group_sq_sum / df_inter\n",
    "inter_mean_sq"
   ]
  },
  {
   "cell_type": "code",
   "execution_count": 36,
   "metadata": {
    "collapsed": false
   },
   "outputs": [
    {
     "data": {
      "text/html": [
       "8.625"
      ],
      "text/latex": [
       "8.625"
      ],
      "text/markdown": [
       "8.625"
      ],
      "text/plain": [
       "[1] 8.625"
      ]
     },
     "metadata": {},
     "output_type": "display_data"
    }
   ],
   "source": [
    "intra_mean_sq <- intra_group_sq_sum / df_intra\n",
    "intra_mean_sq"
   ]
  },
  {
   "cell_type": "markdown",
   "metadata": {},
   "source": [
    "全体平方和を全体の自由度で割った平均平方は、全データの不偏分散となる"
   ]
  },
  {
   "cell_type": "code",
   "execution_count": 37,
   "metadata": {
    "collapsed": false
   },
   "outputs": [
    {
     "data": {
      "text/html": [
       "16.9473684210526"
      ],
      "text/latex": [
       "16.9473684210526"
      ],
      "text/markdown": [
       "16.9473684210526"
      ],
      "text/plain": [
       "[1] 16.94737"
      ]
     },
     "metadata": {},
     "output_type": "display_data"
    }
   ],
   "source": [
    "all_sq_sum / df_all"
   ]
  },
  {
   "cell_type": "code",
   "execution_count": 38,
   "metadata": {
    "collapsed": false
   },
   "outputs": [
    {
     "data": {
      "text/html": [
       "16.9473684210526"
      ],
      "text/latex": [
       "16.9473684210526"
      ],
      "text/markdown": [
       "16.9473684210526"
      ],
      "text/plain": [
       "[1] 16.94737"
      ]
     },
     "metadata": {},
     "output_type": "display_data"
    }
   ],
   "source": [
    "var(d$stat_test2)"
   ]
  },
  {
   "cell_type": "markdown",
   "metadata": {},
   "source": [
    "* $F$ 値"
   ]
  },
  {
   "cell_type": "code",
   "execution_count": 39,
   "metadata": {
    "collapsed": false
   },
   "outputs": [
    {
     "data": {
      "text/html": [
       "7.11111111111111"
      ],
      "text/latex": [
       "7.11111111111111"
      ],
      "text/markdown": [
       "7.11111111111111"
      ],
      "text/plain": [
       "[1] 7.111111"
      ]
     },
     "metadata": {},
     "output_type": "display_data"
    }
   ],
   "source": [
    "f_value <- inter_mean_sq / intra_mean_sq\n",
    "f_value"
   ]
  },
  {
   "cell_type": "code",
   "execution_count": 40,
   "metadata": {
    "collapsed": false
   },
   "outputs": [
    {
     "name": "stderr",
     "output_type": "stream",
     "text": [
      "Session info -------------------------------------------------------------------\n",
      "Packages -----------------------------------------------------------------------\n",
      "Session info -------------------------------------------------------------------\n",
      "Packages -----------------------------------------------------------------------\n"
     ]
    },
    {
     "data": {
      "text/plain": [
       " setting  value                       \n",
       " version  R version 3.2.3 (2015-12-10)\n",
       " system   x86_64, mingw32             \n",
       " ui       RTerm                       \n",
       " language en                          \n",
       " collate  Japanese_Japan.932          \n",
       " tz       Asia/Tokyo                  \n",
       " date     2016-05-26                  \n",
       "\n",
       " package    * version date       source                            \n",
       " assertthat   0.1     2013-12-06 CRAN (R 3.2.1)                    \n",
       " base64enc    0.1-3   2015-07-28 CRAN (R 3.2.2)                    \n",
       " chron        2.3-47  2015-06-24 CRAN (R 3.2.2)                    \n",
       " colorspace   1.2-6   2015-03-11 CRAN (R 3.2.1)                    \n",
       " data.table   1.9.6   2015-09-19 CRAN (R 3.2.2)                    \n",
       " DBI          0.3.1   2014-09-24 CRAN (R 3.2.1)                    \n",
       " devtools     1.10.0  2016-01-23 CRAN (R 3.2.3)                    \n",
       " digest       0.6.9   2016-01-08 CRAN (R 3.2.3)                    \n",
       " dplyr      * 0.4.3   2015-09-01 CRAN (R 3.2.2)                    \n",
       " evaluate     0.9     2016-04-29 CRAN (R 3.2.5)                    \n",
       " ggplot2    * 2.0.0   2015-12-18 CRAN (R 3.2.3)                    \n",
       " gtable       0.1.2   2012-12-05 CRAN (R 3.2.1)                    \n",
       " IRdisplay    0.3     2015-04-27 local                             \n",
       " IRkernel     0.6     2016-02-08 Github (IRkernel/IRkernel@40dc791)\n",
       " jsonlite     0.9.20  2016-05-10 CRAN (R 3.2.5)                    \n",
       " labeling     0.3     2014-08-23 CRAN (R 3.2.1)                    \n",
       " lazyeval     0.1.10  2015-01-02 CRAN (R 3.2.1)                    \n",
       " magrittr     1.5     2014-11-22 CRAN (R 3.2.1)                    \n",
       " memoise      1.0.0   2016-01-29 CRAN (R 3.2.3)                    \n",
       " munsell      0.4.2   2013-07-11 CRAN (R 3.2.1)                    \n",
       " pbdZMQ       0.2-1   2016-01-21 CRAN (R 3.2.3)                    \n",
       " pipeR      * 0.6.0.6 2015-07-08 CRAN (R 3.2.1)                    \n",
       " plyr         1.8.3   2015-06-12 CRAN (R 3.2.1)                    \n",
       " purrr      * 0.2.0   2016-01-04 CRAN (R 3.2.3)                    \n",
       " R6           2.1.2   2016-01-26 CRAN (R 3.2.3)                    \n",
       " Rcpp         0.12.5  2016-05-14 CRAN (R 3.2.5)                    \n",
       " readr      * 0.2.2   2015-10-22 CRAN (R 3.2.2)                    \n",
       " readxl     * 0.1.0   2015-04-14 CRAN (R 3.2.1)                    \n",
       " repr         0.4     2015-11-16 local                             \n",
       " rlist      * 0.4.5.1 2015-09-09 CRAN (R 3.2.3)                    \n",
       " scales       0.3.0   2015-08-25 CRAN (R 3.2.2)                    \n",
       " stringi      1.0-1   2015-10-22 CRAN (R 3.2.3)                    \n",
       " stringr      1.0.0   2015-04-30 CRAN (R 3.2.3)                    \n",
       " tidyr      * 0.4.1   2016-02-05 CRAN (R 3.2.3)                    \n",
       " uuid         0.1-2   2015-07-28 CRAN (R 3.2.2)                    "
      ]
     },
     "metadata": {},
     "output_type": "display_data"
    }
   ],
   "source": [
    "devtools::session_info()"
   ]
  }
 ],
 "metadata": {
  "kernelspec": {
   "display_name": "R 3.2",
   "language": "R",
   "name": "ir32"
  },
  "language_info": {
   "codemirror_mode": "r",
   "file_extension": ".r",
   "mimetype": "text/x-r-source",
   "name": "R",
   "pygments_lexer": "r",
   "version": "3.2.3"
  }
 },
 "nbformat": 4,
 "nbformat_minor": 0
}
