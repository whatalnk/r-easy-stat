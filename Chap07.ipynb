{
 "cells": [
  {
   "cell_type": "markdown",
   "metadata": {},
   "source": [
    "# 第I部\n",
    "# 第7章 分散分析"
   ]
  },
  {
   "cell_type": "code",
   "execution_count": 1,
   "metadata": {
    "collapsed": false,
    "scrolled": false
   },
   "outputs": [
    {
     "name": "stderr",
     "output_type": "stream",
     "text": [
      "Loading required package: pipeR\n",
      "Loading required package: dplyr\n",
      "Warning message:\n",
      ": package 'dplyr' was built under R version 3.3.1\n",
      "Attaching package: 'dplyr'\n",
      "\n",
      "The following objects are masked from 'package:stats':\n",
      "\n",
      "    filter, lag\n",
      "\n",
      "The following objects are masked from 'package:base':\n",
      "\n",
      "    intersect, setdiff, setequal, union\n",
      "\n",
      "Loading required package: tidyr\n",
      "Loading required package: ggplot2\n",
      "Loading required package: readr\n",
      "Loading required package: readxl\n"
     ]
    },
    {
     "data": {
      "text/html": [
       "<ol>\n",
       "\t<li>TRUE</li>\n",
       "\t<li>TRUE</li>\n",
       "\t<li>TRUE</li>\n",
       "\t<li>TRUE</li>\n",
       "\t<li>TRUE</li>\n",
       "\t<li>TRUE</li>\n",
       "</ol>\n"
      ],
      "text/latex": [
       "\\begin{enumerate}\n",
       "\\item TRUE\n",
       "\\item TRUE\n",
       "\\item TRUE\n",
       "\\item TRUE\n",
       "\\item TRUE\n",
       "\\item TRUE\n",
       "\\end{enumerate}\n"
      ],
      "text/markdown": [
       "1. TRUE\n",
       "2. TRUE\n",
       "3. TRUE\n",
       "4. TRUE\n",
       "5. TRUE\n",
       "6. TRUE\n",
       "\n",
       "\n"
      ],
      "text/plain": [
       "[[1]]\n",
       "[1] TRUE\n",
       "\n",
       "[[2]]\n",
       "[1] TRUE\n",
       "\n",
       "[[3]]\n",
       "[1] TRUE\n",
       "\n",
       "[[4]]\n",
       "[1] TRUE\n",
       "\n",
       "[[5]]\n",
       "[1] TRUE\n",
       "\n",
       "[[6]]\n",
       "[1] TRUE\n"
      ]
     },
     "metadata": {},
     "output_type": "display_data"
    }
   ],
   "source": [
    "pkgs <- c(\"pipeR\", \"dplyr\", \"tidyr\", \"ggplot2\", \"readr\", \"readxl\")\n",
    "lapply(pkgs, require, character.only = TRUE)"
   ]
  },
  {
   "cell_type": "code",
   "execution_count": 2,
   "metadata": {
    "collapsed": false
   },
   "outputs": [
    {
     "data": {
      "text/html": [
       "<table>\n",
       "<thead><tr><th></th><th scope=col>ID</th><th scope=col>名前</th><th scope=col>性別</th><th scope=col>数学</th><th scope=col>統計</th><th scope=col>心理学テスト</th><th scope=col>統計テスト1</th><th scope=col>統計テスト2</th><th scope=col>指導法</th></tr></thead>\n",
       "<tbody>\n",
       "\t<tr><th scope=row>1</th><td>1   </td><td>大村</td><td>男  </td><td>嫌い</td><td>好き</td><td>13  </td><td>6   </td><td>10  </td><td>C   </td></tr>\n",
       "\t<tr><th scope=row>2</th><td>2   </td><td>本多</td><td>男  </td><td>嫌い</td><td>好き</td><td>14  </td><td>10  </td><td>13  </td><td>B   </td></tr>\n",
       "\t<tr><th scope=row>3</th><td>3   </td><td>川崎</td><td>男  </td><td>好き</td><td>好き</td><td>7   </td><td>6   </td><td>8   </td><td>B   </td></tr>\n",
       "\t<tr><th scope=row>4</th><td>4   </td><td>多村</td><td>男  </td><td>好き</td><td>好き</td><td>12  </td><td>10  </td><td>15  </td><td>A   </td></tr>\n",
       "\t<tr><th scope=row>5</th><td>5   </td><td>松中</td><td>男  </td><td>嫌い</td><td>嫌い</td><td>10  </td><td>5   </td><td>8   </td><td>B   </td></tr>\n",
       "\t<tr><th scope=row>6</th><td>6     </td><td>小久保</td><td>男    </td><td>嫌い  </td><td>嫌い  </td><td>6     </td><td>3     </td><td>6     </td><td>C     </td></tr>\n",
       "</tbody>\n",
       "</table>\n"
      ],
      "text/latex": [
       "\\begin{tabular}{r|lllllllll}\n",
       "  & ID & 名前 & 性別 & 数学 & 統計 & 心理学テスト & 統計テスト1 & 統計テスト2 & 指導法\\\\\n",
       "\\hline\n",
       "\t1 & 1    & 大村 & 男   & 嫌い & 好き & 13   & 6    & 10   & C   \\\\\n",
       "\t2 & 2    & 本多 & 男   & 嫌い & 好き & 14   & 10   & 13   & B   \\\\\n",
       "\t3 & 3    & 川崎 & 男   & 好き & 好き & 7    & 6    & 8    & B   \\\\\n",
       "\t4 & 4    & 多村 & 男   & 好き & 好き & 12   & 10   & 15   & A   \\\\\n",
       "\t5 & 5    & 松中 & 男   & 嫌い & 嫌い & 10   & 5    & 8    & B   \\\\\n",
       "\t6 & 6      & 小久保 & 男     & 嫌い   & 嫌い   & 6      & 3      & 6      & C     \\\\\n",
       "\\end{tabular}\n"
      ],
      "text/plain": [
       "  ID   名前 性別 数学 統計 心理学テスト 統計テスト1 統計テスト2 指導法\n",
       "1  1   大村   男 嫌い 好き           13           6          10      C\n",
       "2  2   本多   男 嫌い 好き           14          10          13      B\n",
       "3  3   川崎   男 好き 好き            7           6           8      B\n",
       "4  4   多村   男 好き 好き           12          10          15      A\n",
       "5  5   松中   男 嫌い 嫌い           10           5           8      B\n",
       "6  6 小久保   男 嫌い 嫌い            6           3           6      C"
      ]
     },
     "metadata": {},
     "output_type": "display_data"
    }
   ],
   "source": [
    "d <- read_csv(\"teaching_methods.csv\")\n",
    "head(d)"
   ]
  },
  {
   "cell_type": "code",
   "execution_count": 3,
   "metadata": {
    "collapsed": false
   },
   "outputs": [
    {
     "name": "stdout",
     "output_type": "stream",
     "text": [
      "Classes 'tbl_df', 'tbl' and 'data.frame':\t20 obs. of  9 variables:\n",
      " $ ID          : int  1 2 3 4 5 6 7 8 9 10 ...\n",
      " $ 名前        : chr  \"大村\" \"本多\" \"川崎\" \"多村\" ...\n",
      " $ 性別        : chr  \"男\" \"男\" \"男\" \"男\" ...\n",
      " $ 数学        : chr  \"嫌い\" \"嫌い\" \"好き\" \"好き\" ...\n",
      " $ 統計        : chr  \"好き\" \"好き\" \"好き\" \"好き\" ...\n",
      " $ 心理学テスト: int  13 14 7 12 10 6 8 15 4 14 ...\n",
      " $ 統計テスト1 : int  6 10 6 10 5 3 5 9 3 3 ...\n",
      " $ 統計テスト2 : int  10 13 8 15 8 6 9 10 7 3 ...\n",
      " $ 指導法      : chr  \"C\" \"B\" \"B\" \"A\" ...\n"
     ]
    }
   ],
   "source": [
    "str(d)"
   ]
  },
  {
   "cell_type": "code",
   "execution_count": 4,
   "metadata": {
    "collapsed": true
   },
   "outputs": [],
   "source": [
    "names(d) <- c(\"id\", \"name\", \"sex\",\"math\", \"stat\", \"psy_test\", \"stat_test1\", \"stat_test2\", \"teaching_method\")"
   ]
  },
  {
   "cell_type": "code",
   "execution_count": 5,
   "metadata": {
    "collapsed": false
   },
   "outputs": [
    {
     "name": "stderr",
     "output_type": "stream",
     "text": [
      "Warning message:\n",
      ": package 'rlist' was built under R version 3.3.1"
     ]
    }
   ],
   "source": [
    "library(rlist)"
   ]
  },
  {
   "cell_type": "code",
   "execution_count": 6,
   "metadata": {
    "collapsed": false
   },
   "outputs": [
    {
     "name": "stderr",
     "output_type": "stream",
     "text": [
      "Warning message:\n",
      ": package 'purrr' was built under R version 3.3.1\n",
      "Attaching package: 'purrr'\n",
      "\n",
      "The following objects are masked from 'package:dplyr':\n",
      "\n",
      "    contains, order_by\n",
      "\n"
     ]
    }
   ],
   "source": [
    "library(purrr)"
   ]
  },
  {
   "cell_type": "markdown",
   "metadata": {},
   "source": [
    "* 指導法ごとの統計テスト2の点数"
   ]
  },
  {
   "cell_type": "code",
   "execution_count": 7,
   "metadata": {
    "collapsed": false
   },
   "outputs": [
    {
     "data": {
      "text/html": [
       "<table>\n",
       "<thead><tr><th scope=col>A</th><th scope=col>B</th><th scope=col>C</th><th scope=col>D</th></tr></thead>\n",
       "<tbody>\n",
       "\t<tr><td>15</td><td>13</td><td>10</td><td>10</td></tr>\n",
       "\t<tr><td>9</td><td>8</td><td>6</td><td>7</td></tr>\n",
       "\t<tr><td>18</td><td> 8</td><td>11</td><td> 3</td></tr>\n",
       "\t<tr><td>14</td><td>12</td><td> 7</td><td> 5</td></tr>\n",
       "\t<tr><td>18</td><td> 7</td><td>12</td><td> 7</td></tr>\n",
       "</tbody>\n",
       "</table>\n"
      ],
      "text/latex": [
       "\\begin{tabular}{llll}\n",
       " A & B & C & D\\\\\n",
       "\\hline\n",
       "\t 15 & 13 & 10 & 10\\\\\n",
       "\t 9 & 8 & 6 & 7\\\\\n",
       "\t 18 &  8 & 11 &  3\\\\\n",
       "\t 14 & 12 &  7 &  5\\\\\n",
       "\t 18 &  7 & 12 &  7\\\\\n",
       "\\end{tabular}\n"
      ],
      "text/markdown": [
       "1. 15\n",
       "2. 9\n",
       "3. 18\n",
       "4. 14\n",
       "5. 18\n",
       "6. 13\n",
       "7. 8\n",
       "8. 8\n",
       "9. 12\n",
       "10. 7\n",
       "11. 10\n",
       "12. 6\n",
       "13. 11\n",
       "14. 7\n",
       "15. 12\n",
       "16. 10\n",
       "17. 7\n",
       "18. 3\n",
       "19. 5\n",
       "20. 7\n",
       "\n",
       "\n"
      ],
      "text/plain": [
       "      A  B  C  D\n",
       "[1,] 15 13 10 10\n",
       "[2,]  9  8  6  7\n",
       "[3,] 18  8 11  3\n",
       "[4,] 14 12  7  5\n",
       "[5,] 18  7 12  7"
      ]
     },
     "metadata": {},
     "output_type": "display_data"
    }
   ],
   "source": [
    "d %>>% \n",
    "#     dplyr::select(stat_test2, teaching_method) %>>% \n",
    "    split(.$teaching_method) %>>% \n",
    "    purrr::map(~ .[[\"stat_test2\"]]) %>>% \n",
    "    rlist::list.cbind()"
   ]
  },
  {
   "cell_type": "markdown",
   "metadata": {},
   "source": [
    "## 7.1 一元配置分散分析（対応なし）\n",
    "\n",
    "* 帰無仮説: 4群の母平均は等しい\n",
    "* 検定統計量$F$: 帰無仮説が正しいとき，自由度$df_1$，$df_2$のF分布に従う\n",
    "\n",
    "$$ F = \\frac{\\mbox{群間平方和 / 群間の自由度}}{\\mbox{群内平方和 / 群内の自由度}} $$"
   ]
  },
  {
   "cell_type": "code",
   "execution_count": 8,
   "metadata": {
    "collapsed": false,
    "scrolled": true
   },
   "outputs": [],
   "source": [
    "?df"
   ]
  },
  {
   "cell_type": "code",
   "execution_count": 9,
   "metadata": {
    "collapsed": true
   },
   "outputs": [],
   "source": [
    "options(repr.plot.width = 4, repr.plot.height = 4)"
   ]
  },
  {
   "cell_type": "code",
   "execution_count": 10,
   "metadata": {
    "collapsed": false
   },
   "outputs": [
    {
     "data": {
      "text/plain": []
     },
     "metadata": {},
     "output_type": "display_data"
    },
    {
     "data": {
      "image/png": "[encoded data removed]",
      "image/svg+xml": [
       "<?xml version=\"1.0\" encoding=\"UTF-8\"?>\n",
       "<svg xmlns=\"http://www.w3.org/2000/svg\" xmlns:xlink=\"http://www.w3.org/1999/xlink\" width=\"288pt\" height=\"288pt\" viewBox=\"0 0 288 288\" version=\"1.1\">\n",
       "<defs>\n",
       "<g>\n",
       "<symbol overflow=\"visible\" id=\"glyph0-0\">\n",
       "<path style=\"stroke:none;\" d=\"M 0.386719 -3.28125 C 0.386719 -4.070313 0.464844 -4.703125 0.628906 -5.183594 C 0.785156 -5.660156 1.027344 -6.03125 1.347656 -6.292969 C 1.667969 -6.550781 2.070313 -6.679688 2.554688 -6.683594 C 2.914063 -6.679688 3.226563 -6.609375 3.496094 -6.46875 C 3.765625 -6.324219 3.988281 -6.117188 4.164063 -5.847656 C 4.335938 -5.574219 4.472656 -5.242188 4.574219 -4.855469 C 4.671875 -4.464844 4.722656 -3.941406 4.726563 -3.28125 C 4.722656 -2.5 4.640625 -1.867188 4.484375 -1.390625 C 4.320313 -0.90625 4.082031 -0.535156 3.765625 -0.277344 C 3.445313 -0.015625 3.042969 0.109375 2.554688 0.113281 C 1.914063 0.109375 1.410156 -0.117188 1.042969 -0.578125 C 0.605469 -1.128906 0.386719 -2.03125 0.386719 -3.28125 Z M 1.226563 -3.28125 C 1.222656 -2.1875 1.351563 -1.460938 1.609375 -1.101563 C 1.863281 -0.738281 2.179688 -0.554688 2.554688 -0.558594 C 2.929688 -0.554688 3.246094 -0.738281 3.503906 -1.101563 C 3.757813 -1.464844 3.882813 -2.191406 3.886719 -3.28125 C 3.882813 -4.375 3.757813 -5.101563 3.503906 -5.464844 C 3.246094 -5.824219 2.925781 -6.003906 2.546875 -6.007813 C 2.167969 -6.003906 1.867188 -5.847656 1.648438 -5.53125 C 1.363281 -5.125 1.222656 -4.375 1.226563 -3.28125 Z M 1.226563 -3.28125 \"/>\n",
       "</symbol>\n",
       "<symbol overflow=\"visible\" id=\"glyph0-1\">\n",
       "<path style=\"stroke:none;\" d=\"M 0.84375 0 L 0.84375 -0.929688 L 1.777344 -0.929688 L 1.777344 0 Z M 0.84375 0 \"/>\n",
       "</symbol>\n",
       "<symbol overflow=\"visible\" id=\"glyph0-2\">\n",
       "<path style=\"stroke:none;\" d=\"M 4.683594 -0.785156 L 4.683594 0 L 0.28125 0 C 0.273438 -0.195313 0.304688 -0.382813 0.375 -0.566406 C 0.488281 -0.863281 0.667969 -1.160156 0.914063 -1.453125 C 1.160156 -1.742188 1.515625 -2.078125 1.984375 -2.460938 C 2.707031 -3.054688 3.195313 -3.523438 3.449219 -3.871094 C 3.703125 -4.214844 3.832031 -4.542969 3.832031 -4.855469 C 3.832031 -5.175781 3.714844 -5.449219 3.484375 -5.671875 C 3.25 -5.894531 2.949219 -6.003906 2.578125 -6.007813 C 2.183594 -6.003906 1.867188 -5.886719 1.632813 -5.652344 C 1.394531 -5.414063 1.277344 -5.085938 1.277344 -4.671875 L 0.4375 -4.757813 C 0.492188 -5.382813 0.707031 -5.859375 1.085938 -6.191406 C 1.457031 -6.515625 1.960938 -6.679688 2.597656 -6.683594 C 3.230469 -6.679688 3.738281 -6.503906 4.113281 -6.152344 C 4.484375 -5.796875 4.667969 -5.355469 4.671875 -4.835938 C 4.667969 -4.566406 4.613281 -4.304688 4.507813 -4.050781 C 4.398438 -3.789063 4.21875 -3.519531 3.964844 -3.238281 C 3.710938 -2.953125 3.292969 -2.5625 2.707031 -2.066406 C 2.214844 -1.652344 1.898438 -1.371094 1.761719 -1.226563 C 1.621094 -1.078125 1.507813 -0.933594 1.417969 -0.785156 Z M 4.683594 -0.785156 \"/>\n",
       "</symbol>\n",
       "<symbol overflow=\"visible\" id=\"glyph0-3\">\n",
       "<path style=\"stroke:none;\" d=\"M 3.007813 0 L 3.007813 -1.59375 L 0.117188 -1.59375 L 0.117188 -2.34375 L 3.15625 -6.65625 L 3.824219 -6.65625 L 3.824219 -2.34375 L 4.722656 -2.34375 L 4.722656 -1.59375 L 3.824219 -1.59375 L 3.824219 0 Z M 3.007813 -2.34375 L 3.007813 -5.34375 L 0.921875 -2.34375 Z M 3.007813 -2.34375 \"/>\n",
       "</symbol>\n",
       "<symbol overflow=\"visible\" id=\"glyph0-4\">\n",
       "<path style=\"stroke:none;\" d=\"M 4.628906 -5.027344 L 3.816406 -4.964844 C 3.738281 -5.28125 3.636719 -5.515625 3.503906 -5.664063 C 3.285156 -5.894531 3.011719 -6.011719 2.6875 -6.011719 C 2.425781 -6.011719 2.199219 -5.9375 2.003906 -5.792969 C 1.746094 -5.601563 1.542969 -5.328125 1.394531 -4.972656 C 1.246094 -4.609375 1.167969 -4.097656 1.164063 -3.433594 C 1.355469 -3.730469 1.59375 -3.953125 1.882813 -4.101563 C 2.164063 -4.246094 2.464844 -4.316406 2.777344 -4.320313 C 3.324219 -4.316406 3.789063 -4.117188 4.171875 -3.714844 C 4.554688 -3.3125 4.746094 -2.792969 4.746094 -2.160156 C 4.746094 -1.742188 4.652344 -1.355469 4.472656 -0.996094 C 4.289063 -0.636719 4.042969 -0.359375 3.730469 -0.171875 C 3.414063 0.0195313 3.058594 0.109375 2.660156 0.113281 C 1.980469 0.109375 1.425781 -0.136719 0.996094 -0.636719 C 0.566406 -1.136719 0.351563 -1.960938 0.351563 -3.113281 C 0.351563 -4.398438 0.585938 -5.335938 1.0625 -5.921875 C 1.472656 -6.425781 2.03125 -6.679688 2.738281 -6.683594 C 3.257813 -6.679688 3.6875 -6.53125 4.023438 -6.242188 C 4.355469 -5.945313 4.558594 -5.542969 4.628906 -5.027344 Z M 1.289063 -2.15625 C 1.289063 -1.875 1.347656 -1.605469 1.46875 -1.347656 C 1.585938 -1.089844 1.753906 -0.890625 1.96875 -0.757813 C 2.183594 -0.621094 2.410156 -0.554688 2.648438 -0.558594 C 2.992188 -0.554688 3.285156 -0.695313 3.535156 -0.976563 C 3.78125 -1.253906 3.90625 -1.632813 3.910156 -2.113281 C 3.90625 -2.570313 3.785156 -2.933594 3.542969 -3.199219 C 3.296875 -3.464844 2.988281 -3.597656 2.617188 -3.597656 C 2.246094 -3.597656 1.933594 -3.464844 1.675781 -3.199219 C 1.417969 -2.933594 1.289063 -2.585938 1.289063 -2.15625 Z M 1.289063 -2.15625 \"/>\n",
       "</symbol>\n",
       "<symbol overflow=\"visible\" id=\"glyph0-5\">\n",
       "<path style=\"stroke:none;\" d=\"M 3.464844 0 L 2.648438 0 L 2.648438 -5.207031 C 2.449219 -5.015625 2.1875 -4.828125 1.871094 -4.644531 C 1.550781 -4.453125 1.265625 -4.3125 1.011719 -4.222656 L 1.011719 -5.011719 C 1.46875 -5.222656 1.867188 -5.484375 2.210938 -5.792969 C 2.550781 -6.097656 2.792969 -6.394531 2.9375 -6.683594 L 3.464844 -6.683594 Z M 3.464844 0 \"/>\n",
       "</symbol>\n",
       "<symbol overflow=\"visible\" id=\"glyph0-6\">\n",
       "<path style=\"stroke:none;\" d=\"M 0.390625 -1.757813 L 1.207031 -1.867188 C 1.300781 -1.402344 1.457031 -1.066406 1.683594 -0.863281 C 1.90625 -0.65625 2.183594 -0.554688 2.511719 -0.558594 C 2.894531 -0.554688 3.21875 -0.6875 3.484375 -0.957031 C 3.746094 -1.222656 3.878906 -1.554688 3.882813 -1.949219 C 3.878906 -2.320313 3.757813 -2.628906 3.515625 -2.875 C 3.269531 -3.117188 2.957031 -3.238281 2.578125 -3.242188 C 2.421875 -3.238281 2.230469 -3.210938 2.003906 -3.152344 L 2.09375 -3.867188 C 2.144531 -3.859375 2.191406 -3.855469 2.226563 -3.859375 C 2.570313 -3.855469 2.882813 -3.945313 3.164063 -4.132813 C 3.441406 -4.3125 3.578125 -4.59375 3.582031 -4.972656 C 3.578125 -5.269531 3.476563 -5.515625 3.277344 -5.714844 C 3.070313 -5.910156 2.808594 -6.011719 2.492188 -6.011719 C 2.171875 -6.011719 1.90625 -5.910156 1.695313 -5.710938 C 1.480469 -5.511719 1.347656 -5.210938 1.289063 -4.8125 L 0.472656 -4.957031 C 0.570313 -5.503906 0.796875 -5.925781 1.152344 -6.230469 C 1.503906 -6.527344 1.945313 -6.679688 2.476563 -6.683594 C 2.835938 -6.679688 3.167969 -6.601563 3.476563 -6.449219 C 3.78125 -6.289063 4.015625 -6.078125 4.179688 -5.8125 C 4.335938 -5.542969 4.417969 -5.253906 4.421875 -4.953125 C 4.417969 -4.664063 4.339844 -4.402344 4.191406 -4.167969 C 4.035156 -3.929688 3.808594 -3.742188 3.503906 -3.605469 C 3.898438 -3.511719 4.203125 -3.324219 4.421875 -3.039063 C 4.636719 -2.75 4.746094 -2.390625 4.75 -1.964844 C 4.746094 -1.378906 4.535156 -0.886719 4.113281 -0.488281 C 3.6875 -0.0820313 3.152344 0.117188 2.507813 0.117188 C 1.921875 0.117188 1.433594 -0.0546875 1.050781 -0.402344 C 0.660156 -0.75 0.441406 -1.203125 0.390625 -1.757813 Z M 0.390625 -1.757813 \"/>\n",
       "</symbol>\n",
       "<symbol overflow=\"visible\" id=\"glyph0-7\">\n",
       "<path style=\"stroke:none;\" d=\"M 0.386719 -1.742188 L 1.246094 -1.816406 C 1.304688 -1.398438 1.453125 -1.082031 1.6875 -0.875 C 1.917969 -0.660156 2.195313 -0.554688 2.523438 -0.558594 C 2.914063 -0.554688 3.246094 -0.703125 3.523438 -1.003906 C 3.792969 -1.296875 3.929688 -1.691406 3.933594 -2.183594 C 3.929688 -2.648438 3.800781 -3.015625 3.539063 -3.285156 C 3.277344 -3.554688 2.933594 -3.691406 2.511719 -3.691406 C 2.246094 -3.691406 2.007813 -3.628906 1.796875 -3.511719 C 1.582031 -3.386719 1.414063 -3.234375 1.296875 -3.046875 L 0.53125 -3.148438 L 1.175781 -6.566406 L 4.488281 -6.566406 L 4.488281 -5.785156 L 1.828125 -5.785156 L 1.472656 -3.996094 C 1.867188 -4.273438 2.289063 -4.410156 2.730469 -4.414063 C 3.308594 -4.410156 3.796875 -4.210938 4.199219 -3.808594 C 4.597656 -3.40625 4.796875 -2.886719 4.800781 -2.257813 C 4.796875 -1.648438 4.621094 -1.128906 4.273438 -0.695313 C 3.84375 -0.15625 3.261719 0.109375 2.523438 0.113281 C 1.917969 0.109375 1.425781 -0.0546875 1.042969 -0.394531 C 0.660156 -0.730469 0.441406 -1.179688 0.386719 -1.742188 Z M 0.386719 -1.742188 \"/>\n",
       "</symbol>\n",
       "<symbol overflow=\"visible\" id=\"glyph1-0\">\n",
       "<path style=\"stroke:none;\" d=\"M 0.0859375 0 L 2.261719 -3.101563 L 0.246094 -5.964844 L 1.511719 -5.964844 L 2.425781 -4.566406 C 2.597656 -4.296875 2.734375 -4.074219 2.839844 -3.898438 C 3.003906 -4.140625 3.15625 -4.359375 3.296875 -4.554688 L 4.300781 -5.964844 L 5.507813 -5.964844 L 3.449219 -3.15625 L 5.664063 0 L 4.425781 0 L 3.199219 -1.851563 L 2.875 -2.351563 L 1.308594 0 Z M 0.0859375 0 \"/>\n",
       "</symbol>\n",
       "<symbol overflow=\"visible\" id=\"glyph2-0\">\n",
       "<path style=\"stroke:none;\" d=\"M 2.296875 -0.714844 L 1.347656 -0.601563 C 1.40625 -0.820313 1.433594 -1.011719 1.4375 -1.179688 C 1.433594 -1.398438 1.398438 -1.578125 1.324219 -1.71875 C 1.25 -1.851563 1.144531 -1.964844 1.011719 -2.050781 C 0.90625 -2.113281 0.65625 -2.214844 0.257813 -2.359375 C 0.203125 -2.375 0.121094 -2.40625 0.0117188 -2.449219 L -5.964844 -0.183594 L -5.964844 -1.273438 L -2.511719 -2.515625 C -2.070313 -2.671875 -1.609375 -2.816406 -1.128906 -2.949219 C -1.589844 -3.058594 -2.042969 -3.199219 -2.488281 -3.363281 L -5.964844 -4.636719 L -5.964844 -5.648438 L 0.101563 -3.378906 C 0.75 -3.132813 1.203125 -2.945313 1.453125 -2.8125 C 1.785156 -2.632813 2.027344 -2.425781 2.1875 -2.195313 C 2.339844 -1.960938 2.417969 -1.683594 2.421875 -1.363281 C 2.417969 -1.167969 2.378906 -0.953125 2.296875 -0.714844 Z M 2.296875 -0.714844 \"/>\n",
       "</symbol>\n",
       "</g>\n",
       "<clipPath id=\"clip1\">\n",
       "  <path d=\"M 38.148438 5.480469 L 283.523438 5.480469 L 283.523438 257.125 L 38.148438 257.125 Z M 38.148438 5.480469 \"/>\n",
       "</clipPath>\n",
       "</defs>\n",
       "<g id=\"surface32\">\n",
       "<rect x=\"0\" y=\"0\" width=\"288\" height=\"288\" style=\"fill:rgb(100%,100%,100%);fill-opacity:1;stroke:none;\"/>\n",
       "<rect x=\"0\" y=\"0\" width=\"288\" height=\"288\" style=\"fill:rgb(100%,100%,100%);fill-opacity:1;stroke:none;\"/>\n",
       "<path style=\"fill:none;stroke-width:1.422638;stroke-linecap:round;stroke-linejoin:round;stroke:rgb(100%,100%,100%);stroke-opacity:1;stroke-miterlimit:10;\" d=\"M 0 0 L 288 0 L 288 288 L 0 288 Z M 0 0 \"/>\n",
       "<g clip-path=\"url(#clip1)\" clip-rule=\"nonzero\">\n",
       "<path style=\" stroke:none;fill-rule:nonzero;fill:rgb(92.156863%,92.156863%,92.156863%);fill-opacity:1;\" d=\"M 38.148438 5.480469 L 282.523438 5.480469 L 282.523438 256.125 L 38.148438 256.125 Z M 38.148438 5.480469 \"/>\n",
       "<path style=\"fill:none;stroke-width:0.711319;stroke-linecap:butt;stroke-linejoin:round;stroke:rgb(100%,100%,100%);stroke-opacity:1;stroke-miterlimit:10;\" d=\"M 38.148438 212.464844 L 282.519531 212.464844 \"/>\n",
       "<path style=\"fill:none;stroke-width:0.711319;stroke-linecap:butt;stroke-linejoin:round;stroke:rgb(100%,100%,100%);stroke-opacity:1;stroke-miterlimit:10;\" d=\"M 38.148438 147.933594 L 282.519531 147.933594 \"/>\n",
       "<path style=\"fill:none;stroke-width:0.711319;stroke-linecap:butt;stroke-linejoin:round;stroke:rgb(100%,100%,100%);stroke-opacity:1;stroke-miterlimit:10;\" d=\"M 38.148438 83.398438 L 282.519531 83.398438 \"/>\n",
       "<path style=\"fill:none;stroke-width:0.711319;stroke-linecap:butt;stroke-linejoin:round;stroke:rgb(100%,100%,100%);stroke-opacity:1;stroke-miterlimit:10;\" d=\"M 38.148438 18.867188 L 282.519531 18.867188 \"/>\n",
       "<path style=\"fill:none;stroke-width:0.711319;stroke-linecap:butt;stroke-linejoin:round;stroke:rgb(100%,100%,100%);stroke-opacity:1;stroke-miterlimit:10;\" d=\"M 71.46875 256.125 L 71.46875 5.480469 \"/>\n",
       "<path style=\"fill:none;stroke-width:0.711319;stroke-linecap:butt;stroke-linejoin:round;stroke:rgb(100%,100%,100%);stroke-opacity:1;stroke-miterlimit:10;\" d=\"M 115.902344 256.125 L 115.902344 5.480469 \"/>\n",
       "<path style=\"fill:none;stroke-width:0.711319;stroke-linecap:butt;stroke-linejoin:round;stroke:rgb(100%,100%,100%);stroke-opacity:1;stroke-miterlimit:10;\" d=\"M 160.332031 256.125 L 160.332031 5.480469 \"/>\n",
       "<path style=\"fill:none;stroke-width:0.711319;stroke-linecap:butt;stroke-linejoin:round;stroke:rgb(100%,100%,100%);stroke-opacity:1;stroke-miterlimit:10;\" d=\"M 204.765625 256.125 L 204.765625 5.480469 \"/>\n",
       "<path style=\"fill:none;stroke-width:0.711319;stroke-linecap:butt;stroke-linejoin:round;stroke:rgb(100%,100%,100%);stroke-opacity:1;stroke-miterlimit:10;\" d=\"M 249.195313 256.125 L 249.195313 5.480469 \"/>\n",
       "<path style=\"fill:none;stroke-width:1.422638;stroke-linecap:butt;stroke-linejoin:round;stroke:rgb(100%,100%,100%);stroke-opacity:1;stroke-miterlimit:10;\" d=\"M 38.148438 244.730469 L 282.519531 244.730469 \"/>\n",
       "<path style=\"fill:none;stroke-width:1.422638;stroke-linecap:butt;stroke-linejoin:round;stroke:rgb(100%,100%,100%);stroke-opacity:1;stroke-miterlimit:10;\" d=\"M 38.148438 180.199219 L 282.519531 180.199219 \"/>\n",
       "<path style=\"fill:none;stroke-width:1.422638;stroke-linecap:butt;stroke-linejoin:round;stroke:rgb(100%,100%,100%);stroke-opacity:1;stroke-miterlimit:10;\" d=\"M 38.148438 115.667969 L 282.519531 115.667969 \"/>\n",
       "<path style=\"fill:none;stroke-width:1.422638;stroke-linecap:butt;stroke-linejoin:round;stroke:rgb(100%,100%,100%);stroke-opacity:1;stroke-miterlimit:10;\" d=\"M 38.148438 51.132813 L 282.519531 51.132813 \"/>\n",
       "<path style=\"fill:none;stroke-width:1.422638;stroke-linecap:butt;stroke-linejoin:round;stroke:rgb(100%,100%,100%);stroke-opacity:1;stroke-miterlimit:10;\" d=\"M 49.253906 256.125 L 49.253906 5.480469 \"/>\n",
       "<path style=\"fill:none;stroke-width:1.422638;stroke-linecap:butt;stroke-linejoin:round;stroke:rgb(100%,100%,100%);stroke-opacity:1;stroke-miterlimit:10;\" d=\"M 93.6875 256.125 L 93.6875 5.480469 \"/>\n",
       "<path style=\"fill:none;stroke-width:1.422638;stroke-linecap:butt;stroke-linejoin:round;stroke:rgb(100%,100%,100%);stroke-opacity:1;stroke-miterlimit:10;\" d=\"M 138.117188 256.125 L 138.117188 5.480469 \"/>\n",
       "<path style=\"fill:none;stroke-width:1.422638;stroke-linecap:butt;stroke-linejoin:round;stroke:rgb(100%,100%,100%);stroke-opacity:1;stroke-miterlimit:10;\" d=\"M 182.550781 256.125 L 182.550781 5.480469 \"/>\n",
       "<path style=\"fill:none;stroke-width:1.422638;stroke-linecap:butt;stroke-linejoin:round;stroke:rgb(100%,100%,100%);stroke-opacity:1;stroke-miterlimit:10;\" d=\"M 226.980469 256.125 L 226.980469 5.480469 \"/>\n",
       "<path style=\"fill:none;stroke-width:1.422638;stroke-linecap:butt;stroke-linejoin:round;stroke:rgb(100%,100%,100%);stroke-opacity:1;stroke-miterlimit:10;\" d=\"M 271.414063 256.125 L 271.414063 5.480469 \"/>\n",
       "<path style=\"fill:none;stroke-width:1.422638;stroke-linecap:butt;stroke-linejoin:round;stroke:rgb(0%,0%,0%);stroke-opacity:1;stroke-miterlimit:10;\" d=\"M 49.253906 244.730469 L 51.476563 101.554688 L 53.699219 59.273438 L 55.917969 36.523438 L 58.140625 24.175781 L 60.363281 18.339844 L 62.582031 16.871094 L 64.804688 18.433594 L 67.027344 22.125 L 69.25 27.316406 L 71.46875 33.550781 L 73.691406 40.492188 L 75.914063 47.890625 L 78.136719 55.550781 L 80.355469 63.332031 L 82.578125 71.125 L 84.800781 78.847656 L 87.019531 86.433594 L 89.242188 93.84375 L 91.464844 101.039063 L 93.6875 108 L 95.90625 114.707031 L 98.128906 121.15625 L 100.351563 127.339844 L 102.574219 133.253906 L 104.792969 138.90625 L 107.015625 144.292969 L 109.238281 149.429688 L 111.457031 154.3125 L 113.679688 158.957031 L 115.902344 163.371094 L 118.125 167.558594 L 120.34375 171.535156 L 122.566406 175.304688 L 124.789063 178.878906 L 127.011719 182.265625 L 129.230469 185.476563 L 131.453125 188.515625 L 133.675781 191.394531 L 135.894531 194.117188 L 138.117188 196.699219 L 140.339844 199.144531 L 142.5625 201.457031 L 144.78125 203.644531 L 147.003906 205.71875 L 149.226563 207.679688 L 151.445313 209.539063 L 153.667969 211.296875 L 155.890625 212.964844 L 158.113281 214.539063 L 160.332031 216.035156 L 162.554688 217.449219 L 164.777344 218.789063 L 167 220.058594 L 169.21875 221.257813 L 171.441406 222.398438 L 173.664063 223.480469 L 175.882813 224.503906 L 178.105469 225.472656 L 180.328125 226.394531 L 182.550781 227.265625 L 184.769531 228.09375 L 186.992188 228.878906 L 189.214844 229.625 L 191.4375 230.332031 L 193.65625 231.003906 L 195.878906 231.640625 L 198.101563 232.246094 L 200.320313 232.820313 L 202.542969 233.367188 L 204.765625 233.886719 L 206.988281 234.378906 L 209.207031 234.847656 L 211.429688 235.292969 L 213.652344 235.71875 L 215.875 236.121094 L 218.09375 236.503906 L 220.316406 236.867188 L 222.539063 237.214844 L 224.757813 237.546875 L 226.980469 237.859375 L 229.203125 238.160156 L 231.425781 238.445313 L 233.644531 238.714844 L 235.867188 238.976563 L 238.089844 239.222656 L 240.308594 239.457031 L 242.53125 239.679688 L 244.753906 239.894531 L 246.976563 240.097656 L 249.195313 240.292969 L 251.417969 240.476563 L 253.640625 240.65625 L 255.863281 240.824219 L 258.082031 240.984375 L 260.304688 241.136719 L 262.527344 241.285156 L 264.746094 241.425781 L 266.96875 241.558594 L 269.191406 241.6875 L 271.414063 241.808594 \"/>\n",
       "</g>\n",
       "<g style=\"fill:rgb(30.196078%,30.196078%,30.196078%);fill-opacity:1;\">\n",
       "  <use xlink:href=\"#glyph0-0\" x=\"20.285156\" y=\"248.058594\"/>\n",
       "  <use xlink:href=\"#glyph0-1\" x=\"25.457373\" y=\"248.058594\"/>\n",
       "  <use xlink:href=\"#glyph0-0\" x=\"28.041211\" y=\"248.058594\"/>\n",
       "</g>\n",
       "<g style=\"fill:rgb(30.196078%,30.196078%,30.196078%);fill-opacity:1;\">\n",
       "  <use xlink:href=\"#glyph0-0\" x=\"20.285156\" y=\"183.527344\"/>\n",
       "  <use xlink:href=\"#glyph0-1\" x=\"25.457373\" y=\"183.527344\"/>\n",
       "  <use xlink:href=\"#glyph0-2\" x=\"28.041211\" y=\"183.527344\"/>\n",
       "</g>\n",
       "<g style=\"fill:rgb(30.196078%,30.196078%,30.196078%);fill-opacity:1;\">\n",
       "  <use xlink:href=\"#glyph0-0\" x=\"20.285156\" y=\"118.996094\"/>\n",
       "  <use xlink:href=\"#glyph0-1\" x=\"25.457373\" y=\"118.996094\"/>\n",
       "  <use xlink:href=\"#glyph0-3\" x=\"28.041211\" y=\"118.996094\"/>\n",
       "</g>\n",
       "<g style=\"fill:rgb(30.196078%,30.196078%,30.196078%);fill-opacity:1;\">\n",
       "  <use xlink:href=\"#glyph0-0\" x=\"20.285156\" y=\"54.460938\"/>\n",
       "  <use xlink:href=\"#glyph0-1\" x=\"25.457373\" y=\"54.460938\"/>\n",
       "  <use xlink:href=\"#glyph0-4\" x=\"28.041211\" y=\"54.460938\"/>\n",
       "</g>\n",
       "<path style=\"fill:none;stroke-width:1.422638;stroke-linecap:butt;stroke-linejoin:round;stroke:rgb(20%,20%,20%);stroke-opacity:1;stroke-miterlimit:10;\" d=\"M 35.40625 244.730469 L 38.148438 244.730469 \"/>\n",
       "<path style=\"fill:none;stroke-width:1.422638;stroke-linecap:butt;stroke-linejoin:round;stroke:rgb(20%,20%,20%);stroke-opacity:1;stroke-miterlimit:10;\" d=\"M 35.40625 180.199219 L 38.148438 180.199219 \"/>\n",
       "<path style=\"fill:none;stroke-width:1.422638;stroke-linecap:butt;stroke-linejoin:round;stroke:rgb(20%,20%,20%);stroke-opacity:1;stroke-miterlimit:10;\" d=\"M 35.40625 115.667969 L 38.148438 115.667969 \"/>\n",
       "<path style=\"fill:none;stroke-width:1.422638;stroke-linecap:butt;stroke-linejoin:round;stroke:rgb(20%,20%,20%);stroke-opacity:1;stroke-miterlimit:10;\" d=\"M 35.40625 51.132813 L 38.148438 51.132813 \"/>\n",
       "<path style=\"fill:none;stroke-width:1.422638;stroke-linecap:butt;stroke-linejoin:round;stroke:rgb(20%,20%,20%);stroke-opacity:1;stroke-miterlimit:10;\" d=\"M 49.253906 258.863281 L 49.253906 256.125 \"/>\n",
       "<path style=\"fill:none;stroke-width:1.422638;stroke-linecap:butt;stroke-linejoin:round;stroke:rgb(20%,20%,20%);stroke-opacity:1;stroke-miterlimit:10;\" d=\"M 93.6875 258.863281 L 93.6875 256.125 \"/>\n",
       "<path style=\"fill:none;stroke-width:1.422638;stroke-linecap:butt;stroke-linejoin:round;stroke:rgb(20%,20%,20%);stroke-opacity:1;stroke-miterlimit:10;\" d=\"M 138.117188 258.863281 L 138.117188 256.125 \"/>\n",
       "<path style=\"fill:none;stroke-width:1.422638;stroke-linecap:butt;stroke-linejoin:round;stroke:rgb(20%,20%,20%);stroke-opacity:1;stroke-miterlimit:10;\" d=\"M 182.550781 258.863281 L 182.550781 256.125 \"/>\n",
       "<path style=\"fill:none;stroke-width:1.422638;stroke-linecap:butt;stroke-linejoin:round;stroke:rgb(20%,20%,20%);stroke-opacity:1;stroke-miterlimit:10;\" d=\"M 226.980469 258.863281 L 226.980469 256.125 \"/>\n",
       "<path style=\"fill:none;stroke-width:1.422638;stroke-linecap:butt;stroke-linejoin:round;stroke:rgb(20%,20%,20%);stroke-opacity:1;stroke-miterlimit:10;\" d=\"M 271.414063 258.863281 L 271.414063 256.125 \"/>\n",
       "<g style=\"fill:rgb(30.196078%,30.196078%,30.196078%);fill-opacity:1;\">\n",
       "  <use xlink:href=\"#glyph0-0\" x=\"46.667969\" y=\"267.714844\"/>\n",
       "</g>\n",
       "<g style=\"fill:rgb(30.196078%,30.196078%,30.196078%);fill-opacity:1;\">\n",
       "  <use xlink:href=\"#glyph0-5\" x=\"91.101563\" y=\"267.714844\"/>\n",
       "</g>\n",
       "<g style=\"fill:rgb(30.196078%,30.196078%,30.196078%);fill-opacity:1;\">\n",
       "  <use xlink:href=\"#glyph0-2\" x=\"135.53125\" y=\"267.714844\"/>\n",
       "</g>\n",
       "<g style=\"fill:rgb(30.196078%,30.196078%,30.196078%);fill-opacity:1;\">\n",
       "  <use xlink:href=\"#glyph0-6\" x=\"179.964844\" y=\"267.714844\"/>\n",
       "</g>\n",
       "<g style=\"fill:rgb(30.196078%,30.196078%,30.196078%);fill-opacity:1;\">\n",
       "  <use xlink:href=\"#glyph0-3\" x=\"224.394531\" y=\"267.714844\"/>\n",
       "</g>\n",
       "<g style=\"fill:rgb(30.196078%,30.196078%,30.196078%);fill-opacity:1;\">\n",
       "  <use xlink:href=\"#glyph0-7\" x=\"268.828125\" y=\"267.714844\"/>\n",
       "</g>\n",
       "<g style=\"fill:rgb(0%,0%,0%);fill-opacity:1;\">\n",
       "  <use xlink:href=\"#glyph1-0\" x=\"157.457031\" y=\"280.328125\"/>\n",
       "</g>\n",
       "<g style=\"fill:rgb(0%,0%,0%);fill-opacity:1;\">\n",
       "  <use xlink:href=\"#glyph2-0\" x=\"15.902344\" y=\"133.675781\"/>\n",
       "</g>\n",
       "</g>\n",
       "</svg>\n"
      ],
      "text/plain": [
       "plot without title"
      ]
     },
     "metadata": {
      "image/svg+xml": {
       "isolated": true
      }
     },
     "output_type": "display_data"
    }
   ],
   "source": [
    "ggplot(data.frame(x = c(0:5)), aes(x)) + \n",
    "    stat_function(fun = df, args = list(df1 = 3, df2 = 16))"
   ]
  },
  {
   "cell_type": "markdown",
   "metadata": {},
   "source": [
    "* 有意水準: 5%，片側検定\n",
    "* 検定統計量の実現値"
   ]
  },
  {
   "cell_type": "code",
   "execution_count": 11,
   "metadata": {
    "collapsed": false
   },
   "outputs": [
    {
     "name": "stdout",
     "output_type": "stream",
     "text": [
      "Classes 'tbl_df', 'tbl' and 'data.frame':\t20 obs. of  2 variables:\n",
      " $ stat_test2     : int  10 13 8 15 8 6 9 10 7 3 ...\n",
      " $ teaching_method: Factor w/ 4 levels \"A\",\"B\",\"C\",\"D\": 3 2 2 1 2 3 1 4 4 4 ...\n"
     ]
    }
   ],
   "source": [
    "dd <- d %>>% \n",
    "    select(stat_test2, teaching_method) %>>% \n",
    "    mutate(teaching_method = factor(teaching_method))\n",
    "str(dd)"
   ]
  },
  {
   "cell_type": "markdown",
   "metadata": {},
   "source": [
    "* `oneway.test()`"
   ]
  },
  {
   "cell_type": "code",
   "execution_count": 12,
   "metadata": {
    "collapsed": false
   },
   "outputs": [
    {
     "data": {
      "text/plain": [
       "\n",
       "\tOne-way analysis of means\n",
       "\n",
       "data:  dd$stat_test2 and dd$teaching_method\n",
       "F = 7.1111, num df = 3, denom df = 16, p-value = 0.002988\n"
      ]
     },
     "metadata": {},
     "output_type": "display_data"
    }
   ],
   "source": [
    "oneway.test(dd$stat_test2 ~ dd$teaching_method, var.equal = TRUE)"
   ]
  },
  {
   "cell_type": "markdown",
   "metadata": {},
   "source": [
    "* `aov()`"
   ]
  },
  {
   "cell_type": "code",
   "execution_count": 13,
   "metadata": {
    "collapsed": false
   },
   "outputs": [
    {
     "data": {
      "text/plain": [
       "Call:\n",
       "   aov(formula = dd$stat_test2 ~ dd$teaching_method)\n",
       "\n",
       "Terms:\n",
       "                dd$teaching_method Residuals\n",
       "Sum of Squares                 184       138\n",
       "Deg. of Freedom                  3        16\n",
       "\n",
       "Residual standard error: 2.936835\n",
       "Estimated effects may be unbalanced"
      ]
     },
     "metadata": {},
     "output_type": "display_data"
    }
   ],
   "source": [
    "aov(dd$stat_test2 ~ dd$teaching_method)"
   ]
  },
  {
   "cell_type": "code",
   "execution_count": 14,
   "metadata": {
    "collapsed": false
   },
   "outputs": [
    {
     "data": {
      "text/plain": [
       "                   Df Sum Sq Mean Sq F value  Pr(>F)   \n",
       "dd$teaching_method  3    184   61.33   7.111 0.00299 **\n",
       "Residuals          16    138    8.62                   \n",
       "---\n",
       "Signif. codes:  0 '***' 0.001 '**' 0.01 '*' 0.05 '.' 0.1 ' ' 1"
      ]
     },
     "metadata": {},
     "output_type": "display_data"
    }
   ],
   "source": [
    "aov(dd$stat_test2 ~ dd$teaching_method) %>>% summary"
   ]
  },
  {
   "cell_type": "markdown",
   "metadata": {},
   "source": [
    "* `anova()`"
   ]
  },
  {
   "cell_type": "code",
   "execution_count": 15,
   "metadata": {
    "collapsed": false
   },
   "outputs": [
    {
     "data": {
      "text/html": [
       "<table>\n",
       "<thead><tr><th></th><th scope=col>Df</th><th scope=col>Sum Sq</th><th scope=col>Mean Sq</th><th scope=col>F value</th><th scope=col>Pr(&gt;F)</th></tr></thead>\n",
       "<tbody>\n",
       "\t<tr><th scope=row>dd$teaching_method</th><td>3.000000e+00</td><td>1.840000e+02</td><td>6.133333e+01</td><td>7.111111e+00</td><td>2.987783e-03</td></tr>\n",
       "\t<tr><th scope=row>Residuals</th><td> 16.000</td><td>138.000</td><td>  8.625</td><td>     NA</td><td>     NA</td></tr>\n",
       "</tbody>\n",
       "</table>\n"
      ],
      "text/latex": [
       "\\begin{tabular}{r|lllll}\n",
       "  & Df & Sum Sq & Mean Sq & F value & Pr(>F)\\\\\n",
       "\\hline\n",
       "\tdd\\$teaching\\_method & 3.000000e+00 & 1.840000e+02 & 6.133333e+01 & 7.111111e+00 & 2.987783e-03\\\\\n",
       "\tResiduals &  16.000 & 138.000 &   8.625 &      NA &      NA\\\\\n",
       "\\end{tabular}\n"
      ],
      "text/plain": [
       "Analysis of Variance Table\n",
       "\n",
       "Response: dd$stat_test2\n",
       "                   Df Sum Sq Mean Sq F value   Pr(>F)   \n",
       "dd$teaching_method  3    184  61.333  7.1111 0.002988 **\n",
       "Residuals          16    138   8.625                    \n",
       "---\n",
       "Signif. codes:  0 '***' 0.001 '**' 0.01 '*' 0.05 '.' 0.1 ' ' 1"
      ]
     },
     "metadata": {},
     "output_type": "display_data"
    }
   ],
   "source": [
    "lm(dd$stat_test2 ~ dd$teaching_method) %>>% anova"
   ]
  },
  {
   "cell_type": "markdown",
   "metadata": {},
   "source": [
    "### 7.1.2 平方和の分解"
   ]
  },
  {
   "cell_type": "markdown",
   "metadata": {},
   "source": [
    "* 群内平方和"
   ]
  },
  {
   "cell_type": "code",
   "execution_count": 16,
   "metadata": {
    "collapsed": false
   },
   "outputs": [
    {
     "data": {
      "text/html": [
       "2322"
      ],
      "text/latex": [
       "2322"
      ],
      "text/markdown": [
       "2322"
      ],
      "text/plain": [
       "[1] 2322"
      ]
     },
     "metadata": {},
     "output_type": "display_data"
    }
   ],
   "source": [
    "intra_group_sq_sum <- dd %>>% \n",
    "    group_by(teaching_method) %>>%\n",
    "    mutate_each(funs(my_fun = stat_test2 - mean(stat_test2))) %>>%\n",
    "    ungroup %>>%\n",
    "    mutate(stat_test2 = stat_test2^2) %>>%\n",
    "    summarise(res = sum(stat_test2)) %>>%\n",
    "    (.[[\"res\"]])\n",
    "intra_group_sq_sum"
   ]
  },
  {
   "cell_type": "markdown",
   "metadata": {},
   "source": [
    "* 群間平方和"
   ]
  },
  {
   "cell_type": "code",
   "execution_count": 17,
   "metadata": {
    "collapsed": false,
    "scrolled": true
   },
   "outputs": [
    {
     "data": {
      "text/html": [
       "184"
      ],
      "text/latex": [
       "184"
      ],
      "text/markdown": [
       "184"
      ],
      "text/plain": [
       "[1] 184"
      ]
     },
     "metadata": {},
     "output_type": "display_data"
    }
   ],
   "source": [
    "all_mean <- dd$stat_test2 %>>% mean\n",
    "inter_group_sq_sum <- dd %>>% \n",
    "    group_by(teaching_method) %>>%\n",
    "    summarise_each(funs(mean, n())) %>>%\n",
    "    mutate(dev_sq_sum = (mean - all_mean)^2 * n) %>>%\n",
    "    summarise(res = sum(dev_sq_sum)) %>>%\n",
    "    (.[[\"res\"]])\n",
    "inter_group_sq_sum"
   ]
  },
  {
   "cell_type": "markdown",
   "metadata": {},
   "source": [
    "* 全体平方和"
   ]
  },
  {
   "cell_type": "code",
   "execution_count": 18,
   "metadata": {
    "collapsed": false
   },
   "outputs": [
    {
     "data": {
      "text/html": [
       "322"
      ],
      "text/latex": [
       "322"
      ],
      "text/markdown": [
       "322"
      ],
      "text/plain": [
       "[1] 322"
      ]
     },
     "metadata": {},
     "output_type": "display_data"
    }
   ],
   "source": [
    "all_sq_sum <- dd %>>% \n",
    "    mutate(dev_sq_sum = (stat_test2 - all_mean)^2) %>>%\n",
    "    summarise(res = sum(dev_sq_sum)) %>>%\n",
    "    (.[[\"res\"]])\n",
    "all_sq_sum"
   ]
  },
  {
   "cell_type": "markdown",
   "metadata": {},
   "source": [
    "分散分析表との対応を見る"
   ]
  },
  {
   "cell_type": "code",
   "execution_count": 19,
   "metadata": {
    "collapsed": false
   },
   "outputs": [
    {
     "data": {
      "text/plain": [
       "                   Df Sum Sq Mean Sq F value  Pr(>F)   \n",
       "dd$teaching_method  3    184   61.33   7.111 0.00299 **\n",
       "Residuals          16    138    8.62                   \n",
       "---\n",
       "Signif. codes:  0 '***' 0.001 '**' 0.01 '*' 0.05 '.' 0.1 ' ' 1"
      ]
     },
     "metadata": {},
     "output_type": "display_data"
    }
   ],
   "source": [
    "aov(dd$stat_test2 ~ dd$teaching_method) %>>% summary"
   ]
  },
  {
   "cell_type": "markdown",
   "metadata": {},
   "source": [
    "* 全体平方和 = 群間平方和 + 群内平方和"
   ]
  },
  {
   "cell_type": "code",
   "execution_count": 20,
   "metadata": {
    "collapsed": false
   },
   "outputs": [
    {
     "data": {
      "text/html": [
       "2506"
      ],
      "text/latex": [
       "2506"
      ],
      "text/markdown": [
       "2506"
      ],
      "text/plain": [
       "[1] 2506"
      ]
     },
     "metadata": {},
     "output_type": "display_data"
    }
   ],
   "source": [
    "inter_group_sq_sum + intra_group_sq_sum"
   ]
  },
  {
   "cell_type": "markdown",
   "metadata": {},
   "source": [
    "自由度\n",
    "\n",
    "* 群間: 群の数 - 1"
   ]
  },
  {
   "cell_type": "code",
   "execution_count": 21,
   "metadata": {
    "collapsed": false
   },
   "outputs": [
    {
     "data": {
      "text/html": [
       "3"
      ],
      "text/latex": [
       "3"
      ],
      "text/markdown": [
       "3"
      ],
      "text/plain": [
       "[1] 3"
      ]
     },
     "metadata": {},
     "output_type": "display_data"
    }
   ],
   "source": [
    "df_inter <- (unique(dd$teaching_method) %>>% length) - 1\n",
    "df_inter"
   ]
  },
  {
   "cell_type": "markdown",
   "metadata": {},
   "source": [
    "* 郡内: sum(各群のデータ数 - 1)"
   ]
  },
  {
   "cell_type": "code",
   "execution_count": 22,
   "metadata": {
    "collapsed": false
   },
   "outputs": [
    {
     "data": {
      "text/html": [
       "16"
      ],
      "text/latex": [
       "16"
      ],
      "text/markdown": [
       "16"
      ],
      "text/plain": [
       "[1] 16"
      ]
     },
     "metadata": {},
     "output_type": "display_data"
    }
   ],
   "source": [
    "df_intra <- dd %>>% \n",
    "    group_by(teaching_method) %>>% \n",
    "    summarise(n = n()) %>>%\n",
    "    ungroup %>>%\n",
    "    summarise(res = sum(n - 1)) %>>%\n",
    "    (.[[\"res\"]])\n",
    "df_intra"
   ]
  },
  {
   "cell_type": "markdown",
   "metadata": {},
   "source": [
    "* 全データ: 全データ数 - 1"
   ]
  },
  {
   "cell_type": "code",
   "execution_count": 23,
   "metadata": {
    "collapsed": false
   },
   "outputs": [
    {
     "data": {
      "text/html": [
       "19"
      ],
      "text/latex": [
       "19"
      ],
      "text/markdown": [
       "19"
      ],
      "text/plain": [
       "[1] 19"
      ]
     },
     "metadata": {},
     "output_type": "display_data"
    }
   ],
   "source": [
    "df_all <- length(dd$stat_test2) - 1\n",
    "df_all"
   ]
  },
  {
   "cell_type": "markdown",
   "metadata": {},
   "source": [
    "全データ = 群間 + 群内"
   ]
  },
  {
   "cell_type": "code",
   "execution_count": 24,
   "metadata": {
    "collapsed": false
   },
   "outputs": [
    {
     "data": {
      "text/html": [
       "19"
      ],
      "text/latex": [
       "19"
      ],
      "text/markdown": [
       "19"
      ],
      "text/plain": [
       "[1] 19"
      ]
     },
     "metadata": {},
     "output_type": "display_data"
    }
   ],
   "source": [
    "df_inter + df_intra"
   ]
  },
  {
   "cell_type": "markdown",
   "metadata": {},
   "source": [
    "群間平均平方"
   ]
  },
  {
   "cell_type": "code",
   "execution_count": 25,
   "metadata": {
    "collapsed": false
   },
   "outputs": [
    {
     "data": {
      "text/html": [
       "61.3333333333333"
      ],
      "text/latex": [
       "61.3333333333333"
      ],
      "text/markdown": [
       "61.3333333333333"
      ],
      "text/plain": [
       "[1] 61.33333"
      ]
     },
     "metadata": {},
     "output_type": "display_data"
    }
   ],
   "source": [
    "inter_mean_sq <- inter_group_sq_sum / df_inter\n",
    "inter_mean_sq"
   ]
  },
  {
   "cell_type": "markdown",
   "metadata": {},
   "source": [
    "群内平均平方"
   ]
  },
  {
   "cell_type": "code",
   "execution_count": 26,
   "metadata": {
    "collapsed": false
   },
   "outputs": [
    {
     "data": {
      "text/html": [
       "145.125"
      ],
      "text/latex": [
       "145.125"
      ],
      "text/markdown": [
       "145.125"
      ],
      "text/plain": [
       "[1] 145.125"
      ]
     },
     "metadata": {},
     "output_type": "display_data"
    }
   ],
   "source": [
    "intra_mean_sq <- intra_group_sq_sum / df_intra\n",
    "intra_mean_sq"
   ]
  },
  {
   "cell_type": "markdown",
   "metadata": {},
   "source": [
    "全体平方和を全体の自由度で割った平均平方は、全データの不偏分散となる"
   ]
  },
  {
   "cell_type": "code",
   "execution_count": 27,
   "metadata": {
    "collapsed": false
   },
   "outputs": [
    {
     "data": {
      "text/html": [
       "16.9473684210526"
      ],
      "text/latex": [
       "16.9473684210526"
      ],
      "text/markdown": [
       "16.9473684210526"
      ],
      "text/plain": [
       "[1] 16.94737"
      ]
     },
     "metadata": {},
     "output_type": "display_data"
    }
   ],
   "source": [
    "all_sq_sum / df_all"
   ]
  },
  {
   "cell_type": "code",
   "execution_count": 28,
   "metadata": {
    "collapsed": false
   },
   "outputs": [
    {
     "data": {
      "text/html": [
       "16.9473684210526"
      ],
      "text/latex": [
       "16.9473684210526"
      ],
      "text/markdown": [
       "16.9473684210526"
      ],
      "text/plain": [
       "[1] 16.94737"
      ]
     },
     "metadata": {},
     "output_type": "display_data"
    }
   ],
   "source": [
    "var(d$stat_test2)"
   ]
  },
  {
   "cell_type": "markdown",
   "metadata": {},
   "source": [
    "* $F$ 値"
   ]
  },
  {
   "cell_type": "code",
   "execution_count": 29,
   "metadata": {
    "collapsed": false
   },
   "outputs": [
    {
     "data": {
      "text/html": [
       "0.422624174562159"
      ],
      "text/latex": [
       "0.422624174562159"
      ],
      "text/markdown": [
       "0.422624174562159"
      ],
      "text/plain": [
       "[1] 0.4226242"
      ]
     },
     "metadata": {},
     "output_type": "display_data"
    }
   ],
   "source": [
    "f_value <- inter_mean_sq / intra_mean_sq\n",
    "f_value"
   ]
  },
  {
   "cell_type": "markdown",
   "metadata": {},
   "source": [
    "### 多重比較（Tukey）"
   ]
  },
  {
   "cell_type": "markdown",
   "metadata": {},
   "source": [
    "* どの群とどの群に差があるかどうか\n",
    "* データ数 n が等しく，各群の母分散も等しいと仮定して検定統計量$q$を求める\n",
    "\n",
    "$$q = \\frac{|\\mbox{比較する群の平均値差}|}{\\sqrt{\\mbox{群内の平均平方} / \\mbox{各群のデータ数}}}$$"
   ]
  },
  {
   "cell_type": "code",
   "execution_count": 30,
   "metadata": {
    "collapsed": false
   },
   "outputs": [
    {
     "data": {
      "text/html": [
       "<table>\n",
       "<tbody>\n",
       "\t<tr><td>A</td><td>A</td><td>A</td><td>B</td><td>B</td><td>C</td></tr>\n",
       "\t<tr><td>B</td><td>C</td><td>D</td><td>C</td><td>D</td><td>D</td></tr>\n",
       "</tbody>\n",
       "</table>\n"
      ],
      "text/latex": [
       "\\begin{tabular}{llllll}\n",
       "\t A & A & A & B & B & C\\\\\n",
       "\t B & C & D & C & D & D\\\\\n",
       "\\end{tabular}\n"
      ],
      "text/markdown": [
       "1. \"A\"\n",
       "2. \"B\"\n",
       "3. \"A\"\n",
       "4. \"C\"\n",
       "5. \"A\"\n",
       "6. \"D\"\n",
       "7. \"B\"\n",
       "8. \"C\"\n",
       "9. \"B\"\n",
       "10. \"D\"\n",
       "11. \"C\"\n",
       "12. \"D\"\n",
       "\n",
       "\n"
      ],
      "text/plain": [
       "     [,1] [,2] [,3] [,4] [,5] [,6]\n",
       "[1,] \"A\"  \"A\"  \"A\"  \"B\"  \"B\"  \"C\" \n",
       "[2,] \"B\"  \"C\"  \"D\"  \"C\"  \"D\"  \"D\" "
      ]
     },
     "metadata": {},
     "output_type": "display_data"
    }
   ],
   "source": [
    "combn(c(\"A\", \"B\", \"C\", \"D\"), 2)"
   ]
  },
  {
   "cell_type": "code",
   "execution_count": 31,
   "metadata": {
    "collapsed": false
   },
   "outputs": [
    {
     "data": {
      "text/html": [
       "<table>\n",
       "<thead><tr><th></th><th scope=col>teaching_method</th><th scope=col>n</th></tr></thead>\n",
       "<tbody>\n",
       "\t<tr><th scope=row>1</th><td>A</td><td>5</td></tr>\n",
       "\t<tr><th scope=row>2</th><td>B</td><td>5</td></tr>\n",
       "\t<tr><th scope=row>3</th><td>C</td><td>5</td></tr>\n",
       "\t<tr><th scope=row>4</th><td>D</td><td>5</td></tr>\n",
       "</tbody>\n",
       "</table>\n"
      ],
      "text/latex": [
       "\\begin{tabular}{r|ll}\n",
       "  & teaching\\_method & n\\\\\n",
       "\\hline\n",
       "\t1 & A & 5\\\\\n",
       "\t2 & B & 5\\\\\n",
       "\t3 & C & 5\\\\\n",
       "\t4 & D & 5\\\\\n",
       "\\end{tabular}\n"
      ],
      "text/plain": [
       "  teaching_method n\n",
       "1               A 5\n",
       "2               B 5\n",
       "3               C 5\n",
       "4               D 5"
      ]
     },
     "metadata": {},
     "output_type": "display_data"
    }
   ],
   "source": [
    "dd %>>% group_by(teaching_method) %>>% summarise(n = n())"
   ]
  },
  {
   "cell_type": "code",
   "execution_count": 32,
   "metadata": {
    "collapsed": false
   },
   "outputs": [
    {
     "data": {
      "text/html": [
       "5"
      ],
      "text/latex": [
       "5"
      ],
      "text/markdown": [
       "5"
      ],
      "text/plain": [
       "[1] 5"
      ]
     },
     "metadata": {},
     "output_type": "display_data"
    }
   ],
   "source": [
    "n <- dd %>>% group_by(teaching_method) %>>% summarise(n = n()) %>>% (.[[\"n\"]][1])\n",
    "n"
   ]
  },
  {
   "cell_type": "code",
   "execution_count": 33,
   "metadata": {
    "collapsed": false
   },
   "outputs": [
    {
     "name": "stdout",
     "output_type": "stream",
     "text": [
      "A  and  B :  0.9651998 \n",
      "A  and  C :  1.039446 \n",
      "A  and  D :  1.559169 \n",
      "B  and  C :  0.07424614 \n",
      "B  and  D :  0.5939691 \n",
      "C  and  D :  0.519723 \n"
     ]
    }
   ],
   "source": [
    "dd %>>% \n",
    "    group_by(teaching_method) %>>% \n",
    "    summarise(gr_mean = mean(stat_test2)) %>>%\n",
    "    (function(x){\n",
    "        ret <- x$gr_mean\n",
    "        names(ret) <- x$teaching_method\n",
    "        ret\n",
    "    })() %>>%\n",
    "    (function(x){\n",
    "        names(x) %>>% \n",
    "            combn(2) %>>% \n",
    "            apply(2, function(y){\n",
    "                a <- y[1]\n",
    "                b <- y[2]\n",
    "                q <- abs(x[a] - x[b]) / sqrt(intra_mean_sq / n)\n",
    "                cat(a, \" and \", b, \": \", q, \"\\n\")\n",
    "        })\n",
    "        invisible()\n",
    "    })()"
   ]
  },
  {
   "cell_type": "code",
   "execution_count": 34,
   "metadata": {
    "collapsed": false
   },
   "outputs": [
    {
     "data": {
      "text/plain": [
       "all_mean :  num 10\n",
       "all_sq_sum :  num 322\n",
       "d : Classes 'tbl_df', 'tbl' and 'data.frame':\t20 obs. of  9 variables:\n",
       " $ id             : int  1 2 3 4 5 6 7 8 9 10 ...\n",
       " $ name           : chr  \"大村\" \"本多\" \"川崎\" \"多村\" ...\n",
       " $ sex            : chr  \"男\" \"男\" \"男\" \"男\" ...\n",
       " $ math           : chr  \"嫌い\" \"嫌い\" \"好き\" \"好き\" ...\n",
       " $ stat           : chr  \"好き\" \"好き\" \"好き\" \"好き\" ...\n",
       " $ psy_test       : int  13 14 7 12 10 6 8 15 4 14 ...\n",
       " $ stat_test1     : int  6 10 6 10 5 3 5 9 3 3 ...\n",
       " $ stat_test2     : int  10 13 8 15 8 6 9 10 7 3 ...\n",
       " $ teaching_method: chr  \"C\" \"B\" \"B\" \"A\" ...\n",
       "dd : Classes 'tbl_df', 'tbl' and 'data.frame':\t20 obs. of  2 variables:\n",
       " $ stat_test2     : int  10 13 8 15 8 6 9 10 7 3 ...\n",
       " $ teaching_method: Factor w/ 4 levels \"A\",\"B\",\"C\",\"D\": 3 2 2 1 2 3 1 4 4 4 ...\n",
       "df_all :  num 19\n",
       "df_inter :  num 3\n",
       "df_intra :  num 16\n",
       "f_value :  num 0.423\n",
       "inter_group_sq_sum :  num 184\n",
       "inter_mean_sq :  num 61.3\n",
       "intra_group_sq_sum :  num 2322\n",
       "intra_mean_sq :  num 145\n",
       "n :  int 5\n",
       "pkgs :  chr [1:6] \"pipeR\" \"dplyr\" \"tidyr\" \"ggplot2\" \"readr\" \"readxl\""
      ]
     },
     "metadata": {},
     "output_type": "display_data"
    }
   ],
   "source": [
    "ls.str()"
   ]
  },
  {
   "cell_type": "code",
   "execution_count": 35,
   "metadata": {
    "collapsed": false,
    "scrolled": true
   },
   "outputs": [],
   "source": [
    "?qtukey"
   ]
  },
  {
   "cell_type": "markdown",
   "metadata": {},
   "source": [
    "* 検定統計量$q$の実現値\n",
    "* `qtukey()`"
   ]
  },
  {
   "cell_type": "code",
   "execution_count": 36,
   "metadata": {
    "collapsed": false
   },
   "outputs": [
    {
     "data": {
      "text/html": [
       "4"
      ],
      "text/latex": [
       "4"
      ],
      "text/markdown": [
       "4"
      ],
      "text/plain": [
       "[1] 4"
      ]
     },
     "metadata": {},
     "output_type": "display_data"
    }
   ],
   "source": [
    "ngroup <- dd$teaching_method %>>% unique %>>% length\n",
    "ngroup"
   ]
  },
  {
   "cell_type": "code",
   "execution_count": 37,
   "metadata": {
    "collapsed": false
   },
   "outputs": [
    {
     "data": {
      "text/html": [
       "4.04609303678795"
      ],
      "text/latex": [
       "4.04609303678795"
      ],
      "text/markdown": [
       "4.04609303678795"
      ],
      "text/plain": [
       "[1] 4.046093"
      ]
     },
     "metadata": {},
     "output_type": "display_data"
    }
   ],
   "source": [
    "qtukey(0.95, ngroup, df_intra)"
   ]
  },
  {
   "cell_type": "markdown",
   "metadata": {},
   "source": [
    "* A-C, A-D は棄却域に入った\n",
    "* `TukeyHSD()` を用いると，"
   ]
  },
  {
   "cell_type": "code",
   "execution_count": 38,
   "metadata": {
    "collapsed": false
   },
   "outputs": [
    {
     "data": {
      "text/plain": [
       "  Tukey multiple comparisons of means\n",
       "    95% family-wise confidence level\n",
       "\n",
       "Fit: aov(formula = dd$stat_test2 ~ dd$teaching_method)\n",
       "\n",
       "$`dd$teaching_method`\n",
       "    diff        lwr        upr     p adj\n",
       "B-A -5.2 -10.514108  0.1141085 0.0562227\n",
       "C-A -5.6 -10.914108 -0.2858915 0.0371222\n",
       "D-A -8.4 -13.714108 -3.0858915 0.0017736\n",
       "C-B -0.4  -5.714108  4.9141085 0.9963241\n",
       "D-B -3.2  -8.514108  2.1141085 0.3446966\n",
       "D-C -2.8  -8.114108  2.5141085 0.4561325\n"
      ]
     },
     "metadata": {},
     "output_type": "display_data"
    }
   ],
   "source": [
    "aov(dd$stat_test2 ~ dd$teaching_method) %>>% TukeyHSD"
   ]
  },
  {
   "cell_type": "markdown",
   "metadata": {},
   "source": [
    "## 7.2 一元配置分散分析（対応あり）"
   ]
  },
  {
   "cell_type": "markdown",
   "metadata": {},
   "source": [
    "### 例題"
   ]
  },
  {
   "cell_type": "code",
   "execution_count": 39,
   "metadata": {
    "collapsed": false
   },
   "outputs": [
    {
     "data": {
      "text/html": [
       "<table>\n",
       "<thead><tr><th></th><th scope=col>学生</th><th scope=col>線形代数</th><th scope=col>微分積分</th><th scope=col>確率統計</th></tr></thead>\n",
       "<tbody>\n",
       "\t<tr><th scope=row>1</th><td>田中</td><td>7   </td><td>5   </td><td>8   </td></tr>\n",
       "\t<tr><th scope=row>2</th><td>岸</td><td>8 </td><td>4 </td><td>6 </td></tr>\n",
       "\t<tr><th scope=row>3</th><td>大引</td><td>9   </td><td>7   </td><td>7   </td></tr>\n",
       "\t<tr><th scope=row>4</th><td>吉川</td><td>5   </td><td>1   </td><td>2   </td></tr>\n",
       "\t<tr><th scope=row>5</th><td>荻野</td><td>6   </td><td>3   </td><td>5   </td></tr>\n",
       "</tbody>\n",
       "</table>\n"
      ],
      "text/latex": [
       "\\begin{tabular}{r|llll}\n",
       "  & 学生 & 線形代数 & 微分積分 & 確率統計\\\\\n",
       "\\hline\n",
       "\t1 & 田中 & 7    & 5    & 8   \\\\\n",
       "\t2 & 岸 & 8  & 4  & 6 \\\\\n",
       "\t3 & 大引 & 9    & 7    & 7   \\\\\n",
       "\t4 & 吉川 & 5    & 1    & 2   \\\\\n",
       "\t5 & 荻野 & 6    & 3    & 5   \\\\\n",
       "\\end{tabular}\n"
      ],
      "text/plain": [
       "  学生 線形代数 微分積分 確率統計\n",
       "1 田中        7        5        8\n",
       "2   岸        8        4        6\n",
       "3 大引        9        7        7\n",
       "4 吉川        5        1        2\n",
       "5 荻野        6        3        5"
      ]
     },
     "metadata": {},
     "output_type": "display_data"
    }
   ],
   "source": [
    "d2 <- read_csv(\"chap07_2.csv\", locale=locale(encoding=\"CP932\")) # this csv file was generated by Excel\n",
    "d2"
   ]
  },
  {
   "cell_type": "code",
   "execution_count": 40,
   "metadata": {
    "collapsed": false
   },
   "outputs": [
    {
     "name": "stdout",
     "output_type": "stream",
     "text": [
      "Classes 'tbl_df', 'tbl' and 'data.frame':\t5 obs. of  4 variables:\n",
      " $ student    : chr  \"田中\" \"岸\" \"大引\" \"吉川\" ...\n",
      " $ algebra    : int  7 8 9 5 6\n",
      " $ calculus   : int  5 4 7 1 3\n",
      " $ probability: int  8 6 7 2 5\n"
     ]
    }
   ],
   "source": [
    "names(d2) <- c(\"student\", \"algebra\", \"calculus\", \"probability\")\n",
    "str(d2)"
   ]
  },
  {
   "cell_type": "markdown",
   "metadata": {},
   "source": [
    "### 7.2.1 対応なしとした場合"
   ]
  },
  {
   "cell_type": "code",
   "execution_count": 41,
   "metadata": {
    "collapsed": false
   },
   "outputs": [
    {
     "data": {
      "text/html": [
       "<table>\n",
       "<thead><tr><th></th><th scope=col>student</th><th scope=col>subject</th><th scope=col>point</th></tr></thead>\n",
       "<tbody>\n",
       "\t<tr><th scope=row>1</th><td>田中   </td><td>algebra</td><td>7      </td></tr>\n",
       "\t<tr><th scope=row>2</th><td>岸     </td><td>algebra</td><td>8      </td></tr>\n",
       "\t<tr><th scope=row>3</th><td>大引   </td><td>algebra</td><td>9      </td></tr>\n",
       "\t<tr><th scope=row>4</th><td>吉川   </td><td>algebra</td><td>5      </td></tr>\n",
       "\t<tr><th scope=row>5</th><td>荻野   </td><td>algebra</td><td>6      </td></tr>\n",
       "\t<tr><th scope=row>6</th><td>田中    </td><td>calculus</td><td>5       </td></tr>\n",
       "</tbody>\n",
       "</table>\n"
      ],
      "text/latex": [
       "\\begin{tabular}{r|lll}\n",
       "  & student & subject & point\\\\\n",
       "\\hline\n",
       "\t1 & 田中    & algebra & 7      \\\\\n",
       "\t2 & 岸      & algebra & 8      \\\\\n",
       "\t3 & 大引    & algebra & 9      \\\\\n",
       "\t4 & 吉川    & algebra & 5      \\\\\n",
       "\t5 & 荻野    & algebra & 6      \\\\\n",
       "\t6 & 田中     & calculus & 5       \\\\\n",
       "\\end{tabular}\n"
      ],
      "text/plain": [
       "  student  subject point\n",
       "1    田中  algebra     7\n",
       "2      岸  algebra     8\n",
       "3    大引  algebra     9\n",
       "4    吉川  algebra     5\n",
       "5    荻野  algebra     6\n",
       "6    田中 calculus     5"
      ]
     },
     "metadata": {},
     "output_type": "display_data"
    }
   ],
   "source": [
    "d2 %>>% \n",
    "    gather(subject, point , -student) %>>% head()"
   ]
  },
  {
   "cell_type": "code",
   "execution_count": 42,
   "metadata": {
    "collapsed": false
   },
   "outputs": [
    {
     "data": {
      "text/plain": [
       "            Df Sum Sq Mean Sq F value Pr(>F)\n",
       "subject      2  22.53  11.267   2.641  0.112\n",
       "Residuals   12  51.20   4.267               "
      ]
     },
     "metadata": {},
     "output_type": "display_data"
    }
   ],
   "source": [
    "d2 %>>% \n",
    "    gather(subject, point , -student) %>>% \n",
    "    {aov(point  ~ subject, data = .)} %>>%\n",
    "    summary"
   ]
  },
  {
   "cell_type": "markdown",
   "metadata": {},
   "source": [
    "### 7.2.2 対応あり\n",
    "\n",
    "$$ F = \\frac{\\mbox{条件平方和} / \\mbox{条件の自由度}}{\\mbox{残差平方和} / \\mbox{残差の自由度}}$$"
   ]
  },
  {
   "cell_type": "code",
   "execution_count": 43,
   "metadata": {
    "collapsed": false
   },
   "outputs": [
    {
     "data": {
      "text/plain": [
       "            Df Sum Sq Mean Sq F value   Pr(>F)    \n",
       "subject      2  22.53  11.267    14.7 0.002095 ** \n",
       "student      4  45.07  11.267    14.7 0.000931 ***\n",
       "Residuals    8   6.13   0.767                     \n",
       "---\n",
       "Signif. codes:  0 '***' 0.001 '**' 0.01 '*' 0.05 '.' 0.1 ' ' 1"
      ]
     },
     "metadata": {},
     "output_type": "display_data"
    }
   ],
   "source": [
    "d2 %>>% gather(subject, point, -student) %>>%\n",
    "    {aov(point ~ subject + student, data = .)} %>>%\n",
    "    summary"
   ]
  },
  {
   "cell_type": "markdown",
   "metadata": {},
   "source": [
    "棄却域は，"
   ]
  },
  {
   "cell_type": "code",
   "execution_count": 44,
   "metadata": {
    "collapsed": false
   },
   "outputs": [
    {
     "data": {
      "text/html": [
       "4.45897010752451"
      ],
      "text/latex": [
       "4.45897010752451"
      ],
      "text/markdown": [
       "4.45897010752451"
      ],
      "text/plain": [
       "[1] 4.45897"
      ]
     },
     "metadata": {},
     "output_type": "display_data"
    }
   ],
   "source": [
    "qf(0.05, 2, 8, lower.tail = FALSE)"
   ]
  },
  {
   "cell_type": "markdown",
   "metadata": {},
   "source": [
    "* Tukey多重比較"
   ]
  },
  {
   "cell_type": "code",
   "execution_count": 45,
   "metadata": {
    "collapsed": false
   },
   "outputs": [
    {
     "data": {
      "text/plain": [
       "  Tukey multiple comparisons of means\n",
       "    95% family-wise confidence level\n",
       "\n",
       "Fit: aov(formula = point ~ subject + student, data = .)\n",
       "\n",
       "$subject\n",
       "                     diff       lwr       upr     p adj\n",
       "calculus-algebra     -3.0 -4.582381 -1.417619 0.0016141\n",
       "probability-algebra  -1.4 -2.982381  0.182381 0.0811694\n",
       "probability-calculus  1.6  0.017619  3.182381 0.0477167\n",
       "\n",
       "$student\n",
       "                diff        lwr        upr     p adj\n",
       "岸-荻野    1.3333333 -1.1365377  3.8032044 0.4036928\n",
       "吉川-荻野 -2.0000000 -4.4698711  0.4698711 0.1226987\n",
       "大引-荻野  3.0000000  0.5301289  5.4698711 0.0186089\n",
       "田中-荻野  2.0000000 -0.4698711  4.4698711 0.1226987\n",
       "吉川-岸   -3.3333333 -5.8032044 -0.8634623 0.0102769\n",
       "大引-岸    1.6666667 -0.8032044  4.1365377 0.2282769\n",
       "田中-岸    0.6666667 -1.8032044  3.1365377 0.8766404\n",
       "大引-吉川  5.0000000  2.5301289  7.4698711 0.0007714\n",
       "田中-吉川  4.0000000  1.5301289  6.4698711 0.0033834\n",
       "田中-大引 -1.0000000 -3.4698711  1.4698711 0.6448878\n"
      ]
     },
     "metadata": {},
     "output_type": "display_data"
    }
   ],
   "source": [
    "d2 %>>% gather(subject, point, -student) %>>%\n",
    "    {aov(point ~ subject + student, data = .)} %>>% \n",
    "    TukeyHSD()"
   ]
  },
  {
   "cell_type": "code",
   "execution_count": 46,
   "metadata": {
    "collapsed": false
   },
   "outputs": [
    {
     "data": {
      "text/plain": []
     },
     "metadata": {},
     "output_type": "display_data"
    },
    {
     "data": {
      "image/png": "[encoded data removed]",
      "image/svg+xml": [
       "<?xml version=\"1.0\" encoding=\"UTF-8\"?>\n",
       "<svg xmlns=\"http://www.w3.org/2000/svg\" xmlns:xlink=\"http://www.w3.org/1999/xlink\" width=\"288pt\" height=\"288pt\" viewBox=\"0 0 288 288\" version=\"1.1\">\n",
       "<defs>\n",
       "<g>\n",
       "<symbol overflow=\"visible\" id=\"glyph0-0\">\n",
       "<path style=\"stroke:none;\" d=\"M 4.683594 -0.785156 L 4.683594 0 L 0.28125 0 C 0.273438 -0.195313 0.304688 -0.382813 0.375 -0.566406 C 0.488281 -0.863281 0.667969 -1.160156 0.914063 -1.453125 C 1.160156 -1.742188 1.515625 -2.078125 1.984375 -2.460938 C 2.707031 -3.054688 3.195313 -3.523438 3.449219 -3.871094 C 3.703125 -4.214844 3.832031 -4.542969 3.832031 -4.855469 C 3.832031 -5.175781 3.714844 -5.449219 3.484375 -5.671875 C 3.25 -5.894531 2.949219 -6.003906 2.578125 -6.007813 C 2.183594 -6.003906 1.867188 -5.886719 1.632813 -5.652344 C 1.394531 -5.414063 1.277344 -5.085938 1.277344 -4.671875 L 0.4375 -4.757813 C 0.492188 -5.382813 0.707031 -5.859375 1.085938 -6.191406 C 1.457031 -6.515625 1.960938 -6.679688 2.597656 -6.683594 C 3.230469 -6.679688 3.738281 -6.503906 4.113281 -6.152344 C 4.484375 -5.796875 4.667969 -5.355469 4.671875 -4.835938 C 4.667969 -4.566406 4.613281 -4.304688 4.507813 -4.050781 C 4.398438 -3.789063 4.21875 -3.519531 3.964844 -3.238281 C 3.710938 -2.953125 3.292969 -2.5625 2.707031 -2.066406 C 2.214844 -1.652344 1.898438 -1.371094 1.761719 -1.226563 C 1.621094 -1.078125 1.507813 -0.933594 1.417969 -0.785156 Z M 4.683594 -0.785156 \"/>\n",
       "</symbol>\n",
       "<symbol overflow=\"visible\" id=\"glyph0-1\">\n",
       "<path style=\"stroke:none;\" d=\"M 0.84375 0 L 0.84375 -0.929688 L 1.777344 -0.929688 L 1.777344 0 Z M 0.84375 0 \"/>\n",
       "</symbol>\n",
       "<symbol overflow=\"visible\" id=\"glyph0-2\">\n",
       "<path style=\"stroke:none;\" d=\"M 0.386719 -1.742188 L 1.246094 -1.816406 C 1.304688 -1.398438 1.453125 -1.082031 1.6875 -0.875 C 1.917969 -0.660156 2.195313 -0.554688 2.523438 -0.558594 C 2.914063 -0.554688 3.246094 -0.703125 3.523438 -1.003906 C 3.792969 -1.296875 3.929688 -1.691406 3.933594 -2.183594 C 3.929688 -2.648438 3.800781 -3.015625 3.539063 -3.285156 C 3.277344 -3.554688 2.933594 -3.691406 2.511719 -3.691406 C 2.246094 -3.691406 2.007813 -3.628906 1.796875 -3.511719 C 1.582031 -3.386719 1.414063 -3.234375 1.296875 -3.046875 L 0.53125 -3.148438 L 1.175781 -6.566406 L 4.488281 -6.566406 L 4.488281 -5.785156 L 1.828125 -5.785156 L 1.472656 -3.996094 C 1.867188 -4.273438 2.289063 -4.410156 2.730469 -4.414063 C 3.308594 -4.410156 3.796875 -4.210938 4.199219 -3.808594 C 4.597656 -3.40625 4.796875 -2.886719 4.800781 -2.257813 C 4.796875 -1.648438 4.621094 -1.128906 4.273438 -0.695313 C 3.84375 -0.15625 3.261719 0.109375 2.523438 0.113281 C 1.917969 0.109375 1.425781 -0.0546875 1.042969 -0.394531 C 0.660156 -0.730469 0.441406 -1.179688 0.386719 -1.742188 Z M 0.386719 -1.742188 \"/>\n",
       "</symbol>\n",
       "<symbol overflow=\"visible\" id=\"glyph0-3\">\n",
       "<path style=\"stroke:none;\" d=\"M 0.386719 -3.28125 C 0.386719 -4.070313 0.464844 -4.703125 0.628906 -5.183594 C 0.785156 -5.660156 1.027344 -6.03125 1.347656 -6.292969 C 1.667969 -6.550781 2.070313 -6.679688 2.554688 -6.683594 C 2.914063 -6.679688 3.226563 -6.609375 3.496094 -6.46875 C 3.765625 -6.324219 3.988281 -6.117188 4.164063 -5.847656 C 4.335938 -5.574219 4.472656 -5.242188 4.574219 -4.855469 C 4.671875 -4.464844 4.722656 -3.941406 4.726563 -3.28125 C 4.722656 -2.5 4.640625 -1.867188 4.484375 -1.390625 C 4.320313 -0.90625 4.082031 -0.535156 3.765625 -0.277344 C 3.445313 -0.015625 3.042969 0.109375 2.554688 0.113281 C 1.914063 0.109375 1.410156 -0.117188 1.042969 -0.578125 C 0.605469 -1.128906 0.386719 -2.03125 0.386719 -3.28125 Z M 1.226563 -3.28125 C 1.222656 -2.1875 1.351563 -1.460938 1.609375 -1.101563 C 1.863281 -0.738281 2.179688 -0.554688 2.554688 -0.558594 C 2.929688 -0.554688 3.246094 -0.738281 3.503906 -1.101563 C 3.757813 -1.464844 3.882813 -2.191406 3.886719 -3.28125 C 3.882813 -4.375 3.757813 -5.101563 3.503906 -5.464844 C 3.246094 -5.824219 2.925781 -6.003906 2.546875 -6.007813 C 2.167969 -6.003906 1.867188 -5.847656 1.648438 -5.53125 C 1.363281 -5.125 1.222656 -4.375 1.226563 -3.28125 Z M 1.226563 -3.28125 \"/>\n",
       "</symbol>\n",
       "<symbol overflow=\"visible\" id=\"glyph0-4\">\n",
       "<path style=\"stroke:none;\" d=\"M 0.441406 -5.785156 L 0.441406 -6.570313 L 4.75 -6.570313 L 4.75 -5.933594 C 4.324219 -5.480469 3.902344 -4.882813 3.488281 -4.136719 C 3.070313 -3.386719 2.75 -2.617188 2.523438 -1.828125 C 2.359375 -1.273438 2.253906 -0.664063 2.210938 0 L 1.371094 0 C 1.378906 -0.523438 1.480469 -1.15625 1.679688 -1.898438 C 1.875 -2.640625 2.15625 -3.355469 2.527344 -4.042969 C 2.890625 -4.730469 3.28125 -5.308594 3.699219 -5.785156 Z M 0.441406 -5.785156 \"/>\n",
       "</symbol>\n",
       "<symbol overflow=\"visible\" id=\"glyph0-5\">\n",
       "<path style=\"stroke:none;\" d=\"M 3.761719 -0.59375 C 3.457031 -0.332031 3.164063 -0.152344 2.882813 -0.046875 C 2.601563 0.0546875 2.300781 0.105469 1.984375 0.109375 C 1.453125 0.105469 1.046875 -0.0195313 0.761719 -0.277344 C 0.476563 -0.535156 0.332031 -0.867188 0.335938 -1.273438 C 0.332031 -1.503906 0.386719 -1.71875 0.496094 -1.917969 C 0.601563 -2.109375 0.742188 -2.265625 0.917969 -2.386719 C 1.089844 -2.503906 1.285156 -2.59375 1.507813 -2.65625 C 1.664063 -2.695313 1.90625 -2.738281 2.234375 -2.777344 C 2.890625 -2.855469 3.378906 -2.949219 3.691406 -3.0625 C 3.691406 -3.171875 3.691406 -3.242188 3.695313 -3.273438 C 3.691406 -3.605469 3.613281 -3.839844 3.464844 -3.976563 C 3.253906 -4.160156 2.945313 -4.253906 2.535156 -4.253906 C 2.148438 -4.253906 1.863281 -4.183594 1.679688 -4.050781 C 1.496094 -3.914063 1.363281 -3.675781 1.277344 -3.335938 L 0.476563 -3.445313 C 0.546875 -3.789063 0.667969 -4.0625 0.835938 -4.273438 C 1 -4.480469 1.242188 -4.644531 1.558594 -4.757813 C 1.871094 -4.871094 2.234375 -4.925781 2.652344 -4.929688 C 3.0625 -4.925781 3.398438 -4.878906 3.65625 -4.785156 C 3.914063 -4.6875 4.101563 -4.566406 4.222656 -4.417969 C 4.34375 -4.269531 4.429688 -4.082031 4.476563 -3.863281 C 4.503906 -3.722656 4.515625 -3.472656 4.519531 -3.109375 L 4.519531 -2.019531 C 4.515625 -1.257813 4.535156 -0.777344 4.570313 -0.578125 C 4.601563 -0.375 4.667969 -0.183594 4.777344 0 L 3.921875 0 C 3.835938 -0.167969 3.785156 -0.363281 3.761719 -0.59375 Z M 3.691406 -2.421875 C 3.394531 -2.296875 2.949219 -2.195313 2.355469 -2.113281 C 2.019531 -2.0625 1.78125 -2.007813 1.640625 -1.945313 C 1.5 -1.882813 1.390625 -1.792969 1.320313 -1.679688 C 1.242188 -1.5625 1.207031 -1.433594 1.207031 -1.292969 C 1.207031 -1.074219 1.289063 -0.894531 1.453125 -0.75 C 1.617188 -0.601563 1.859375 -0.527344 2.179688 -0.53125 C 2.492188 -0.527344 2.769531 -0.597656 3.019531 -0.738281 C 3.261719 -0.875 3.441406 -1.0625 3.558594 -1.304688 C 3.644531 -1.488281 3.691406 -1.761719 3.691406 -2.121094 Z M 3.691406 -2.421875 \"/>\n",
       "</symbol>\n",
       "<symbol overflow=\"visible\" id=\"glyph0-6\">\n",
       "<path style=\"stroke:none;\" d=\"M 0.59375 0 L 0.59375 -6.65625 L 1.414063 -6.65625 L 1.414063 0 Z M 0.59375 0 \"/>\n",
       "</symbol>\n",
       "<symbol overflow=\"visible\" id=\"glyph0-7\">\n",
       "<path style=\"stroke:none;\" d=\"M 0.464844 0.398438 L 1.257813 0.519531 C 1.289063 0.761719 1.382813 0.941406 1.535156 1.054688 C 1.738281 1.203125 2.015625 1.277344 2.367188 1.28125 C 2.742188 1.277344 3.03125 1.203125 3.242188 1.054688 C 3.445313 0.902344 3.585938 0.6875 3.660156 0.417969 C 3.699219 0.246094 3.71875 -0.101563 3.71875 -0.632813 C 3.359375 -0.210938 2.914063 0 2.382813 0 C 1.71875 0 1.207031 -0.238281 0.84375 -0.714844 C 0.480469 -1.191406 0.296875 -1.765625 0.300781 -2.4375 C 0.296875 -2.898438 0.382813 -3.320313 0.550781 -3.710938 C 0.714844 -4.097656 0.953125 -4.398438 1.273438 -4.613281 C 1.585938 -4.820313 1.957031 -4.925781 2.386719 -4.929688 C 2.953125 -4.925781 3.425781 -4.699219 3.796875 -4.242188 L 3.796875 -4.824219 L 4.550781 -4.824219 L 4.550781 -0.652344 C 4.546875 0.0976563 4.46875 0.625 4.320313 0.941406 C 4.164063 1.253906 3.921875 1.5 3.59375 1.683594 C 3.257813 1.863281 2.851563 1.957031 2.371094 1.957031 C 1.792969 1.957031 1.328125 1.824219 0.976563 1.566406 C 0.621094 1.304688 0.449219 0.917969 0.464844 0.398438 Z M 1.140625 -2.496094 C 1.136719 -1.863281 1.261719 -1.398438 1.515625 -1.109375 C 1.765625 -0.816406 2.082031 -0.671875 2.460938 -0.675781 C 2.835938 -0.671875 3.148438 -0.816406 3.40625 -1.109375 C 3.65625 -1.394531 3.785156 -1.847656 3.789063 -2.46875 C 3.785156 -3.054688 3.652344 -3.5 3.394531 -3.804688 C 3.128906 -4.101563 2.816406 -4.253906 2.449219 -4.253906 C 2.082031 -4.253906 1.769531 -4.105469 1.519531 -3.8125 C 1.261719 -3.515625 1.136719 -3.078125 1.140625 -2.496094 Z M 1.140625 -2.496094 \"/>\n",
       "</symbol>\n",
       "<symbol overflow=\"visible\" id=\"glyph0-8\">\n",
       "<path style=\"stroke:none;\" d=\"M 3.914063 -1.554688 L 4.757813 -1.449219 C 4.625 -0.949219 4.375 -0.566406 4.015625 -0.296875 C 3.652344 -0.0273438 3.195313 0.105469 2.636719 0.109375 C 1.933594 0.105469 1.375 -0.109375 0.960938 -0.542969 C 0.546875 -0.976563 0.339844 -1.585938 0.339844 -2.371094 C 0.339844 -3.179688 0.546875 -3.808594 0.964844 -4.257813 C 1.382813 -4.703125 1.925781 -4.925781 2.59375 -4.929688 C 3.234375 -4.925781 3.761719 -4.707031 4.171875 -4.269531 C 4.578125 -3.828125 4.78125 -3.210938 4.785156 -2.421875 C 4.78125 -2.367188 4.78125 -2.296875 4.78125 -2.203125 L 1.183594 -2.203125 C 1.214844 -1.671875 1.363281 -1.265625 1.632813 -0.984375 C 1.902344 -0.703125 2.238281 -0.5625 2.644531 -0.5625 C 2.941406 -0.5625 3.199219 -0.640625 3.410156 -0.796875 C 3.621094 -0.953125 3.789063 -1.203125 3.914063 -1.554688 Z M 1.230469 -2.875 L 3.921875 -2.875 C 3.882813 -3.277344 3.78125 -3.582031 3.613281 -3.789063 C 3.351563 -4.097656 3.015625 -4.253906 2.601563 -4.257813 C 2.226563 -4.253906 1.910156 -4.128906 1.65625 -3.878906 C 1.398438 -3.628906 1.257813 -3.292969 1.230469 -2.875 Z M 1.230469 -2.875 \"/>\n",
       "</symbol>\n",
       "<symbol overflow=\"visible\" id=\"glyph0-9\">\n",
       "<path style=\"stroke:none;\" d=\"M 1.367188 0 L 0.609375 0 L 0.609375 -6.65625 L 1.425781 -6.65625 L 1.425781 -4.28125 C 1.769531 -4.710938 2.210938 -4.925781 2.746094 -4.929688 C 3.039063 -4.925781 3.320313 -4.867188 3.589844 -4.75 C 3.851563 -4.628906 4.070313 -4.460938 4.242188 -4.246094 C 4.414063 -4.027344 4.546875 -3.765625 4.644531 -3.464844 C 4.738281 -3.15625 4.785156 -2.832031 4.789063 -2.484375 C 4.785156 -1.65625 4.582031 -1.015625 4.175781 -0.566406 C 3.765625 -0.117188 3.277344 0.105469 2.707031 0.109375 C 2.136719 0.105469 1.6875 -0.128906 1.367188 -0.605469 Z M 1.359375 -2.449219 C 1.359375 -1.871094 1.4375 -1.453125 1.59375 -1.195313 C 1.851563 -0.773438 2.199219 -0.5625 2.636719 -0.5625 C 2.996094 -0.5625 3.304688 -0.714844 3.566406 -1.027344 C 3.824219 -1.332031 3.953125 -1.796875 3.957031 -2.414063 C 3.953125 -3.042969 3.828125 -3.507813 3.582031 -3.808594 C 3.328125 -4.105469 3.027344 -4.253906 2.675781 -4.257813 C 2.316406 -4.253906 2.007813 -4.097656 1.75 -3.792969 C 1.488281 -3.480469 1.359375 -3.035156 1.359375 -2.449219 Z M 1.359375 -2.449219 \"/>\n",
       "</symbol>\n",
       "<symbol overflow=\"visible\" id=\"glyph0-10\">\n",
       "<path style=\"stroke:none;\" d=\"M 0.605469 0 L 0.605469 -4.824219 L 1.339844 -4.824219 L 1.339844 -4.089844 C 1.523438 -4.433594 1.695313 -4.65625 1.859375 -4.765625 C 2.015625 -4.871094 2.191406 -4.925781 2.382813 -4.929688 C 2.65625 -4.925781 2.9375 -4.839844 3.222656 -4.667969 L 2.941406 -3.910156 C 2.742188 -4.023438 2.542969 -4.082031 2.34375 -4.085938 C 2.164063 -4.082031 2 -4.03125 1.859375 -3.925781 C 1.714844 -3.816406 1.617188 -3.664063 1.558594 -3.476563 C 1.464844 -3.183594 1.417969 -2.867188 1.421875 -2.523438 L 1.421875 0 Z M 0.605469 0 \"/>\n",
       "</symbol>\n",
       "<symbol overflow=\"visible\" id=\"glyph0-11\">\n",
       "<path style=\"stroke:none;\" d=\"M 3.761719 -1.765625 L 4.5625 -1.660156 C 4.472656 -1.105469 4.25 -0.671875 3.890625 -0.359375 C 3.527344 -0.046875 3.082031 0.105469 2.554688 0.109375 C 1.894531 0.105469 1.363281 -0.105469 0.964844 -0.535156 C 0.5625 -0.964844 0.363281 -1.585938 0.363281 -2.394531 C 0.363281 -2.914063 0.449219 -3.371094 0.621094 -3.761719 C 0.792969 -4.152344 1.054688 -4.441406 1.410156 -4.636719 C 1.757813 -4.828125 2.140625 -4.925781 2.5625 -4.929688 C 3.082031 -4.925781 3.511719 -4.792969 3.847656 -4.53125 C 4.179688 -4.265625 4.394531 -3.890625 4.488281 -3.40625 L 3.691406 -3.28125 C 3.613281 -3.605469 3.476563 -3.847656 3.289063 -4.011719 C 3.09375 -4.171875 2.863281 -4.253906 2.59375 -4.257813 C 2.179688 -4.253906 1.84375 -4.105469 1.589844 -3.816406 C 1.328125 -3.519531 1.199219 -3.054688 1.203125 -2.414063 C 1.199219 -1.765625 1.324219 -1.292969 1.574219 -1.003906 C 1.820313 -0.707031 2.144531 -0.5625 2.546875 -0.5625 C 2.863281 -0.5625 3.128906 -0.660156 3.347656 -0.855469 C 3.558594 -1.050781 3.699219 -1.351563 3.761719 -1.765625 Z M 3.761719 -1.765625 \"/>\n",
       "</symbol>\n",
       "<symbol overflow=\"visible\" id=\"glyph0-12\">\n",
       "<path style=\"stroke:none;\" d=\"M 3.773438 0 L 3.773438 -0.707031 C 3.398438 -0.164063 2.886719 0.105469 2.242188 0.109375 C 1.957031 0.105469 1.691406 0.0546875 1.445313 -0.0546875 C 1.199219 -0.160156 1.015625 -0.296875 0.898438 -0.464844 C 0.773438 -0.628906 0.691406 -0.832031 0.644531 -1.070313 C 0.609375 -1.230469 0.589844 -1.484375 0.59375 -1.835938 L 0.59375 -4.824219 L 1.414063 -4.824219 L 1.414063 -2.148438 C 1.410156 -1.71875 1.425781 -1.429688 1.460938 -1.285156 C 1.507813 -1.066406 1.617188 -0.898438 1.789063 -0.777344 C 1.953125 -0.652344 2.160156 -0.589844 2.40625 -0.59375 C 2.648438 -0.589844 2.878906 -0.652344 3.09375 -0.78125 C 3.308594 -0.90625 3.460938 -1.078125 3.550781 -1.296875 C 3.640625 -1.507813 3.683594 -1.824219 3.6875 -2.238281 L 3.6875 -4.824219 L 4.503906 -4.824219 L 4.503906 0 Z M 3.773438 0 \"/>\n",
       "</symbol>\n",
       "<symbol overflow=\"visible\" id=\"glyph0-13\">\n",
       "<path style=\"stroke:none;\" d=\"M 0.285156 -1.441406 L 1.09375 -1.566406 C 1.136719 -1.238281 1.261719 -0.992188 1.472656 -0.820313 C 1.675781 -0.648438 1.96875 -0.5625 2.34375 -0.5625 C 2.71875 -0.5625 2.996094 -0.636719 3.179688 -0.792969 C 3.359375 -0.941406 3.449219 -1.121094 3.453125 -1.332031 C 3.449219 -1.511719 3.371094 -1.65625 3.210938 -1.765625 C 3.097656 -1.835938 2.816406 -1.929688 2.375 -2.042969 C 1.773438 -2.191406 1.359375 -2.320313 1.128906 -2.433594 C 0.894531 -2.542969 0.71875 -2.699219 0.601563 -2.894531 C 0.480469 -3.089844 0.421875 -3.304688 0.421875 -3.542969 C 0.421875 -3.753906 0.46875 -3.953125 0.570313 -4.136719 C 0.664063 -4.320313 0.800781 -4.472656 0.972656 -4.59375 C 1.097656 -4.6875 1.269531 -4.765625 1.492188 -4.832031 C 1.707031 -4.894531 1.941406 -4.925781 2.199219 -4.929688 C 2.574219 -4.925781 2.90625 -4.871094 3.195313 -4.765625 C 3.476563 -4.65625 3.6875 -4.511719 3.828125 -4.324219 C 3.960938 -4.136719 4.054688 -3.886719 4.109375 -3.578125 L 3.308594 -3.46875 C 3.273438 -3.714844 3.167969 -3.90625 2.996094 -4.046875 C 2.816406 -4.183594 2.570313 -4.253906 2.257813 -4.257813 C 1.878906 -4.253906 1.613281 -4.191406 1.453125 -4.070313 C 1.289063 -3.945313 1.207031 -3.800781 1.210938 -3.636719 C 1.207031 -3.527344 1.242188 -3.433594 1.3125 -3.351563 C 1.378906 -3.261719 1.480469 -3.1875 1.625 -3.132813 C 1.703125 -3.101563 1.945313 -3.03125 2.347656 -2.925781 C 2.921875 -2.765625 3.324219 -2.640625 3.558594 -2.542969 C 3.785156 -2.445313 3.964844 -2.300781 4.097656 -2.117188 C 4.222656 -1.925781 4.289063 -1.695313 4.292969 -1.417969 C 4.289063 -1.144531 4.210938 -0.886719 4.054688 -0.644531 C 3.894531 -0.402344 3.664063 -0.214844 3.363281 -0.0859375 C 3.0625 0.0429688 2.722656 0.105469 2.347656 0.109375 C 1.71875 0.105469 1.242188 -0.0234375 0.914063 -0.28125 C 0.585938 -0.539063 0.375 -0.925781 0.285156 -1.441406 Z M 0.285156 -1.441406 \"/>\n",
       "</symbol>\n",
       "<symbol overflow=\"visible\" id=\"glyph0-14\">\n",
       "<path style=\"stroke:none;\" d=\"M 0.613281 1.847656 L 0.613281 -4.824219 L 1.359375 -4.824219 L 1.359375 -4.195313 C 1.53125 -4.4375 1.726563 -4.621094 1.953125 -4.746094 C 2.171875 -4.867188 2.441406 -4.925781 2.757813 -4.929688 C 3.167969 -4.925781 3.53125 -4.820313 3.847656 -4.613281 C 4.160156 -4.398438 4.398438 -4.101563 4.558594 -3.714844 C 4.71875 -3.328125 4.796875 -2.90625 4.800781 -2.449219 C 4.796875 -1.953125 4.710938 -1.507813 4.535156 -1.113281 C 4.355469 -0.71875 4.097656 -0.414063 3.761719 -0.207031 C 3.425781 0.00390625 3.070313 0.105469 2.699219 0.109375 C 2.421875 0.105469 2.175781 0.0507813 1.964844 -0.0625 C 1.746094 -0.175781 1.570313 -0.320313 1.429688 -0.5 L 1.429688 1.847656 Z M 1.351563 -2.382813 C 1.347656 -1.761719 1.472656 -1.304688 1.726563 -1.007813 C 1.976563 -0.710938 2.28125 -0.5625 2.644531 -0.5625 C 3.003906 -0.5625 3.316406 -0.714844 3.574219 -1.023438 C 3.832031 -1.328125 3.960938 -1.804688 3.964844 -2.453125 C 3.960938 -3.066406 3.835938 -3.527344 3.585938 -3.832031 C 3.332031 -4.136719 3.027344 -4.289063 2.679688 -4.292969 C 2.328125 -4.289063 2.019531 -4.125 1.753906 -3.804688 C 1.480469 -3.476563 1.347656 -3.003906 1.351563 -2.382813 Z M 1.351563 -2.382813 \"/>\n",
       "</symbol>\n",
       "<symbol overflow=\"visible\" id=\"glyph0-15\">\n",
       "<path style=\"stroke:none;\" d=\"M 0.308594 -2.410156 C 0.304688 -3.300781 0.554688 -3.964844 1.054688 -4.394531 C 1.46875 -4.75 1.972656 -4.925781 2.570313 -4.929688 C 3.230469 -4.925781 3.773438 -4.710938 4.195313 -4.277344 C 4.617188 -3.84375 4.828125 -3.242188 4.828125 -2.480469 C 4.828125 -1.855469 4.734375 -1.367188 4.546875 -1.011719 C 4.359375 -0.65625 4.085938 -0.378906 3.734375 -0.183594 C 3.375 0.0117188 2.988281 0.105469 2.570313 0.109375 C 1.894531 0.105469 1.347656 -0.109375 0.933594 -0.539063 C 0.511719 -0.972656 0.304688 -1.59375 0.308594 -2.410156 Z M 1.148438 -2.410156 C 1.148438 -1.789063 1.28125 -1.328125 1.550781 -1.023438 C 1.820313 -0.714844 2.160156 -0.5625 2.570313 -0.5625 C 2.972656 -0.5625 3.308594 -0.714844 3.582031 -1.023438 C 3.847656 -1.332031 3.984375 -1.804688 3.988281 -2.4375 C 3.984375 -3.03125 3.847656 -3.480469 3.582031 -3.792969 C 3.308594 -4.097656 2.972656 -4.253906 2.570313 -4.253906 C 2.160156 -4.253906 1.820313 -4.097656 1.550781 -3.792969 C 1.28125 -3.484375 1.148438 -3.023438 1.148438 -2.410156 Z M 1.148438 -2.410156 \"/>\n",
       "</symbol>\n",
       "<symbol overflow=\"visible\" id=\"glyph0-16\">\n",
       "<path style=\"stroke:none;\" d=\"M 0.617188 -5.71875 L 0.617188 -6.65625 L 1.433594 -6.65625 L 1.433594 -5.71875 Z M 0.617188 0 L 0.617188 -4.824219 L 1.433594 -4.824219 L 1.433594 0 Z M 0.617188 0 \"/>\n",
       "</symbol>\n",
       "<symbol overflow=\"visible\" id=\"glyph0-17\">\n",
       "<path style=\"stroke:none;\" d=\"M 2.398438 -0.730469 L 2.515625 -0.0078125 C 2.28125 0.0390625 2.078125 0.0585938 1.898438 0.0625 C 1.601563 0.0585938 1.371094 0.015625 1.207031 -0.078125 C 1.042969 -0.167969 0.925781 -0.292969 0.859375 -0.445313 C 0.792969 -0.597656 0.761719 -0.917969 0.761719 -1.414063 L 0.761719 -4.1875 L 0.164063 -4.1875 L 0.164063 -4.824219 L 0.761719 -4.824219 L 0.761719 -6.015625 L 1.574219 -6.507813 L 1.574219 -4.824219 L 2.398438 -4.824219 L 2.398438 -4.1875 L 1.574219 -4.1875 L 1.574219 -1.367188 C 1.570313 -1.128906 1.585938 -0.980469 1.617188 -0.914063 C 1.644531 -0.847656 1.691406 -0.792969 1.757813 -0.757813 C 1.820313 -0.714844 1.914063 -0.695313 2.039063 -0.699219 C 2.128906 -0.695313 2.246094 -0.707031 2.398438 -0.730469 Z M 2.398438 -0.730469 \"/>\n",
       "</symbol>\n",
       "<symbol overflow=\"visible\" id=\"glyph0-18\">\n",
       "<path style=\"stroke:none;\" d=\"M 0.578125 1.855469 L 0.484375 1.089844 C 0.660156 1.136719 0.816406 1.160156 0.953125 1.164063 C 1.132813 1.160156 1.277344 1.128906 1.390625 1.070313 C 1.496094 1.007813 1.585938 0.921875 1.65625 0.816406 C 1.707031 0.730469 1.789063 0.527344 1.90625 0.207031 C 1.917969 0.160156 1.945313 0.09375 1.980469 0.0078125 L 0.148438 -4.824219 L 1.03125 -4.824219 L 2.035156 -2.03125 C 2.160156 -1.675781 2.277344 -1.304688 2.382813 -0.914063 C 2.472656 -1.289063 2.585938 -1.652344 2.71875 -2.011719 L 3.75 -4.824219 L 4.566406 -4.824219 L 2.734375 0.0820313 C 2.535156 0.609375 2.382813 0.972656 2.273438 1.175781 C 2.128906 1.445313 1.960938 1.644531 1.773438 1.769531 C 1.582031 1.894531 1.359375 1.957031 1.101563 1.957031 C 0.945313 1.957031 0.769531 1.921875 0.578125 1.855469 Z M 0.578125 1.855469 \"/>\n",
       "</symbol>\n",
       "<symbol overflow=\"visible\" id=\"glyph1-0\">\n",
       "<path style=\"stroke:none;\" d=\"M 0.355469 -1.78125 L 1.351563 -1.9375 C 1.40625 -1.535156 1.5625 -1.226563 1.820313 -1.015625 C 2.074219 -0.796875 2.433594 -0.691406 2.898438 -0.695313 C 3.359375 -0.691406 3.703125 -0.785156 3.929688 -0.976563 C 4.152344 -1.164063 4.265625 -1.386719 4.265625 -1.644531 C 4.265625 -1.871094 4.164063 -2.050781 3.96875 -2.183594 C 3.828125 -2.273438 3.484375 -2.386719 2.9375 -2.527344 C 2.191406 -2.710938 1.679688 -2.875 1.394531 -3.011719 C 1.105469 -3.148438 0.886719 -3.335938 0.742188 -3.578125 C 0.59375 -3.816406 0.519531 -4.082031 0.523438 -4.378906 C 0.519531 -4.640625 0.582031 -4.886719 0.703125 -5.117188 C 0.824219 -5.339844 0.988281 -5.53125 1.203125 -5.683594 C 1.355469 -5.796875 1.570313 -5.894531 1.84375 -5.976563 C 2.113281 -6.054688 2.40625 -6.09375 2.71875 -6.097656 C 3.183594 -6.09375 3.59375 -6.027344 3.949219 -5.894531 C 4.300781 -5.761719 4.558594 -5.578125 4.730469 -5.347656 C 4.894531 -5.117188 5.011719 -4.808594 5.082031 -4.425781 L 4.09375 -4.289063 C 4.046875 -4.59375 3.917969 -4.832031 3.703125 -5.007813 C 3.484375 -5.175781 3.179688 -5.261719 2.789063 -5.265625 C 2.324219 -5.261719 1.992188 -5.183594 1.796875 -5.035156 C 1.597656 -4.878906 1.5 -4.699219 1.5 -4.496094 C 1.5 -4.363281 1.539063 -4.246094 1.621094 -4.144531 C 1.703125 -4.03125 1.832031 -3.941406 2.011719 -3.875 C 2.105469 -3.835938 2.402344 -3.75 2.902344 -3.617188 C 3.613281 -3.421875 4.113281 -3.265625 4.398438 -3.144531 C 4.679688 -3.023438 4.902344 -2.847656 5.0625 -2.617188 C 5.222656 -2.382813 5.300781 -2.09375 5.304688 -1.75 C 5.300781 -1.410156 5.203125 -1.09375 5.011719 -0.800781 C 4.8125 -0.5 4.53125 -0.269531 4.160156 -0.109375 C 3.789063 0.0507813 3.367188 0.128906 2.902344 0.132813 C 2.125 0.128906 1.535156 -0.0273438 1.132813 -0.347656 C 0.722656 -0.667969 0.464844 -1.148438 0.355469 -1.78125 Z M 0.355469 -1.78125 \"/>\n",
       "</symbol>\n",
       "<symbol overflow=\"visible\" id=\"glyph1-1\">\n",
       "<path style=\"stroke:none;\" d=\"M 4.667969 0 L 4.667969 -0.875 C 4.199219 -0.203125 3.566406 0.128906 2.773438 0.132813 C 2.417969 0.128906 2.089844 0.0664063 1.789063 -0.0664063 C 1.480469 -0.199219 1.253906 -0.371094 1.109375 -0.574219 C 0.957031 -0.777344 0.855469 -1.027344 0.796875 -1.324219 C 0.753906 -1.519531 0.730469 -1.832031 0.734375 -2.269531 L 0.734375 -5.964844 L 1.746094 -5.964844 L 1.746094 -2.65625 C 1.746094 -2.125 1.765625 -1.769531 1.808594 -1.589844 C 1.867188 -1.320313 2 -1.113281 2.210938 -0.960938 C 2.414063 -0.808594 2.671875 -0.730469 2.976563 -0.734375 C 3.277344 -0.730469 3.558594 -0.808594 3.828125 -0.96875 C 4.089844 -1.121094 4.277344 -1.332031 4.390625 -1.601563 C 4.5 -1.867188 4.558594 -2.257813 4.558594 -2.769531 L 4.558594 -5.964844 L 5.570313 -5.964844 L 5.570313 0 Z M 4.667969 0 \"/>\n",
       "</symbol>\n",
       "<symbol overflow=\"visible\" id=\"glyph1-2\">\n",
       "<path style=\"stroke:none;\" d=\"M 1.691406 0 L 0.753906 0 L 0.753906 -8.230469 L 1.761719 -8.230469 L 1.761719 -5.296875 C 2.1875 -5.828125 2.734375 -6.09375 3.398438 -6.097656 C 3.765625 -6.09375 4.109375 -6.019531 4.4375 -5.875 C 4.761719 -5.726563 5.03125 -5.519531 5.246094 -5.253906 C 5.457031 -4.984375 5.625 -4.660156 5.746094 -4.285156 C 5.863281 -3.902344 5.921875 -3.5 5.925781 -3.070313 C 5.921875 -2.046875 5.667969 -1.257813 5.164063 -0.703125 C 4.65625 -0.148438 4.050781 0.128906 3.347656 0.132813 C 2.636719 0.128906 2.085938 -0.160156 1.691406 -0.746094 Z M 1.679688 -3.027344 C 1.675781 -2.308594 1.773438 -1.792969 1.972656 -1.476563 C 2.289063 -0.953125 2.71875 -0.691406 3.261719 -0.695313 C 3.703125 -0.691406 4.085938 -0.882813 4.40625 -1.269531 C 4.726563 -1.652344 4.886719 -2.226563 4.890625 -2.988281 C 4.886719 -3.765625 4.730469 -4.339844 4.425781 -4.710938 C 4.113281 -5.078125 3.742188 -5.261719 3.308594 -5.265625 C 2.863281 -5.261719 2.480469 -5.070313 2.160156 -4.691406 C 1.835938 -4.304688 1.675781 -3.75 1.679688 -3.027344 Z M 1.679688 -3.027344 \"/>\n",
       "</symbol>\n",
       "<symbol overflow=\"visible\" id=\"glyph1-3\">\n",
       "<path style=\"stroke:none;\" d=\"M 0.753906 -7.058594 L 0.753906 -8.230469 L 1.761719 -8.230469 L 1.761719 -7.058594 Z M -0.527344 2.3125 L -0.335938 1.453125 C -0.132813 1.503906 0.0234375 1.527344 0.140625 1.53125 C 0.34375 1.527344 0.496094 1.460938 0.601563 1.328125 C 0.699219 1.191406 0.75 0.851563 0.753906 0.304688 L 0.753906 -5.964844 L 1.761719 -5.964844 L 1.761719 0.324219 C 1.757813 1.054688 1.664063 1.566406 1.476563 1.859375 C 1.234375 2.230469 0.828125 2.417969 0.265625 2.421875 C -0.0078125 2.417969 -0.269531 2.382813 -0.527344 2.3125 Z M -0.527344 2.3125 \"/>\n",
       "</symbol>\n",
       "<symbol overflow=\"visible\" id=\"glyph1-4\">\n",
       "<path style=\"stroke:none;\" d=\"M 4.839844 -1.921875 L 5.882813 -1.792969 C 5.71875 -1.179688 5.414063 -0.703125 4.96875 -0.371094 C 4.523438 -0.0351563 3.953125 0.128906 3.261719 0.132813 C 2.386719 0.128906 1.695313 -0.136719 1.1875 -0.671875 C 0.675781 -1.207031 0.421875 -1.960938 0.421875 -2.929688 C 0.421875 -3.933594 0.679688 -4.710938 1.195313 -5.265625 C 1.710938 -5.816406 2.378906 -6.09375 3.207031 -6.097656 C 4 -6.09375 4.652344 -5.820313 5.160156 -5.28125 C 5.664063 -4.734375 5.917969 -3.972656 5.917969 -2.992188 C 5.917969 -2.929688 5.914063 -2.839844 5.914063 -2.722656 L 1.464844 -2.722656 C 1.503906 -2.066406 1.6875 -1.566406 2.019531 -1.21875 C 2.351563 -0.867188 2.769531 -0.691406 3.269531 -0.695313 C 3.636719 -0.691406 3.949219 -0.789063 4.214844 -0.988281 C 4.472656 -1.179688 4.683594 -1.492188 4.839844 -1.921875 Z M 1.523438 -3.554688 L 4.851563 -3.554688 C 4.804688 -4.054688 4.675781 -4.429688 4.46875 -4.683594 C 4.144531 -5.066406 3.726563 -5.261719 3.21875 -5.265625 C 2.75 -5.261719 2.359375 -5.105469 2.042969 -4.800781 C 1.726563 -4.488281 1.554688 -4.074219 1.523438 -3.554688 Z M 1.523438 -3.554688 \"/>\n",
       "</symbol>\n",
       "<symbol overflow=\"visible\" id=\"glyph1-5\">\n",
       "<path style=\"stroke:none;\" d=\"M 4.648438 -2.183594 L 5.644531 -2.054688 C 5.53125 -1.367188 5.253906 -0.832031 4.808594 -0.445313 C 4.359375 -0.0625 3.808594 0.128906 3.160156 0.132813 C 2.339844 0.128906 1.683594 -0.132813 1.191406 -0.664063 C 0.691406 -1.195313 0.445313 -1.960938 0.449219 -2.960938 C 0.445313 -3.601563 0.550781 -4.164063 0.769531 -4.648438 C 0.980469 -5.128906 1.304688 -5.492188 1.742188 -5.734375 C 2.175781 -5.972656 2.652344 -6.09375 3.167969 -6.097656 C 3.8125 -6.09375 4.339844 -5.929688 4.753906 -5.605469 C 5.164063 -5.277344 5.429688 -4.8125 5.546875 -4.210938 L 4.566406 -4.058594 C 4.46875 -4.457031 4.304688 -4.757813 4.066406 -4.960938 C 3.828125 -5.160156 3.539063 -5.261719 3.207031 -5.265625 C 2.691406 -5.261719 2.277344 -5.078125 1.964844 -4.71875 C 1.644531 -4.351563 1.488281 -3.777344 1.488281 -2.988281 C 1.488281 -2.183594 1.640625 -1.597656 1.949219 -1.238281 C 2.253906 -0.871094 2.652344 -0.691406 3.148438 -0.695313 C 3.542969 -0.691406 3.875 -0.8125 4.144531 -1.058594 C 4.40625 -1.300781 4.574219 -1.675781 4.648438 -2.183594 Z M 4.648438 -2.183594 \"/>\n",
       "</symbol>\n",
       "<symbol overflow=\"visible\" id=\"glyph1-6\">\n",
       "<path style=\"stroke:none;\" d=\"M 2.964844 -0.902344 L 3.109375 -0.0117188 C 2.824219 0.046875 2.570313 0.0742188 2.347656 0.078125 C 1.976563 0.0742188 1.691406 0.0195313 1.492188 -0.09375 C 1.289063 -0.210938 1.148438 -0.363281 1.066406 -0.550781 C 0.984375 -0.738281 0.941406 -1.136719 0.945313 -1.746094 L 0.945313 -5.175781 L 0.203125 -5.175781 L 0.203125 -5.964844 L 0.945313 -5.964844 L 0.945313 -7.441406 L 1.949219 -8.046875 L 1.949219 -5.964844 L 2.964844 -5.964844 L 2.964844 -5.175781 L 1.949219 -5.175781 L 1.949219 -1.691406 C 1.945313 -1.398438 1.960938 -1.210938 2 -1.132813 C 2.03125 -1.046875 2.089844 -0.984375 2.175781 -0.9375 C 2.253906 -0.886719 2.371094 -0.859375 2.519531 -0.863281 C 2.632813 -0.859375 2.78125 -0.875 2.964844 -0.902344 Z M 2.964844 -0.902344 \"/>\n",
       "</symbol>\n",
       "<symbol overflow=\"visible\" id=\"glyph2-0\">\n",
       "<path style=\"stroke:none;\" d=\"M 2.285156 -0.757813 L -5.964844 -0.757813 L -5.964844 -1.679688 L -5.1875 -1.679688 C -5.488281 -1.894531 -5.71875 -2.140625 -5.871094 -2.414063 C -6.019531 -2.6875 -6.09375 -3.019531 -6.097656 -3.410156 C -6.09375 -3.917969 -5.960938 -4.363281 -5.703125 -4.753906 C -5.4375 -5.140625 -5.070313 -5.4375 -4.59375 -5.636719 C -4.117188 -5.832031 -3.59375 -5.929688 -3.027344 -5.933594 C -2.414063 -5.929688 -1.863281 -5.820313 -1.375 -5.605469 C -0.886719 -5.382813 -0.511719 -5.066406 -0.253906 -4.652344 C 0.0078125 -4.234375 0.132813 -3.792969 0.136719 -3.335938 C 0.132813 -2.992188 0.0664063 -2.691406 -0.078125 -2.425781 C -0.21875 -2.160156 -0.398438 -1.941406 -0.617188 -1.769531 L 2.285156 -1.769531 Z M -2.949219 -1.671875 C -2.175781 -1.667969 -1.609375 -1.824219 -1.246094 -2.136719 C -0.875 -2.445313 -0.691406 -2.824219 -0.695313 -3.269531 C -0.691406 -3.714844 -0.882813 -4.097656 -1.265625 -4.421875 C -1.644531 -4.738281 -2.230469 -4.898438 -3.03125 -4.902344 C -3.789063 -4.898438 -4.359375 -4.742188 -4.738281 -4.433594 C -5.113281 -4.117188 -5.300781 -3.742188 -5.304688 -3.3125 C -5.300781 -2.878906 -5.101563 -2.5 -4.699219 -2.167969 C -4.296875 -1.835938 -3.710938 -1.667969 -2.949219 -1.671875 Z M -2.949219 -1.671875 \"/>\n",
       "</symbol>\n",
       "<symbol overflow=\"visible\" id=\"glyph2-1\">\n",
       "<path style=\"stroke:none;\" d=\"M -2.980469 -0.382813 C -4.082031 -0.378906 -4.902344 -0.6875 -5.4375 -1.304688 C -5.875 -1.8125 -6.09375 -2.4375 -6.097656 -3.179688 C -6.09375 -3.996094 -5.824219 -4.664063 -5.292969 -5.1875 C -4.753906 -5.703125 -4.011719 -5.964844 -3.066406 -5.96875 C -2.292969 -5.964844 -1.691406 -5.847656 -1.253906 -5.621094 C -0.8125 -5.386719 -0.46875 -5.054688 -0.226563 -4.617188 C 0.015625 -4.175781 0.132813 -3.695313 0.136719 -3.179688 C 0.132813 -2.339844 -0.132813 -1.664063 -0.667969 -1.152344 C -1.203125 -0.636719 -1.972656 -0.378906 -2.980469 -0.382813 Z M -2.980469 -1.421875 C -2.214844 -1.417969 -1.644531 -1.585938 -1.265625 -1.921875 C -0.882813 -2.253906 -0.691406 -2.671875 -0.695313 -3.179688 C -0.691406 -3.675781 -0.882813 -4.09375 -1.265625 -4.429688 C -1.648438 -4.761719 -2.230469 -4.925781 -3.015625 -4.929688 C -3.75 -4.925781 -4.308594 -4.757813 -4.691406 -4.425781 C -5.070313 -4.089844 -5.261719 -3.675781 -5.261719 -3.179688 C -5.261719 -2.671875 -5.070313 -2.253906 -4.695313 -1.921875 C -4.3125 -1.585938 -3.742188 -1.417969 -2.980469 -1.421875 Z M -2.980469 -1.421875 \"/>\n",
       "</symbol>\n",
       "<symbol overflow=\"visible\" id=\"glyph2-2\">\n",
       "<path style=\"stroke:none;\" d=\"M -7.070313 -0.765625 L -8.230469 -0.765625 L -8.230469 -1.773438 L -7.070313 -1.773438 Z M 0 -0.765625 L -5.964844 -0.765625 L -5.964844 -1.773438 L 0 -1.773438 Z M 0 -0.765625 \"/>\n",
       "</symbol>\n",
       "<symbol overflow=\"visible\" id=\"glyph2-3\">\n",
       "<path style=\"stroke:none;\" d=\"M 0 -0.757813 L -5.964844 -0.757813 L -5.964844 -1.667969 L -5.117188 -1.667969 C -5.765625 -2.101563 -6.09375 -2.734375 -6.097656 -3.566406 C -6.09375 -3.921875 -6.027344 -4.25 -5.902344 -4.554688 C -5.769531 -4.851563 -5.601563 -5.078125 -5.394531 -5.230469 C -5.183594 -5.378906 -4.933594 -5.484375 -4.648438 -5.546875 C -4.457031 -5.582031 -4.132813 -5.601563 -3.667969 -5.605469 L 0 -5.605469 L 0 -4.59375 L -3.628906 -4.59375 C -4.035156 -4.59375 -4.34375 -4.554688 -4.550781 -4.476563 C -4.75 -4.398438 -4.914063 -4.257813 -5.039063 -4.058594 C -5.160156 -3.855469 -5.21875 -3.621094 -5.222656 -3.351563 C -5.21875 -2.921875 -5.082031 -2.550781 -4.8125 -2.238281 C -4.535156 -1.925781 -4.019531 -1.769531 -3.257813 -1.769531 L 0 -1.769531 Z M 0 -0.757813 \"/>\n",
       "</symbol>\n",
       "<symbol overflow=\"visible\" id=\"glyph2-4\">\n",
       "<path style=\"stroke:none;\" d=\"M -0.902344 -2.964844 L -0.0117188 -3.109375 C 0.046875 -2.824219 0.0742188 -2.570313 0.078125 -2.347656 C 0.0742188 -1.976563 0.0195313 -1.691406 -0.09375 -1.492188 C -0.210938 -1.289063 -0.363281 -1.148438 -0.550781 -1.066406 C -0.738281 -0.984375 -1.136719 -0.941406 -1.746094 -0.945313 L -5.175781 -0.945313 L -5.175781 -0.203125 L -5.964844 -0.203125 L -5.964844 -0.945313 L -7.441406 -0.945313 L -8.046875 -1.949219 L -5.964844 -1.949219 L -5.964844 -2.964844 L -5.175781 -2.964844 L -5.175781 -1.949219 L -1.691406 -1.949219 C -1.398438 -1.945313 -1.210938 -1.960938 -1.132813 -2 C -1.046875 -2.03125 -0.984375 -2.089844 -0.9375 -2.175781 C -0.886719 -2.253906 -0.859375 -2.371094 -0.863281 -2.519531 C -0.859375 -2.632813 -0.875 -2.78125 -0.902344 -2.964844 Z M -0.902344 -2.964844 \"/>\n",
       "</symbol>\n",
       "</g>\n",
       "<clipPath id=\"clip1\">\n",
       "  <path d=\"M 38.148438 5.480469 L 283.523438 5.480469 L 283.523438 257.125 L 38.148438 257.125 Z M 38.148438 5.480469 \"/>\n",
       "</clipPath>\n",
       "</defs>\n",
       "<g id=\"surface119\">\n",
       "<rect x=\"0\" y=\"0\" width=\"288\" height=\"288\" style=\"fill:rgb(100%,100%,100%);fill-opacity:1;stroke:none;\"/>\n",
       "<rect x=\"0\" y=\"0\" width=\"288\" height=\"288\" style=\"fill:rgb(100%,100%,100%);fill-opacity:1;stroke:none;\"/>\n",
       "<path style=\"fill:none;stroke-width:1.422638;stroke-linecap:round;stroke-linejoin:round;stroke:rgb(100%,100%,100%);stroke-opacity:1;stroke-miterlimit:10;\" d=\"M 0 0 L 288 0 L 288 288 L 0 288 Z M 0 0 \"/>\n",
       "<g clip-path=\"url(#clip1)\" clip-rule=\"nonzero\">\n",
       "<path style=\" stroke:none;fill-rule:nonzero;fill:rgb(92.156863%,92.156863%,92.156863%);fill-opacity:1;\" d=\"M 38.148438 5.480469 L 282.523438 5.480469 L 282.523438 256.125 L 38.148438 256.125 Z M 38.148438 5.480469 \"/>\n",
       "<path style=\"fill:none;stroke-width:0.711319;stroke-linecap:butt;stroke-linejoin:round;stroke:rgb(100%,100%,100%);stroke-opacity:1;stroke-miterlimit:10;\" d=\"M 38.148438 237.609375 L 282.519531 237.609375 \"/>\n",
       "<path style=\"fill:none;stroke-width:0.711319;stroke-linecap:butt;stroke-linejoin:round;stroke:rgb(100%,100%,100%);stroke-opacity:1;stroke-miterlimit:10;\" d=\"M 38.148438 166.40625 L 282.519531 166.40625 \"/>\n",
       "<path style=\"fill:none;stroke-width:0.711319;stroke-linecap:butt;stroke-linejoin:round;stroke:rgb(100%,100%,100%);stroke-opacity:1;stroke-miterlimit:10;\" d=\"M 38.148438 95.199219 L 282.519531 95.199219 \"/>\n",
       "<path style=\"fill:none;stroke-width:0.711319;stroke-linecap:butt;stroke-linejoin:round;stroke:rgb(100%,100%,100%);stroke-opacity:1;stroke-miterlimit:10;\" d=\"M 38.148438 23.992188 L 282.519531 23.992188 \"/>\n",
       "<path style=\"fill:none;stroke-width:1.422638;stroke-linecap:butt;stroke-linejoin:round;stroke:rgb(100%,100%,100%);stroke-opacity:1;stroke-miterlimit:10;\" d=\"M 38.148438 202.007813 L 282.519531 202.007813 \"/>\n",
       "<path style=\"fill:none;stroke-width:1.422638;stroke-linecap:butt;stroke-linejoin:round;stroke:rgb(100%,100%,100%);stroke-opacity:1;stroke-miterlimit:10;\" d=\"M 38.148438 130.800781 L 282.519531 130.800781 \"/>\n",
       "<path style=\"fill:none;stroke-width:1.422638;stroke-linecap:butt;stroke-linejoin:round;stroke:rgb(100%,100%,100%);stroke-opacity:1;stroke-miterlimit:10;\" d=\"M 38.148438 59.597656 L 282.519531 59.597656 \"/>\n",
       "<path style=\"fill:none;stroke-width:1.422638;stroke-linecap:butt;stroke-linejoin:round;stroke:rgb(100%,100%,100%);stroke-opacity:1;stroke-miterlimit:10;\" d=\"M 83.964844 256.125 L 83.964844 5.480469 \"/>\n",
       "<path style=\"fill:none;stroke-width:1.422638;stroke-linecap:butt;stroke-linejoin:round;stroke:rgb(100%,100%,100%);stroke-opacity:1;stroke-miterlimit:10;\" d=\"M 160.332031 256.125 L 160.332031 5.480469 \"/>\n",
       "<path style=\"fill:none;stroke-width:1.422638;stroke-linecap:butt;stroke-linejoin:round;stroke:rgb(100%,100%,100%);stroke-opacity:1;stroke-miterlimit:10;\" d=\"M 236.699219 256.125 L 236.699219 5.480469 \"/>\n",
       "<path style=\"fill:none;stroke-width:1.422638;stroke-linecap:butt;stroke-linejoin:round;stroke:rgb(20%,20%,20%);stroke-opacity:1;stroke-miterlimit:10;\" d=\"M 83.964844 45.355469 L 83.964844 16.871094 \"/>\n",
       "<path style=\"fill:none;stroke-width:1.422638;stroke-linecap:butt;stroke-linejoin:round;stroke:rgb(20%,20%,20%);stroke-opacity:1;stroke-miterlimit:10;\" d=\"M 83.964844 102.320313 L 83.964844 130.800781 \"/>\n",
       "<path style=\"fill-rule:nonzero;fill:rgb(100%,100%,100%);fill-opacity:1;stroke-width:1.422638;stroke-linecap:round;stroke-linejoin:round;stroke:rgb(20%,20%,20%);stroke-opacity:1;stroke-miterlimit:10;\" d=\"M 55.328125 45.355469 L 55.328125 102.320313 L 112.605469 102.320313 L 112.605469 45.355469 Z M 55.328125 45.355469 \"/>\n",
       "<path style=\"fill:none;stroke-width:2.845276;stroke-linecap:butt;stroke-linejoin:round;stroke:rgb(20%,20%,20%);stroke-opacity:1;stroke-miterlimit:10;\" d=\"M 55.328125 73.835938 L 112.605469 73.835938 \"/>\n",
       "<path style=\"fill:none;stroke-width:1.422638;stroke-linecap:butt;stroke-linejoin:round;stroke:rgb(20%,20%,20%);stroke-opacity:1;stroke-miterlimit:10;\" d=\"M 160.332031 130.800781 L 160.332031 73.835938 \"/>\n",
       "<path style=\"fill:none;stroke-width:1.422638;stroke-linecap:butt;stroke-linejoin:round;stroke:rgb(20%,20%,20%);stroke-opacity:1;stroke-miterlimit:10;\" d=\"M 160.332031 187.765625 L 160.332031 244.730469 \"/>\n",
       "<path style=\"fill-rule:nonzero;fill:rgb(100%,100%,100%);fill-opacity:1;stroke-width:1.422638;stroke-linecap:round;stroke-linejoin:round;stroke:rgb(20%,20%,20%);stroke-opacity:1;stroke-miterlimit:10;\" d=\"M 131.695313 130.800781 L 131.695313 187.765625 L 188.972656 187.765625 L 188.972656 130.800781 Z M 131.695313 130.800781 \"/>\n",
       "<path style=\"fill:none;stroke-width:2.845276;stroke-linecap:butt;stroke-linejoin:round;stroke:rgb(20%,20%,20%);stroke-opacity:1;stroke-miterlimit:10;\" d=\"M 131.695313 159.285156 L 188.972656 159.285156 \"/>\n",
       "<path style=\"fill:none;stroke-width:1.422638;stroke-linecap:butt;stroke-linejoin:round;stroke:rgb(20%,20%,20%);stroke-opacity:1;stroke-miterlimit:10;\" d=\"M 236.699219 73.835938 L 236.699219 45.355469 \"/>\n",
       "<path style=\"fill:none;stroke-width:1.422638;stroke-linecap:butt;stroke-linejoin:round;stroke:rgb(20%,20%,20%);stroke-opacity:1;stroke-miterlimit:10;\" d=\"M 236.699219 130.800781 L 236.699219 216.25 \"/>\n",
       "<path style=\"fill-rule:nonzero;fill:rgb(100%,100%,100%);fill-opacity:1;stroke-width:1.422638;stroke-linecap:round;stroke-linejoin:round;stroke:rgb(20%,20%,20%);stroke-opacity:1;stroke-miterlimit:10;\" d=\"M 208.0625 73.835938 L 208.0625 130.800781 L 265.339844 130.800781 L 265.339844 73.835938 Z M 208.0625 73.835938 \"/>\n",
       "<path style=\"fill:none;stroke-width:2.845276;stroke-linecap:butt;stroke-linejoin:round;stroke:rgb(20%,20%,20%);stroke-opacity:1;stroke-miterlimit:10;\" d=\"M 208.0625 102.320313 L 265.339844 102.320313 \"/>\n",
       "</g>\n",
       "<g style=\"fill:rgb(30.196078%,30.196078%,30.196078%);fill-opacity:1;\">\n",
       "  <use xlink:href=\"#glyph0-0\" x=\"20.285156\" y=\"205.335938\"/>\n",
       "  <use xlink:href=\"#glyph0-1\" x=\"25.457373\" y=\"205.335938\"/>\n",
       "  <use xlink:href=\"#glyph0-2\" x=\"28.041211\" y=\"205.335938\"/>\n",
       "</g>\n",
       "<g style=\"fill:rgb(30.196078%,30.196078%,30.196078%);fill-opacity:1;\">\n",
       "  <use xlink:href=\"#glyph0-2\" x=\"20.285156\" y=\"134.128906\"/>\n",
       "  <use xlink:href=\"#glyph0-1\" x=\"25.457373\" y=\"134.128906\"/>\n",
       "  <use xlink:href=\"#glyph0-3\" x=\"28.041211\" y=\"134.128906\"/>\n",
       "</g>\n",
       "<g style=\"fill:rgb(30.196078%,30.196078%,30.196078%);fill-opacity:1;\">\n",
       "  <use xlink:href=\"#glyph0-4\" x=\"20.285156\" y=\"62.925781\"/>\n",
       "  <use xlink:href=\"#glyph0-1\" x=\"25.457373\" y=\"62.925781\"/>\n",
       "  <use xlink:href=\"#glyph0-2\" x=\"28.041211\" y=\"62.925781\"/>\n",
       "</g>\n",
       "<path style=\"fill:none;stroke-width:1.422638;stroke-linecap:butt;stroke-linejoin:round;stroke:rgb(20%,20%,20%);stroke-opacity:1;stroke-miterlimit:10;\" d=\"M 35.40625 202.007813 L 38.148438 202.007813 \"/>\n",
       "<path style=\"fill:none;stroke-width:1.422638;stroke-linecap:butt;stroke-linejoin:round;stroke:rgb(20%,20%,20%);stroke-opacity:1;stroke-miterlimit:10;\" d=\"M 35.40625 130.800781 L 38.148438 130.800781 \"/>\n",
       "<path style=\"fill:none;stroke-width:1.422638;stroke-linecap:butt;stroke-linejoin:round;stroke:rgb(20%,20%,20%);stroke-opacity:1;stroke-miterlimit:10;\" d=\"M 35.40625 59.597656 L 38.148438 59.597656 \"/>\n",
       "<path style=\"fill:none;stroke-width:1.422638;stroke-linecap:butt;stroke-linejoin:round;stroke:rgb(20%,20%,20%);stroke-opacity:1;stroke-miterlimit:10;\" d=\"M 83.964844 258.863281 L 83.964844 256.125 \"/>\n",
       "<path style=\"fill:none;stroke-width:1.422638;stroke-linecap:butt;stroke-linejoin:round;stroke:rgb(20%,20%,20%);stroke-opacity:1;stroke-miterlimit:10;\" d=\"M 160.332031 258.863281 L 160.332031 256.125 \"/>\n",
       "<path style=\"fill:none;stroke-width:1.422638;stroke-linecap:butt;stroke-linejoin:round;stroke:rgb(20%,20%,20%);stroke-opacity:1;stroke-miterlimit:10;\" d=\"M 236.699219 258.863281 L 236.699219 256.125 \"/>\n",
       "<g style=\"fill:rgb(30.196078%,30.196078%,30.196078%);fill-opacity:1;\">\n",
       "  <use xlink:href=\"#glyph0-5\" x=\"68.453125\" y=\"267.714844\"/>\n",
       "  <use xlink:href=\"#glyph0-6\" x=\"73.625342\" y=\"267.714844\"/>\n",
       "  <use xlink:href=\"#glyph0-7\" x=\"75.691504\" y=\"267.714844\"/>\n",
       "  <use xlink:href=\"#glyph0-8\" x=\"80.863721\" y=\"267.714844\"/>\n",
       "  <use xlink:href=\"#glyph0-9\" x=\"86.035938\" y=\"267.714844\"/>\n",
       "  <use xlink:href=\"#glyph0-10\" x=\"91.208154\" y=\"267.714844\"/>\n",
       "  <use xlink:href=\"#glyph0-5\" x=\"94.305127\" y=\"267.714844\"/>\n",
       "</g>\n",
       "<g style=\"fill:rgb(30.196078%,30.196078%,30.196078%);fill-opacity:1;\">\n",
       "  <use xlink:href=\"#glyph0-11\" x=\"143.53125\" y=\"267.714844\"/>\n",
       "  <use xlink:href=\"#glyph0-5\" x=\"148.18125\" y=\"267.714844\"/>\n",
       "  <use xlink:href=\"#glyph0-6\" x=\"153.353467\" y=\"267.714844\"/>\n",
       "  <use xlink:href=\"#glyph0-11\" x=\"155.419629\" y=\"267.714844\"/>\n",
       "  <use xlink:href=\"#glyph0-12\" x=\"160.069629\" y=\"267.714844\"/>\n",
       "  <use xlink:href=\"#glyph0-6\" x=\"165.241846\" y=\"267.714844\"/>\n",
       "  <use xlink:href=\"#glyph0-12\" x=\"167.308008\" y=\"267.714844\"/>\n",
       "  <use xlink:href=\"#glyph0-13\" x=\"172.480225\" y=\"267.714844\"/>\n",
       "</g>\n",
       "<g style=\"fill:rgb(30.196078%,30.196078%,30.196078%);fill-opacity:1;\">\n",
       "  <use xlink:href=\"#glyph0-14\" x=\"215.503906\" y=\"267.714844\"/>\n",
       "  <use xlink:href=\"#glyph0-10\" x=\"220.676123\" y=\"267.714844\"/>\n",
       "  <use xlink:href=\"#glyph0-15\" x=\"223.773096\" y=\"267.714844\"/>\n",
       "  <use xlink:href=\"#glyph0-9\" x=\"228.945313\" y=\"267.714844\"/>\n",
       "  <use xlink:href=\"#glyph0-5\" x=\"234.117529\" y=\"267.714844\"/>\n",
       "  <use xlink:href=\"#glyph0-9\" x=\"239.289746\" y=\"267.714844\"/>\n",
       "  <use xlink:href=\"#glyph0-16\" x=\"244.461963\" y=\"267.714844\"/>\n",
       "  <use xlink:href=\"#glyph0-6\" x=\"246.528125\" y=\"267.714844\"/>\n",
       "  <use xlink:href=\"#glyph0-16\" x=\"248.594287\" y=\"267.714844\"/>\n",
       "  <use xlink:href=\"#glyph0-17\" x=\"250.660449\" y=\"267.714844\"/>\n",
       "  <use xlink:href=\"#glyph0-18\" x=\"253.244287\" y=\"267.714844\"/>\n",
       "</g>\n",
       "<g style=\"fill:rgb(0%,0%,0%);fill-opacity:1;\">\n",
       "  <use xlink:href=\"#glyph1-0\" x=\"142.113281\" y=\"280.328125\"/>\n",
       "  <use xlink:href=\"#glyph1-1\" x=\"147.863281\" y=\"280.328125\"/>\n",
       "  <use xlink:href=\"#glyph1-2\" x=\"154.259033\" y=\"280.328125\"/>\n",
       "  <use xlink:href=\"#glyph1-3\" x=\"160.654785\" y=\"280.328125\"/>\n",
       "  <use xlink:href=\"#glyph1-4\" x=\"163.209717\" y=\"280.328125\"/>\n",
       "  <use xlink:href=\"#glyph1-5\" x=\"169.605469\" y=\"280.328125\"/>\n",
       "  <use xlink:href=\"#glyph1-6\" x=\"175.355469\" y=\"280.328125\"/>\n",
       "</g>\n",
       "<g style=\"fill:rgb(0%,0%,0%);fill-opacity:1;\">\n",
       "  <use xlink:href=\"#glyph2-0\" x=\"15.902344\" y=\"143.269531\"/>\n",
       "  <use xlink:href=\"#glyph2-1\" x=\"15.902344\" y=\"136.873779\"/>\n",
       "  <use xlink:href=\"#glyph2-2\" x=\"15.902344\" y=\"130.478027\"/>\n",
       "  <use xlink:href=\"#glyph2-3\" x=\"15.902344\" y=\"127.923096\"/>\n",
       "  <use xlink:href=\"#glyph2-4\" x=\"15.902344\" y=\"121.527344\"/>\n",
       "</g>\n",
       "</g>\n",
       "</svg>\n"
      ],
      "text/plain": [
       "plot without title"
      ]
     },
     "metadata": {
      "image/svg+xml": {
       "isolated": true
      }
     },
     "output_type": "display_data"
    }
   ],
   "source": [
    "d2 %>>% gather(subject, point, -student) %>>%\n",
    "    ggplot(aes(x = subject, y = point)) + \n",
    "    geom_boxplot()"
   ]
  },
  {
   "cell_type": "markdown",
   "metadata": {},
   "source": [
    "### 7.2.4 平方和の分解と自由度の計算\n",
    "\n",
    "* 対応なし: 全体平方和 $=$ 群間平方和 $+$ 群内平方和 \n",
    "* 対応あり: 全体平方和 $=$ 条件平方和 $+$ 個人差平方和 $+$ 残差平方和"
   ]
  },
  {
   "cell_type": "markdown",
   "metadata": {},
   "source": [
    "全体平方和"
   ]
  },
  {
   "cell_type": "code",
   "execution_count": 47,
   "metadata": {
    "collapsed": false
   },
   "outputs": [],
   "source": [
    "d2.long <- d2 %>>% gather(subject, point, -student)"
   ]
  },
  {
   "cell_type": "code",
   "execution_count": 48,
   "metadata": {
    "collapsed": false
   },
   "outputs": [
    {
     "data": {
      "text/html": [
       "5.53333333333333"
      ],
      "text/latex": [
       "5.53333333333333"
      ],
      "text/markdown": [
       "5.53333333333333"
      ],
      "text/plain": [
       "[1] 5.533333"
      ]
     },
     "metadata": {},
     "output_type": "display_data"
    }
   ],
   "source": [
    "all_mean <- mean(d2.long$point)\n",
    "all_mean"
   ]
  },
  {
   "cell_type": "code",
   "execution_count": 49,
   "metadata": {
    "collapsed": false
   },
   "outputs": [
    {
     "data": {
      "text/html": [
       "73.7333333333333"
      ],
      "text/latex": [
       "73.7333333333333"
      ],
      "text/markdown": [
       "73.7333333333333"
      ],
      "text/plain": [
       "[1] 73.73333"
      ]
     },
     "metadata": {},
     "output_type": "display_data"
    }
   ],
   "source": [
    "all_sq_sum <- d2.long %>>% \n",
    "    mutate(dev_sq_sum = (point - all_mean)^2) %>>%\n",
    "    summarise(res = sum(dev_sq_sum)) %>>%\n",
    "    (.[[\"res\"]])\n",
    "all_sq_sum"
   ]
  },
  {
   "cell_type": "markdown",
   "metadata": {},
   "source": [
    "条件平方和"
   ]
  },
  {
   "cell_type": "code",
   "execution_count": 50,
   "metadata": {
    "collapsed": false
   },
   "outputs": [
    {
     "data": {
      "text/html": [
       "22.5333333333333"
      ],
      "text/latex": [
       "22.5333333333333"
      ],
      "text/markdown": [
       "22.5333333333333"
      ],
      "text/plain": [
       "[1] 22.53333"
      ]
     },
     "metadata": {},
     "output_type": "display_data"
    }
   ],
   "source": [
    "subject_sq_sum <- d2.long %>>% \n",
    "    group_by(subject) %>>%\n",
    "    summarise_each(funs(mean, n()), point) %>>%\n",
    "    mutate(dev_sq_sum = (mean - all_mean)^2 * n) %>>%\n",
    "    summarise(res = sum(dev_sq_sum)) %>>%\n",
    "    (.[[\"res\"]])\n",
    "subject_sq_sum"
   ]
  },
  {
   "cell_type": "markdown",
   "metadata": {},
   "source": [
    "個人差平方和"
   ]
  },
  {
   "cell_type": "code",
   "execution_count": 51,
   "metadata": {
    "collapsed": false
   },
   "outputs": [
    {
     "data": {
      "text/html": [
       "533"
      ],
      "text/latex": [
       "533"
      ],
      "text/markdown": [
       "533"
      ],
      "text/plain": [
       "[1] 533"
      ]
     },
     "metadata": {},
     "output_type": "display_data"
    }
   ],
   "source": [
    "student_sq_sum <- d2.long %>>% \n",
    "    group_by(student) %>>%\n",
    "    mutate_each(funs(my_fun = mean(point) - all_mean), point) %>>%\n",
    "    ungroup %>>%\n",
    "    mutate(point = point^2) %>>%\n",
    "    summarise(res = sum(point)) %>>%\n",
    "    (.[[\"res\"]])\n",
    "student_sq_sum"
   ]
  },
  {
   "cell_type": "markdown",
   "metadata": {},
   "source": [
    "残差平方和"
   ]
  },
  {
   "cell_type": "code",
   "execution_count": 52,
   "metadata": {
    "collapsed": false
   },
   "outputs": [
    {
     "data": {
      "text/html": [
       "6.13333333333333"
      ],
      "text/latex": [
       "6.13333333333333"
      ],
      "text/markdown": [
       "6.13333333333333"
      ],
      "text/plain": [
       "[1] 6.133333"
      ]
     },
     "metadata": {},
     "output_type": "display_data"
    }
   ],
   "source": [
    "residuals_sq_sum <- d2.long %>>% \n",
    "    group_by(student) %>>%\n",
    "    mutate(mean.student = mean(point) - all_mean) %>>%\n",
    "    group_by(subject) %>>%\n",
    "    mutate(mean.subject = mean(point) - all_mean) %>>%\n",
    "    ungroup %>>%\n",
    "    mutate(point = point - all_mean - mean.student - mean.subject) %>>%\n",
    "    mutate(point = point^2) %>>%\n",
    "    summarise(res = sum(point)) %>>%\n",
    "    (.[[\"res\"]])\n",
    "residuals_sq_sum"
   ]
  },
  {
   "cell_type": "markdown",
   "metadata": {},
   "source": [
    "分解の確認"
   ]
  },
  {
   "cell_type": "code",
   "execution_count": 53,
   "metadata": {
    "collapsed": false
   },
   "outputs": [
    {
     "data": {
      "text/html": [
       "73.7333333333333"
      ],
      "text/latex": [
       "73.7333333333333"
      ],
      "text/markdown": [
       "73.7333333333333"
      ],
      "text/plain": [
       "[1] 73.73333"
      ]
     },
     "metadata": {},
     "output_type": "display_data"
    },
    {
     "data": {
      "text/html": [
       "561.666666666667"
      ],
      "text/latex": [
       "561.666666666667"
      ],
      "text/markdown": [
       "561.666666666667"
      ],
      "text/plain": [
       "[1] 561.6667"
      ]
     },
     "metadata": {},
     "output_type": "display_data"
    },
    {
     "data": {
      "text/html": [
       "FALSE"
      ],
      "text/latex": [
       "FALSE"
      ],
      "text/markdown": [
       "FALSE"
      ],
      "text/plain": [
       "[1] FALSE"
      ]
     },
     "metadata": {},
     "output_type": "display_data"
    },
    {
     "data": {
      "text/html": [
       "FALSE"
      ],
      "text/latex": [
       "FALSE"
      ],
      "text/markdown": [
       "FALSE"
      ],
      "text/plain": [
       "[1] FALSE"
      ]
     },
     "metadata": {},
     "output_type": "display_data"
    },
    {
     "data": {
      "text/html": [
       "\"Mean relative difference: 6.617541\""
      ],
      "text/latex": [
       "\"Mean relative difference: 6.617541\""
      ],
      "text/markdown": [
       "\"Mean relative difference: 6.617541\""
      ],
      "text/plain": [
       "[1] \"Mean relative difference: 6.617541\""
      ]
     },
     "metadata": {},
     "output_type": "display_data"
    }
   ],
   "source": [
    "all_sq_sum\n",
    "subject_sq_sum + student_sq_sum + residuals_sq_sum\n",
    "all_sq_sum == (subject_sq_sum + student_sq_sum + residuals_sq_sum)\n",
    "identical(all_sq_sum, (subject_sq_sum + student_sq_sum + residuals_sq_sum))\n",
    "all.equal(all_sq_sum, (subject_sq_sum + student_sq_sum + residuals_sq_sum))"
   ]
  },
  {
   "cell_type": "markdown",
   "metadata": {},
   "source": [
    "残差の自由度 $=$ 条件自由度 $\\times$ 個人差の自由度\n",
    "\n",
    "$F$値は，"
   ]
  },
  {
   "cell_type": "code",
   "execution_count": 54,
   "metadata": {
    "collapsed": false
   },
   "outputs": [
    {
     "data": {
      "text/html": [
       "14.695652173913"
      ],
      "text/latex": [
       "14.695652173913"
      ],
      "text/markdown": [
       "14.695652173913"
      ],
      "text/plain": [
       "[1] 14.69565"
      ]
     },
     "metadata": {},
     "output_type": "display_data"
    }
   ],
   "source": [
    "(subject_sq_sum / (3 - 1)) / (residuals_sq_sum / ((3 - 1) * (5 - 1)))"
   ]
  },
  {
   "cell_type": "markdown",
   "metadata": {},
   "source": [
    "## 7.3 二元配置分散分析（対応なし）"
   ]
  },
  {
   "cell_type": "code",
   "execution_count": 55,
   "metadata": {
    "collapsed": false
   },
   "outputs": [
    {
     "data": {
      "text/html": [
       "<table>\n",
       "<thead><tr><th></th><th scope=col>イカアン.A</th><th scope=col>ボスビッグ.A</th><th scope=col>ビビッテル.A</th><th scope=col>イカアン.B</th><th scope=col>ボスビッグ.B</th><th scope=col>ビビッテル.B</th></tr></thead>\n",
       "<tbody>\n",
       "\t<tr><th scope=row>1</th><td> 6</td><td>10</td><td>11</td><td> 5</td><td> 7</td><td>12</td></tr>\n",
       "\t<tr><th scope=row>2</th><td> 4</td><td> 8</td><td>12</td><td> 4</td><td> 6</td><td> 8</td></tr>\n",
       "\t<tr><th scope=row>3</th><td> 5</td><td>10</td><td>12</td><td> 2</td><td> 5</td><td> 5</td></tr>\n",
       "\t<tr><th scope=row>4</th><td> 3</td><td> 8</td><td>10</td><td> 2</td><td> 4</td><td> 6</td></tr>\n",
       "\t<tr><th scope=row>5</th><td> 2</td><td> 9</td><td>10</td><td> 2</td><td> 3</td><td> 4</td></tr>\n",
       "</tbody>\n",
       "</table>\n"
      ],
      "text/latex": [
       "\\begin{tabular}{r|llllll}\n",
       "  & イカアン.A & ボスビッグ.A & ビビッテル.A & イカアン.B & ボスビッグ.B & ビビッテル.B\\\\\n",
       "\\hline\n",
       "\t1 &  6 & 10 & 11 &  5 &  7 & 12\\\\\n",
       "\t2 &  4 &  8 & 12 &  4 &  6 &  8\\\\\n",
       "\t3 &  5 & 10 & 12 &  2 &  5 &  5\\\\\n",
       "\t4 &  3 &  8 & 10 &  2 &  4 &  6\\\\\n",
       "\t5 &  2 &  9 & 10 &  2 &  3 &  4\\\\\n",
       "\\end{tabular}\n"
      ],
      "text/plain": [
       "  イカアン.A ボスビッグ.A ビビッテル.A イカアン.B ボスビッグ.B ビビッテル.B\n",
       "1          6           10           11          5            7           12\n",
       "2          4            8           12          4            6            8\n",
       "3          5           10           12          2            5            5\n",
       "4          3            8           10          2            4            6\n",
       "5          2            9           10          2            3            4"
      ]
     },
     "metadata": {},
     "output_type": "display_data"
    }
   ],
   "source": [
    "d3 <- read_csv(\"chap07_3.csv\", locale = locale(encoding=\"CP932\"))\n",
    "d3"
   ]
  },
  {
   "cell_type": "code",
   "execution_count": 56,
   "metadata": {
    "collapsed": false,
    "scrolled": true
   },
   "outputs": [
    {
     "data": {
      "text/html": [
       "<table>\n",
       "<thead><tr><th></th><th scope=col>water</th><th scope=col>condition</th><th scope=col>taste</th></tr></thead>\n",
       "<tbody>\n",
       "\t<tr><th scope=row>1</th><td>イカアン</td><td>A       </td><td>6       </td></tr>\n",
       "\t<tr><th scope=row>2</th><td>イカアン</td><td>A       </td><td>4       </td></tr>\n",
       "\t<tr><th scope=row>3</th><td>イカアン</td><td>A       </td><td>5       </td></tr>\n",
       "\t<tr><th scope=row>4</th><td>イカアン</td><td>A       </td><td>3       </td></tr>\n",
       "\t<tr><th scope=row>5</th><td>イカアン</td><td>A       </td><td>2       </td></tr>\n",
       "\t<tr><th scope=row>6</th><td>ボスビッグ</td><td>A         </td><td>10        </td></tr>\n",
       "</tbody>\n",
       "</table>\n"
      ],
      "text/latex": [
       "\\begin{tabular}{r|lll}\n",
       "  & water & condition & taste\\\\\n",
       "\\hline\n",
       "\t1 & イカアン & A        & 6       \\\\\n",
       "\t2 & イカアン & A        & 4       \\\\\n",
       "\t3 & イカアン & A        & 5       \\\\\n",
       "\t4 & イカアン & A        & 3       \\\\\n",
       "\t5 & イカアン & A        & 2       \\\\\n",
       "\t6 & ボスビッグ & A          & 10        \\\\\n",
       "\\end{tabular}\n"
      ],
      "text/plain": [
       "       water condition taste\n",
       "1   イカアン         A     6\n",
       "2   イカアン         A     4\n",
       "3   イカアン         A     5\n",
       "4   イカアン         A     3\n",
       "5   イカアン         A     2\n",
       "6 ボスビッグ         A    10"
      ]
     },
     "metadata": {},
     "output_type": "display_data"
    }
   ],
   "source": [
    "d3.long <- d3 %>>% \n",
    "    gather(key, taste) %>>% \n",
    "    separate(key, into = c(\"water\", \"condition\"), sep = \"\\\\.\")\n",
    "head(d3.long)"
   ]
  },
  {
   "cell_type": "markdown",
   "metadata": {},
   "source": [
    "### 7.3.2"
   ]
  },
  {
   "cell_type": "markdown",
   "metadata": {},
   "source": [
    "* 帰無仮説と対立仮設\n",
    "\n",
    "要因A，要因B，AとBの交互作用効果のそれぞれに関して設定する"
   ]
  },
  {
   "cell_type": "code",
   "execution_count": 57,
   "metadata": {
    "collapsed": false,
    "scrolled": true
   },
   "outputs": [
    {
     "data": {
      "text/plain": [
       "                Df Sum Sq Mean Sq F value   Pr(>F)    \n",
       "condition        1   67.5   67.50  21.316  0.00011 ***\n",
       "water            2  155.0   77.50  24.474 1.61e-06 ***\n",
       "condition:water  2   15.0    7.50   2.368  0.11515    \n",
       "Residuals       24   76.0    3.17                     \n",
       "---\n",
       "Signif. codes:  0 '***' 0.001 '**' 0.01 '*' 0.05 '.' 0.1 ' ' 1"
      ]
     },
     "metadata": {},
     "output_type": "display_data"
    }
   ],
   "source": [
    "aov(taste ~ condition * water, data = d3.long) %>>% summary"
   ]
  },
  {
   "cell_type": "code",
   "execution_count": 58,
   "metadata": {
    "collapsed": false,
    "scrolled": true
   },
   "outputs": [
    {
     "data": {
      "text/plain": [
       "                Df Sum Sq Mean Sq F value   Pr(>F)    \n",
       "condition        1   67.5   67.50  21.316  0.00011 ***\n",
       "water            2  155.0   77.50  24.474 1.61e-06 ***\n",
       "condition:water  2   15.0    7.50   2.368  0.11515    \n",
       "Residuals       24   76.0    3.17                     \n",
       "---\n",
       "Signif. codes:  0 '***' 0.001 '**' 0.01 '*' 0.05 '.' 0.1 ' ' 1"
      ]
     },
     "metadata": {},
     "output_type": "display_data"
    }
   ],
   "source": [
    "aov(taste ~ condition + water + water:condition, data = d3.long) %>>% summary"
   ]
  },
  {
   "cell_type": "markdown",
   "metadata": {},
   "source": [
    "平方和の分解の確認"
   ]
  },
  {
   "cell_type": "code",
   "execution_count": 59,
   "metadata": {
    "collapsed": false
   },
   "outputs": [
    {
     "name": "stdout",
     "output_type": "stream",
     "text": [
      "List of 1\n",
      " $ :Classes 'anova' and 'data.frame':\t4 obs. of  5 variables:\n",
      "  ..$ Df     : num [1:4] 1 2 2 24\n",
      "  ..$ Sum Sq : num [1:4] 67.5 155 15 76\n",
      "  ..$ Mean Sq: num [1:4] 67.5 77.5 7.5 3.17\n",
      "  ..$ F value: num [1:4] 21.32 24.47 2.37 NA\n",
      "  ..$ Pr(>F) : num [1:4] 1.10e-04 1.61e-06 1.15e-01 NA\n",
      " - attr(*, \"class\")= chr [1:2] \"summary.aov\" \"listof\"\n"
     ]
    }
   ],
   "source": [
    "d3.res <- aov(taste ~ condition * water, data = d3.long) %>>% summary\n",
    "str(d3.res)"
   ]
  },
  {
   "cell_type": "code",
   "execution_count": 60,
   "metadata": {
    "collapsed": false
   },
   "outputs": [
    {
     "data": {
      "text/html": [
       "313.5"
      ],
      "text/latex": [
       "313.5"
      ],
      "text/markdown": [
       "313.5"
      ],
      "text/plain": [
       "[1] 313.5"
      ]
     },
     "metadata": {},
     "output_type": "display_data"
    }
   ],
   "source": [
    "all_sq_sum <- d3.long %>>% \n",
    "    mutate(dev_sq_sum = (taste - mean(taste))^2) %>>%\n",
    "    summarise(res = sum(dev_sq_sum)) %>>%\n",
    "    (.[[\"res\"]])\n",
    "all_sq_sum"
   ]
  },
  {
   "cell_type": "code",
   "execution_count": 61,
   "metadata": {
    "collapsed": false,
    "scrolled": true
   },
   "outputs": [
    {
     "data": {
      "text/html": [
       "313.5"
      ],
      "text/latex": [
       "313.5"
      ],
      "text/markdown": [
       "313.5"
      ],
      "text/plain": [
       "[1] 313.5"
      ]
     },
     "metadata": {},
     "output_type": "display_data"
    }
   ],
   "source": [
    "sum(d3.res[[1]]$`Sum Sq`)"
   ]
  },
  {
   "cell_type": "code",
   "execution_count": 62,
   "metadata": {
    "collapsed": false
   },
   "outputs": [
    {
     "data": {
      "text/html": [
       "TRUE"
      ],
      "text/latex": [
       "TRUE"
      ],
      "text/markdown": [
       "TRUE"
      ],
      "text/plain": [
       "[1] TRUE"
      ]
     },
     "metadata": {},
     "output_type": "display_data"
    }
   ],
   "source": [
    "all.equal(all_sq_sum, sum(d3.res[[1]]$`Sum Sq`))"
   ]
  },
  {
   "cell_type": "code",
   "execution_count": 63,
   "metadata": {
    "collapsed": true
   },
   "outputs": [],
   "source": [
    "library(Cairo)"
   ]
  },
  {
   "cell_type": "code",
   "execution_count": 64,
   "metadata": {
    "collapsed": false
   },
   "outputs": [
    {
     "name": "stderr",
     "output_type": "stream",
     "text": [
      "Warning message:\n",
      "In CairoFonts(regular = \"IPAexGothic\"): CairoFonts() has no effect on Windows. Please use par(family=\"...\") to specify the desired font - see ?par."
     ]
    }
   ],
   "source": [
    "CairoFonts(regular = \"IPAexGothic\")"
   ]
  },
  {
   "cell_type": "code",
   "execution_count": 65,
   "metadata": {
    "collapsed": true
   },
   "outputs": [],
   "source": [
    "options(repr.plot.width = 8, repr.plot.height = 4)"
   ]
  },
  {
   "cell_type": "code",
   "execution_count": 66,
   "metadata": {
    "collapsed": false
   },
   "outputs": [
    {
     "data": {
      "text/html": [
       "<strong>png:</strong> 2"
      ],
      "text/latex": [
       "\\textbf{png:} 2"
      ],
      "text/markdown": [
       "**png:** 2"
      ],
      "text/plain": [
       "png \n",
       "  2 "
      ]
     },
     "metadata": {},
     "output_type": "display_data"
    },
    {
     "data": {
      "image/png": "[encoded data removed]",
      "image/svg+xml": [
       "<?xml version=\"1.0\" encoding=\"UTF-8\"?>\n",
       "<svg xmlns=\"http://www.w3.org/2000/svg\" xmlns:xlink=\"http://www.w3.org/1999/xlink\" width=\"576pt\" height=\"288pt\" viewBox=\"0 0 576 288\" version=\"1.1\">\n",
       "<defs>\n",
       "<g>\n",
       "<symbol overflow=\"visible\" id=\"glyph0-0\">\n",
       "<path style=\"stroke:none;\" d=\"M -1.828125 -6.015625 L -1.828125 -4.828125 L -0.0976563 -4.828125 L -0.0976563 -4.019531 L -1.828125 -4.019531 L -1.828125 -0.3125 L -2.636719 -0.3125 L -7.382813 -3.875 L -7.382813 -4.828125 L -2.578125 -4.828125 L -2.578125 -6.015625 Z M -6.484375 -4.070313 L -6.484375 -4.039063 C -6.003906 -3.738281 -5.570313 -3.445313 -5.183594 -3.160156 L -2.578125 -1.199219 L -2.578125 -4.019531 L -4.960938 -4.019531 C -5.3125 -4.019531 -5.820313 -4.035156 -6.484375 -4.070313 Z M -6.484375 -4.070313 \"/>\n",
       "</symbol>\n",
       "<symbol overflow=\"visible\" id=\"glyph0-1\">\n",
       "<path style=\"stroke:none;\" d=\"M -3.675781 -1.667969 C -4.355469 -2.140625 -4.699219 -2.761719 -4.703125 -3.527344 C -4.699219 -4.230469 -4.453125 -4.796875 -3.964844 -5.234375 C -3.535156 -5.609375 -3.015625 -5.800781 -2.402344 -5.800781 C -1.730469 -5.800781 -1.15625 -5.585938 -0.683594 -5.164063 C -0.195313 -4.71875 0.046875 -4.144531 0.0507813 -3.4375 C 0.046875 -2.589844 -0.273438 -1.929688 -0.917969 -1.453125 C -1.542969 -0.988281 -2.410156 -0.753906 -3.515625 -0.757813 C -4.773438 -0.753906 -5.761719 -1.035156 -6.484375 -1.597656 C -7.128906 -2.101563 -7.453125 -2.765625 -7.457031 -3.585938 C -7.453125 -4.550781 -7.085938 -5.253906 -6.351563 -5.695313 L -5.957031 -4.972656 C -6.46875 -4.699219 -6.726563 -4.25 -6.730469 -3.628906 C -6.726563 -2.382813 -5.707031 -1.71875 -3.675781 -1.628906 Z M -4.019531 -3.378906 C -4.019531 -2.894531 -3.839844 -2.496094 -3.480469 -2.183594 C -3.160156 -1.898438 -2.808594 -1.757813 -2.429688 -1.761719 C -2.023438 -1.757813 -1.65625 -1.882813 -1.332031 -2.136719 C -0.890625 -2.46875 -0.671875 -2.890625 -0.675781 -3.40625 C -0.671875 -3.9375 -0.890625 -4.351563 -1.332031 -4.640625 C -1.628906 -4.835938 -1.976563 -4.933594 -2.371094 -4.933594 C -2.832031 -4.933594 -3.214844 -4.804688 -3.515625 -4.546875 C -3.851563 -4.25 -4.019531 -3.859375 -4.019531 -3.378906 Z M -4.019531 -3.378906 \"/>\n",
       "</symbol>\n",
       "<symbol overflow=\"visible\" id=\"glyph0-2\">\n",
       "<path style=\"stroke:none;\" d=\"M -3.828125 -4.007813 C -3.410156 -5.226563 -2.765625 -5.835938 -1.890625 -5.839844 C -1.195313 -5.835938 -0.667969 -5.519531 -0.3125 -4.890625 C -0.0429688 -4.429688 0.0859375 -3.859375 0.0898438 -3.179688 C 0.0859375 -2.496094 -0.0429688 -1.925781 -0.3125 -1.464844 C -0.660156 -0.851563 -1.175781 -0.542969 -1.859375 -0.546875 C -2.707031 -0.542969 -3.339844 -1.101563 -3.757813 -2.222656 L -3.789063 -2.222656 C -4.136719 -1.242188 -4.71875 -0.753906 -5.539063 -0.757813 C -6.15625 -0.753906 -6.65625 -1.019531 -7.03125 -1.546875 C -7.347656 -1.992188 -7.503906 -2.539063 -7.507813 -3.1875 C -7.503906 -3.90625 -7.320313 -4.488281 -6.949219 -4.941406 C -6.597656 -5.378906 -6.15625 -5.601563 -5.628906 -5.605469 C -4.71875 -5.601563 -4.128906 -5.070313 -3.855469 -4.007813 Z M -4.144531 -3.191406 C -4.382813 -4.214844 -4.859375 -4.726563 -5.566406 -4.730469 C -5.972656 -4.726563 -6.300781 -4.558594 -6.550781 -4.222656 C -6.753906 -3.945313 -6.855469 -3.597656 -6.859375 -3.179688 C -6.855469 -2.746094 -6.742188 -2.386719 -6.515625 -2.101563 C -6.269531 -1.800781 -5.949219 -1.652344 -5.558594 -1.65625 C -5.164063 -1.652344 -4.851563 -1.808594 -4.617188 -2.128906 C -4.492188 -2.277344 -4.382813 -2.476563 -4.296875 -2.71875 C -4.179688 -2.992188 -4.128906 -3.148438 -4.144531 -3.191406 Z M -3.488281 -3.121094 C -3.191406 -2.007813 -2.667969 -1.453125 -1.917969 -1.453125 C -1.449219 -1.453125 -1.105469 -1.65625 -0.878906 -2.070313 C -0.703125 -2.375 -0.613281 -2.742188 -0.617188 -3.171875 C -0.613281 -3.761719 -0.777344 -4.222656 -1.101563 -4.546875 C -1.335938 -4.78125 -1.625 -4.898438 -1.972656 -4.902344 C -2.332031 -4.898438 -2.648438 -4.734375 -2.917969 -4.410156 C -3.066406 -4.210938 -3.195313 -3.976563 -3.3125 -3.707031 C -3.4375 -3.386719 -3.496094 -3.191406 -3.488281 -3.121094 Z M -3.488281 -3.121094 \"/>\n",
       "</symbol>\n",
       "<symbol overflow=\"visible\" id=\"glyph0-3\">\n",
       "<path style=\"stroke:none;\" d=\"M -0.0976563 -3.886719 L -0.0976563 -3 L -6.476563 -3 C -6.28125 -2.441406 -6.121094 -1.855469 -5.992188 -1.242188 L -6.675781 -1.078125 C -6.894531 -1.957031 -7.160156 -2.703125 -7.464844 -3.324219 L -7.464844 -3.886719 Z M -0.0976563 -3.886719 \"/>\n",
       "</symbol>\n",
       "<symbol overflow=\"visible\" id=\"glyph0-4\">\n",
       "<path style=\"stroke:none;\" d=\"M -7.457031 -3.214844 C -7.453125 -4.101563 -7.042969 -4.785156 -6.222656 -5.261719 C -5.570313 -5.636719 -4.726563 -5.824219 -3.699219 -5.828125 C -2.671875 -5.824219 -1.828125 -5.636719 -1.167969 -5.261719 C -0.355469 -4.792969 0.046875 -4.097656 0.0507813 -3.179688 C 0.046875 -2.261719 -0.355469 -1.570313 -1.167969 -1.105469 C -1.828125 -0.726563 -2.675781 -0.539063 -3.707031 -0.539063 C -5.140625 -0.539063 -6.183594 -0.882813 -6.839844 -1.578125 C -7.246094 -2.015625 -7.453125 -2.5625 -7.457031 -3.214844 Z M -6.730469 -3.179688 C -6.726563 -2.652344 -6.460938 -2.238281 -5.933594 -1.9375 C -5.390625 -1.625 -4.644531 -1.46875 -3.699219 -1.472656 C -2.761719 -1.46875 -2.027344 -1.621094 -1.496094 -1.929688 C -0.964844 -2.230469 -0.703125 -2.648438 -0.707031 -3.179688 C -0.703125 -3.8125 -1.074219 -4.28125 -1.820313 -4.589844 C -2.308594 -4.785156 -2.953125 -4.886719 -3.75 -4.890625 C -4.675781 -4.886719 -5.402344 -4.734375 -5.933594 -4.429688 C -6.460938 -4.117188 -6.726563 -3.699219 -6.730469 -3.179688 Z M -6.730469 -3.179688 \"/>\n",
       "</symbol>\n",
       "<symbol overflow=\"visible\" id=\"glyph1-0\">\n",
       "<path style=\"stroke:none;\" d=\"M 6.382813 -1.53125 C 5.8125 -0.46875 4.921875 0.0585938 3.710938 0.0625 C 2.832031 0.0585938 2.109375 -0.226563 1.539063 -0.800781 C 0.917969 -1.421875 0.609375 -2.238281 0.609375 -3.246094 C 0.609375 -4.242188 0.917969 -5.054688 1.539063 -5.6875 C 2.101563 -6.25 2.8125 -6.53125 3.675781 -6.535156 C 4.882813 -6.53125 5.746094 -6.007813 6.261719 -4.960938 L 5.394531 -4.511719 C 5.03125 -5.277344 4.46875 -5.660156 3.710938 -5.664063 C 3.207031 -5.660156 2.773438 -5.476563 2.410156 -5.113281 C 1.949219 -4.652344 1.722656 -4.023438 1.722656 -3.222656 C 1.722656 -2.464844 1.941406 -1.863281 2.386719 -1.421875 C 2.773438 -1.027344 3.253906 -0.832031 3.820313 -0.835938 C 4.585938 -0.832031 5.164063 -1.214844 5.558594 -1.984375 Z M 6.382813 -1.53125 \"/>\n",
       "</symbol>\n",
       "<symbol overflow=\"visible\" id=\"glyph1-1\">\n",
       "<path style=\"stroke:none;\" d=\"M 3.746094 -6.523438 C 4.621094 -6.519531 5.363281 -6.226563 5.96875 -5.640625 C 6.585938 -5.019531 6.894531 -4.207031 6.898438 -3.199219 C 6.894531 -2.222656 6.59375 -1.429688 5.988281 -0.824219 C 5.394531 -0.234375 4.644531 0.0585938 3.746094 0.0625 C 2.84375 0.0585938 2.105469 -0.230469 1.527344 -0.8125 C 0.914063 -1.417969 0.609375 -2.226563 0.609375 -3.234375 C 0.609375 -4.21875 0.917969 -5.019531 1.539063 -5.640625 C 2.125 -6.226563 2.859375 -6.519531 3.746094 -6.523438 Z M 3.746094 -5.699219 C 3.222656 -5.695313 2.78125 -5.507813 2.421875 -5.140625 C 1.960938 -4.675781 1.734375 -4.039063 1.734375 -3.222656 C 1.734375 -2.417969 1.957031 -1.789063 2.410156 -1.335938 C 2.773438 -0.96875 3.21875 -0.785156 3.746094 -0.789063 C 4.28125 -0.785156 4.734375 -0.972656 5.097656 -1.347656 C 5.546875 -1.800781 5.769531 -2.4375 5.773438 -3.265625 C 5.769531 -4.039063 5.542969 -4.664063 5.085938 -5.140625 C 4.710938 -5.507813 4.261719 -5.695313 3.746094 -5.699219 Z M 3.746094 -5.699219 \"/>\n",
       "</symbol>\n",
       "<symbol overflow=\"visible\" id=\"glyph1-2\">\n",
       "<path style=\"stroke:none;\" d=\"M 6.5 -0.121094 L 5.425781 -0.121094 L 5.425781 -3.984375 C 5.425781 -5.042969 4.988281 -5.570313 4.113281 -5.574219 C 3.230469 -5.570313 2.582031 -5.042969 2.171875 -3.984375 L 2.171875 -0.121094 L 1.097656 -0.121094 L 1.097656 -6.347656 L 2.101563 -6.347656 L 2.101563 -5.226563 C 2.683594 -6.058594 3.429688 -6.472656 4.339844 -6.476563 C 5.777344 -6.472656 6.496094 -5.664063 6.5 -4.046875 Z M 6.5 -0.121094 \"/>\n",
       "</symbol>\n",
       "<symbol overflow=\"visible\" id=\"glyph1-3\">\n",
       "<path style=\"stroke:none;\" d=\"M 6.621094 -0.121094 L 5.644531 -0.121094 L 5.644531 -1.207031 C 5.054688 -0.363281 4.316406 0.0585938 3.425781 0.0625 C 2.679688 0.0585938 2.050781 -0.203125 1.539063 -0.726563 C 0.917969 -1.339844 0.609375 -2.179688 0.609375 -3.246094 C 0.609375 -4.292969 0.90625 -5.121094 1.507813 -5.738281 C 2.019531 -6.257813 2.660156 -6.519531 3.425781 -6.523438 C 4.242188 -6.519531 4.953125 -6.175781 5.558594 -5.488281 L 5.558594 -9.363281 L 6.621094 -9.363281 Z M 5.558594 -2.546875 L 5.558594 -4.09375 C 5.554688 -4.503906 5.300781 -4.902344 4.796875 -5.285156 C 4.4375 -5.542969 4.046875 -5.671875 3.621094 -5.675781 C 3.136719 -5.671875 2.726563 -5.503906 2.398438 -5.175781 C 1.953125 -4.730469 1.734375 -4.097656 1.734375 -3.277344 C 1.734375 -2.535156 1.914063 -1.933594 2.28125 -1.464844 C 2.632813 -1.019531 3.074219 -0.796875 3.605469 -0.800781 C 4.222656 -0.796875 4.75 -1.101563 5.1875 -1.710938 C 5.429688 -2.046875 5.554688 -2.324219 5.558594 -2.546875 Z M 5.558594 -2.546875 \"/>\n",
       "</symbol>\n",
       "<symbol overflow=\"visible\" id=\"glyph1-4\">\n",
       "<path style=\"stroke:none;\" d=\"M 2.300781 -7.671875 L 1.074219 -7.671875 L 1.074219 -8.921875 L 2.300781 -8.921875 Z M 2.222656 -0.121094 L 1.148438 -0.121094 L 1.148438 -6.347656 L 2.222656 -6.347656 Z M 2.222656 -0.121094 \"/>\n",
       "</symbol>\n",
       "<symbol overflow=\"visible\" id=\"glyph1-5\">\n",
       "<path style=\"stroke:none;\" d=\"M 4.148438 -0.46875 C 3.683594 -0.148438 3.207031 0.0117188 2.726563 0.0117188 C 1.757813 0.0117188 1.277344 -0.53125 1.277344 -1.625 L 1.277344 -5.585938 L 0.425781 -5.585938 L 0.425781 -6.347656 L 1.277344 -6.347656 L 1.277344 -7.746094 L 2.300781 -8.257813 L 2.300781 -6.347656 L 4.027344 -6.347656 L 4.027344 -5.585938 L 2.300781 -5.585938 L 2.300781 -1.769531 C 2.296875 -1.128906 2.515625 -0.808594 2.953125 -0.8125 C 3.246094 -0.808594 3.523438 -0.921875 3.789063 -1.148438 Z M 4.148438 -0.46875 \"/>\n",
       "</symbol>\n",
       "<symbol overflow=\"visible\" id=\"glyph1-6\">\n",
       "<path style=\"stroke:none;\" d=\"\"/>\n",
       "</symbol>\n",
       "<symbol overflow=\"visible\" id=\"glyph1-7\">\n",
       "<path style=\"stroke:none;\" d=\"M 9.320313 -6.347656 L 7.160156 -0.0117188 L 6.410156 -0.0117188 L 5.097656 -3.746094 C 4.964844 -4.113281 4.835938 -4.574219 4.710938 -5.121094 L 4.675781 -5.121094 C 4.582031 -4.722656 4.445313 -4.261719 4.273438 -3.746094 L 2.996094 -0.0117188 L 2.246094 -0.0117188 L 0.0859375 -6.347656 L 1.207031 -6.347656 L 2.257813 -2.910156 C 2.320313 -2.703125 2.457031 -2.222656 2.660156 -1.472656 L 2.699219 -1.472656 C 2.820313 -1.949219 2.957031 -2.429688 3.113281 -2.910156 L 4.234375 -6.347656 L 5.1875 -6.347656 L 6.359375 -2.910156 C 6.472656 -2.585938 6.613281 -2.105469 6.773438 -1.472656 L 6.8125 -1.472656 C 6.941406 -2.027344 7.070313 -2.507813 7.195313 -2.910156 L 8.234375 -6.347656 Z M 9.320313 -6.347656 \"/>\n",
       "</symbol>\n",
       "<symbol overflow=\"visible\" id=\"glyph1-8\">\n",
       "<path style=\"stroke:none;\" d=\"M 6.164063 -0.121094 L 5.21875 -0.121094 C 5.070313 -0.433594 4.980469 -0.753906 4.945313 -1.085938 L 4.902344 -1.085938 C 4.425781 -0.328125 3.722656 0.046875 2.789063 0.046875 C 2.144531 0.046875 1.617188 -0.15625 1.214844 -0.5625 C 0.851563 -0.917969 0.671875 -1.355469 0.675781 -1.875 C 0.671875 -3.15625 1.78125 -3.828125 4.003906 -3.898438 L 4.839844 -3.925781 L 4.839844 -4.25 C 4.839844 -4.679688 4.714844 -5.023438 4.46875 -5.273438 C 4.207031 -5.53125 3.875 -5.660156 3.46875 -5.664063 C 2.765625 -5.660156 2.238281 -5.320313 1.890625 -4.644531 L 0.964844 -5.070313 C 1.539063 -6.019531 2.382813 -6.496094 3.492188 -6.5 C 4.257813 -6.496094 4.84375 -6.285156 5.253906 -5.859375 C 5.632813 -5.476563 5.824219 -4.933594 5.828125 -4.234375 L 5.828125 -1.945313 C 5.824219 -1.167969 5.9375 -0.558594 6.164063 -0.121094 Z M 4.863281 -3.171875 L 4.179688 -3.160156 C 2.566406 -3.121094 1.761719 -2.691406 1.765625 -1.863281 C 1.761719 -1.566406 1.859375 -1.324219 2.050781 -1.136719 C 2.285156 -0.902344 2.59375 -0.785156 2.976563 -0.789063 C 3.507813 -0.785156 3.96875 -0.980469 4.363281 -1.375 C 4.695313 -1.714844 4.863281 -2.132813 4.863281 -2.625 Z M 4.863281 -3.171875 \"/>\n",
       "</symbol>\n",
       "<symbol overflow=\"visible\" id=\"glyph1-9\">\n",
       "<path style=\"stroke:none;\" d=\"M 1.683594 -3.113281 C 1.714844 -2.386719 1.941406 -1.820313 2.363281 -1.410156 C 2.78125 -0.984375 3.292969 -0.773438 3.898438 -0.773438 C 4.6875 -0.773438 5.316406 -1.144531 5.785156 -1.886719 L 6.488281 -1.421875 C 5.894531 -0.433594 4.992188 0.0585938 3.773438 0.0625 C 2.847656 0.0585938 2.085938 -0.234375 1.496094 -0.824219 C 0.894531 -1.421875 0.597656 -2.214844 0.597656 -3.203125 C 0.597656 -4.246094 0.910156 -5.082031 1.539063 -5.710938 C 2.09375 -6.269531 2.789063 -6.550781 3.625 -6.550781 C 4.410156 -6.550781 5.066406 -6.289063 5.597656 -5.773438 C 6.1875 -5.167969 6.484375 -4.367188 6.488281 -3.363281 L 6.488281 -3.113281 Z M 5.382813 -3.898438 C 5.320313 -4.460938 5.121094 -4.910156 4.785156 -5.238281 C 4.449219 -5.570313 4.054688 -5.734375 3.601563 -5.738281 C 3.070313 -5.734375 2.617188 -5.507813 2.246094 -5.058594 C 1.988281 -4.75 1.824219 -4.363281 1.746094 -3.898438 Z M 5.382813 -3.898438 \"/>\n",
       "</symbol>\n",
       "<symbol overflow=\"visible\" id=\"glyph1-10\">\n",
       "<path style=\"stroke:none;\" d=\"M 4.511719 -6.476563 L 4.320313 -5.40625 C 4.179688 -5.433594 4.058594 -5.449219 3.949219 -5.449219 C 3.46875 -5.449219 3.070313 -5.222656 2.757813 -4.773438 C 2.363281 -4.199219 2.167969 -3.699219 2.171875 -3.273438 L 2.171875 -0.121094 L 1.097656 -0.121094 L 1.097656 -6.347656 L 2.113281 -6.347656 L 2.0625 -4.5 L 2.085938 -4.5 C 2.546875 -5.847656 3.214844 -6.519531 4.09375 -6.523438 C 4.234375 -6.519531 4.375 -6.503906 4.511719 -6.476563 Z M 4.511719 -6.476563 \"/>\n",
       "</symbol>\n",
       "<symbol overflow=\"visible\" id=\"glyph1-11\">\n",
       "<path style=\"stroke:none;\" d=\"M 2.648438 -9.328125 L 3.675781 -9.328125 L 3.675781 -5.425781 C 5.847656 -5.914063 7.714844 -6.636719 9.269531 -7.597656 L 10.023438 -6.789063 C 8.082031 -5.753906 5.964844 -4.984375 3.675781 -4.484375 L 3.675781 -2.074219 C 3.671875 -1.660156 3.796875 -1.402344 4.046875 -1.304688 C 4.296875 -1.191406 5.007813 -1.136719 6.175781 -1.140625 C 7.484375 -1.136719 8.9375 -1.222656 10.535156 -1.398438 L 10.535156 -0.402344 C 9.058594 -0.257813 7.667969 -0.1875 6.371094 -0.1875 C 4.644531 -0.1875 3.59375 -0.316406 3.210938 -0.574219 C 2.835938 -0.8125 2.648438 -1.25 2.648438 -1.886719 Z M 11.664063 -8.300781 C 11.191406 -9 10.699219 -9.566406 10.1875 -9.996094 L 10.773438 -10.449219 C 11.269531 -10.042969 11.773438 -9.507813 12.285156 -8.835938 Z M 10.5 -7.386719 C 10.117188 -8.023438 9.636719 -8.601563 9.0625 -9.125 L 9.675781 -9.601563 C 10.152344 -9.195313 10.644531 -8.636719 11.152344 -7.921875 Z M 10.5 -7.386719 \"/>\n",
       "</symbol>\n",
       "<symbol overflow=\"visible\" id=\"glyph1-12\">\n",
       "<path style=\"stroke:none;\" d=\"M 3.46875 -3.875 C 3.179688 -4.757813 2.851563 -5.535156 2.492188 -6.203125 L 3.351563 -6.621094 C 3.765625 -5.9375 4.109375 -5.167969 4.386719 -4.316406 Z M 5.867188 -4.484375 C 5.613281 -5.367188 5.300781 -6.132813 4.925781 -6.773438 L 5.816406 -7.191406 C 6.21875 -6.515625 6.546875 -5.761719 6.804688 -4.925781 Z M 3.765625 -0.726563 C 5.28125 -1.210938 6.457031 -1.988281 7.289063 -3.0625 C 7.996094 -3.964844 8.472656 -5.238281 8.726563 -6.882813 L 9.71875 -6.652344 C 9.402344 -4.785156 8.777344 -3.296875 7.84375 -2.183594 C 7.046875 -1.234375 5.90625 -0.480469 4.425781 0.0859375 Z M 3.765625 -0.726563 \"/>\n",
       "</symbol>\n",
       "<symbol overflow=\"visible\" id=\"glyph1-13\">\n",
       "<path style=\"stroke:none;\" d=\"M 1.097656 -6 L 11.210938 -6 L 11.210938 -5.101563 L 6.988281 -5.101563 C 6.933594 -3.671875 6.644531 -2.539063 6.121094 -1.703125 C 5.539063 -0.769531 4.582031 -0.0390625 3.246094 0.5 L 2.5625 -0.304688 C 3.894531 -0.800781 4.808594 -1.457031 5.296875 -2.277344 C 5.675781 -2.898438 5.882813 -3.839844 5.925781 -5.101563 L 1.097656 -5.101563 Z M 2.746094 -8.960938 L 9.648438 -8.960938 L 9.648438 -8.0625 L 2.746094 -8.0625 Z M 2.746094 -8.960938 \"/>\n",
       "</symbol>\n",
       "<symbol overflow=\"visible\" id=\"glyph1-14\">\n",
       "<path style=\"stroke:none;\" d=\"M 0.691406 -0.648438 C 1.9375 -1.507813 2.710938 -2.609375 3.015625 -3.949219 C 3.195313 -4.765625 3.285156 -6.308594 3.289063 -8.585938 L 4.304688 -8.585938 L 4.304688 -8.039063 C 4.300781 -5.621094 4.125 -3.910156 3.777344 -2.910156 C 3.363281 -1.734375 2.589844 -0.742188 1.453125 0.0742188 Z M 6.101563 -9.113281 L 7.128906 -9.113281 L 7.128906 -1.5 C 8.722656 -2.4375 10.039063 -3.714844 11.078125 -5.339844 L 11.71875 -4.449219 C 10.515625 -2.738281 8.898438 -1.296875 6.867188 -0.121094 L 6.101563 -0.703125 Z M 6.101563 -9.113281 \"/>\n",
       "</symbol>\n",
       "<symbol overflow=\"visible\" id=\"glyph1-15\">\n",
       "<path style=\"stroke:none;\" d=\"M 5.804688 -9.675781 L 6.792969 -9.675781 L 6.792969 -7.359375 L 10.90625 -7.359375 L 10.90625 -6.476563 L 6.792969 -6.476563 L 6.792969 -0.726563 C 6.789063 -0.0195313 6.378906 0.332031 5.554688 0.335938 C 5.015625 0.332031 4.476563 0.285156 3.941406 0.1875 L 3.730469 -0.847656 C 4.234375 -0.714844 4.757813 -0.648438 5.304688 -0.652344 C 5.632813 -0.648438 5.800781 -0.816406 5.804688 -1.152344 L 5.804688 -6.476563 L 1.605469 -6.476563 L 1.605469 -7.359375 L 5.804688 -7.359375 Z M 1.179688 -1.75 C 1.675781 -2.230469 2.078125 -2.730469 2.386719 -3.253906 C 2.664063 -3.734375 2.910156 -4.308594 3.125 -4.972656 L 4.003906 -4.578125 C 3.753906 -3.789063 3.453125 -3.109375 3.101563 -2.539063 C 2.816406 -2.078125 2.433594 -1.578125 1.953125 -1.039063 Z M 10.375 -1.335938 C 9.765625 -2.621094 9.113281 -3.710938 8.417969 -4.613281 L 9.214844 -5.140625 C 9.929688 -4.300781 10.617188 -3.242188 11.28125 -1.964844 Z M 11.1875 -8.574219 C 10.714844 -9.277344 10.226563 -9.84375 9.71875 -10.273438 L 10.304688 -10.722656 C 10.800781 -10.320313 11.304688 -9.78125 11.816406 -9.113281 Z M 9.941406 -7.75 C 9.5625 -8.386719 9.082031 -8.964844 8.503906 -9.484375 L 9.113281 -9.960938 C 9.59375 -9.5625 10.085938 -9.003906 10.589844 -8.289063 Z M 9.941406 -7.75 \"/>\n",
       "</symbol>\n",
       "<symbol overflow=\"visible\" id=\"glyph1-16\">\n",
       "<path style=\"stroke:none;\" d=\"M 8.515625 -8.753906 L 9.210938 -8.097656 C 8.703125 -6.699219 8.003906 -5.398438 7.121094 -4.199219 C 8.4375 -3.265625 9.75 -2.160156 11.054688 -0.886719 L 10.222656 -0.0351563 C 8.945313 -1.425781 7.722656 -2.570313 6.550781 -3.472656 C 5.269531 -1.929688 3.765625 -0.753906 2.039063 0.0625 L 1.277344 -0.789063 C 4.496094 -2.152344 6.734375 -4.492188 8 -7.8125 L 2.421875 -7.738281 L 2.398438 -8.699219 Z M 8.515625 -8.753906 \"/>\n",
       "</symbol>\n",
       "<symbol overflow=\"visible\" id=\"glyph1-17\">\n",
       "<path style=\"stroke:none;\" d=\"M 9.3125 -8.0625 L 9.972656 -7.574219 C 9.480469 -5.480469 8.671875 -3.761719 7.550781 -2.417969 C 6.558594 -1.230469 5.253906 -0.238281 3.636719 0.5625 L 2.910156 -0.238281 C 4.496094 -0.894531 5.789063 -1.832031 6.789063 -3.050781 C 7.777344 -4.257813 8.460938 -5.628906 8.835938 -7.164063 L 5.347656 -7.164063 C 4.414063 -5.757813 3.40625 -4.605469 2.324219 -3.703125 L 1.585938 -4.386719 C 3.339844 -5.804688 4.613281 -7.570313 5.402344 -9.6875 L 6.359375 -9.410156 C 6.277344 -9.136719 6.097656 -8.6875 5.8125 -8.0625 Z M 11.738281 -8.636719 C 11.261719 -9.34375 10.769531 -9.910156 10.261719 -10.339844 L 10.851563 -10.785156 C 11.351563 -10.378906 11.851563 -9.839844 12.359375 -9.171875 Z M 10.578125 -7.726563 C 10.195313 -8.363281 9.714844 -8.941406 9.136719 -9.460938 L 9.746094 -9.9375 C 10.226563 -9.539063 10.71875 -8.980469 11.222656 -8.265625 Z M 10.578125 -7.726563 \"/>\n",
       "</symbol>\n",
       "<symbol overflow=\"visible\" id=\"glyph1-18\">\n",
       "<path style=\"stroke:none;\" d=\"M 6.117188 0.453125 L 6.117188 -5.617188 C 4.757813 -4.589844 3.4375 -3.796875 2.160156 -3.234375 L 1.527344 -4.023438 C 4.433594 -5.246094 6.832031 -7.105469 8.726563 -9.601563 L 9.601563 -9.0625 C 8.90625 -8.144531 8.097656 -7.28125 7.179688 -6.476563 L 7.179688 0.453125 Z M 6.117188 0.453125 \"/>\n",
       "</symbol>\n",
       "<symbol overflow=\"visible\" id=\"glyph1-19\">\n",
       "<path style=\"stroke:none;\" d=\"M 5.339844 -9.730469 L 6.339844 -9.730469 L 6.339844 -7.214844 L 10.253906 -7.214844 L 10.253906 -6.6875 C 10.253906 -3.960938 10.101563 -2.058594 9.800781 -0.976563 C 9.585938 -0.214844 9.117188 0.164063 8.390625 0.164063 C 7.726563 0.164063 7.042969 0 6.339844 -0.335938 L 6.304688 -1.429688 C 7.125 -1.046875 7.757813 -0.855469 8.203125 -0.859375 C 8.570313 -0.855469 8.800781 -1.066406 8.894531 -1.488281 C 9.089844 -2.417969 9.207031 -4.027344 9.253906 -6.316406 L 6.261719 -6.316406 C 6.023438 -3.285156 4.691406 -1.09375 2.265625 0.261719 L 1.5 -0.511719 C 3.777344 -1.644531 5.035156 -3.566406 5.273438 -6.269531 L 1.789063 -6.269531 L 1.789063 -7.164063 L 5.339844 -7.164063 Z M 5.339844 -9.730469 \"/>\n",
       "</symbol>\n",
       "<symbol overflow=\"visible\" id=\"glyph1-20\">\n",
       "<path style=\"stroke:none;\" d=\"M 10.523438 -8.898438 L 11.222656 -8.203125 C 10.355469 -6.667969 9.230469 -5.359375 7.847656 -4.277344 L 7.121094 -4.972656 C 8.253906 -5.792969 9.191406 -6.796875 9.925781 -7.988281 L 1.660156 -7.835938 L 1.660156 -8.789063 Z M 2.375 -0.5 C 3.804688 -1.21875 4.71875 -2.152344 5.109375 -3.300781 C 5.34375 -3.960938 5.460938 -5.222656 5.460938 -7.085938 L 6.46875 -7.085938 C 6.457031 -4.9375 6.292969 -3.460938 5.976563 -2.648438 C 5.5 -1.445313 4.542969 -0.464844 3.113281 0.300781 Z M 2.375 -0.5 \"/>\n",
       "</symbol>\n",
       "<symbol overflow=\"visible\" id=\"glyph1-21\">\n",
       "<path style=\"stroke:none;\" d=\"M 4.773438 -6.023438 C 3.953125 -6.765625 3.050781 -7.414063 2.0625 -7.976563 L 2.699219 -8.824219 C 3.582031 -8.394531 4.515625 -7.769531 5.5 -6.953125 Z M 2.148438 -1.191406 C 5.902344 -1.832031 8.582031 -3.929688 10.1875 -7.476563 L 10.972656 -6.773438 C 9.398438 -3.289063 6.675781 -1.097656 2.800781 -0.203125 Z M 2.148438 -1.191406 \"/>\n",
       "</symbol>\n",
       "<symbol overflow=\"visible\" id=\"glyph1-22\">\n",
       "<path style=\"stroke:none;\" d=\"M 7.921875 -0.121094 L 6.726563 -0.121094 L 5.738281 -2.753906 L 2.148438 -2.753906 L 1.179688 -0.121094 L -0.0117188 -0.121094 L 3.527344 -9.113281 L 4.414063 -9.113281 Z M 5.425781 -3.636719 L 4.523438 -6.011719 C 4.273438 -6.675781 4.085938 -7.273438 3.960938 -7.8125 L 3.925781 -7.8125 C 3.777344 -7.238281 3.585938 -6.640625 3.351563 -6.011719 L 2.464844 -3.636719 Z M 5.425781 -3.636719 \"/>\n",
       "</symbol>\n",
       "<symbol overflow=\"visible\" id=\"glyph1-23\">\n",
       "<path style=\"stroke:none;\" d=\"M 5.25 -4.734375 C 6.71875 -4.472656 7.453125 -3.765625 7.453125 -2.613281 C 7.453125 -1.59375 6.945313 -0.867188 5.9375 -0.433594 C 5.453125 -0.222656 4.839844 -0.117188 4.089844 -0.121094 L 1.191406 -0.121094 L 1.191406 -9.050781 L 3.742188 -9.050781 C 4.492188 -9.046875 5.113281 -8.960938 5.601563 -8.789063 C 6.609375 -8.425781 7.113281 -7.765625 7.117188 -6.816406 C 7.113281 -5.667969 6.492188 -4.988281 5.25 -4.777344 Z M 2.265625 -5.1875 L 3.601563 -5.1875 C 5.183594 -5.183594 5.976563 -5.691406 5.980469 -6.703125 C 5.976563 -7.679688 5.207031 -8.167969 3.675781 -8.167969 L 2.265625 -8.167969 Z M 2.265625 -1.019531 L 3.9375 -1.019531 C 5.507813 -1.019531 6.292969 -1.570313 6.292969 -2.671875 C 6.292969 -3.359375 5.902344 -3.835938 5.125 -4.101563 C 4.671875 -4.257813 4.183594 -4.335938 3.664063 -4.339844 L 2.265625 -4.339844 Z M 2.265625 -1.019531 \"/>\n",
       "</symbol>\n",
       "<symbol overflow=\"visible\" id=\"glyph2-0\">\n",
       "<path style=\"stroke:none;\" d=\"M -0.121094 -9.808594 L -0.121094 -8.734375 L -4.023438 -8.734375 C -5.074219 -8.730469 -5.601563 -8.324219 -5.601563 -7.511719 C -5.601563 -7.125 -5.421875 -6.769531 -5.066406 -6.453125 C -4.804688 -6.21875 -4.484375 -6.0625 -4.109375 -5.976563 L -0.121094 -5.976563 L -0.121094 -4.902344 L -4.035156 -4.902344 C -5.078125 -4.898438 -5.601563 -4.511719 -5.601563 -3.746094 C -5.601563 -3.335938 -5.421875 -2.980469 -5.066406 -2.671875 C -4.6875 -2.335938 -4.328125 -2.167969 -3.984375 -2.171875 L -0.121094 -2.171875 L -0.121094 -1.097656 L -6.347656 -1.097656 L -6.347656 -2.101563 L -5.273438 -2.101563 C -6.074219 -2.507813 -6.472656 -3.128906 -6.476563 -3.960938 C -6.472656 -4.867188 -6.039063 -5.46875 -5.167969 -5.773438 C -6.039063 -6.222656 -6.472656 -6.875 -6.476563 -7.722656 C -6.472656 -8.402344 -6.230469 -8.933594 -5.75 -9.320313 C -5.347656 -9.644531 -4.78125 -9.808594 -4.046875 -9.808594 Z M -0.121094 -9.808594 \"/>\n",
       "</symbol>\n",
       "<symbol overflow=\"visible\" id=\"glyph2-1\">\n",
       "<path style=\"stroke:none;\" d=\"M -3.113281 -1.683594 C -2.386719 -1.714844 -1.820313 -1.941406 -1.410156 -2.363281 C -0.984375 -2.78125 -0.773438 -3.292969 -0.773438 -3.898438 C -0.773438 -4.6875 -1.144531 -5.316406 -1.886719 -5.785156 L -1.421875 -6.488281 C -0.433594 -5.894531 0.0585938 -4.992188 0.0625 -3.773438 C 0.0585938 -2.847656 -0.234375 -2.085938 -0.824219 -1.496094 C -1.421875 -0.894531 -2.214844 -0.597656 -3.203125 -0.597656 C -4.246094 -0.597656 -5.082031 -0.910156 -5.710938 -1.539063 C -6.269531 -2.09375 -6.550781 -2.789063 -6.550781 -3.625 C -6.550781 -4.410156 -6.289063 -5.066406 -5.773438 -5.597656 C -5.167969 -6.1875 -4.367188 -6.484375 -3.363281 -6.488281 L -3.113281 -6.488281 Z M -3.898438 -5.382813 C -4.460938 -5.320313 -4.910156 -5.121094 -5.238281 -4.785156 C -5.570313 -4.449219 -5.734375 -4.054688 -5.738281 -3.601563 C -5.734375 -3.070313 -5.507813 -2.617188 -5.058594 -2.246094 C -4.75 -1.988281 -4.363281 -1.824219 -3.898438 -1.746094 Z M -3.898438 -5.382813 \"/>\n",
       "</symbol>\n",
       "<symbol overflow=\"visible\" id=\"glyph2-2\">\n",
       "<path style=\"stroke:none;\" d=\"M -0.121094 -6.164063 L -0.121094 -5.21875 C -0.433594 -5.070313 -0.753906 -4.980469 -1.085938 -4.945313 L -1.085938 -4.902344 C -0.328125 -4.425781 0.046875 -3.722656 0.0507813 -2.789063 C 0.046875 -2.144531 -0.15625 -1.617188 -0.5625 -1.214844 C -0.917969 -0.851563 -1.355469 -0.671875 -1.875 -0.675781 C -3.15625 -0.671875 -3.828125 -1.78125 -3.898438 -4.003906 L -3.925781 -4.839844 L -4.25 -4.839844 C -4.679688 -4.839844 -5.023438 -4.714844 -5.273438 -4.46875 C -5.53125 -4.207031 -5.660156 -3.875 -5.664063 -3.46875 C -5.660156 -2.765625 -5.320313 -2.238281 -4.644531 -1.890625 L -5.070313 -0.964844 C -6.019531 -1.539063 -6.496094 -2.382813 -6.5 -3.492188 C -6.496094 -4.257813 -6.285156 -4.84375 -5.859375 -5.253906 C -5.476563 -5.632813 -4.933594 -5.824219 -4.234375 -5.828125 L -1.945313 -5.828125 C -1.167969 -5.824219 -0.558594 -5.9375 -0.121094 -6.164063 Z M -3.171875 -4.863281 L -3.160156 -4.179688 C -3.121094 -2.566406 -2.691406 -1.761719 -1.863281 -1.765625 C -1.566406 -1.761719 -1.324219 -1.859375 -1.136719 -2.050781 C -0.902344 -2.285156 -0.785156 -2.59375 -0.789063 -2.976563 C -0.785156 -3.507813 -0.980469 -3.96875 -1.375 -4.363281 C -1.714844 -4.695313 -2.132813 -4.863281 -2.625 -4.863281 Z M -3.171875 -4.863281 \"/>\n",
       "</symbol>\n",
       "<symbol overflow=\"visible\" id=\"glyph2-3\">\n",
       "<path style=\"stroke:none;\" d=\"M -0.121094 -6.5 L -0.121094 -5.425781 L -3.984375 -5.425781 C -5.042969 -5.425781 -5.570313 -4.988281 -5.574219 -4.113281 C -5.570313 -3.230469 -5.042969 -2.582031 -3.984375 -2.171875 L -0.121094 -2.171875 L -0.121094 -1.097656 L -6.347656 -1.097656 L -6.347656 -2.101563 L -5.226563 -2.101563 C -6.058594 -2.683594 -6.472656 -3.429688 -6.476563 -4.339844 C -6.472656 -5.777344 -5.664063 -6.496094 -4.046875 -6.5 Z M -0.121094 -6.5 \"/>\n",
       "</symbol>\n",
       "<symbol overflow=\"visible\" id=\"glyph2-4\">\n",
       "<path style=\"stroke:none;\" d=\"\"/>\n",
       "</symbol>\n",
       "<symbol overflow=\"visible\" id=\"glyph2-5\">\n",
       "<path style=\"stroke:none;\" d=\"M -6.523438 -3.746094 C -6.519531 -4.621094 -6.226563 -5.363281 -5.640625 -5.96875 C -5.019531 -6.585938 -4.207031 -6.894531 -3.199219 -6.898438 C -2.222656 -6.894531 -1.429688 -6.59375 -0.824219 -5.988281 C -0.234375 -5.394531 0.0585938 -4.644531 0.0625 -3.746094 C 0.0585938 -2.84375 -0.230469 -2.105469 -0.8125 -1.527344 C -1.417969 -0.914063 -2.226563 -0.609375 -3.234375 -0.609375 C -4.21875 -0.609375 -5.019531 -0.917969 -5.640625 -1.539063 C -6.226563 -2.125 -6.519531 -2.859375 -6.523438 -3.746094 Z M -5.699219 -3.746094 C -5.695313 -3.222656 -5.507813 -2.78125 -5.140625 -2.421875 C -4.675781 -1.960938 -4.039063 -1.734375 -3.222656 -1.734375 C -2.417969 -1.734375 -1.789063 -1.957031 -1.335938 -2.410156 C -0.96875 -2.773438 -0.785156 -3.21875 -0.789063 -3.746094 C -0.785156 -4.28125 -0.972656 -4.734375 -1.347656 -5.097656 C -1.800781 -5.546875 -2.4375 -5.769531 -3.265625 -5.773438 C -4.039063 -5.769531 -4.664063 -5.542969 -5.140625 -5.085938 C -5.507813 -4.710938 -5.695313 -4.261719 -5.699219 -3.746094 Z M -5.699219 -3.746094 \"/>\n",
       "</symbol>\n",
       "<symbol overflow=\"visible\" id=\"glyph2-6\">\n",
       "<path style=\"stroke:none;\" d=\"M -9.027344 -4.796875 L -8.289063 -4.351563 C -8.519531 -4.039063 -8.636719 -3.722656 -8.636719 -3.398438 C -8.636719 -2.671875 -8.148438 -2.308594 -7.171875 -2.3125 L -6.347656 -2.3125 L -6.347656 -4.011719 L -5.585938 -4.011719 L -5.585938 -2.3125 L -0.121094 -2.3125 L -0.121094 -1.25 L -5.585938 -1.25 L -5.585938 -0.238281 L -6.347656 -0.238281 L -6.347656 -1.25 L -7.148438 -1.25 C -7.835938 -1.246094 -8.371094 -1.410156 -8.757813 -1.738281 C -9.222656 -2.140625 -9.457031 -2.675781 -9.460938 -3.339844 C -9.457031 -3.867188 -9.3125 -4.351563 -9.027344 -4.796875 Z M -9.027344 -4.796875 \"/>\n",
       "</symbol>\n",
       "<symbol overflow=\"visible\" id=\"glyph2-7\">\n",
       "<path style=\"stroke:none;\" d=\"M -0.46875 -4.148438 C -0.148438 -3.683594 0.0117188 -3.207031 0.0117188 -2.726563 C 0.0117188 -1.757813 -0.53125 -1.277344 -1.625 -1.277344 L -5.585938 -1.277344 L -5.585938 -0.425781 L -6.347656 -0.425781 L -6.347656 -1.277344 L -7.746094 -1.277344 L -8.257813 -2.300781 L -6.347656 -2.300781 L -6.347656 -4.027344 L -5.585938 -4.027344 L -5.585938 -2.300781 L -1.769531 -2.300781 C -1.128906 -2.296875 -0.808594 -2.515625 -0.8125 -2.953125 C -0.808594 -3.246094 -0.921875 -3.523438 -1.148438 -3.789063 Z M -0.46875 -4.148438 \"/>\n",
       "</symbol>\n",
       "<symbol overflow=\"visible\" id=\"glyph2-8\">\n",
       "<path style=\"stroke:none;\" d=\"M -4.972656 -4.363281 C -5.472656 -3.976563 -5.722656 -3.488281 -5.726563 -2.898438 C -5.722656 -2.121094 -5.425781 -1.734375 -4.835938 -1.738281 C -4.414063 -1.734375 -4.070313 -2.152344 -3.796875 -2.992188 L -3.664063 -3.398438 C -3.273438 -4.582031 -2.636719 -5.171875 -1.746094 -5.175781 C -1.144531 -5.171875 -0.671875 -4.925781 -0.335938 -4.4375 C -0.0703125 -4.042969 0.0585938 -3.539063 0.0625 -2.921875 C 0.0585938 -1.96875 -0.289063 -1.160156 -0.984375 -0.5 L -1.597656 -1.179688 C -1.046875 -1.6875 -0.773438 -2.28125 -0.773438 -2.960938 C -0.773438 -3.757813 -1.082031 -4.160156 -1.707031 -4.164063 C -2.175781 -4.160156 -2.570313 -3.71875 -2.886719 -2.839844 L -3.035156 -2.410156 C -3.425781 -1.292969 -3.996094 -0.738281 -4.75 -0.738281 C -5.222656 -0.738281 -5.621094 -0.898438 -5.949219 -1.226563 C -6.335938 -1.613281 -6.53125 -2.152344 -6.535156 -2.839844 C -6.53125 -3.75 -6.214844 -4.5 -5.585938 -5.089844 Z M -4.972656 -4.363281 \"/>\n",
       "</symbol>\n",
       "<symbol overflow=\"visible\" id=\"glyph3-0\">\n",
       "<path style=\"stroke:none;\" d=\"M 6.402344 -0.0976563 L 5.433594 -0.0976563 L 4.636719 -2.222656 L 1.734375 -2.222656 L 0.953125 -0.0976563 L -0.0117188 -0.0976563 L 2.851563 -7.363281 L 3.566406 -7.363281 Z M 4.382813 -2.9375 L 3.65625 -4.859375 C 3.453125 -5.390625 3.300781 -5.875 3.199219 -6.3125 L 3.171875 -6.3125 C 3.046875 -5.847656 2.894531 -5.363281 2.707031 -4.859375 L 1.992188 -2.9375 Z M 4.382813 -2.9375 \"/>\n",
       "</symbol>\n",
       "<symbol overflow=\"visible\" id=\"glyph3-1\">\n",
       "<path style=\"stroke:none;\" d=\"M 4.242188 -3.828125 C 5.429688 -3.613281 6.023438 -3.042969 6.023438 -2.109375 C 6.023438 -1.289063 5.613281 -0.703125 4.796875 -0.351563 C 4.40625 -0.179688 3.910156 -0.09375 3.304688 -0.0976563 L 0.960938 -0.0976563 L 0.960938 -7.3125 L 3.023438 -7.3125 C 3.628906 -7.3125 4.128906 -7.242188 4.527344 -7.101563 C 5.339844 -6.808594 5.746094 -6.277344 5.75 -5.507813 C 5.746094 -4.578125 5.246094 -4.027344 4.242188 -3.863281 Z M 1.828125 -4.191406 L 2.910156 -4.191406 C 4.1875 -4.1875 4.828125 -4.597656 4.832031 -5.414063 C 4.828125 -6.203125 4.207031 -6.597656 2.96875 -6.597656 L 1.828125 -6.597656 Z M 1.828125 -0.824219 L 3.179688 -0.824219 C 4.449219 -0.820313 5.085938 -1.265625 5.085938 -2.160156 C 5.085938 -2.710938 4.769531 -3.09375 4.144531 -3.3125 C 3.773438 -3.4375 3.378906 -3.503906 2.960938 -3.507813 L 1.828125 -3.507813 Z M 1.828125 -0.824219 \"/>\n",
       "</symbol>\n",
       "<symbol overflow=\"visible\" id=\"glyph3-2\">\n",
       "<path style=\"stroke:none;\" d=\"M 4.941406 0.363281 L 4.941406 -4.539063 C 3.84375 -3.707031 2.78125 -3.066406 1.746094 -2.613281 L 1.234375 -3.25 C 3.582031 -4.238281 5.519531 -5.742188 7.050781 -7.757813 L 7.757813 -7.324219 C 7.195313 -6.582031 6.542969 -5.882813 5.800781 -5.234375 L 5.800781 0.363281 Z M 4.941406 0.363281 \"/>\n",
       "</symbol>\n",
       "<symbol overflow=\"visible\" id=\"glyph3-3\">\n",
       "<path style=\"stroke:none;\" d=\"M 4.316406 -7.859375 L 5.125 -7.859375 L 5.125 -5.828125 L 8.285156 -5.828125 L 8.285156 -5.40625 C 8.285156 -3.203125 8.164063 -1.664063 7.921875 -0.789063 C 7.75 -0.175781 7.367188 0.128906 6.78125 0.132813 C 6.242188 0.128906 5.691406 -0.00390625 5.125 -0.269531 L 5.09375 -1.152344 C 5.753906 -0.84375 6.265625 -0.691406 6.628906 -0.695313 C 6.925781 -0.691406 7.113281 -0.859375 7.183594 -1.203125 C 7.34375 -1.953125 7.441406 -3.253906 7.476563 -5.105469 L 5.058594 -5.105469 C 4.863281 -2.652344 3.789063 -0.882813 1.828125 0.210938 L 1.214844 -0.414063 C 3.050781 -1.328125 4.066406 -2.878906 4.261719 -5.066406 L 1.445313 -5.066406 L 1.445313 -5.789063 L 4.316406 -5.789063 Z M 4.316406 -7.859375 \"/>\n",
       "</symbol>\n",
       "<symbol overflow=\"visible\" id=\"glyph3-4\">\n",
       "<path style=\"stroke:none;\" d=\"M 8.503906 -7.191406 L 9.070313 -6.628906 C 8.367188 -5.386719 7.457031 -4.332031 6.34375 -3.457031 L 5.753906 -4.019531 C 6.671875 -4.683594 7.425781 -5.496094 8.019531 -6.457031 L 1.339844 -6.332031 L 1.339844 -7.101563 Z M 1.917969 -0.40625 C 3.074219 -0.984375 3.8125 -1.738281 4.128906 -2.667969 C 4.316406 -3.199219 4.410156 -4.21875 4.414063 -5.726563 L 5.226563 -5.726563 C 5.214844 -3.988281 5.082031 -2.792969 4.828125 -2.140625 C 4.445313 -1.164063 3.671875 -0.375 2.515625 0.242188 Z M 1.917969 -0.40625 \"/>\n",
       "</symbol>\n",
       "<symbol overflow=\"visible\" id=\"glyph3-5\">\n",
       "<path style=\"stroke:none;\" d=\"M 3.855469 -4.867188 C 3.195313 -5.464844 2.464844 -5.992188 1.667969 -6.445313 L 2.179688 -7.132813 C 2.894531 -6.78125 3.648438 -6.277344 4.445313 -5.617188 Z M 1.734375 -0.960938 C 4.769531 -1.484375 6.933594 -3.175781 8.230469 -6.042969 L 8.867188 -5.472656 C 7.59375 -2.660156 5.394531 -0.890625 2.261719 -0.164063 Z M 1.734375 -0.960938 \"/>\n",
       "</symbol>\n",
       "<symbol overflow=\"visible\" id=\"glyph3-6\">\n",
       "<path style=\"stroke:none;\" d=\"M 4.691406 -7.816406 L 5.488281 -7.816406 L 5.488281 -5.949219 L 8.8125 -5.949219 L 8.8125 -5.234375 L 5.488281 -5.234375 L 5.488281 -0.585938 C 5.484375 -0.015625 5.152344 0.269531 4.488281 0.269531 C 4.050781 0.269531 3.617188 0.230469 3.1875 0.152344 L 3.011719 -0.683594 C 3.421875 -0.578125 3.84375 -0.527344 4.285156 -0.527344 C 4.550781 -0.527344 4.6875 -0.660156 4.691406 -0.933594 L 4.691406 -5.234375 L 1.296875 -5.234375 L 1.296875 -5.949219 L 4.691406 -5.949219 Z M 0.953125 -1.414063 C 1.355469 -1.804688 1.679688 -2.210938 1.929688 -2.628906 C 2.152344 -3.015625 2.351563 -3.480469 2.523438 -4.019531 L 3.234375 -3.699219 C 3.03125 -3.058594 2.785156 -2.511719 2.503906 -2.050781 C 2.273438 -1.683594 1.964844 -1.277344 1.578125 -0.839844 Z M 8.382813 -1.078125 C 7.890625 -2.117188 7.363281 -3 6.800781 -3.726563 L 7.445313 -4.152344 C 8.023438 -3.476563 8.578125 -2.621094 9.113281 -1.589844 Z M 9.039063 -6.929688 C 8.660156 -7.496094 8.265625 -7.953125 7.851563 -8.300781 L 8.324219 -8.664063 C 8.726563 -8.335938 9.132813 -7.902344 9.546875 -7.363281 Z M 8.035156 -6.261719 C 7.722656 -6.777344 7.335938 -7.246094 6.871094 -7.664063 L 7.363281 -8.046875 C 7.75 -7.722656 8.148438 -7.273438 8.554688 -6.695313 Z M 8.035156 -6.261719 \"/>\n",
       "</symbol>\n",
       "<symbol overflow=\"visible\" id=\"glyph3-7\">\n",
       "<path style=\"stroke:none;\" d=\"M 6.878906 -7.070313 L 7.441406 -6.542969 C 7.035156 -5.410156 6.472656 -4.359375 5.753906 -3.394531 C 6.816406 -2.636719 7.875 -1.746094 8.929688 -0.714844 L 8.261719 -0.03125 C 7.230469 -1.148438 6.238281 -2.074219 5.292969 -2.804688 C 4.253906 -1.558594 3.039063 -0.609375 1.648438 0.0507813 L 1.03125 -0.636719 C 3.632813 -1.738281 5.441406 -3.628906 6.464844 -6.3125 L 1.957031 -6.253906 L 1.9375 -7.027344 Z M 6.878906 -7.070313 \"/>\n",
       "</symbol>\n",
       "<symbol overflow=\"visible\" id=\"glyph3-8\">\n",
       "<path style=\"stroke:none;\" d=\"M 2.140625 -7.535156 L 2.96875 -7.535156 L 2.96875 -4.382813 C 4.722656 -4.777344 6.230469 -5.363281 7.492188 -6.140625 L 8.097656 -5.484375 C 6.53125 -4.648438 4.820313 -4.027344 2.96875 -3.625 L 2.96875 -1.675781 C 2.964844 -1.339844 3.066406 -1.132813 3.269531 -1.054688 C 3.472656 -0.964844 4.046875 -0.917969 4.992188 -0.921875 C 6.046875 -0.917969 7.21875 -0.988281 8.511719 -1.128906 L 8.511719 -0.324219 C 7.316406 -0.207031 6.195313 -0.152344 5.148438 -0.152344 C 3.753906 -0.152344 2.902344 -0.253906 2.59375 -0.464844 C 2.289063 -0.652344 2.136719 -1.007813 2.140625 -1.523438 Z M 9.425781 -6.707031 C 9.039063 -7.273438 8.640625 -7.730469 8.230469 -8.078125 L 8.703125 -8.441406 C 9.105469 -8.113281 9.515625 -7.679688 9.925781 -7.140625 Z M 8.484375 -5.96875 C 8.175781 -6.480469 7.789063 -6.949219 7.324219 -7.371094 L 7.816406 -7.757813 C 8.207031 -7.429688 8.605469 -6.976563 9.011719 -6.402344 Z M 8.484375 -5.96875 \"/>\n",
       "</symbol>\n",
       "<symbol overflow=\"visible\" id=\"glyph3-9\">\n",
       "<path style=\"stroke:none;\" d=\"M 2.800781 -3.132813 C 2.566406 -3.847656 2.300781 -4.472656 2.011719 -5.011719 L 2.707031 -5.351563 C 3.042969 -4.796875 3.320313 -4.175781 3.546875 -3.488281 Z M 4.738281 -3.625 C 4.535156 -4.339844 4.28125 -4.957031 3.980469 -5.472656 L 4.699219 -5.808594 C 5.027344 -5.261719 5.292969 -4.652344 5.5 -3.980469 Z M 3.042969 -0.585938 C 4.265625 -0.976563 5.214844 -1.605469 5.886719 -2.476563 C 6.457031 -3.203125 6.84375 -4.230469 7.050781 -5.5625 L 7.851563 -5.375 C 7.597656 -3.867188 7.089844 -2.664063 6.335938 -1.765625 C 5.691406 -0.996094 4.773438 -0.386719 3.574219 0.0703125 Z M 3.042969 -0.585938 \"/>\n",
       "</symbol>\n",
       "<symbol overflow=\"visible\" id=\"glyph3-10\">\n",
       "<path style=\"stroke:none;\" d=\"M 7.527344 -6.515625 L 8.058594 -6.121094 C 7.65625 -4.429688 7.003906 -3.039063 6.101563 -1.953125 C 5.296875 -0.992188 4.242188 -0.195313 2.9375 0.453125 L 2.351563 -0.191406 C 3.632813 -0.722656 4.679688 -1.480469 5.484375 -2.464844 C 6.285156 -3.4375 6.835938 -4.546875 7.140625 -5.789063 L 4.320313 -5.789063 C 3.5625 -4.65625 2.75 -3.722656 1.878906 -2.992188 L 1.28125 -3.546875 C 2.699219 -4.6875 3.726563 -6.117188 4.363281 -7.828125 L 5.140625 -7.605469 C 5.074219 -7.382813 4.925781 -7.019531 4.695313 -6.515625 Z M 9.484375 -6.976563 C 9.097656 -7.546875 8.699219 -8.007813 8.289063 -8.355469 L 8.769531 -8.714844 C 9.171875 -8.386719 9.578125 -7.953125 9.988281 -7.414063 Z M 8.546875 -6.242188 C 8.238281 -6.757813 7.851563 -7.226563 7.382813 -7.644531 L 7.875 -8.027344 C 8.265625 -7.707031 8.664063 -7.253906 9.070313 -6.675781 Z M 8.546875 -6.242188 \"/>\n",
       "</symbol>\n",
       "</g>\n",
       "<clipPath id=\"clip1\">\n",
       "  <path d=\"M 59.039063 59.039063 L 258.757813 59.039063 L 258.757813 215.558594 L 59.039063 215.558594 Z M 59.039063 59.039063 \"/>\n",
       "</clipPath>\n",
       "<clipPath id=\"clip2\">\n",
       "  <path d=\"M 0 0 L 289 0 L 289 289 L 0 289 Z M 0 0 \"/>\n",
       "</clipPath>\n",
       "<clipPath id=\"clip3\">\n",
       "  <path d=\"M 59.039063 59.039063 L 258.757813 59.039063 L 258.757813 215.558594 L 59.039063 215.558594 Z M 59.039063 59.039063 \"/>\n",
       "</clipPath>\n",
       "<clipPath id=\"clip4\">\n",
       "  <path d=\"M 0 0 L 289 0 L 289 289 L 0 289 Z M 0 0 \"/>\n",
       "</clipPath>\n",
       "<clipPath id=\"clip5\">\n",
       "  <path d=\"M 347.039063 59.039063 L 546.757813 59.039063 L 546.757813 215.558594 L 347.039063 215.558594 Z M 347.039063 59.039063 \"/>\n",
       "</clipPath>\n",
       "<clipPath id=\"clip6\">\n",
       "  <path d=\"M 288 0 L 577 0 L 577 289 L 288 289 Z M 288 0 \"/>\n",
       "</clipPath>\n",
       "<clipPath id=\"clip7\">\n",
       "  <path d=\"M 347.039063 59.039063 L 546.757813 59.039063 L 546.757813 215.558594 L 347.039063 215.558594 Z M 347.039063 59.039063 \"/>\n",
       "</clipPath>\n",
       "<clipPath id=\"clip8\">\n",
       "  <path d=\"M 288 0 L 577 0 L 577 289 L 288 289 Z M 288 0 \"/>\n",
       "</clipPath>\n",
       "</defs>\n",
       "<g id=\"surface426\">\n",
       "<rect x=\"0\" y=\"0\" width=\"576\" height=\"288\" style=\"fill:rgb(100%,100%,100%);fill-opacity:1;stroke:none;\"/>\n",
       "<g clip-path=\"url(#clip1)\" clip-rule=\"nonzero\">\n",
       "<path style=\"fill:none;stroke-width:1;stroke-linecap:round;stroke-linejoin:round;stroke:rgb(0%,0%,0%);stroke-opacity:1;stroke-dasharray:1,3;stroke-miterlimit:10;\" d=\"M 78.667969 190.800781 L 201.332031 208.800781 \"/>\n",
       "</g>\n",
       "<path style=\"fill:none;stroke-width:1;stroke-linecap:round;stroke-linejoin:round;stroke:rgb(0%,0%,0%);stroke-opacity:1;stroke-miterlimit:10;\" d=\"M 59.039063 190.800781 L 59.039063 82.800781 \"/>\n",
       "<path style=\"fill:none;stroke-width:1;stroke-linecap:round;stroke-linejoin:round;stroke:rgb(0%,0%,0%);stroke-opacity:1;stroke-miterlimit:10;\" d=\"M 59.039063 190.800781 L 51.839844 190.800781 \"/>\n",
       "<path style=\"fill:none;stroke-width:1;stroke-linecap:round;stroke-linejoin:round;stroke:rgb(0%,0%,0%);stroke-opacity:1;stroke-miterlimit:10;\" d=\"M 59.039063 154.800781 L 51.839844 154.800781 \"/>\n",
       "<path style=\"fill:none;stroke-width:1;stroke-linecap:round;stroke-linejoin:round;stroke:rgb(0%,0%,0%);stroke-opacity:1;stroke-miterlimit:10;\" d=\"M 59.039063 118.800781 L 51.839844 118.800781 \"/>\n",
       "<path style=\"fill:none;stroke-width:1;stroke-linecap:round;stroke-linejoin:round;stroke:rgb(0%,0%,0%);stroke-opacity:1;stroke-miterlimit:10;\" d=\"M 59.039063 82.800781 L 51.839844 82.800781 \"/>\n",
       "<g style=\"fill:rgb(0%,0%,0%);fill-opacity:1;\">\n",
       "  <use xlink:href=\"#glyph0-0\" x=\"43.199219\" y=\"193.980469\"/>\n",
       "</g>\n",
       "<g style=\"fill:rgb(0%,0%,0%);fill-opacity:1;\">\n",
       "  <use xlink:href=\"#glyph0-1\" x=\"43.199219\" y=\"157.980469\"/>\n",
       "</g>\n",
       "<g style=\"fill:rgb(0%,0%,0%);fill-opacity:1;\">\n",
       "  <use xlink:href=\"#glyph0-2\" x=\"43.199219\" y=\"121.980469\"/>\n",
       "</g>\n",
       "<g style=\"fill:rgb(0%,0%,0%);fill-opacity:1;\">\n",
       "  <use xlink:href=\"#glyph0-3\" x=\"43.199219\" y=\"89.164063\"/>\n",
       "  <use xlink:href=\"#glyph0-4\" x=\"43.199219\" y=\"82.802246\"/>\n",
       "</g>\n",
       "<path style=\"fill:none;stroke-width:1;stroke-linecap:round;stroke-linejoin:round;stroke:rgb(0%,0%,0%);stroke-opacity:1;stroke-miterlimit:10;\" d=\"M 59.039063 214.558594 L 257.761719 214.558594 L 257.761719 59.039063 L 59.039063 59.039063 L 59.039063 214.558594 \"/>\n",
       "<g clip-path=\"url(#clip2)\" clip-rule=\"nonzero\">\n",
       "<g style=\"fill:rgb(0%,0%,0%);fill-opacity:1;\">\n",
       "  <use xlink:href=\"#glyph1-0\" x=\"130.460938\" y=\"270.71875\"/>\n",
       "  <use xlink:href=\"#glyph1-1\" x=\"137.260254\" y=\"270.71875\"/>\n",
       "  <use xlink:href=\"#glyph1-2\" x=\"144.810303\" y=\"270.71875\"/>\n",
       "  <use xlink:href=\"#glyph1-3\" x=\"152.360352\" y=\"270.71875\"/>\n",
       "  <use xlink:href=\"#glyph1-4\" x=\"160.160645\" y=\"270.71875\"/>\n",
       "  <use xlink:href=\"#glyph1-5\" x=\"163.535889\" y=\"270.71875\"/>\n",
       "  <use xlink:href=\"#glyph1-4\" x=\"167.863281\" y=\"270.71875\"/>\n",
       "  <use xlink:href=\"#glyph1-1\" x=\"171.238525\" y=\"270.71875\"/>\n",
       "  <use xlink:href=\"#glyph1-2\" x=\"178.788574\" y=\"270.71875\"/>\n",
       "</g>\n",
       "<g style=\"fill:rgb(0%,0%,0%);fill-opacity:1;\">\n",
       "  <use xlink:href=\"#glyph2-0\" x=\"14.398438\" y=\"177.96875\"/>\n",
       "  <use xlink:href=\"#glyph2-1\" x=\"14.398438\" y=\"167.080078\"/>\n",
       "  <use xlink:href=\"#glyph2-2\" x=\"14.398438\" y=\"159.969482\"/>\n",
       "  <use xlink:href=\"#glyph2-3\" x=\"14.398438\" y=\"153.096924\"/>\n",
       "  <use xlink:href=\"#glyph2-4\" x=\"14.398438\" y=\"145.546875\"/>\n",
       "  <use xlink:href=\"#glyph2-5\" x=\"14.398438\" y=\"142.171631\"/>\n",
       "  <use xlink:href=\"#glyph2-6\" x=\"14.398438\" y=\"134.621582\"/>\n",
       "  <use xlink:href=\"#glyph2-4\" x=\"14.398438\" y=\"130.794678\"/>\n",
       "  <use xlink:href=\"#glyph2-4\" x=\"14.398438\" y=\"127.419434\"/>\n",
       "  <use xlink:href=\"#glyph2-7\" x=\"14.398438\" y=\"124.044189\"/>\n",
       "  <use xlink:href=\"#glyph2-2\" x=\"14.398438\" y=\"119.716797\"/>\n",
       "  <use xlink:href=\"#glyph2-8\" x=\"14.398438\" y=\"112.844238\"/>\n",
       "  <use xlink:href=\"#glyph2-7\" x=\"14.398438\" y=\"107.070313\"/>\n",
       "  <use xlink:href=\"#glyph2-1\" x=\"14.398438\" y=\"102.74292\"/>\n",
       "</g>\n",
       "</g>\n",
       "<g clip-path=\"url(#clip3)\" clip-rule=\"nonzero\">\n",
       "<path style=\"fill:none;stroke-width:1;stroke-linecap:round;stroke-linejoin:round;stroke:rgb(0%,0%,0%);stroke-opacity:1;stroke-dasharray:4,4;stroke-miterlimit:10;\" d=\"M 78.667969 64.800781 L 201.332031 136.800781 \"/>\n",
       "<path style=\"fill:none;stroke-width:1;stroke-linecap:round;stroke-linejoin:round;stroke:rgb(0%,0%,0%);stroke-opacity:1;stroke-miterlimit:10;\" d=\"M 78.667969 100.800781 L 201.332031 172.800781 \"/>\n",
       "</g>\n",
       "<g style=\"fill:rgb(0%,0%,0%);fill-opacity:1;\">\n",
       "  <use xlink:href=\"#glyph3-0\" x=\"75.449219\" y=\"241.921875\"/>\n",
       "</g>\n",
       "<g style=\"fill:rgb(0%,0%,0%);fill-opacity:1;\">\n",
       "  <use xlink:href=\"#glyph3-1\" x=\"198.003906\" y=\"241.921875\"/>\n",
       "</g>\n",
       "<g clip-path=\"url(#clip4)\" clip-rule=\"nonzero\">\n",
       "<g style=\"fill:rgb(0%,0%,0%);fill-opacity:1;\">\n",
       "  <use xlink:href=\"#glyph1-6\" x=\"207.464844\" y=\"76.097656\"/>\n",
       "  <use xlink:href=\"#glyph1-6\" x=\"210.840088\" y=\"76.097656\"/>\n",
       "  <use xlink:href=\"#glyph1-6\" x=\"214.215332\" y=\"76.097656\"/>\n",
       "  <use xlink:href=\"#glyph1-7\" x=\"217.590576\" y=\"76.097656\"/>\n",
       "  <use xlink:href=\"#glyph1-8\" x=\"226.98999\" y=\"76.097656\"/>\n",
       "  <use xlink:href=\"#glyph1-5\" x=\"233.862549\" y=\"76.097656\"/>\n",
       "  <use xlink:href=\"#glyph1-9\" x=\"238.189941\" y=\"76.097656\"/>\n",
       "  <use xlink:href=\"#glyph1-10\" x=\"245.300537\" y=\"76.097656\"/>\n",
       "</g>\n",
       "<path style=\"fill:none;stroke-width:1;stroke-linecap:round;stroke-linejoin:round;stroke:rgb(0%,0%,0%);stroke-opacity:1;stroke-dasharray:4,4;stroke-miterlimit:10;\" d=\"M 216.769531 85.644531 L 235.371094 85.644531 \"/>\n",
       "<path style=\"fill:none;stroke-width:1;stroke-linecap:round;stroke-linejoin:round;stroke:rgb(0%,0%,0%);stroke-opacity:1;stroke-miterlimit:10;\" d=\"M 216.769531 92.089844 L 235.371094 92.089844 \"/>\n",
       "<path style=\"fill:none;stroke-width:1;stroke-linecap:round;stroke-linejoin:round;stroke:rgb(0%,0%,0%);stroke-opacity:1;stroke-dasharray:1,3;stroke-miterlimit:10;\" d=\"M 216.769531 98.53125 L 235.371094 98.53125 \"/>\n",
       "<g style=\"fill:rgb(0%,0%,0%);fill-opacity:1;\">\n",
       "  <use xlink:href=\"#glyph1-11\" x=\"244.675781\" y=\"90.171875\"/>\n",
       "  <use xlink:href=\"#glyph1-11\" x=\"257.175781\" y=\"90.171875\"/>\n",
       "  <use xlink:href=\"#glyph1-12\" x=\"269.675781\" y=\"90.171875\"/>\n",
       "  <use xlink:href=\"#glyph1-13\" x=\"282.175781\" y=\"90.171875\"/>\n",
       "  <use xlink:href=\"#glyph1-14\" x=\"294.675781\" y=\"90.171875\"/>\n",
       "</g>\n",
       "<g style=\"fill:rgb(0%,0%,0%);fill-opacity:1;\">\n",
       "  <use xlink:href=\"#glyph1-15\" x=\"244.675781\" y=\"96.613281\"/>\n",
       "  <use xlink:href=\"#glyph1-16\" x=\"257.175781\" y=\"96.613281\"/>\n",
       "  <use xlink:href=\"#glyph1-11\" x=\"269.675781\" y=\"96.613281\"/>\n",
       "  <use xlink:href=\"#glyph1-12\" x=\"282.175781\" y=\"96.613281\"/>\n",
       "  <use xlink:href=\"#glyph1-17\" x=\"294.675781\" y=\"96.613281\"/>\n",
       "</g>\n",
       "<g style=\"fill:rgb(0%,0%,0%);fill-opacity:1;\">\n",
       "  <use xlink:href=\"#glyph1-18\" x=\"244.675781\" y=\"103.058594\"/>\n",
       "  <use xlink:href=\"#glyph1-19\" x=\"257.175781\" y=\"103.058594\"/>\n",
       "  <use xlink:href=\"#glyph1-20\" x=\"269.675781\" y=\"103.058594\"/>\n",
       "  <use xlink:href=\"#glyph1-21\" x=\"282.175781\" y=\"103.058594\"/>\n",
       "</g>\n",
       "</g>\n",
       "<g clip-path=\"url(#clip5)\" clip-rule=\"nonzero\">\n",
       "<path style=\"fill:none;stroke-width:1;stroke-linecap:round;stroke-linejoin:round;stroke:rgb(0%,0%,0%);stroke-opacity:1;stroke-dasharray:4,4;stroke-miterlimit:10;\" d=\"M 363.933594 190.800781 L 435.4375 64.800781 L 506.9375 100.800781 \"/>\n",
       "</g>\n",
       "<path style=\"fill:none;stroke-width:1;stroke-linecap:round;stroke-linejoin:round;stroke:rgb(0%,0%,0%);stroke-opacity:1;stroke-miterlimit:10;\" d=\"M 347.039063 190.800781 L 347.039063 82.800781 \"/>\n",
       "<path style=\"fill:none;stroke-width:1;stroke-linecap:round;stroke-linejoin:round;stroke:rgb(0%,0%,0%);stroke-opacity:1;stroke-miterlimit:10;\" d=\"M 347.039063 190.800781 L 339.839844 190.800781 \"/>\n",
       "<path style=\"fill:none;stroke-width:1;stroke-linecap:round;stroke-linejoin:round;stroke:rgb(0%,0%,0%);stroke-opacity:1;stroke-miterlimit:10;\" d=\"M 347.039063 154.800781 L 339.839844 154.800781 \"/>\n",
       "<path style=\"fill:none;stroke-width:1;stroke-linecap:round;stroke-linejoin:round;stroke:rgb(0%,0%,0%);stroke-opacity:1;stroke-miterlimit:10;\" d=\"M 347.039063 118.800781 L 339.839844 118.800781 \"/>\n",
       "<path style=\"fill:none;stroke-width:1;stroke-linecap:round;stroke-linejoin:round;stroke:rgb(0%,0%,0%);stroke-opacity:1;stroke-miterlimit:10;\" d=\"M 347.039063 82.800781 L 339.839844 82.800781 \"/>\n",
       "<g style=\"fill:rgb(0%,0%,0%);fill-opacity:1;\">\n",
       "  <use xlink:href=\"#glyph0-0\" x=\"331.199219\" y=\"193.980469\"/>\n",
       "</g>\n",
       "<g style=\"fill:rgb(0%,0%,0%);fill-opacity:1;\">\n",
       "  <use xlink:href=\"#glyph0-1\" x=\"331.199219\" y=\"157.980469\"/>\n",
       "</g>\n",
       "<g style=\"fill:rgb(0%,0%,0%);fill-opacity:1;\">\n",
       "  <use xlink:href=\"#glyph0-2\" x=\"331.199219\" y=\"121.980469\"/>\n",
       "</g>\n",
       "<g style=\"fill:rgb(0%,0%,0%);fill-opacity:1;\">\n",
       "  <use xlink:href=\"#glyph0-3\" x=\"331.199219\" y=\"89.164063\"/>\n",
       "  <use xlink:href=\"#glyph0-4\" x=\"331.199219\" y=\"82.802246\"/>\n",
       "</g>\n",
       "<path style=\"fill:none;stroke-width:1;stroke-linecap:round;stroke-linejoin:round;stroke:rgb(0%,0%,0%);stroke-opacity:1;stroke-miterlimit:10;\" d=\"M 347.039063 214.558594 L 545.761719 214.558594 L 545.761719 59.039063 L 347.039063 59.039063 L 347.039063 214.558594 \"/>\n",
       "<g clip-path=\"url(#clip6)\" clip-rule=\"nonzero\">\n",
       "<g style=\"fill:rgb(0%,0%,0%);fill-opacity:1;\">\n",
       "  <use xlink:href=\"#glyph1-7\" x=\"430.230469\" y=\"270.71875\"/>\n",
       "  <use xlink:href=\"#glyph1-8\" x=\"439.629883\" y=\"270.71875\"/>\n",
       "  <use xlink:href=\"#glyph1-5\" x=\"446.502441\" y=\"270.71875\"/>\n",
       "  <use xlink:href=\"#glyph1-9\" x=\"450.829834\" y=\"270.71875\"/>\n",
       "  <use xlink:href=\"#glyph1-10\" x=\"457.94043\" y=\"270.71875\"/>\n",
       "</g>\n",
       "<g style=\"fill:rgb(0%,0%,0%);fill-opacity:1;\">\n",
       "  <use xlink:href=\"#glyph2-0\" x=\"302.398438\" y=\"177.96875\"/>\n",
       "  <use xlink:href=\"#glyph2-1\" x=\"302.398438\" y=\"167.080078\"/>\n",
       "  <use xlink:href=\"#glyph2-2\" x=\"302.398438\" y=\"159.969482\"/>\n",
       "  <use xlink:href=\"#glyph2-3\" x=\"302.398438\" y=\"153.096924\"/>\n",
       "  <use xlink:href=\"#glyph2-4\" x=\"302.398438\" y=\"145.546875\"/>\n",
       "  <use xlink:href=\"#glyph2-5\" x=\"302.398438\" y=\"142.171631\"/>\n",
       "  <use xlink:href=\"#glyph2-6\" x=\"302.398438\" y=\"134.621582\"/>\n",
       "  <use xlink:href=\"#glyph2-4\" x=\"302.398438\" y=\"130.794678\"/>\n",
       "  <use xlink:href=\"#glyph2-4\" x=\"302.398438\" y=\"127.419434\"/>\n",
       "  <use xlink:href=\"#glyph2-7\" x=\"302.398438\" y=\"124.044189\"/>\n",
       "  <use xlink:href=\"#glyph2-2\" x=\"302.398438\" y=\"119.716797\"/>\n",
       "  <use xlink:href=\"#glyph2-8\" x=\"302.398438\" y=\"112.844238\"/>\n",
       "  <use xlink:href=\"#glyph2-7\" x=\"302.398438\" y=\"107.070312\"/>\n",
       "  <use xlink:href=\"#glyph2-1\" x=\"302.398438\" y=\"102.74292\"/>\n",
       "</g>\n",
       "</g>\n",
       "<g clip-path=\"url(#clip7)\" clip-rule=\"nonzero\">\n",
       "<path style=\"fill:none;stroke-width:1;stroke-linecap:round;stroke-linejoin:round;stroke:rgb(0%,0%,0%);stroke-opacity:1;stroke-miterlimit:10;\" d=\"M 363.933594 208.800781 L 435.4375 136.800781 L 506.9375 172.800781 \"/>\n",
       "</g>\n",
       "<g style=\"fill:rgb(0%,0%,0%);fill-opacity:1;\">\n",
       "  <use xlink:href=\"#glyph3-2\" x=\"343.734375\" y=\"241.921875\"/>\n",
       "  <use xlink:href=\"#glyph3-3\" x=\"353.834375\" y=\"241.921875\"/>\n",
       "  <use xlink:href=\"#glyph3-4\" x=\"363.934375\" y=\"241.921875\"/>\n",
       "  <use xlink:href=\"#glyph3-5\" x=\"374.034375\" y=\"241.921875\"/>\n",
       "</g>\n",
       "<g style=\"fill:rgb(0%,0%,0%);fill-opacity:1;\">\n",
       "  <use xlink:href=\"#glyph3-6\" x=\"481.6875\" y=\"241.921875\"/>\n",
       "  <use xlink:href=\"#glyph3-7\" x=\"491.7875\" y=\"241.921875\"/>\n",
       "  <use xlink:href=\"#glyph3-8\" x=\"501.8875\" y=\"241.921875\"/>\n",
       "  <use xlink:href=\"#glyph3-9\" x=\"511.9875\" y=\"241.921875\"/>\n",
       "  <use xlink:href=\"#glyph3-10\" x=\"522.0875\" y=\"241.921875\"/>\n",
       "</g>\n",
       "<g clip-path=\"url(#clip8)\" clip-rule=\"nonzero\">\n",
       "<g style=\"fill:rgb(0%,0%,0%);fill-opacity:1;\">\n",
       "  <use xlink:href=\"#glyph1-6\" x=\"514.089844\" y=\"76.652344\"/>\n",
       "  <use xlink:href=\"#glyph1-6\" x=\"517.465088\" y=\"76.652344\"/>\n",
       "  <use xlink:href=\"#glyph1-6\" x=\"520.840332\" y=\"76.652344\"/>\n",
       "  <use xlink:href=\"#glyph1-0\" x=\"524.215576\" y=\"76.652344\"/>\n",
       "  <use xlink:href=\"#glyph1-1\" x=\"531.014893\" y=\"76.652344\"/>\n",
       "  <use xlink:href=\"#glyph1-2\" x=\"538.564941\" y=\"76.652344\"/>\n",
       "  <use xlink:href=\"#glyph1-3\" x=\"546.11499\" y=\"76.652344\"/>\n",
       "  <use xlink:href=\"#glyph1-4\" x=\"553.915283\" y=\"76.652344\"/>\n",
       "  <use xlink:href=\"#glyph1-5\" x=\"557.290527\" y=\"76.652344\"/>\n",
       "  <use xlink:href=\"#glyph1-4\" x=\"561.61792\" y=\"76.652344\"/>\n",
       "  <use xlink:href=\"#glyph1-1\" x=\"564.993164\" y=\"76.652344\"/>\n",
       "  <use xlink:href=\"#glyph1-2\" x=\"572.543213\" y=\"76.652344\"/>\n",
       "</g>\n",
       "<path style=\"fill:none;stroke-width:1;stroke-linecap:round;stroke-linejoin:round;stroke:rgb(0%,0%,0%);stroke-opacity:1;stroke-dasharray:4,4;stroke-miterlimit:10;\" d=\"M 523.390625 85.644531 L 541.996094 85.644531 \"/>\n",
       "<path style=\"fill:none;stroke-width:1;stroke-linecap:round;stroke-linejoin:round;stroke:rgb(0%,0%,0%);stroke-opacity:1;stroke-miterlimit:10;\" d=\"M 523.390625 92.089844 L 541.996094 92.089844 \"/>\n",
       "<g style=\"fill:rgb(0%,0%,0%);fill-opacity:1;\">\n",
       "  <use xlink:href=\"#glyph1-22\" x=\"551.296875\" y=\"90.171875\"/>\n",
       "</g>\n",
       "<g style=\"fill:rgb(0%,0%,0%);fill-opacity:1;\">\n",
       "  <use xlink:href=\"#glyph1-23\" x=\"551.296875\" y=\"96.613281\"/>\n",
       "</g>\n",
       "</g>\n",
       "</g>\n",
       "</svg>\n"
      ],
      "text/plain": [
       "plot without title"
      ]
     },
     "metadata": {
      "image/svg+xml": {
       "isolated": true
      }
     },
     "output_type": "display_data"
    }
   ],
   "source": [
    "Cairo(type=\"raster\")\n",
    "par(family = \"IPAexGothic\")\n",
    "par(cex.axis = 0.8)\n",
    "layout(matrix(c(1, 2), 1, 2, byrow = TRUE))\n",
    "with(d3.long, {\n",
    "    interaction.plot(condition, water, taste)\n",
    "    interaction.plot(water, condition, taste)\n",
    "})\n",
    "dev.off()"
   ]
  },
  {
   "cell_type": "code",
   "execution_count": 67,
   "metadata": {
    "collapsed": false
   },
   "outputs": [
    {
     "name": "stderr",
     "output_type": "stream",
     "text": [
      "Warning message:\n",
      ": package 'gridExtra' was built under R version 3.3.1\n",
      "Attaching package: 'gridExtra'\n",
      "\n",
      "The following object is masked from 'package:dplyr':\n",
      "\n",
      "    combine\n",
      "\n"
     ]
    }
   ],
   "source": [
    "library(grid)\n",
    "library(gridExtra)"
   ]
  },
  {
   "cell_type": "code",
   "execution_count": 68,
   "metadata": {
    "collapsed": false
   },
   "outputs": [
    {
     "data": {
      "text/html": [
       "<strong>png:</strong> 2"
      ],
      "text/latex": [
       "\\textbf{png:} 2"
      ],
      "text/markdown": [
       "**png:** 2"
      ],
      "text/plain": [
       "png \n",
       "  2 "
      ]
     },
     "metadata": {},
     "output_type": "display_data"
    },
    {
     "data": {
      "image/png": "[encoded data removed]",
      "image/svg+xml": [
       "<?xml version=\"1.0\" encoding=\"UTF-8\"?>\n",
       "<svg xmlns=\"http://www.w3.org/2000/svg\" xmlns:xlink=\"http://www.w3.org/1999/xlink\" width=\"576pt\" height=\"288pt\" viewBox=\"0 0 576 288\" version=\"1.1\">\n",
       "<defs>\n",
       "<g>\n",
       "<symbol overflow=\"visible\" id=\"glyph0-0\">\n",
       "<path style=\"stroke:none;\" d=\"M 0.386719 -1.742188 L 1.246094 -1.816406 C 1.304688 -1.398438 1.453125 -1.082031 1.6875 -0.875 C 1.917969 -0.660156 2.195313 -0.554688 2.523438 -0.558594 C 2.914063 -0.554688 3.246094 -0.703125 3.523438 -1.003906 C 3.792969 -1.296875 3.929688 -1.691406 3.933594 -2.183594 C 3.929688 -2.648438 3.800781 -3.015625 3.539063 -3.285156 C 3.277344 -3.554688 2.933594 -3.691406 2.511719 -3.691406 C 2.246094 -3.691406 2.007813 -3.628906 1.796875 -3.511719 C 1.582031 -3.386719 1.414063 -3.234375 1.296875 -3.046875 L 0.53125 -3.148438 L 1.175781 -6.566406 L 4.488281 -6.566406 L 4.488281 -5.785156 L 1.828125 -5.785156 L 1.472656 -3.996094 C 1.867188 -4.273438 2.289063 -4.410156 2.730469 -4.414063 C 3.308594 -4.410156 3.796875 -4.210938 4.199219 -3.808594 C 4.597656 -3.40625 4.796875 -2.886719 4.800781 -2.257813 C 4.796875 -1.648438 4.621094 -1.128906 4.273438 -0.695313 C 3.84375 -0.15625 3.261719 0.109375 2.523438 0.113281 C 1.917969 0.109375 1.425781 -0.0546875 1.042969 -0.394531 C 0.660156 -0.730469 0.441406 -1.179688 0.386719 -1.742188 Z M 0.386719 -1.742188 \"/>\n",
       "</symbol>\n",
       "<symbol overflow=\"visible\" id=\"glyph0-1\">\n",
       "<path style=\"stroke:none;\" d=\"M 0.84375 0 L 0.84375 -0.929688 L 1.777344 -0.929688 L 1.777344 0 Z M 0.84375 0 \"/>\n",
       "</symbol>\n",
       "<symbol overflow=\"visible\" id=\"glyph0-2\">\n",
       "<path style=\"stroke:none;\" d=\"M 0.386719 -3.28125 C 0.386719 -4.070313 0.464844 -4.703125 0.628906 -5.183594 C 0.785156 -5.660156 1.027344 -6.03125 1.347656 -6.292969 C 1.667969 -6.550781 2.070313 -6.679688 2.554688 -6.683594 C 2.914063 -6.679688 3.226563 -6.609375 3.496094 -6.46875 C 3.765625 -6.324219 3.988281 -6.117188 4.164063 -5.847656 C 4.335938 -5.574219 4.472656 -5.242188 4.574219 -4.855469 C 4.671875 -4.464844 4.722656 -3.941406 4.726563 -3.28125 C 4.722656 -2.5 4.640625 -1.867188 4.484375 -1.390625 C 4.320313 -0.90625 4.082031 -0.535156 3.765625 -0.277344 C 3.445313 -0.015625 3.042969 0.109375 2.554688 0.113281 C 1.914063 0.109375 1.410156 -0.117188 1.042969 -0.578125 C 0.605469 -1.128906 0.386719 -2.03125 0.386719 -3.28125 Z M 1.226563 -3.28125 C 1.222656 -2.1875 1.351563 -1.460938 1.609375 -1.101563 C 1.863281 -0.738281 2.179688 -0.554688 2.554688 -0.558594 C 2.929688 -0.554688 3.246094 -0.738281 3.503906 -1.101563 C 3.757813 -1.464844 3.882813 -2.191406 3.886719 -3.28125 C 3.882813 -4.375 3.757813 -5.101563 3.503906 -5.464844 C 3.246094 -5.824219 2.925781 -6.003906 2.546875 -6.007813 C 2.167969 -6.003906 1.867188 -5.847656 1.648438 -5.53125 C 1.363281 -5.125 1.222656 -4.375 1.226563 -3.28125 Z M 1.226563 -3.28125 \"/>\n",
       "</symbol>\n",
       "<symbol overflow=\"visible\" id=\"glyph0-3\">\n",
       "<path style=\"stroke:none;\" d=\"M 0.441406 -5.785156 L 0.441406 -6.570313 L 4.75 -6.570313 L 4.75 -5.933594 C 4.324219 -5.480469 3.902344 -4.882813 3.488281 -4.136719 C 3.070313 -3.386719 2.75 -2.617188 2.523438 -1.828125 C 2.359375 -1.273438 2.253906 -0.664063 2.210938 0 L 1.371094 0 C 1.378906 -0.523438 1.480469 -1.15625 1.679688 -1.898438 C 1.875 -2.640625 2.15625 -3.355469 2.527344 -4.042969 C 2.890625 -4.730469 3.28125 -5.308594 3.699219 -5.785156 Z M 0.441406 -5.785156 \"/>\n",
       "</symbol>\n",
       "<symbol overflow=\"visible\" id=\"glyph0-4\">\n",
       "<path style=\"stroke:none;\" d=\"M 3.464844 0 L 2.648438 0 L 2.648438 -5.207031 C 2.449219 -5.015625 2.1875 -4.828125 1.871094 -4.644531 C 1.550781 -4.453125 1.265625 -4.3125 1.011719 -4.222656 L 1.011719 -5.011719 C 1.46875 -5.222656 1.867188 -5.484375 2.210938 -5.792969 C 2.550781 -6.097656 2.792969 -6.394531 2.9375 -6.683594 L 3.464844 -6.683594 Z M 3.464844 0 \"/>\n",
       "</symbol>\n",
       "<symbol overflow=\"visible\" id=\"glyph0-5\">\n",
       "<path style=\"stroke:none;\" d=\"M -0.0117188 0 L 2.542969 -6.65625 L 3.492188 -6.65625 L 6.214844 0 L 5.214844 0 L 4.4375 -2.015625 L 1.652344 -2.015625 L 0.921875 0 Z M 1.90625 -2.734375 L 4.164063 -2.734375 L 3.46875 -4.578125 C 3.257813 -5.132813 3.097656 -5.59375 2.996094 -5.957031 C 2.910156 -5.527344 2.792969 -5.105469 2.636719 -4.6875 Z M 1.90625 -2.734375 \"/>\n",
       "</symbol>\n",
       "<symbol overflow=\"visible\" id=\"glyph0-6\">\n",
       "<path style=\"stroke:none;\" d=\"M 0.679688 0 L 0.679688 -6.65625 L 3.179688 -6.65625 C 3.683594 -6.65625 4.089844 -6.585938 4.402344 -6.453125 C 4.707031 -6.316406 4.949219 -6.109375 5.125 -5.832031 C 5.296875 -5.550781 5.382813 -5.257813 5.386719 -4.953125 C 5.382813 -4.664063 5.304688 -4.398438 5.152344 -4.148438 C 4.996094 -3.898438 4.765625 -3.695313 4.453125 -3.542969 C 4.855469 -3.421875 5.164063 -3.21875 5.382813 -2.9375 C 5.597656 -2.648438 5.707031 -2.3125 5.707031 -1.929688 C 5.707031 -1.613281 5.640625 -1.324219 5.507813 -1.058594 C 5.375 -0.789063 5.210938 -0.582031 5.019531 -0.441406 C 4.824219 -0.292969 4.582031 -0.183594 4.292969 -0.109375 C 4 -0.0351563 3.640625 0 3.21875 0 Z M 1.5625 -3.859375 L 3 -3.859375 C 3.390625 -3.855469 3.667969 -3.882813 3.839844 -3.9375 C 4.0625 -4 4.234375 -4.109375 4.347656 -4.265625 C 4.460938 -4.421875 4.515625 -4.617188 4.519531 -4.851563 C 4.515625 -5.070313 4.464844 -5.261719 4.359375 -5.429688 C 4.25 -5.597656 4.097656 -5.714844 3.902344 -5.777344 C 3.707031 -5.839844 3.371094 -5.871094 2.894531 -5.871094 L 1.5625 -5.871094 Z M 1.5625 -0.785156 L 3.21875 -0.785156 C 3.5 -0.785156 3.703125 -0.792969 3.820313 -0.816406 C 4.023438 -0.847656 4.191406 -0.910156 4.328125 -0.996094 C 4.460938 -1.082031 4.574219 -1.203125 4.664063 -1.367188 C 4.75 -1.527344 4.792969 -1.714844 4.796875 -1.929688 C 4.792969 -2.171875 4.730469 -2.386719 4.605469 -2.574219 C 4.476563 -2.753906 4.296875 -2.882813 4.074219 -2.960938 C 3.847656 -3.03125 3.523438 -3.070313 3.101563 -3.074219 L 1.5625 -3.074219 Z M 1.5625 -0.785156 \"/>\n",
       "</symbol>\n",
       "<symbol overflow=\"visible\" id=\"glyph0-7\">\n",
       "<path style=\"stroke:none;\" d=\"M 1.164063 0 L 1.164063 -5.8125 L 5.8125 -5.8125 L 5.8125 0 Z M 1.308594 -0.144531 L 5.667969 -0.144531 L 5.667969 -5.667969 L 1.308594 -5.667969 Z M 1.308594 -0.144531 \"/>\n",
       "</symbol>\n",
       "<symbol overflow=\"visible\" id=\"glyph1-0\">\n",
       "<path style=\"stroke:none;\" d=\"M 4.648438 -2.183594 L 5.644531 -2.054688 C 5.53125 -1.367188 5.253906 -0.832031 4.808594 -0.445313 C 4.359375 -0.0625 3.808594 0.128906 3.160156 0.132813 C 2.339844 0.128906 1.683594 -0.132813 1.191406 -0.664063 C 0.691406 -1.195313 0.445313 -1.960938 0.449219 -2.960938 C 0.445313 -3.601563 0.550781 -4.164063 0.769531 -4.648438 C 0.980469 -5.128906 1.304688 -5.492188 1.742188 -5.734375 C 2.175781 -5.972656 2.652344 -6.09375 3.167969 -6.097656 C 3.8125 -6.09375 4.339844 -5.929688 4.753906 -5.605469 C 5.164063 -5.277344 5.429688 -4.8125 5.546875 -4.210938 L 4.566406 -4.058594 C 4.46875 -4.457031 4.304688 -4.757813 4.066406 -4.960938 C 3.828125 -5.160156 3.539063 -5.261719 3.207031 -5.265625 C 2.691406 -5.261719 2.277344 -5.078125 1.964844 -4.71875 C 1.644531 -4.351563 1.488281 -3.777344 1.488281 -2.988281 C 1.488281 -2.183594 1.640625 -1.597656 1.949219 -1.238281 C 2.253906 -0.871094 2.652344 -0.691406 3.148438 -0.695313 C 3.542969 -0.691406 3.875 -0.8125 4.144531 -1.058594 C 4.40625 -1.300781 4.574219 -1.675781 4.648438 -2.183594 Z M 4.648438 -2.183594 \"/>\n",
       "</symbol>\n",
       "<symbol overflow=\"visible\" id=\"glyph1-1\">\n",
       "<path style=\"stroke:none;\" d=\"M 0.382813 -2.980469 C 0.378906 -4.082031 0.6875 -4.902344 1.304688 -5.4375 C 1.8125 -5.875 2.4375 -6.09375 3.179688 -6.097656 C 3.996094 -6.09375 4.664063 -5.824219 5.1875 -5.292969 C 5.703125 -4.753906 5.964844 -4.011719 5.96875 -3.066406 C 5.964844 -2.292969 5.847656 -1.691406 5.621094 -1.253906 C 5.386719 -0.8125 5.054688 -0.46875 4.617188 -0.230469 C 4.175781 0.0117188 3.695313 0.128906 3.179688 0.132813 C 2.339844 0.128906 1.664063 -0.136719 1.152344 -0.667969 C 0.636719 -1.203125 0.378906 -1.972656 0.382813 -2.980469 Z M 1.421875 -2.980469 C 1.417969 -2.214844 1.585938 -1.644531 1.921875 -1.265625 C 2.253906 -0.882813 2.671875 -0.691406 3.179688 -0.695313 C 3.675781 -0.691406 4.09375 -0.882813 4.429688 -1.269531 C 4.761719 -1.648438 4.925781 -2.230469 4.929688 -3.015625 C 4.925781 -3.75 4.757813 -4.308594 4.425781 -4.691406 C 4.089844 -5.070313 3.675781 -5.261719 3.179688 -5.261719 C 2.671875 -5.261719 2.253906 -5.070313 1.921875 -4.695313 C 1.585938 -4.3125 1.417969 -3.742188 1.421875 -2.980469 Z M 1.421875 -2.980469 \"/>\n",
       "</symbol>\n",
       "<symbol overflow=\"visible\" id=\"glyph1-2\">\n",
       "<path style=\"stroke:none;\" d=\"M 0.757813 0 L 0.757813 -5.964844 L 1.667969 -5.964844 L 1.667969 -5.117188 C 2.101563 -5.765625 2.734375 -6.09375 3.566406 -6.097656 C 3.921875 -6.09375 4.25 -6.027344 4.554688 -5.902344 C 4.851563 -5.769531 5.078125 -5.601563 5.230469 -5.394531 C 5.378906 -5.183594 5.484375 -4.933594 5.546875 -4.648438 C 5.582031 -4.457031 5.601563 -4.132813 5.605469 -3.667969 L 5.605469 0 L 4.59375 0 L 4.59375 -3.628906 C 4.59375 -4.035156 4.554688 -4.34375 4.476563 -4.550781 C 4.398438 -4.75 4.257813 -4.914063 4.058594 -5.039063 C 3.855469 -5.160156 3.621094 -5.21875 3.351563 -5.222656 C 2.921875 -5.21875 2.550781 -5.082031 2.238281 -4.8125 C 1.925781 -4.535156 1.769531 -4.019531 1.769531 -3.257813 L 1.769531 0 Z M 0.757813 0 \"/>\n",
       "</symbol>\n",
       "<symbol overflow=\"visible\" id=\"glyph1-3\">\n",
       "<path style=\"stroke:none;\" d=\"M 4.625 0 L 4.625 -0.753906 C 4.242188 -0.164063 3.6875 0.128906 2.960938 0.132813 C 2.480469 0.128906 2.042969 0 1.648438 -0.257813 C 1.246094 -0.519531 0.9375 -0.882813 0.722656 -1.355469 C 0.5 -1.824219 0.390625 -2.367188 0.394531 -2.976563 C 0.390625 -3.570313 0.492188 -4.109375 0.691406 -4.59375 C 0.886719 -5.078125 1.183594 -5.449219 1.582031 -5.710938 C 1.980469 -5.964844 2.421875 -6.09375 2.914063 -6.097656 C 3.269531 -6.09375 3.589844 -6.019531 3.875 -5.871094 C 4.152344 -5.71875 4.382813 -5.519531 4.558594 -5.277344 L 4.558594 -8.230469 L 5.566406 -8.230469 L 5.566406 0 Z M 1.433594 -2.976563 C 1.429688 -2.210938 1.589844 -1.636719 1.914063 -1.261719 C 2.234375 -0.878906 2.613281 -0.691406 3.054688 -0.695313 C 3.492188 -0.691406 3.867188 -0.871094 4.179688 -1.238281 C 4.484375 -1.597656 4.640625 -2.148438 4.644531 -2.890625 C 4.640625 -3.703125 4.484375 -4.304688 4.171875 -4.6875 C 3.855469 -5.070313 3.464844 -5.261719 3.007813 -5.261719 C 2.554688 -5.261719 2.179688 -5.078125 1.882813 -4.710938 C 1.578125 -4.34375 1.429688 -3.765625 1.433594 -2.976563 Z M 1.433594 -2.976563 \"/>\n",
       "</symbol>\n",
       "<symbol overflow=\"visible\" id=\"glyph1-4\">\n",
       "<path style=\"stroke:none;\" d=\"M 0.765625 -7.070313 L 0.765625 -8.230469 L 1.773438 -8.230469 L 1.773438 -7.070313 Z M 0.765625 0 L 0.765625 -5.964844 L 1.773438 -5.964844 L 1.773438 0 Z M 0.765625 0 \"/>\n",
       "</symbol>\n",
       "<symbol overflow=\"visible\" id=\"glyph1-5\">\n",
       "<path style=\"stroke:none;\" d=\"M 2.964844 -0.902344 L 3.109375 -0.0117188 C 2.824219 0.046875 2.570313 0.0742188 2.347656 0.078125 C 1.976563 0.0742188 1.691406 0.0195313 1.492188 -0.09375 C 1.289063 -0.210938 1.148438 -0.363281 1.066406 -0.550781 C 0.984375 -0.738281 0.941406 -1.136719 0.945313 -1.746094 L 0.945313 -5.175781 L 0.203125 -5.175781 L 0.203125 -5.964844 L 0.945313 -5.964844 L 0.945313 -7.441406 L 1.949219 -8.046875 L 1.949219 -5.964844 L 2.964844 -5.964844 L 2.964844 -5.175781 L 1.949219 -5.175781 L 1.949219 -1.691406 C 1.945313 -1.398438 1.960938 -1.210938 2 -1.132813 C 2.03125 -1.046875 2.089844 -0.984375 2.175781 -0.9375 C 2.253906 -0.886719 2.371094 -0.859375 2.519531 -0.863281 C 2.632813 -0.859375 2.78125 -0.875 2.964844 -0.902344 Z M 2.964844 -0.902344 \"/>\n",
       "</symbol>\n",
       "<symbol overflow=\"visible\" id=\"glyph1-6\">\n",
       "<path style=\"stroke:none;\" d=\"M 1.859375 0 L 0.0351563 -5.964844 L 1.078125 -5.964844 L 2.027344 -2.519531 L 2.382813 -1.242188 C 2.394531 -1.304688 2.496094 -1.710938 2.691406 -2.46875 L 3.640625 -5.964844 L 4.675781 -5.964844 L 5.570313 -2.503906 L 5.867188 -1.363281 L 6.210938 -2.515625 L 7.234375 -5.964844 L 8.214844 -5.964844 L 6.351563 0 L 5.300781 0 L 4.351563 -3.570313 L 4.121094 -4.585938 L 2.914063 0 Z M 1.859375 0 \"/>\n",
       "</symbol>\n",
       "<symbol overflow=\"visible\" id=\"glyph1-7\">\n",
       "<path style=\"stroke:none;\" d=\"M 4.648438 -0.734375 C 4.269531 -0.414063 3.910156 -0.191406 3.566406 -0.0625 C 3.21875 0.0664063 2.847656 0.128906 2.453125 0.132813 C 1.796875 0.128906 1.292969 -0.0273438 0.941406 -0.34375 C 0.585938 -0.660156 0.410156 -1.070313 0.414063 -1.570313 C 0.410156 -1.863281 0.476563 -2.128906 0.613281 -2.371094 C 0.742188 -2.609375 0.917969 -2.804688 1.136719 -2.953125 C 1.351563 -3.097656 1.59375 -3.207031 1.863281 -3.285156 C 2.058594 -3.335938 2.355469 -3.386719 2.761719 -3.4375 C 3.574219 -3.53125 4.175781 -3.648438 4.566406 -3.785156 C 4.566406 -3.921875 4.570313 -4.007813 4.570313 -4.046875 C 4.570313 -4.457031 4.472656 -4.746094 4.285156 -4.917969 C 4.023438 -5.144531 3.640625 -5.261719 3.132813 -5.261719 C 2.65625 -5.261719 2.304688 -5.175781 2.082031 -5.011719 C 1.851563 -4.839844 1.683594 -4.546875 1.578125 -4.128906 L 0.589844 -4.261719 C 0.675781 -4.683594 0.824219 -5.027344 1.03125 -5.285156 C 1.238281 -5.542969 1.535156 -5.742188 1.925781 -5.886719 C 2.3125 -6.023438 2.765625 -6.09375 3.28125 -6.097656 C 3.789063 -6.09375 4.199219 -6.035156 4.519531 -5.917969 C 4.832031 -5.796875 5.066406 -5.644531 5.21875 -5.464844 C 5.367188 -5.28125 5.472656 -5.050781 5.535156 -4.777344 C 5.566406 -4.601563 5.582031 -4.292969 5.585938 -3.847656 L 5.585938 -2.5 C 5.582031 -1.558594 5.605469 -0.964844 5.648438 -0.714844 C 5.691406 -0.464844 5.777344 -0.226563 5.90625 0 L 4.851563 0 C 4.746094 -0.207031 4.675781 -0.449219 4.648438 -0.734375 Z M 4.566406 -2.992188 C 4.195313 -2.839844 3.644531 -2.710938 2.914063 -2.609375 C 2.492188 -2.546875 2.199219 -2.480469 2.03125 -2.40625 C 1.855469 -2.332031 1.722656 -2.222656 1.632813 -2.078125 C 1.535156 -1.933594 1.488281 -1.773438 1.492188 -1.601563 C 1.488281 -1.328125 1.589844 -1.105469 1.796875 -0.925781 C 2 -0.746094 2.300781 -0.65625 2.695313 -0.65625 C 3.085938 -0.65625 3.429688 -0.738281 3.734375 -0.910156 C 4.03125 -1.078125 4.253906 -1.3125 4.402344 -1.613281 C 4.507813 -1.835938 4.5625 -2.171875 4.566406 -2.621094 Z M 4.566406 -2.992188 \"/>\n",
       "</symbol>\n",
       "<symbol overflow=\"visible\" id=\"glyph1-8\">\n",
       "<path style=\"stroke:none;\" d=\"M 4.839844 -1.921875 L 5.882813 -1.792969 C 5.71875 -1.179688 5.414063 -0.703125 4.96875 -0.371094 C 4.523438 -0.0351563 3.953125 0.128906 3.261719 0.132813 C 2.386719 0.128906 1.695313 -0.136719 1.1875 -0.671875 C 0.675781 -1.207031 0.421875 -1.960938 0.421875 -2.929688 C 0.421875 -3.933594 0.679688 -4.710938 1.195313 -5.265625 C 1.710938 -5.816406 2.378906 -6.09375 3.207031 -6.097656 C 4 -6.09375 4.652344 -5.820313 5.160156 -5.28125 C 5.664063 -4.734375 5.917969 -3.972656 5.917969 -2.992188 C 5.917969 -2.929688 5.914063 -2.839844 5.914063 -2.722656 L 1.464844 -2.722656 C 1.503906 -2.066406 1.6875 -1.566406 2.019531 -1.21875 C 2.351563 -0.867188 2.769531 -0.691406 3.269531 -0.695313 C 3.636719 -0.691406 3.949219 -0.789063 4.214844 -0.988281 C 4.472656 -1.179688 4.683594 -1.492188 4.839844 -1.921875 Z M 1.523438 -3.554688 L 4.851563 -3.554688 C 4.804688 -4.054688 4.675781 -4.429688 4.46875 -4.683594 C 4.144531 -5.066406 3.726563 -5.261719 3.21875 -5.265625 C 2.75 -5.261719 2.359375 -5.105469 2.042969 -4.800781 C 1.726563 -4.488281 1.554688 -4.074219 1.523438 -3.554688 Z M 1.523438 -3.554688 \"/>\n",
       "</symbol>\n",
       "<symbol overflow=\"visible\" id=\"glyph1-9\">\n",
       "<path style=\"stroke:none;\" d=\"M 0.746094 0 L 0.746094 -5.964844 L 1.65625 -5.964844 L 1.65625 -5.058594 C 1.886719 -5.480469 2.101563 -5.761719 2.296875 -5.894531 C 2.492188 -6.027344 2.707031 -6.09375 2.949219 -6.097656 C 3.285156 -6.09375 3.632813 -5.984375 3.988281 -5.773438 L 3.640625 -4.835938 C 3.390625 -4.976563 3.144531 -5.050781 2.898438 -5.054688 C 2.675781 -5.050781 2.476563 -4.984375 2.300781 -4.855469 C 2.125 -4.71875 2 -4.535156 1.925781 -4.300781 C 1.8125 -3.941406 1.757813 -3.546875 1.757813 -3.121094 L 1.757813 0 Z M 0.746094 0 \"/>\n",
       "</symbol>\n",
       "<symbol overflow=\"visible\" id=\"glyph2-0\">\n",
       "<path style=\"stroke:none;\" d=\"M -0.902344 -2.964844 L -0.0117188 -3.109375 C 0.046875 -2.824219 0.0742188 -2.570313 0.078125 -2.347656 C 0.0742188 -1.976563 0.0195313 -1.691406 -0.09375 -1.492188 C -0.210938 -1.289063 -0.363281 -1.148438 -0.550781 -1.066406 C -0.738281 -0.984375 -1.136719 -0.941406 -1.746094 -0.945313 L -5.175781 -0.945313 L -5.175781 -0.203125 L -5.964844 -0.203125 L -5.964844 -0.945313 L -7.441406 -0.945313 L -8.046875 -1.949219 L -5.964844 -1.949219 L -5.964844 -2.964844 L -5.175781 -2.964844 L -5.175781 -1.949219 L -1.691406 -1.949219 C -1.398438 -1.945313 -1.210938 -1.960938 -1.132813 -2 C -1.046875 -2.03125 -0.984375 -2.089844 -0.9375 -2.175781 C -0.886719 -2.253906 -0.859375 -2.371094 -0.863281 -2.519531 C -0.859375 -2.632813 -0.875 -2.78125 -0.902344 -2.964844 Z M -0.902344 -2.964844 \"/>\n",
       "</symbol>\n",
       "<symbol overflow=\"visible\" id=\"glyph2-1\">\n",
       "<path style=\"stroke:none;\" d=\"M -0.734375 -4.648438 C -0.414063 -4.269531 -0.191406 -3.910156 -0.0585938 -3.566406 C 0.0703125 -3.21875 0.132813 -2.847656 0.136719 -2.453125 C 0.132813 -1.796875 -0.0234375 -1.292969 -0.34375 -0.941406 C -0.660156 -0.585938 -1.070313 -0.410156 -1.570313 -0.414063 C -1.863281 -0.410156 -2.128906 -0.476563 -2.371094 -0.613281 C -2.609375 -0.742188 -2.804688 -0.917969 -2.953125 -1.136719 C -3.097656 -1.351563 -3.207031 -1.59375 -3.285156 -1.863281 C -3.335938 -2.058594 -3.386719 -2.355469 -3.4375 -2.761719 C -3.53125 -3.574219 -3.648438 -4.175781 -3.785156 -4.566406 C -3.921875 -4.566406 -4.007813 -4.570313 -4.046875 -4.570313 C -4.457031 -4.570313 -4.746094 -4.472656 -4.917969 -4.285156 C -5.144531 -4.023438 -5.261719 -3.640625 -5.261719 -3.132813 C -5.261719 -2.65625 -5.175781 -2.304688 -5.011719 -2.082031 C -4.839844 -1.851563 -4.546875 -1.683594 -4.128906 -1.578125 L -4.261719 -0.589844 C -4.683594 -0.675781 -5.027344 -0.824219 -5.285156 -1.03125 C -5.542969 -1.238281 -5.742188 -1.535156 -5.886719 -1.925781 C -6.023438 -2.3125 -6.09375 -2.765625 -6.097656 -3.28125 C -6.09375 -3.789063 -6.035156 -4.199219 -5.917969 -4.519531 C -5.796875 -4.832031 -5.644531 -5.066406 -5.464844 -5.21875 C -5.28125 -5.367188 -5.050781 -5.472656 -4.777344 -5.535156 C -4.601563 -5.566406 -4.292969 -5.582031 -3.847656 -5.585938 L -2.5 -5.585938 C -1.558594 -5.582031 -0.964844 -5.605469 -0.714844 -5.648438 C -0.464844 -5.691406 -0.226563 -5.777344 0 -5.90625 L 0 -4.851563 C -0.207031 -4.746094 -0.449219 -4.675781 -0.734375 -4.648438 Z M -2.992188 -4.566406 C -2.839844 -4.195313 -2.710938 -3.644531 -2.609375 -2.914063 C -2.546875 -2.492188 -2.480469 -2.199219 -2.40625 -2.03125 C -2.332031 -1.855469 -2.222656 -1.722656 -2.078125 -1.632813 C -1.933594 -1.535156 -1.773438 -1.488281 -1.601563 -1.492188 C -1.328125 -1.488281 -1.105469 -1.589844 -0.925781 -1.796875 C -0.746094 -2 -0.65625 -2.300781 -0.65625 -2.695313 C -0.65625 -3.085938 -0.738281 -3.429688 -0.910156 -3.734375 C -1.078125 -4.03125 -1.3125 -4.253906 -1.613281 -4.402344 C -1.835938 -4.507813 -2.171875 -4.5625 -2.621094 -4.566406 Z M -2.992188 -4.566406 \"/>\n",
       "</symbol>\n",
       "<symbol overflow=\"visible\" id=\"glyph2-2\">\n",
       "<path style=\"stroke:none;\" d=\"M -1.78125 -0.355469 L -1.9375 -1.351563 C -1.535156 -1.40625 -1.226563 -1.5625 -1.015625 -1.820313 C -0.796875 -2.074219 -0.691406 -2.433594 -0.695313 -2.898438 C -0.691406 -3.359375 -0.785156 -3.703125 -0.976563 -3.929688 C -1.164063 -4.152344 -1.386719 -4.265625 -1.644531 -4.265625 C -1.871094 -4.265625 -2.050781 -4.164063 -2.183594 -3.96875 C -2.273438 -3.828125 -2.386719 -3.484375 -2.527344 -2.9375 C -2.710938 -2.191406 -2.875 -1.679688 -3.011719 -1.394531 C -3.148438 -1.105469 -3.335938 -0.886719 -3.578125 -0.742188 C -3.816406 -0.59375 -4.082031 -0.519531 -4.378906 -0.523438 C -4.640625 -0.519531 -4.886719 -0.582031 -5.117188 -0.703125 C -5.339844 -0.824219 -5.53125 -0.988281 -5.683594 -1.203125 C -5.796875 -1.355469 -5.894531 -1.570313 -5.976563 -1.84375 C -6.054688 -2.113281 -6.09375 -2.40625 -6.097656 -2.71875 C -6.09375 -3.183594 -6.027344 -3.59375 -5.894531 -3.949219 C -5.761719 -4.300781 -5.578125 -4.558594 -5.347656 -4.730469 C -5.117188 -4.894531 -4.808594 -5.011719 -4.425781 -5.082031 L -4.289063 -4.09375 C -4.59375 -4.046875 -4.832031 -3.917969 -5.007813 -3.703125 C -5.175781 -3.484375 -5.261719 -3.179688 -5.265625 -2.789063 C -5.261719 -2.324219 -5.183594 -1.992188 -5.035156 -1.796875 C -4.878906 -1.597656 -4.699219 -1.5 -4.496094 -1.5 C -4.363281 -1.5 -4.246094 -1.539063 -4.144531 -1.621094 C -4.03125 -1.703125 -3.941406 -1.832031 -3.875 -2.011719 C -3.835938 -2.105469 -3.75 -2.402344 -3.617188 -2.902344 C -3.421875 -3.613281 -3.265625 -4.113281 -3.144531 -4.398438 C -3.023438 -4.679688 -2.847656 -4.902344 -2.617188 -5.0625 C -2.382813 -5.222656 -2.09375 -5.300781 -1.75 -5.304688 C -1.410156 -5.300781 -1.09375 -5.203125 -0.800781 -5.011719 C -0.5 -4.8125 -0.269531 -4.53125 -0.109375 -4.160156 C 0.0546875 -3.789063 0.132813 -3.367188 0.136719 -2.902344 C 0.132813 -2.125 -0.0234375 -1.535156 -0.347656 -1.132813 C -0.667969 -0.722656 -1.148438 -0.464844 -1.78125 -0.355469 Z M -1.78125 -0.355469 \"/>\n",
       "</symbol>\n",
       "<symbol overflow=\"visible\" id=\"glyph2-3\">\n",
       "<path style=\"stroke:none;\" d=\"M -1.921875 -4.839844 L -1.792969 -5.882813 C -1.179688 -5.71875 -0.703125 -5.414063 -0.367188 -4.96875 C -0.03125 -4.523438 0.132813 -3.953125 0.136719 -3.261719 C 0.132813 -2.386719 -0.132813 -1.695313 -0.667969 -1.1875 C -1.207031 -0.675781 -1.960938 -0.421875 -2.929688 -0.421875 C -3.933594 -0.421875 -4.710938 -0.679688 -5.265625 -1.195313 C -5.816406 -1.710938 -6.09375 -2.378906 -6.097656 -3.207031 C -6.09375 -4 -5.820313 -4.652344 -5.28125 -5.160156 C -4.734375 -5.664063 -3.972656 -5.917969 -2.992188 -5.917969 C -2.929688 -5.917969 -2.839844 -5.914063 -2.722656 -5.914063 L -2.722656 -1.464844 C -2.066406 -1.503906 -1.566406 -1.6875 -1.21875 -2.019531 C -0.867188 -2.351563 -0.691406 -2.769531 -0.695313 -3.269531 C -0.691406 -3.636719 -0.789063 -3.949219 -0.988281 -4.214844 C -1.179688 -4.472656 -1.492188 -4.683594 -1.921875 -4.839844 Z M -3.554688 -1.523438 L -3.554688 -4.851563 C -4.054688 -4.804688 -4.429688 -4.675781 -4.683594 -4.46875 C -5.066406 -4.144531 -5.261719 -3.726563 -5.265625 -3.21875 C -5.261719 -2.75 -5.105469 -2.359375 -4.800781 -2.046875 C -4.488281 -1.726563 -4.074219 -1.554688 -3.554688 -1.523438 Z M -3.554688 -1.523438 \"/>\n",
       "</symbol>\n",
       "<symbol overflow=\"visible\" id=\"glyph3-0\">\n",
       "<path style=\"stroke:none;\" d=\"M 4.550781 0.335938 L 4.550781 -4.179688 C 3.539063 -3.414063 2.558594 -2.824219 1.609375 -2.40625 L 1.136719 -2.992188 C 3.300781 -3.902344 5.085938 -5.285156 6.492188 -7.144531 L 7.144531 -6.742188 C 6.625 -6.058594 6.023438 -5.417969 5.339844 -4.816406 L 5.339844 0.335938 Z M 4.550781 0.335938 \"/>\n",
       "</symbol>\n",
       "<symbol overflow=\"visible\" id=\"glyph3-1\">\n",
       "<path style=\"stroke:none;\" d=\"M 3.972656 -7.238281 L 4.71875 -7.238281 L 4.71875 -5.367188 L 7.628906 -5.367188 L 7.628906 -4.976563 C 7.628906 -2.945313 7.515625 -1.53125 7.292969 -0.726563 C 7.132813 -0.164063 6.78125 0.117188 6.242188 0.121094 C 5.746094 0.117188 5.238281 -0.00390625 4.71875 -0.25 L 4.691406 -1.0625 C 5.300781 -0.777344 5.769531 -0.636719 6.101563 -0.640625 C 6.375 -0.636719 6.546875 -0.792969 6.617188 -1.109375 C 6.761719 -1.796875 6.851563 -2.996094 6.882813 -4.699219 L 4.660156 -4.699219 C 4.480469 -2.441406 3.488281 -0.8125 1.683594 0.195313 L 1.117188 -0.382813 C 2.808594 -1.222656 3.742188 -2.652344 3.921875 -4.664063 L 1.332031 -4.664063 L 1.332031 -5.332031 L 3.972656 -5.332031 Z M 3.972656 -7.238281 \"/>\n",
       "</symbol>\n",
       "<symbol overflow=\"visible\" id=\"glyph3-2\">\n",
       "<path style=\"stroke:none;\" d=\"M 7.828125 -6.621094 L 8.351563 -6.101563 C 7.703125 -4.957031 6.867188 -3.984375 5.839844 -3.183594 L 5.300781 -3.699219 C 6.140625 -4.308594 6.835938 -5.058594 7.382813 -5.945313 L 1.234375 -5.832031 L 1.234375 -6.539063 Z M 1.765625 -0.371094 C 2.832031 -0.90625 3.511719 -1.601563 3.800781 -2.457031 C 3.972656 -2.945313 4.058594 -3.886719 4.0625 -5.273438 L 4.8125 -5.273438 C 4.800781 -3.675781 4.679688 -2.574219 4.445313 -1.972656 C 4.089844 -1.070313 3.378906 -0.339844 2.316406 0.222656 Z M 1.765625 -0.371094 \"/>\n",
       "</symbol>\n",
       "<symbol overflow=\"visible\" id=\"glyph3-3\">\n",
       "<path style=\"stroke:none;\" d=\"M 3.550781 -4.480469 C 2.941406 -5.03125 2.269531 -5.515625 1.535156 -5.933594 L 2.007813 -6.566406 C 2.664063 -6.246094 3.359375 -5.78125 4.089844 -5.171875 Z M 1.597656 -0.886719 C 4.390625 -1.363281 6.382813 -2.921875 7.578125 -5.5625 L 8.164063 -5.039063 C 6.992188 -2.445313 4.96875 -0.8125 2.085938 -0.148438 Z M 1.597656 -0.886719 \"/>\n",
       "</symbol>\n",
       "<symbol overflow=\"visible\" id=\"glyph3-4\">\n",
       "<path style=\"stroke:none;\" d=\"M 1.972656 -6.9375 L 2.734375 -6.9375 L 2.734375 -4.035156 C 4.351563 -4.398438 5.738281 -4.9375 6.898438 -5.652344 L 7.457031 -5.050781 C 6.011719 -4.277344 4.4375 -3.703125 2.734375 -3.335938 L 2.734375 -1.542969 C 2.730469 -1.230469 2.824219 -1.042969 3.011719 -0.972656 C 3.199219 -0.886719 3.726563 -0.84375 4.59375 -0.847656 C 5.570313 -0.84375 6.648438 -0.90625 7.835938 -1.039063 L 7.835938 -0.300781 C 6.734375 -0.191406 5.703125 -0.140625 4.742188 -0.140625 C 3.453125 -0.140625 2.667969 -0.234375 2.386719 -0.425781 C 2.105469 -0.601563 1.96875 -0.925781 1.972656 -1.402344 Z M 8.679688 -6.175781 C 8.324219 -6.699219 7.957031 -7.117188 7.578125 -7.4375 L 8.015625 -7.773438 C 8.386719 -7.472656 8.761719 -7.074219 9.140625 -6.574219 Z M 7.8125 -5.496094 C 7.523438 -5.96875 7.167969 -6.398438 6.742188 -6.789063 L 7.199219 -7.144531 C 7.554688 -6.839844 7.921875 -6.425781 8.296875 -5.894531 Z M 7.8125 -5.496094 \"/>\n",
       "</symbol>\n",
       "<symbol overflow=\"visible\" id=\"glyph3-5\">\n",
       "<path style=\"stroke:none;\" d=\"M 2.578125 -2.882813 C 2.363281 -3.542969 2.121094 -4.117188 1.851563 -4.613281 L 2.492188 -4.925781 C 2.796875 -4.414063 3.054688 -3.84375 3.265625 -3.210938 Z M 4.363281 -3.335938 C 4.175781 -3.992188 3.941406 -4.5625 3.664063 -5.039063 L 4.328125 -5.347656 C 4.628906 -4.847656 4.875 -4.285156 5.0625 -3.664063 Z M 2.800781 -0.539063 C 3.929688 -0.898438 4.800781 -1.476563 5.421875 -2.28125 C 5.945313 -2.949219 6.304688 -3.898438 6.492188 -5.121094 L 7.230469 -4.949219 C 6.996094 -3.5625 6.53125 -2.453125 5.835938 -1.625 C 5.242188 -0.914063 4.394531 -0.355469 3.292969 0.0625 Z M 2.800781 -0.539063 \"/>\n",
       "</symbol>\n",
       "<symbol overflow=\"visible\" id=\"glyph3-6\">\n",
       "<path style=\"stroke:none;\" d=\"M 0.816406 -4.464844 L 8.34375 -4.464844 L 8.34375 -3.796875 L 5.199219 -3.796875 C 5.15625 -2.734375 4.941406 -1.890625 4.554688 -1.265625 C 4.117188 -0.570313 3.40625 -0.0273438 2.414063 0.371094 L 1.90625 -0.226563 C 2.898438 -0.59375 3.578125 -1.082031 3.941406 -1.695313 C 4.21875 -2.152344 4.375 -2.855469 4.410156 -3.796875 L 0.816406 -3.796875 Z M 2.042969 -6.667969 L 7.179688 -6.667969 L 7.179688 -6 L 2.042969 -6 Z M 2.042969 -6.667969 \"/>\n",
       "</symbol>\n",
       "<symbol overflow=\"visible\" id=\"glyph3-7\">\n",
       "<path style=\"stroke:none;\" d=\"M 0.511719 -0.480469 C 1.4375 -1.121094 2.015625 -1.9375 2.242188 -2.9375 C 2.378906 -3.542969 2.449219 -4.695313 2.449219 -6.390625 L 3.203125 -6.390625 L 3.203125 -5.980469 C 3.199219 -4.179688 3.070313 -2.910156 2.8125 -2.167969 C 2.503906 -1.292969 1.925781 -0.554688 1.082031 0.0546875 Z M 4.539063 -6.78125 L 5.304688 -6.78125 L 5.304688 -1.117188 C 6.488281 -1.808594 7.46875 -2.761719 8.242188 -3.972656 L 8.71875 -3.308594 C 7.820313 -2.035156 6.617188 -0.960938 5.109375 -0.0898438 L 4.539063 -0.523438 Z M 4.539063 -6.78125 \"/>\n",
       "</symbol>\n",
       "<symbol overflow=\"visible\" id=\"glyph3-8\">\n",
       "<path style=\"stroke:none;\" d=\"M 4.320313 -7.199219 L 5.054688 -7.199219 L 5.054688 -5.476563 L 8.113281 -5.476563 L 8.113281 -4.816406 L 5.054688 -4.816406 L 5.054688 -0.539063 C 5.050781 -0.015625 4.742188 0.246094 4.132813 0.25 C 3.726563 0.246094 3.328125 0.210938 2.933594 0.140625 L 2.773438 -0.632813 C 3.148438 -0.53125 3.539063 -0.480469 3.945313 -0.484375 C 4.191406 -0.480469 4.316406 -0.605469 4.320313 -0.859375 L 4.320313 -4.816406 L 1.195313 -4.816406 L 1.195313 -5.476563 L 4.320313 -5.476563 Z M 0.875 -1.304688 C 1.242188 -1.660156 1.542969 -2.03125 1.777344 -2.421875 C 1.980469 -2.777344 2.164063 -3.203125 2.324219 -3.699219 L 2.980469 -3.40625 C 2.792969 -2.820313 2.570313 -2.316406 2.308594 -1.890625 C 2.097656 -1.546875 1.8125 -1.175781 1.453125 -0.773438 Z M 7.71875 -0.996094 C 7.265625 -1.949219 6.78125 -2.761719 6.261719 -3.433594 L 6.855469 -3.824219 C 7.386719 -3.203125 7.898438 -2.414063 8.390625 -1.460938 Z M 8.324219 -6.378906 C 7.972656 -6.898438 7.609375 -7.320313 7.230469 -7.640625 L 7.664063 -7.980469 C 8.035156 -7.675781 8.410156 -7.273438 8.792969 -6.78125 Z M 7.398438 -5.765625 C 7.113281 -6.242188 6.753906 -6.671875 6.324219 -7.058594 L 6.78125 -7.410156 C 7.136719 -7.109375 7.503906 -6.695313 7.878906 -6.167969 Z M 7.398438 -5.765625 \"/>\n",
       "</symbol>\n",
       "<symbol overflow=\"visible\" id=\"glyph3-9\">\n",
       "<path style=\"stroke:none;\" d=\"M 6.335938 -6.511719 L 6.851563 -6.027344 C 6.472656 -4.984375 5.957031 -4.015625 5.300781 -3.125 C 6.277344 -2.429688 7.25 -1.609375 8.222656 -0.660156 L 7.605469 -0.0273438 C 6.65625 -1.0625 5.742188 -1.914063 4.871094 -2.582031 C 3.917969 -1.4375 2.800781 -0.5625 1.515625 0.046875 L 0.949219 -0.585938 C 3.347656 -1.601563 5.015625 -3.34375 5.953125 -5.8125 L 1.804688 -5.757813 L 1.785156 -6.472656 Z M 6.335938 -6.511719 \"/>\n",
       "</symbol>\n",
       "<symbol overflow=\"visible\" id=\"glyph3-10\">\n",
       "<path style=\"stroke:none;\" d=\"M 6.929688 -6 L 7.421875 -5.636719 C 7.050781 -4.078125 6.449219 -2.796875 5.617188 -1.796875 C 4.878906 -0.914063 3.910156 -0.179688 2.707031 0.417969 L 2.167969 -0.175781 C 3.347656 -0.667969 4.308594 -1.363281 5.050781 -2.269531 C 5.785156 -3.167969 6.292969 -4.191406 6.574219 -5.332031 L 3.976563 -5.332031 C 3.28125 -4.285156 2.53125 -3.425781 1.730469 -2.757813 L 1.179688 -3.265625 C 2.484375 -4.320313 3.433594 -5.636719 4.019531 -7.207031 L 4.730469 -7.003906 C 4.667969 -6.796875 4.535156 -6.464844 4.324219 -6 Z M 8.730469 -6.425781 C 8.378906 -6.949219 8.011719 -7.371094 7.632813 -7.691406 L 8.074219 -8.023438 C 8.445313 -7.71875 8.816406 -7.320313 9.195313 -6.824219 Z M 7.871094 -5.75 C 7.585938 -6.21875 7.230469 -6.648438 6.796875 -7.039063 L 7.253906 -7.394531 C 7.613281 -7.097656 7.976563 -6.679688 8.351563 -6.148438 Z M 7.871094 -5.75 \"/>\n",
       "</symbol>\n",
       "<symbol overflow=\"visible\" id=\"glyph3-11\">\n",
       "<path style=\"stroke:none;\" d=\"M 5.894531 -0.0898438 L 5.003906 -0.0898438 L 4.269531 -2.046875 L 1.597656 -2.046875 L 0.875 -0.0898438 L -0.0078125 -0.0898438 L 2.625 -6.78125 L 3.28125 -6.78125 Z M 4.035156 -2.707031 L 3.363281 -4.472656 C 3.179688 -4.964844 3.039063 -5.414063 2.945313 -5.8125 L 2.917969 -5.8125 C 2.808594 -5.386719 2.664063 -4.9375 2.492188 -4.472656 L 1.835938 -2.707031 Z M 4.035156 -2.707031 \"/>\n",
       "</symbol>\n",
       "<symbol overflow=\"visible\" id=\"glyph3-12\">\n",
       "<path style=\"stroke:none;\" d=\"M 3.90625 -3.523438 C 4.996094 -3.328125 5.542969 -2.804688 5.542969 -1.945313 C 5.542969 -1.1875 5.167969 -0.644531 4.417969 -0.324219 C 4.058594 -0.164063 3.597656 -0.0859375 3.042969 -0.0898438 L 0.886719 -0.0898438 L 0.886719 -6.734375 L 2.785156 -6.734375 C 3.339844 -6.730469 3.800781 -6.667969 4.167969 -6.539063 C 4.914063 -6.269531 5.289063 -5.78125 5.292969 -5.074219 C 5.289063 -4.21875 4.828125 -3.710938 3.90625 -3.554688 Z M 1.683594 -3.859375 L 2.679688 -3.859375 C 3.855469 -3.855469 4.445313 -4.230469 4.449219 -4.984375 C 4.445313 -5.707031 3.875 -6.070313 2.734375 -6.074219 L 1.683594 -6.074219 Z M 1.683594 -0.757813 L 2.929688 -0.757813 C 4.097656 -0.753906 4.679688 -1.164063 4.683594 -1.988281 C 4.679688 -2.496094 4.390625 -2.851563 3.816406 -3.050781 C 3.472656 -3.167969 3.109375 -3.226563 2.726563 -3.230469 L 1.683594 -3.230469 Z M 1.683594 -0.757813 \"/>\n",
       "</symbol>\n",
       "</g>\n",
       "<clipPath id=\"clip1\">\n",
       "  <path d=\"M 0 0 L 289 0 L 289 289 L 0 289 Z M 0 0 \"/>\n",
       "</clipPath>\n",
       "<clipPath id=\"clip2\">\n",
       "  <path d=\"M 43.320313 5.480469 L 283.523438 5.480469 L 283.523438 257.125 L 43.320313 257.125 Z M 43.320313 5.480469 \"/>\n",
       "</clipPath>\n",
       "<clipPath id=\"clip3\">\n",
       "  <path d=\"M 288 0 L 577 0 L 577 289 L 288 289 Z M 288 0 \"/>\n",
       "</clipPath>\n",
       "<clipPath id=\"clip4\">\n",
       "  <path d=\"M 331.320313 5.480469 L 571.523438 5.480469 L 571.523438 257.125 L 331.320313 257.125 Z M 331.320313 5.480469 \"/>\n",
       "</clipPath>\n",
       "</defs>\n",
       "<g id=\"surface616\">\n",
       "<rect x=\"0\" y=\"0\" width=\"576\" height=\"288\" style=\"fill:rgb(100%,100%,100%);fill-opacity:1;stroke:none;\"/>\n",
       "<g clip-path=\"url(#clip1)\" clip-rule=\"nonzero\">\n",
       "<path style=\"fill-rule:nonzero;fill:rgb(100%,100%,100%);fill-opacity:1;stroke-width:1.422638;stroke-linecap:round;stroke-linejoin:round;stroke:rgb(100%,100%,100%);stroke-opacity:1;stroke-miterlimit:10;\" d=\"M 0 0 L 288 0 L 288 288 L 0 288 Z M 0 0 \"/>\n",
       "</g>\n",
       "<g clip-path=\"url(#clip2)\" clip-rule=\"nonzero\">\n",
       "<path style=\" stroke:none;fill-rule:nonzero;fill:rgb(92.156863%,92.156863%,92.156863%);fill-opacity:1;\" d=\"M 43.320313 5.480469 L 282.523438 5.480469 L 282.523438 256.125 L 43.320313 256.125 Z M 43.320313 5.480469 \"/>\n",
       "<path style=\"fill:none;stroke-width:0.711319;stroke-linecap:butt;stroke-linejoin:round;stroke:rgb(100%,100%,100%);stroke-opacity:1;stroke-miterlimit:10;\" d=\"M 43.320313 223.371094 L 282.519531 223.371094 \"/>\n",
       "<path style=\"fill:none;stroke-width:0.711319;stroke-linecap:butt;stroke-linejoin:round;stroke:rgb(100%,100%,100%);stroke-opacity:1;stroke-miterlimit:10;\" d=\"M 43.320313 152.164063 L 282.519531 152.164063 \"/>\n",
       "<path style=\"fill:none;stroke-width:0.711319;stroke-linecap:butt;stroke-linejoin:round;stroke:rgb(100%,100%,100%);stroke-opacity:1;stroke-miterlimit:10;\" d=\"M 43.320313 80.957031 L 282.519531 80.957031 \"/>\n",
       "<path style=\"fill:none;stroke-width:0.711319;stroke-linecap:butt;stroke-linejoin:round;stroke:rgb(100%,100%,100%);stroke-opacity:1;stroke-miterlimit:10;\" d=\"M 43.320313 9.75 L 282.519531 9.75 \"/>\n",
       "<path style=\"fill:none;stroke-width:1.422638;stroke-linecap:butt;stroke-linejoin:round;stroke:rgb(100%,100%,100%);stroke-opacity:1;stroke-miterlimit:10;\" d=\"M 43.320313 187.765625 L 282.519531 187.765625 \"/>\n",
       "<path style=\"fill:none;stroke-width:1.422638;stroke-linecap:butt;stroke-linejoin:round;stroke:rgb(100%,100%,100%);stroke-opacity:1;stroke-miterlimit:10;\" d=\"M 43.320313 116.5625 L 282.519531 116.5625 \"/>\n",
       "<path style=\"fill:none;stroke-width:1.422638;stroke-linecap:butt;stroke-linejoin:round;stroke:rgb(100%,100%,100%);stroke-opacity:1;stroke-miterlimit:10;\" d=\"M 43.320313 45.355469 L 282.519531 45.355469 \"/>\n",
       "<path style=\"fill:none;stroke-width:1.422638;stroke-linecap:butt;stroke-linejoin:round;stroke:rgb(100%,100%,100%);stroke-opacity:1;stroke-miterlimit:10;\" d=\"M 108.554688 256.125 L 108.554688 5.480469 \"/>\n",
       "<path style=\"fill:none;stroke-width:1.422638;stroke-linecap:butt;stroke-linejoin:round;stroke:rgb(100%,100%,100%);stroke-opacity:1;stroke-miterlimit:10;\" d=\"M 217.285156 256.125 L 217.285156 5.480469 \"/>\n",
       "<path style=\"fill:none;stroke-width:1.422638;stroke-linecap:butt;stroke-linejoin:round;stroke:rgb(0%,0%,0%);stroke-opacity:1;stroke-miterlimit:10;\" d=\"M 108.554688 216.25 L 217.285156 244.730469 \"/>\n",
       "<path style=\"fill:none;stroke-width:1.422638;stroke-linecap:butt;stroke-linejoin:round;stroke:rgb(0%,0%,0%);stroke-opacity:1;stroke-dasharray:2,2;stroke-miterlimit:10;\" d=\"M 108.554688 16.871094 L 217.285156 130.800781 \"/>\n",
       "<path style=\"fill:none;stroke-width:1.422638;stroke-linecap:butt;stroke-linejoin:round;stroke:rgb(0%,0%,0%);stroke-opacity:1;stroke-dasharray:4,2;stroke-miterlimit:10;\" d=\"M 108.554688 73.835938 L 217.285156 187.765625 \"/>\n",
       "</g>\n",
       "<g style=\"fill:rgb(30.196078%,30.196078%,30.196078%);fill-opacity:1;\">\n",
       "  <use xlink:href=\"#glyph0-0\" x=\"25.457031\" y=\"191.09375\"/>\n",
       "  <use xlink:href=\"#glyph0-1\" x=\"30.629248\" y=\"191.09375\"/>\n",
       "  <use xlink:href=\"#glyph0-2\" x=\"33.213086\" y=\"191.09375\"/>\n",
       "</g>\n",
       "<g style=\"fill:rgb(30.196078%,30.196078%,30.196078%);fill-opacity:1;\">\n",
       "  <use xlink:href=\"#glyph0-3\" x=\"25.457031\" y=\"119.890625\"/>\n",
       "  <use xlink:href=\"#glyph0-1\" x=\"30.629248\" y=\"119.890625\"/>\n",
       "  <use xlink:href=\"#glyph0-0\" x=\"33.213086\" y=\"119.890625\"/>\n",
       "</g>\n",
       "<g style=\"fill:rgb(30.196078%,30.196078%,30.196078%);fill-opacity:1;\">\n",
       "  <use xlink:href=\"#glyph0-4\" x=\"20.285156\" y=\"48.683594\"/>\n",
       "  <use xlink:href=\"#glyph0-2\" x=\"25.457373\" y=\"48.683594\"/>\n",
       "  <use xlink:href=\"#glyph0-1\" x=\"30.62959\" y=\"48.683594\"/>\n",
       "  <use xlink:href=\"#glyph0-2\" x=\"33.213428\" y=\"48.683594\"/>\n",
       "</g>\n",
       "<path style=\"fill:none;stroke-width:1.422638;stroke-linecap:butt;stroke-linejoin:round;stroke:rgb(20%,20%,20%);stroke-opacity:1;stroke-miterlimit:10;\" d=\"M 40.578125 187.765625 L 43.320313 187.765625 \"/>\n",
       "<path style=\"fill:none;stroke-width:1.422638;stroke-linecap:butt;stroke-linejoin:round;stroke:rgb(20%,20%,20%);stroke-opacity:1;stroke-miterlimit:10;\" d=\"M 40.578125 116.5625 L 43.320313 116.5625 \"/>\n",
       "<path style=\"fill:none;stroke-width:1.422638;stroke-linecap:butt;stroke-linejoin:round;stroke:rgb(20%,20%,20%);stroke-opacity:1;stroke-miterlimit:10;\" d=\"M 40.578125 45.355469 L 43.320313 45.355469 \"/>\n",
       "<path style=\"fill:none;stroke-width:1.422638;stroke-linecap:butt;stroke-linejoin:round;stroke:rgb(20%,20%,20%);stroke-opacity:1;stroke-miterlimit:10;\" d=\"M 108.554688 258.863281 L 108.554688 256.125 \"/>\n",
       "<path style=\"fill:none;stroke-width:1.422638;stroke-linecap:butt;stroke-linejoin:round;stroke:rgb(20%,20%,20%);stroke-opacity:1;stroke-miterlimit:10;\" d=\"M 217.285156 258.863281 L 217.285156 256.125 \"/>\n",
       "<g style=\"fill:rgb(30.196078%,30.196078%,30.196078%);fill-opacity:1;\">\n",
       "  <use xlink:href=\"#glyph0-5\" x=\"105.453125\" y=\"267.714844\"/>\n",
       "</g>\n",
       "<g style=\"fill:rgb(30.196078%,30.196078%,30.196078%);fill-opacity:1;\">\n",
       "  <use xlink:href=\"#glyph0-6\" x=\"214.183594\" y=\"267.714844\"/>\n",
       "</g>\n",
       "<g style=\"fill:rgb(0%,0%,0%);fill-opacity:1;\">\n",
       "  <use xlink:href=\"#glyph1-0\" x=\"139.902344\" y=\"280.328125\"/>\n",
       "  <use xlink:href=\"#glyph1-1\" x=\"145.652344\" y=\"280.328125\"/>\n",
       "  <use xlink:href=\"#glyph1-2\" x=\"152.048096\" y=\"280.328125\"/>\n",
       "  <use xlink:href=\"#glyph1-3\" x=\"158.443848\" y=\"280.328125\"/>\n",
       "  <use xlink:href=\"#glyph1-4\" x=\"164.8396\" y=\"280.328125\"/>\n",
       "  <use xlink:href=\"#glyph1-5\" x=\"167.394531\" y=\"280.328125\"/>\n",
       "  <use xlink:href=\"#glyph1-4\" x=\"170.5896\" y=\"280.328125\"/>\n",
       "  <use xlink:href=\"#glyph1-1\" x=\"173.144531\" y=\"280.328125\"/>\n",
       "  <use xlink:href=\"#glyph1-2\" x=\"179.540283\" y=\"280.328125\"/>\n",
       "</g>\n",
       "<g style=\"fill:rgb(0%,0%,0%);fill-opacity:1;\">\n",
       "  <use xlink:href=\"#glyph2-0\" x=\"15.902344\" y=\"143.265625\"/>\n",
       "  <use xlink:href=\"#glyph2-1\" x=\"15.902344\" y=\"140.070557\"/>\n",
       "  <use xlink:href=\"#glyph2-2\" x=\"15.902344\" y=\"133.674805\"/>\n",
       "  <use xlink:href=\"#glyph2-0\" x=\"15.902344\" y=\"127.924805\"/>\n",
       "  <use xlink:href=\"#glyph2-3\" x=\"15.902344\" y=\"124.729736\"/>\n",
       "</g>\n",
       "<path style=\" stroke:none;fill-rule:nonzero;fill:rgb(100%,100%,100%);fill-opacity:1;\" d=\"M 210.167969 6.246094 L 283.113281 6.246094 L 283.113281 79.910156 L 210.167969 79.910156 Z M 210.167969 6.246094 \"/>\n",
       "<g style=\"fill:rgb(0%,0%,0%);fill-opacity:1;\">\n",
       "  <use xlink:href=\"#glyph1-6\" x=\"214.421875\" y=\"19.113281\"/>\n",
       "  <use xlink:href=\"#glyph1-7\" x=\"222.726807\" y=\"19.113281\"/>\n",
       "  <use xlink:href=\"#glyph1-5\" x=\"229.122559\" y=\"19.113281\"/>\n",
       "  <use xlink:href=\"#glyph1-8\" x=\"232.317627\" y=\"19.113281\"/>\n",
       "  <use xlink:href=\"#glyph1-9\" x=\"238.713379\" y=\"19.113281\"/>\n",
       "</g>\n",
       "<path style=\"fill-rule:nonzero;fill:rgb(94.901961%,94.901961%,94.901961%);fill-opacity:1;stroke-width:1.422638;stroke-linecap:round;stroke-linejoin:round;stroke:rgb(100%,100%,100%);stroke-opacity:1;stroke-miterlimit:10;\" d=\"M 214.421875 23.816406 L 231.703125 23.816406 L 231.703125 41.097656 L 214.421875 41.097656 Z M 214.421875 23.816406 \"/>\n",
       "<path style=\"fill:none;stroke-width:1.422638;stroke-linecap:butt;stroke-linejoin:round;stroke:rgb(0%,0%,0%);stroke-opacity:1;stroke-miterlimit:10;\" d=\"M 216.148438 32.457031 L 229.972656 32.457031 \"/>\n",
       "<path style=\"fill-rule:nonzero;fill:rgb(94.901961%,94.901961%,94.901961%);fill-opacity:1;stroke-width:1.422638;stroke-linecap:round;stroke-linejoin:round;stroke:rgb(100%,100%,100%);stroke-opacity:1;stroke-miterlimit:10;\" d=\"M 214.421875 41.097656 L 231.703125 41.097656 L 231.703125 58.378906 L 214.421875 58.378906 Z M 214.421875 41.097656 \"/>\n",
       "<path style=\"fill:none;stroke-width:1.422638;stroke-linecap:butt;stroke-linejoin:round;stroke:rgb(0%,0%,0%);stroke-opacity:1;stroke-dasharray:2,2;stroke-miterlimit:10;\" d=\"M 216.148438 49.734375 L 229.972656 49.734375 \"/>\n",
       "<path style=\"fill-rule:nonzero;fill:rgb(94.901961%,94.901961%,94.901961%);fill-opacity:1;stroke-width:1.422638;stroke-linecap:round;stroke-linejoin:round;stroke:rgb(100%,100%,100%);stroke-opacity:1;stroke-miterlimit:10;\" d=\"M 214.421875 58.375 L 231.703125 58.375 L 231.703125 75.65625 L 214.421875 75.65625 Z M 214.421875 58.375 \"/>\n",
       "<path style=\"fill:none;stroke-width:1.422638;stroke-linecap:butt;stroke-linejoin:round;stroke:rgb(0%,0%,0%);stroke-opacity:1;stroke-dasharray:4,2;stroke-miterlimit:10;\" d=\"M 216.148438 67.015625 L 229.972656 67.015625 \"/>\n",
       "<g style=\"fill:rgb(0%,0%,0%);fill-opacity:1;\">\n",
       "  <use xlink:href=\"#glyph3-0\" x=\"233.859375\" y=\"35.824219\"/>\n",
       "  <use xlink:href=\"#glyph3-1\" x=\"243.159375\" y=\"35.824219\"/>\n",
       "  <use xlink:href=\"#glyph3-2\" x=\"252.459375\" y=\"35.824219\"/>\n",
       "  <use xlink:href=\"#glyph3-3\" x=\"261.759375\" y=\"35.824219\"/>\n",
       "</g>\n",
       "<g style=\"fill:rgb(0%,0%,0%);fill-opacity:1;\">\n",
       "  <use xlink:href=\"#glyph3-4\" x=\"233.859375\" y=\"53.101563\"/>\n",
       "  <use xlink:href=\"#glyph3-4\" x=\"243.159375\" y=\"53.101563\"/>\n",
       "  <use xlink:href=\"#glyph3-5\" x=\"252.459375\" y=\"53.101563\"/>\n",
       "  <use xlink:href=\"#glyph3-6\" x=\"261.759375\" y=\"53.101563\"/>\n",
       "  <use xlink:href=\"#glyph3-7\" x=\"271.059375\" y=\"53.101563\"/>\n",
       "</g>\n",
       "<g style=\"fill:rgb(0%,0%,0%);fill-opacity:1;\">\n",
       "  <use xlink:href=\"#glyph3-8\" x=\"233.859375\" y=\"70.382813\"/>\n",
       "  <use xlink:href=\"#glyph3-9\" x=\"243.159375\" y=\"70.382813\"/>\n",
       "  <use xlink:href=\"#glyph3-4\" x=\"252.459375\" y=\"70.382813\"/>\n",
       "  <use xlink:href=\"#glyph3-5\" x=\"261.759375\" y=\"70.382813\"/>\n",
       "  <use xlink:href=\"#glyph3-10\" x=\"271.059375\" y=\"70.382813\"/>\n",
       "</g>\n",
       "<g clip-path=\"url(#clip3)\" clip-rule=\"nonzero\">\n",
       "<path style=\"fill-rule:nonzero;fill:rgb(100%,100%,100%);fill-opacity:1;stroke-width:1.422638;stroke-linecap:round;stroke-linejoin:round;stroke:rgb(100%,100%,100%);stroke-opacity:1;stroke-miterlimit:10;\" d=\"M 288 0 L 576 0 L 576 288 L 288 288 Z M 288 0 \"/>\n",
       "</g>\n",
       "<g clip-path=\"url(#clip4)\" clip-rule=\"nonzero\">\n",
       "<path style=\" stroke:none;fill-rule:nonzero;fill:rgb(92.156863%,92.156863%,92.156863%);fill-opacity:1;\" d=\"M 331.320313 5.480469 L 570.523438 5.480469 L 570.523438 256.125 L 331.320313 256.125 Z M 331.320313 5.480469 \"/>\n",
       "<path style=\"fill:none;stroke-width:0.711319;stroke-linecap:butt;stroke-linejoin:round;stroke:rgb(100%,100%,100%);stroke-opacity:1;stroke-miterlimit:10;\" d=\"M 331.320313 223.371094 L 570.519531 223.371094 \"/>\n",
       "<path style=\"fill:none;stroke-width:0.711319;stroke-linecap:butt;stroke-linejoin:round;stroke:rgb(100%,100%,100%);stroke-opacity:1;stroke-miterlimit:10;\" d=\"M 331.320313 152.164063 L 570.519531 152.164063 \"/>\n",
       "<path style=\"fill:none;stroke-width:0.711319;stroke-linecap:butt;stroke-linejoin:round;stroke:rgb(100%,100%,100%);stroke-opacity:1;stroke-miterlimit:10;\" d=\"M 331.320313 80.957031 L 570.519531 80.957031 \"/>\n",
       "<path style=\"fill:none;stroke-width:0.711319;stroke-linecap:butt;stroke-linejoin:round;stroke:rgb(100%,100%,100%);stroke-opacity:1;stroke-miterlimit:10;\" d=\"M 331.320313 9.75 L 570.519531 9.75 \"/>\n",
       "<path style=\"fill:none;stroke-width:1.422638;stroke-linecap:butt;stroke-linejoin:round;stroke:rgb(100%,100%,100%);stroke-opacity:1;stroke-miterlimit:10;\" d=\"M 331.320313 187.765625 L 570.519531 187.765625 \"/>\n",
       "<path style=\"fill:none;stroke-width:1.422638;stroke-linecap:butt;stroke-linejoin:round;stroke:rgb(100%,100%,100%);stroke-opacity:1;stroke-miterlimit:10;\" d=\"M 331.320313 116.5625 L 570.519531 116.5625 \"/>\n",
       "<path style=\"fill:none;stroke-width:1.422638;stroke-linecap:butt;stroke-linejoin:round;stroke:rgb(100%,100%,100%);stroke-opacity:1;stroke-miterlimit:10;\" d=\"M 331.320313 45.355469 L 570.519531 45.355469 \"/>\n",
       "<path style=\"fill:none;stroke-width:1.422638;stroke-linecap:butt;stroke-linejoin:round;stroke:rgb(100%,100%,100%);stroke-opacity:1;stroke-miterlimit:10;\" d=\"M 376.167969 256.125 L 376.167969 5.480469 \"/>\n",
       "<path style=\"fill:none;stroke-width:1.422638;stroke-linecap:butt;stroke-linejoin:round;stroke:rgb(100%,100%,100%);stroke-opacity:1;stroke-miterlimit:10;\" d=\"M 450.917969 256.125 L 450.917969 5.480469 \"/>\n",
       "<path style=\"fill:none;stroke-width:1.422638;stroke-linecap:butt;stroke-linejoin:round;stroke:rgb(100%,100%,100%);stroke-opacity:1;stroke-miterlimit:10;\" d=\"M 525.671875 256.125 L 525.671875 5.480469 \"/>\n",
       "<path style=\"fill:none;stroke-width:1.422638;stroke-linecap:butt;stroke-linejoin:round;stroke:rgb(0%,0%,0%);stroke-opacity:1;stroke-miterlimit:10;\" d=\"M 376.167969 216.25 L 450.917969 16.871094 L 525.671875 73.835938 \"/>\n",
       "<path style=\"fill:none;stroke-width:1.422638;stroke-linecap:butt;stroke-linejoin:round;stroke:rgb(0%,0%,0%);stroke-opacity:1;stroke-dasharray:2,2;stroke-miterlimit:10;\" d=\"M 376.167969 244.730469 L 450.917969 130.800781 L 525.671875 187.765625 \"/>\n",
       "</g>\n",
       "<g style=\"fill:rgb(30.196078%,30.196078%,30.196078%);fill-opacity:1;\">\n",
       "  <use xlink:href=\"#glyph0-0\" x=\"313.457031\" y=\"191.09375\"/>\n",
       "  <use xlink:href=\"#glyph0-1\" x=\"318.629248\" y=\"191.09375\"/>\n",
       "  <use xlink:href=\"#glyph0-2\" x=\"321.213086\" y=\"191.09375\"/>\n",
       "</g>\n",
       "<g style=\"fill:rgb(30.196078%,30.196078%,30.196078%);fill-opacity:1;\">\n",
       "  <use xlink:href=\"#glyph0-3\" x=\"313.457031\" y=\"119.890625\"/>\n",
       "  <use xlink:href=\"#glyph0-1\" x=\"318.629248\" y=\"119.890625\"/>\n",
       "  <use xlink:href=\"#glyph0-0\" x=\"321.213086\" y=\"119.890625\"/>\n",
       "</g>\n",
       "<g style=\"fill:rgb(30.196078%,30.196078%,30.196078%);fill-opacity:1;\">\n",
       "  <use xlink:href=\"#glyph0-4\" x=\"308.285156\" y=\"48.683594\"/>\n",
       "  <use xlink:href=\"#glyph0-2\" x=\"313.457373\" y=\"48.683594\"/>\n",
       "  <use xlink:href=\"#glyph0-1\" x=\"318.62959\" y=\"48.683594\"/>\n",
       "  <use xlink:href=\"#glyph0-2\" x=\"321.213428\" y=\"48.683594\"/>\n",
       "</g>\n",
       "<path style=\"fill:none;stroke-width:1.422638;stroke-linecap:butt;stroke-linejoin:round;stroke:rgb(20%,20%,20%);stroke-opacity:1;stroke-miterlimit:10;\" d=\"M 328.578125 187.765625 L 331.320313 187.765625 \"/>\n",
       "<path style=\"fill:none;stroke-width:1.422638;stroke-linecap:butt;stroke-linejoin:round;stroke:rgb(20%,20%,20%);stroke-opacity:1;stroke-miterlimit:10;\" d=\"M 328.578125 116.5625 L 331.320313 116.5625 \"/>\n",
       "<path style=\"fill:none;stroke-width:1.422638;stroke-linecap:butt;stroke-linejoin:round;stroke:rgb(20%,20%,20%);stroke-opacity:1;stroke-miterlimit:10;\" d=\"M 328.578125 45.355469 L 331.320313 45.355469 \"/>\n",
       "<path style=\"fill:none;stroke-width:1.422638;stroke-linecap:butt;stroke-linejoin:round;stroke:rgb(20%,20%,20%);stroke-opacity:1;stroke-miterlimit:10;\" d=\"M 376.167969 258.863281 L 376.167969 256.125 \"/>\n",
       "<path style=\"fill:none;stroke-width:1.422638;stroke-linecap:butt;stroke-linejoin:round;stroke:rgb(20%,20%,20%);stroke-opacity:1;stroke-miterlimit:10;\" d=\"M 450.917969 258.863281 L 450.917969 256.125 \"/>\n",
       "<path style=\"fill:none;stroke-width:1.422638;stroke-linecap:butt;stroke-linejoin:round;stroke:rgb(20%,20%,20%);stroke-opacity:1;stroke-miterlimit:10;\" d=\"M 525.671875 258.863281 L 525.671875 256.125 \"/>\n",
       "<g style=\"fill:rgb(30.196078%,30.196078%,30.196078%);fill-opacity:1;\">\n",
       "  <use xlink:href=\"#glyph0-7\" x=\"362.21875\" y=\"267.714844\"/>\n",
       "  <use xlink:href=\"#glyph0-7\" x=\"369.19375\" y=\"267.714844\"/>\n",
       "  <use xlink:href=\"#glyph0-7\" x=\"376.16875\" y=\"267.714844\"/>\n",
       "  <use xlink:href=\"#glyph0-7\" x=\"383.14375\" y=\"267.714844\"/>\n",
       "</g>\n",
       "<g style=\"fill:rgb(30.196078%,30.196078%,30.196078%);fill-opacity:1;\">\n",
       "  <use xlink:href=\"#glyph0-7\" x=\"433.480469\" y=\"267.714844\"/>\n",
       "  <use xlink:href=\"#glyph0-7\" x=\"440.455469\" y=\"267.714844\"/>\n",
       "  <use xlink:href=\"#glyph0-7\" x=\"447.430469\" y=\"267.714844\"/>\n",
       "  <use xlink:href=\"#glyph0-7\" x=\"454.405469\" y=\"267.714844\"/>\n",
       "  <use xlink:href=\"#glyph0-7\" x=\"461.380469\" y=\"267.714844\"/>\n",
       "</g>\n",
       "<g style=\"fill:rgb(30.196078%,30.196078%,30.196078%);fill-opacity:1;\">\n",
       "  <use xlink:href=\"#glyph0-7\" x=\"508.234375\" y=\"267.714844\"/>\n",
       "  <use xlink:href=\"#glyph0-7\" x=\"515.209375\" y=\"267.714844\"/>\n",
       "  <use xlink:href=\"#glyph0-7\" x=\"522.184375\" y=\"267.714844\"/>\n",
       "  <use xlink:href=\"#glyph0-7\" x=\"529.159375\" y=\"267.714844\"/>\n",
       "  <use xlink:href=\"#glyph0-7\" x=\"536.134375\" y=\"267.714844\"/>\n",
       "</g>\n",
       "<g style=\"fill:rgb(0%,0%,0%);fill-opacity:1;\">\n",
       "  <use xlink:href=\"#glyph1-6\" x=\"436.855469\" y=\"280.328125\"/>\n",
       "  <use xlink:href=\"#glyph1-7\" x=\"445.1604\" y=\"280.328125\"/>\n",
       "  <use xlink:href=\"#glyph1-5\" x=\"451.556152\" y=\"280.328125\"/>\n",
       "  <use xlink:href=\"#glyph1-8\" x=\"454.751221\" y=\"280.328125\"/>\n",
       "  <use xlink:href=\"#glyph1-9\" x=\"461.146973\" y=\"280.328125\"/>\n",
       "</g>\n",
       "<g style=\"fill:rgb(0%,0%,0%);fill-opacity:1;\">\n",
       "  <use xlink:href=\"#glyph2-0\" x=\"303.902344\" y=\"143.265625\"/>\n",
       "  <use xlink:href=\"#glyph2-1\" x=\"303.902344\" y=\"140.070557\"/>\n",
       "  <use xlink:href=\"#glyph2-2\" x=\"303.902344\" y=\"133.674805\"/>\n",
       "  <use xlink:href=\"#glyph2-0\" x=\"303.902344\" y=\"127.924805\"/>\n",
       "  <use xlink:href=\"#glyph2-3\" x=\"303.902344\" y=\"124.729736\"/>\n",
       "</g>\n",
       "<path style=\" stroke:none;fill-rule:nonzero;fill:rgb(100%,100%,100%);fill-opacity:1;\" d=\"M 517.347656 2.351563 L 575.851563 2.351563 L 575.851563 58.734375 L 517.347656 58.734375 Z M 517.347656 2.351563 \"/>\n",
       "<g style=\"fill:rgb(0%,0%,0%);fill-opacity:1;\">\n",
       "  <use xlink:href=\"#glyph1-0\" x=\"521.601563\" y=\"15.21875\"/>\n",
       "  <use xlink:href=\"#glyph1-1\" x=\"527.351563\" y=\"15.21875\"/>\n",
       "  <use xlink:href=\"#glyph1-2\" x=\"533.747314\" y=\"15.21875\"/>\n",
       "  <use xlink:href=\"#glyph1-3\" x=\"540.143066\" y=\"15.21875\"/>\n",
       "  <use xlink:href=\"#glyph1-4\" x=\"546.538818\" y=\"15.21875\"/>\n",
       "  <use xlink:href=\"#glyph1-5\" x=\"549.09375\" y=\"15.21875\"/>\n",
       "  <use xlink:href=\"#glyph1-4\" x=\"552.288818\" y=\"15.21875\"/>\n",
       "  <use xlink:href=\"#glyph1-1\" x=\"554.84375\" y=\"15.21875\"/>\n",
       "  <use xlink:href=\"#glyph1-2\" x=\"561.239502\" y=\"15.21875\"/>\n",
       "</g>\n",
       "<path style=\"fill-rule:nonzero;fill:rgb(94.901961%,94.901961%,94.901961%);fill-opacity:1;stroke-width:1.422638;stroke-linecap:round;stroke-linejoin:round;stroke:rgb(100%,100%,100%);stroke-opacity:1;stroke-miterlimit:10;\" d=\"M 521.601563 19.925781 L 538.882813 19.925781 L 538.882813 37.207031 L 521.601563 37.207031 Z M 521.601563 19.925781 \"/>\n",
       "<path style=\"fill:none;stroke-width:1.422638;stroke-linecap:butt;stroke-linejoin:round;stroke:rgb(0%,0%,0%);stroke-opacity:1;stroke-miterlimit:10;\" d=\"M 523.328125 28.5625 L 537.152344 28.5625 \"/>\n",
       "<path style=\"fill-rule:nonzero;fill:rgb(94.901961%,94.901961%,94.901961%);fill-opacity:1;stroke-width:1.422638;stroke-linecap:round;stroke-linejoin:round;stroke:rgb(100%,100%,100%);stroke-opacity:1;stroke-miterlimit:10;\" d=\"M 521.601563 37.203125 L 538.882813 37.203125 L 538.882813 54.484375 L 521.601563 54.484375 Z M 521.601563 37.203125 \"/>\n",
       "<path style=\"fill:none;stroke-width:1.422638;stroke-linecap:butt;stroke-linejoin:round;stroke:rgb(0%,0%,0%);stroke-opacity:1;stroke-dasharray:2,2;stroke-miterlimit:10;\" d=\"M 523.328125 45.84375 L 537.152344 45.84375 \"/>\n",
       "<g style=\"fill:rgb(0%,0%,0%);fill-opacity:1;\">\n",
       "  <use xlink:href=\"#glyph3-11\" x=\"541.039063\" y=\"31.929688\"/>\n",
       "</g>\n",
       "<g style=\"fill:rgb(0%,0%,0%);fill-opacity:1;\">\n",
       "  <use xlink:href=\"#glyph3-12\" x=\"541.039063\" y=\"49.210938\"/>\n",
       "</g>\n",
       "</g>\n",
       "</svg>\n"
      ],
      "text/plain": [
       "plot without title"
      ]
     },
     "metadata": {
      "image/svg+xml": {
       "isolated": true
      }
     },
     "output_type": "display_data"
    }
   ],
   "source": [
    "Cairo(type = \"raster\")\n",
    "gp1 <- d3.long %>>% \n",
    "    ggplot(aes(x = condition, y = taste, group = water, linetype = water)) +\n",
    "        stat_summary(fun.y=mean, geom=\"line\") + \n",
    "        theme(legend.position = c(.85, .85), \n",
    "             legend.text = element_text(family=\"IPAexGothic\"))\n",
    "gp2 <- d3.long %>>% \n",
    "    ggplot(aes(x = water, y = taste, group = condition, linetype = condition)) +\n",
    "        stat_summary(fun.y=mean, geom=\"line\") +\n",
    "        theme(legend.position = c(.9, .9), \n",
    "             legend.text = element_text(family=\"IPAexGothic\"))\n",
    "grid.arrange(gp1, gp2, ncol = 2)\n",
    "dev.off()"
   ]
  },
  {
   "cell_type": "markdown",
   "metadata": {},
   "source": [
    "### 7.3.3 温度の違いのみに注目する（銘柄の違いを無視する）"
   ]
  },
  {
   "cell_type": "code",
   "execution_count": 69,
   "metadata": {
    "collapsed": false
   },
   "outputs": [
    {
     "data": {
      "text/plain": [
       "            Df Sum Sq Mean Sq F value Pr(>F)   \n",
       "condition    1   67.5   67.50   7.683 0.0098 **\n",
       "Residuals   28  246.0    8.79                  \n",
       "---\n",
       "Signif. codes:  0 '***' 0.001 '**' 0.01 '*' 0.05 '.' 0.1 ' ' 1"
      ]
     },
     "metadata": {},
     "output_type": "display_data"
    }
   ],
   "source": [
    "aov(taste ~ condition, data = d3.long) %>>% summary()"
   ]
  },
  {
   "cell_type": "markdown",
   "metadata": {},
   "source": [
    "* 残差平方和が大きくなる\n",
    "* 残差平方和は，二元配置の場合の銘柄，銘柄:温度の交互作用，残差 の和と一致"
   ]
  },
  {
   "cell_type": "code",
   "execution_count": 70,
   "metadata": {
    "collapsed": false
   },
   "outputs": [
    {
     "data": {
      "text/html": [
       "67.5"
      ],
      "text/latex": [
       "67.5"
      ],
      "text/markdown": [
       "67.5"
      ],
      "text/plain": [
       "[1] 67.5"
      ]
     },
     "metadata": {},
     "output_type": "display_data"
    }
   ],
   "source": [
    "d3.res[[1]]$`Sum Sq`[1]"
   ]
  },
  {
   "cell_type": "code",
   "execution_count": 71,
   "metadata": {
    "collapsed": false
   },
   "outputs": [
    {
     "data": {
      "text/html": [
       "246"
      ],
      "text/latex": [
       "246"
      ],
      "text/markdown": [
       "246"
      ],
      "text/plain": [
       "[1] 246"
      ]
     },
     "metadata": {},
     "output_type": "display_data"
    }
   ],
   "source": [
    "sum(d3.res[[1]]$`Sum Sq`[2:4])"
   ]
  },
  {
   "cell_type": "markdown",
   "metadata": {},
   "source": [
    "## 7.4 二元配置分散分析(2要因とも対応あり)"
   ]
  },
  {
   "cell_type": "code",
   "execution_count": 72,
   "metadata": {
    "collapsed": false
   },
   "outputs": [
    {
     "data": {
      "text/html": [
       "<table>\n",
       "<thead><tr><th></th><th scope=col>イカアン.A</th><th scope=col>ボスビッグ.A</th><th scope=col>ビビッテル.A</th><th scope=col>イカアン.B</th><th scope=col>ボスビッグ.B</th><th scope=col>ビビッテル.B</th><th scope=col>person</th></tr></thead>\n",
       "<tbody>\n",
       "\t<tr><th scope=row>1</th><td>6   </td><td>10  </td><td>11  </td><td>5   </td><td>7   </td><td>12  </td><td>村松</td></tr>\n",
       "\t<tr><th scope=row>2</th><td>4   </td><td>8   </td><td>12  </td><td>4   </td><td>6   </td><td>8   </td><td>川崎</td></tr>\n",
       "\t<tr><th scope=row>3</th><td>5   </td><td>10  </td><td>12  </td><td>2   </td><td>5   </td><td>5   </td><td>井口</td></tr>\n",
       "\t<tr><th scope=row>4</th><td>3   </td><td>8   </td><td>10  </td><td>2   </td><td>4   </td><td>6   </td><td>松中</td></tr>\n",
       "\t<tr><th scope=row>5</th><td>2   </td><td>9   </td><td>10  </td><td>2   </td><td>3   </td><td>4   </td><td>城島</td></tr>\n",
       "</tbody>\n",
       "</table>\n"
      ],
      "text/latex": [
       "\\begin{tabular}{r|lllllll}\n",
       "  & イカアン.A & ボスビッグ.A & ビビッテル.A & イカアン.B & ボスビッグ.B & ビビッテル.B & person\\\\\n",
       "\\hline\n",
       "\t1 & 6    & 10   & 11   & 5    & 7    & 12   & 村松\\\\\n",
       "\t2 & 4    & 8    & 12   & 4    & 6    & 8    & 川崎\\\\\n",
       "\t3 & 5    & 10   & 12   & 2    & 5    & 5    & 井口\\\\\n",
       "\t4 & 3    & 8    & 10   & 2    & 4    & 6    & 松中\\\\\n",
       "\t5 & 2    & 9    & 10   & 2    & 3    & 4    & 城島\\\\\n",
       "\\end{tabular}\n"
      ],
      "text/plain": [
       "  イカアン.A ボスビッグ.A ビビッテル.A イカアン.B ボスビッグ.B ビビッテル.B\n",
       "1          6           10           11          5            7           12\n",
       "2          4            8           12          4            6            8\n",
       "3          5           10           12          2            5            5\n",
       "4          3            8           10          2            4            6\n",
       "5          2            9           10          2            3            4\n",
       "  person\n",
       "1   村松\n",
       "2   川崎\n",
       "3   井口\n",
       "4   松中\n",
       "5   城島"
      ]
     },
     "metadata": {},
     "output_type": "display_data"
    }
   ],
   "source": [
    "d4 <- d3 %>>% mutate(person = c(\"村松\",\"川崎\",\"井口\",\"松中\",\"城島\"))\n",
    "d4"
   ]
  },
  {
   "cell_type": "code",
   "execution_count": 73,
   "metadata": {
    "collapsed": false
   },
   "outputs": [
    {
     "name": "stdout",
     "output_type": "stream",
     "text": [
      "Classes 'tbl_df', 'tbl' and 'data.frame':\t30 obs. of  4 variables:\n",
      " $ person   : chr  \"村松\" \"川崎\" \"井口\" \"松中\" ...\n",
      " $ water    : chr  \"イカアン\" \"イカアン\" \"イカアン\" \"イカアン\" ...\n",
      " $ condition: chr  \"A\" \"A\" \"A\" \"A\" ...\n",
      " $ taste    : int  6 4 5 3 2 10 8 10 8 9 ...\n"
     ]
    }
   ],
   "source": [
    "d4.long <- d4 %>>% \n",
    "    gather(key, taste, -person) %>>% \n",
    "    separate(key, into = c(\"water\", \"condition\"), sep = \"\\\\.\")\n",
    "str(d4.long)"
   ]
  },
  {
   "cell_type": "code",
   "execution_count": 74,
   "metadata": {
    "collapsed": false
   },
   "outputs": [
    {
     "data": {
      "text/plain": [
       "\n",
       "Error: person\n",
       "          Df Sum Sq Mean Sq F value Pr(>F)\n",
       "Residuals  4     45   11.25               \n",
       "\n",
       "Error: person:condition\n",
       "          Df Sum Sq Mean Sq F value Pr(>F)  \n",
       "condition  1   67.5   67.50      18 0.0132 *\n",
       "Residuals  4   15.0    3.75                 \n",
       "---\n",
       "Signif. codes:  0 '***' 0.001 '**' 0.01 '*' 0.05 '.' 0.1 ' ' 1\n",
       "\n",
       "Error: person:water\n",
       "          Df Sum Sq Mean Sq F value   Pr(>F)    \n",
       "water      2    155    77.5     155 4.01e-07 ***\n",
       "Residuals  8      4     0.5                     \n",
       "---\n",
       "Signif. codes:  0 '***' 0.001 '**' 0.01 '*' 0.05 '.' 0.1 ' ' 1\n",
       "\n",
       "Error: person:condition:water\n",
       "                Df Sum Sq Mean Sq F value Pr(>F)  \n",
       "condition:water  2     15     7.5       5  0.039 *\n",
       "Residuals        8     12     1.5                 \n",
       "---\n",
       "Signif. codes:  0 '***' 0.001 '**' 0.01 '*' 0.05 '.' 0.1 ' ' 1"
      ]
     },
     "metadata": {},
     "output_type": "display_data"
    }
   ],
   "source": [
    "aov(taste ~ condition*water + \n",
    "        Error(person + person:condition + person:water + person:condition:water), data = d4.long) %>>% \n",
    "    summary"
   ]
  },
  {
   "cell_type": "markdown",
   "metadata": {},
   "source": [
    "## 7.5 二元配置分散分析(1要因のみ対応あり)"
   ]
  },
  {
   "cell_type": "code",
   "execution_count": 75,
   "metadata": {
    "collapsed": false
   },
   "outputs": [
    {
     "name": "stdout",
     "output_type": "stream",
     "text": [
      "Observations: 30\n",
      "Variables: 4\n",
      "$ person    (chr) \"村松\", \"川崎\", \"井口\", \"松中\", \"城島\", \"村松\", \"川崎\", \"井口\", \"松中\", \"城島...\n",
      "$ water     (chr) \"イカアン\", \"イカアン\", \"イカアン\", \"イカアン\", \"イカアン\", \"ボスビッグ\", \"ボスビッグ\",...\n",
      "$ condition (chr) \"A\", \"A\", \"A\", \"A\", \"A\", \"A\", \"A\", \"A\", \"A\", \"A\", \"A\", \"A...\n",
      "$ taste     (int) 6, 4, 5, 3, 2, 10, 8, 10, 8, 9, 11, 12, 12, 10, 10, 5, 4,...\n"
     ]
    }
   ],
   "source": [
    "d5 <- c(\"A\", \"B\") %>>% \n",
    "    lapply(function(x){\n",
    "        switch(x, \n",
    "              \"A\" = {person <- c(\"村松\",\"川崎\",\"井口\",\"松中\",\"城島\")}, \n",
    "              \"B\" = {person <- c(\"斉藤\",\"和田\",\"寺原\",\"杉内\",\"新垣\")})\n",
    "        d3 %>>% \n",
    "            select(ends_with(x)) %>>% \n",
    "            mutate(person = person) %>>%\n",
    "            gather(key, taste, -person) %>>% \n",
    "            separate(key, into = c(\"water\", \"condition\"))\n",
    "    }) %>>% \n",
    "    bind_rows \n",
    "glimpse(d5)"
   ]
  },
  {
   "cell_type": "code",
   "execution_count": 76,
   "metadata": {
    "collapsed": false,
    "scrolled": true
   },
   "outputs": [
    {
     "name": "stderr",
     "output_type": "stream",
     "text": [
      "Warning message:\n",
      "In aov(taste ~ condition * water + Error(person:condition + person:condition:water), : Error() model is singular"
     ]
    },
    {
     "data": {
      "text/plain": [
       "\n",
       "Error: person:condition\n",
       "          Df Sum Sq Mean Sq F value Pr(>F)  \n",
       "condition  1   67.5    67.5       9 0.0171 *\n",
       "Residuals  8   60.0     7.5                 \n",
       "---\n",
       "Signif. codes:  0 '***' 0.001 '**' 0.01 '*' 0.05 '.' 0.1 ' ' 1\n",
       "\n",
       "Error: person:condition:water\n",
       "                Df Sum Sq Mean Sq F value   Pr(>F)    \n",
       "water            2    155    77.5    77.5 5.87e-09 ***\n",
       "condition:water  2     15     7.5     7.5  0.00504 ** \n",
       "Residuals       16     16     1.0                     \n",
       "---\n",
       "Signif. codes:  0 '***' 0.001 '**' 0.01 '*' 0.05 '.' 0.1 ' ' 1"
      ]
     },
     "metadata": {},
     "output_type": "display_data"
    }
   ],
   "source": [
    "aov(taste ~ condition * water + \n",
    "    Error(person:condition + person:condition:water), data = d5) %>>% summary"
   ]
  },
  {
   "cell_type": "code",
   "execution_count": 77,
   "metadata": {
    "collapsed": false,
    "scrolled": true
   },
   "outputs": [
    {
     "name": "stderr",
     "output_type": "stream",
     "text": [
      "Warning message:\n",
      "In aov(taste ~ condition * water + Error(person + person:condition + : Error() model is singular"
     ]
    },
    {
     "data": {
      "text/plain": [
       "\n",
       "Error: person\n",
       "          Df Sum Sq Mean Sq F value Pr(>F)  \n",
       "condition  1   67.5    67.5       9 0.0171 *\n",
       "Residuals  8   60.0     7.5                 \n",
       "---\n",
       "Signif. codes:  0 '***' 0.001 '**' 0.01 '*' 0.05 '.' 0.1 ' ' 1\n",
       "\n",
       "Error: person:water\n",
       "                Df Sum Sq Mean Sq F value   Pr(>F)    \n",
       "water            2    155    77.5    77.5 5.87e-09 ***\n",
       "condition:water  2     15     7.5     7.5  0.00504 ** \n",
       "Residuals       16     16     1.0                     \n",
       "---\n",
       "Signif. codes:  0 '***' 0.001 '**' 0.01 '*' 0.05 '.' 0.1 ' ' 1"
      ]
     },
     "metadata": {},
     "output_type": "display_data"
    }
   ],
   "source": [
    "aov(taste ~ condition * water + \n",
    "    Error(person + person:condition + person:water + person:condition:water), data = d5) %>>% summary"
   ]
  },
  {
   "cell_type": "code",
   "execution_count": 78,
   "metadata": {
    "collapsed": false,
    "scrolled": true
   },
   "outputs": [
    {
     "data": {
      "text/plain": [
       "\n",
       "Error: person\n",
       "          Df Sum Sq Mean Sq F value Pr(>F)  \n",
       "condition  1   67.5    67.5       9 0.0171 *\n",
       "Residuals  8   60.0     7.5                 \n",
       "---\n",
       "Signif. codes:  0 '***' 0.001 '**' 0.01 '*' 0.05 '.' 0.1 ' ' 1\n",
       "\n",
       "Error: Within\n",
       "                Df Sum Sq Mean Sq F value   Pr(>F)    \n",
       "water            2    155    77.5    77.5 5.87e-09 ***\n",
       "condition:water  2     15     7.5     7.5  0.00504 ** \n",
       "Residuals       16     16     1.0                     \n",
       "---\n",
       "Signif. codes:  0 '***' 0.001 '**' 0.01 '*' 0.05 '.' 0.1 ' ' 1"
      ]
     },
     "metadata": {},
     "output_type": "display_data"
    }
   ],
   "source": [
    "aov(taste ~ condition * water + \n",
    "    Error(person), data = d5) %>>% summary"
   ]
  },
  {
   "cell_type": "markdown",
   "metadata": {},
   "source": [
    "## 練習問題\n",
    "### (1)"
   ]
  },
  {
   "cell_type": "code",
   "execution_count": 79,
   "metadata": {
    "collapsed": false
   },
   "outputs": [
    {
     "data": {
      "text/html": [
       "<table>\n",
       "<thead><tr><th></th><th scope=col>X1</th><th scope=col>X2</th><th scope=col>X3</th><th scope=col>X4</th><th scope=col>X5</th><th scope=col>X6</th><th scope=col>X7</th><th scope=col>X8</th><th scope=col>X9</th></tr></thead>\n",
       "<tbody>\n",
       "\t<tr><th scope=row>1</th><td>法学部</td><td>75    </td><td>61    </td><td>68    </td><td>58    </td><td>66    </td><td>55    </td><td>65    </td><td>63    </td></tr>\n",
       "\t<tr><th scope=row>2</th><td>文学部</td><td>62    </td><td>60    </td><td>66    </td><td>63    </td><td>55    </td><td>53    </td><td>59    </td><td>63    </td></tr>\n",
       "\t<tr><th scope=row>3</th><td>理学部</td><td>65    </td><td>60    </td><td>78    </td><td>52    </td><td>59    </td><td>66    </td><td>73    </td><td>64    </td></tr>\n",
       "\t<tr><th scope=row>4</th><td>工学部</td><td>52    </td><td>59    </td><td>44    </td><td>67    </td><td>47    </td><td>53    </td><td>58    </td><td>49    </td></tr>\n",
       "</tbody>\n",
       "</table>\n"
      ],
      "text/latex": [
       "\\begin{tabular}{r|lllllllll}\n",
       "  & X1 & X2 & X3 & X4 & X5 & X6 & X7 & X8 & X9\\\\\n",
       "\\hline\n",
       "\t1 & 法学部 & 75     & 61     & 68     & 58     & 66     & 55     & 65     & 63    \\\\\n",
       "\t2 & 文学部 & 62     & 60     & 66     & 63     & 55     & 53     & 59     & 63    \\\\\n",
       "\t3 & 理学部 & 65     & 60     & 78     & 52     & 59     & 66     & 73     & 64    \\\\\n",
       "\t4 & 工学部 & 52     & 59     & 44     & 67     & 47     & 53     & 58     & 49    \\\\\n",
       "\\end{tabular}\n"
      ],
      "text/plain": [
       "      X1 X2 X3 X4 X5 X6 X7 X8 X9\n",
       "1 法学部 75 61 68 58 66 55 65 63\n",
       "2 文学部 62 60 66 63 55 53 59 63\n",
       "3 理学部 65 60 78 52 59 66 73 64\n",
       "4 工学部 52 59 44 67 47 53 58 49"
      ]
     },
     "metadata": {},
     "output_type": "display_data"
    }
   ],
   "source": [
    "d.ex1 <- read_csv(\"chap07_ex1.csv\", locale = locale(encoding = \"cp932\"), col_names = FALSE)\n",
    "d.ex1"
   ]
  },
  {
   "cell_type": "code",
   "execution_count": 80,
   "metadata": {
    "collapsed": false
   },
   "outputs": [
    {
     "data": {
      "text/plain": [
       "            Df Sum Sq Mean Sq F value Pr(>F)  \n",
       "fuculty      3  606.4  202.13   4.515 0.0105 *\n",
       "Residuals   28 1253.5   44.77                 \n",
       "---\n",
       "Signif. codes:  0 '***' 0.001 '**' 0.01 '*' 0.05 '.' 0.1 ' ' 1"
      ]
     },
     "metadata": {},
     "output_type": "display_data"
    }
   ],
   "source": [
    "d.ex1 %>>% \n",
    "    (function(x){\n",
    "        faculty <- x[[1]]\n",
    "        ret <- x[,-1] %>>% t %>>% data.frame\n",
    "        names(ret) <- faculty\n",
    "        ret\n",
    "    })() %>>%\n",
    "     gather(fuculty, point) %>>%\n",
    "    (~ d.ex1.long) %>>%\n",
    "     {aov(point ~ fuculty, data = .)} %>>%\n",
    "     summary"
   ]
  },
  {
   "cell_type": "code",
   "execution_count": 81,
   "metadata": {
    "collapsed": false
   },
   "outputs": [
    {
     "data": {
      "text/plain": [
       "  Tukey multiple comparisons of means\n",
       "    95% family-wise confidence level\n",
       "\n",
       "Fit: aov(formula = point ~ fuculty, data = d.ex1.long)\n",
       "\n",
       "$fuculty\n",
       "               diff       lwr       upr     p adj\n",
       "文学部-工学部  6.50 -2.634092 15.634092 0.2337032\n",
       "法学部-工学部 10.25  1.115908 19.384092 0.0233773\n",
       "理学部-工学部 11.00  1.865908 20.134092 0.0136621\n",
       "法学部-文学部  3.75 -5.384092 12.884092 0.6799312\n",
       "理学部-文学部  4.50 -4.634092 13.634092 0.5430095\n",
       "理学部-法学部  0.75 -8.384092  9.884092 0.9959313\n"
      ]
     },
     "metadata": {},
     "output_type": "display_data"
    }
   ],
   "source": [
    "aov(point ~ fuculty, data = d.ex1.long) %>>% TukeyHSD"
   ]
  },
  {
   "cell_type": "markdown",
   "metadata": {},
   "source": [
    "### （2）"
   ]
  },
  {
   "cell_type": "code",
   "execution_count": 82,
   "metadata": {
    "collapsed": false
   },
   "outputs": [
    {
     "data": {
      "text/html": [
       "<table>\n",
       "<thead><tr><th></th><th scope=col>X1</th><th scope=col>X2</th><th scope=col>X3</th><th scope=col>X4</th><th scope=col>X5</th><th scope=col>X6</th><th scope=col>X7</th><th scope=col>X8</th></tr></thead>\n",
       "<tbody>\n",
       "\t<tr><th scope=row>1</th><td>学生</td><td>森本</td><td>田中</td><td>稲葉</td><td>瀬木</td><td>高橋</td><td>工藤</td><td>金子</td></tr>\n",
       "\t<tr><th scope=row>2</th><td>講義</td><td>51  </td><td>66  </td><td>70  </td><td>75  </td><td>73  </td><td>62  </td><td>55  </td></tr>\n",
       "\t<tr><th scope=row>3</th><td>問題</td><td>47  </td><td>54  </td><td>55  </td><td>39  </td><td>60  </td><td>62  </td><td>56  </td></tr>\n",
       "\t<tr><th scope=row>4</th><td>実習</td><td>55  </td><td>37  </td><td>47  </td><td>60  </td><td>62  </td><td>53  </td><td>50  </td></tr>\n",
       "</tbody>\n",
       "</table>\n"
      ],
      "text/latex": [
       "\\begin{tabular}{r|llllllll}\n",
       "  & X1 & X2 & X3 & X4 & X5 & X6 & X7 & X8\\\\\n",
       "\\hline\n",
       "\t1 & 学生 & 森本 & 田中 & 稲葉 & 瀬木 & 高橋 & 工藤 & 金子\\\\\n",
       "\t2 & 講義 & 51   & 66   & 70   & 75   & 73   & 62   & 55  \\\\\n",
       "\t3 & 問題 & 47   & 54   & 55   & 39   & 60   & 62   & 56  \\\\\n",
       "\t4 & 実習 & 55   & 37   & 47   & 60   & 62   & 53   & 50  \\\\\n",
       "\\end{tabular}\n"
      ],
      "text/plain": [
       "    X1   X2   X3   X4   X5   X6   X7   X8\n",
       "1 学生 森本 田中 稲葉 瀬木 高橋 工藤 金子\n",
       "2 講義   51   66   70   75   73   62   55\n",
       "3 問題   47   54   55   39   60   62   56\n",
       "4 実習   55   37   47   60   62   53   50"
      ]
     },
     "metadata": {},
     "output_type": "display_data"
    }
   ],
   "source": [
    "d.ex2 <- read_csv(\"chap07_ex2.csv\", locale = locale(encoding = \"cp932\"), col_names = FALSE, col_types = \"cccccccc\")\n",
    "d.ex2"
   ]
  },
  {
   "cell_type": "code",
   "execution_count": 83,
   "metadata": {
    "collapsed": false
   },
   "outputs": [
    {
     "data": {
      "text/plain": [
       "            Df Sum Sq Mean Sq F value Pr(>F)  \n",
       "type         2  669.8   334.9   4.535 0.0341 *\n",
       "student      6  411.0    68.5   0.927 0.5093  \n",
       "Residuals   12  886.2    73.8                 \n",
       "---\n",
       "Signif. codes:  0 '***' 0.001 '**' 0.01 '*' 0.05 '.' 0.1 ' ' 1"
      ]
     },
     "metadata": {},
     "output_type": "display_data"
    }
   ],
   "source": [
    "d.ex2 %>>%\n",
    "    (function(x){\n",
    "        header <- enc2native(x[[1]]) # avoid UTF-8 Encoding on Windows\n",
    "        student <- x[1,] %>>% unlist\n",
    "        ret <- x[-1,-1] %>>% t %>>% apply(2, as.numeric) %>>% data.frame()\n",
    "        ret[[student[1]]] <- student[2:length(student)]\n",
    "        ret <- ret[c(4, 1:3)]\n",
    "        names(ret) <- header\n",
    "        ret\n",
    "    })() %>>% \n",
    "    gather(type, point, -学生) %>>% \n",
    "    rename(\"student\" = 学生) %>>%\n",
    "    (~ d.ex2.long) %>>% \n",
    "    {aov(point ~ type + student, data = .)} %>>%\n",
    "    summary"
   ]
  },
  {
   "cell_type": "code",
   "execution_count": 84,
   "metadata": {
    "collapsed": false
   },
   "outputs": [
    {
     "data": {
      "text/plain": [
       "  Tukey multiple comparisons of means\n",
       "    95% family-wise confidence level\n",
       "\n",
       "Fit: aov(formula = point ~ type + student, data = d.ex2.long)\n",
       "\n",
       "$type\n",
       "                diff       lwr        upr     p adj\n",
       "実習-講義 -12.571429 -24.82612 -0.3167331 0.0442785\n",
       "問題-講義 -11.285714 -23.54041  0.9689812 0.0721975\n",
       "問題-実習   1.285714 -10.96898 13.5404098 0.9578818\n",
       "\n",
       "$student\n",
       "                 diff       lwr      upr     p adj\n",
       "金子-稲葉  -3.6666667 -28.22404 20.89070 0.9979070\n",
       "工藤-稲葉   1.6666667 -22.89070 26.22404 0.9999774\n",
       "高橋-稲葉   7.6666667 -16.89070 32.22404 0.9187528\n",
       "森本-稲葉  -6.3333333 -30.89070 18.22404 0.9651589\n",
       "瀬木-稲葉   0.6666667 -23.89070 25.22404 0.9999999\n",
       "田中-稲葉  -5.0000000 -29.55737 19.55737 0.9890754\n",
       "工藤-金子   5.3333333 -19.22404 29.89070 0.9848506\n",
       "高橋-金子  11.3333333 -13.22404 35.89070 0.6766509\n",
       "森本-金子  -2.6666667 -27.22404 21.89070 0.9996513\n",
       "瀬木-金子   4.3333333 -20.22404 28.89070 0.9948269\n",
       "田中-金子  -1.3333333 -25.89070 23.22404 0.9999940\n",
       "高橋-工藤   6.0000000 -18.55737 30.55737 0.9730161\n",
       "森本-工藤  -8.0000000 -32.55737 16.55737 0.9032053\n",
       "瀬木-工藤  -1.0000000 -25.55737 23.55737 0.9999989\n",
       "田中-工藤  -6.6666667 -31.22404 17.89070 0.9558698\n",
       "森本-高橋 -14.0000000 -38.55737 10.55737 0.4633150\n",
       "瀬木-高橋  -7.0000000 -31.55737 17.55737 0.9450707\n",
       "田中-高橋 -12.6666667 -37.22404 11.89070 0.5682600\n",
       "瀬木-森本   7.0000000 -17.55737 31.55737 0.9450707\n",
       "田中-森本   1.3333333 -23.22404 25.89070 0.9999940\n",
       "田中-瀬木  -5.6666667 -30.22404 18.89070 0.9795409\n"
      ]
     },
     "metadata": {},
     "output_type": "display_data"
    }
   ],
   "source": [
    "aov(point ~ type + student, data = d.ex2.long) %>>% TukeyHSD"
   ]
  },
  {
   "cell_type": "code",
   "execution_count": 85,
   "metadata": {
    "collapsed": false
   },
   "outputs": [
    {
     "name": "stderr",
     "output_type": "stream",
     "text": [
      "Session info -------------------------------------------------------------------\n",
      "Packages -----------------------------------------------------------------------\n",
      "Session info -------------------------------------------------------------------\n",
      "Packages -----------------------------------------------------------------------\n"
     ]
    },
    {
     "data": {
      "text/plain": [
       " setting  value                       \n",
       " version  R version 3.3.0 (2016-05-03)\n",
       " system   x86_64, mingw32             \n",
       " ui       RTerm                       \n",
       " language (EN)                        \n",
       " collate  Japanese_Japan.932          \n",
       " tz       Asia/Tokyo                  \n",
       " date     2016-07-04                  \n",
       "\n",
       " package    * version    date       source                             \n",
       " assertthat   0.1        2013-12-06 CRAN (R 3.3.0)                     \n",
       " base64enc    0.1-3      2015-07-28 CRAN (R 3.3.0)                     \n",
       " Cairo      * 1.5-9      2015-09-26 CRAN (R 3.3.0)                     \n",
       " chron        2.3-47     2015-06-24 CRAN (R 3.3.1)                     \n",
       " colorspace   1.2-6      2015-03-11 CRAN (R 3.3.0)                     \n",
       " data.table   1.9.6      2015-09-19 CRAN (R 3.3.1)                     \n",
       " DBI          0.4-1      2016-05-08 CRAN (R 3.3.0)                     \n",
       " devtools     1.11.1     2016-04-21 CRAN (R 3.3.0)                     \n",
       " digest       0.6.9      2016-01-08 CRAN (R 3.3.0)                     \n",
       " dplyr      * 0.5.0      2016-06-24 CRAN (R 3.3.1)                     \n",
       " evaluate     0.9        2016-04-29 CRAN (R 3.3.0)                     \n",
       " ggplot2    * 2.1.0      2016-03-01 CRAN (R 3.3.0)                     \n",
       " gridExtra  * 2.2.1      2016-02-29 CRAN (R 3.3.1)                     \n",
       " gtable       0.2.0      2016-02-26 CRAN (R 3.3.0)                     \n",
       " IRdisplay    0.3.0.9000 2016-06-20 Github (IRkernel/IRdisplay@69fd5d8)\n",
       " IRkernel     0.6        2016-06-20 Github (IRkernel/IRkernel@735d4ff) \n",
       " jsonlite     0.9.22     2016-06-15 CRAN (R 3.3.0)                     \n",
       " labeling     0.3        2014-08-23 CRAN (R 3.3.0)                     \n",
       " lazyeval     0.2.0      2016-06-12 CRAN (R 3.3.0)                     \n",
       " magrittr     1.5        2014-11-22 CRAN (R 3.3.0)                     \n",
       " memoise      1.0.0      2016-01-29 CRAN (R 3.3.0)                     \n",
       " munsell      0.4.3      2016-02-13 CRAN (R 3.3.0)                     \n",
       " pbdZMQ       0.2-3      2016-05-20 CRAN (R 3.3.0)                     \n",
       " pipeR      * 0.6.1.3    2016-04-04 CRAN (R 3.3.0)                     \n",
       " plyr         1.8.4      2016-06-08 CRAN (R 3.3.0)                     \n",
       " purrr      * 0.2.2      2016-06-18 CRAN (R 3.3.1)                     \n",
       " R6           2.1.2      2016-01-26 CRAN (R 3.3.0)                     \n",
       " Rcpp         0.12.5     2016-05-14 CRAN (R 3.3.0)                     \n",
       " readr      * 0.2.2      2015-10-22 CRAN (R 3.3.0)                     \n",
       " readxl     * 0.1.1      2016-03-28 CRAN (R 3.3.0)                     \n",
       " repr         0.7        2016-05-13 CRAN (R 3.3.0)                     \n",
       " rlist      * 0.4.6.1    2016-04-04 CRAN (R 3.3.1)                     \n",
       " scales       0.4.0      2016-02-26 CRAN (R 3.3.0)                     \n",
       " stringi      1.1.1      2016-05-27 CRAN (R 3.3.0)                     \n",
       " stringr      1.0.0      2015-04-30 CRAN (R 3.3.0)                     \n",
       " tibble       1.0        2016-03-23 CRAN (R 3.3.0)                     \n",
       " tidyr      * 0.5.1      2016-06-14 CRAN (R 3.3.0)                     \n",
       " uuid         0.1-2      2015-07-28 CRAN (R 3.3.0)                     \n",
       " withr        1.0.1      2016-02-04 CRAN (R 3.3.0)                     "
      ]
     },
     "metadata": {},
     "output_type": "display_data"
    }
   ],
   "source": [
    "devtools::session_info()"
   ]
  }
 ],
 "metadata": {
  "kernelspec": {
   "display_name": "R",
   "language": "R",
   "name": "ir"
  },
  "language_info": {
   "codemirror_mode": "r",
   "file_extension": ".r",
   "mimetype": "text/x-r-source",
   "name": "R",
   "pygments_lexer": "r",
   "version": "3.3.0"
  }
 },
 "nbformat": 4,
 "nbformat_minor": 0
}
